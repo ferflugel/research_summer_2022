{
 "cells": [
  {
   "cell_type": "code",
   "execution_count": null,
   "outputs": [],
   "source": [
    "from functions import *\n",
    "from tqdm.notebook import tqdm\n",
    "\n",
    "noise = [i / 100 for i in range(0, 110, 10)]\n",
    "correlations = []\n",
    "\n",
    "for trial in tqdm(range(100)):\n",
    "    data = generate_hidden_factors(samples=600, seed=trial)\n",
    "    train, test = generate_observations(data)\n",
    "    results = run_experiment(train, test, noise, verbose=False)\n",
    "    correlations.append(get_correlations(results))"
   ],
   "metadata": {
    "collapsed": false,
    "pycharm": {
     "name": "#%%\n"
    }
   }
  },
  {
   "cell_type": "code",
   "execution_count": null,
   "outputs": [],
   "source": [
    "sns.set_style('white')\n",
    "\n",
    "for correlation in correlations:\n",
    "    sns.lineplot(x=noise, y=correlation, alpha=0.3, color=(0.6, 0.6, 1))\n",
    "mean_path = np.average(np.array(correlations), axis=0)\n",
    "sns.lineplot(x=noise, y=mean_path, color='k')\n",
    "\n",
    "sns.despine()\n",
    "plt.xlabel('Noise Magnitude'); plt.ylabel('Correlation')\n",
    "plt.savefig('results/multiple_trials_2.png', dpi=200)\n",
    "plt.show()"
   ],
   "metadata": {
    "collapsed": false,
    "pycharm": {
     "name": "#%%\n"
    }
   }
  },
  {
   "cell_type": "code",
   "execution_count": null,
   "outputs": [],
   "source": [],
   "metadata": {
    "collapsed": false,
    "pycharm": {
     "name": "#%%\n"
    }
   }
  }
 ],
 "metadata": {
  "kernelspec": {
   "display_name": "Python 3",
   "language": "python",
   "name": "python3"
  },
  "language_info": {
   "codemirror_mode": {
    "name": "ipython",
    "version": 2
   },
   "file_extension": ".py",
   "mimetype": "text/x-python",
   "name": "python",
   "nbconvert_exporter": "python",
   "pygments_lexer": "ipython2",
   "version": "2.7.6"
  }
 },
 "nbformat": 4,
 "nbformat_minor": 0
}