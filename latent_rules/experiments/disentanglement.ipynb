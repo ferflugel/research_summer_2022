{
 "cells": [
  {
   "cell_type": "code",
   "execution_count": 13,
   "outputs": [
    {
     "data": {
      "text/plain": "        h_0       h_1\n0  1.764052  0.309724\n1  0.400157 -0.737456\n2  0.978738 -1.536920\n3  2.240893 -0.562255\n4  1.867558 -1.599511",
      "text/html": "<div>\n<style scoped>\n    .dataframe tbody tr th:only-of-type {\n        vertical-align: middle;\n    }\n\n    .dataframe tbody tr th {\n        vertical-align: top;\n    }\n\n    .dataframe thead th {\n        text-align: right;\n    }\n</style>\n<table border=\"1\" class=\"dataframe\">\n  <thead>\n    <tr style=\"text-align: right;\">\n      <th></th>\n      <th>h_0</th>\n      <th>h_1</th>\n    </tr>\n  </thead>\n  <tbody>\n    <tr>\n      <th>0</th>\n      <td>1.764052</td>\n      <td>0.309724</td>\n    </tr>\n    <tr>\n      <th>1</th>\n      <td>0.400157</td>\n      <td>-0.737456</td>\n    </tr>\n    <tr>\n      <th>2</th>\n      <td>0.978738</td>\n      <td>-1.536920</td>\n    </tr>\n    <tr>\n      <th>3</th>\n      <td>2.240893</td>\n      <td>-0.562255</td>\n    </tr>\n    <tr>\n      <th>4</th>\n      <td>1.867558</td>\n      <td>-1.599511</td>\n    </tr>\n  </tbody>\n</table>\n</div>"
     },
     "execution_count": 13,
     "metadata": {},
     "output_type": "execute_result"
    }
   ],
   "source": [
    "import numpy as np\n",
    "import pandas as pd\n",
    "\n",
    "np.random.seed(0)\n",
    "\n",
    "# Generate Gaussian hidden factors and store in a dataframe\n",
    "hidden = np.random.normal(0, 1, size=(2, 5000))\n",
    "data = pd.DataFrame(hidden.T, columns=['h_0', 'h_1'])\n",
    "\n",
    "data.head()"
   ],
   "metadata": {
    "collapsed": false,
    "pycharm": {
     "name": "#%%\n"
    }
   }
  },
  {
   "cell_type": "code",
   "execution_count": 14,
   "outputs": [
    {
     "data": {
      "text/plain": "        h_0       h_1      x_00      x_01      x_10      x_11       x_20  \\\n0  1.764052  0.309724  2.073776  1.764052  2.073776  0.942954  20.737762   \n1  0.400157 -0.737456 -0.337299  0.400157 -0.337299  0.380083  -3.372990   \n2  0.978738 -1.536920 -0.558182  0.978738 -0.558182  0.752519  -5.581819   \n3  2.240893 -0.562255  1.678638  2.240893  1.678638  0.977627  16.786384   \n4  1.867558 -1.599511  0.268047  1.867558  0.268047  0.953372   2.680469   \n\n       x_21      x_30      x_31  \n0  1.000000  2.073776  1.764052  \n1  0.999331 -0.337299  0.400157  \n2  1.000000 -0.558182  0.978738  \n3  1.000000  1.678638  2.240893  \n4  1.000000  0.268047  1.867558  ",
      "text/html": "<div>\n<style scoped>\n    .dataframe tbody tr th:only-of-type {\n        vertical-align: middle;\n    }\n\n    .dataframe tbody tr th {\n        vertical-align: top;\n    }\n\n    .dataframe thead th {\n        text-align: right;\n    }\n</style>\n<table border=\"1\" class=\"dataframe\">\n  <thead>\n    <tr style=\"text-align: right;\">\n      <th></th>\n      <th>h_0</th>\n      <th>h_1</th>\n      <th>x_00</th>\n      <th>x_01</th>\n      <th>x_10</th>\n      <th>x_11</th>\n      <th>x_20</th>\n      <th>x_21</th>\n      <th>x_30</th>\n      <th>x_31</th>\n    </tr>\n  </thead>\n  <tbody>\n    <tr>\n      <th>0</th>\n      <td>1.764052</td>\n      <td>0.309724</td>\n      <td>2.073776</td>\n      <td>1.764052</td>\n      <td>2.073776</td>\n      <td>0.942954</td>\n      <td>20.737762</td>\n      <td>1.000000</td>\n      <td>2.073776</td>\n      <td>1.764052</td>\n    </tr>\n    <tr>\n      <th>1</th>\n      <td>0.400157</td>\n      <td>-0.737456</td>\n      <td>-0.337299</td>\n      <td>0.400157</td>\n      <td>-0.337299</td>\n      <td>0.380083</td>\n      <td>-3.372990</td>\n      <td>0.999331</td>\n      <td>-0.337299</td>\n      <td>0.400157</td>\n    </tr>\n    <tr>\n      <th>2</th>\n      <td>0.978738</td>\n      <td>-1.536920</td>\n      <td>-0.558182</td>\n      <td>0.978738</td>\n      <td>-0.558182</td>\n      <td>0.752519</td>\n      <td>-5.581819</td>\n      <td>1.000000</td>\n      <td>-0.558182</td>\n      <td>0.978738</td>\n    </tr>\n    <tr>\n      <th>3</th>\n      <td>2.240893</td>\n      <td>-0.562255</td>\n      <td>1.678638</td>\n      <td>2.240893</td>\n      <td>1.678638</td>\n      <td>0.977627</td>\n      <td>16.786384</td>\n      <td>1.000000</td>\n      <td>1.678638</td>\n      <td>2.240893</td>\n    </tr>\n    <tr>\n      <th>4</th>\n      <td>1.867558</td>\n      <td>-1.599511</td>\n      <td>0.268047</td>\n      <td>1.867558</td>\n      <td>0.268047</td>\n      <td>0.953372</td>\n      <td>2.680469</td>\n      <td>1.000000</td>\n      <td>0.268047</td>\n      <td>1.867558</td>\n    </tr>\n  </tbody>\n</table>\n</div>"
     },
     "execution_count": 14,
     "metadata": {},
     "output_type": "execute_result"
    }
   ],
   "source": [
    "# We now create linear combinations of h_0 and h_1 as our observations\n",
    "data['x_00'] = data['h_0'] + data['h_1']\n",
    "data['x_01'] = data['h_0']\n",
    "\n",
    "# A second set of observations has non-linearities\n",
    "data['x_10'] = data['h_0'] + data['h_1']\n",
    "data['x_11'] = np.tanh(data['h_0'])\n",
    "\n",
    "# A third set of observations also increases the magnitude of observations\n",
    "data['x_20'] = 10 * data['h_0'] + 10 * data['h_1']\n",
    "data['x_21'] = np.tanh(10 * data['h_0'])\n",
    "\n",
    "# A fourth set of observations changes the non-linearity to relu\n",
    "data['x_30'] = data['h_0'] + data['h_1']\n",
    "data['x_31'] = np.maximum(0, data['h_0'])\n",
    "\n",
    "data.head()"
   ],
   "metadata": {
    "collapsed": false,
    "pycharm": {
     "name": "#%%\n"
    }
   }
  },
  {
   "cell_type": "code",
   "execution_count": 15,
   "outputs": [
    {
     "data": {
      "text/plain": "[[0.48474679726528613],\n [0.43937641535105953],\n [0.3611143831513175],\n [0.13680550211115206]]"
     },
     "execution_count": 15,
     "metadata": {},
     "output_type": "execute_result"
    }
   ],
   "source": [
    "from sklearn.decomposition import PCA\n",
    "from representation_learning.metrics import mutual_information_gap\n",
    "\n",
    "# Get the disentanglement coefficients given a set of x variables\n",
    "def disentanglement_coefficients(df, x_variables):\n",
    "    coefficients = []\n",
    "    for method in [PCA]:\n",
    "        latent = create_latent_space(df, x_variables, method)\n",
    "        disentanglement = mutual_information_gap(latent, ['h_0', 'h_1'], ['z_0', 'z_1'])\n",
    "        coefficients.append(disentanglement)\n",
    "    return coefficients\n",
    "\n",
    "# Get latent representations for a given method\n",
    "def create_latent_space(df, x_variables, latent_method):\n",
    "    latent = latent_method(n_components=2, random_state=0).fit_transform(df[x_variables])\n",
    "    latent = pd.DataFrame(latent, columns=['z_0', 'z_1'])\n",
    "    latent = pd.concat([df, latent], axis=1)\n",
    "    return latent\n",
    "\n",
    "# We now create latent spaces for each set of observations\n",
    "results = []\n",
    "for i in range(4):\n",
    "    observations = [f'x_{i}0', f'x_{i}1']\n",
    "    results.append(disentanglement_coefficients(data, observations))\n",
    "\n",
    "results"
   ],
   "metadata": {
    "collapsed": false,
    "pycharm": {
     "name": "#%%\n"
    }
   }
  },
  {
   "cell_type": "code",
   "execution_count": 15,
   "outputs": [],
   "source": [],
   "metadata": {
    "collapsed": false,
    "pycharm": {
     "name": "#%%\n"
    }
   }
  }
 ],
 "metadata": {
  "kernelspec": {
   "display_name": "Python 3",
   "language": "python",
   "name": "python3"
  },
  "language_info": {
   "codemirror_mode": {
    "name": "ipython",
    "version": 2
   },
   "file_extension": ".py",
   "mimetype": "text/x-python",
   "name": "python",
   "nbconvert_exporter": "python",
   "pygments_lexer": "ipython2",
   "version": "2.7.6"
  }
 },
 "nbformat": 4,
 "nbformat_minor": 0
}