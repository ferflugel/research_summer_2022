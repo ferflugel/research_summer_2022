{
 "cells": [
  {
   "cell_type": "code",
   "execution_count": 1,
   "outputs": [
    {
     "name": "stdout",
     "output_type": "stream",
     "text": [
      "done\n"
     ]
    }
   ],
   "source": [
    "import pandas as pd\n",
    "\n",
    "with open('json_data/yelp_academic_dataset_business.json', encoding='utf-8') as json_file:\n",
    "    df = pd.read_json(json_file, lines=True)\n",
    "\n",
    "df.to_csv('csv_data/yelp_academic_dataset_business.csv', encoding='utf-8', index=False)\n",
    "\n",
    "print('done')"
   ],
   "metadata": {
    "collapsed": false,
    "pycharm": {
     "name": "#%%\n"
    }
   }
  },
  {
   "cell_type": "code",
   "execution_count": 2,
   "outputs": [
    {
     "name": "stdout",
     "output_type": "stream",
     "text": [
      "done\n"
     ]
    }
   ],
   "source": [
    "with open('json_data/yelp_academic_dataset_user.json', encoding='utf-8') as json_file:\n",
    "    df = pd.read_json(json_file, lines=True)\n",
    "\n",
    "df.to_csv('csv_data/yelp_academic_dataset_user.csv', encoding='utf-8', index=False)\n",
    "\n",
    "print('done')"
   ],
   "metadata": {
    "collapsed": false,
    "pycharm": {
     "name": "#%%\n"
    }
   }
  },
  {
   "cell_type": "code",
   "execution_count": 3,
   "outputs": [
    {
     "name": "stdout",
     "output_type": "stream",
     "text": [
      "done\n"
     ]
    }
   ],
   "source": [
    "with open('json_data/yelp_academic_dataset_review.json', encoding='utf-8') as json_file:\n",
    "    df = pd.read_json(json_file, lines=True)\n",
    "\n",
    "df.to_csv('csv_data/yelp_academic_dataset_review.csv', encoding='utf-8', index=False)\n",
    "\n",
    "print('done')"
   ],
   "metadata": {
    "collapsed": false,
    "pycharm": {
     "name": "#%%\n"
    }
   }
  }
 ],
 "metadata": {
  "kernelspec": {
   "display_name": "Python 3",
   "language": "python",
   "name": "python3"
  },
  "language_info": {
   "codemirror_mode": {
    "name": "ipython",
    "version": 2
   },
   "file_extension": ".py",
   "mimetype": "text/x-python",
   "name": "python",
   "nbconvert_exporter": "python",
   "pygments_lexer": "ipython2",
   "version": "2.7.6"
  }
 },
 "nbformat": 4,
 "nbformat_minor": 0
}