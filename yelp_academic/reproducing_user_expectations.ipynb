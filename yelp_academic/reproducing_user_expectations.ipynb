{
 "cells": [
  {
   "cell_type": "code",
   "execution_count": null,
   "outputs": [],
   "source": [
    "import pandas as pd\n",
    "\n",
    "# get data with reviews (already containing only the 10,000 most active users and price score)\n",
    "reviews = pd.read_csv('processed_data/reviews_price_score.csv')"
   ],
   "metadata": {
    "collapsed": false,
    "pycharm": {
     "name": "#%%\n",
     "is_executing": true
    }
   }
  },
  {
   "cell_type": "code",
   "execution_count": null,
   "outputs": [],
   "source": [
    "# get distribution of stars rating\n",
    "stars_data = reviews.groupby('stars').count()\n",
    "stars_data['review_id'] = stars_data['review_id'] / reviews.shape[0]\n",
    "\n",
    "# check percentages\n",
    "stars_data"
   ],
   "metadata": {
    "collapsed": false,
    "pycharm": {
     "name": "#%%\n",
     "is_executing": true
    }
   }
  },
  {
   "cell_type": "code",
   "execution_count": null,
   "outputs": [],
   "source": [
    "import random\n",
    "from tqdm.notebook import tqdm\n",
    "\n",
    "# important for reproducible results\n",
    "random.seed(0)\n",
    "\n",
    "# naive simulator\n",
    "sample_list = 35 * [5] + 35 * [4] + 17 * [3] + 8 * [2] + 5 * [1]\n",
    "naive_ratings = []\n",
    "for i in tqdm(range(reviews.shape[0])):\n",
    "    naive_ratings.append(random.choice(sample_list))\n",
    "\n",
    "# add column to the review df\n",
    "reviews['naive_rating'] = naive_ratings\n",
    "\n",
    "# check if new column works\n",
    "reviews"
   ],
   "metadata": {
    "collapsed": false,
    "pycharm": {
     "name": "#%%\n",
     "is_executing": true
    }
   }
  },
  {
   "cell_type": "code",
   "execution_count": null,
   "outputs": [],
   "source": [
    "import seaborn as sns\n",
    "import matplotlib.pyplot as plt\n",
    "\n",
    "ids = reviews.groupby('user_id').count().reset_index()['user_id'].tolist()\n",
    "sns.set_style('white')\n",
    "\n",
    "def plot_expectation_distribution(reviews_df, user_ids, ratings_column, saving_path='none'):\n",
    "    user_expectations = create_expectation_dataframe(reviews_df, user_ids, ratings_column)\n",
    "    sns.histplot(data=user_expectations, x='expectation', color=[0.6, 0.6, 1.0], fill=True)\n",
    "    if saving_path != 'none':\n",
    "        plt.savefig(saving_path, dpi=200)\n",
    "        print('saved')\n",
    "    plt.show()\n",
    "\n",
    "def create_expectation_dataframe(reviews_df, user_ids, ratings_column):\n",
    "\n",
    "    user_expectation = {}\n",
    "    for user in tqdm(user_ids):\n",
    "        user_reviews = reviews_df[reviews_df['user_id'] == user]\n",
    "        user_expectation[user] = user_reviews[['price_score', ratings_column]].corr().iloc[0, 1]\n",
    "\n",
    "    user_expectations = pd.DataFrame.from_dict(user_expectation, orient='index').reset_index()\n",
    "    user_expectations = user_expectations.rename(columns={\"index\": \"user_id\", 0: \"correlation\"})\n",
    "    user_expectations['expectation'] = 0.5 * (1 - user_expectations['correlation'])\n",
    "\n",
    "    return user_expectations"
   ],
   "metadata": {
    "collapsed": false,
    "pycharm": {
     "name": "#%%\n",
     "is_executing": true
    }
   }
  },
  {
   "cell_type": "code",
   "execution_count": null,
   "outputs": [],
   "source": [
    "# generate plot for naive ratings\n",
    "plot_expectation_distribution(reviews, ids, 'naive_rating', 'figures/naive_user_expectations.png')"
   ],
   "metadata": {
    "collapsed": false,
    "pycharm": {
     "name": "#%%\n",
     "is_executing": true
    }
   }
  },
  {
   "cell_type": "code",
   "execution_count": null,
   "outputs": [],
   "source": [
    "traditional_expectations = create_expectation_dataframe(reviews, ids, 'stars')\n",
    "naive_expectations = create_expectation_dataframe(reviews, ids, 'naive_rating')"
   ],
   "metadata": {
    "collapsed": false,
    "pycharm": {
     "name": "#%%\n",
     "is_executing": true
    }
   }
  },
  {
   "cell_type": "code",
   "execution_count": null,
   "outputs": [],
   "source": [],
   "metadata": {
    "collapsed": false,
    "pycharm": {
     "name": "#%%\n",
     "is_executing": true
    }
   }
  }
 ],
 "metadata": {
  "kernelspec": {
   "display_name": "Python 3",
   "language": "python",
   "name": "python3"
  },
  "language_info": {
   "codemirror_mode": {
    "name": "ipython",
    "version": 2
   },
   "file_extension": ".py",
   "mimetype": "text/x-python",
   "name": "python",
   "nbconvert_exporter": "python",
   "pygments_lexer": "ipython2",
   "version": "2.7.6"
  }
 },
 "nbformat": 4,
 "nbformat_minor": 0
}