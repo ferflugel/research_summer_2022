{
 "cells": [
  {
   "cell_type": "code",
   "execution_count": 32,
   "outputs": [],
   "source": [
    "import pandas as pd\n",
    "\n",
    "# get data with reviews (already containing only the 10,000 most active users and price score)\n",
    "reviews = pd.read_csv('processed_data/reviews_price_score.csv')"
   ],
   "metadata": {
    "collapsed": false,
    "pycharm": {
     "name": "#%%\n"
    }
   }
  },
  {
   "cell_type": "code",
   "execution_count": 33,
   "outputs": [
    {
     "data": {
      "text/plain": "       review_id  user_id  business_id  useful   funny    cool    text  \\\nstars                                                                    \n1.0     0.053227    67174        67174   67174   67174   67174   67174   \n2.0     0.076483    96524        96524   96524   96524   96524   96524   \n3.0     0.171767   216776       216776  216776  216776  216776  216776   \n4.0     0.348316   439588       439588  439588  439588  439588  439588   \n5.0     0.350208   441976       441976  441976  441976  441976  441976   \n\n         date  price_score  \nstars                       \n1.0     67174        67174  \n2.0     96524        96524  \n3.0    216776       216776  \n4.0    439588       439588  \n5.0    441975       441976  ",
      "text/html": "<div>\n<style scoped>\n    .dataframe tbody tr th:only-of-type {\n        vertical-align: middle;\n    }\n\n    .dataframe tbody tr th {\n        vertical-align: top;\n    }\n\n    .dataframe thead th {\n        text-align: right;\n    }\n</style>\n<table border=\"1\" class=\"dataframe\">\n  <thead>\n    <tr style=\"text-align: right;\">\n      <th></th>\n      <th>review_id</th>\n      <th>user_id</th>\n      <th>business_id</th>\n      <th>useful</th>\n      <th>funny</th>\n      <th>cool</th>\n      <th>text</th>\n      <th>date</th>\n      <th>price_score</th>\n    </tr>\n    <tr>\n      <th>stars</th>\n      <th></th>\n      <th></th>\n      <th></th>\n      <th></th>\n      <th></th>\n      <th></th>\n      <th></th>\n      <th></th>\n      <th></th>\n    </tr>\n  </thead>\n  <tbody>\n    <tr>\n      <th>1.0</th>\n      <td>0.053227</td>\n      <td>67174</td>\n      <td>67174</td>\n      <td>67174</td>\n      <td>67174</td>\n      <td>67174</td>\n      <td>67174</td>\n      <td>67174</td>\n      <td>67174</td>\n    </tr>\n    <tr>\n      <th>2.0</th>\n      <td>0.076483</td>\n      <td>96524</td>\n      <td>96524</td>\n      <td>96524</td>\n      <td>96524</td>\n      <td>96524</td>\n      <td>96524</td>\n      <td>96524</td>\n      <td>96524</td>\n    </tr>\n    <tr>\n      <th>3.0</th>\n      <td>0.171767</td>\n      <td>216776</td>\n      <td>216776</td>\n      <td>216776</td>\n      <td>216776</td>\n      <td>216776</td>\n      <td>216776</td>\n      <td>216776</td>\n      <td>216776</td>\n    </tr>\n    <tr>\n      <th>4.0</th>\n      <td>0.348316</td>\n      <td>439588</td>\n      <td>439588</td>\n      <td>439588</td>\n      <td>439588</td>\n      <td>439588</td>\n      <td>439588</td>\n      <td>439588</td>\n      <td>439588</td>\n    </tr>\n    <tr>\n      <th>5.0</th>\n      <td>0.350208</td>\n      <td>441976</td>\n      <td>441976</td>\n      <td>441976</td>\n      <td>441976</td>\n      <td>441976</td>\n      <td>441976</td>\n      <td>441975</td>\n      <td>441976</td>\n    </tr>\n  </tbody>\n</table>\n</div>"
     },
     "execution_count": 33,
     "metadata": {},
     "output_type": "execute_result"
    }
   ],
   "source": [
    "# get distribution of stars rating\n",
    "stars_data = reviews.groupby('stars').count()\n",
    "stars_data['review_id'] = stars_data['review_id'] / reviews.shape[0]\n",
    "\n",
    "# check percentages\n",
    "stars_data"
   ],
   "metadata": {
    "collapsed": false,
    "pycharm": {
     "name": "#%%\n"
    }
   }
  },
  {
   "cell_type": "code",
   "execution_count": 34,
   "outputs": [
    {
     "data": {
      "text/plain": "  0%|          | 0/1262038 [00:00<?, ?it/s]",
      "application/vnd.jupyter.widget-view+json": {
       "version_major": 2,
       "version_minor": 0,
       "model_id": "6695cf4eb2cc41e488cbb3da1069a856"
      }
     },
     "metadata": {},
     "output_type": "display_data"
    },
    {
     "data": {
      "text/plain": "                      review_id                 user_id  \\\n0        Sx8TMOWLNuJBWer-0pcmoA  bcjbaE6dDog4jkNY91ncLQ   \n1        8JFGBuHMoiNDyfcxuWNtrA  smOvOajNG0lS4Pq7d8g4JQ   \n2        LnGZB0fjfgeVDVz5IHuEVA  j2wlzrntrbKwyOcOiB3l3w   \n3        Xs8Z8lmKkosqW5mw_sVAoA  IQsF3Rc6IgCzjVV9DE8KXg   \n4        lUUhg8ltDsUZ9h0xnwY4Dg  RreNy--tOmXMl1en0wiBOg   \n...                         ...                     ...   \n1262033  YVX1Wsa4LYxjvFwuHBb_gA  RKPkxOYQlM0BjhM-H6_vAw   \n1262034  H0RIamZu0B0Ei0P4aeh3sQ  qskILQ3k0I_qcCMI-k6_QQ   \n1262035  YNfNhgZlaaCO5Q_YJR4rEw  mm6E4FbCMwJmb7kPDZ5v2Q   \n1262036  i-I4ZOhoX70Nw5H0FwrQUA  YwAMC-jvZ1fvEUum6QkEkw   \n1262037  RwcKOdEuLRHNJe4M9-qpqg  6JehEvdoCvZPJ_XIxnzIIw   \n\n                    business_id  stars  useful  funny  cool  \\\n0        e4Vwtrqf-wpJfwesgvdgxQ    4.0     1.0    0.0   1.0   \n1        RZtGWDLCAtuipwaZ-UfjmQ    4.0     0.0    0.0   0.0   \n2        rBdG_23USc7DletfZ11xGA    4.0     1.0    0.0   0.0   \n3        eFvzHawVJofxSnD7TgbZtg    5.0     0.0    0.0   0.0   \n4        cPepkJeRMtHapc_b2Oe_dw    4.0     1.0    0.0   1.0   \n...                         ...    ...     ...    ...   ...   \n1262033  X4mouE_cMiwbfyCPZ_K-FA    4.0     3.0    0.0   2.0   \n1262034  jals67o91gcrD4DC81Vk6w    5.0     1.0    2.0   1.0   \n1262035  R1khUUxidqfaJmcpmGd4aw    4.0     1.0    0.0   0.0   \n1262036  Rr9kKArrMhSLVE9a53q-aA    5.0     1.0    0.0   0.0   \n1262037  VAeEXLbEcI9Emt9KGYq9aA    3.0    10.0    3.0   7.0   \n\n                                                      text  \\\n0        Cute interior and owner (?) gave us tour of up...   \n1        Good food--loved the gnocchi with marinara\\nth...   \n2        The hubby and I have been here on multiple occ...   \n3        My absolute favorite cafe in the city. Their b...   \n4        I was really between 3 and 4 stars for this on...   \n...                                                    ...   \n1262033  Good, maybe very good.  I went for lunch, so t...   \n1262034  Latest addition to services from ICCU is Apple...   \n1262035  This Home Depot won me over when I needed to g...   \n1262036  For when I'm feeling like ignoring my calorie-...   \n1262037  Located in the 'Walking District' in Nashville...   \n\n                        date  price_score  naive_rating  \n0        2017-01-14 20:54:15     1.263071             4  \n1        2009-10-14 19:57:14     2.497299             1  \n2        2014-08-10 19:41:43     2.750729             4  \n3        2014-11-12 15:30:27     1.229286             5  \n4        2018-07-17 03:30:07     1.904357             5  \n...                      ...          ...           ...  \n1262033  2015-01-23 23:52:03     2.093681             4  \n1262034  2014-12-17 21:45:20     2.549610             4  \n1262035  2019-12-30 03:56:30     2.534315             5  \n1262036  2022-01-19 18:59:27     2.042872             5  \n1262037  2018-01-02 22:50:47     1.575570             3  \n\n[1262038 rows x 11 columns]",
      "text/html": "<div>\n<style scoped>\n    .dataframe tbody tr th:only-of-type {\n        vertical-align: middle;\n    }\n\n    .dataframe tbody tr th {\n        vertical-align: top;\n    }\n\n    .dataframe thead th {\n        text-align: right;\n    }\n</style>\n<table border=\"1\" class=\"dataframe\">\n  <thead>\n    <tr style=\"text-align: right;\">\n      <th></th>\n      <th>review_id</th>\n      <th>user_id</th>\n      <th>business_id</th>\n      <th>stars</th>\n      <th>useful</th>\n      <th>funny</th>\n      <th>cool</th>\n      <th>text</th>\n      <th>date</th>\n      <th>price_score</th>\n      <th>naive_rating</th>\n    </tr>\n  </thead>\n  <tbody>\n    <tr>\n      <th>0</th>\n      <td>Sx8TMOWLNuJBWer-0pcmoA</td>\n      <td>bcjbaE6dDog4jkNY91ncLQ</td>\n      <td>e4Vwtrqf-wpJfwesgvdgxQ</td>\n      <td>4.0</td>\n      <td>1.0</td>\n      <td>0.0</td>\n      <td>1.0</td>\n      <td>Cute interior and owner (?) gave us tour of up...</td>\n      <td>2017-01-14 20:54:15</td>\n      <td>1.263071</td>\n      <td>4</td>\n    </tr>\n    <tr>\n      <th>1</th>\n      <td>8JFGBuHMoiNDyfcxuWNtrA</td>\n      <td>smOvOajNG0lS4Pq7d8g4JQ</td>\n      <td>RZtGWDLCAtuipwaZ-UfjmQ</td>\n      <td>4.0</td>\n      <td>0.0</td>\n      <td>0.0</td>\n      <td>0.0</td>\n      <td>Good food--loved the gnocchi with marinara\\nth...</td>\n      <td>2009-10-14 19:57:14</td>\n      <td>2.497299</td>\n      <td>1</td>\n    </tr>\n    <tr>\n      <th>2</th>\n      <td>LnGZB0fjfgeVDVz5IHuEVA</td>\n      <td>j2wlzrntrbKwyOcOiB3l3w</td>\n      <td>rBdG_23USc7DletfZ11xGA</td>\n      <td>4.0</td>\n      <td>1.0</td>\n      <td>0.0</td>\n      <td>0.0</td>\n      <td>The hubby and I have been here on multiple occ...</td>\n      <td>2014-08-10 19:41:43</td>\n      <td>2.750729</td>\n      <td>4</td>\n    </tr>\n    <tr>\n      <th>3</th>\n      <td>Xs8Z8lmKkosqW5mw_sVAoA</td>\n      <td>IQsF3Rc6IgCzjVV9DE8KXg</td>\n      <td>eFvzHawVJofxSnD7TgbZtg</td>\n      <td>5.0</td>\n      <td>0.0</td>\n      <td>0.0</td>\n      <td>0.0</td>\n      <td>My absolute favorite cafe in the city. Their b...</td>\n      <td>2014-11-12 15:30:27</td>\n      <td>1.229286</td>\n      <td>5</td>\n    </tr>\n    <tr>\n      <th>4</th>\n      <td>lUUhg8ltDsUZ9h0xnwY4Dg</td>\n      <td>RreNy--tOmXMl1en0wiBOg</td>\n      <td>cPepkJeRMtHapc_b2Oe_dw</td>\n      <td>4.0</td>\n      <td>1.0</td>\n      <td>0.0</td>\n      <td>1.0</td>\n      <td>I was really between 3 and 4 stars for this on...</td>\n      <td>2018-07-17 03:30:07</td>\n      <td>1.904357</td>\n      <td>5</td>\n    </tr>\n    <tr>\n      <th>...</th>\n      <td>...</td>\n      <td>...</td>\n      <td>...</td>\n      <td>...</td>\n      <td>...</td>\n      <td>...</td>\n      <td>...</td>\n      <td>...</td>\n      <td>...</td>\n      <td>...</td>\n      <td>...</td>\n    </tr>\n    <tr>\n      <th>1262033</th>\n      <td>YVX1Wsa4LYxjvFwuHBb_gA</td>\n      <td>RKPkxOYQlM0BjhM-H6_vAw</td>\n      <td>X4mouE_cMiwbfyCPZ_K-FA</td>\n      <td>4.0</td>\n      <td>3.0</td>\n      <td>0.0</td>\n      <td>2.0</td>\n      <td>Good, maybe very good.  I went for lunch, so t...</td>\n      <td>2015-01-23 23:52:03</td>\n      <td>2.093681</td>\n      <td>4</td>\n    </tr>\n    <tr>\n      <th>1262034</th>\n      <td>H0RIamZu0B0Ei0P4aeh3sQ</td>\n      <td>qskILQ3k0I_qcCMI-k6_QQ</td>\n      <td>jals67o91gcrD4DC81Vk6w</td>\n      <td>5.0</td>\n      <td>1.0</td>\n      <td>2.0</td>\n      <td>1.0</td>\n      <td>Latest addition to services from ICCU is Apple...</td>\n      <td>2014-12-17 21:45:20</td>\n      <td>2.549610</td>\n      <td>4</td>\n    </tr>\n    <tr>\n      <th>1262035</th>\n      <td>YNfNhgZlaaCO5Q_YJR4rEw</td>\n      <td>mm6E4FbCMwJmb7kPDZ5v2Q</td>\n      <td>R1khUUxidqfaJmcpmGd4aw</td>\n      <td>4.0</td>\n      <td>1.0</td>\n      <td>0.0</td>\n      <td>0.0</td>\n      <td>This Home Depot won me over when I needed to g...</td>\n      <td>2019-12-30 03:56:30</td>\n      <td>2.534315</td>\n      <td>5</td>\n    </tr>\n    <tr>\n      <th>1262036</th>\n      <td>i-I4ZOhoX70Nw5H0FwrQUA</td>\n      <td>YwAMC-jvZ1fvEUum6QkEkw</td>\n      <td>Rr9kKArrMhSLVE9a53q-aA</td>\n      <td>5.0</td>\n      <td>1.0</td>\n      <td>0.0</td>\n      <td>0.0</td>\n      <td>For when I'm feeling like ignoring my calorie-...</td>\n      <td>2022-01-19 18:59:27</td>\n      <td>2.042872</td>\n      <td>5</td>\n    </tr>\n    <tr>\n      <th>1262037</th>\n      <td>RwcKOdEuLRHNJe4M9-qpqg</td>\n      <td>6JehEvdoCvZPJ_XIxnzIIw</td>\n      <td>VAeEXLbEcI9Emt9KGYq9aA</td>\n      <td>3.0</td>\n      <td>10.0</td>\n      <td>3.0</td>\n      <td>7.0</td>\n      <td>Located in the 'Walking District' in Nashville...</td>\n      <td>2018-01-02 22:50:47</td>\n      <td>1.575570</td>\n      <td>3</td>\n    </tr>\n  </tbody>\n</table>\n<p>1262038 rows × 11 columns</p>\n</div>"
     },
     "execution_count": 34,
     "metadata": {},
     "output_type": "execute_result"
    }
   ],
   "source": [
    "import random\n",
    "from tqdm.notebook import tqdm\n",
    "\n",
    "# important for reproducible results\n",
    "random.seed(0)\n",
    "\n",
    "# naive simulator\n",
    "sample_list = 35 * [5] + 35 * [4] + 17 * [3] + 8 * [2] + 5 * [1]\n",
    "naive_ratings = []\n",
    "for i in tqdm(range(reviews.shape[0])):\n",
    "    naive_ratings.append(random.choice(sample_list))\n",
    "\n",
    "# add column to the review df\n",
    "reviews['naive_rating'] = naive_ratings\n",
    "\n",
    "# check if new column works\n",
    "reviews"
   ],
   "metadata": {
    "collapsed": false,
    "pycharm": {
     "name": "#%%\n"
    }
   }
  },
  {
   "cell_type": "code",
   "execution_count": 35,
   "outputs": [],
   "source": [
    "import seaborn as sns\n",
    "import matplotlib.pyplot as plt\n",
    "\n",
    "ids = reviews.groupby('user_id').count().reset_index()['user_id'].tolist()\n",
    "sns.set_style('white')\n",
    "\n",
    "def plot_expectation_distribution(reviews_df, user_ids, ratings_column, saving_path='none'):\n",
    "    user_expectations = create_expectation_dataframe(reviews_df, user_ids, ratings_column)\n",
    "    sns.histplot(data=user_expectations, x='expectation', color=[0.6, 0.6, 1.0], fill=True)\n",
    "    if saving_path != 'none':\n",
    "        plt.savefig(saving_path, dpi=200)\n",
    "        print('saved')\n",
    "    plt.show()\n",
    "\n",
    "def create_expectation_dataframe(reviews_df, user_ids, ratings_column):\n",
    "\n",
    "    user_expectation = {}\n",
    "    for user in tqdm(user_ids):\n",
    "        user_reviews = reviews_df[reviews_df['user_id'] == user]\n",
    "        user_expectation[user] = user_reviews[['price_score', ratings_column]].corr().iloc[0, 1]\n",
    "\n",
    "    user_expectations = pd.DataFrame.from_dict(user_expectation, orient='index').reset_index()\n",
    "    user_expectations = user_expectations.rename(columns={\"index\": \"user_id\", 0: \"correlation\"})\n",
    "    user_expectations['expectation'] = 0.5 * (1 - user_expectations['correlation'])\n",
    "\n",
    "    return user_expectations"
   ],
   "metadata": {
    "collapsed": false,
    "pycharm": {
     "name": "#%%\n"
    }
   }
  },
  {
   "cell_type": "code",
   "execution_count": 36,
   "outputs": [
    {
     "data": {
      "text/plain": "  0%|          | 0/10000 [00:00<?, ?it/s]",
      "application/vnd.jupyter.widget-view+json": {
       "version_major": 2,
       "version_minor": 0,
       "model_id": "d0c34b70603d4e40a6aa794dab5a15a2"
      }
     },
     "metadata": {},
     "output_type": "display_data"
    },
    {
     "name": "stdout",
     "output_type": "stream",
     "text": [
      "saved\n"
     ]
    },
    {
     "data": {
      "text/plain": "<Figure size 432x288 with 1 Axes>",
      "image/png": "[encoded data removed]"
     },
     "metadata": {},
     "output_type": "display_data"
    }
   ],
   "source": [
    "# generate plot for naive ratings\n",
    "plot_expectation_distribution(reviews, ids, 'naive_rating', 'figures/naive_user_expectations.png')"
   ],
   "metadata": {
    "collapsed": false,
    "pycharm": {
     "name": "#%%\n"
    }
   }
  },
  {
   "cell_type": "code",
   "execution_count": 37,
   "outputs": [
    {
     "data": {
      "text/plain": "  0%|          | 0/10000 [00:00<?, ?it/s]",
      "application/vnd.jupyter.widget-view+json": {
       "version_major": 2,
       "version_minor": 0,
       "model_id": "6f96ed18eed24e11b897e0b5807d5c16"
      }
     },
     "metadata": {},
     "output_type": "display_data"
    },
    {
     "data": {
      "text/plain": "  0%|          | 0/10000 [00:00<?, ?it/s]",
      "application/vnd.jupyter.widget-view+json": {
       "version_major": 2,
       "version_minor": 0,
       "model_id": "61341a9e47574ad3a9c2c1e385e43fa1"
      }
     },
     "metadata": {},
     "output_type": "display_data"
    }
   ],
   "source": [
    "traditional_expectations = create_expectation_dataframe(reviews, ids, 'stars')\n",
    "naive_expectations = create_expectation_dataframe(reviews, ids, 'naive_rating')"
   ],
   "metadata": {
    "collapsed": false,
    "pycharm": {
     "name": "#%%\n"
    }
   }
  },
  {
   "cell_type": "code",
   "execution_count": 54,
   "outputs": [
    {
     "data": {
      "text/plain": "<Figure size 432x288 with 1 Axes>",
      "image/png": "[encoded data removed]"
     },
     "metadata": {},
     "output_type": "display_data"
    }
   ],
   "source": [
    "# centralize the data\n",
    "traditional_expectations['centralized_expectation'] = traditional_expectations['expectation'] - traditional_expectations['expectation'].mean()\n",
    "naive_expectations['centralized_expectation'] = naive_expectations['expectation'] - naive_expectations['expectation'].mean()\n",
    "\n",
    "#plot the data\n",
    "sns.set_palette('crest')\n",
    "sns.kdeplot(data=traditional_expectations, x='centralized_expectation', fill=True, label='True Data', linewidth=0, color=sns.color_palette('crest')[0], alpha=.35)\n",
    "sns.kdeplot(data=naive_expectations, x='centralized_expectation', fill=True, label='Naive Simulation', linewidth=0, color=sns.color_palette('crest')[5], alpha=.35)\n",
    "plt.legend(loc=2, frameon=False)\n",
    "\n",
    "# show and save plot\n",
    "plt.savefig('figures/expectation_comparison.png', dpi=250)\n",
    "plt.show()"
   ],
   "metadata": {
    "collapsed": false,
    "pycharm": {
     "name": "#%%\n"
    }
   }
  },
  {
   "cell_type": "code",
   "execution_count": 52,
   "outputs": [
    {
     "data": {
      "text/plain": "[(0.48942421, 0.72854938, 0.56751036),\n (0.34892097, 0.64828676, 0.56513633),\n (0.24929311, 0.56486397, 0.5586654),\n (0.15615526, 0.47913212, 0.54850526),\n (0.11131735, 0.39155635, 0.53422678),\n (0.14573579, 0.29354139, 0.49847009)]",
      "text/html": "<svg  width=\"330\" height=\"55\"><rect x=\"0\" y=\"0\" width=\"55\" height=\"55\" style=\"fill:#7dba91;stroke-width:2;stroke:rgb(255,255,255)\"/><rect x=\"55\" y=\"0\" width=\"55\" height=\"55\" style=\"fill:#59a590;stroke-width:2;stroke:rgb(255,255,255)\"/><rect x=\"110\" y=\"0\" width=\"55\" height=\"55\" style=\"fill:#40908e;stroke-width:2;stroke:rgb(255,255,255)\"/><rect x=\"165\" y=\"0\" width=\"55\" height=\"55\" style=\"fill:#287a8c;stroke-width:2;stroke:rgb(255,255,255)\"/><rect x=\"220\" y=\"0\" width=\"55\" height=\"55\" style=\"fill:#1c6488;stroke-width:2;stroke:rgb(255,255,255)\"/><rect x=\"275\" y=\"0\" width=\"55\" height=\"55\" style=\"fill:#254b7f;stroke-width:2;stroke:rgb(255,255,255)\"/></svg>"
     },
     "execution_count": 52,
     "metadata": {},
     "output_type": "execute_result"
    }
   ],
   "source": [
    "sns.color_palette('crest')"
   ],
   "metadata": {
    "collapsed": false,
    "pycharm": {
     "name": "#%%\n"
    }
   }
  },
  {
   "cell_type": "code",
   "execution_count": null,
   "outputs": [],
   "source": [],
   "metadata": {
    "collapsed": false,
    "pycharm": {
     "name": "#%%\n"
    }
   }
  }
 ],
 "metadata": {
  "kernelspec": {
   "display_name": "Python 3",
   "language": "python",
   "name": "python3"
  },
  "language_info": {
   "codemirror_mode": {
    "name": "ipython",
    "version": 2
   },
   "file_extension": ".py",
   "mimetype": "text/x-python",
   "name": "python",
   "nbconvert_exporter": "python",
   "pygments_lexer": "ipython2",
   "version": "2.7.6"
  }
 },
 "nbformat": 4,
 "nbformat_minor": 0
}