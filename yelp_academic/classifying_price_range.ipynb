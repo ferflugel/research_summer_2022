{
 "cells": [
  {
   "cell_type": "code",
   "execution_count": 1,
   "outputs": [
    {
     "data": {
      "text/plain": "             business_id  vector\nprice_range                     \n1                    150     150\n2                    150     150\n3                    150     150\n4                    150     150",
      "text/html": "<div>\n<style scoped>\n    .dataframe tbody tr th:only-of-type {\n        vertical-align: middle;\n    }\n\n    .dataframe tbody tr th {\n        vertical-align: top;\n    }\n\n    .dataframe thead th {\n        text-align: right;\n    }\n</style>\n<table border=\"1\" class=\"dataframe\">\n  <thead>\n    <tr style=\"text-align: right;\">\n      <th></th>\n      <th>business_id</th>\n      <th>vector</th>\n    </tr>\n    <tr>\n      <th>price_range</th>\n      <th></th>\n      <th></th>\n    </tr>\n  </thead>\n  <tbody>\n    <tr>\n      <th>1</th>\n      <td>150</td>\n      <td>150</td>\n    </tr>\n    <tr>\n      <th>2</th>\n      <td>150</td>\n      <td>150</td>\n    </tr>\n    <tr>\n      <th>3</th>\n      <td>150</td>\n      <td>150</td>\n    </tr>\n    <tr>\n      <th>4</th>\n      <td>150</td>\n      <td>150</td>\n    </tr>\n  </tbody>\n</table>\n</div>"
     },
     "execution_count": 1,
     "metadata": {},
     "output_type": "execute_result"
    }
   ],
   "source": [
    "from yelp_functions import get_restaurant_vectors\n",
    "import pandas as pd\n",
    "\n",
    "# import the data with vectors for restaurants\n",
    "ids, embeddings, price_range = get_restaurant_vectors()\n",
    "\n",
    "# create dataframe from lists\n",
    "restaurants = {'business_id': ids, 'price_range': price_range, 'vector': embeddings}\n",
    "restaurants = pd.DataFrame(data=restaurants)\n",
    "\n",
    "# reduce the dataset to 150 reviews of each category\n",
    "restaurants = restaurants.groupby('price_range').apply(lambda x: x.sample(150, random_state=0).reset_index(drop=True))\n",
    "restaurants = restaurants.droplevel(level=0)\n",
    "\n",
    "# check new dataframe\n",
    "restaurants.groupby('price_range').count()"
   ],
   "metadata": {
    "collapsed": false,
    "pycharm": {
     "name": "#%%\n"
    }
   }
  },
  {
   "cell_type": "code",
   "execution_count": 2,
   "outputs": [
    {
     "data": {
      "text/plain": "<Figure size 432x288 with 1 Axes>",
      "image/png": "[encoded data removed]"
     },
     "metadata": {},
     "output_type": "display_data"
    }
   ],
   "source": [
    "import seaborn as sns\n",
    "import matplotlib.pyplot as plt\n",
    "\n",
    "# check distribution of the data\n",
    "sns.countplot(x='price_range', data=restaurants)\n",
    "plt.show()"
   ],
   "metadata": {
    "collapsed": false,
    "pycharm": {
     "name": "#%%\n"
    }
   }
  },
  {
   "cell_type": "code",
   "execution_count": 3,
   "outputs": [
    {
     "data": {
      "text/plain": "                business_id  price_range  \\\n0    FEXhWNCMkv22qG04E83Qjg            1   \n1    9_DJMSzn5PtMit78KFrwaw            1   \n2    -8B29WNRCyg4jViK4ChKlQ            1   \n3    sNqvMmAu2c-F36ivlusx-w            1   \n4    1nAIflbdv4Zlqwj7_u3icQ            1   \n..                      ...          ...   \n145  fEqiXG_B-fn__w0aeF3nBQ            4   \n146  rnjXf1zDn9LGejhIX1tqxA            4   \n147  4KH6DlFi25Fx1-hlSF7ViA            4   \n148  9PXJkRLVWd6IMPfBzdJp2Q            4   \n149  fm0eu225Xjf2M0n-N5Qbig            4   \n\n                                                vector  \n0    [0.0002521815588297661, 0.0017086522603582427,...  \n1    [0.005847953216374265, 0.0023148148148148134, ...  \n2    [0.0, 0.0, 0.0, 0.0, 0.0, 0.0, 0.0, 0.0, 0.0, ...  \n3    [0.0037872026553568104, 0.00597092496517327, 0...  \n4    [0.0, 0.0, 0.0, 0.0, 0.0, 0.0, 0.0, 0.0, 0.0, ...  \n..                                                 ...  \n145  [0.0002560071937581982, 0.0011684197614080978,...  \n146  [0.0, 0.004318117779656228, 0.0, 0.0, 0.0, 0.0...  \n147  [0.0005470424613167865, 0.0014649922095914141,...  \n148  [0.0008857770455270628, 0.0015389593672964078,...  \n149  [0.0, 0.001201923076923077, 0.0, 0.0, 0.0, 0.0...  \n\n[600 rows x 3 columns]",
      "text/html": "<div>\n<style scoped>\n    .dataframe tbody tr th:only-of-type {\n        vertical-align: middle;\n    }\n\n    .dataframe tbody tr th {\n        vertical-align: top;\n    }\n\n    .dataframe thead th {\n        text-align: right;\n    }\n</style>\n<table border=\"1\" class=\"dataframe\">\n  <thead>\n    <tr style=\"text-align: right;\">\n      <th></th>\n      <th>business_id</th>\n      <th>price_range</th>\n      <th>vector</th>\n    </tr>\n  </thead>\n  <tbody>\n    <tr>\n      <th>0</th>\n      <td>FEXhWNCMkv22qG04E83Qjg</td>\n      <td>1</td>\n      <td>[0.0002521815588297661, 0.0017086522603582427,...</td>\n    </tr>\n    <tr>\n      <th>1</th>\n      <td>9_DJMSzn5PtMit78KFrwaw</td>\n      <td>1</td>\n      <td>[0.005847953216374265, 0.0023148148148148134, ...</td>\n    </tr>\n    <tr>\n      <th>2</th>\n      <td>-8B29WNRCyg4jViK4ChKlQ</td>\n      <td>1</td>\n      <td>[0.0, 0.0, 0.0, 0.0, 0.0, 0.0, 0.0, 0.0, 0.0, ...</td>\n    </tr>\n    <tr>\n      <th>3</th>\n      <td>sNqvMmAu2c-F36ivlusx-w</td>\n      <td>1</td>\n      <td>[0.0037872026553568104, 0.00597092496517327, 0...</td>\n    </tr>\n    <tr>\n      <th>4</th>\n      <td>1nAIflbdv4Zlqwj7_u3icQ</td>\n      <td>1</td>\n      <td>[0.0, 0.0, 0.0, 0.0, 0.0, 0.0, 0.0, 0.0, 0.0, ...</td>\n    </tr>\n    <tr>\n      <th>...</th>\n      <td>...</td>\n      <td>...</td>\n      <td>...</td>\n    </tr>\n    <tr>\n      <th>145</th>\n      <td>fEqiXG_B-fn__w0aeF3nBQ</td>\n      <td>4</td>\n      <td>[0.0002560071937581982, 0.0011684197614080978,...</td>\n    </tr>\n    <tr>\n      <th>146</th>\n      <td>rnjXf1zDn9LGejhIX1tqxA</td>\n      <td>4</td>\n      <td>[0.0, 0.004318117779656228, 0.0, 0.0, 0.0, 0.0...</td>\n    </tr>\n    <tr>\n      <th>147</th>\n      <td>4KH6DlFi25Fx1-hlSF7ViA</td>\n      <td>4</td>\n      <td>[0.0005470424613167865, 0.0014649922095914141,...</td>\n    </tr>\n    <tr>\n      <th>148</th>\n      <td>9PXJkRLVWd6IMPfBzdJp2Q</td>\n      <td>4</td>\n      <td>[0.0008857770455270628, 0.0015389593672964078,...</td>\n    </tr>\n    <tr>\n      <th>149</th>\n      <td>fm0eu225Xjf2M0n-N5Qbig</td>\n      <td>4</td>\n      <td>[0.0, 0.001201923076923077, 0.0, 0.0, 0.0, 0.0...</td>\n    </tr>\n  </tbody>\n</table>\n<p>600 rows × 3 columns</p>\n</div>"
     },
     "execution_count": 3,
     "metadata": {},
     "output_type": "execute_result"
    }
   ],
   "source": [
    "restaurants"
   ],
   "metadata": {
    "collapsed": false,
    "pycharm": {
     "name": "#%%\n"
    }
   }
  },
  {
   "cell_type": "code",
   "execution_count": 18,
   "outputs": [],
   "source": [
    "from sklearn.model_selection import train_test_split\n",
    "import numpy as np\n",
    "\n",
    "X, y = np.array(restaurants['vector'].tolist()), np.array(restaurants['price_range'].tolist())\n",
    "\n",
    "X_train, X_test, y_train, y_test = train_test_split(X, y, test_size = 0.25, random_state=0)"
   ],
   "metadata": {
    "collapsed": false,
    "pycharm": {
     "name": "#%%\n"
    }
   }
  },
  {
   "cell_type": "code",
   "execution_count": 20,
   "outputs": [
    {
     "name": "stdout",
     "output_type": "stream",
     "text": [
      "KNN test score: 0.47333333333333333\n",
      "KNN train score: 0.43777777777777777\n",
      "SVM test score: 0.6933333333333334\n",
      "SVM train score: 0.8977777777777778\n",
      "RF test score: 0.6666666666666666\n",
      "RF train score: 0.8577777777777778\n",
      "LR test score: 0.38666666666666666\n",
      "LR train score: 0.4222222222222222\n",
      "NB test score: 0.23333333333333334\n",
      "NB train score: 0.28888888888888886\n"
     ]
    }
   ],
   "source": [
    "from sklearn.neighbors import KNeighborsClassifier\n",
    "from sklearn.svm import SVC\n",
    "from sklearn.ensemble import RandomForestClassifier\n",
    "from sklearn.linear_model import LogisticRegression\n",
    "from sklearn.naive_bayes import MultinomialNB\n",
    "\n",
    "# using KNNs for classification\n",
    "knn = KNeighborsClassifier(n_neighbors=20).fit(X_train, y_train)\n",
    "print(\"KNN test score:\", knn.score(X_test, y_test))\n",
    "print(\"KNN train score:\", knn.score(X_train, y_train))\n",
    "\n",
    "# using SVMs for classification\n",
    "svm = SVC().fit(X_train, y_train)\n",
    "print(\"SVM test score:\", svm.score(X_test, y_test))\n",
    "print(\"SVM train score:\", svm.score(X_train, y_train))\n",
    "\n",
    "# using random forests for classification\n",
    "rfc = RandomForestClassifier(max_depth=5, random_state=0).fit(X_train, y_train)\n",
    "print(\"RF test score:\", rfc.score(X_test, y_test))\n",
    "print(\"RF train score:\", rfc.score(X_train, y_train))\n",
    "\n",
    "# using logistic regression for classification\n",
    "lrc = LogisticRegression(random_state=0).fit(X_train, y_train)\n",
    "print(\"LR test score:\", lrc.score(X_test, y_test))\n",
    "print(\"LR train score:\", lrc.score(X_train, y_train))\n",
    "\n",
    "# using logistic regression for classification\n",
    "nbc = MultinomialNB().fit(X_train, y_train)\n",
    "print(\"NB test score:\", nbc.score(X_test, y_test))\n",
    "print(\"NB train score:\", nbc.score(X_train, y_train))"
   ],
   "metadata": {
    "collapsed": false,
    "pycharm": {
     "name": "#%%\n"
    }
   }
  },
  {
   "cell_type": "code",
   "execution_count": 38,
   "outputs": [
    {
     "data": {
      "text/plain": "((450, 4096), (450, 64))"
     },
     "execution_count": 38,
     "metadata": {},
     "output_type": "execute_result"
    }
   ],
   "source": [
    "from sklearn.decomposition import PCA\n",
    "\n",
    "# apply principal component analysis\n",
    "pca = PCA(n_components=64).fit(X_train)\n",
    "X_train_reduced = pca.transform(X_train)\n",
    "X_test_reduced = pca.transform(X_test)\n",
    "\n",
    "# check the results form transform\n",
    "X_train.shape, X_train_reduced.shape"
   ],
   "metadata": {
    "collapsed": false,
    "pycharm": {
     "name": "#%%\n"
    }
   }
  },
  {
   "cell_type": "code",
   "execution_count": 43,
   "outputs": [
    {
     "name": "stdout",
     "output_type": "stream",
     "text": [
      "KNN test score: 0.5866666666666667\n",
      "KNN train score: 0.5777777777777777\n",
      "SVM test score: 0.6933333333333334\n",
      "SVM train score: 0.8288888888888889\n",
      "RF test score: 0.62\n",
      "RF train score: 0.8422222222222222\n",
      "LR test score: 0.38666666666666666\n",
      "LR train score: 0.4111111111111111\n"
     ]
    }
   ],
   "source": [
    "# using KNNs for classification\n",
    "knn = KNeighborsClassifier(n_neighbors=20).fit(X_train_reduced, y_train)\n",
    "print(\"KNN test score:\", knn.score(X_test_reduced, y_test))\n",
    "print(\"KNN train score:\", knn.score(X_train_reduced, y_train))\n",
    "\n",
    "# using SVMs for classification\n",
    "svm = SVC().fit(X_train_reduced, y_train)\n",
    "print(\"SVM test score:\", svm.score(X_test_reduced, y_test))\n",
    "print(\"SVM train score:\", svm.score(X_train_reduced, y_train))\n",
    "\n",
    "# using random forests for classification\n",
    "rfc = RandomForestClassifier(max_depth=4, random_state=0).fit(X_train_reduced, y_train)\n",
    "print(\"RF test score:\", rfc.score(X_test_reduced, y_test))\n",
    "print(\"RF train score:\", rfc.score(X_train_reduced, y_train))\n",
    "\n",
    "# using logistic regression for classification\n",
    "lrc = LogisticRegression(random_state=0).fit(X_train_reduced, y_train)\n",
    "print(\"LR test score:\", lrc.score(X_test_reduced, y_test))\n",
    "print(\"LR train score:\", lrc.score(X_train_reduced, y_train))"
   ],
   "metadata": {
    "collapsed": false,
    "pycharm": {
     "name": "#%%\n"
    }
   }
  },
  {
   "cell_type": "code",
   "execution_count": 52,
   "outputs": [
    {
     "name": "stdout",
     "output_type": "stream",
     "text": [
      "SVM test score: 0.649206560169296\n",
      "SVM train score: 0.7453413206413427\n"
     ]
    }
   ],
   "source": [
    "from sklearn.svm import SVR\n",
    "\n",
    "# train the price score model\n",
    "price_score_model = SVR(C=0.6).fit(X_train_reduced, y_train)\n",
    "print(\"SVM test score:\", price_score_model.score(X_test_reduced, y_test))\n",
    "print(\"SVM train score:\", price_score_model.score(X_train_reduced, y_train))"
   ],
   "metadata": {
    "collapsed": false,
    "pycharm": {
     "name": "#%%\n"
    }
   }
  },
  {
   "cell_type": "code",
   "execution_count": 56,
   "outputs": [
    {
     "data": {
      "text/plain": "array([1.58228019, 2.0072507 , 1.55103358, ..., 0.863155  , 2.46550353,\n       1.68259716])"
     },
     "execution_count": 56,
     "metadata": {},
     "output_type": "execute_result"
    }
   ],
   "source": [
    "# create dataframe from lists\n",
    "restaurants = {'business_id': ids, 'price_range': price_range, 'vector': embeddings}\n",
    "restaurants = pd.DataFrame(data=restaurants)\n",
    "\n",
    "# determine the price score\n",
    "X, y = np.array(restaurants['vector'].tolist()), np.array(restaurants['price_range'].tolist())\n",
    "X = pca.transform(X)\n",
    "price_score = price_score_model.predict(X)\n",
    "\n",
    "# check results\n",
    "price_score"
   ],
   "metadata": {
    "collapsed": false,
    "pycharm": {
     "name": "#%%\n"
    }
   }
  },
  {
   "cell_type": "code",
   "execution_count": 57,
   "outputs": [
    {
     "data": {
      "text/plain": "                  business_id  price_range  \\\n0      --0iUa4sNDFiZFrAdIWhZQ            1   \n1      --7PUidqRWpRSpXebiyxTg            2   \n2      --8IbOsAAxjKRoYsBFL-PA            2   \n3      --ZVrH2X2QXBFdCilbirsw            1   \n4      --epgcb7xHGuJ-4PUeSLAw            1   \n...                       ...          ...   \n44479  zziDpuuJw-Km1J4BaGpBKA            1   \n44480  zzjFdJwXuxBOGe9JeY_EMw            1   \n44481  zznJox6-nmXlGYNWgTDwQQ            1   \n44482  zzu6_r3DxBJuXcjnOYVdTw            2   \n44483  zzyx5x0Z7xXWWvWnZFuxlQ            1   \n\n                                                  vector  price_score  \n0      [0.0, 0.0, 0.0, 0.0, 0.0, 0.0, 0.0, 0.0, 0.0, ...     1.582280  \n1      [0.0, 0.0, 0.0, 0.0, 0.0, 0.0, 0.0, 0.0, 0.0, ...     2.007251  \n2      [0.0013227513227513205, 0.002111577332114547, ...     1.551034  \n3      [0.0008680555555555547, 0.0, 0.0, 0.0, 0.0, 0....     1.936654  \n4      [0.00033578918560769633, 0.0019058061821219654...     1.332932  \n...                                                  ...          ...  \n44479  [0.0, 0.0, 0.0, 0.0, 0.0, 0.0, 0.0, 0.0, 0.0, ...     1.562627  \n44480  [0.0, 0.002504383826144342, 0.0, 0.0, 0.0, 0.0...     1.535871  \n44481  [0.00574712643678159, 0.0012345679012345635, 0...     0.863155  \n44482  [0.0, 0.0, 0.0, 0.0, 0.0, 0.0, 0.0, 0.0, 0.0, ...     2.465504  \n44483  [0.0, 0.0, 0.0, 0.0, 0.0, 0.0, 0.0, 0.0, 0.0, ...     1.682597  \n\n[44484 rows x 4 columns]",
      "text/html": "<div>\n<style scoped>\n    .dataframe tbody tr th:only-of-type {\n        vertical-align: middle;\n    }\n\n    .dataframe tbody tr th {\n        vertical-align: top;\n    }\n\n    .dataframe thead th {\n        text-align: right;\n    }\n</style>\n<table border=\"1\" class=\"dataframe\">\n  <thead>\n    <tr style=\"text-align: right;\">\n      <th></th>\n      <th>business_id</th>\n      <th>price_range</th>\n      <th>vector</th>\n      <th>price_score</th>\n    </tr>\n  </thead>\n  <tbody>\n    <tr>\n      <th>0</th>\n      <td>--0iUa4sNDFiZFrAdIWhZQ</td>\n      <td>1</td>\n      <td>[0.0, 0.0, 0.0, 0.0, 0.0, 0.0, 0.0, 0.0, 0.0, ...</td>\n      <td>1.582280</td>\n    </tr>\n    <tr>\n      <th>1</th>\n      <td>--7PUidqRWpRSpXebiyxTg</td>\n      <td>2</td>\n      <td>[0.0, 0.0, 0.0, 0.0, 0.0, 0.0, 0.0, 0.0, 0.0, ...</td>\n      <td>2.007251</td>\n    </tr>\n    <tr>\n      <th>2</th>\n      <td>--8IbOsAAxjKRoYsBFL-PA</td>\n      <td>2</td>\n      <td>[0.0013227513227513205, 0.002111577332114547, ...</td>\n      <td>1.551034</td>\n    </tr>\n    <tr>\n      <th>3</th>\n      <td>--ZVrH2X2QXBFdCilbirsw</td>\n      <td>1</td>\n      <td>[0.0008680555555555547, 0.0, 0.0, 0.0, 0.0, 0....</td>\n      <td>1.936654</td>\n    </tr>\n    <tr>\n      <th>4</th>\n      <td>--epgcb7xHGuJ-4PUeSLAw</td>\n      <td>1</td>\n      <td>[0.00033578918560769633, 0.0019058061821219654...</td>\n      <td>1.332932</td>\n    </tr>\n    <tr>\n      <th>...</th>\n      <td>...</td>\n      <td>...</td>\n      <td>...</td>\n      <td>...</td>\n    </tr>\n    <tr>\n      <th>44479</th>\n      <td>zziDpuuJw-Km1J4BaGpBKA</td>\n      <td>1</td>\n      <td>[0.0, 0.0, 0.0, 0.0, 0.0, 0.0, 0.0, 0.0, 0.0, ...</td>\n      <td>1.562627</td>\n    </tr>\n    <tr>\n      <th>44480</th>\n      <td>zzjFdJwXuxBOGe9JeY_EMw</td>\n      <td>1</td>\n      <td>[0.0, 0.002504383826144342, 0.0, 0.0, 0.0, 0.0...</td>\n      <td>1.535871</td>\n    </tr>\n    <tr>\n      <th>44481</th>\n      <td>zznJox6-nmXlGYNWgTDwQQ</td>\n      <td>1</td>\n      <td>[0.00574712643678159, 0.0012345679012345635, 0...</td>\n      <td>0.863155</td>\n    </tr>\n    <tr>\n      <th>44482</th>\n      <td>zzu6_r3DxBJuXcjnOYVdTw</td>\n      <td>2</td>\n      <td>[0.0, 0.0, 0.0, 0.0, 0.0, 0.0, 0.0, 0.0, 0.0, ...</td>\n      <td>2.465504</td>\n    </tr>\n    <tr>\n      <th>44483</th>\n      <td>zzyx5x0Z7xXWWvWnZFuxlQ</td>\n      <td>1</td>\n      <td>[0.0, 0.0, 0.0, 0.0, 0.0, 0.0, 0.0, 0.0, 0.0, ...</td>\n      <td>1.682597</td>\n    </tr>\n  </tbody>\n</table>\n<p>44484 rows × 4 columns</p>\n</div>"
     },
     "execution_count": 57,
     "metadata": {},
     "output_type": "execute_result"
    }
   ],
   "source": [
    "# add new column to dataframe and check results\n",
    "restaurants['price_score'] = price_score\n",
    "restaurants"
   ],
   "metadata": {
    "collapsed": false,
    "pycharm": {
     "name": "#%%\n"
    }
   }
  },
  {
   "cell_type": "code",
   "execution_count": 67,
   "outputs": [
    {
     "data": {
      "text/plain": "<Figure size 432x288 with 1 Axes>",
      "image/png": "[encoded data removed]"
     },
     "metadata": {
      "needs_background": "light"
     },
     "output_type": "display_data"
    }
   ],
   "source": [
    "import seaborn as sns\n",
    "import matplotlib.pyplot as plt\n",
    "\n",
    "# create scatter plot to visualize price range and price score\n",
    "sns.violinplot(data=restaurants, x='price_range', y='price_score', color=[0.6, 0.6, 1])\n",
    "plt.savefig('figures/price_range_vs_score.png', dpi=250)\n",
    "plt.show()"
   ],
   "metadata": {
    "collapsed": false,
    "pycharm": {
     "name": "#%%\n"
    }
   }
  },
  {
   "cell_type": "code",
   "execution_count": 70,
   "outputs": [],
   "source": [
    "import pickle\n",
    "\n",
    "# save data and models\n",
    "restaurants.to_csv('processed_data/restaurants_price_score.csv', index=False)\n",
    "pickle.dump(price_score_model, open('models/price_score_model.sav', 'wb'))\n",
    "pickle.dump(pca, open('models/price_score_pca.sav', 'wb'))"
   ],
   "metadata": {
    "collapsed": false,
    "pycharm": {
     "name": "#%%\n"
    }
   }
  }
 ],
 "metadata": {
  "kernelspec": {
   "display_name": "Python 3",
   "language": "python",
   "name": "python3"
  },
  "language_info": {
   "codemirror_mode": {
    "name": "ipython",
    "version": 2
   },
   "file_extension": ".py",
   "mimetype": "text/x-python",
   "name": "python",
   "nbconvert_exporter": "python",
   "pygments_lexer": "ipython2",
   "version": "2.7.6"
  }
 },
 "nbformat": 4,
 "nbformat_minor": 0
}