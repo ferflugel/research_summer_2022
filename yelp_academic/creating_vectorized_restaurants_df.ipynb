{
 "cells": [
  {
   "cell_type": "code",
   "execution_count": 6,
   "metadata": {
    "collapsed": true,
    "pycharm": {
     "name": "#%%\n"
    }
   },
   "outputs": [
    {
     "data": {
      "text/plain": "                   business_id  \\\n0       ---kPU91CF4Lq2-WlRu9Lw   \n1       --0iUa4sNDFiZFrAdIWhZQ   \n2       --30_8IhuyMHbSOcNWd6DQ   \n3       --7PUidqRWpRSpXebiyxTg   \n4       --7jw19RH9JKXgFohspgQw   \n...                        ...   \n150341  zznZqH9CiAznbkV6fXyHWA   \n150342  zztOG2cKm87I6Iw_tleZsQ   \n150343  zzu6_r3DxBJuXcjnOYVdTw   \n150344  zzw66H6hVjXQEt0Js3Mo4A   \n150345  zzyx5x0Z7xXWWvWnZFuxlQ   \n\n                                                embedding  \n0       [0.0, 0.0012626262626262606, 0.0, 0.0, 0.00126...  \n1       [0.0, 0.0, 0.0, 0.0, 0.0, 0.0, 0.0, 0.0, 0.0, ...  \n2       [0.0, 0.0, 0.0, 0.0, 0.0, 0.0, 0.0, 0.0, 0.0, ...  \n3       [0.0, 0.0, 0.0, 0.0, 0.0, 0.0, 0.0, 0.0, 0.0, ...  \n4       [0.0, 0.0, 0.0, 0.0, 0.0, 0.0, 0.0, 0.0, 0.0, ...  \n...                                                   ...  \n150341  [0.0, 0.0018939393939393927, 0.0, 0.0, 0.0, 0....  \n150342  [0.0, 0.0, 0.0, 0.0, 0.0, 0.0, 0.0, 0.0, 0.0, ...  \n150343  [0.0, 0.0, 0.0, 0.0, 0.0, 0.0, 0.0, 0.0, 0.0, ...  \n150344  [0.0, 0.0, 0.0, 0.0, 0.0, 0.0, 0.0, 0.0, 0.0, ...  \n150345  [0.0, 0.0, 0.0, 0.0, 0.0, 0.0, 0.0, 0.0, 0.0, ...  \n\n[150346 rows x 2 columns]",
      "text/html": "<div>\n<style scoped>\n    .dataframe tbody tr th:only-of-type {\n        vertical-align: middle;\n    }\n\n    .dataframe tbody tr th {\n        vertical-align: top;\n    }\n\n    .dataframe thead th {\n        text-align: right;\n    }\n</style>\n<table border=\"1\" class=\"dataframe\">\n  <thead>\n    <tr style=\"text-align: right;\">\n      <th></th>\n      <th>business_id</th>\n      <th>embedding</th>\n    </tr>\n  </thead>\n  <tbody>\n    <tr>\n      <th>0</th>\n      <td>---kPU91CF4Lq2-WlRu9Lw</td>\n      <td>[0.0, 0.0012626262626262606, 0.0, 0.0, 0.00126...</td>\n    </tr>\n    <tr>\n      <th>1</th>\n      <td>--0iUa4sNDFiZFrAdIWhZQ</td>\n      <td>[0.0, 0.0, 0.0, 0.0, 0.0, 0.0, 0.0, 0.0, 0.0, ...</td>\n    </tr>\n    <tr>\n      <th>2</th>\n      <td>--30_8IhuyMHbSOcNWd6DQ</td>\n      <td>[0.0, 0.0, 0.0, 0.0, 0.0, 0.0, 0.0, 0.0, 0.0, ...</td>\n    </tr>\n    <tr>\n      <th>3</th>\n      <td>--7PUidqRWpRSpXebiyxTg</td>\n      <td>[0.0, 0.0, 0.0, 0.0, 0.0, 0.0, 0.0, 0.0, 0.0, ...</td>\n    </tr>\n    <tr>\n      <th>4</th>\n      <td>--7jw19RH9JKXgFohspgQw</td>\n      <td>[0.0, 0.0, 0.0, 0.0, 0.0, 0.0, 0.0, 0.0, 0.0, ...</td>\n    </tr>\n    <tr>\n      <th>...</th>\n      <td>...</td>\n      <td>...</td>\n    </tr>\n    <tr>\n      <th>150341</th>\n      <td>zznZqH9CiAznbkV6fXyHWA</td>\n      <td>[0.0, 0.0018939393939393927, 0.0, 0.0, 0.0, 0....</td>\n    </tr>\n    <tr>\n      <th>150342</th>\n      <td>zztOG2cKm87I6Iw_tleZsQ</td>\n      <td>[0.0, 0.0, 0.0, 0.0, 0.0, 0.0, 0.0, 0.0, 0.0, ...</td>\n    </tr>\n    <tr>\n      <th>150343</th>\n      <td>zzu6_r3DxBJuXcjnOYVdTw</td>\n      <td>[0.0, 0.0, 0.0, 0.0, 0.0, 0.0, 0.0, 0.0, 0.0, ...</td>\n    </tr>\n    <tr>\n      <th>150344</th>\n      <td>zzw66H6hVjXQEt0Js3Mo4A</td>\n      <td>[0.0, 0.0, 0.0, 0.0, 0.0, 0.0, 0.0, 0.0, 0.0, ...</td>\n    </tr>\n    <tr>\n      <th>150345</th>\n      <td>zzyx5x0Z7xXWWvWnZFuxlQ</td>\n      <td>[0.0, 0.0, 0.0, 0.0, 0.0, 0.0, 0.0, 0.0, 0.0, ...</td>\n    </tr>\n  </tbody>\n</table>\n<p>150346 rows × 2 columns</p>\n</div>"
     },
     "execution_count": 6,
     "metadata": {},
     "output_type": "execute_result"
    }
   ],
   "source": [
    "import pandas as pd\n",
    "import pickle\n",
    "\n",
    "embeddings = []\n",
    "\n",
    "# read the 3 separate files with information regarding embeddings\n",
    "for file in ['processed_data/all_restaurant_vectors_pt1',\n",
    "             'processed_data/all_restaurant_vectors_pt2',\n",
    "             'processed_data/all_restaurant_vectors_pt3']:\n",
    "\n",
    "    # read file and obtain data for ids and restaurants\n",
    "    with open(file, \"rb\") as pickle_file:\n",
    "        restaurant_vectors = pickle.load(pickle_file)\n",
    "\n",
    "        # add the data to our new lists with all information\n",
    "        ids = restaurant_vectors[0]\n",
    "        embeddings += restaurant_vectors[1]\n",
    "\n",
    "# create dataframe from lists\n",
    "restaurants = {'business_id': ids, 'embedding': embeddings}\n",
    "restaurants = pd.DataFrame(data=restaurants)\n",
    "\n",
    "# show results\n",
    "restaurants"
   ]
  },
  {
   "cell_type": "code",
   "execution_count": null,
   "outputs": [],
   "source": [],
   "metadata": {
    "collapsed": false,
    "pycharm": {
     "name": "#%%\n"
    }
   }
  }
 ],
 "metadata": {
  "kernelspec": {
   "display_name": "Python 3",
   "language": "python",
   "name": "python3"
  },
  "language_info": {
   "codemirror_mode": {
    "name": "ipython",
    "version": 2
   },
   "file_extension": ".py",
   "mimetype": "text/x-python",
   "name": "python",
   "nbconvert_exporter": "python",
   "pygments_lexer": "ipython2",
   "version": "2.7.6"
  }
 },
 "nbformat": 4,
 "nbformat_minor": 0
}