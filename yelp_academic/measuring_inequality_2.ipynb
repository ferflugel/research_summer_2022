{
 "cells": [
  {
   "cell_type": "code",
   "execution_count": 2,
   "outputs": [],
   "source": [
    "import pandas as pd\n",
    "\n",
    "# import data for restaurants and reviews\n",
    "restaurants = pd.read_csv('processed_data/restaurants_price_score.csv')\n",
    "reviews = pd.read_csv('processed_data/reviews_restaurants.csv')\n",
    "\n",
    "# filter the data to reviews of restaurants with a price score\n",
    "reviews = reviews[reviews['business_id'].isin(restaurants['business_id'].tolist())]"
   ],
   "metadata": {
    "collapsed": false,
    "pycharm": {
     "name": "#%%\n"
    }
   }
  },
  {
   "cell_type": "code",
   "execution_count": 3,
   "outputs": [
    {
     "data": {
      "text/plain": "                      review_id                 user_id  \\\n0        KU_O5udG6zpxOg-VcAEodg  mh_-eMZ6K5RLWhZyISBhwA   \n1        saUsX_uimxRlCVr67Z4Jig  8g_iMtfSiwikVnbP2etR0A   \n2        AqPFMleE6RsU23_auESxiA  _7bHUi9Uuf5__HHc_Q8guQ   \n3        Sx8TMOWLNuJBWer-0pcmoA  bcjbaE6dDog4jkNY91ncLQ   \n4        JrIxlS1TzJ-iCu79ul40cQ  eUta8W_HdHMXPzLBBZhL1A   \n...                         ...                     ...   \n4548081  cACxcUY_AIsQKkpDRXuqnw  MCzlzlOw7IGbRAKVjJBPtg   \n4548082  7NgXAuTFiJHYbuepOPwU0w  x1QLCwZGFAjxRRw4EHc3-g   \n4548083  YVX1Wsa4LYxjvFwuHBb_gA  RKPkxOYQlM0BjhM-H6_vAw   \n4548084  i-I4ZOhoX70Nw5H0FwrQUA  YwAMC-jvZ1fvEUum6QkEkw   \n4548085  RwcKOdEuLRHNJe4M9-qpqg  6JehEvdoCvZPJ_XIxnzIIw   \n\n                    business_id  stars  useful  funny  cool  \\\n0        XQfwVwDr-v0ZS3_CbbE5Xw    3.0     0.0    0.0   0.0   \n1        YjUWPpI6HXG530lwP-fb2A    3.0     0.0    0.0   0.0   \n2        kxX2SOes4o-D3ZQBkiMRfA    5.0     1.0    0.0   1.0   \n3        e4Vwtrqf-wpJfwesgvdgxQ    4.0     1.0    0.0   1.0   \n4        04UD14gamNjLY0IDYVhHJg    1.0     1.0    2.0   1.0   \n...                         ...    ...     ...    ...   ...   \n4548081  fcGexL5VH5G2Xw0tRj9uOQ    3.0     1.0    1.0   0.0   \n4548082  1_BVWDzi5cVqWxNe9bOMMQ    5.0     1.0    0.0   1.0   \n4548083  X4mouE_cMiwbfyCPZ_K-FA    4.0     3.0    0.0   2.0   \n4548084  Rr9kKArrMhSLVE9a53q-aA    5.0     1.0    0.0   0.0   \n4548085  VAeEXLbEcI9Emt9KGYq9aA    3.0    10.0    3.0   7.0   \n\n                                                      text  \\\n0        If you decide to eat here, just be aware it is...   \n1        Family diner. Had the buffet. Eclectic assortm...   \n2        Wow!  Yummy, different,  delicious.   Our favo...   \n3        Cute interior and owner (?) gave us tour of up...   \n4        I am a long term frequent customer of this est...   \n...                                                    ...   \n4548081  This is a good pizza option - they deliver thr...   \n4548082  Don't misinterpret my 5-star review....I don't...   \n4548083  Good, maybe very good.  I went for lunch, so t...   \n4548084  For when I'm feeling like ignoring my calorie-...   \n4548085  Located in the 'Walking District' in Nashville...   \n\n                        date  price_range state  price_score  \n0        2018-07-07 22:09:11            2    PA     2.063325  \n1        2014-02-05 20:30:30            1    AZ     1.959730  \n2        2015-01-04 00:01:03            2    PA     2.165627  \n3        2017-01-14 20:54:15            2    LA     1.263071  \n4        2015-09-23 23:10:31            2    PA     2.469745  \n...                      ...          ...   ...          ...  \n4548081  2018-03-13 13:54:48            2    PA     1.907695  \n4548082  2016-04-30 01:02:34            1    MO     0.779100  \n4548083  2015-01-23 23:52:03            2    NJ     2.093681  \n4548084  2022-01-19 18:59:27            2    IN     2.042872  \n4548085  2018-01-02 22:50:47            2    TN     1.575570  \n\n[4548086 rows x 12 columns]",
      "text/html": "<div>\n<style scoped>\n    .dataframe tbody tr th:only-of-type {\n        vertical-align: middle;\n    }\n\n    .dataframe tbody tr th {\n        vertical-align: top;\n    }\n\n    .dataframe thead th {\n        text-align: right;\n    }\n</style>\n<table border=\"1\" class=\"dataframe\">\n  <thead>\n    <tr style=\"text-align: right;\">\n      <th></th>\n      <th>review_id</th>\n      <th>user_id</th>\n      <th>business_id</th>\n      <th>stars</th>\n      <th>useful</th>\n      <th>funny</th>\n      <th>cool</th>\n      <th>text</th>\n      <th>date</th>\n      <th>price_range</th>\n      <th>state</th>\n      <th>price_score</th>\n    </tr>\n  </thead>\n  <tbody>\n    <tr>\n      <th>0</th>\n      <td>KU_O5udG6zpxOg-VcAEodg</td>\n      <td>mh_-eMZ6K5RLWhZyISBhwA</td>\n      <td>XQfwVwDr-v0ZS3_CbbE5Xw</td>\n      <td>3.0</td>\n      <td>0.0</td>\n      <td>0.0</td>\n      <td>0.0</td>\n      <td>If you decide to eat here, just be aware it is...</td>\n      <td>2018-07-07 22:09:11</td>\n      <td>2</td>\n      <td>PA</td>\n      <td>2.063325</td>\n    </tr>\n    <tr>\n      <th>1</th>\n      <td>saUsX_uimxRlCVr67Z4Jig</td>\n      <td>8g_iMtfSiwikVnbP2etR0A</td>\n      <td>YjUWPpI6HXG530lwP-fb2A</td>\n      <td>3.0</td>\n      <td>0.0</td>\n      <td>0.0</td>\n      <td>0.0</td>\n      <td>Family diner. Had the buffet. Eclectic assortm...</td>\n      <td>2014-02-05 20:30:30</td>\n      <td>1</td>\n      <td>AZ</td>\n      <td>1.959730</td>\n    </tr>\n    <tr>\n      <th>2</th>\n      <td>AqPFMleE6RsU23_auESxiA</td>\n      <td>_7bHUi9Uuf5__HHc_Q8guQ</td>\n      <td>kxX2SOes4o-D3ZQBkiMRfA</td>\n      <td>5.0</td>\n      <td>1.0</td>\n      <td>0.0</td>\n      <td>1.0</td>\n      <td>Wow!  Yummy, different,  delicious.   Our favo...</td>\n      <td>2015-01-04 00:01:03</td>\n      <td>2</td>\n      <td>PA</td>\n      <td>2.165627</td>\n    </tr>\n    <tr>\n      <th>3</th>\n      <td>Sx8TMOWLNuJBWer-0pcmoA</td>\n      <td>bcjbaE6dDog4jkNY91ncLQ</td>\n      <td>e4Vwtrqf-wpJfwesgvdgxQ</td>\n      <td>4.0</td>\n      <td>1.0</td>\n      <td>0.0</td>\n      <td>1.0</td>\n      <td>Cute interior and owner (?) gave us tour of up...</td>\n      <td>2017-01-14 20:54:15</td>\n      <td>2</td>\n      <td>LA</td>\n      <td>1.263071</td>\n    </tr>\n    <tr>\n      <th>4</th>\n      <td>JrIxlS1TzJ-iCu79ul40cQ</td>\n      <td>eUta8W_HdHMXPzLBBZhL1A</td>\n      <td>04UD14gamNjLY0IDYVhHJg</td>\n      <td>1.0</td>\n      <td>1.0</td>\n      <td>2.0</td>\n      <td>1.0</td>\n      <td>I am a long term frequent customer of this est...</td>\n      <td>2015-09-23 23:10:31</td>\n      <td>2</td>\n      <td>PA</td>\n      <td>2.469745</td>\n    </tr>\n    <tr>\n      <th>...</th>\n      <td>...</td>\n      <td>...</td>\n      <td>...</td>\n      <td>...</td>\n      <td>...</td>\n      <td>...</td>\n      <td>...</td>\n      <td>...</td>\n      <td>...</td>\n      <td>...</td>\n      <td>...</td>\n      <td>...</td>\n    </tr>\n    <tr>\n      <th>4548081</th>\n      <td>cACxcUY_AIsQKkpDRXuqnw</td>\n      <td>MCzlzlOw7IGbRAKVjJBPtg</td>\n      <td>fcGexL5VH5G2Xw0tRj9uOQ</td>\n      <td>3.0</td>\n      <td>1.0</td>\n      <td>1.0</td>\n      <td>0.0</td>\n      <td>This is a good pizza option - they deliver thr...</td>\n      <td>2018-03-13 13:54:48</td>\n      <td>2</td>\n      <td>PA</td>\n      <td>1.907695</td>\n    </tr>\n    <tr>\n      <th>4548082</th>\n      <td>7NgXAuTFiJHYbuepOPwU0w</td>\n      <td>x1QLCwZGFAjxRRw4EHc3-g</td>\n      <td>1_BVWDzi5cVqWxNe9bOMMQ</td>\n      <td>5.0</td>\n      <td>1.0</td>\n      <td>0.0</td>\n      <td>1.0</td>\n      <td>Don't misinterpret my 5-star review....I don't...</td>\n      <td>2016-04-30 01:02:34</td>\n      <td>1</td>\n      <td>MO</td>\n      <td>0.779100</td>\n    </tr>\n    <tr>\n      <th>4548083</th>\n      <td>YVX1Wsa4LYxjvFwuHBb_gA</td>\n      <td>RKPkxOYQlM0BjhM-H6_vAw</td>\n      <td>X4mouE_cMiwbfyCPZ_K-FA</td>\n      <td>4.0</td>\n      <td>3.0</td>\n      <td>0.0</td>\n      <td>2.0</td>\n      <td>Good, maybe very good.  I went for lunch, so t...</td>\n      <td>2015-01-23 23:52:03</td>\n      <td>2</td>\n      <td>NJ</td>\n      <td>2.093681</td>\n    </tr>\n    <tr>\n      <th>4548084</th>\n      <td>i-I4ZOhoX70Nw5H0FwrQUA</td>\n      <td>YwAMC-jvZ1fvEUum6QkEkw</td>\n      <td>Rr9kKArrMhSLVE9a53q-aA</td>\n      <td>5.0</td>\n      <td>1.0</td>\n      <td>0.0</td>\n      <td>0.0</td>\n      <td>For when I'm feeling like ignoring my calorie-...</td>\n      <td>2022-01-19 18:59:27</td>\n      <td>2</td>\n      <td>IN</td>\n      <td>2.042872</td>\n    </tr>\n    <tr>\n      <th>4548085</th>\n      <td>RwcKOdEuLRHNJe4M9-qpqg</td>\n      <td>6JehEvdoCvZPJ_XIxnzIIw</td>\n      <td>VAeEXLbEcI9Emt9KGYq9aA</td>\n      <td>3.0</td>\n      <td>10.0</td>\n      <td>3.0</td>\n      <td>7.0</td>\n      <td>Located in the 'Walking District' in Nashville...</td>\n      <td>2018-01-02 22:50:47</td>\n      <td>2</td>\n      <td>TN</td>\n      <td>1.575570</td>\n    </tr>\n  </tbody>\n</table>\n<p>4548086 rows × 12 columns</p>\n</div>"
     },
     "execution_count": 3,
     "metadata": {},
     "output_type": "execute_result"
    }
   ],
   "source": [
    "# transfer information from price score to reviews\n",
    "price_information = dict(zip(restaurants['business_id'].tolist(), restaurants['price_score'].tolist()))\n",
    "reviews['price_score'] = reviews['business_id'].apply(lambda x: price_information.get(x))\n",
    "\n",
    "reviews"
   ],
   "metadata": {
    "collapsed": false,
    "pycharm": {
     "name": "#%%\n"
    }
   }
  },
  {
   "cell_type": "code",
   "execution_count": 29,
   "outputs": [
    {
     "data": {
      "text/plain": "   state_x   G_range   G_score       state_y postal_code  gini_index_2019  \\\n0       NV  0.099984  0.148476        Nevada          NV           0.4710   \n1       AZ  0.127563  0.136668       Arizona          AZ           0.4591   \n2       IN  0.126791  0.134635       Indiana          IN           0.4584   \n3       CA  0.118746  0.147286    California          CA           0.4866   \n4       IL  0.132385  0.123857      Illinois          IL           0.4800   \n5       MO  0.113359  0.128173      Missouri          MO           0.4633   \n6       PA  0.127983  0.123207  Pennsylvania          PA           0.4745   \n7       LA  0.098158  0.121691     Louisiana          LA           0.4978   \n8       DE  0.111945  0.122482      Delaware          DE           0.4509   \n9       NJ  0.122779  0.125566    New Jersey          NJ           0.4782   \n10      ID  0.116838  0.127831         Idaho          ID           0.4337   \n11      FL  0.118931  0.124723       Florida          FL           0.4808   \n12      TN  0.121001  0.140475     Tennessee          TN           0.4749   \n\n    gdppc_2021  \n0        61375  \n1        56511  \n2        61760  \n3        85546  \n4        74052  \n5        58356  \n6        64751  \n7        55213  \n8        80446  \n9        72524  \n10       49616  \n11       56301  \n12       59969  ",
      "text/html": "<div>\n<style scoped>\n    .dataframe tbody tr th:only-of-type {\n        vertical-align: middle;\n    }\n\n    .dataframe tbody tr th {\n        vertical-align: top;\n    }\n\n    .dataframe thead th {\n        text-align: right;\n    }\n</style>\n<table border=\"1\" class=\"dataframe\">\n  <thead>\n    <tr style=\"text-align: right;\">\n      <th></th>\n      <th>state_x</th>\n      <th>G_range</th>\n      <th>G_score</th>\n      <th>state_y</th>\n      <th>postal_code</th>\n      <th>gini_index_2019</th>\n      <th>gdppc_2021</th>\n    </tr>\n  </thead>\n  <tbody>\n    <tr>\n      <th>0</th>\n      <td>NV</td>\n      <td>0.099984</td>\n      <td>0.148476</td>\n      <td>Nevada</td>\n      <td>NV</td>\n      <td>0.4710</td>\n      <td>61375</td>\n    </tr>\n    <tr>\n      <th>1</th>\n      <td>AZ</td>\n      <td>0.127563</td>\n      <td>0.136668</td>\n      <td>Arizona</td>\n      <td>AZ</td>\n      <td>0.4591</td>\n      <td>56511</td>\n    </tr>\n    <tr>\n      <th>2</th>\n      <td>IN</td>\n      <td>0.126791</td>\n      <td>0.134635</td>\n      <td>Indiana</td>\n      <td>IN</td>\n      <td>0.4584</td>\n      <td>61760</td>\n    </tr>\n    <tr>\n      <th>3</th>\n      <td>CA</td>\n      <td>0.118746</td>\n      <td>0.147286</td>\n      <td>California</td>\n      <td>CA</td>\n      <td>0.4866</td>\n      <td>85546</td>\n    </tr>\n    <tr>\n      <th>4</th>\n      <td>IL</td>\n      <td>0.132385</td>\n      <td>0.123857</td>\n      <td>Illinois</td>\n      <td>IL</td>\n      <td>0.4800</td>\n      <td>74052</td>\n    </tr>\n    <tr>\n      <th>5</th>\n      <td>MO</td>\n      <td>0.113359</td>\n      <td>0.128173</td>\n      <td>Missouri</td>\n      <td>MO</td>\n      <td>0.4633</td>\n      <td>58356</td>\n    </tr>\n    <tr>\n      <th>6</th>\n      <td>PA</td>\n      <td>0.127983</td>\n      <td>0.123207</td>\n      <td>Pennsylvania</td>\n      <td>PA</td>\n      <td>0.4745</td>\n      <td>64751</td>\n    </tr>\n    <tr>\n      <th>7</th>\n      <td>LA</td>\n      <td>0.098158</td>\n      <td>0.121691</td>\n      <td>Louisiana</td>\n      <td>LA</td>\n      <td>0.4978</td>\n      <td>55213</td>\n    </tr>\n    <tr>\n      <th>8</th>\n      <td>DE</td>\n      <td>0.111945</td>\n      <td>0.122482</td>\n      <td>Delaware</td>\n      <td>DE</td>\n      <td>0.4509</td>\n      <td>80446</td>\n    </tr>\n    <tr>\n      <th>9</th>\n      <td>NJ</td>\n      <td>0.122779</td>\n      <td>0.125566</td>\n      <td>New Jersey</td>\n      <td>NJ</td>\n      <td>0.4782</td>\n      <td>72524</td>\n    </tr>\n    <tr>\n      <th>10</th>\n      <td>ID</td>\n      <td>0.116838</td>\n      <td>0.127831</td>\n      <td>Idaho</td>\n      <td>ID</td>\n      <td>0.4337</td>\n      <td>49616</td>\n    </tr>\n    <tr>\n      <th>11</th>\n      <td>FL</td>\n      <td>0.118931</td>\n      <td>0.124723</td>\n      <td>Florida</td>\n      <td>FL</td>\n      <td>0.4808</td>\n      <td>56301</td>\n    </tr>\n    <tr>\n      <th>12</th>\n      <td>TN</td>\n      <td>0.121001</td>\n      <td>0.140475</td>\n      <td>Tennessee</td>\n      <td>TN</td>\n      <td>0.4749</td>\n      <td>59969</td>\n    </tr>\n  </tbody>\n</table>\n</div>"
     },
     "execution_count": 29,
     "metadata": {},
     "output_type": "execute_result"
    }
   ],
   "source": [
    "from yelp_functions import gini_index_sample\n",
    "\n",
    "# create a set with all the states and a dictionary to store the values of G\n",
    "states = set(reviews['state'].tolist())\n",
    "G_values = dict()\n",
    "\n",
    "# fill the dictionary with the G values\n",
    "for state in states:\n",
    "    if state in ['AB', 'CO', 'NC', 'XMS']:\n",
    "        pass\n",
    "    else:\n",
    "        state_reviews = reviews.loc[reviews['state'] == state]\n",
    "        state_reviews = state_reviews.groupby('user_id').mean()\n",
    "        G_values[state] = [gini_index_sample(state_reviews['price_range'].tolist()),\n",
    "                           gini_index_sample(state_reviews['price_score'].tolist())]\n",
    "\n",
    "# create a dataframe for the data using G values\n",
    "inequality_data = pd.DataFrame.from_dict(G_values, orient='index').reset_index()\n",
    "inequality_data.rename(columns = {'index': 'state', 0: 'G_range', 1:'G_score'}, inplace = True)\n",
    "\n",
    "# merge data from gini index with the inequality dataframe\n",
    "states_data = pd.read_csv('processed_data/states_data.csv')\n",
    "inequality_data = inequality_data.merge(states_data, left_on='state', right_on='postal_code')\n",
    "\n",
    "inequality_data"
   ],
   "metadata": {
    "collapsed": false,
    "pycharm": {
     "name": "#%%\n"
    }
   }
  },
  {
   "cell_type": "code",
   "execution_count": 30,
   "outputs": [
    {
     "data": {
      "text/plain": "<Figure size 432x288 with 1 Axes>",
      "image/png": "[encoded data removed]"
     },
     "metadata": {},
     "output_type": "display_data"
    }
   ],
   "source": [
    "import seaborn as sns\n",
    "import matplotlib.pyplot as plt\n",
    "\n",
    "sns.set_style('white')\n",
    "\n",
    "# Plot G data vs gini_index\n",
    "# sns.scatterplot(data=inequality_data, x='gini_index_2019', y='G_range', color=[0.6, 0.6, 1.0])\n",
    "sns.scatterplot(data=inequality_data, x='gini_index_2019', y='G_score', color=[1.0, 0.6, 0.6])\n",
    "plt.ylabel('G_values')\n",
    "plt.xlim(0.415, 0.51)\n",
    "plt.savefig('figures/gini_index_vs_G_values.png', dpi=250)\n",
    "plt.show()"
   ],
   "metadata": {
    "collapsed": false,
    "pycharm": {
     "name": "#%%\n"
    }
   }
  },
  {
   "cell_type": "code",
   "execution_count": 39,
   "outputs": [
    {
     "data": {
      "text/plain": "   state_x   G_range   G_score       state_y postal_code  gini_index_2019  \\\n0       NV  0.262491  0.425235        Nevada          NV           0.4710   \n1       AZ  0.305214  0.383016       Arizona          AZ           0.4591   \n2       IN  0.309183  0.385875       Indiana          IN           0.4584   \n3       CA  0.350161  0.416389    California          CA           0.4866   \n4       IL  0.292799  0.342778      Illinois          IL           0.4800   \n5       MO  0.278549  0.363177      Missouri          MO           0.4633   \n6       PA  0.348168  0.355168  Pennsylvania          PA           0.4745   \n7       LA  0.289684  0.351155     Louisiana          LA           0.4978   \n8       DE  0.269292  0.351808      Delaware          DE           0.4509   \n9       NJ  0.307001  0.359920    New Jersey          NJ           0.4782   \n10      ID  0.283067  0.364745         Idaho          ID           0.4337   \n11      FL  0.300890  0.363359       Florida          FL           0.4808   \n12      TN  0.327011  0.407130     Tennessee          TN           0.4749   \n\n    gdppc_2021  \n0        61375  \n1        56511  \n2        61760  \n3        85546  \n4        74052  \n5        58356  \n6        64751  \n7        55213  \n8        80446  \n9        72524  \n10       49616  \n11       56301  \n12       59969  ",
      "text/html": "<div>\n<style scoped>\n    .dataframe tbody tr th:only-of-type {\n        vertical-align: middle;\n    }\n\n    .dataframe tbody tr th {\n        vertical-align: top;\n    }\n\n    .dataframe thead th {\n        text-align: right;\n    }\n</style>\n<table border=\"1\" class=\"dataframe\">\n  <thead>\n    <tr style=\"text-align: right;\">\n      <th></th>\n      <th>state_x</th>\n      <th>G_range</th>\n      <th>G_score</th>\n      <th>state_y</th>\n      <th>postal_code</th>\n      <th>gini_index_2019</th>\n      <th>gdppc_2021</th>\n    </tr>\n  </thead>\n  <tbody>\n    <tr>\n      <th>0</th>\n      <td>NV</td>\n      <td>0.262491</td>\n      <td>0.425235</td>\n      <td>Nevada</td>\n      <td>NV</td>\n      <td>0.4710</td>\n      <td>61375</td>\n    </tr>\n    <tr>\n      <th>1</th>\n      <td>AZ</td>\n      <td>0.305214</td>\n      <td>0.383016</td>\n      <td>Arizona</td>\n      <td>AZ</td>\n      <td>0.4591</td>\n      <td>56511</td>\n    </tr>\n    <tr>\n      <th>2</th>\n      <td>IN</td>\n      <td>0.309183</td>\n      <td>0.385875</td>\n      <td>Indiana</td>\n      <td>IN</td>\n      <td>0.4584</td>\n      <td>61760</td>\n    </tr>\n    <tr>\n      <th>3</th>\n      <td>CA</td>\n      <td>0.350161</td>\n      <td>0.416389</td>\n      <td>California</td>\n      <td>CA</td>\n      <td>0.4866</td>\n      <td>85546</td>\n    </tr>\n    <tr>\n      <th>4</th>\n      <td>IL</td>\n      <td>0.292799</td>\n      <td>0.342778</td>\n      <td>Illinois</td>\n      <td>IL</td>\n      <td>0.4800</td>\n      <td>74052</td>\n    </tr>\n    <tr>\n      <th>5</th>\n      <td>MO</td>\n      <td>0.278549</td>\n      <td>0.363177</td>\n      <td>Missouri</td>\n      <td>MO</td>\n      <td>0.4633</td>\n      <td>58356</td>\n    </tr>\n    <tr>\n      <th>6</th>\n      <td>PA</td>\n      <td>0.348168</td>\n      <td>0.355168</td>\n      <td>Pennsylvania</td>\n      <td>PA</td>\n      <td>0.4745</td>\n      <td>64751</td>\n    </tr>\n    <tr>\n      <th>7</th>\n      <td>LA</td>\n      <td>0.289684</td>\n      <td>0.351155</td>\n      <td>Louisiana</td>\n      <td>LA</td>\n      <td>0.4978</td>\n      <td>55213</td>\n    </tr>\n    <tr>\n      <th>8</th>\n      <td>DE</td>\n      <td>0.269292</td>\n      <td>0.351808</td>\n      <td>Delaware</td>\n      <td>DE</td>\n      <td>0.4509</td>\n      <td>80446</td>\n    </tr>\n    <tr>\n      <th>9</th>\n      <td>NJ</td>\n      <td>0.307001</td>\n      <td>0.359920</td>\n      <td>New Jersey</td>\n      <td>NJ</td>\n      <td>0.4782</td>\n      <td>72524</td>\n    </tr>\n    <tr>\n      <th>10</th>\n      <td>ID</td>\n      <td>0.283067</td>\n      <td>0.364745</td>\n      <td>Idaho</td>\n      <td>ID</td>\n      <td>0.4337</td>\n      <td>49616</td>\n    </tr>\n    <tr>\n      <th>11</th>\n      <td>FL</td>\n      <td>0.300890</td>\n      <td>0.363359</td>\n      <td>Florida</td>\n      <td>FL</td>\n      <td>0.4808</td>\n      <td>56301</td>\n    </tr>\n    <tr>\n      <th>12</th>\n      <td>TN</td>\n      <td>0.327011</td>\n      <td>0.407130</td>\n      <td>Tennessee</td>\n      <td>TN</td>\n      <td>0.4749</td>\n      <td>59969</td>\n    </tr>\n  </tbody>\n</table>\n</div>"
     },
     "execution_count": 39,
     "metadata": {},
     "output_type": "execute_result"
    }
   ],
   "source": [
    "from yelp_functions import gini_index_sample\n",
    "\n",
    "# create a set with all the states and a dictionary to store the values of G\n",
    "states = set(reviews['state'].tolist())\n",
    "G_values = dict()\n",
    "\n",
    "reviews['price_range_squared'] = reviews['price_range'] ** 3\n",
    "reviews['price_score_squared'] = reviews['price_score'] ** 3\n",
    "\n",
    "# fill the dictionary with the G values\n",
    "for state in states:\n",
    "    if state in ['AB', 'CO', 'NC', 'XMS']:\n",
    "        pass\n",
    "    else:\n",
    "        state_reviews = reviews.loc[reviews['state'] == state]\n",
    "        state_reviews = state_reviews.groupby('user_id').mean()\n",
    "        G_values[state] = [gini_index_sample(state_reviews['price_range_squared'].tolist()),\n",
    "                           gini_index_sample(state_reviews['price_score_squared'].tolist())]\n",
    "\n",
    "# create a dataframe for the data using G values\n",
    "inequality_data = pd.DataFrame.from_dict(G_values, orient='index').reset_index()\n",
    "inequality_data.rename(columns = {'index': 'state', 0: 'G_range', 1:'G_score'}, inplace = True)\n",
    "\n",
    "# merge data from gini index with the inequality dataframe\n",
    "states_data = pd.read_csv('processed_data/states_data.csv')\n",
    "inequality_data = inequality_data.merge(states_data, left_on='state', right_on='postal_code')\n",
    "\n",
    "inequality_data"
   ],
   "metadata": {
    "collapsed": false,
    "pycharm": {
     "name": "#%%\n"
    }
   }
  },
  {
   "cell_type": "code",
   "execution_count": 40,
   "outputs": [
    {
     "data": {
      "text/plain": "<Figure size 432x288 with 1 Axes>",
      "image/png": "[encoded data removed]"
     },
     "metadata": {},
     "output_type": "display_data"
    }
   ],
   "source": [
    "# Plot G data vs gini_index\n",
    "# sns.scatterplot(data=inequality_data, x='gini_index_2019', y='G_range', color=[0.6, 0.6, 1.0])\n",
    "sns.scatterplot(data=inequality_data, x='gini_index_2019', y='G_score', color=[1.0, 0.6, 0.6])\n",
    "plt.ylabel('G_values')\n",
    "plt.xlim(0.415, 0.51)\n",
    "plt.savefig('figures/gini_index_vs_G_values_v2.png', dpi=250)\n",
    "plt.show()"
   ],
   "metadata": {
    "collapsed": false,
    "pycharm": {
     "name": "#%%\n"
    }
   }
  },
  {
   "cell_type": "code",
   "execution_count": null,
   "outputs": [],
   "source": [],
   "metadata": {
    "collapsed": false,
    "pycharm": {
     "name": "#%%\n"
    }
   }
  }
 ],
 "metadata": {
  "kernelspec": {
   "display_name": "Python 3",
   "language": "python",
   "name": "python3"
  },
  "language_info": {
   "codemirror_mode": {
    "name": "ipython",
    "version": 2
   },
   "file_extension": ".py",
   "mimetype": "text/x-python",
   "name": "python",
   "nbconvert_exporter": "python",
   "pygments_lexer": "ipython2",
   "version": "2.7.6"
  }
 },
 "nbformat": 4,
 "nbformat_minor": 0
}