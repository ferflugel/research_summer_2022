{
 "cells": [
  {
   "cell_type": "code",
   "execution_count": 22,
   "outputs": [],
   "source": [
    "import pandas as pd\n",
    "\n",
    "# read file with reviews data for restaurants\n",
    "reviews = pd.read_csv('processed_data/reviews_restaurants.csv')"
   ],
   "metadata": {
    "collapsed": false,
    "pycharm": {
     "name": "#%%\n"
    }
   }
  },
  {
   "cell_type": "code",
   "execution_count": 23,
   "outputs": [
    {
     "data": {
      "text/plain": "             review_id  user_id  business_id   stars  useful   funny    cool  \\\nprice_class                                                                    \ncheap           967113   967113       967113  967113  967113  967113  967113   \nexpensive       332694   332694       332694  332694  332694  332694  332694   \n\n               text    date  price_range   state  \nprice_class                                       \ncheap        967113  967113       967113  967113  \nexpensive    332694  332694       332694  332694  ",
      "text/html": "<div>\n<style scoped>\n    .dataframe tbody tr th:only-of-type {\n        vertical-align: middle;\n    }\n\n    .dataframe tbody tr th {\n        vertical-align: top;\n    }\n\n    .dataframe thead th {\n        text-align: right;\n    }\n</style>\n<table border=\"1\" class=\"dataframe\">\n  <thead>\n    <tr style=\"text-align: right;\">\n      <th></th>\n      <th>review_id</th>\n      <th>user_id</th>\n      <th>business_id</th>\n      <th>stars</th>\n      <th>useful</th>\n      <th>funny</th>\n      <th>cool</th>\n      <th>text</th>\n      <th>date</th>\n      <th>price_range</th>\n      <th>state</th>\n    </tr>\n    <tr>\n      <th>price_class</th>\n      <th></th>\n      <th></th>\n      <th></th>\n      <th></th>\n      <th></th>\n      <th></th>\n      <th></th>\n      <th></th>\n      <th></th>\n      <th></th>\n      <th></th>\n    </tr>\n  </thead>\n  <tbody>\n    <tr>\n      <th>cheap</th>\n      <td>967113</td>\n      <td>967113</td>\n      <td>967113</td>\n      <td>967113</td>\n      <td>967113</td>\n      <td>967113</td>\n      <td>967113</td>\n      <td>967113</td>\n      <td>967113</td>\n      <td>967113</td>\n      <td>967113</td>\n    </tr>\n    <tr>\n      <th>expensive</th>\n      <td>332694</td>\n      <td>332694</td>\n      <td>332694</td>\n      <td>332694</td>\n      <td>332694</td>\n      <td>332694</td>\n      <td>332694</td>\n      <td>332694</td>\n      <td>332694</td>\n      <td>332694</td>\n      <td>332694</td>\n    </tr>\n  </tbody>\n</table>\n</div>"
     },
     "execution_count": 23,
     "metadata": {},
     "output_type": "execute_result"
    }
   ],
   "source": [
    "# filter out restaurants with price range of 2\n",
    "reviews = reviews[reviews['price_range'] != 2]\n",
    "\n",
    "# add categories based on price\n",
    "reviews['price_class'] = ''\n",
    "reviews.loc[reviews['price_range'] == 1, 'price_class'] = 'cheap'\n",
    "reviews.loc[reviews['price_range'] >= 3, 'price_class'] = 'expensive'\n",
    "\n",
    "# check results\n",
    "reviews.groupby('price_class').count()"
   ],
   "metadata": {
    "collapsed": false,
    "pycharm": {
     "name": "#%%\n"
    }
   }
  },
  {
   "cell_type": "code",
   "execution_count": 24,
   "outputs": [
    {
     "data": {
      "text/plain": "             review_id  user_id  business_id  stars  useful  funny   cool  \\\nprice_class                                                                 \ncheap            10000    10000        10000  10000   10000  10000  10000   \nexpensive        10000    10000        10000  10000   10000  10000  10000   \n\n              text   date  price_range  state  \nprice_class                                    \ncheap        10000  10000        10000  10000  \nexpensive    10000  10000        10000  10000  ",
      "text/html": "<div>\n<style scoped>\n    .dataframe tbody tr th:only-of-type {\n        vertical-align: middle;\n    }\n\n    .dataframe tbody tr th {\n        vertical-align: top;\n    }\n\n    .dataframe thead th {\n        text-align: right;\n    }\n</style>\n<table border=\"1\" class=\"dataframe\">\n  <thead>\n    <tr style=\"text-align: right;\">\n      <th></th>\n      <th>review_id</th>\n      <th>user_id</th>\n      <th>business_id</th>\n      <th>stars</th>\n      <th>useful</th>\n      <th>funny</th>\n      <th>cool</th>\n      <th>text</th>\n      <th>date</th>\n      <th>price_range</th>\n      <th>state</th>\n    </tr>\n    <tr>\n      <th>price_class</th>\n      <th></th>\n      <th></th>\n      <th></th>\n      <th></th>\n      <th></th>\n      <th></th>\n      <th></th>\n      <th></th>\n      <th></th>\n      <th></th>\n      <th></th>\n    </tr>\n  </thead>\n  <tbody>\n    <tr>\n      <th>cheap</th>\n      <td>10000</td>\n      <td>10000</td>\n      <td>10000</td>\n      <td>10000</td>\n      <td>10000</td>\n      <td>10000</td>\n      <td>10000</td>\n      <td>10000</td>\n      <td>10000</td>\n      <td>10000</td>\n      <td>10000</td>\n    </tr>\n    <tr>\n      <th>expensive</th>\n      <td>10000</td>\n      <td>10000</td>\n      <td>10000</td>\n      <td>10000</td>\n      <td>10000</td>\n      <td>10000</td>\n      <td>10000</td>\n      <td>10000</td>\n      <td>10000</td>\n      <td>10000</td>\n      <td>10000</td>\n    </tr>\n  </tbody>\n</table>\n</div>"
     },
     "execution_count": 24,
     "metadata": {},
     "output_type": "execute_result"
    }
   ],
   "source": [
    "# reduce the dataset to 10000 reviews of each category\n",
    "reviews = reviews.groupby('price_class').apply(lambda x: x.sample(10000, random_state=0).reset_index(drop=True))\n",
    "reviews = reviews.droplevel(level=0)\n",
    "\n",
    "# check if the sampling went well\n",
    "reviews.groupby('price_class').count()"
   ],
   "metadata": {
    "collapsed": false,
    "pycharm": {
     "name": "#%%\n"
    }
   }
  },
  {
   "cell_type": "code",
   "execution_count": 25,
   "outputs": [],
   "source": [
    "from sklearn.model_selection import train_test_split\n",
    "import numpy as np\n",
    "\n",
    "review_group = reviews['price_class'].tolist()\n",
    "X_train, X_test, y_train, y_test = train_test_split(reviews[['text']], np.array(review_group), test_size = 0.25, random_state=0)"
   ],
   "metadata": {
    "collapsed": false,
    "pycharm": {
     "name": "#%%\n"
    }
   }
  },
  {
   "cell_type": "code",
   "execution_count": 26,
   "outputs": [
    {
     "data": {
      "text/plain": "(15000, 4096, 1.0)"
     },
     "execution_count": 26,
     "metadata": {},
     "output_type": "execute_result"
    }
   ],
   "source": [
    "from yelp_functions import get_processed_inputs, sum_to_one\n",
    "from sklearn.feature_extraction.text import CountVectorizer\n",
    "\n",
    "# pre-process the inputs\n",
    "X_train = get_processed_inputs(X_train)\n",
    "\n",
    "# create the BoW representation for the set\n",
    "bow_vec = CountVectorizer(max_features=4096, ngram_range=(1,2))\n",
    "X_train = bow_vec.fit_transform(X_train)\n",
    "\n",
    "# create the array with BoW and normalize it\n",
    "X_train = X_train.toarray()\n",
    "X_train = sum_to_one(X_train)\n",
    "\n",
    "# we now create vectors for testing\n",
    "X_test = get_processed_inputs(X_test)\n",
    "X_test = bow_vec.transform(X_test)\n",
    "X_test = X_test.toarray()\n",
    "X_test = sum_to_one(X_test)\n",
    "\n",
    "# check results for X_test\n",
    "len(X_train), X_train[0].shape[0], X_train[0].sum()"
   ],
   "metadata": {
    "collapsed": false,
    "pycharm": {
     "name": "#%%\n"
    }
   }
  },
  {
   "cell_type": "code",
   "execution_count": 27,
   "outputs": [
    {
     "name": "stdout",
     "output_type": "stream",
     "text": [
      "KNN test score: 0.5908\n",
      "KNN train score: 0.5988666666666667\n",
      "SVM test score: 0.9206\n",
      "SVM train score: 0.9847333333333333\n",
      "RF test score: 0.8324\n",
      "RF train score: 0.8426\n",
      "LR test score: 0.8902\n",
      "LR train score: 0.8923333333333333\n",
      "NB test score: 0.925\n",
      "NB train score: 0.9302\n"
     ]
    }
   ],
   "source": [
    "from sklearn.neighbors import KNeighborsClassifier\n",
    "from sklearn.svm import SVC\n",
    "from sklearn.ensemble import RandomForestClassifier\n",
    "from sklearn.linear_model import LogisticRegression\n",
    "from sklearn.naive_bayes import MultinomialNB\n",
    "\n",
    "# using KNNs for classification\n",
    "knn = KNeighborsClassifier(n_neighbors=20).fit(X_train, y_train)\n",
    "print(\"KNN test score:\", knn.score(X_test, y_test))\n",
    "print(\"KNN train score:\", knn.score(X_train, y_train))\n",
    "\n",
    "# using SVMs for classification\n",
    "svm = SVC().fit(X_train, y_train)\n",
    "print(\"SVM test score:\", svm.score(X_test, y_test))\n",
    "print(\"SVM train score:\", svm.score(X_train, y_train))\n",
    "\n",
    "# using random forests for classification\n",
    "rfc = RandomForestClassifier(max_depth=6, random_state=0).fit(X_train, y_train)\n",
    "print(\"RF test score:\", rfc.score(X_test, y_test))\n",
    "print(\"RF train score:\", rfc.score(X_train, y_train))\n",
    "\n",
    "# using logistic regression for classification\n",
    "lrc = LogisticRegression(random_state=0).fit(X_train, y_train)\n",
    "print(\"LR test score:\", lrc.score(X_test, y_test))\n",
    "print(\"LR train score:\", lrc.score(X_train, y_train))\n",
    "\n",
    "# using logistic regression for classification\n",
    "nbc = MultinomialNB().fit(X_train, y_train)\n",
    "print(\"NB test score:\", nbc.score(X_test, y_test))\n",
    "print(\"NB train score:\", nbc.score(X_train, y_train))"
   ],
   "metadata": {
    "collapsed": false,
    "pycharm": {
     "name": "#%%\n"
    }
   }
  }
 ],
 "metadata": {
  "kernelspec": {
   "display_name": "Python 3",
   "language": "python",
   "name": "python3"
  },
  "language_info": {
   "codemirror_mode": {
    "name": "ipython",
    "version": 2
   },
   "file_extension": ".py",
   "mimetype": "text/x-python",
   "name": "python",
   "nbconvert_exporter": "python",
   "pygments_lexer": "ipython2",
   "version": "2.7.6"
  }
 },
 "nbformat": 4,
 "nbformat_minor": 0
}