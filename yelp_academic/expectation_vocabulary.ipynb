{
 "cells": [
  {
   "cell_type": "code",
   "execution_count": 1,
   "outputs": [
    {
     "data": {
      "text/plain": "['z3wkCACUTfarkwVS-A-yvA',\n 'Vb3yGDoHB4QrdZfHzEf6ig',\n 'T3cJe99-zCYgcxu2iwY1KA',\n 'ag0Ko4cAXf1fdKXD52gGeA',\n 'C9rP-btqLgDIBnYuNlKycg',\n 'Ta8vU1VCejBxxgo2cfokYQ',\n '53I1ryVkUben5pTSidKyuw',\n 'QjJChh0CPzGHaoyxszmYCA',\n 'YwE_VkhMPO7a4LXQi3FfRg',\n 'IOBbQDBPTk8bgc1fejdqyw',\n '6F5x1WKRJt9Ard9SyG8dUw',\n '2h0BOUHztCuEjfo2Nzu2Bw',\n '1wE7oHKgNOLPM0QWS3jm9w',\n 'eu6qafxvSwlnfmHVcD8Qzg',\n 'Cw4SHF7wn7nsJhF_1GIpMQ',\n 'qZDo73leTHIcM8ZOb4nRRw',\n 'S4DeWtPTgXQ0vPS3H0Aw6A',\n 'owklqVl1fEq5wLoiaMpzCA',\n 'O4fMesAW6Bfc4Yke2mNjiA',\n 'Yj4SpqG0OJxbg8L1Qsrlsw',\n 'xWdShPbnLZx7zTUbYVaWhA',\n 'l-mAiTxBHm2mm9DET4oIfA',\n 'bhnBBHwmqx323tXStPTpCw',\n 'ZG8HfqHHnrMQ6QMkpRZlLw',\n 'YJKfrtmUA95Zy_-B-D-2lw',\n 'UHuNFy-CDLj_SVMOQBHryw',\n '6HEiMUvVgSmuXVWRPcpdeg',\n '-WcB-MUolRfvBmJ2lLU_cg',\n 'UuUO4-1U8m3CgQ7yImxGIQ',\n '1ENaQT-KEA7SO_etEie5kA',\n 'LbtFyFzsdt-d2XDlIGVsaQ',\n 's0M8VttOEQPtoq4yF_1DoQ',\n 'ETJZm6PJVc9ANZbT8Gp2uw',\n 'JASWJH3KoH62RU3tFIar-g',\n 'KP_dJhX1x6VRppn9Yt3pQg',\n 'cvA8vHPR0Gs0zsPnyv6JEQ',\n 'b4necRC4ra6rlQFinve3YQ',\n 'W7g3eYJFm6kZiXfGb6eD4g',\n 'AUOoxrygYvKBI72KsOU2wA',\n 'yVhfURr-941vjbK13YyGdQ',\n 'ev6jFu0ecPL1g85uO9Qc6w',\n '3AjaNjM0D14eLgBemN8drA',\n 'HnBTn3vTC34Zrzwnrr-uHQ',\n 'Do4aKR6upCBRUl0CUV0Xnw',\n 'DPtCTD6U_g1FHbFJU50UWw',\n 'xc1opNkFCnAjsPXs7jqtfg',\n '7ZyAeMSbq32GkLnFyhCT4Q',\n 'w2Rfz-EcgVEZcdY52KqL2w',\n 'xflt0qbyWb7qrFbLAV5XXg',\n '9Fip8swdl_Lq46tC4QVY0A',\n 'ZHnn0Foz304q6bGwQP_0uA',\n 'JbQcj7MSb5K67rKzVAr86Q',\n 'PVvxH6RF34ky9gvBrL6Zgg',\n 'd9VhjE_kqUe9nFpwoc6Upg',\n 'EtUPHXUGrVMOkKYSpRlrwg',\n '08m1pM5keN0lx84c5Jyquw',\n 'oXh5QMjYhWhVWJcV16131Q',\n 'ztjwYBZYPzbciv5OLmtIuQ',\n '6Zx7YiKFYXwqWXQBqSxoYg',\n 'GsS_uCk0Rjwh135sNxZK9g',\n 'Yx0NKAVUjBiNaYEr9icJig',\n 'TBtZ0m-FG22_tjaZRVOauQ',\n 'vYJGJAmZIAu09XqrEieGHA',\n 'efoFHUP08msKW73LPkZxWA',\n '0Nks25ViOuuI9ohq-RQE7Q',\n 'v9VCObZVWhOPdm1rKt8Dvg',\n 'vn_fqAFjGbVCYUyJKtRfOQ',\n 'hLsXVZ4ammtb9ZrdwA_zTA',\n 'Ny8NnREFL894xTsfbP7QLA',\n 'x6srXtVlShPREMX3zUiEtg',\n 'EYDmZ4e8b_zu-zfe7eiQBA',\n '9UZlB3fHVe2JBvPw4kRb5g',\n '0tBVHzvDXpCvm5h1cXm2oQ',\n 'lbDYppQgGowSJIeD3xS4eA',\n 'mNNZ-vZe2gtuko6g8S8ykg',\n 'klG0Ze9awTZ_BOu-mfyolA',\n 'g41C5Q0bVIWDvn9d8Sr8_g',\n 'XL9TbHg1NJ9fsgq4fy4gxw',\n 'vcaY9lsl0HIFDNjQQlbT7g',\n 'bzCC55PuuDH13NFxKpSJ_A',\n 'lGFROdyJ0U6biMsim-xScA',\n 'gasLVm0KRwrVhPGRcqATjw',\n 'XvLC9TbhXYiMIGArwJZTlw',\n '_buMJCCAJN2sLKKtnC4H2w',\n 'aOWQdmz71XH-kfLXMvh-4w',\n '8DpvkoGGHvQJd2OUGpU4Lg',\n 'fc8Qb-j7sRvOh85diQDYLA',\n '1w-EM0mPtqoIZAgrB2N5MA',\n '57DkQVITacAncdymW1m67A',\n '0pgYDWcqMiiHUln2JUux3A',\n 'wOeki3U8t17ejn_pFm4Nqw',\n 'Ww_2Dr-PdVc8MQdrT7zYBQ',\n 'Jjp6-VgPipq8rQzQhqmx2w',\n 'bWFzM9bPFliDAJaw1dY0AA',\n 'DJgU8F5lKlshSo9xIsLcoQ',\n 'Gix3hMYtxiiQd4Pg626GfQ',\n '4YwesZEX8VPPJOKLfPD7lg',\n '6JejVLZl5M-IB3UkNTkXtQ',\n 'gBfULf8RvtZjharjthPZQw',\n 'yFNNUbZN8MpWqeRJ4k2_lg',\n 'ktu-cQ5dsT9WPfpwQDDzTg',\n 'H9UDyc6ztdw6LSINhJMqzQ',\n 'gSoOy4MunFjuPzaXeyZ_rg',\n 'ntJhPzr2sVoQFuqvCaWKOg',\n 'fth0V5AVqtGYofktbiquSg',\n 'OHmeDGEYVIIcZJEhn4IGmw',\n 'BZNxnVgfxS1vk3hczdOQIw',\n 'mLiWJ4qOP_xOJ7igl83Xhg',\n 'CMsIHaUJlOElrpgCBRl00Q',\n 'gvsW5ADpVvSIMD0d9U_cIA',\n '8uZwMLB4p9KlMDzSZ6DmwA',\n 'aUmxXfCsy1CU-cEeP-8UaQ',\n '_EYzEAM8ZGAXhwPxgTNzQQ',\n 'ztj0Iln1_ahMyDu9WXQNeA',\n '0xLek5Zgnp4k6nsbI66YZw',\n 'R4qp7up0_5thC2ih6na2Wg',\n '3VQgahanz35nWEfDDTVrUg',\n 'xnwrpoer2T5_teomXkSzBA',\n 'iufxZZ67gm68hoc95nZCww',\n 'D5ZOmINFTHCNTP0Zld-mRw',\n '9HpMddJ5GZ-5RR49hqBTBA',\n 'fWpsIu4PlOAZb7lHmb7w0g',\n '3JG7DTpr_S2lELgez-DFIQ',\n 'fbqb-z8c6e7d6SiyM2tHPg',\n 'F99G4UxASH7DHMCjazHHkg',\n 'XkfnvonaC34N7vumff3Kag',\n 'jo5JoN2rbItUhVK-myjcKw',\n 'vH2z02KxUJALr6CejevXIA',\n 'fJM_1YrTqlVPjgq2_ObDOA',\n 'vsItw-wpOXGmdH31UwZz6g',\n 'Rb8EigKqxMj_etgICnEepA',\n 'LpFeVK2oVw0cicagg8Elsg',\n 'X4k8ugJaihHVLHq32rNTwQ',\n 'd9cpPrIfozQ2nIniIZ4F6A',\n 'U1cgU-ncfs07P4Qxwv3Hsg',\n 'qIMbsEBMRt7caBGTC2UNdg',\n 'cnLljmhzrjgv_yQ8xs-PQQ',\n 'FKRz94Ehuni4dO04vuw9Uw',\n 'pJ0alJuLPlCQyeCuZgBI6w',\n 'yR6Y6PIGwzBy2qFoL6O3BA',\n 'aZk-_bPf4gCHUeuQU20_0g',\n 'bWfU-XOaVHOsNAfLIJtA3w',\n 'ne-yv1C8O_ppzaE62kfJmQ',\n 'xC62zROLFsQNoyv8Igxutg',\n '7frXyjs0f7ovDH9jJl-PPg',\n 'p0MlckLEPUEmu6BjRd4Mzg',\n '-YKOWciKFYcKxOCY_CIkYg',\n 'siySF-a6qsxltWWQtIq_nQ',\n 'a2X2Y8s36Jm-Vc_RYOdaxA',\n 'tsMF0FcFcHZ8i28WzWtQXw',\n '7sdq036l7Mbbx56V69L1yw',\n '3z_lfmfHSbkgmq2RRNeedQ',\n '9MUXHC3CImxI1Uv3UtCoMw',\n 'hT3KOrgNpGjOrs9mfIZsPA',\n '1sH89m2CFbR703kjJ2vA9w',\n '92Mj-5aFGuX65rLp0ujX1w',\n '_V2BZA6ZKxSM6J9wTBszkw',\n 'M2NS_aQbMY2apoYjTlOCng',\n 'gIzS3s4yZm6WiXM3TcQMPQ',\n '_jqTa-3-fqmBxnkANJHtFw',\n 'z33x0fHD8gutPy5Gv6Hwpw',\n 'EuMFWgEnd8HuQGxuUE8zpA',\n 'Qy4qBiz_ZjNaEl8-uNmhwQ',\n 'f9vxxw-LvNTw7vyKU3tIsg',\n 'xgjhHk82pMGIEp4Q9WTHqg',\n '0IoPq6UldnHOcpgLdMPJIQ',\n 'uuPVaWIrtyzrwZ813kpn4g',\n 'zYtlZo1al5gHMRQviGFDgA',\n 'K_bKkwJfy_p-HC1JlbtZpQ',\n 'PRmW4serpMhAnmbWohRleA',\n 'UHmMIHvbZwiM_63x_v4_Tw',\n '_AKKnLVR45aUGKPgZzEqtg',\n 'RarUmru_M_gGaq43oNn0qw',\n 'ydD7sfmzBVt641vL0264BQ',\n 'kTFGwt18IGrLZ83XtlPz4g',\n 'V74njIb9fS-Ktt3QepblyA',\n 'XBYQ4n0khYjeaCeLz6UO8A',\n '94D9sUd6i9ut2P8972pnWQ',\n 'J6DeEYk5VF_oH6OniMxGOQ',\n 'YQ01_0vr9TahbQiBSr69Nw',\n 'pMGnea8-RrjFwogKOwQ0xQ',\n 'fCvMnJU1Z-XhAjKg99wK3Q',\n 'CGUcvMU8csZfMclXJfU5OA',\n 'uJWbrtCsZibgPJ3s3vB-Yw',\n 'ym98brXbIw4OwjtPnEnhBQ',\n 'R9IJ1Byr27n6wXj3QvJ2Lg',\n 'h_-Cwka6cgY-CjoZVNgrkQ',\n '5T9WlOw6Wns5LJmCs4W4Iw',\n 'Sn88Qpcet4cTHoeai_HcLg',\n 'POAKZScwldLTMCtvezW5mA',\n '3DxHjoFkMlmgd8qhZhgWWw',\n '8wgZq7qVsVDzMVNKsutBmw',\n 'CBsd5ZYoijs93_5FahWL4A',\n 'wBKALvzEZM1ZxpkWeDjmsA',\n 'zJ5nKcyMziUj3CsZcZag4A',\n 'MQifB9MR9BbDGuL9FqP_lQ',\n 'cAl0Xqh_PFiMJl10ZlcDIg',\n 'if-6FnW2g8Y47PWQCismFQ',\n 'lG21SAS-LsA0hlBZI8nCCg',\n '0T2UB266WSFK4H6yoEvzAQ',\n 'QfGuimcRALWB6WiRtXXJ2w',\n '5_GK6YXHdOlmCtggB0JlPQ',\n 'YyEHD4ebCTtlOR0U3FKTDw',\n 'FUUEU3ZN5cL1nNNR2AYZuw',\n 'YttDgOC9AlM4HcAlDsbB2A',\n '-_2h2cJlBOWAYrfplMU-Cg',\n 'IRc32xCXlHDQjezcG5jj2Q',\n 'uV2zqKVUFrDVqTLz7n79lg',\n 'moCR7JcRYbJvosBQjpgb7Q',\n 'YRVViSU_owudV3stN4Sh0Q',\n 'emtoR15otGd4Di0k_OnyOg',\n 'd6BZBcdqVyKYzfaRwwR7zQ',\n 'N_JqXdXQ8q7de5cLbK7VbQ',\n '1TFjFVSvzkj1W4RS4mnTdg',\n 'AoVjvPcU6ITdMx352LeOlA',\n 'I1Ae__vww9Yeixqxs7T-jg',\n 'mkG7hD4ND6grmUUnhA1AjA',\n 'wRlDKnAKnF2qm8srnqLf8w',\n 'tW-HWX4etaitng1_3XuCpg',\n 'vWf633qkTZN7yVaMOlHqJA',\n 'e7lxyxH8JKsy4dAMCTb8Eg',\n '2y3yEU8ZZn0tvp6T3uOAjQ',\n '1FLR36RTq0O4dGFkkRgsxQ',\n 'qESx3c9NOITAcXqTQjbOCQ',\n 'NcQSzQ7P5t4cvwOr7aJuMg',\n 'uDBnapEGywTQ0ovaCu7Orw',\n 'tzhNRZH08WA6nt4sRqX0Ew',\n 'y2EVYmz3txcLq-ViHe-6HQ',\n 'sEYwgkrMkcXfpPA3EaaXUw',\n 'VuAFIOqq49PeQ2eJKDj0Ew',\n 'ypRJ5E7XYTexT5p9aK2ySg',\n 'wo-LvQxKQGV_s9ESqioQ-g',\n 'pLZIZXIebqEcrX7IVKoJRg',\n 'zo1-wWWQLQxFR-Y79aVAHw',\n 'am5c0sdhuFOIxERMGsuv_g',\n 'lT0fNopT5ajlyF4TOWOG2Q',\n 'rn3XhhtEBjfe0xYXeAKnjQ',\n 'YkYfWodQT0LlgltMDQ6Qog',\n 'b4hKq2XFGFTQiI3Qj26W2A',\n 'p9vAOd-h58DhUBgIVwSqKg',\n 'fJ8VAC3EuN4OEoh-WzL2Og',\n 'MTiEYQ_LHH3xdxOKoXetfw',\n 'S0fMkojdK78xS78KW1A-FQ',\n 'o0BUYRSYOLd1C5MeM8zCvQ',\n 'rC3y0RDHPKE0G0N1t4CV6A',\n 'xleb2I3h5-8NAicsSW_dEw',\n 'vhuMbPlDpWL_rmldDqFCIw',\n '85uM-cor3VXCUyVFEe0YNg',\n 'gsbFF-wUHMG3CtFap2Q-2Q',\n 'isvgARkeydOCroCHupSRYA',\n 'hLt-plzvszhdspHJ3FbM5A',\n '7VRCizPyyGvSNL1E_zfCzQ',\n 'TvVfW-8j6H3ii06lM72p8Q',\n 'uq0ILmBm-vK3219Y7YwoFw',\n 'MJVX82yh27SFQz7eqO8muw',\n 'LJ7_2tA1lL85vUQEVU5cPA',\n '0zy_TL_vD2JlCH12Zo5sNg',\n 'e4CL4rUo8qwiIfWWRKsrNg',\n 'TjeeFCU7--LULHMCd4ukXA',\n 'Hm0diOkWwpo9zotlJlqMUQ',\n 'TCZwIq0xbZsLV6NKrCjZtw',\n 'uJS2StuC1c60-GvysgRIJw',\n 'l5cxtEb38HqqSqXJdG1_lw',\n 'OwFU2EF-55e9BGa7RcLIIA',\n '6aX5_fuL6p2P4sMyb8MyJw',\n 'LgdJLae0MM1bYffREbFJRw',\n '7uImU07iGJJYRqvbpt5XPQ',\n 'EFw9r83RQGk-ei3NR09K7A',\n 'EYs7KIqDHo8hH2_dFL_31A',\n 'x9K_z3OoTwLqdNfowGpVzQ',\n 'DZRcZEPBisfR-TsIqUconA',\n 'GD0FETbBNVzxPYsd72U65A',\n 'R-csyHFeXE4cqQf4XLD7Tw',\n 'dqxFPbClnYuKkFsp2OgGDA',\n 'W2kjwE5MrMnPTeo_C3vgUw',\n 'IEc6gWVPXFxjixKHoDaLKg',\n '-cu7dZgrH95-VYcKzZSPMg',\n '8HwPq5UkE-TX9jr8Di92eQ',\n 'X4pH3pcK6L9Cs6hm_87T7A',\n 'NG2mzp-BFKPsgxy5ofaQUw',\n 'JkMLpSc7fYtdcFvLEdH4jQ',\n '48HCGHewMblHBkT446l0NQ',\n 'DHGMYJl5pPnAhOHO8zV1YQ',\n 'riqVnqzfWKfE37DV0LJ-gA',\n 'uRFHwwNyJmgkWsUdApfUkw',\n 'qm6WVOID2j4qJ_M-BrrgHg',\n 'UR5I5oboRkjVwNjUwFdZPg',\n '05796MJj-TwACdzscsqpKg',\n '_z9cIeuDSvsh9YsD2AeNTw',\n 'z5ph1rsPEt8cfhQTKgjcCA',\n 'D-Obl4mvg9LDCzUpv8fxHQ',\n 'WIaqPitProhpPLfZ6ZdjlA',\n 'Vd635n-lj0V8fkwBKYoYZg',\n 'wk4dpUBp1Lns7u2zpq5d0Q',\n '7ONBs-KW1TlLBfaabxdk_g',\n 'd67zTET_2IuVoWcUU0aWaQ',\n 'BJ1qraEpsmPGYTTuERVynQ',\n 'aGqiMytiv5ROc2irUuzUvA',\n 'q5Qv5oTB92Cg1HYpkpsJug',\n '4T_cokr3XlVm3iYf847aqg',\n 'fEc43iTrbbAzuyXwm-yNFQ',\n 'exPhuONOpfCptZ35Ur3bcQ',\n '_gSJEzYLlipGCEaNt-XG1w',\n 'tmmIjOUg9f86jU84swq-8g',\n 'LEJ0Ux_flXswhbDKBl2alQ',\n 'eQokt8QHVmxgj-KQHTqpfQ',\n 'rV6T9BquAPyMQaRieIPzdw',\n 'vJpPp7WzJLaNB0bpHavLVA',\n '7SKwy6chO_FgWti1jK31TA',\n 'Kam4hot2KP2oEtw8881HLQ',\n 'G6uiBIcMc21mxtIsR6K_3w',\n 'sjV4NqZx5d0NqY1y7p6fEw',\n 'BVvWkghXzLYHWX-clzopdQ',\n 'yqD9R0XjVeW-Af7PG7ystA',\n 'h2LtQ1s5X20d0yrdqUMJ0Q',\n 'PAc93PtEbYDtytBQ9Dyjug',\n '14WeUBavXkLZg-p_HLNIbA',\n '5_SYn3_OjIRcLaN6PbKyXw',\n 'kqaohLkSO2UTR4bIPo-79Q',\n 'M-15wnBEyNyYt5bXB2ii7Q',\n 'EWxENLvbF7VG6fm-bSCqAg',\n 'YwAMC-jvZ1fvEUum6QkEkw',\n 'XLD6kubIF2PxJf5s7cAzCw',\n 'uRDGqPrhdGPM0z2aMV2RCQ',\n '3flVApKPvTF0UkAdPu8uTg',\n '6selDtwGgG9vA5TnYK0BsA',\n '56EIJcxLHYDSxIBygJEApQ',\n 'EiseYmksOfE2nNmPP_AVpw',\n 'Qc5HfT-U-EmvShnEba8DRw',\n '9oXT99Pa2HhhWdS8yoXOBA',\n 'YACzsXiIF2C1K18TJFHR2w',\n 'S0zqwiRSN188DIRx_vg2og',\n 'Fhx8XmwP_mNONpbph56QCQ',\n '6z_Kd-MrM66rzWQX9zZRjA',\n 'KuH_bH5Hie9yWtTJzSANgA',\n 'zbTIv1h_SPqb3q9th1aHlA',\n 'ZCc85CfjFaw5v24yoT1koA',\n '_KeAuX2sKECc9p-19uYB7A',\n '31N3UJj6j8D7zKxFaSVyXw',\n 'Ptij0-tuDk8--TEJDBBcRQ',\n 'zl4J4jKZ2stkVC3KOkdikA',\n 'OT_6Xwvtpl_Hw-UR2yR6wA',\n 'vbEf26yXYP0WBsveEXWIlw',\n '6MVZXBGOd0w4Q1CyfoRg8w',\n 'PlkcpVx74F5bcjTznVoTEg',\n 'JyohFJOhlMOIvBOS1_TWFA',\n 'dtlT0mmIV4yiUo4aE035-Q',\n '2HegIXvPh0OQ4M-J5wiCrg',\n 'DEOH_z7QaXnrH7vnmDl5KA',\n 'UnvzyFBjG1wpzFo_vSKkcQ',\n 'QS6ZvpEBWt5Ap2tGtO7jAA',\n 'O-6l8jqZ2bXXN9sn4mTk7Q',\n 'idYllMvpVLrHU7_IiR-EvA',\n 'Pq_okYAHQMxr0pxo_A2KDw',\n 'DEW8exmCsm15UKs_bYhTfA',\n 'XzmOmJftOYvhPifB_4uyCA',\n 'yxzs7nfwOYWHyzlLeryjsw',\n 'gqL5KBs2oS7qobnyd99iKg',\n 'FbON24rvSxUjGjUWhuCdOg',\n 'yamCDZmpEdv3Wi9L79_FdQ',\n 't5yVLMzXlERu3aV-xGLtVw',\n 'MzTkvZ3wf2WpFFio1qfvNQ',\n 'FLIBb1aknOo6YoneepiNmA',\n 'sahOl3gThWbDPNiRBWJ06A',\n '0T7D52kX1PSqUtYMudBT3Q',\n 'chuM6TBkFHtTwJ6z96Hj1A',\n 'B0WllkuBSbKiEQdba7oDqw',\n 'JjXuiru1_ONzDkYVrHN0aw',\n 'sa3ln0EsfmJiwcdNdRjW-w',\n 'FEYE9C4jj5QTf5SNlkUpow',\n 'ly1ggz7Rgeem8ZQorCUxSQ',\n 'aax9lukQHxI3N-8roRTFcg',\n '2mguZPvbCa4lwT_ULfTmHQ',\n '40SHsUCXAnsFInqxJ3Unjg',\n 'ItrM5BrIRsEr_pSAzM7Gcw',\n 'qGFcF5Swl_VirkR-2GZvDw',\n 'kkT2hjZ_TO-1yKdU2y0vKw',\n 'mHhaz5dHdjibxhkx8QIlzA',\n 'I_GferU__AnRQ-QKZxovCA',\n 'ZQ3k8_aqW43KW7URRp9VHA',\n 'UqVnFtX7ORbDhMW6Pd77Jw',\n '09jWQ6lhvHEQG7XpSW76VQ',\n '7XCUXcd3Pg0XppvBwO5x7A',\n 'rWQaJXlszSGjbpeOhc6MpA',\n 'K426htaGV2A5SgFL41keAg',\n 'aH6ZvI4jKtu2ypHaGcHM5w',\n 'lb6GPCR-ecVuOC57TIgYNg',\n 'l4DA0dZj8__wkFee0MNIyQ',\n 'Ah9wf9o0990jHOWvrNMabA',\n 'bFNn1jLP8bC_stWDEnhzuw',\n 'xOr3cP1xO2qC4lx2E9jnBg',\n 'umOX1uhKPAdqTNCwcuwm6A',\n 'X_mmXdf9w9MNsGy5e6MhYw',\n 'wjck5FNNSXKl_RJdw-NW8A',\n 'iCwQQGuAL-2lq_s1QRJCSg',\n 'WZuAAB54KUE1gAj37bGZtA',\n 'WtnerGVQjEgJHNM2rnJDEg',\n 'tNgCBDqhLemdKPoMrogh5g',\n 'DlFbNJyOovNZm319yKJqSA',\n 'MRZ0kv1a5MsaC19fCdHo-Q',\n 'tN2ml7LWTM2AcZz6JI7ZuQ',\n 'kGJg_kMhn1RjgqIJPJr_VA',\n 'Bcyrf0Y7lxJv4SuvzUuwpA',\n '7NjnBzxFvumWrOYJxWc4EQ',\n '95XtGNJ9nPWt2whad5Rrgw',\n '3x-kbXQUhrsWOcp8mUimbw',\n 'XKI-IimtHV0JjkfVG_k4cQ',\n 'xYgdYioZpHUxApiddFhCxg',\n 'WYhp_lohjCfyOvZFWJ_MkA',\n 'tVjZsrpIldh3P-1tHECaug',\n 'qunxFdBDVl0ordRJEPVNtQ',\n 'Kh34OUwUgLGSRguPV_MPdw',\n 'rdY18IKijUlkGavKlqdz7w',\n 'I9KMSTFp-y0QFAakEVRsjQ',\n 'iDf5fHeJg_9nZ9iJgDFk_g',\n 'O9NWKYmL0wGDL9Cpi6KfYQ',\n '_p5ydZPNMkyTJoPtE0QUJw',\n 'o-G2yAhca5Kqso7CYZupHg',\n '-dN3ww2WYLkwAbZtJHcLHQ',\n 'I0ezkVvCcBnavJf2soWHjA',\n 'l_RuhFJX555w1h4CD7ssmA',\n 'ML2Q8uY40Wl0GbGwaKJGUg',\n 'PDDm6tSnrlZJ3YFaDcv-dw',\n 'hzEHbzC49hFmFIZxMY47JQ',\n 'ArfO4YpVOa6XjkcPxuLR0w',\n '5k_g7SIrcVotE8tqNcQVOQ',\n 'yHoodEcmuao7QYkP2deoUA',\n '8lcv5rvi7SOIF-ksBV4ZPw',\n 'qkFIdLoGspZCuZwlgdHMvQ',\n 'v1pKH5c7C5pEyrlVjIbr-w',\n 'mk5ZPnMv5sfGa4eA5dhRvw',\n 'xlvXh8mtQSi7rcMjAqXXtw',\n 'vQk6w8G71iKVcEk1I9X4Vg',\n 'Ff8hG_00h6SO5unNTXPFQQ',\n 'CMO04SMgjqiI_kF3FrswTg',\n 'cRij9215tfbhiLdHmcdUWg',\n 'XhXRx0meTXi7b_DdGZd-dg',\n '-imdPiD9l7cS-x1jEDAS-w',\n 'DUQhDFhbaBavVSGIoRCM4w',\n 'vjaPnYxFcaFTHnTNy5HKVg',\n 'Vrk8VJFXtBdKzGB9JZxRTQ',\n 'JYNQhQpHZ3CVTZyKfPVouQ',\n 'tvQJmMBKcI3K0W2MEHavgA',\n '4bI4Iy6UCt9pWgOtaewbIw',\n 'n7WsZA0OvXw7J5eS4ujVfg',\n 'dOyCM_IwdkOyIreMP708pg',\n 'AZyRr8nAo17aGlnPCN_3xQ',\n 'fJhr0G2JBNkfqpbIwkEQHg',\n 'EePVTNTKFqIPyFHpGHQ02A',\n 'qheQyw7hVTshrS4Bg7rdcA',\n 'flj6NjfxqwudsBvOTbrhug',\n 'wcv6ypJ7oNdfBA6QiB0pgw',\n 'LTlFSL3_MnnPu1AC-HSuPQ',\n '7TBQTJ2nWWZGA3E0ogS0rw',\n '6I6zQ1F_GYd3BBYndsoEIw',\n 'i84YDhPbxtq9F8ipmtR5vg',\n '7gt5Lue__iRo4aFrH4POvw',\n 'Y2dhNLLyzeHTJ4zet86rRA',\n '6lmpr-WllUmPk094mpvQ_w',\n 'rVN0VzcakDwxlxTbylQlIA',\n 'eKm7uWgJZoGuRlBzH11-Ww',\n 'IB_sYwoVgvgRVw6_G47Gfg',\n 'WBBCpQdDL2Esr_T9ciSKwA',\n '2mgZG3Jco5YrJhC34oVyTA',\n 'NMVURT96-Dbtq0q0ocO7ZQ',\n 'w-w-k-QXosIKQ8HQVwU6IQ',\n 'M54hUU_dlq3ehat90ZqR1w',\n 'srOyLIbKTrm5zL8Ad9_cew',\n 'VR1HCLP1bvg549xkNVN0UQ',\n 'QrbVXDB120omUG2bINhGBQ',\n 'MAHYQrIMk9WVYkJeACPVUg',\n 'rkLOzB30ZyhXtaOiCYEPag',\n 'EY4q54f2fbo96C7oNivwbA',\n 'rL5uMarIYnEMgDr09pafqg',\n '_TKXaTPT2Yu0rRFqYzs44g',\n 'LkF7PSN1Kc8pYgYavpvz_w',\n 'nyVMucNs6I8N-COK18Ml8w',\n 'x0M2wayh5r7wIidjvmeiUw',\n '0RX9w878R80Ok5iPrNBv3g',\n '4d17x1_fGoPInC4eMSzRFQ',\n '_sxfMOKphtb9S_4tq5qXQw',\n 'z6nCB35sybxr7ELF0Q1LqQ',\n '8Sp0YauZTLbVJPG-fUMA9g',\n 'xx-6o9MW5B92VaWmRJwEMA',\n 'MHOOd7OdaBy7JUZ7bcJ09w',\n 'pJJwxIhRLyG09CsuMMemPg',\n 'XXDSnBwj1h0Y_sUO3O26Og',\n 'KuYOQa9gGKK9h1HfvRDAMA',\n 'y-tbKFWi3k4DFxgxhEdtGQ',\n 'mZAsOUvjl7Kjlocvn9TnjQ',\n 'XclqsCdO4ngYEww4-97KfQ',\n '7PIjCIFOyUMYCSt-hDvE9g',\n 'spMe7W8BBhDVD9ejvuaM7A',\n 'KtC_4XlJU5kpnUtTfB2cEQ',\n 'KSptwgNLNSwdodCPhWF4Ew',\n 'Zr4VzcOr8pRlxaRDIroEhw',\n 'imx2T3WqwYDUHocI4kiJ6g',\n 'DFGz6vqljjfCcCNQVTjmeQ',\n '-RXXJeHviyE3kdZFtT3r7g',\n 'SFIFCanAYs8sOXfSHzaHxg',\n '3xBFFH866WoySDG7uuwBSQ',\n 'rLqzi27iiyNUUYUe43B9lQ',\n 'Yi_w8OYsgI1S0k-60SPS5Q',\n 'g5CxN6U6PqUDUgbKT8gs8Q',\n 'kl_6rnY9fC1mRAd95dOkow',\n 'rNqxPsd008ntFmfVoLu3kw',\n 'rr5zzVWVu0u-P5P1rHIV-Q',\n 'HzEmzPSHcvCBUzf2d8cNRw',\n 'GLiRwDZZdvJYgC0nnK-V0Q',\n 'QZmtXYJFiU4LmWNBmzq6PA',\n 'K1nldljTw3dufVZ_8XYFlw',\n '19MQQFLbpI5z6PYhHrG2mg',\n 'KmjUYuar9-hSZKNgz8q3sA',\n 'kW2AjUC3cp3j1FtdqvJY8Q',\n 'dxEU4v4fSX9aD3tH8dy7cw',\n '9MtIvSW2AVAnS6cbYH-HcQ',\n 'MuQhiK9Z7xIymRRcxJMojQ',\n 'rC5qUOgaA_w4ritXU5gc8Q',\n 'br3PidqAbd9uAD8fTueTtA',\n 'WDX_KkxwI8VYOF3RHpNLpA',\n 'eAjTEqqzps0yMJBrNz_fjg',\n '02ilC8hn5-OonrsvBuF_IQ',\n 'tQZNYy4CAgpvOHQ2SKynDg',\n 'SAgf1IxxuomOWSIDzy07pQ',\n 'prxCLqCYwUsl0JwO_V0CGg',\n 'jG0FZPgfOGKHMgbPumN0Ag',\n '-qAvMjM58F6SU09UHG7VIA',\n 'NFeNXGbZWRCe6qMEppNdRw',\n 'x-YPpdVPOOV4TLC49HuP6w',\n 'dfMqoJD3kHMrY1KAUVk0MQ',\n '8COO0Lgd3v14VeB9Jyyxqw',\n 'jRVs6KNh30LgOcAcWttJMg',\n 'LbItzInHCXjRIMEUR6d3ZQ',\n 'aTkDgdjvcdwkr-YYSt1gvA',\n 'BXBtET2Kk7MmsqEXYySXtg',\n '2DKXX7tmKpMNTJAYjEuu3g',\n 'VhyMPBkWc1mcFpuu2CAAKw',\n 'NOsec-61j9T4p96aEA7n6Q',\n '8arJwqV0POZydwcF-ZiC7w',\n 'VspP8zMI87c6O0Eh30rX-A',\n 'pLKuYbKiBr_Gxr78gFZ1Kg',\n 'aJkDBEc9kVjQHIdrC1h0TA',\n 'dxUhjUbLs5IZkn1V37Kp4A',\n 'zkQi7B9b-yFbF8k2XSnDHQ',\n '7vt29eIGszODjavXK-B42Q',\n 'KDw1B6VZ-c0cSobzgRx06A',\n '3A6d8nanLd0JV3d9dEMTgg',\n 'BWCQF9mmaK9Vzer6rgSU7g',\n 'vwFbpMD-SKkC56NCC5Lk7w',\n 'jTDVXDZjaPXT1dS-TkcshA',\n 'vekEZkHLDO3iqm90es-rmw',\n 'UV6kQ5MqadMq9SaVv35fqg',\n '9y-c-H3QKZbwNVQEdKy_7g',\n 'OdEaOuyA6bI_0cErziGAKg',\n 'NxSPqe2pLG_LjORREDFDTA',\n 'a3nDFg2303_aAT_BYLjKow',\n 'PXPs4ZY7c77MejUVv6MLVw',\n 'l6foo0SHo8pNRHH8P9HPsA',\n '6IeGk4i1BPl2PS5jWZ5OxA',\n 'nIpPG8qG0JZrTgQerlaO6A',\n 'IlGYj_XAMG3v75rfmtBs_Q',\n 'wuxZSSVXwKzN3NPcdSljUA',\n 'jOmykVsmYxE9N_ATjCLEmQ',\n 'SWCPpN2e4elW5Tlg9KgTJg',\n '1aah9YdCNeLL19cir15J4g',\n '9uTysypqImdsxJDlBXz_Ag',\n 'z-4yMWsXLjZDxR3VxvAcPA',\n 'IQC8mMh3tNq8FB2-rk5wFw',\n 'WwaO4ziW19HnXRJQB7eiag',\n 'w_rQ5XGjRkRs4KXUY0BjIg',\n 'oILXrfFv8HI8Qh8pDsGenw',\n 'BU6GNdHlBPPoiwpDZEW88g',\n '0_NbnQy2AwOUDtDUr4uDTg',\n 'SVO8tY3ryARNFb_bX4VVBg',\n 'pCpZ6KF0vCOF3fyj9W8iMg',\n 'Bo8l98htNUOzPLcCBM86Bg',\n 'SB0v_3xMDi1HIHF7PGF4Zw',\n 'tiFnzA2AlTyhplSsLH6MhQ',\n 'jL50v6Kzh3jMBn78p3p7kw',\n 'VMLDVK6ANh-CnDxQNIAEEw',\n 'qiI1QknM5tavj27Uz8V_KA',\n 'kUVDZiJjatmHKGEjTr1V7g',\n 'gC5iNEWsAQ-925iibHPf4g',\n 'pW5L2bEpxC5Kmn_-gozRCw',\n '9TlcTL0UALXwbf10schEzQ',\n 'cU-Z8K3TNM019C-62GtwIw',\n 'NIRDbdUyBSvZY30m7QUlug',\n '-WKOdr26Clxm5pIZ_HLSSA',\n '6vkpv83qqWftvcE36RIlVQ',\n 'ydvEeTKXtZN0pIVxZHpJbA',\n 'AGeCwaBi1nfdO_2C5tQU_w',\n 'xdI0pQeg5GF_3fP31T2fPA',\n 'Gv-D2ODquTBrmYiPVzxDlg',\n 'b2HYDas9GJ9VhVm7DrDCAw',\n 'GbxgL8o8UJaeV0xfUuqYWA',\n 'Z6WD4uMWjx93wo4EzJZDQA',\n 'qjuaM8Cab0nwJ-zaOnzqgQ',\n 'pgUQjUl_2G5L9EreDzIjSw',\n 'WZ7e_-l3BR8581wr_XJoBQ',\n 'RE5ytdq_ugQZ_PaOcz_dLA',\n 'DhZnSoyq3mVUsADMJw6JDw',\n 'I6cqTgHlQHV0uYDzFOUlpw',\n 'vUIydOj8gaNwXaTXTF3Y3Q',\n 'u-u8vyXgSSQSA_K6rvrZjA',\n '0IlYueSiTdL7qC8pSZ7Pvg',\n 'DWs3moceKvfeAwcenO_9rg',\n '3VFH-yuHU-G7-BlxX5W8BQ',\n '7oTJxm4VE7PnF9dpj6xtMw',\n 'Gkfx0KDQfX2lDu7sCrkVig',\n '8rpbjtTvhSlDNAkeXTiW6w',\n 'bLG0W37NhyJ7CMViFKd49Q',\n 'rM_xdipcViCdgDPb3uKLwQ',\n 'os-N6N7SGoYx4h7KJTXkfA',\n '8MKygqfspKqG2-X9ycR-Ow',\n 'iYRI00yQua8kDxeIQNejqA',\n 'SgxD74-CkftmYxm2-KNKgg',\n 'RVqsvbpUgir3M7-smqe1yA',\n 'PQE5oTb_fKZpZPiXh3rEmg',\n 'V-3L8MrRqF7OeeqpHfboYA',\n 'X5362HttMZJb--itzXSjDg',\n 'sFqImuZBqT43URa3kMcC4w',\n '11yiaQf8NGEVFjk2egSdmg',\n 'YlWqbKfRinSudpLlgTxKbA',\n 'PWrQ5EH-XdX8gaORnfbWKg',\n 'bstGjztjo6ZOVX-rd01R7g',\n 'AUX8lphqZY4T6NXr2hrCLA',\n 'O81adgU4B1t21zNRCbqlqA',\n 'jXG2KKBVpJdPq5b-WXFQHw',\n '7ylmEpn9oxAF9mbs_zR_2g',\n 'lHIQXHgxSLzMtJFUWn67Sg',\n 'ludhQ7t2y0VjipY_knXxBg',\n 'byPpmPDen6VNPNtVh_iKhg',\n 'IMAHbViVjHdQn8CPxyinHA',\n 'bo4WKYqBoT0Cc23epTo8pA',\n 'SdlozylmEKkBW910mGw1dQ',\n '_w0xsy33d1nrM5GjRi9Q9Q',\n 'ernLw9Zmi4f_vewWMD34GQ',\n 'bxicALxym4IJ3TKKIYDRgQ',\n 'Z1Ce1N6F7vw9pKnsv8MtRA',\n 'qjkOmSEFFEeWVTtsIl0aAw',\n 'gOjRd_yvmKvGmIPiSVUf0g',\n 'x16x9mOB1nriV2pUM9mp1g',\n 'wHiFUSCEs1dkoygmttxHlw',\n 'BXnv419wPI_8jGXGQONPvw',\n 'pYVBKY0_IzY7WlGGgoaWuw',\n 'gRtIqKlpP_YNp45x-MmeQQ',\n '5cC_SgY6KoCodATJR0jbNA',\n 'uVUJpFaw0jXQ0i-d2XIc5w',\n 'k5iA70JBHhY8ucLXGR0npA',\n 'oBq1_pJwkO9Lug4KxdoVww',\n 'OkX3CP9LOf0-gsKZC_WkkQ',\n 'tyfq3gpyU9SljvU-ydfZdw',\n '-lbNYxWHPkLJYf891XueRQ',\n 'sWlSRkEQbFCeMT5lISQJPQ',\n 'rpR5X1LKASJ81d88DPOacA',\n 'cbZSH1JBhyfbOh8HIq8UAQ',\n '6e2-UwVCxtsT2GMRlA29pw',\n '13rOi3iY3AUftebDxEWgRw',\n 'bNRCctEyV3RiLQ3saiUp0A',\n '3CwMwbY9UgP-qvTDxNs_0g',\n '6JsEeA-Z-nWl3awrR6n9ZA',\n 'Iw2yGSfnlhuxOTSvF2zKpw',\n 'f0FI3RYJ6h5EIow-0HjmCA',\n 'o9Xqq_7wpRnckPUMG_C_cQ',\n 'MIxQkyyvKg1ZgLvdihSigQ',\n 'aIFbo8WaP6SCuOFnj_v9kA',\n 'IqRqv1s9GqGhpVA2l46Nkw',\n 'M4t4iuq_VtheOHSr0FNlUg',\n 'JhlHJgKva6wHlWEmzkWVBw',\n 'cPYnn9mK7Cyq9c1rhPqYsw',\n 'ObZnTiwMA-4gaTqa1_mB6A',\n '_cRADNksh9fa_lrm_UnOuQ',\n 'q5bEuV2_PMI0yul7DHk5TA',\n '54FlcBEOjZvoQtmOayW8Mw',\n 'gfSlT7EyxnV0lYv2Dg6MxQ',\n 'DwaaafwryFbW7C4E1gU1AA',\n 'i8zM72KrM_2A9gsbbOvUXA',\n 'OIygI2H2N74-O88rtFrQVg',\n 'D8vUHGLGnhqr4IjZQoMvYA',\n 'bGZxMq55pHO2lhVbRuwFAg',\n 'o3V225S8VLj6nui1rqV00A',\n 'NEVXtJ4YzoUT6alIo6qEZQ',\n 'OIDpKC2p61qVO_spPqw1qA',\n 'VrLqjPe-Ryo9xbW8JeFSuQ',\n 'fy2g2nxiVbHq2zBLFvCqwg',\n 'Zp1Qts56HfpyShMqjNepgw',\n 'X6sWEV0Wma8b1troQAI4Ww',\n '6bxzJaXxGCqApmJsyIlr9w',\n 'fiU7TnWwHFlhD259ur0bEw',\n 'YfdgvgOM0e3lmaXEdYq6yg',\n 'L8LoKsZ9zncFoqqf5RiYgA',\n 'ZH3PVSJ9OFcps-MXsJu09w',\n 'q07-fquQXUcpMIFnm6AbKg',\n 'op6v0-x22gXj6zST_QNuPg',\n 'ohYnCSs6eTl7O6o3UySpgg',\n 'fcoo03sWCpBkcWXCF7ppwQ',\n 'QaBNIUwzgN4v_5wjmlJOCg',\n 'v6vZkOA5fcbPhnAtc39spw',\n '453MNlQEC7WpfRTJ9jOW6Q',\n 'OpVo6uoypyDGIuGiGrwLEw',\n 'WflXScygSoYGtMcJrxINUA',\n 'vxBJspWKbZli-R3epll1bQ',\n 'Kho08pWNfeGnRbZTnMKy3w',\n 'GTDbgxCqlcqczxV31V5Jng',\n 'AQGMTHae70n3MnONotAuYQ',\n 'wuvGJ4pLM37f5BUij2K55Q',\n 'i2vWXV__sFOnAiEbt-3RrA',\n 'C3yVWxlgdTdh0_1xfd5HVA',\n 'rduiiFS8pVcvWVfnkm8Quw',\n 'Yjct17zYdxYaM4tG3jBXbQ',\n 'mg_CnvJFP2vu3PaSRzTrxA',\n '8-U6FgqWxNmXz80JhJQXZg',\n 'P4oGqCkYJ6a_LRheCUVUaA',\n 'lhfbA4aEcRGdKyci60MC7Q',\n 'n7NPSaAssS4CHxYqVr6HjA',\n 'VU-Gr_Y6391lscYDKAcETQ',\n 'iw5y9Cm7STWY5D77swNNJQ',\n 'A7cl9FfREOTi0Uy-AT1r5g',\n 'YftKeBGd7sZNNqQaC5JK2g',\n 'qtWdU_n8C8fKQ8IJ5_UL7g',\n '4DkhJhJMchEan4stdmah8w',\n '-shHTy1CEmSMPVSehdASaw',\n '586v_Vg1IJ93qfJZd9l5gg',\n 'BSOxxpmxkxAu_DwusC1Cpg',\n 'QUrd_2C1jiXNjex_uSXqNA',\n 'ubR7Z2wbd-Tx5wnyaWlnfQ',\n 'VSgUIuwDiMBG7mAGxGqwqQ',\n 'MLNzY6qypEaTbYX-d8RNrA',\n 'P3odzsW6sIdba9Lmi91Ouw',\n 'aD4UZNOxh9abKzkHyd31Sw',\n 'cbY0f25GE3WLB5YUNQUgtw',\n '-MeResg7zWIywg7JwuMvaw',\n '6j5Y9Q8wgJXl--AIMKaH8A',\n 'rv9d5TcnnxuOCX7ole_Clg',\n 'Qy0zhduJMSLeOaqDaXYGJQ',\n 'NCjQXZnTwxsLYZR-12uUzw',\n 'HqQGPCrt_ZWX6K5QVNXSAQ',\n 'FAxwG5UGRi0fIIIWJq7eEg',\n '4JJfd85Bxt9whgLjzJfzTw',\n 'nce2tMopGhsuSjBJ47LVJg',\n 'VKlMBA6qX6JTXVRR-tTjSg',\n 'BmCI9_Oxg7018TOxvnUPEg',\n 'y_nRpTpmsteDzhdGKLnXiw',\n '7nfF6uMG4goeQV6cPzExgQ',\n 'ZQQ-UkzlN8SoMwtSBUlXBA',\n '2PpHon4gLSOOORnh35JULw',\n '6A6-aIX7fg_zRy9MiE6YyQ',\n '-zG47SEyhX_R0xHtOVqnnA',\n 'UiRx8jyS6H957ItwFsP2nQ',\n 'oxTjawE5b_E8pumy5IxkHA',\n 'IFa11o38HIk9nsA-0qy5Pg',\n '7ahDVjzGcAcRxdsx4AGUzA',\n 'ulAbDRjhxJSq2mkhI0KRZw',\n 'jIvy_gmR2Phmmujl1Jw_cg',\n '5c6wU41gy9U6wOsWdzEX0g',\n '52g5_G7XpMZzAzqLyBZ4Iw',\n 'Qsv6jcM2b2-9u62jWKboUA',\n 'uw9cwb4qvH0EKvUh-X_W-w',\n 'doniEiQq3lDKbYMiw4ooZw',\n 'L4KX7XLukcdUA1rdpm9-Sg',\n 'tdzXK6WkaR7kuRBERSb3ug',\n 'rEpkLONhLOSwGqs7ZnVZWA',\n 'CYtKqfxO78q8MN6HX2JnDg',\n 'doFhBZMCQAzshdb94hv7rw',\n 'fhq1mJjGK5ePl_BJz-e3-A',\n 'hP_-fududFnckVXBMqt5AQ',\n 'zLv3bqR6PFfjf0dba7ZCGw',\n 'ixtKgePFibGVpyMrPogstg',\n 'AlaSvDNvqRlXU0GvSHjPIQ',\n 'NQOlgF9pUTZb8RgJy-cQNQ',\n 'RCFOZWf7K8_T3WQVPPjnzA',\n 'WRU9reO8hdGuAXJC1QYz_A',\n 'RreNy--tOmXMl1en0wiBOg',\n '_bfAc3JR6d03oVLqiYKtQA',\n 'C3iHXL9m_S6JGuVOiQIQsg',\n 's68rBZqr1YM6XdnUk8NK-A',\n 'qBRo2hqk7pEIbr51D9P2GQ',\n 'IEbdk3v9uCl20UVObqljvA',\n 'IJVqc_5NmUflKafvFyKqmQ',\n 'plNSI0m_WnEKeOUUuW6u8g',\n 'ISVxhWMu_-Up-e6zI3iXfw',\n 'pTGOYPbTtPJ_qlDvP3pxfw',\n 'q4Oz1c_OjGu_a8ZkP53Vnw',\n '5J9N4ol0ho5_oDB7x4JrKg',\n 'qQkGAvvHqxpGn4ejf4dQKw',\n 'uxlVKI_tSA-yMNDfffngJw',\n 'zkgcXdIrtRNhA1MuIw1BgA',\n 'IyIsFkVY48JWa01inv-7zA',\n 'KgE056WSB3iRz5doa5dPYw',\n 'dH5621mQHTMNRfJO7-s03Q',\n 'wOA30Ot79lxU0xk5IJ8PwQ',\n '9UVdlMKQMHhJxbP6X3lSUg',\n 'silVAwzdMSdZ6IINSzvPhw',\n '0S_i96G5FR7oYO3QeH_01Q',\n 'qEIIYHLzHVU6md7A7Iehhg',\n 'XDaRp9gaW1KR1tR8f0L26Q',\n 'iQlKV9nfmzQvpDAThiiU3g',\n 'evWyNdVrLeUrFSyu_mltUw',\n 'ocIh6MeBKs5D8DARqjfAaw',\n 'cGok9ycGn_HvZaht9xkyPw',\n 'JR769FnCuNtMVYfAz3rAew',\n 'oT4-j7Kht8P-8EfE9FZCKw',\n 'pDtf2NtkXaBzY-eEMVo35g',\n 'cuwv0cwD0qwTHIcx-K7q2A',\n 'l41UGnmyB1egwWVfnDBuag',\n 'NbBKe8BJtpeh1RRQSa-FXQ',\n 'oNNT-Kcfbkpdj_xkte8hNQ',\n 'y1BysCatWDaasHXXHljwqw',\n 'qcf3A5mtPntTmmSfADo6tg',\n 'A3PC4ZmfH20fXeQcxNiVQw',\n 'jEDtsAnD8fSG5Lhdlu8pDQ',\n 'tLOiTDp9GttYK_lsKJ1z1g',\n '2GYrVKMtNr6blELwjc7-qA',\n 'OCwLhS1CwFYwmzTnKpdkpg',\n 'jeLRw75_gPda6Yr6uJy8RQ',\n 'cVrM2BvOvPV0Vi_rC8kepQ',\n 'HnTsRXFsbiF0Omc7EHdhSQ',\n '90m4RxxJbxG7HKbYdGJJVQ',\n 'LkDEhlOW-rUA7Oddb0ddbQ',\n 'a1h1MxT_dko3ymT597I9KA',\n 'Z40ee7j_6A2xJNTKCq4eQw',\n 'kUfKfSmhtKaW_m0039edYg',\n 'rK8kLDiaKoIexHy3JzcVCA',\n 'ZJ2jcCWEpUiFy86Wg1ulcg',\n '2Ttdml12syjb782j9lIxuw',\n 'S3KhmGEc3jYhJjz2cbgHIA',\n 'fJq7RPNxDKWan7muR058Dg',\n 'R6wr4CdbpF9hI9GseQMnCg',\n 'nDv8Bl7v0r-WrVR31MtV3w',\n '5wt0NtyLf-n9ZAP09v9ksQ',\n 'whASopgK0XTo4fKA78uSaw',\n 'IIe6WIrx9ZJBzg7d7sEzSg',\n 'upivrs1L-wNXcuXxmRHuhw',\n 'd0ZBnH6W1wy7xFdR9l4jLQ',\n 'twPhc-bzUA-pENkg63eh8A',\n 'DP_GwJSk1B3TUAufH4U_Ww',\n 'KA6qEMS_bGFaGWgIGLYViw',\n 'ATK1ItQDQsHD5IG3sUGNnw',\n 'QiTswK0qYfWh3MCGngbjoQ',\n '2bxIEpaa89Jss_TPOXttTQ',\n 'uRgAL9v1PSVlmoY7VKlc4Q',\n 'Poipwd6qlVQCEbutr6gxaA',\n 'SDkGatUfx1KfKnwXKfkTUw',\n 'ae_Csk90z4AjuanqJhF0Xg',\n '-bE9ajKOZ5CuQy8zOF_DmA',\n 'pRI7lLPA1N-Jpbei3reB9g',\n 'jiVr7O5xTFsUCQlS_HPEKQ',\n 'i2jxBNhLaJV5UEnoIzh6tA',\n 'lTIIIthlKg7E7nUzIkljfQ',\n 'rcrYGfPHXAXoE4uW3hSeoA',\n 'Inkxry_73bD4V5tnI943qA',\n 'TWDHHv7fZZvD78dGwNz2UQ',\n '6j4NN66UESCtdcNJulB4fw',\n 'oLN4eMGovHtNrOhQlo0Klw',\n '440dqFMaKx4Ffy3kLtTn9g',\n 'AR4iAZuZdShphRC_oS2Slg',\n 'QVoy32vmYsjcusOu5ITpDw',\n 'Oi1qbcz2m2SnwUeztGYcnQ',\n 'E3LXyFSDT8SHjyWEg3gz2w',\n 'grSrFnG0BFiYJlWYvdBieQ',\n '4ze88V1brgv5slnpZ1Q4gw',\n 'tmsHu3v6Ot6emPzHxBgsrw',\n 'fIapBzyUHsZTbvy4Dg0myg',\n 'Y_W7DqTkLQ-8LBpd2A1Qag',\n 'ErYq_k9YfcpmOLd7JqHM9A',\n 'kRWLl7x_ADHAeELt5YfDTA',\n 'JWXYZoUjFWB7_lTpxf8zQQ',\n '9HVdyfrZiuz9wDaL-fwCog',\n 'kbFzYCzq9WkmitCXkxsWEw',\n 'WYpPk2TiiTb7Fz0S5_ZPxQ',\n 'QYa33kf4-ZCOC5yJGRhiBQ',\n 'MU13XY9f1Ex-rYepdIwT-g',\n '4WkX5Sjp9LIrCW9leJvo4g',\n 'cN0BeccD2EXyjxl2DYdxfA',\n 'Mw_nhydLZUhH945rxVWq0w',\n 'PxO6LX6hkTUHo916Ht_ahA',\n 'ZwyRFQWEzh4rGEyvlr5Oeg',\n '0VmwgCwrHp47x0sPrvzquQ',\n 'Lb-0y35-vafOkfd9YBWXLA',\n '8474DneUCzxx_YWmJvGxTQ',\n 'HTgsSLhJEcY2_V8LIxuzMQ',\n 'p6z0yLiUB9_bk19tTbtbew',\n '8ykj0YKtwkLRj_T4OTu4_w',\n 'Kt4--YRWY-kFVxqjvdeXYw',\n 'a1xbZ-UTFf2pk8s69oGmgg',\n 'gDYfG4E8c7LUMp7mPz0J8A',\n 'xbuKtP0X6qMOwTbB6hlAOg',\n 'x128vT1dyoklLG2RdagCpQ',\n '0OqT_KW-0IIiAdxnv7aftA',\n 'qZwehAvS51R1AQygzR_9IA',\n 'xQT2u-i36B2I9NCgINAr8Q',\n 'rIxRbz4F1x1jJBF_oAsdpg',\n '4eh6XJPrsEEn_R9KXQ7lOA',\n 'YOIorhfo8hHhilRyam2c4w',\n '9Bq09meTAggWpjIsier7iQ',\n 'DTNAb-1gJ6e2nyqCc3fdcQ',\n 'IPBXsCQIhjXfGGfY4kDDVA',\n '4CR7rQLHuXZpfLzDvqlaIA',\n 'fdmU8SZCzcYd8sAh6dWGkw',\n 'bpJQHVDgnRGmNVn3fOJguQ',\n 'dMrmnopCJ0xxEuG7WMCtWw',\n '1HM81n6n4iPIFU5d2Lokhw',\n 'XVkRkMnry6MsPNEIos6SXg',\n '-cefE54dkMI9cJ8kWudebg',\n 'MglV_myJM46_N3zZI0_t0A',\n 'QO373fqoVVYBqF5cuC7ekA',\n 'AVS5IU5l93atKbpYry7e6A',\n '3Qb7Z7dN-_0iZ3yiA_hCOg',\n 'bNnBwW5kNO77KTgMeVhxKg',\n 'A-h1VpD4NhSQo9hlk5FzRg',\n 'PsXhJHX255QM8FRw-dvh-w',\n 'xCyrTXHiUJaJiMdadI13Xg',\n '0G-bcpdR48tfZy6koGUiTQ',\n 'Tkpswlqh7GU447LPAdW4hw',\n 'X0Bmllln5u8i37-Fo8leVg',\n 'n_ZsbKMBp1z6tSg7n6yisg',\n 'z7kkfKrPNKjK3H6gdFaDUg',\n 'MatyUqISKukPYLms_I95IQ',\n 'cKt_q3fSKoERluLNkguZ9w',\n 'VYPkzfD8HAims9BAqQ9HUw',\n 'm6ePktu2cDs1auXdoIzt5w',\n '2ojg5WZeDIiRBJbDloxbOA',\n 'S59QzY7MKj6MHedX6gTaHw',\n 'KE45Oo3VbzXApZVtEnDjDA',\n 'oNB3hiWxLrqiu0x0GYo-dA',\n 'OIRTcpBZp_ykH9L4m1Ox7g',\n 'OlK66KgKEaIA1wQZfNfG0g',\n 'gB7buT5SEk9BDtsAEiCBFw',\n 'BkFbm8cUuwHi9FgqvYu1ag',\n 'rtGnlR02bjJXp0cg-RzR6w',\n 'swobJ5rJuEGRKqHBf8EutA',\n 'ZONg3CGFq-PPSuYH5swlkA',\n 'ufp1DPcF-aO_3Y189JTqtQ',\n 'EiQ2OMewi-ZVmAZqICUd6g',\n 'TMXUQO7Pcu1-qRLXS3cIBA',\n '2feiZFzICp_mLONEpzY0pA',\n '1JTZrNfcQnO0G4YUgkzxNw',\n 'XvdZC7XWSwnqoiMBJPj55Q',\n 'qp7ENnWv8O43l4yhqfUR8A',\n '2uSQbWdY-Hg4vnU_lbXI1Q',\n 'SE85OT0FKxeL28izk-5POg',\n 'jzV56K7A_mx3y3Eh7YG26g',\n 'Dn-rj7uWr9wpLJutfmRvqQ',\n 'J9WErEM7ZpMoBWdYIcbaAw',\n 'P5F6tfuzk9HgwC5ZqfbjQg',\n 'R3jqRDnxR0OnsBPHvp49hw',\n 'WDW7cqr-qhqARM_MDXCcGg',\n 'o5PjjS1IxZ8rvBKSFZeM7Q',\n 'DN7mB9u36QlCourhzbRq7A',\n 'ikWD8meznb14w9yNie3bwQ',\n 'M4yFvtrNL-zuK7UXlREUCg',\n 'H6YIeEzo7CsXyRxVBxbg_Q',\n 'oAhoFRRKomodbIx8jtKmKA',\n 'LrUaSoIUldeRK6Uwx9v-3Q',\n 'moQ0bObisoDRDBKQk1jG2A',\n 'YEP_31FTnDQV5tQ7pKxZbw',\n 'qs9_yIgen2NUxQCS-LiR_Q',\n 'WVqS85AUR20gbSFkuKH8Ig',\n '8xubwsU_9t3QmHzxTghdlg',\n 'hLiBbJD4S2RUE_kdIYyHaQ',\n '1wznt1BOXSQBuJnQcLHLiw',\n 'JGFD2fYfiTVtUeMXlWPDKg',\n 'CEAez8zEPRtntTjqfZ39NA',\n 'gPRtxJX7mtDnfZunsLt1nw',\n '_j5ryDU-2aeFmLbZFaofNw',\n 'n0iFO9S6ZvOBh15pLeMwMw',\n 'h3KYuVHhr59Q-UFloqhLHg',\n 'VlXvV7iPFnfoAQFUVAklVQ',\n 'VUh3UiuYGOp2SjAOqrmYaA',\n 'E_OOZjrlgDTTCHT5p2tG_w',\n 'ZPzBbBPIG2MJuRd72XQHXw',\n 'sZaRJwINk4-V8o06kFeo2A',\n 'y7AGOXeSOTNVROisSMgHfA',\n '6MQpgsfFoxm1AKaIW5e6Ow',\n 'BllxaGmCtQAUyhGBDNjUWA',\n 'T0__3O43vD8OA85Rh1cR3Q',\n 'phoMcYUbBJeAKUD0GE76GA',\n '3G9zwCpr-pxQhO2D8-wvxQ',\n 'sgtV2_36FV0otK0pjHIHNg',\n 'YPRIyVbgxJNVvK1InR6kYQ',\n 'i6L9I8xDF-di3kgvDewnjg',\n 'lAW03ccfMEuRZiDqvVgc0w',\n 'qpCj1O8nRfFFXKTpSlSP8w',\n 'mVRtpuVBud-G4nyDdKhGbg',\n 'UXTsDU3DJLW380wgcExy-Q',\n 'DL--S3W0-kR-YopomPn7wg',\n 'et7Ndr07Kz-4wX8bbmQjWg',\n 'ivW0Vad81qJ8SIgqJ8p1Mw',\n 'ClC3BrpGY9C0uQCnwQvwKw',\n 'qLcRm3x2BSJbdGNs1NXO5A',\n 'lHqA_D7nAK9xw_Xg08dM_w',\n 'Kv_YBSfHpgzhxVO-4bHegw',\n '7136q7_aEx4WJ_WSGv2JjA',\n '-GDdBOfhrxn7lAGblLSoqA',\n 'houyW9Vr1OWG1OeA58ZECA',\n 'VTHNbsEN_tmd7_--2Wv6LQ',\n 'LarOkLonzqu5pLzZimS2BA',\n 'pk1HIAFsiHxpBDuagDpRuA',\n 'EAHCCgMFoJxlOPcCPQ91SQ',\n 'dvuk2AH4MSH5gWln1WwKAg']"
     },
     "execution_count": 1,
     "metadata": {},
     "output_type": "execute_result"
    }
   ],
   "source": [
    "import pandas as pd\n",
    "\n",
    "# import data for users already containing expectations\n",
    "users = pd.read_csv('processed_data/user_expectations.csv')\n",
    "\n",
    "# show data\n",
    "high_exp_users = users.sort_values(by='expectation')['user_id'].tolist()[0:1000]\n",
    "low_exp_users = users.sort_values(by='expectation', ascending=False)['user_id'].tolist()[0:1000]\n",
    "\n",
    "high_exp_users"
   ],
   "metadata": {
    "collapsed": false,
    "pycharm": {
     "name": "#%%\n"
    }
   }
  },
  {
   "cell_type": "code",
   "execution_count": 2,
   "outputs": [
    {
     "data": {
      "text/plain": "                      review_id                 user_id  \\\n24       lUUhg8ltDsUZ9h0xnwY4Dg  RreNy--tOmXMl1en0wiBOg   \n92       fC415u9adP0Xtamme7hcCw  mEOMAeEonZoUx2nPM3v6fg   \n154      bi6GaeWDGceGv62lXTIKQA  RgtbLaiU22zqaCk20HgbiQ   \n183      a5JHzBrWxRd_OmIvV7znDA  04JlTjJRbcv_kS9xVPhOdg   \n213      Oqh_qiy0kUEYY0IScSYTaQ  dCOonQ7Md1ooief37g1SHw   \n...                         ...                     ...   \n6990174  m_WyTXe6z6FlAzG7qjebEA  uw9cwb4qvH0EKvUh-X_W-w   \n6990210  FFNTjpmp4pR0h7c-rxifaQ  MTiEYQ_LHH3xdxOKoXetfw   \n6990235  kZiKvXxK7o5i7fa32u5Jgw  6jjHo9Lilv3kTy87pm2ycw   \n6990240  rtt1Ymczj-1Lb26JMsY2lA  M1cMsRL4L7IUr9RILDywEQ   \n6990280  i-I4ZOhoX70Nw5H0FwrQUA  YwAMC-jvZ1fvEUum6QkEkw   \n\n                    business_id  stars  useful  funny  cool  \\\n24       cPepkJeRMtHapc_b2Oe_dw    4.0     1.0    0.0   1.0   \n92       f-WhNOSwN1aB4nRFekf01g    4.0     0.0    0.0   0.0   \n154      bjhCtlYHrkgA5Ku8l-rB3g    1.0     1.0    0.0   0.0   \n183      WM3q-7scdPUei6fu4SJFYw    1.0     0.0    0.0   0.0   \n213      rrD5LY3nkyKMg1CYKKZomQ    5.0     0.0    0.0   0.0   \n...                         ...    ...     ...    ...   ...   \n6990174  necj933-7IiKCyMGj6ZWGQ    5.0     8.0    0.0   2.0   \n6990210  Ee5liydIi6qRkN64W3LRwg    5.0     4.0    0.0   1.0   \n6990235  pQAQwhBlSQdG1HuuLuCqXw    5.0    46.0   17.0  45.0   \n6990240  vt_esoDw6HG5ClM12OPkMg    4.0     4.0    3.0   4.0   \n6990280  Rr9kKArrMhSLVE9a53q-aA    5.0     1.0    0.0   0.0   \n\n                                                      text  \\\n24       I was really between 3 and 4 stars for this on...   \n92       Id you haven't been to the Smoothie King cente...   \n154      Very disappointed. We went to eat  at 2:15 on ...   \n183      Went here based on the high ratings and raves ...   \n213      Steve & his partner are the best! Love that he...   \n...                                                    ...   \n6990174  We all need to splurge a little sometimes.  To...   \n6990210  I really enjoyed my first experience floating,...   \n6990235  Just $5 every SUNDAY in October! Do it!\\n\\nOh,...   \n6990240  5 stars for the Bonte waffle, 3 stars for this...   \n6990280  For when I'm feeling like ignoring my calorie-...   \n\n                        date  \n24       2018-07-17 03:30:07  \n92       2015-03-19 00:30:09  \n154      2015-01-04 02:26:46  \n183      2014-11-12 12:41:29  \n213      2015-11-06 16:49:25  \n...                      ...  \n6990174  2016-03-09 16:59:45  \n6990210  2019-05-07 21:10:01  \n6990235  2020-10-11 00:09:30  \n6990240  2009-03-03 20:59:10  \n6990280  2022-01-19 18:59:27  \n\n[193216 rows x 9 columns]",
      "text/html": "<div>\n<style scoped>\n    .dataframe tbody tr th:only-of-type {\n        vertical-align: middle;\n    }\n\n    .dataframe tbody tr th {\n        vertical-align: top;\n    }\n\n    .dataframe thead th {\n        text-align: right;\n    }\n</style>\n<table border=\"1\" class=\"dataframe\">\n  <thead>\n    <tr style=\"text-align: right;\">\n      <th></th>\n      <th>review_id</th>\n      <th>user_id</th>\n      <th>business_id</th>\n      <th>stars</th>\n      <th>useful</th>\n      <th>funny</th>\n      <th>cool</th>\n      <th>text</th>\n      <th>date</th>\n    </tr>\n  </thead>\n  <tbody>\n    <tr>\n      <th>24</th>\n      <td>lUUhg8ltDsUZ9h0xnwY4Dg</td>\n      <td>RreNy--tOmXMl1en0wiBOg</td>\n      <td>cPepkJeRMtHapc_b2Oe_dw</td>\n      <td>4.0</td>\n      <td>1.0</td>\n      <td>0.0</td>\n      <td>1.0</td>\n      <td>I was really between 3 and 4 stars for this on...</td>\n      <td>2018-07-17 03:30:07</td>\n    </tr>\n    <tr>\n      <th>92</th>\n      <td>fC415u9adP0Xtamme7hcCw</td>\n      <td>mEOMAeEonZoUx2nPM3v6fg</td>\n      <td>f-WhNOSwN1aB4nRFekf01g</td>\n      <td>4.0</td>\n      <td>0.0</td>\n      <td>0.0</td>\n      <td>0.0</td>\n      <td>Id you haven't been to the Smoothie King cente...</td>\n      <td>2015-03-19 00:30:09</td>\n    </tr>\n    <tr>\n      <th>154</th>\n      <td>bi6GaeWDGceGv62lXTIKQA</td>\n      <td>RgtbLaiU22zqaCk20HgbiQ</td>\n      <td>bjhCtlYHrkgA5Ku8l-rB3g</td>\n      <td>1.0</td>\n      <td>1.0</td>\n      <td>0.0</td>\n      <td>0.0</td>\n      <td>Very disappointed. We went to eat  at 2:15 on ...</td>\n      <td>2015-01-04 02:26:46</td>\n    </tr>\n    <tr>\n      <th>183</th>\n      <td>a5JHzBrWxRd_OmIvV7znDA</td>\n      <td>04JlTjJRbcv_kS9xVPhOdg</td>\n      <td>WM3q-7scdPUei6fu4SJFYw</td>\n      <td>1.0</td>\n      <td>0.0</td>\n      <td>0.0</td>\n      <td>0.0</td>\n      <td>Went here based on the high ratings and raves ...</td>\n      <td>2014-11-12 12:41:29</td>\n    </tr>\n    <tr>\n      <th>213</th>\n      <td>Oqh_qiy0kUEYY0IScSYTaQ</td>\n      <td>dCOonQ7Md1ooief37g1SHw</td>\n      <td>rrD5LY3nkyKMg1CYKKZomQ</td>\n      <td>5.0</td>\n      <td>0.0</td>\n      <td>0.0</td>\n      <td>0.0</td>\n      <td>Steve &amp; his partner are the best! Love that he...</td>\n      <td>2015-11-06 16:49:25</td>\n    </tr>\n    <tr>\n      <th>...</th>\n      <td>...</td>\n      <td>...</td>\n      <td>...</td>\n      <td>...</td>\n      <td>...</td>\n      <td>...</td>\n      <td>...</td>\n      <td>...</td>\n      <td>...</td>\n    </tr>\n    <tr>\n      <th>6990174</th>\n      <td>m_WyTXe6z6FlAzG7qjebEA</td>\n      <td>uw9cwb4qvH0EKvUh-X_W-w</td>\n      <td>necj933-7IiKCyMGj6ZWGQ</td>\n      <td>5.0</td>\n      <td>8.0</td>\n      <td>0.0</td>\n      <td>2.0</td>\n      <td>We all need to splurge a little sometimes.  To...</td>\n      <td>2016-03-09 16:59:45</td>\n    </tr>\n    <tr>\n      <th>6990210</th>\n      <td>FFNTjpmp4pR0h7c-rxifaQ</td>\n      <td>MTiEYQ_LHH3xdxOKoXetfw</td>\n      <td>Ee5liydIi6qRkN64W3LRwg</td>\n      <td>5.0</td>\n      <td>4.0</td>\n      <td>0.0</td>\n      <td>1.0</td>\n      <td>I really enjoyed my first experience floating,...</td>\n      <td>2019-05-07 21:10:01</td>\n    </tr>\n    <tr>\n      <th>6990235</th>\n      <td>kZiKvXxK7o5i7fa32u5Jgw</td>\n      <td>6jjHo9Lilv3kTy87pm2ycw</td>\n      <td>pQAQwhBlSQdG1HuuLuCqXw</td>\n      <td>5.0</td>\n      <td>46.0</td>\n      <td>17.0</td>\n      <td>45.0</td>\n      <td>Just $5 every SUNDAY in October! Do it!\\n\\nOh,...</td>\n      <td>2020-10-11 00:09:30</td>\n    </tr>\n    <tr>\n      <th>6990240</th>\n      <td>rtt1Ymczj-1Lb26JMsY2lA</td>\n      <td>M1cMsRL4L7IUr9RILDywEQ</td>\n      <td>vt_esoDw6HG5ClM12OPkMg</td>\n      <td>4.0</td>\n      <td>4.0</td>\n      <td>3.0</td>\n      <td>4.0</td>\n      <td>5 stars for the Bonte waffle, 3 stars for this...</td>\n      <td>2009-03-03 20:59:10</td>\n    </tr>\n    <tr>\n      <th>6990280</th>\n      <td>i-I4ZOhoX70Nw5H0FwrQUA</td>\n      <td>YwAMC-jvZ1fvEUum6QkEkw</td>\n      <td>Rr9kKArrMhSLVE9a53q-aA</td>\n      <td>5.0</td>\n      <td>1.0</td>\n      <td>0.0</td>\n      <td>0.0</td>\n      <td>For when I'm feeling like ignoring my calorie-...</td>\n      <td>2022-01-19 18:59:27</td>\n    </tr>\n  </tbody>\n</table>\n<p>193216 rows × 9 columns</p>\n</div>"
     },
     "execution_count": 2,
     "metadata": {},
     "output_type": "execute_result"
    }
   ],
   "source": [
    "# import data for reviews and filter it\n",
    "reviews = pd.read_csv('csv_data/yelp_academic_dataset_review.csv')\n",
    "reviews = reviews[reviews['user_id'].isin(high_exp_users + low_exp_users)]\n",
    "\n",
    "# verify number of reviews\n",
    "reviews"
   ],
   "metadata": {
    "collapsed": false,
    "pycharm": {
     "name": "#%%\n"
    }
   }
  },
  {
   "cell_type": "code",
   "execution_count": 3,
   "outputs": [],
   "source": [
    "# set labels of high and low for the reviews based on the user who made it\n",
    "reviews['expectation'] = 'low'\n",
    "reviews.loc[reviews['user_id'].isin(high_exp_users), ['expectation']] = 'high'"
   ],
   "metadata": {
    "collapsed": false,
    "pycharm": {
     "name": "#%%\n"
    }
   }
  },
  {
   "cell_type": "code",
   "execution_count": 4,
   "outputs": [
    {
     "data": {
      "text/plain": "             review_id  user_id  business_id  stars  useful  funny   cool  \\\nexpectation                                                                 \nhigh             10000    10000        10000  10000   10000  10000  10000   \nlow              10000    10000        10000  10000   10000  10000  10000   \n\n              text   date  \nexpectation                \nhigh         10000  10000  \nlow          10000  10000  ",
      "text/html": "<div>\n<style scoped>\n    .dataframe tbody tr th:only-of-type {\n        vertical-align: middle;\n    }\n\n    .dataframe tbody tr th {\n        vertical-align: top;\n    }\n\n    .dataframe thead th {\n        text-align: right;\n    }\n</style>\n<table border=\"1\" class=\"dataframe\">\n  <thead>\n    <tr style=\"text-align: right;\">\n      <th></th>\n      <th>review_id</th>\n      <th>user_id</th>\n      <th>business_id</th>\n      <th>stars</th>\n      <th>useful</th>\n      <th>funny</th>\n      <th>cool</th>\n      <th>text</th>\n      <th>date</th>\n    </tr>\n    <tr>\n      <th>expectation</th>\n      <th></th>\n      <th></th>\n      <th></th>\n      <th></th>\n      <th></th>\n      <th></th>\n      <th></th>\n      <th></th>\n      <th></th>\n    </tr>\n  </thead>\n  <tbody>\n    <tr>\n      <th>high</th>\n      <td>10000</td>\n      <td>10000</td>\n      <td>10000</td>\n      <td>10000</td>\n      <td>10000</td>\n      <td>10000</td>\n      <td>10000</td>\n      <td>10000</td>\n      <td>10000</td>\n    </tr>\n    <tr>\n      <th>low</th>\n      <td>10000</td>\n      <td>10000</td>\n      <td>10000</td>\n      <td>10000</td>\n      <td>10000</td>\n      <td>10000</td>\n      <td>10000</td>\n      <td>10000</td>\n      <td>10000</td>\n    </tr>\n  </tbody>\n</table>\n</div>"
     },
     "execution_count": 4,
     "metadata": {},
     "output_type": "execute_result"
    }
   ],
   "source": [
    "# reduce the dataset to 10,000 reviews of each category\n",
    "reviews = reviews.groupby('expectation').apply(lambda x: x.sample(10000, random_state=0).reset_index(drop=True))\n",
    "reviews = reviews.droplevel(level=0)\n",
    "\n",
    "# check if it worked\n",
    "reviews.groupby('expectation').count()"
   ],
   "metadata": {
    "collapsed": false,
    "pycharm": {
     "name": "#%%\n"
    }
   }
  },
  {
   "cell_type": "code",
   "execution_count": 6,
   "outputs": [],
   "source": [
    "from sklearn.model_selection import train_test_split\n",
    "import numpy as np\n",
    "\n",
    "review_group = reviews['expectation'].tolist()\n",
    "X_train, X_test, y_train, y_test = train_test_split(reviews[['text']], np.array(review_group), test_size=0.25, random_state=0)"
   ],
   "metadata": {
    "collapsed": false,
    "pycharm": {
     "name": "#%%\n"
    }
   }
  },
  {
   "cell_type": "code",
   "execution_count": 7,
   "outputs": [],
   "source": [
    "from yelp_functions import get_processed_inputs, sum_to_one\n",
    "from sklearn.feature_extraction.text import CountVectorizer\n",
    "\n",
    "# pre-process the inputs\n",
    "bow_train = get_processed_inputs(X_train)\n",
    "\n",
    "# create the BoW representation for the set\n",
    "bow_vec = CountVectorizer(max_features=1024, ngram_range=(1,2))\n",
    "bow_train = sum_to_one(bow_vec.fit_transform(bow_train).toarray())\n",
    "\n",
    "# we now create vectors for testing and validation\n",
    "bow_test = sum_to_one(bow_vec.transform(get_processed_inputs(X_test)).toarray())"
   ],
   "metadata": {
    "collapsed": false,
    "pycharm": {
     "name": "#%%\n"
    }
   }
  },
  {
   "cell_type": "code",
   "execution_count": 14,
   "outputs": [
    {
     "name": "stdout",
     "output_type": "stream",
     "text": [
      "SVM test score: 0.5908\n",
      "SVM train score: 0.7448666666666667\n",
      "RF test score: 0.5684\n",
      "RF train score: 0.6362\n",
      "LR test score: 0.571\n",
      "LR train score: 0.5964666666666667\n",
      "NB test score: 0.5692\n",
      "NB train score: 0.6284666666666666\n"
     ]
    }
   ],
   "source": [
    "from sklearn.svm import SVC\n",
    "from sklearn.ensemble import RandomForestClassifier\n",
    "from sklearn.linear_model import LogisticRegression\n",
    "from sklearn.naive_bayes import MultinomialNB\n",
    "\n",
    "# using SVMs for classification\n",
    "svm = SVC(C=0.5).fit(bow_train, y_train)\n",
    "print(\"SVM test score:\", svm.score(bow_test, y_test))\n",
    "print(\"SVM train score:\", svm.score(bow_train, y_train))\n",
    "\n",
    "# using random forests for classification\n",
    "rfc = RandomForestClassifier(max_depth=5, random_state=0).fit(bow_train, y_train)\n",
    "print(\"RF test score:\", rfc.score(bow_test, y_test))\n",
    "print(\"RF train score:\", rfc.score(bow_train, y_train))\n",
    "\n",
    "# using logistic regression for classification\n",
    "lrc = LogisticRegression(random_state=0, max_iter=125, C=0.5).fit(bow_train, y_train)\n",
    "print(\"LR test score:\", lrc.score(bow_test, y_test))\n",
    "print(\"LR train score:\", lrc.score(bow_train, y_train))\n",
    "\n",
    "# using naive bayes for classification\n",
    "nbc = MultinomialNB().fit(bow_train, y_train)\n",
    "print(\"NB test score:\", nbc.score(bow_test, y_test))\n",
    "print(\"NB train score:\", nbc.score(bow_train, y_train))"
   ],
   "metadata": {
    "collapsed": false,
    "pycharm": {
     "name": "#%%\n"
    }
   }
  },
  {
   "cell_type": "code",
   "execution_count": 70,
   "outputs": [],
   "source": [
    "# get the coefficients for linear regression\n",
    "lr_coefficients = lrc.coef_.tolist()[0]\n",
    "\n",
    "# get 10 indexes for most and least import items\n",
    "max_indexes, min_indexes = [], []\n",
    "for i in range(20):\n",
    "    max_idx = np.argmax(lr_coefficients)\n",
    "    min_idx = np.argmin(lr_coefficients)\n",
    "    max_indexes.append(max_idx)\n",
    "    min_indexes.append(min_idx)\n",
    "    lr_coefficients[max_idx] = 0\n",
    "    lr_coefficients[min_idx] = 0"
   ],
   "metadata": {
    "collapsed": false,
    "pycharm": {
     "name": "#%%\n"
    }
   }
  },
  {
   "cell_type": "code",
   "execution_count": 71,
   "outputs": [
    {
     "data": {
      "text/plain": "(array(['fun', 'experience', 'visit', 'wine', 'old', 'soup', 'park',\n        'location', 'items', 'home', 'inside', 'meal', 'hot', 'area',\n        'outside', 'large', 'easy', 'group', 'little', 'things'],\n       dtype='<U10'),\n array(['place', 'best', 'food', 'good', 'rude', 'service', 'expensive',\n        'price', 'fresh', 'got', 'pretty', 'delicious', 'better', 'come',\n        'pizza', 'amazing', 'cheap', 'tried', 'super', 'excellent'],\n       dtype='<U9'))"
     },
     "execution_count": 71,
     "metadata": {},
     "output_type": "execute_result"
    }
   ],
   "source": [
    "# find words related to high expectation users\n",
    "high_exp_words = []\n",
    "for index in min_indexes:\n",
    "    test = np.zeros(1024)\n",
    "    test[index] = 1\n",
    "    high_exp_words.append(bow_vec.inverse_transform(test)[0][0])\n",
    "\n",
    "# find words with low expectation users\n",
    "low_exp_words = []\n",
    "for index in max_indexes:\n",
    "    test = np.zeros(1024)\n",
    "    test[index] = 1\n",
    "    low_exp_words.append(bow_vec.inverse_transform(test)[0][0])\n",
    "\n",
    "np.array(high_exp_words), np.array(low_exp_words)"
   ],
   "metadata": {
    "collapsed": false,
    "pycharm": {
     "name": "#%%\n"
    }
   }
  },
  {
   "cell_type": "code",
   "execution_count": null,
   "outputs": [],
   "source": [],
   "metadata": {
    "collapsed": false,
    "pycharm": {
     "name": "#%%\n"
    }
   }
  }
 ],
 "metadata": {
  "kernelspec": {
   "display_name": "Python 3",
   "language": "python",
   "name": "python3"
  },
  "language_info": {
   "codemirror_mode": {
    "name": "ipython",
    "version": 2
   },
   "file_extension": ".py",
   "mimetype": "text/x-python",
   "name": "python",
   "nbconvert_exporter": "python",
   "pygments_lexer": "ipython2",
   "version": "2.7.6"
  }
 },
 "nbformat": 4,
 "nbformat_minor": 0
}