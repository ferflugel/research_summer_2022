{
 "cells": [
  {
   "cell_type": "code",
   "execution_count": 1,
   "metadata": {
    "collapsed": true,
    "pycharm": {
     "name": "#%%\n"
    }
   },
   "outputs": [
    {
     "data": {
      "text/plain": "0                  state gini_index_2019\n0          United States          0.4811\n1                Alabama          0.4741\n2                 Alaska          0.4376\n3                Arizona          0.4591\n4               Arkansas           0.475\n5             California          0.4866\n6               Colorado          0.4548\n7            Connecticut          0.5024\n8               Delaware          0.4509\n9   District of Columbia          0.5115\n10               Florida          0.4808\n11               Georgia          0.4795\n12                Hawaii          0.4397\n13                 Idaho          0.4337\n14              Illinois            0.48\n15               Indiana          0.4584\n16                  Iowa          0.4422\n17                Kansas            0.45\n18              Kentucky          0.4764\n19             Louisiana          0.4978\n20                 Maine           0.449\n21              Maryland          0.4558\n22         Massachusetts          0.4803\n23              Michigan          0.4634\n24             Minnesota          0.4434\n25           Mississippi          0.4896\n26              Missouri          0.4633\n27               Montana          0.4597\n28              Nebraska            0.44\n29                Nevada           0.471\n30         New Hampshire          0.4406\n31            New Jersey          0.4782\n32            New Mexico          0.4768\n33              New York          0.5149\n34        North Carolina          0.4743\n35          North Dakota          0.4558\n36                  Ohio          0.4651\n37              Oklahoma          0.4739\n38                Oregon            0.45\n39          Pennsylvania          0.4745\n40          Rhode Island          0.4628\n41        South Carolina          0.4747\n42          South Dakota           0.436\n43             Tennessee          0.4749\n44                 Texas          0.4753\n45                  Utah          0.4268\n46               Vermont          0.4471\n47              Virginia           0.469\n48            Washington          0.4577\n49         West Virginia          0.4644\n50             Wisconsin          0.4391\n51               Wyoming          0.4345\n52           Puerto Rico          0.5509",
      "text/html": "<div>\n<style scoped>\n    .dataframe tbody tr th:only-of-type {\n        vertical-align: middle;\n    }\n\n    .dataframe tbody tr th {\n        vertical-align: top;\n    }\n\n    .dataframe thead th {\n        text-align: right;\n    }\n</style>\n<table border=\"1\" class=\"dataframe\">\n  <thead>\n    <tr style=\"text-align: right;\">\n      <th></th>\n      <th>state</th>\n      <th>gini_index_2019</th>\n    </tr>\n  </thead>\n  <tbody>\n    <tr>\n      <th>0</th>\n      <td>United States</td>\n      <td>0.4811</td>\n    </tr>\n    <tr>\n      <th>1</th>\n      <td>Alabama</td>\n      <td>0.4741</td>\n    </tr>\n    <tr>\n      <th>2</th>\n      <td>Alaska</td>\n      <td>0.4376</td>\n    </tr>\n    <tr>\n      <th>3</th>\n      <td>Arizona</td>\n      <td>0.4591</td>\n    </tr>\n    <tr>\n      <th>4</th>\n      <td>Arkansas</td>\n      <td>0.475</td>\n    </tr>\n    <tr>\n      <th>5</th>\n      <td>California</td>\n      <td>0.4866</td>\n    </tr>\n    <tr>\n      <th>6</th>\n      <td>Colorado</td>\n      <td>0.4548</td>\n    </tr>\n    <tr>\n      <th>7</th>\n      <td>Connecticut</td>\n      <td>0.5024</td>\n    </tr>\n    <tr>\n      <th>8</th>\n      <td>Delaware</td>\n      <td>0.4509</td>\n    </tr>\n    <tr>\n      <th>9</th>\n      <td>District of Columbia</td>\n      <td>0.5115</td>\n    </tr>\n    <tr>\n      <th>10</th>\n      <td>Florida</td>\n      <td>0.4808</td>\n    </tr>\n    <tr>\n      <th>11</th>\n      <td>Georgia</td>\n      <td>0.4795</td>\n    </tr>\n    <tr>\n      <th>12</th>\n      <td>Hawaii</td>\n      <td>0.4397</td>\n    </tr>\n    <tr>\n      <th>13</th>\n      <td>Idaho</td>\n      <td>0.4337</td>\n    </tr>\n    <tr>\n      <th>14</th>\n      <td>Illinois</td>\n      <td>0.48</td>\n    </tr>\n    <tr>\n      <th>15</th>\n      <td>Indiana</td>\n      <td>0.4584</td>\n    </tr>\n    <tr>\n      <th>16</th>\n      <td>Iowa</td>\n      <td>0.4422</td>\n    </tr>\n    <tr>\n      <th>17</th>\n      <td>Kansas</td>\n      <td>0.45</td>\n    </tr>\n    <tr>\n      <th>18</th>\n      <td>Kentucky</td>\n      <td>0.4764</td>\n    </tr>\n    <tr>\n      <th>19</th>\n      <td>Louisiana</td>\n      <td>0.4978</td>\n    </tr>\n    <tr>\n      <th>20</th>\n      <td>Maine</td>\n      <td>0.449</td>\n    </tr>\n    <tr>\n      <th>21</th>\n      <td>Maryland</td>\n      <td>0.4558</td>\n    </tr>\n    <tr>\n      <th>22</th>\n      <td>Massachusetts</td>\n      <td>0.4803</td>\n    </tr>\n    <tr>\n      <th>23</th>\n      <td>Michigan</td>\n      <td>0.4634</td>\n    </tr>\n    <tr>\n      <th>24</th>\n      <td>Minnesota</td>\n      <td>0.4434</td>\n    </tr>\n    <tr>\n      <th>25</th>\n      <td>Mississippi</td>\n      <td>0.4896</td>\n    </tr>\n    <tr>\n      <th>26</th>\n      <td>Missouri</td>\n      <td>0.4633</td>\n    </tr>\n    <tr>\n      <th>27</th>\n      <td>Montana</td>\n      <td>0.4597</td>\n    </tr>\n    <tr>\n      <th>28</th>\n      <td>Nebraska</td>\n      <td>0.44</td>\n    </tr>\n    <tr>\n      <th>29</th>\n      <td>Nevada</td>\n      <td>0.471</td>\n    </tr>\n    <tr>\n      <th>30</th>\n      <td>New Hampshire</td>\n      <td>0.4406</td>\n    </tr>\n    <tr>\n      <th>31</th>\n      <td>New Jersey</td>\n      <td>0.4782</td>\n    </tr>\n    <tr>\n      <th>32</th>\n      <td>New Mexico</td>\n      <td>0.4768</td>\n    </tr>\n    <tr>\n      <th>33</th>\n      <td>New York</td>\n      <td>0.5149</td>\n    </tr>\n    <tr>\n      <th>34</th>\n      <td>North Carolina</td>\n      <td>0.4743</td>\n    </tr>\n    <tr>\n      <th>35</th>\n      <td>North Dakota</td>\n      <td>0.4558</td>\n    </tr>\n    <tr>\n      <th>36</th>\n      <td>Ohio</td>\n      <td>0.4651</td>\n    </tr>\n    <tr>\n      <th>37</th>\n      <td>Oklahoma</td>\n      <td>0.4739</td>\n    </tr>\n    <tr>\n      <th>38</th>\n      <td>Oregon</td>\n      <td>0.45</td>\n    </tr>\n    <tr>\n      <th>39</th>\n      <td>Pennsylvania</td>\n      <td>0.4745</td>\n    </tr>\n    <tr>\n      <th>40</th>\n      <td>Rhode Island</td>\n      <td>0.4628</td>\n    </tr>\n    <tr>\n      <th>41</th>\n      <td>South Carolina</td>\n      <td>0.4747</td>\n    </tr>\n    <tr>\n      <th>42</th>\n      <td>South Dakota</td>\n      <td>0.436</td>\n    </tr>\n    <tr>\n      <th>43</th>\n      <td>Tennessee</td>\n      <td>0.4749</td>\n    </tr>\n    <tr>\n      <th>44</th>\n      <td>Texas</td>\n      <td>0.4753</td>\n    </tr>\n    <tr>\n      <th>45</th>\n      <td>Utah</td>\n      <td>0.4268</td>\n    </tr>\n    <tr>\n      <th>46</th>\n      <td>Vermont</td>\n      <td>0.4471</td>\n    </tr>\n    <tr>\n      <th>47</th>\n      <td>Virginia</td>\n      <td>0.469</td>\n    </tr>\n    <tr>\n      <th>48</th>\n      <td>Washington</td>\n      <td>0.4577</td>\n    </tr>\n    <tr>\n      <th>49</th>\n      <td>West Virginia</td>\n      <td>0.4644</td>\n    </tr>\n    <tr>\n      <th>50</th>\n      <td>Wisconsin</td>\n      <td>0.4391</td>\n    </tr>\n    <tr>\n      <th>51</th>\n      <td>Wyoming</td>\n      <td>0.4345</td>\n    </tr>\n    <tr>\n      <th>52</th>\n      <td>Puerto Rico</td>\n      <td>0.5509</td>\n    </tr>\n  </tbody>\n</table>\n</div>"
     },
     "execution_count": 1,
     "metadata": {},
     "output_type": "execute_result"
    }
   ],
   "source": [
    "import pandas as pd\n",
    "\n",
    "# read the gini index file and get the transpose\n",
    "gini = pd.read_csv('csv_data/us_gini.csv').T.reset_index()\n",
    "\n",
    "# replace the heading with a new one\n",
    "new_header = gini.iloc[0]\n",
    "gini = gini[1:]\n",
    "gini.columns = new_header\n",
    "gini = gini.reset_index(drop=True)\n",
    "\n",
    "# rename columns and adjust states column\n",
    "gini = gini.rename(columns={\"Label (Grouping)\": \"state\", \"Gini Index\": \"gini_index_2019\"})\n",
    "gini['state'] = gini['state'].str[0:-10]\n",
    "\n",
    "# see how the file is read\n",
    "gini"
   ]
  },
  {
   "cell_type": "code",
   "execution_count": 2,
   "outputs": [
    {
     "data": {
      "text/plain": "                   state postal_code gini_index_2019\n0                Alabama          AL          0.4741\n1                 Alaska          AK          0.4376\n2                Arizona          AZ          0.4591\n3               Arkansas          AR           0.475\n4             California          CA          0.4866\n5               Colorado          CO          0.4548\n6            Connecticut          CT          0.5024\n7               Delaware          DE          0.4509\n8   District of Columbia          DC          0.5115\n9                Florida          FL          0.4808\n10               Georgia          GA          0.4795\n11                Hawaii          HI          0.4397\n12                 Idaho          ID          0.4337\n13              Illinois          IL            0.48\n14               Indiana          IN          0.4584\n15                  Iowa          IA          0.4422\n16                Kansas          KS            0.45\n17              Kentucky          KY          0.4764\n18             Louisiana          LA          0.4978\n19                 Maine          ME           0.449\n20              Maryland          MD          0.4558\n21         Massachusetts          MA          0.4803\n22              Michigan          MI          0.4634\n23             Minnesota          MN          0.4434\n24           Mississippi          MS          0.4896\n25              Missouri          MO          0.4633\n26               Montana          MT          0.4597\n27              Nebraska          NE            0.44\n28                Nevada          NV           0.471\n29         New Hampshire          NH          0.4406\n30            New Jersey          NJ          0.4782\n31            New Mexico          NM          0.4768\n32              New York          NY          0.5149\n33        North Carolina          NC          0.4743\n34          North Dakota          ND          0.4558\n35                  Ohio          OH          0.4651\n36              Oklahoma          OK          0.4739\n37                Oregon          OR            0.45\n38          Pennsylvania          PA          0.4745\n39          Rhode Island          RI          0.4628\n40        South Carolina          SC          0.4747\n41          South Dakota          SD           0.436\n42             Tennessee          TN          0.4749\n43                 Texas          TX          0.4753\n44                  Utah          UT          0.4268\n45               Vermont          VT          0.4471\n46              Virginia          VA           0.469\n47            Washington          WA          0.4577\n48         West Virginia          WV          0.4644\n49             Wisconsin          WI          0.4391\n50               Wyoming          WY          0.4345\n51           Puerto Rico          PR          0.5509",
      "text/html": "<div>\n<style scoped>\n    .dataframe tbody tr th:only-of-type {\n        vertical-align: middle;\n    }\n\n    .dataframe tbody tr th {\n        vertical-align: top;\n    }\n\n    .dataframe thead th {\n        text-align: right;\n    }\n</style>\n<table border=\"1\" class=\"dataframe\">\n  <thead>\n    <tr style=\"text-align: right;\">\n      <th></th>\n      <th>state</th>\n      <th>postal_code</th>\n      <th>gini_index_2019</th>\n    </tr>\n  </thead>\n  <tbody>\n    <tr>\n      <th>0</th>\n      <td>Alabama</td>\n      <td>AL</td>\n      <td>0.4741</td>\n    </tr>\n    <tr>\n      <th>1</th>\n      <td>Alaska</td>\n      <td>AK</td>\n      <td>0.4376</td>\n    </tr>\n    <tr>\n      <th>2</th>\n      <td>Arizona</td>\n      <td>AZ</td>\n      <td>0.4591</td>\n    </tr>\n    <tr>\n      <th>3</th>\n      <td>Arkansas</td>\n      <td>AR</td>\n      <td>0.475</td>\n    </tr>\n    <tr>\n      <th>4</th>\n      <td>California</td>\n      <td>CA</td>\n      <td>0.4866</td>\n    </tr>\n    <tr>\n      <th>5</th>\n      <td>Colorado</td>\n      <td>CO</td>\n      <td>0.4548</td>\n    </tr>\n    <tr>\n      <th>6</th>\n      <td>Connecticut</td>\n      <td>CT</td>\n      <td>0.5024</td>\n    </tr>\n    <tr>\n      <th>7</th>\n      <td>Delaware</td>\n      <td>DE</td>\n      <td>0.4509</td>\n    </tr>\n    <tr>\n      <th>8</th>\n      <td>District of Columbia</td>\n      <td>DC</td>\n      <td>0.5115</td>\n    </tr>\n    <tr>\n      <th>9</th>\n      <td>Florida</td>\n      <td>FL</td>\n      <td>0.4808</td>\n    </tr>\n    <tr>\n      <th>10</th>\n      <td>Georgia</td>\n      <td>GA</td>\n      <td>0.4795</td>\n    </tr>\n    <tr>\n      <th>11</th>\n      <td>Hawaii</td>\n      <td>HI</td>\n      <td>0.4397</td>\n    </tr>\n    <tr>\n      <th>12</th>\n      <td>Idaho</td>\n      <td>ID</td>\n      <td>0.4337</td>\n    </tr>\n    <tr>\n      <th>13</th>\n      <td>Illinois</td>\n      <td>IL</td>\n      <td>0.48</td>\n    </tr>\n    <tr>\n      <th>14</th>\n      <td>Indiana</td>\n      <td>IN</td>\n      <td>0.4584</td>\n    </tr>\n    <tr>\n      <th>15</th>\n      <td>Iowa</td>\n      <td>IA</td>\n      <td>0.4422</td>\n    </tr>\n    <tr>\n      <th>16</th>\n      <td>Kansas</td>\n      <td>KS</td>\n      <td>0.45</td>\n    </tr>\n    <tr>\n      <th>17</th>\n      <td>Kentucky</td>\n      <td>KY</td>\n      <td>0.4764</td>\n    </tr>\n    <tr>\n      <th>18</th>\n      <td>Louisiana</td>\n      <td>LA</td>\n      <td>0.4978</td>\n    </tr>\n    <tr>\n      <th>19</th>\n      <td>Maine</td>\n      <td>ME</td>\n      <td>0.449</td>\n    </tr>\n    <tr>\n      <th>20</th>\n      <td>Maryland</td>\n      <td>MD</td>\n      <td>0.4558</td>\n    </tr>\n    <tr>\n      <th>21</th>\n      <td>Massachusetts</td>\n      <td>MA</td>\n      <td>0.4803</td>\n    </tr>\n    <tr>\n      <th>22</th>\n      <td>Michigan</td>\n      <td>MI</td>\n      <td>0.4634</td>\n    </tr>\n    <tr>\n      <th>23</th>\n      <td>Minnesota</td>\n      <td>MN</td>\n      <td>0.4434</td>\n    </tr>\n    <tr>\n      <th>24</th>\n      <td>Mississippi</td>\n      <td>MS</td>\n      <td>0.4896</td>\n    </tr>\n    <tr>\n      <th>25</th>\n      <td>Missouri</td>\n      <td>MO</td>\n      <td>0.4633</td>\n    </tr>\n    <tr>\n      <th>26</th>\n      <td>Montana</td>\n      <td>MT</td>\n      <td>0.4597</td>\n    </tr>\n    <tr>\n      <th>27</th>\n      <td>Nebraska</td>\n      <td>NE</td>\n      <td>0.44</td>\n    </tr>\n    <tr>\n      <th>28</th>\n      <td>Nevada</td>\n      <td>NV</td>\n      <td>0.471</td>\n    </tr>\n    <tr>\n      <th>29</th>\n      <td>New Hampshire</td>\n      <td>NH</td>\n      <td>0.4406</td>\n    </tr>\n    <tr>\n      <th>30</th>\n      <td>New Jersey</td>\n      <td>NJ</td>\n      <td>0.4782</td>\n    </tr>\n    <tr>\n      <th>31</th>\n      <td>New Mexico</td>\n      <td>NM</td>\n      <td>0.4768</td>\n    </tr>\n    <tr>\n      <th>32</th>\n      <td>New York</td>\n      <td>NY</td>\n      <td>0.5149</td>\n    </tr>\n    <tr>\n      <th>33</th>\n      <td>North Carolina</td>\n      <td>NC</td>\n      <td>0.4743</td>\n    </tr>\n    <tr>\n      <th>34</th>\n      <td>North Dakota</td>\n      <td>ND</td>\n      <td>0.4558</td>\n    </tr>\n    <tr>\n      <th>35</th>\n      <td>Ohio</td>\n      <td>OH</td>\n      <td>0.4651</td>\n    </tr>\n    <tr>\n      <th>36</th>\n      <td>Oklahoma</td>\n      <td>OK</td>\n      <td>0.4739</td>\n    </tr>\n    <tr>\n      <th>37</th>\n      <td>Oregon</td>\n      <td>OR</td>\n      <td>0.45</td>\n    </tr>\n    <tr>\n      <th>38</th>\n      <td>Pennsylvania</td>\n      <td>PA</td>\n      <td>0.4745</td>\n    </tr>\n    <tr>\n      <th>39</th>\n      <td>Rhode Island</td>\n      <td>RI</td>\n      <td>0.4628</td>\n    </tr>\n    <tr>\n      <th>40</th>\n      <td>South Carolina</td>\n      <td>SC</td>\n      <td>0.4747</td>\n    </tr>\n    <tr>\n      <th>41</th>\n      <td>South Dakota</td>\n      <td>SD</td>\n      <td>0.436</td>\n    </tr>\n    <tr>\n      <th>42</th>\n      <td>Tennessee</td>\n      <td>TN</td>\n      <td>0.4749</td>\n    </tr>\n    <tr>\n      <th>43</th>\n      <td>Texas</td>\n      <td>TX</td>\n      <td>0.4753</td>\n    </tr>\n    <tr>\n      <th>44</th>\n      <td>Utah</td>\n      <td>UT</td>\n      <td>0.4268</td>\n    </tr>\n    <tr>\n      <th>45</th>\n      <td>Vermont</td>\n      <td>VT</td>\n      <td>0.4471</td>\n    </tr>\n    <tr>\n      <th>46</th>\n      <td>Virginia</td>\n      <td>VA</td>\n      <td>0.469</td>\n    </tr>\n    <tr>\n      <th>47</th>\n      <td>Washington</td>\n      <td>WA</td>\n      <td>0.4577</td>\n    </tr>\n    <tr>\n      <th>48</th>\n      <td>West Virginia</td>\n      <td>WV</td>\n      <td>0.4644</td>\n    </tr>\n    <tr>\n      <th>49</th>\n      <td>Wisconsin</td>\n      <td>WI</td>\n      <td>0.4391</td>\n    </tr>\n    <tr>\n      <th>50</th>\n      <td>Wyoming</td>\n      <td>WY</td>\n      <td>0.4345</td>\n    </tr>\n    <tr>\n      <th>51</th>\n      <td>Puerto Rico</td>\n      <td>PR</td>\n      <td>0.5509</td>\n    </tr>\n  </tbody>\n</table>\n</div>"
     },
     "execution_count": 2,
     "metadata": {},
     "output_type": "execute_result"
    }
   ],
   "source": [
    "# read file with postal codes\n",
    "postal_codes = pd.read_csv('csv_data/postal.csv', sep='\\t')\n",
    "postal_codes = postal_codes.rename(columns={\" state\": \"state\", \"postal\": \"postal_code\"})\n",
    "\n",
    "# remove the padding\n",
    "postal_codes['state'] = postal_codes['state'].str[1:]\n",
    "\n",
    "# merge the dataframes and select relevant columns\n",
    "states_data = gini.merge(postal_codes, on='state')\n",
    "states_data = states_data[['state', 'postal_code', 'gini_index_2019']]\n",
    "\n",
    "# see results\n",
    "states_data"
   ],
   "metadata": {
    "collapsed": false,
    "pycharm": {
     "name": "#%%\n"
    }
   }
  },
  {
   "cell_type": "code",
   "execution_count": 3,
   "outputs": [
    {
     "data": {
      "text/plain": "             state postal_code gini_index_2019  gdppc_2021\n0          Alabama          AL          0.4741       49027\n1           Alaska          AK          0.4376       75027\n2          Arizona          AZ          0.4591       56511\n3         Arkansas          AR           0.475       47770\n4       California          CA          0.4866       85546\n5         Colorado          CO          0.4548       72597\n6      Connecticut          CT          0.5024       82233\n7         Delaware          DE          0.4509       80446\n8          Florida          FL          0.4808       56301\n9          Georgia          GA          0.4795       63271\n10          Hawaii          HI          0.4397       62474\n11           Idaho          ID          0.4337       49616\n12        Illinois          IL            0.48       74052\n13         Indiana          IN          0.4584       61760\n14            Iowa          IA          0.4422       68849\n15          Kansas          KS            0.45       65530\n16        Kentucky          KY          0.4764       52002\n17       Louisiana          LA          0.4978       55213\n18           Maine          ME           0.449       55425\n19        Maryland          MD          0.4558       71083\n20   Massachusetts          MA          0.4803       91129\n21        Michigan          MI          0.4634       56554\n22       Minnesota          MN          0.4434       72187\n23     Mississippi          MS          0.4896       42411\n24        Missouri          MO          0.4633       58356\n25         Montana          MT          0.4597       53703\n26        Nebraska          NE            0.44       76584\n27          Nevada          NV           0.471       61375\n28   New Hampshire          NH          0.4406       70729\n29      New Jersey          NJ          0.4782       72524\n30      New Mexico          NM          0.4768       51481\n31        New York          NY          0.5149       93463\n32  North Carolina          NC          0.4743       62077\n33    North Dakota          ND          0.4558       81795\n34            Ohio          OH          0.4651       62517\n35        Oklahoma          OK          0.4739       51861\n36          Oregon          OR            0.45       62867\n37    Pennsylvania          PA          0.4745       64751\n38    Rhode Island          RI          0.4628       60185\n39  South Carolina          SC          0.4747       52031\n40    South Dakota          SD           0.436       68357\n41       Tennessee          TN          0.4749       59969\n42           Texas          TX          0.4753       67235\n43            Utah          UT          0.4268       66011\n44         Vermont          VT          0.4471       56028\n45        Virginia          VA           0.469       68483\n46      Washington          WA          0.4577       86265\n47      Washington          WA          0.4577      226861\n48   West Virginia          WV          0.4644       49017\n49       Wisconsin          WI          0.4391       62065\n50         Wyoming          WY          0.4345       71911",
      "text/html": "<div>\n<style scoped>\n    .dataframe tbody tr th:only-of-type {\n        vertical-align: middle;\n    }\n\n    .dataframe tbody tr th {\n        vertical-align: top;\n    }\n\n    .dataframe thead th {\n        text-align: right;\n    }\n</style>\n<table border=\"1\" class=\"dataframe\">\n  <thead>\n    <tr style=\"text-align: right;\">\n      <th></th>\n      <th>state</th>\n      <th>postal_code</th>\n      <th>gini_index_2019</th>\n      <th>gdppc_2021</th>\n    </tr>\n  </thead>\n  <tbody>\n    <tr>\n      <th>0</th>\n      <td>Alabama</td>\n      <td>AL</td>\n      <td>0.4741</td>\n      <td>49027</td>\n    </tr>\n    <tr>\n      <th>1</th>\n      <td>Alaska</td>\n      <td>AK</td>\n      <td>0.4376</td>\n      <td>75027</td>\n    </tr>\n    <tr>\n      <th>2</th>\n      <td>Arizona</td>\n      <td>AZ</td>\n      <td>0.4591</td>\n      <td>56511</td>\n    </tr>\n    <tr>\n      <th>3</th>\n      <td>Arkansas</td>\n      <td>AR</td>\n      <td>0.475</td>\n      <td>47770</td>\n    </tr>\n    <tr>\n      <th>4</th>\n      <td>California</td>\n      <td>CA</td>\n      <td>0.4866</td>\n      <td>85546</td>\n    </tr>\n    <tr>\n      <th>5</th>\n      <td>Colorado</td>\n      <td>CO</td>\n      <td>0.4548</td>\n      <td>72597</td>\n    </tr>\n    <tr>\n      <th>6</th>\n      <td>Connecticut</td>\n      <td>CT</td>\n      <td>0.5024</td>\n      <td>82233</td>\n    </tr>\n    <tr>\n      <th>7</th>\n      <td>Delaware</td>\n      <td>DE</td>\n      <td>0.4509</td>\n      <td>80446</td>\n    </tr>\n    <tr>\n      <th>8</th>\n      <td>Florida</td>\n      <td>FL</td>\n      <td>0.4808</td>\n      <td>56301</td>\n    </tr>\n    <tr>\n      <th>9</th>\n      <td>Georgia</td>\n      <td>GA</td>\n      <td>0.4795</td>\n      <td>63271</td>\n    </tr>\n    <tr>\n      <th>10</th>\n      <td>Hawaii</td>\n      <td>HI</td>\n      <td>0.4397</td>\n      <td>62474</td>\n    </tr>\n    <tr>\n      <th>11</th>\n      <td>Idaho</td>\n      <td>ID</td>\n      <td>0.4337</td>\n      <td>49616</td>\n    </tr>\n    <tr>\n      <th>12</th>\n      <td>Illinois</td>\n      <td>IL</td>\n      <td>0.48</td>\n      <td>74052</td>\n    </tr>\n    <tr>\n      <th>13</th>\n      <td>Indiana</td>\n      <td>IN</td>\n      <td>0.4584</td>\n      <td>61760</td>\n    </tr>\n    <tr>\n      <th>14</th>\n      <td>Iowa</td>\n      <td>IA</td>\n      <td>0.4422</td>\n      <td>68849</td>\n    </tr>\n    <tr>\n      <th>15</th>\n      <td>Kansas</td>\n      <td>KS</td>\n      <td>0.45</td>\n      <td>65530</td>\n    </tr>\n    <tr>\n      <th>16</th>\n      <td>Kentucky</td>\n      <td>KY</td>\n      <td>0.4764</td>\n      <td>52002</td>\n    </tr>\n    <tr>\n      <th>17</th>\n      <td>Louisiana</td>\n      <td>LA</td>\n      <td>0.4978</td>\n      <td>55213</td>\n    </tr>\n    <tr>\n      <th>18</th>\n      <td>Maine</td>\n      <td>ME</td>\n      <td>0.449</td>\n      <td>55425</td>\n    </tr>\n    <tr>\n      <th>19</th>\n      <td>Maryland</td>\n      <td>MD</td>\n      <td>0.4558</td>\n      <td>71083</td>\n    </tr>\n    <tr>\n      <th>20</th>\n      <td>Massachusetts</td>\n      <td>MA</td>\n      <td>0.4803</td>\n      <td>91129</td>\n    </tr>\n    <tr>\n      <th>21</th>\n      <td>Michigan</td>\n      <td>MI</td>\n      <td>0.4634</td>\n      <td>56554</td>\n    </tr>\n    <tr>\n      <th>22</th>\n      <td>Minnesota</td>\n      <td>MN</td>\n      <td>0.4434</td>\n      <td>72187</td>\n    </tr>\n    <tr>\n      <th>23</th>\n      <td>Mississippi</td>\n      <td>MS</td>\n      <td>0.4896</td>\n      <td>42411</td>\n    </tr>\n    <tr>\n      <th>24</th>\n      <td>Missouri</td>\n      <td>MO</td>\n      <td>0.4633</td>\n      <td>58356</td>\n    </tr>\n    <tr>\n      <th>25</th>\n      <td>Montana</td>\n      <td>MT</td>\n      <td>0.4597</td>\n      <td>53703</td>\n    </tr>\n    <tr>\n      <th>26</th>\n      <td>Nebraska</td>\n      <td>NE</td>\n      <td>0.44</td>\n      <td>76584</td>\n    </tr>\n    <tr>\n      <th>27</th>\n      <td>Nevada</td>\n      <td>NV</td>\n      <td>0.471</td>\n      <td>61375</td>\n    </tr>\n    <tr>\n      <th>28</th>\n      <td>New Hampshire</td>\n      <td>NH</td>\n      <td>0.4406</td>\n      <td>70729</td>\n    </tr>\n    <tr>\n      <th>29</th>\n      <td>New Jersey</td>\n      <td>NJ</td>\n      <td>0.4782</td>\n      <td>72524</td>\n    </tr>\n    <tr>\n      <th>30</th>\n      <td>New Mexico</td>\n      <td>NM</td>\n      <td>0.4768</td>\n      <td>51481</td>\n    </tr>\n    <tr>\n      <th>31</th>\n      <td>New York</td>\n      <td>NY</td>\n      <td>0.5149</td>\n      <td>93463</td>\n    </tr>\n    <tr>\n      <th>32</th>\n      <td>North Carolina</td>\n      <td>NC</td>\n      <td>0.4743</td>\n      <td>62077</td>\n    </tr>\n    <tr>\n      <th>33</th>\n      <td>North Dakota</td>\n      <td>ND</td>\n      <td>0.4558</td>\n      <td>81795</td>\n    </tr>\n    <tr>\n      <th>34</th>\n      <td>Ohio</td>\n      <td>OH</td>\n      <td>0.4651</td>\n      <td>62517</td>\n    </tr>\n    <tr>\n      <th>35</th>\n      <td>Oklahoma</td>\n      <td>OK</td>\n      <td>0.4739</td>\n      <td>51861</td>\n    </tr>\n    <tr>\n      <th>36</th>\n      <td>Oregon</td>\n      <td>OR</td>\n      <td>0.45</td>\n      <td>62867</td>\n    </tr>\n    <tr>\n      <th>37</th>\n      <td>Pennsylvania</td>\n      <td>PA</td>\n      <td>0.4745</td>\n      <td>64751</td>\n    </tr>\n    <tr>\n      <th>38</th>\n      <td>Rhode Island</td>\n      <td>RI</td>\n      <td>0.4628</td>\n      <td>60185</td>\n    </tr>\n    <tr>\n      <th>39</th>\n      <td>South Carolina</td>\n      <td>SC</td>\n      <td>0.4747</td>\n      <td>52031</td>\n    </tr>\n    <tr>\n      <th>40</th>\n      <td>South Dakota</td>\n      <td>SD</td>\n      <td>0.436</td>\n      <td>68357</td>\n    </tr>\n    <tr>\n      <th>41</th>\n      <td>Tennessee</td>\n      <td>TN</td>\n      <td>0.4749</td>\n      <td>59969</td>\n    </tr>\n    <tr>\n      <th>42</th>\n      <td>Texas</td>\n      <td>TX</td>\n      <td>0.4753</td>\n      <td>67235</td>\n    </tr>\n    <tr>\n      <th>43</th>\n      <td>Utah</td>\n      <td>UT</td>\n      <td>0.4268</td>\n      <td>66011</td>\n    </tr>\n    <tr>\n      <th>44</th>\n      <td>Vermont</td>\n      <td>VT</td>\n      <td>0.4471</td>\n      <td>56028</td>\n    </tr>\n    <tr>\n      <th>45</th>\n      <td>Virginia</td>\n      <td>VA</td>\n      <td>0.469</td>\n      <td>68483</td>\n    </tr>\n    <tr>\n      <th>46</th>\n      <td>Washington</td>\n      <td>WA</td>\n      <td>0.4577</td>\n      <td>86265</td>\n    </tr>\n    <tr>\n      <th>47</th>\n      <td>Washington</td>\n      <td>WA</td>\n      <td>0.4577</td>\n      <td>226861</td>\n    </tr>\n    <tr>\n      <th>48</th>\n      <td>West Virginia</td>\n      <td>WV</td>\n      <td>0.4644</td>\n      <td>49017</td>\n    </tr>\n    <tr>\n      <th>49</th>\n      <td>Wisconsin</td>\n      <td>WI</td>\n      <td>0.4391</td>\n      <td>62065</td>\n    </tr>\n    <tr>\n      <th>50</th>\n      <td>Wyoming</td>\n      <td>WY</td>\n      <td>0.4345</td>\n      <td>71911</td>\n    </tr>\n  </tbody>\n</table>\n</div>"
     },
     "execution_count": 3,
     "metadata": {},
     "output_type": "execute_result"
    }
   ],
   "source": [
    "# get data for gdppc\n",
    "gdppc = pd.read_csv('csv_data/states_gdp.csv', sep=\"\\t\")\n",
    "\n",
    "# adjust the columns to the ones we are interested\n",
    "gdppc['GDPPC'] = (gdppc['GDPPC'].str[1:-4] + gdppc['GDPPC'].str[-3:-1] + gdppc['GDPPC'].str[-1]).astype(int)\n",
    "gdppc.reset_index()\n",
    "gdppc = gdppc.rename(columns={\" A\": \"state\", \"GDPPC\": \"gdppc_2021\"})\n",
    "gdppc = gdppc[['state', 'gdppc_2021']]\n",
    "\n",
    "# remove the padding\n",
    "gdppc['state'] = gdppc['state'].str[1:]\n",
    "\n",
    "# merge the gdppc data into the states dataframe\n",
    "states_data = states_data.merge(gdppc, on='state')\n",
    "\n",
    "states_data"
   ],
   "metadata": {
    "collapsed": false,
    "pycharm": {
     "name": "#%%\n"
    }
   }
  },
  {
   "cell_type": "code",
   "execution_count": 4,
   "outputs": [],
   "source": [
    "# save the file\n",
    "states_data.to_csv('processed_data/states_data.csv', index=False)"
   ],
   "metadata": {
    "collapsed": false,
    "pycharm": {
     "name": "#%%\n"
    }
   }
  }
 ],
 "metadata": {
  "kernelspec": {
   "display_name": "Python 3",
   "language": "python",
   "name": "python3"
  },
  "language_info": {
   "codemirror_mode": {
    "name": "ipython",
    "version": 2
   },
   "file_extension": ".py",
   "mimetype": "text/x-python",
   "name": "python",
   "nbconvert_exporter": "python",
   "pygments_lexer": "ipython2",
   "version": "2.7.6"
  }
 },
 "nbformat": 4,
 "nbformat_minor": 0
}