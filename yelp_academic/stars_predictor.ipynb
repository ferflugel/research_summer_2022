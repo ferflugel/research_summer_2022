{
 "cells": [
  {
   "cell_type": "code",
   "execution_count": 1,
   "outputs": [],
   "source": [
    "import pandas as pd\n",
    "\n",
    "# import the data including all reviews from Indianapolis and sample 10% of it\n",
    "reviews = pd.read_csv('csv_data/indianapolis_reviews.csv')\n",
    "reviews = reviews.sample(frac=0.1, random_state=0)"
   ],
   "metadata": {
    "collapsed": false,
    "pycharm": {
     "name": "#%%\n"
    }
   }
  },
  {
   "cell_type": "code",
   "execution_count": 2,
   "outputs": [],
   "source": [
    "from spacy.lang.en import English\n",
    "from spacy.lang.en.stop_words import STOP_WORDS\n",
    "import unidecode\n",
    "\n",
    "# strip accents and use lowercase for all the text\n",
    "reviews['text'] = [unidecode.unidecode(review_text).lower() for review_text in reviews['text']]\n",
    "\n",
    "# tokenize the reviews using spaCy\n",
    "spacy_tokenizer = English()\n",
    "reviews['spacy_token'] = [[token.text for token in spacy_tokenizer(review_text)] for review_text in reviews['text']]\n",
    "\n",
    "# remove stop words\n",
    "reviews['spacy_token'] = [list(filter(lambda word: word not in STOP_WORDS, list_of_tokens)) for list_of_tokens in reviews['spacy_token']]\n",
    "\n",
    "# check the results from pre-processing\n",
    "reviews[['text', 'spacy_token']].head()\n",
    "\n",
    "# create a list with inputs in the ideal format for BoW and TF-IDF\n",
    "pre_processed_inputs = [' '.join(review) for review in reviews['spacy_token'].tolist()]"
   ],
   "metadata": {
    "collapsed": false,
    "pycharm": {
     "name": "#%%\n"
    }
   }
  },
  {
   "cell_type": "code",
   "execution_count": 3,
   "outputs": [],
   "source": [
    "from sklearn.feature_extraction.text import CountVectorizer\n",
    "\n",
    "# create the BoW representation for the set\n",
    "count_vec = CountVectorizer(max_features=1024, ngram_range=(1,2))\n",
    "bow_representation = count_vec.fit_transform(pre_processed_inputs)\n",
    "\n",
    "# create the array with BoW and normalize it\n",
    "bow_array = bow_representation.toarray()\n",
    "bow_normalized = [vector/sum(vector) if sum(vector) != 0 else vector for vector in bow_array]"
   ],
   "metadata": {
    "collapsed": false,
    "pycharm": {
     "name": "#%%\n"
    }
   }
  },
  {
   "cell_type": "code",
   "execution_count": 4,
   "outputs": [],
   "source": [
    "from sklearn.feature_extraction.text import TfidfVectorizer\n",
    "\n",
    "# create the TF-IDF representation for the set\n",
    "tfidf_vec = TfidfVectorizer(max_features=1024, ngram_range=(1,2))\n",
    "tfidf_representation = tfidf_vec.fit_transform(pre_processed_inputs)\n",
    "\n",
    "# create the array with TF-IDF and normalize it\n",
    "tfidf_array = tfidf_representation.toarray()\n",
    "tfidf_normalized = [vector/sum(vector) if sum(vector) != 0 else vector for vector in tfidf_array]"
   ],
   "metadata": {
    "collapsed": false,
    "pycharm": {
     "name": "#%%\n"
    }
   }
  },
  {
   "cell_type": "code",
   "execution_count": 5,
   "outputs": [
    {
     "name": "stdout",
     "output_type": "stream",
     "text": [
      "1.0\n",
      "1.0\n"
     ]
    }
   ],
   "source": [
    "import numpy as np\n",
    "\n",
    "# get our outputs in an array format\n",
    "bow_normalized = np.array(bow_normalized)\n",
    "tfidf_normalized = np.array(tfidf_normalized)\n",
    "\n",
    "# check if the normalized arrays were done properly\n",
    "print(bow_normalized[0].sum())\n",
    "print(tfidf_normalized[0].sum())"
   ],
   "metadata": {
    "collapsed": false,
    "pycharm": {
     "name": "#%%\n"
    }
   }
  },
  {
   "cell_type": "code",
   "execution_count": 6,
   "outputs": [],
   "source": [
    "import keras.models as models\n",
    "\n",
    "# reconstruct the autoencoder from a saved file\n",
    "autoencoder = models.load_model(\"autoencoder_v1\")\n",
    "\n",
    "# use the (full) autoencoder to predict the bow just to test it\n",
    "bow_autoencoder = autoencoder.predict(bow_normalized)"
   ],
   "metadata": {
    "collapsed": false,
    "pycharm": {
     "name": "#%%\n"
    }
   }
  },
  {
   "cell_type": "code",
   "execution_count": 7,
   "outputs": [
    {
     "name": "stdout",
     "output_type": "stream",
     "text": [
      "(36149, 16)\n",
      "(36149, 16)\n"
     ]
    }
   ],
   "source": [
    "# create a model that only encodes the vectors\n",
    "encoder = models.Model(inputs=autoencoder.input, outputs=autoencoder.get_layer('dense_2').output)\n",
    "\n",
    "# create a compressed representation for the vectors and check new shape\n",
    "bow_encoded = encoder.predict(bow_normalized)\n",
    "print(bow_encoded.shape)\n",
    "\n",
    "# create a compressed representation for the vectors and check new shape\n",
    "tfidf_encoded = encoder.predict(tfidf_normalized)\n",
    "print(tfidf_encoded.shape)"
   ],
   "metadata": {
    "collapsed": false,
    "pycharm": {
     "name": "#%%\n"
    }
   }
  },
  {
   "cell_type": "code",
   "execution_count": 8,
   "outputs": [
    {
     "data": {
      "text/plain": "<Figure size 432x288 with 1 Axes>",
      "image/png": "[encoded data removed]"
     },
     "metadata": {
      "needs_background": "light"
     },
     "output_type": "display_data"
    }
   ],
   "source": [
    "import matplotlib.pyplot as plt\n",
    "import seaborn as sns\n",
    "\n",
    "# let's visualize the distribution of stars to check how skewed is the data\n",
    "stars = np.array(reviews['stars'].tolist())\n",
    "sns.countplot(x=stars)\n",
    "plt.savefig('figures/indianapolis_stars_distribution.png', dpi=80)\n",
    "plt.show()"
   ],
   "metadata": {
    "collapsed": false,
    "pycharm": {
     "name": "#%%\n"
    }
   }
  },
  {
   "cell_type": "code",
   "execution_count": 9,
   "outputs": [
    {
     "name": "stdout",
     "output_type": "stream",
     "text": [
      "kNN score: 0.19078472185084538\n"
     ]
    }
   ],
   "source": [
    "from sklearn.model_selection import train_test_split\n",
    "from sklearn.neighbors import KNeighborsRegressor\n",
    "\n",
    "# using kNN with encoded BoW\n",
    "X_train, X_test, y_train, y_test = train_test_split(bow_encoded, stars, test_size = 0.25, random_state=0)\n",
    "knn = KNeighborsRegressor(n_neighbors=20).fit(X_train, y_train)\n",
    "print(\"kNN score:\", knn.score(X_test, y_test))"
   ],
   "metadata": {
    "collapsed": false,
    "pycharm": {
     "name": "#%%\n"
    }
   }
  },
  {
   "cell_type": "code",
   "execution_count": 10,
   "outputs": [
    {
     "name": "stdout",
     "output_type": "stream",
     "text": [
      "Decision tree score: 0.09147054442048341\n"
     ]
    }
   ],
   "source": [
    "from sklearn.tree import DecisionTreeRegressor\n",
    "\n",
    "# using decision trees with encoded BoW\n",
    "tree = DecisionTreeRegressor(max_depth=4).fit(X_train, y_train)\n",
    "print(\"Decision tree score:\", tree.score(X_test, y_test))"
   ],
   "metadata": {
    "collapsed": false,
    "pycharm": {
     "name": "#%%\n"
    }
   }
  },
  {
   "cell_type": "code",
   "execution_count": 11,
   "outputs": [
    {
     "name": "stdout",
     "output_type": "stream",
     "text": [
      "SVM score: 0.07961893175320423\n"
     ]
    }
   ],
   "source": [
    "from sklearn.svm import SVR\n",
    "\n",
    "# using SVMs with encoded BoW\n",
    "svm = SVR().fit(X_train, y_train)\n",
    "print(\"SVM score:\", svm.score(X_test, y_test))"
   ],
   "metadata": {
    "collapsed": false,
    "pycharm": {
     "name": "#%%\n"
    }
   }
  },
  {
   "cell_type": "code",
   "execution_count": 12,
   "outputs": [
    {
     "name": "stdout",
     "output_type": "stream",
     "text": [
      "kNN score: 0.1781027770585435\n",
      "Decision tree score: 0.0741250949177934\n",
      "SVM score: 0.06185712647328667\n"
     ]
    }
   ],
   "source": [
    "# repeat the three methods for the encoded TF-IDF\n",
    "X_train, X_test, y_train, y_test = train_test_split(tfidf_encoded, stars, test_size = 0.25, random_state=0)\n",
    "\n",
    "# using kNN with encoded TF-IDF\n",
    "knn = KNeighborsRegressor(n_neighbors=20).fit(X_train, y_train)\n",
    "print(\"kNN score:\", knn.score(X_test, y_test))\n",
    "\n",
    "# using decision trees with encoded TF-IDF\n",
    "tree = DecisionTreeRegressor(max_depth=4).fit(X_train, y_train)\n",
    "print(\"Decision tree score:\", tree.score(X_test, y_test))\n",
    "\n",
    "# using SVMs with encoded TF-IDF\n",
    "svm = SVR().fit(X_train, y_train)\n",
    "print(\"SVM score:\", svm.score(X_test, y_test))"
   ],
   "metadata": {
    "collapsed": false,
    "pycharm": {
     "name": "#%%\n"
    }
   }
  },
  {
   "cell_type": "code",
   "execution_count": 13,
   "outputs": [
    {
     "name": "stdout",
     "output_type": "stream",
     "text": [
      "kNN score: 0.28939424699761485\n",
      "Decision tree score: 0.24149397125623573\n",
      "SVM score: 0.5926317584127819\n"
     ]
    }
   ],
   "source": [
    "# repeat the three methods for the raw BoW\n",
    "X_train, X_test, y_train, y_test = train_test_split(bow_normalized, stars, test_size = 0.25, random_state=0)\n",
    "\n",
    "# using kNN with BoW\n",
    "knn = KNeighborsRegressor(n_neighbors=20).fit(X_train, y_train)\n",
    "print(\"kNN score:\", knn.score(X_test, y_test))\n",
    "\n",
    "# using decision trees with BoW\n",
    "tree = DecisionTreeRegressor(max_depth=6).fit(X_train, y_train)\n",
    "print(\"Decision tree score:\", tree.score(X_test, y_test))\n",
    "\n",
    "# using SVMs with BoW\n",
    "svm = SVR().fit(X_train, y_train)\n",
    "print(\"SVM score:\", svm.score(X_test, y_test))"
   ],
   "metadata": {
    "collapsed": false,
    "pycharm": {
     "name": "#%%\n"
    }
   }
  },
  {
   "cell_type": "code",
   "execution_count": 14,
   "outputs": [
    {
     "name": "stdout",
     "output_type": "stream",
     "text": [
      "kNN score: 0.2420471286574628\n",
      "Decision tree score: 0.24647341132179768\n",
      "SVM score: 0.5795819940069806\n"
     ]
    }
   ],
   "source": [
    "# repeat the three methods for the raw TF-IDF\n",
    "X_train, X_test, y_train, y_test = train_test_split(tfidf_normalized, stars, test_size = 0.25, random_state=0)\n",
    "\n",
    "# using kNN with TF-IDF\n",
    "knn = KNeighborsRegressor(n_neighbors=20).fit(X_train, y_train)\n",
    "print(\"kNN score:\", knn.score(X_test, y_test))\n",
    "\n",
    "# using decision trees with TF-IDF\n",
    "tree = DecisionTreeRegressor(max_depth=6).fit(X_train, y_train)\n",
    "print(\"Decision tree score:\", tree.score(X_test, y_test))\n",
    "\n",
    "# using SVMs with TF-IDF\n",
    "svm = SVR().fit(X_train, y_train)\n",
    "print(\"SVM score:\", svm.score(X_test, y_test))"
   ],
   "metadata": {
    "collapsed": false,
    "pycharm": {
     "name": "#%%\n"
    }
   }
  }
 ],
 "metadata": {
  "kernelspec": {
   "display_name": "Python 3",
   "language": "python",
   "name": "python3"
  },
  "language_info": {
   "codemirror_mode": {
    "name": "ipython",
    "version": 2
   },
   "file_extension": ".py",
   "mimetype": "text/x-python",
   "name": "python",
   "nbconvert_exporter": "python",
   "pygments_lexer": "ipython2",
   "version": "2.7.6"
  }
 },
 "nbformat": 4,
 "nbformat_minor": 0
}