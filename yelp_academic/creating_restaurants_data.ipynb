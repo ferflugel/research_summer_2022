{
 "cells": [
  {
   "cell_type": "code",
   "execution_count": 1,
   "metadata": {
    "collapsed": true,
    "pycharm": {
     "name": "#%%\n"
    }
   },
   "outputs": [
    {
     "data": {
      "text/plain": "                      review_id                 user_id  \\\n0        KU_O5udG6zpxOg-VcAEodg  mh_-eMZ6K5RLWhZyISBhwA   \n2        saUsX_uimxRlCVr67Z4Jig  8g_iMtfSiwikVnbP2etR0A   \n3        AqPFMleE6RsU23_auESxiA  _7bHUi9Uuf5__HHc_Q8guQ   \n4        Sx8TMOWLNuJBWer-0pcmoA  bcjbaE6dDog4jkNY91ncLQ   \n5        JrIxlS1TzJ-iCu79ul40cQ  eUta8W_HdHMXPzLBBZhL1A   \n...                         ...                     ...   \n6990271  cACxcUY_AIsQKkpDRXuqnw  MCzlzlOw7IGbRAKVjJBPtg   \n6990272  7NgXAuTFiJHYbuepOPwU0w  x1QLCwZGFAjxRRw4EHc3-g   \n6990276  YVX1Wsa4LYxjvFwuHBb_gA  RKPkxOYQlM0BjhM-H6_vAw   \n6990280  i-I4ZOhoX70Nw5H0FwrQUA  YwAMC-jvZ1fvEUum6QkEkw   \n6990281  RwcKOdEuLRHNJe4M9-qpqg  6JehEvdoCvZPJ_XIxnzIIw   \n\n                    business_id  stars  useful  funny  cool  \\\n0        XQfwVwDr-v0ZS3_CbbE5Xw    3.0     0.0    0.0   0.0   \n2        YjUWPpI6HXG530lwP-fb2A    3.0     0.0    0.0   0.0   \n3        kxX2SOes4o-D3ZQBkiMRfA    5.0     1.0    0.0   1.0   \n4        e4Vwtrqf-wpJfwesgvdgxQ    4.0     1.0    0.0   1.0   \n5        04UD14gamNjLY0IDYVhHJg    1.0     1.0    2.0   1.0   \n...                         ...    ...     ...    ...   ...   \n6990271  fcGexL5VH5G2Xw0tRj9uOQ    3.0     1.0    1.0   0.0   \n6990272  1_BVWDzi5cVqWxNe9bOMMQ    5.0     1.0    0.0   1.0   \n6990276  X4mouE_cMiwbfyCPZ_K-FA    4.0     3.0    0.0   2.0   \n6990280  Rr9kKArrMhSLVE9a53q-aA    5.0     1.0    0.0   0.0   \n6990281  VAeEXLbEcI9Emt9KGYq9aA    3.0    10.0    3.0   7.0   \n\n                                                      text  \\\n0        If you decide to eat here, just be aware it is...   \n2        Family diner. Had the buffet. Eclectic assortm...   \n3        Wow!  Yummy, different,  delicious.   Our favo...   \n4        Cute interior and owner (?) gave us tour of up...   \n5        I am a long term frequent customer of this est...   \n...                                                    ...   \n6990271  This is a good pizza option - they deliver thr...   \n6990272  Don't misinterpret my 5-star review....I don't...   \n6990276  Good, maybe very good.  I went for lunch, so t...   \n6990280  For when I'm feeling like ignoring my calorie-...   \n6990281  Located in the 'Walking District' in Nashville...   \n\n                        date  price_range state  \n0        2018-07-07 22:09:11            2    PA  \n2        2014-02-05 20:30:30            1    AZ  \n3        2015-01-04 00:01:03            2    PA  \n4        2017-01-14 20:54:15            2    LA  \n5        2015-09-23 23:10:31            2    PA  \n...                      ...          ...   ...  \n6990271  2018-03-13 13:54:48            2    PA  \n6990272  2016-04-30 01:02:34            1    MO  \n6990276  2015-01-23 23:52:03            2    NJ  \n6990280  2022-01-19 18:59:27            2    IN  \n6990281  2018-01-02 22:50:47            2    TN  \n\n[4548086 rows x 11 columns]",
      "text/html": "<div>\n<style scoped>\n    .dataframe tbody tr th:only-of-type {\n        vertical-align: middle;\n    }\n\n    .dataframe tbody tr th {\n        vertical-align: top;\n    }\n\n    .dataframe thead th {\n        text-align: right;\n    }\n</style>\n<table border=\"1\" class=\"dataframe\">\n  <thead>\n    <tr style=\"text-align: right;\">\n      <th></th>\n      <th>review_id</th>\n      <th>user_id</th>\n      <th>business_id</th>\n      <th>stars</th>\n      <th>useful</th>\n      <th>funny</th>\n      <th>cool</th>\n      <th>text</th>\n      <th>date</th>\n      <th>price_range</th>\n      <th>state</th>\n    </tr>\n  </thead>\n  <tbody>\n    <tr>\n      <th>0</th>\n      <td>KU_O5udG6zpxOg-VcAEodg</td>\n      <td>mh_-eMZ6K5RLWhZyISBhwA</td>\n      <td>XQfwVwDr-v0ZS3_CbbE5Xw</td>\n      <td>3.0</td>\n      <td>0.0</td>\n      <td>0.0</td>\n      <td>0.0</td>\n      <td>If you decide to eat here, just be aware it is...</td>\n      <td>2018-07-07 22:09:11</td>\n      <td>2</td>\n      <td>PA</td>\n    </tr>\n    <tr>\n      <th>2</th>\n      <td>saUsX_uimxRlCVr67Z4Jig</td>\n      <td>8g_iMtfSiwikVnbP2etR0A</td>\n      <td>YjUWPpI6HXG530lwP-fb2A</td>\n      <td>3.0</td>\n      <td>0.0</td>\n      <td>0.0</td>\n      <td>0.0</td>\n      <td>Family diner. Had the buffet. Eclectic assortm...</td>\n      <td>2014-02-05 20:30:30</td>\n      <td>1</td>\n      <td>AZ</td>\n    </tr>\n    <tr>\n      <th>3</th>\n      <td>AqPFMleE6RsU23_auESxiA</td>\n      <td>_7bHUi9Uuf5__HHc_Q8guQ</td>\n      <td>kxX2SOes4o-D3ZQBkiMRfA</td>\n      <td>5.0</td>\n      <td>1.0</td>\n      <td>0.0</td>\n      <td>1.0</td>\n      <td>Wow!  Yummy, different,  delicious.   Our favo...</td>\n      <td>2015-01-04 00:01:03</td>\n      <td>2</td>\n      <td>PA</td>\n    </tr>\n    <tr>\n      <th>4</th>\n      <td>Sx8TMOWLNuJBWer-0pcmoA</td>\n      <td>bcjbaE6dDog4jkNY91ncLQ</td>\n      <td>e4Vwtrqf-wpJfwesgvdgxQ</td>\n      <td>4.0</td>\n      <td>1.0</td>\n      <td>0.0</td>\n      <td>1.0</td>\n      <td>Cute interior and owner (?) gave us tour of up...</td>\n      <td>2017-01-14 20:54:15</td>\n      <td>2</td>\n      <td>LA</td>\n    </tr>\n    <tr>\n      <th>5</th>\n      <td>JrIxlS1TzJ-iCu79ul40cQ</td>\n      <td>eUta8W_HdHMXPzLBBZhL1A</td>\n      <td>04UD14gamNjLY0IDYVhHJg</td>\n      <td>1.0</td>\n      <td>1.0</td>\n      <td>2.0</td>\n      <td>1.0</td>\n      <td>I am a long term frequent customer of this est...</td>\n      <td>2015-09-23 23:10:31</td>\n      <td>2</td>\n      <td>PA</td>\n    </tr>\n    <tr>\n      <th>...</th>\n      <td>...</td>\n      <td>...</td>\n      <td>...</td>\n      <td>...</td>\n      <td>...</td>\n      <td>...</td>\n      <td>...</td>\n      <td>...</td>\n      <td>...</td>\n      <td>...</td>\n      <td>...</td>\n    </tr>\n    <tr>\n      <th>6990271</th>\n      <td>cACxcUY_AIsQKkpDRXuqnw</td>\n      <td>MCzlzlOw7IGbRAKVjJBPtg</td>\n      <td>fcGexL5VH5G2Xw0tRj9uOQ</td>\n      <td>3.0</td>\n      <td>1.0</td>\n      <td>1.0</td>\n      <td>0.0</td>\n      <td>This is a good pizza option - they deliver thr...</td>\n      <td>2018-03-13 13:54:48</td>\n      <td>2</td>\n      <td>PA</td>\n    </tr>\n    <tr>\n      <th>6990272</th>\n      <td>7NgXAuTFiJHYbuepOPwU0w</td>\n      <td>x1QLCwZGFAjxRRw4EHc3-g</td>\n      <td>1_BVWDzi5cVqWxNe9bOMMQ</td>\n      <td>5.0</td>\n      <td>1.0</td>\n      <td>0.0</td>\n      <td>1.0</td>\n      <td>Don't misinterpret my 5-star review....I don't...</td>\n      <td>2016-04-30 01:02:34</td>\n      <td>1</td>\n      <td>MO</td>\n    </tr>\n    <tr>\n      <th>6990276</th>\n      <td>YVX1Wsa4LYxjvFwuHBb_gA</td>\n      <td>RKPkxOYQlM0BjhM-H6_vAw</td>\n      <td>X4mouE_cMiwbfyCPZ_K-FA</td>\n      <td>4.0</td>\n      <td>3.0</td>\n      <td>0.0</td>\n      <td>2.0</td>\n      <td>Good, maybe very good.  I went for lunch, so t...</td>\n      <td>2015-01-23 23:52:03</td>\n      <td>2</td>\n      <td>NJ</td>\n    </tr>\n    <tr>\n      <th>6990280</th>\n      <td>i-I4ZOhoX70Nw5H0FwrQUA</td>\n      <td>YwAMC-jvZ1fvEUum6QkEkw</td>\n      <td>Rr9kKArrMhSLVE9a53q-aA</td>\n      <td>5.0</td>\n      <td>1.0</td>\n      <td>0.0</td>\n      <td>0.0</td>\n      <td>For when I'm feeling like ignoring my calorie-...</td>\n      <td>2022-01-19 18:59:27</td>\n      <td>2</td>\n      <td>IN</td>\n    </tr>\n    <tr>\n      <th>6990281</th>\n      <td>RwcKOdEuLRHNJe4M9-qpqg</td>\n      <td>6JehEvdoCvZPJ_XIxnzIIw</td>\n      <td>VAeEXLbEcI9Emt9KGYq9aA</td>\n      <td>3.0</td>\n      <td>10.0</td>\n      <td>3.0</td>\n      <td>7.0</td>\n      <td>Located in the 'Walking District' in Nashville...</td>\n      <td>2018-01-02 22:50:47</td>\n      <td>2</td>\n      <td>TN</td>\n    </tr>\n  </tbody>\n</table>\n<p>4548086 rows × 11 columns</p>\n</div>"
     },
     "execution_count": 1,
     "metadata": {},
     "output_type": "execute_result"
    }
   ],
   "source": [
    "import pandas as pd\n",
    "import ast\n",
    "\n",
    "# import dataset for businesses\n",
    "businesses = pd.read_csv('csv_data/yelp_academic_dataset_business.csv')\n",
    "\n",
    "# create a column for the price range\n",
    "businesses.dropna(subset=['attributes'])\n",
    "businesses = businesses[businesses['attributes'].str.contains('RestaurantsPriceRange2', na=False)]\n",
    "businesses = businesses[businesses['categories'].str.contains('Restaurants', na=False)]\n",
    "businesses['price'] = businesses['attributes'].apply(lambda x: ast.literal_eval(x).get('RestaurantsPriceRange2'))\n",
    "businesses.dropna(subset=['price'])\n",
    "\n",
    "# getting businesses without price range out\n",
    "businesses = businesses[businesses['price'].isin(['1', '2', '3', '4'])]\n",
    "businesses['price'] = businesses['price'].astype('int')\n",
    "\n",
    "# import reviews data\n",
    "reviews = pd.read_csv('csv_data/yelp_academic_dataset_review.csv')\n",
    "\n",
    "# filter the reviews' data to businesses with price range\n",
    "reviews = reviews[reviews['business_id'].isin(businesses['business_id'].tolist())]\n",
    "\n",
    "# transfer information from price range to reviews\n",
    "price_information = dict(zip(businesses['business_id'].tolist(), businesses['price'].tolist()))\n",
    "reviews['price_range'] = reviews['business_id'].apply(lambda x: price_information.get(x))\n",
    "\n",
    "# transfer information from states to reviews\n",
    "state_information = dict(zip(businesses['business_id'].tolist(), businesses['state'].tolist()))\n",
    "reviews['state'] = reviews['business_id'].apply(lambda x: state_information.get(x))\n",
    "\n",
    "# check results\n",
    "reviews"
   ]
  },
  {
   "cell_type": "code",
   "execution_count": 2,
   "outputs": [],
   "source": [
    "# let's save this data to a new file\n",
    "reviews.to_csv('processed_data/reviews_restaurants.csv', index=False)"
   ],
   "metadata": {
    "collapsed": false,
    "pycharm": {
     "name": "#%%\n"
    }
   }
  }
 ],
 "metadata": {
  "kernelspec": {
   "display_name": "Python 3",
   "language": "python",
   "name": "python3"
  },
  "language_info": {
   "codemirror_mode": {
    "name": "ipython",
    "version": 2
   },
   "file_extension": ".py",
   "mimetype": "text/x-python",
   "name": "python",
   "nbconvert_exporter": "python",
   "pygments_lexer": "ipython2",
   "version": "2.7.6"
  }
 },
 "nbformat": 4,
 "nbformat_minor": 0
}