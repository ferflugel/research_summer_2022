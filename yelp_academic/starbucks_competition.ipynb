{
 "cells": [
  {
   "cell_type": "code",
   "execution_count": 1,
   "outputs": [
    {
     "data": {
      "text/plain": "(6704, 14)"
     },
     "execution_count": 1,
     "metadata": {},
     "output_type": "execute_result"
    }
   ],
   "source": [
    "import pandas as pd\n",
    "from yelp_functions import filter_by_category\n",
    "\n",
    "# select the data for businesses which are coffee shops\n",
    "coffee_shops = pd.read_csv('csv_data/yelp_academic_dataset_business.csv')\n",
    "coffee_shops = filter_by_category(coffee_shops, 'Coffee & Tea')\n",
    "\n",
    "# check the size of your new dataset\n",
    "coffee_shops.shape"
   ],
   "metadata": {
    "collapsed": false,
    "pycharm": {
     "name": "#%%\n"
    }
   }
  },
  {
   "cell_type": "code",
   "execution_count": 2,
   "outputs": [
    {
     "data": {
      "text/plain": "                 business_id  name  address  state  postal_code  latitude  \\\ncity                                                                        \nBoise                    138   138      138    138          138       138   \nBrandon                   29    29       29     29           29        29   \nBrentwood                 26    26       26     26           26        26   \nBroomall                   9     9        9      9            9         9   \nCarmel                    45    45       45     45           45        45   \nCherry Hill               35    35       35     35           35        35   \nClearwater                80    80       80     80           80        80   \nDoylestown                24    24       24     24           24        24   \nEdmonton                 350   350      349    350          350       350   \nFishers                   27    27       27     27           27        27   \nFranklin                  43    43       43     43           43        43   \nGoleta                    33    33       33     33           33        33   \nGreenwood                 19    19       19     19           19        19   \nHendersonville            17    17       17     17           17        17   \nIndianapolis             300   300      299    300          300       300   \nKenner                    21    21       21     21           21        21   \nKing of Prussia           20    20       20     20           20        20   \nLargo                     39    39       39     39           39        39   \nLutz                      26    26       24     26           26        26   \nMeridian                  51    51       51     51           51        51   \nMetairie                  65    65       65     65           65        65   \nMt. Juliet                 7     7        7      7            7         7   \nNashville                310   310      307    310          310       310   \nNew Orleans              318   318      317    318          318       318   \nNewark                    20    20       20     20           20        20   \nNewtown                   15    15       15     15           15        15   \nOro Valley                12    12       12     12           12        12   \nPalm Harbor               26    26       26     26           26        26   \nPhiladelphia             894   894      893    894          893       894   \nReno                     215   215      213    215          215       215   \nRiverview                 36    36       36     36           36        36   \nSahuarita                  6     6        6      6            6         6   \nSanta Barbara            119   119      119    119          119       119   \nSherwood Park             19    19       19     19           19        19   \nSmyrna                    16    16       16     16           16        16   \nSparks                    44    44       44     44           44        44   \nSpring Hill               13    13       13     13           13        13   \nSt. Louis                 95    95       95     95           95        95   \nSt. Petersburg            57    57       57     57           57        57   \nTampa                    395   395      395    395          395       395   \nTucson                   317   317      312    317          317       317   \nWayne                     13    13       13     13           13        13   \nWest Chester              33    33       33     33           33        33   \nWilmington                67    67       67     67           67        67   \n\n                 longitude  stars  review_count  is_open  attributes  \\\ncity                                                                   \nBoise                  138    138           138      138         138   \nBrandon                 29     29            29       29          29   \nBrentwood               26     26            26       26          26   \nBroomall                 9      9             9        9           9   \nCarmel                  45     45            45       45          45   \nCherry Hill             35     35            35       35          35   \nClearwater              80     80            80       80          80   \nDoylestown              24     24            24       24          24   \nEdmonton               350    350           350      350         346   \nFishers                 27     27            27       27          27   \nFranklin                43     43            43       43          43   \nGoleta                  33     33            33       33          33   \nGreenwood               19     19            19       19          19   \nHendersonville          17     17            17       17          17   \nIndianapolis           300    300           300      300         297   \nKenner                  21     21            21       21          21   \nKing of Prussia         20     20            20       20          20   \nLargo                   39     39            39       39          39   \nLutz                    26     26            26       26          26   \nMeridian                51     51            51       51          49   \nMetairie                65     65            65       65          65   \nMt. Juliet               7      7             7        7           7   \nNashville              310    310           310      310         303   \nNew Orleans            318    318           318      318         314   \nNewark                  20     20            20       20          19   \nNewtown                 15     15            15       15          15   \nOro Valley              12     12            12       12          12   \nPalm Harbor             26     26            26       26          26   \nPhiladelphia           894    894           894      894         886   \nReno                   215    215           215      215         214   \nRiverview               36     36            36       36          35   \nSahuarita                6      6             6        6           6   \nSanta Barbara          119    119           119      119         118   \nSherwood Park           19     19            19       19          19   \nSmyrna                  16     16            16       16          15   \nSparks                  44     44            44       44          44   \nSpring Hill             13     13            13       13          12   \nSt. Louis               95     95            95       95          94   \nSt. Petersburg          57     57            57       57          54   \nTampa                  395    395           395      395         393   \nTucson                 317    317           317      317         311   \nWayne                   13     13            13       13          13   \nWest Chester            33     33            33       33          33   \nWilmington              67     67            67       67          67   \n\n                 categories  hours  \ncity                                \nBoise                   138    127  \nBrandon                  29     27  \nBrentwood                26     23  \nBroomall                  9      9  \nCarmel                   45     44  \nCherry Hill              35     34  \nClearwater               80     73  \nDoylestown               24     23  \nEdmonton                350    272  \nFishers                  27     26  \nFranklin                 43     38  \nGoleta                   33     25  \nGreenwood                19     19  \nHendersonville           17     15  \nIndianapolis            300    275  \nKenner                   21     17  \nKing of Prussia          20     18  \nLargo                    39     38  \nLutz                     26     24  \nMeridian                 51     49  \nMetairie                 65     59  \nMt. Juliet                7      7  \nNashville               310    291  \nNew Orleans             318    297  \nNewark                   20     18  \nNewtown                  15     14  \nOro Valley               12     12  \nPalm Harbor              26     26  \nPhiladelphia            894    825  \nReno                    215    199  \nRiverview                36     35  \nSahuarita                 6      5  \nSanta Barbara           119    109  \nSherwood Park            19     17  \nSmyrna                   16     16  \nSparks                   44     38  \nSpring Hill              13     13  \nSt. Louis                95     94  \nSt. Petersburg           57     54  \nTampa                   395    371  \nTucson                  317    299  \nWayne                    13     11  \nWest Chester             33     30  \nWilmington               67     62  ",
      "text/html": "<div>\n<style scoped>\n    .dataframe tbody tr th:only-of-type {\n        vertical-align: middle;\n    }\n\n    .dataframe tbody tr th {\n        vertical-align: top;\n    }\n\n    .dataframe thead th {\n        text-align: right;\n    }\n</style>\n<table border=\"1\" class=\"dataframe\">\n  <thead>\n    <tr style=\"text-align: right;\">\n      <th></th>\n      <th>business_id</th>\n      <th>name</th>\n      <th>address</th>\n      <th>state</th>\n      <th>postal_code</th>\n      <th>latitude</th>\n      <th>longitude</th>\n      <th>stars</th>\n      <th>review_count</th>\n      <th>is_open</th>\n      <th>attributes</th>\n      <th>categories</th>\n      <th>hours</th>\n    </tr>\n    <tr>\n      <th>city</th>\n      <th></th>\n      <th></th>\n      <th></th>\n      <th></th>\n      <th></th>\n      <th></th>\n      <th></th>\n      <th></th>\n      <th></th>\n      <th></th>\n      <th></th>\n      <th></th>\n      <th></th>\n    </tr>\n  </thead>\n  <tbody>\n    <tr>\n      <th>Boise</th>\n      <td>138</td>\n      <td>138</td>\n      <td>138</td>\n      <td>138</td>\n      <td>138</td>\n      <td>138</td>\n      <td>138</td>\n      <td>138</td>\n      <td>138</td>\n      <td>138</td>\n      <td>138</td>\n      <td>138</td>\n      <td>127</td>\n    </tr>\n    <tr>\n      <th>Brandon</th>\n      <td>29</td>\n      <td>29</td>\n      <td>29</td>\n      <td>29</td>\n      <td>29</td>\n      <td>29</td>\n      <td>29</td>\n      <td>29</td>\n      <td>29</td>\n      <td>29</td>\n      <td>29</td>\n      <td>29</td>\n      <td>27</td>\n    </tr>\n    <tr>\n      <th>Brentwood</th>\n      <td>26</td>\n      <td>26</td>\n      <td>26</td>\n      <td>26</td>\n      <td>26</td>\n      <td>26</td>\n      <td>26</td>\n      <td>26</td>\n      <td>26</td>\n      <td>26</td>\n      <td>26</td>\n      <td>26</td>\n      <td>23</td>\n    </tr>\n    <tr>\n      <th>Broomall</th>\n      <td>9</td>\n      <td>9</td>\n      <td>9</td>\n      <td>9</td>\n      <td>9</td>\n      <td>9</td>\n      <td>9</td>\n      <td>9</td>\n      <td>9</td>\n      <td>9</td>\n      <td>9</td>\n      <td>9</td>\n      <td>9</td>\n    </tr>\n    <tr>\n      <th>Carmel</th>\n      <td>45</td>\n      <td>45</td>\n      <td>45</td>\n      <td>45</td>\n      <td>45</td>\n      <td>45</td>\n      <td>45</td>\n      <td>45</td>\n      <td>45</td>\n      <td>45</td>\n      <td>45</td>\n      <td>45</td>\n      <td>44</td>\n    </tr>\n    <tr>\n      <th>Cherry Hill</th>\n      <td>35</td>\n      <td>35</td>\n      <td>35</td>\n      <td>35</td>\n      <td>35</td>\n      <td>35</td>\n      <td>35</td>\n      <td>35</td>\n      <td>35</td>\n      <td>35</td>\n      <td>35</td>\n      <td>35</td>\n      <td>34</td>\n    </tr>\n    <tr>\n      <th>Clearwater</th>\n      <td>80</td>\n      <td>80</td>\n      <td>80</td>\n      <td>80</td>\n      <td>80</td>\n      <td>80</td>\n      <td>80</td>\n      <td>80</td>\n      <td>80</td>\n      <td>80</td>\n      <td>80</td>\n      <td>80</td>\n      <td>73</td>\n    </tr>\n    <tr>\n      <th>Doylestown</th>\n      <td>24</td>\n      <td>24</td>\n      <td>24</td>\n      <td>24</td>\n      <td>24</td>\n      <td>24</td>\n      <td>24</td>\n      <td>24</td>\n      <td>24</td>\n      <td>24</td>\n      <td>24</td>\n      <td>24</td>\n      <td>23</td>\n    </tr>\n    <tr>\n      <th>Edmonton</th>\n      <td>350</td>\n      <td>350</td>\n      <td>349</td>\n      <td>350</td>\n      <td>350</td>\n      <td>350</td>\n      <td>350</td>\n      <td>350</td>\n      <td>350</td>\n      <td>350</td>\n      <td>346</td>\n      <td>350</td>\n      <td>272</td>\n    </tr>\n    <tr>\n      <th>Fishers</th>\n      <td>27</td>\n      <td>27</td>\n      <td>27</td>\n      <td>27</td>\n      <td>27</td>\n      <td>27</td>\n      <td>27</td>\n      <td>27</td>\n      <td>27</td>\n      <td>27</td>\n      <td>27</td>\n      <td>27</td>\n      <td>26</td>\n    </tr>\n    <tr>\n      <th>Franklin</th>\n      <td>43</td>\n      <td>43</td>\n      <td>43</td>\n      <td>43</td>\n      <td>43</td>\n      <td>43</td>\n      <td>43</td>\n      <td>43</td>\n      <td>43</td>\n      <td>43</td>\n      <td>43</td>\n      <td>43</td>\n      <td>38</td>\n    </tr>\n    <tr>\n      <th>Goleta</th>\n      <td>33</td>\n      <td>33</td>\n      <td>33</td>\n      <td>33</td>\n      <td>33</td>\n      <td>33</td>\n      <td>33</td>\n      <td>33</td>\n      <td>33</td>\n      <td>33</td>\n      <td>33</td>\n      <td>33</td>\n      <td>25</td>\n    </tr>\n    <tr>\n      <th>Greenwood</th>\n      <td>19</td>\n      <td>19</td>\n      <td>19</td>\n      <td>19</td>\n      <td>19</td>\n      <td>19</td>\n      <td>19</td>\n      <td>19</td>\n      <td>19</td>\n      <td>19</td>\n      <td>19</td>\n      <td>19</td>\n      <td>19</td>\n    </tr>\n    <tr>\n      <th>Hendersonville</th>\n      <td>17</td>\n      <td>17</td>\n      <td>17</td>\n      <td>17</td>\n      <td>17</td>\n      <td>17</td>\n      <td>17</td>\n      <td>17</td>\n      <td>17</td>\n      <td>17</td>\n      <td>17</td>\n      <td>17</td>\n      <td>15</td>\n    </tr>\n    <tr>\n      <th>Indianapolis</th>\n      <td>300</td>\n      <td>300</td>\n      <td>299</td>\n      <td>300</td>\n      <td>300</td>\n      <td>300</td>\n      <td>300</td>\n      <td>300</td>\n      <td>300</td>\n      <td>300</td>\n      <td>297</td>\n      <td>300</td>\n      <td>275</td>\n    </tr>\n    <tr>\n      <th>Kenner</th>\n      <td>21</td>\n      <td>21</td>\n      <td>21</td>\n      <td>21</td>\n      <td>21</td>\n      <td>21</td>\n      <td>21</td>\n      <td>21</td>\n      <td>21</td>\n      <td>21</td>\n      <td>21</td>\n      <td>21</td>\n      <td>17</td>\n    </tr>\n    <tr>\n      <th>King of Prussia</th>\n      <td>20</td>\n      <td>20</td>\n      <td>20</td>\n      <td>20</td>\n      <td>20</td>\n      <td>20</td>\n      <td>20</td>\n      <td>20</td>\n      <td>20</td>\n      <td>20</td>\n      <td>20</td>\n      <td>20</td>\n      <td>18</td>\n    </tr>\n    <tr>\n      <th>Largo</th>\n      <td>39</td>\n      <td>39</td>\n      <td>39</td>\n      <td>39</td>\n      <td>39</td>\n      <td>39</td>\n      <td>39</td>\n      <td>39</td>\n      <td>39</td>\n      <td>39</td>\n      <td>39</td>\n      <td>39</td>\n      <td>38</td>\n    </tr>\n    <tr>\n      <th>Lutz</th>\n      <td>26</td>\n      <td>26</td>\n      <td>24</td>\n      <td>26</td>\n      <td>26</td>\n      <td>26</td>\n      <td>26</td>\n      <td>26</td>\n      <td>26</td>\n      <td>26</td>\n      <td>26</td>\n      <td>26</td>\n      <td>24</td>\n    </tr>\n    <tr>\n      <th>Meridian</th>\n      <td>51</td>\n      <td>51</td>\n      <td>51</td>\n      <td>51</td>\n      <td>51</td>\n      <td>51</td>\n      <td>51</td>\n      <td>51</td>\n      <td>51</td>\n      <td>51</td>\n      <td>49</td>\n      <td>51</td>\n      <td>49</td>\n    </tr>\n    <tr>\n      <th>Metairie</th>\n      <td>65</td>\n      <td>65</td>\n      <td>65</td>\n      <td>65</td>\n      <td>65</td>\n      <td>65</td>\n      <td>65</td>\n      <td>65</td>\n      <td>65</td>\n      <td>65</td>\n      <td>65</td>\n      <td>65</td>\n      <td>59</td>\n    </tr>\n    <tr>\n      <th>Mt. Juliet</th>\n      <td>7</td>\n      <td>7</td>\n      <td>7</td>\n      <td>7</td>\n      <td>7</td>\n      <td>7</td>\n      <td>7</td>\n      <td>7</td>\n      <td>7</td>\n      <td>7</td>\n      <td>7</td>\n      <td>7</td>\n      <td>7</td>\n    </tr>\n    <tr>\n      <th>Nashville</th>\n      <td>310</td>\n      <td>310</td>\n      <td>307</td>\n      <td>310</td>\n      <td>310</td>\n      <td>310</td>\n      <td>310</td>\n      <td>310</td>\n      <td>310</td>\n      <td>310</td>\n      <td>303</td>\n      <td>310</td>\n      <td>291</td>\n    </tr>\n    <tr>\n      <th>New Orleans</th>\n      <td>318</td>\n      <td>318</td>\n      <td>317</td>\n      <td>318</td>\n      <td>318</td>\n      <td>318</td>\n      <td>318</td>\n      <td>318</td>\n      <td>318</td>\n      <td>318</td>\n      <td>314</td>\n      <td>318</td>\n      <td>297</td>\n    </tr>\n    <tr>\n      <th>Newark</th>\n      <td>20</td>\n      <td>20</td>\n      <td>20</td>\n      <td>20</td>\n      <td>20</td>\n      <td>20</td>\n      <td>20</td>\n      <td>20</td>\n      <td>20</td>\n      <td>20</td>\n      <td>19</td>\n      <td>20</td>\n      <td>18</td>\n    </tr>\n    <tr>\n      <th>Newtown</th>\n      <td>15</td>\n      <td>15</td>\n      <td>15</td>\n      <td>15</td>\n      <td>15</td>\n      <td>15</td>\n      <td>15</td>\n      <td>15</td>\n      <td>15</td>\n      <td>15</td>\n      <td>15</td>\n      <td>15</td>\n      <td>14</td>\n    </tr>\n    <tr>\n      <th>Oro Valley</th>\n      <td>12</td>\n      <td>12</td>\n      <td>12</td>\n      <td>12</td>\n      <td>12</td>\n      <td>12</td>\n      <td>12</td>\n      <td>12</td>\n      <td>12</td>\n      <td>12</td>\n      <td>12</td>\n      <td>12</td>\n      <td>12</td>\n    </tr>\n    <tr>\n      <th>Palm Harbor</th>\n      <td>26</td>\n      <td>26</td>\n      <td>26</td>\n      <td>26</td>\n      <td>26</td>\n      <td>26</td>\n      <td>26</td>\n      <td>26</td>\n      <td>26</td>\n      <td>26</td>\n      <td>26</td>\n      <td>26</td>\n      <td>26</td>\n    </tr>\n    <tr>\n      <th>Philadelphia</th>\n      <td>894</td>\n      <td>894</td>\n      <td>893</td>\n      <td>894</td>\n      <td>893</td>\n      <td>894</td>\n      <td>894</td>\n      <td>894</td>\n      <td>894</td>\n      <td>894</td>\n      <td>886</td>\n      <td>894</td>\n      <td>825</td>\n    </tr>\n    <tr>\n      <th>Reno</th>\n      <td>215</td>\n      <td>215</td>\n      <td>213</td>\n      <td>215</td>\n      <td>215</td>\n      <td>215</td>\n      <td>215</td>\n      <td>215</td>\n      <td>215</td>\n      <td>215</td>\n      <td>214</td>\n      <td>215</td>\n      <td>199</td>\n    </tr>\n    <tr>\n      <th>Riverview</th>\n      <td>36</td>\n      <td>36</td>\n      <td>36</td>\n      <td>36</td>\n      <td>36</td>\n      <td>36</td>\n      <td>36</td>\n      <td>36</td>\n      <td>36</td>\n      <td>36</td>\n      <td>35</td>\n      <td>36</td>\n      <td>35</td>\n    </tr>\n    <tr>\n      <th>Sahuarita</th>\n      <td>6</td>\n      <td>6</td>\n      <td>6</td>\n      <td>6</td>\n      <td>6</td>\n      <td>6</td>\n      <td>6</td>\n      <td>6</td>\n      <td>6</td>\n      <td>6</td>\n      <td>6</td>\n      <td>6</td>\n      <td>5</td>\n    </tr>\n    <tr>\n      <th>Santa Barbara</th>\n      <td>119</td>\n      <td>119</td>\n      <td>119</td>\n      <td>119</td>\n      <td>119</td>\n      <td>119</td>\n      <td>119</td>\n      <td>119</td>\n      <td>119</td>\n      <td>119</td>\n      <td>118</td>\n      <td>119</td>\n      <td>109</td>\n    </tr>\n    <tr>\n      <th>Sherwood Park</th>\n      <td>19</td>\n      <td>19</td>\n      <td>19</td>\n      <td>19</td>\n      <td>19</td>\n      <td>19</td>\n      <td>19</td>\n      <td>19</td>\n      <td>19</td>\n      <td>19</td>\n      <td>19</td>\n      <td>19</td>\n      <td>17</td>\n    </tr>\n    <tr>\n      <th>Smyrna</th>\n      <td>16</td>\n      <td>16</td>\n      <td>16</td>\n      <td>16</td>\n      <td>16</td>\n      <td>16</td>\n      <td>16</td>\n      <td>16</td>\n      <td>16</td>\n      <td>16</td>\n      <td>15</td>\n      <td>16</td>\n      <td>16</td>\n    </tr>\n    <tr>\n      <th>Sparks</th>\n      <td>44</td>\n      <td>44</td>\n      <td>44</td>\n      <td>44</td>\n      <td>44</td>\n      <td>44</td>\n      <td>44</td>\n      <td>44</td>\n      <td>44</td>\n      <td>44</td>\n      <td>44</td>\n      <td>44</td>\n      <td>38</td>\n    </tr>\n    <tr>\n      <th>Spring Hill</th>\n      <td>13</td>\n      <td>13</td>\n      <td>13</td>\n      <td>13</td>\n      <td>13</td>\n      <td>13</td>\n      <td>13</td>\n      <td>13</td>\n      <td>13</td>\n      <td>13</td>\n      <td>12</td>\n      <td>13</td>\n      <td>13</td>\n    </tr>\n    <tr>\n      <th>St. Louis</th>\n      <td>95</td>\n      <td>95</td>\n      <td>95</td>\n      <td>95</td>\n      <td>95</td>\n      <td>95</td>\n      <td>95</td>\n      <td>95</td>\n      <td>95</td>\n      <td>95</td>\n      <td>94</td>\n      <td>95</td>\n      <td>94</td>\n    </tr>\n    <tr>\n      <th>St. Petersburg</th>\n      <td>57</td>\n      <td>57</td>\n      <td>57</td>\n      <td>57</td>\n      <td>57</td>\n      <td>57</td>\n      <td>57</td>\n      <td>57</td>\n      <td>57</td>\n      <td>57</td>\n      <td>54</td>\n      <td>57</td>\n      <td>54</td>\n    </tr>\n    <tr>\n      <th>Tampa</th>\n      <td>395</td>\n      <td>395</td>\n      <td>395</td>\n      <td>395</td>\n      <td>395</td>\n      <td>395</td>\n      <td>395</td>\n      <td>395</td>\n      <td>395</td>\n      <td>395</td>\n      <td>393</td>\n      <td>395</td>\n      <td>371</td>\n    </tr>\n    <tr>\n      <th>Tucson</th>\n      <td>317</td>\n      <td>317</td>\n      <td>312</td>\n      <td>317</td>\n      <td>317</td>\n      <td>317</td>\n      <td>317</td>\n      <td>317</td>\n      <td>317</td>\n      <td>317</td>\n      <td>311</td>\n      <td>317</td>\n      <td>299</td>\n    </tr>\n    <tr>\n      <th>Wayne</th>\n      <td>13</td>\n      <td>13</td>\n      <td>13</td>\n      <td>13</td>\n      <td>13</td>\n      <td>13</td>\n      <td>13</td>\n      <td>13</td>\n      <td>13</td>\n      <td>13</td>\n      <td>13</td>\n      <td>13</td>\n      <td>11</td>\n    </tr>\n    <tr>\n      <th>West Chester</th>\n      <td>33</td>\n      <td>33</td>\n      <td>33</td>\n      <td>33</td>\n      <td>33</td>\n      <td>33</td>\n      <td>33</td>\n      <td>33</td>\n      <td>33</td>\n      <td>33</td>\n      <td>33</td>\n      <td>33</td>\n      <td>30</td>\n    </tr>\n    <tr>\n      <th>Wilmington</th>\n      <td>67</td>\n      <td>67</td>\n      <td>67</td>\n      <td>67</td>\n      <td>67</td>\n      <td>67</td>\n      <td>67</td>\n      <td>67</td>\n      <td>67</td>\n      <td>67</td>\n      <td>67</td>\n      <td>67</td>\n      <td>62</td>\n    </tr>\n  </tbody>\n</table>\n</div>"
     },
     "execution_count": 2,
     "metadata": {},
     "output_type": "execute_result"
    }
   ],
   "source": [
    "# select coffee shops in cities with at least 3 starbucks'\n",
    "starbucks_coffees = coffee_shops[coffee_shops['name'] == \"Starbucks\"]\n",
    "cities_with_starbucks = starbucks_coffees.groupby('city').count().reset_index()\n",
    "cities_with_starbucks = cities_with_starbucks[cities_with_starbucks['name'] >= 3]\n",
    "cities_with_starbucks = cities_with_starbucks['city'].tolist()\n",
    "coffee_shops = coffee_shops[coffee_shops['city'].isin(cities_with_starbucks)]\n",
    "\n",
    "# check distribution of coffee shops per city\n",
    "coffee_shops.groupby('city').count()"
   ],
   "metadata": {
    "collapsed": false,
    "pycharm": {
     "name": "#%%\n"
    }
   }
  },
  {
   "cell_type": "code",
   "execution_count": 3,
   "outputs": [
    {
     "data": {
      "text/plain": "               city  mean_starbucks_rating  coffee_shops_count\n0             Boise               3.321429                 138\n1           Brandon               3.100000                  29\n2         Brentwood               3.000000                  26\n3          Broomall               3.000000                   9\n4            Carmel               3.437500                  45\n5       Cherry Hill               3.214286                  35\n6        Clearwater               3.111111                  80\n7        Doylestown               2.666667                  24\n8          Edmonton               3.292683                 350\n9           Fishers               3.125000                  27\n10         Franklin               3.083333                  43\n11           Goleta               2.333333                  33\n12        Greenwood               3.500000                  19\n13   Hendersonville               3.750000                  17\n14     Indianapolis               3.397959                 300\n15           Kenner               3.166667                  21\n16  King of Prussia               2.600000                  20\n17            Largo               3.333333                  39\n18             Lutz               3.125000                  26\n19         Meridian               3.500000                  51\n20         Metairie               2.800000                  65\n21       Mt. Juliet               3.166667                   7\n22        Nashville               2.673077                 310\n23      New Orleans               2.894737                 318\n24           Newark               1.875000                  20\n25          Newtown               3.333333                  15\n26       Oro Valley               3.000000                  12\n27      Palm Harbor               3.375000                  26\n28     Philadelphia               2.859649                 894\n29             Reno               3.050000                 215\n30        Riverview               3.000000                  36\n31        Sahuarita               3.500000                   6\n32    Santa Barbara               2.916667                 119\n33    Sherwood Park               3.250000                  19\n34           Smyrna               2.666667                  16\n35           Sparks               2.863636                  44\n36      Spring Hill               3.333333                  13\n37        St. Louis               2.884615                  95\n38   St. Petersburg               3.611111                  57\n39            Tampa               3.163043                 395\n40           Tucson               3.250000                 317\n41            Wayne               3.833333                  13\n42     West Chester               3.125000                  33\n43       Wilmington               2.928571                  67",
      "text/html": "<div>\n<style scoped>\n    .dataframe tbody tr th:only-of-type {\n        vertical-align: middle;\n    }\n\n    .dataframe tbody tr th {\n        vertical-align: top;\n    }\n\n    .dataframe thead th {\n        text-align: right;\n    }\n</style>\n<table border=\"1\" class=\"dataframe\">\n  <thead>\n    <tr style=\"text-align: right;\">\n      <th></th>\n      <th>city</th>\n      <th>mean_starbucks_rating</th>\n      <th>coffee_shops_count</th>\n    </tr>\n  </thead>\n  <tbody>\n    <tr>\n      <th>0</th>\n      <td>Boise</td>\n      <td>3.321429</td>\n      <td>138</td>\n    </tr>\n    <tr>\n      <th>1</th>\n      <td>Brandon</td>\n      <td>3.100000</td>\n      <td>29</td>\n    </tr>\n    <tr>\n      <th>2</th>\n      <td>Brentwood</td>\n      <td>3.000000</td>\n      <td>26</td>\n    </tr>\n    <tr>\n      <th>3</th>\n      <td>Broomall</td>\n      <td>3.000000</td>\n      <td>9</td>\n    </tr>\n    <tr>\n      <th>4</th>\n      <td>Carmel</td>\n      <td>3.437500</td>\n      <td>45</td>\n    </tr>\n    <tr>\n      <th>5</th>\n      <td>Cherry Hill</td>\n      <td>3.214286</td>\n      <td>35</td>\n    </tr>\n    <tr>\n      <th>6</th>\n      <td>Clearwater</td>\n      <td>3.111111</td>\n      <td>80</td>\n    </tr>\n    <tr>\n      <th>7</th>\n      <td>Doylestown</td>\n      <td>2.666667</td>\n      <td>24</td>\n    </tr>\n    <tr>\n      <th>8</th>\n      <td>Edmonton</td>\n      <td>3.292683</td>\n      <td>350</td>\n    </tr>\n    <tr>\n      <th>9</th>\n      <td>Fishers</td>\n      <td>3.125000</td>\n      <td>27</td>\n    </tr>\n    <tr>\n      <th>10</th>\n      <td>Franklin</td>\n      <td>3.083333</td>\n      <td>43</td>\n    </tr>\n    <tr>\n      <th>11</th>\n      <td>Goleta</td>\n      <td>2.333333</td>\n      <td>33</td>\n    </tr>\n    <tr>\n      <th>12</th>\n      <td>Greenwood</td>\n      <td>3.500000</td>\n      <td>19</td>\n    </tr>\n    <tr>\n      <th>13</th>\n      <td>Hendersonville</td>\n      <td>3.750000</td>\n      <td>17</td>\n    </tr>\n    <tr>\n      <th>14</th>\n      <td>Indianapolis</td>\n      <td>3.397959</td>\n      <td>300</td>\n    </tr>\n    <tr>\n      <th>15</th>\n      <td>Kenner</td>\n      <td>3.166667</td>\n      <td>21</td>\n    </tr>\n    <tr>\n      <th>16</th>\n      <td>King of Prussia</td>\n      <td>2.600000</td>\n      <td>20</td>\n    </tr>\n    <tr>\n      <th>17</th>\n      <td>Largo</td>\n      <td>3.333333</td>\n      <td>39</td>\n    </tr>\n    <tr>\n      <th>18</th>\n      <td>Lutz</td>\n      <td>3.125000</td>\n      <td>26</td>\n    </tr>\n    <tr>\n      <th>19</th>\n      <td>Meridian</td>\n      <td>3.500000</td>\n      <td>51</td>\n    </tr>\n    <tr>\n      <th>20</th>\n      <td>Metairie</td>\n      <td>2.800000</td>\n      <td>65</td>\n    </tr>\n    <tr>\n      <th>21</th>\n      <td>Mt. Juliet</td>\n      <td>3.166667</td>\n      <td>7</td>\n    </tr>\n    <tr>\n      <th>22</th>\n      <td>Nashville</td>\n      <td>2.673077</td>\n      <td>310</td>\n    </tr>\n    <tr>\n      <th>23</th>\n      <td>New Orleans</td>\n      <td>2.894737</td>\n      <td>318</td>\n    </tr>\n    <tr>\n      <th>24</th>\n      <td>Newark</td>\n      <td>1.875000</td>\n      <td>20</td>\n    </tr>\n    <tr>\n      <th>25</th>\n      <td>Newtown</td>\n      <td>3.333333</td>\n      <td>15</td>\n    </tr>\n    <tr>\n      <th>26</th>\n      <td>Oro Valley</td>\n      <td>3.000000</td>\n      <td>12</td>\n    </tr>\n    <tr>\n      <th>27</th>\n      <td>Palm Harbor</td>\n      <td>3.375000</td>\n      <td>26</td>\n    </tr>\n    <tr>\n      <th>28</th>\n      <td>Philadelphia</td>\n      <td>2.859649</td>\n      <td>894</td>\n    </tr>\n    <tr>\n      <th>29</th>\n      <td>Reno</td>\n      <td>3.050000</td>\n      <td>215</td>\n    </tr>\n    <tr>\n      <th>30</th>\n      <td>Riverview</td>\n      <td>3.000000</td>\n      <td>36</td>\n    </tr>\n    <tr>\n      <th>31</th>\n      <td>Sahuarita</td>\n      <td>3.500000</td>\n      <td>6</td>\n    </tr>\n    <tr>\n      <th>32</th>\n      <td>Santa Barbara</td>\n      <td>2.916667</td>\n      <td>119</td>\n    </tr>\n    <tr>\n      <th>33</th>\n      <td>Sherwood Park</td>\n      <td>3.250000</td>\n      <td>19</td>\n    </tr>\n    <tr>\n      <th>34</th>\n      <td>Smyrna</td>\n      <td>2.666667</td>\n      <td>16</td>\n    </tr>\n    <tr>\n      <th>35</th>\n      <td>Sparks</td>\n      <td>2.863636</td>\n      <td>44</td>\n    </tr>\n    <tr>\n      <th>36</th>\n      <td>Spring Hill</td>\n      <td>3.333333</td>\n      <td>13</td>\n    </tr>\n    <tr>\n      <th>37</th>\n      <td>St. Louis</td>\n      <td>2.884615</td>\n      <td>95</td>\n    </tr>\n    <tr>\n      <th>38</th>\n      <td>St. Petersburg</td>\n      <td>3.611111</td>\n      <td>57</td>\n    </tr>\n    <tr>\n      <th>39</th>\n      <td>Tampa</td>\n      <td>3.163043</td>\n      <td>395</td>\n    </tr>\n    <tr>\n      <th>40</th>\n      <td>Tucson</td>\n      <td>3.250000</td>\n      <td>317</td>\n    </tr>\n    <tr>\n      <th>41</th>\n      <td>Wayne</td>\n      <td>3.833333</td>\n      <td>13</td>\n    </tr>\n    <tr>\n      <th>42</th>\n      <td>West Chester</td>\n      <td>3.125000</td>\n      <td>33</td>\n    </tr>\n    <tr>\n      <th>43</th>\n      <td>Wilmington</td>\n      <td>2.928571</td>\n      <td>67</td>\n    </tr>\n  </tbody>\n</table>\n</div>"
     },
     "execution_count": 3,
     "metadata": {},
     "output_type": "execute_result"
    }
   ],
   "source": [
    "# get mean starbucks' rating per city\n",
    "mean_starbucks_rating = starbucks_coffees.groupby('city').mean().reset_index()\n",
    "mean_starbucks_rating = mean_starbucks_rating[['city', 'stars']]\n",
    "mean_starbucks_rating.columns = ['city', 'mean_starbucks_rating']\n",
    "\n",
    "# create a new dataframe with the number of coffee shops per city\n",
    "coffee_shops_count = coffee_shops.groupby('city').count().reset_index()[['city', 'name']]\n",
    "coffee_shops_count.columns = ['city', 'coffee_shops_count']\n",
    "\n",
    "# merge the dataframes\n",
    "mean_starbucks_rating = mean_starbucks_rating.merge(coffee_shops_count, on='city')\n",
    "\n",
    "# check the new dataframe\n",
    "mean_starbucks_rating"
   ],
   "metadata": {
    "collapsed": false,
    "pycharm": {
     "name": "#%%\n"
    }
   }
  },
  {
   "cell_type": "code",
   "execution_count": 4,
   "outputs": [
    {
     "data": {
      "text/plain": "<Figure size 432x288 with 1 Axes>",
      "image/png": "[encoded data removed]"
     },
     "metadata": {},
     "output_type": "display_data"
    }
   ],
   "source": [
    "import seaborn as sns\n",
    "import matplotlib.pyplot as plt\n",
    "import numpy as np\n",
    "\n",
    "# create log for the count column\n",
    "mean_starbucks_rating['log_coffee_shops_count'] = np.log10(mean_starbucks_rating['coffee_shops_count'])\n",
    "\n",
    "# plot data to visualize the relationship between the variables\n",
    "sns.set_style('white')\n",
    "sns.regplot(data=mean_starbucks_rating, x='log_coffee_shops_count', y='mean_starbucks_rating', color=(1.0, 0.6, 0.6))\n",
    "plt.savefig('figures/starbucks_competition.png', dpi=200)\n",
    "plt.show()"
   ],
   "metadata": {
    "collapsed": false,
    "pycharm": {
     "name": "#%%\n"
    }
   }
  },
  {
   "cell_type": "code",
   "execution_count": 5,
   "outputs": [
    {
     "data": {
      "text/plain": "                        mean_starbucks_rating  coffee_shops_count  \\\nmean_starbucks_rating                1.000000           -0.080789   \ncoffee_shops_count                  -0.080789            1.000000   \nlog_coffee_shops_count              -0.095404            0.840022   \n\n                        log_coffee_shops_count  \nmean_starbucks_rating                -0.095404  \ncoffee_shops_count                    0.840022  \nlog_coffee_shops_count                1.000000  ",
      "text/html": "<div>\n<style scoped>\n    .dataframe tbody tr th:only-of-type {\n        vertical-align: middle;\n    }\n\n    .dataframe tbody tr th {\n        vertical-align: top;\n    }\n\n    .dataframe thead th {\n        text-align: right;\n    }\n</style>\n<table border=\"1\" class=\"dataframe\">\n  <thead>\n    <tr style=\"text-align: right;\">\n      <th></th>\n      <th>mean_starbucks_rating</th>\n      <th>coffee_shops_count</th>\n      <th>log_coffee_shops_count</th>\n    </tr>\n  </thead>\n  <tbody>\n    <tr>\n      <th>mean_starbucks_rating</th>\n      <td>1.000000</td>\n      <td>-0.080789</td>\n      <td>-0.095404</td>\n    </tr>\n    <tr>\n      <th>coffee_shops_count</th>\n      <td>-0.080789</td>\n      <td>1.000000</td>\n      <td>0.840022</td>\n    </tr>\n    <tr>\n      <th>log_coffee_shops_count</th>\n      <td>-0.095404</td>\n      <td>0.840022</td>\n      <td>1.000000</td>\n    </tr>\n  </tbody>\n</table>\n</div>"
     },
     "execution_count": 5,
     "metadata": {},
     "output_type": "execute_result"
    }
   ],
   "source": [
    "mean_starbucks_rating.corr()"
   ],
   "metadata": {
    "collapsed": false,
    "pycharm": {
     "name": "#%%\n"
    }
   }
  },
  {
   "cell_type": "code",
   "execution_count": 6,
   "outputs": [
    {
     "data": {
      "text/plain": "               city  mean_starbucks_rating  coffee_shops_count  \\\n0             Boise               3.321429                 138   \n1           Brandon               3.100000                  29   \n2         Brentwood               3.000000                  26   \n3          Broomall               3.000000                   9   \n4            Carmel               3.437500                  45   \n5       Cherry Hill               3.214286                  35   \n6        Clearwater               3.111111                  80   \n7        Doylestown               2.666667                  24   \n8          Edmonton               3.292683                 350   \n9           Fishers               3.125000                  27   \n10         Franklin               3.083333                  43   \n11           Goleta               2.333333                  33   \n12        Greenwood               3.500000                  19   \n13   Hendersonville               3.750000                  17   \n14     Indianapolis               3.397959                 300   \n15           Kenner               3.166667                  21   \n16  King of Prussia               2.600000                  20   \n17            Largo               3.333333                  39   \n18             Lutz               3.125000                  26   \n19         Meridian               3.500000                  51   \n20         Metairie               2.800000                  65   \n21       Mt. Juliet               3.166667                   7   \n22        Nashville               2.673077                 310   \n23      New Orleans               2.894737                 318   \n24           Newark               1.875000                  20   \n25          Newtown               3.333333                  15   \n26       Oro Valley               3.000000                  12   \n27      Palm Harbor               3.375000                  26   \n28     Philadelphia               2.859649                 894   \n29             Reno               3.050000                 215   \n30        Riverview               3.000000                  36   \n31        Sahuarita               3.500000                   6   \n32    Santa Barbara               2.916667                 119   \n33    Sherwood Park               3.250000                  19   \n34           Smyrna               2.666667                  16   \n35           Sparks               2.863636                  44   \n36      Spring Hill               3.333333                  13   \n37        St. Louis               2.884615                  95   \n38   St. Petersburg               3.611111                  57   \n39            Tampa               3.163043                 395   \n40           Tucson               3.250000                 317   \n41            Wayne               3.833333                  13   \n42     West Chester               3.125000                  33   \n43       Wilmington               2.928571                  67   \n\n    log_coffee_shops_count  \n0                 2.139879  \n1                 1.462398  \n2                 1.414973  \n3                 0.954243  \n4                 1.653213  \n5                 1.544068  \n6                 1.903090  \n7                 1.380211  \n8                 2.544068  \n9                 1.431364  \n10                1.633468  \n11                1.518514  \n12                1.278754  \n13                1.230449  \n14                2.477121  \n15                1.322219  \n16                1.301030  \n17                1.591065  \n18                1.414973  \n19                1.707570  \n20                1.812913  \n21                0.845098  \n22                2.491362  \n23                2.502427  \n24                1.301030  \n25                1.176091  \n26                1.079181  \n27                1.414973  \n28                2.951338  \n29                2.332438  \n30                1.556303  \n31                0.778151  \n32                2.075547  \n33                1.278754  \n34                1.204120  \n35                1.643453  \n36                1.113943  \n37                1.977724  \n38                1.755875  \n39                2.596597  \n40                2.501059  \n41                1.113943  \n42                1.518514  \n43                1.826075  ",
      "text/html": "<div>\n<style scoped>\n    .dataframe tbody tr th:only-of-type {\n        vertical-align: middle;\n    }\n\n    .dataframe tbody tr th {\n        vertical-align: top;\n    }\n\n    .dataframe thead th {\n        text-align: right;\n    }\n</style>\n<table border=\"1\" class=\"dataframe\">\n  <thead>\n    <tr style=\"text-align: right;\">\n      <th></th>\n      <th>city</th>\n      <th>mean_starbucks_rating</th>\n      <th>coffee_shops_count</th>\n      <th>log_coffee_shops_count</th>\n    </tr>\n  </thead>\n  <tbody>\n    <tr>\n      <th>0</th>\n      <td>Boise</td>\n      <td>3.321429</td>\n      <td>138</td>\n      <td>2.139879</td>\n    </tr>\n    <tr>\n      <th>1</th>\n      <td>Brandon</td>\n      <td>3.100000</td>\n      <td>29</td>\n      <td>1.462398</td>\n    </tr>\n    <tr>\n      <th>2</th>\n      <td>Brentwood</td>\n      <td>3.000000</td>\n      <td>26</td>\n      <td>1.414973</td>\n    </tr>\n    <tr>\n      <th>3</th>\n      <td>Broomall</td>\n      <td>3.000000</td>\n      <td>9</td>\n      <td>0.954243</td>\n    </tr>\n    <tr>\n      <th>4</th>\n      <td>Carmel</td>\n      <td>3.437500</td>\n      <td>45</td>\n      <td>1.653213</td>\n    </tr>\n    <tr>\n      <th>5</th>\n      <td>Cherry Hill</td>\n      <td>3.214286</td>\n      <td>35</td>\n      <td>1.544068</td>\n    </tr>\n    <tr>\n      <th>6</th>\n      <td>Clearwater</td>\n      <td>3.111111</td>\n      <td>80</td>\n      <td>1.903090</td>\n    </tr>\n    <tr>\n      <th>7</th>\n      <td>Doylestown</td>\n      <td>2.666667</td>\n      <td>24</td>\n      <td>1.380211</td>\n    </tr>\n    <tr>\n      <th>8</th>\n      <td>Edmonton</td>\n      <td>3.292683</td>\n      <td>350</td>\n      <td>2.544068</td>\n    </tr>\n    <tr>\n      <th>9</th>\n      <td>Fishers</td>\n      <td>3.125000</td>\n      <td>27</td>\n      <td>1.431364</td>\n    </tr>\n    <tr>\n      <th>10</th>\n      <td>Franklin</td>\n      <td>3.083333</td>\n      <td>43</td>\n      <td>1.633468</td>\n    </tr>\n    <tr>\n      <th>11</th>\n      <td>Goleta</td>\n      <td>2.333333</td>\n      <td>33</td>\n      <td>1.518514</td>\n    </tr>\n    <tr>\n      <th>12</th>\n      <td>Greenwood</td>\n      <td>3.500000</td>\n      <td>19</td>\n      <td>1.278754</td>\n    </tr>\n    <tr>\n      <th>13</th>\n      <td>Hendersonville</td>\n      <td>3.750000</td>\n      <td>17</td>\n      <td>1.230449</td>\n    </tr>\n    <tr>\n      <th>14</th>\n      <td>Indianapolis</td>\n      <td>3.397959</td>\n      <td>300</td>\n      <td>2.477121</td>\n    </tr>\n    <tr>\n      <th>15</th>\n      <td>Kenner</td>\n      <td>3.166667</td>\n      <td>21</td>\n      <td>1.322219</td>\n    </tr>\n    <tr>\n      <th>16</th>\n      <td>King of Prussia</td>\n      <td>2.600000</td>\n      <td>20</td>\n      <td>1.301030</td>\n    </tr>\n    <tr>\n      <th>17</th>\n      <td>Largo</td>\n      <td>3.333333</td>\n      <td>39</td>\n      <td>1.591065</td>\n    </tr>\n    <tr>\n      <th>18</th>\n      <td>Lutz</td>\n      <td>3.125000</td>\n      <td>26</td>\n      <td>1.414973</td>\n    </tr>\n    <tr>\n      <th>19</th>\n      <td>Meridian</td>\n      <td>3.500000</td>\n      <td>51</td>\n      <td>1.707570</td>\n    </tr>\n    <tr>\n      <th>20</th>\n      <td>Metairie</td>\n      <td>2.800000</td>\n      <td>65</td>\n      <td>1.812913</td>\n    </tr>\n    <tr>\n      <th>21</th>\n      <td>Mt. Juliet</td>\n      <td>3.166667</td>\n      <td>7</td>\n      <td>0.845098</td>\n    </tr>\n    <tr>\n      <th>22</th>\n      <td>Nashville</td>\n      <td>2.673077</td>\n      <td>310</td>\n      <td>2.491362</td>\n    </tr>\n    <tr>\n      <th>23</th>\n      <td>New Orleans</td>\n      <td>2.894737</td>\n      <td>318</td>\n      <td>2.502427</td>\n    </tr>\n    <tr>\n      <th>24</th>\n      <td>Newark</td>\n      <td>1.875000</td>\n      <td>20</td>\n      <td>1.301030</td>\n    </tr>\n    <tr>\n      <th>25</th>\n      <td>Newtown</td>\n      <td>3.333333</td>\n      <td>15</td>\n      <td>1.176091</td>\n    </tr>\n    <tr>\n      <th>26</th>\n      <td>Oro Valley</td>\n      <td>3.000000</td>\n      <td>12</td>\n      <td>1.079181</td>\n    </tr>\n    <tr>\n      <th>27</th>\n      <td>Palm Harbor</td>\n      <td>3.375000</td>\n      <td>26</td>\n      <td>1.414973</td>\n    </tr>\n    <tr>\n      <th>28</th>\n      <td>Philadelphia</td>\n      <td>2.859649</td>\n      <td>894</td>\n      <td>2.951338</td>\n    </tr>\n    <tr>\n      <th>29</th>\n      <td>Reno</td>\n      <td>3.050000</td>\n      <td>215</td>\n      <td>2.332438</td>\n    </tr>\n    <tr>\n      <th>30</th>\n      <td>Riverview</td>\n      <td>3.000000</td>\n      <td>36</td>\n      <td>1.556303</td>\n    </tr>\n    <tr>\n      <th>31</th>\n      <td>Sahuarita</td>\n      <td>3.500000</td>\n      <td>6</td>\n      <td>0.778151</td>\n    </tr>\n    <tr>\n      <th>32</th>\n      <td>Santa Barbara</td>\n      <td>2.916667</td>\n      <td>119</td>\n      <td>2.075547</td>\n    </tr>\n    <tr>\n      <th>33</th>\n      <td>Sherwood Park</td>\n      <td>3.250000</td>\n      <td>19</td>\n      <td>1.278754</td>\n    </tr>\n    <tr>\n      <th>34</th>\n      <td>Smyrna</td>\n      <td>2.666667</td>\n      <td>16</td>\n      <td>1.204120</td>\n    </tr>\n    <tr>\n      <th>35</th>\n      <td>Sparks</td>\n      <td>2.863636</td>\n      <td>44</td>\n      <td>1.643453</td>\n    </tr>\n    <tr>\n      <th>36</th>\n      <td>Spring Hill</td>\n      <td>3.333333</td>\n      <td>13</td>\n      <td>1.113943</td>\n    </tr>\n    <tr>\n      <th>37</th>\n      <td>St. Louis</td>\n      <td>2.884615</td>\n      <td>95</td>\n      <td>1.977724</td>\n    </tr>\n    <tr>\n      <th>38</th>\n      <td>St. Petersburg</td>\n      <td>3.611111</td>\n      <td>57</td>\n      <td>1.755875</td>\n    </tr>\n    <tr>\n      <th>39</th>\n      <td>Tampa</td>\n      <td>3.163043</td>\n      <td>395</td>\n      <td>2.596597</td>\n    </tr>\n    <tr>\n      <th>40</th>\n      <td>Tucson</td>\n      <td>3.250000</td>\n      <td>317</td>\n      <td>2.501059</td>\n    </tr>\n    <tr>\n      <th>41</th>\n      <td>Wayne</td>\n      <td>3.833333</td>\n      <td>13</td>\n      <td>1.113943</td>\n    </tr>\n    <tr>\n      <th>42</th>\n      <td>West Chester</td>\n      <td>3.125000</td>\n      <td>33</td>\n      <td>1.518514</td>\n    </tr>\n    <tr>\n      <th>43</th>\n      <td>Wilmington</td>\n      <td>2.928571</td>\n      <td>67</td>\n      <td>1.826075</td>\n    </tr>\n  </tbody>\n</table>\n</div>"
     },
     "execution_count": 6,
     "metadata": {},
     "output_type": "execute_result"
    }
   ],
   "source": [
    "mean_starbucks_rating"
   ],
   "metadata": {
    "collapsed": false,
    "pycharm": {
     "name": "#%%\n"
    }
   }
  },
  {
   "cell_type": "code",
   "execution_count": 7,
   "outputs": [
    {
     "data": {
      "text/plain": "(['Philadelphia',\n  'Tampa',\n  'Edmonton',\n  'New Orleans',\n  'Tucson',\n  'Nashville',\n  'Indianapolis',\n  'Reno',\n  'Boise',\n  'Santa Barbara'],\n ['Sahuarita',\n  'Mt. Juliet',\n  'Broomall',\n  'Oro Valley',\n  'Wayne',\n  'Spring Hill',\n  'Newtown',\n  'Smyrna',\n  'Hendersonville',\n  'Sherwood Park'])"
     },
     "execution_count": 7,
     "metadata": {},
     "output_type": "execute_result"
    }
   ],
   "source": [
    "# create lists with cities with most and least competition\n",
    "cities_with_high_competition = mean_starbucks_rating.sort_values(by='coffee_shops_count', ascending=False)['city'].tolist()[:10]\n",
    "cities_with_low_competition = mean_starbucks_rating.sort_values(by='coffee_shops_count')['city'].tolist()[:10]\n",
    "\n",
    "# check lists to see if it makes sense\n",
    "cities_with_high_competition, cities_with_low_competition"
   ],
   "metadata": {
    "collapsed": false,
    "pycharm": {
     "name": "#%%\n"
    }
   }
  },
  {
   "cell_type": "code",
   "execution_count": 8,
   "outputs": [
    {
     "data": {
      "text/plain": "                   business_id       name  \\\n590     6_Zf2QsRHCH1RhbzA9inyw  Starbucks   \n613     Iipfa9Kaac9XH5Vo8GQwvg  Starbucks   \n1296    pxuMxh5oC7W-PDN9wwvozg  Starbucks   \n2888    sD2yBIzp0SNYRMD4QfH9Jw  Starbucks   \n3099    J7TZeIXaJFgrSIZzAjQMsw  Starbucks   \n...                        ...        ...   \n150123  pM1M2A14mNXz48KCcQtz2w  Starbucks   \n150127  K_kRU8j8th6yBeLbI94pJQ  Starbucks   \n150233  2f1ZnZg7730yChhV24ARJw  Starbucks   \n150288  _oJ5QA131I_XnyaXAa8nsA  Starbucks   \n150321  AM7O0cwkxm6w_e0Q7-f9FQ  Starbucks   \n\n                                     address          city state postal_code  \\\n590                    8602 Hillsborough Ave         Tampa    FL       33615   \n613                          5956 153 Avenue      Edmonton    AB     T5Y 2W1   \n1296                         219 N Center St          Reno    NV       89501   \n2888                           1018 N 2nd St  Philadelphia    PA       19123   \n3099                           65 W River Rd        Tucson    AZ       85704   \n...                                      ...           ...   ...         ...   \n150123                     4140 Woodland Ave  Philadelphia    PA       19104   \n150127                        555 E Grant Rd        Tucson    AZ       85705   \n150233                        5943 S East St  Indianapolis    IN       46227   \n150288  7800 Colonel H Weir Cook Memorial Dr  Indianapolis    IN       46241   \n150321                          8817 S US-31  Indianapolis    IN       46227   \n\n         latitude   longitude  stars  review_count  is_open  \\\n590     27.996370  -82.580954    3.0            56        1   \n613     53.616147 -113.432424    3.5            10        1   \n1296    39.527772 -119.812518    3.0            44        0   \n2888    39.966510  -75.140377    2.5            13        1   \n3099    32.296291 -110.973648    3.5             6        1   \n...           ...         ...    ...           ...      ...   \n150123  39.946809  -75.206722    3.0            17        1   \n150127  32.251672 -110.962574    3.5             9        1   \n150233  39.679628  -86.148621    3.5            44        1   \n150288  39.715112  -86.297335    2.5             7        0   \n150321  39.638245  -86.128069    4.0            29        1   \n\n                                               attributes          categories  \\\n590     {'BikeParking': 'True', 'BusinessAcceptsCredit...  Coffee & Tea, Food   \n613     {'BusinessParking': \"{'garage': False, 'street...  Coffee & Tea, Food   \n1296    {'BikeParking': 'False', 'Caters': 'False', 'O...  Coffee & Tea, Food   \n2888    {'WiFi': \"u'free'\", 'BusinessParking': \"{u'val...  Food, Coffee & Tea   \n3099        {'OutdoorSeating': 'True', 'WiFi': \"u'free'\"}  Coffee & Tea, Food   \n...                                                   ...                 ...   \n150123  {'BusinessAcceptsCreditCards': 'True', 'Restau...  Food, Coffee & Tea   \n150127  {'RestaurantsTakeOut': 'True', 'BusinessParkin...  Coffee & Tea, Food   \n150233  {'WiFi': \"'free'\", 'BusinessAcceptsCreditCards...  Coffee & Tea, Food   \n150288  {'BusinessParking': \"{'garage': False, 'street...  Food, Coffee & Tea   \n150321  {'RestaurantsPriceRange2': '1', 'Caters': 'Fal...  Food, Coffee & Tea   \n\n                                                    hours competition  \n590     {'Monday': '5:30-21:0', 'Tuesday': '5:30-21:0'...        high  \n613     {'Monday': '5:30-22:0', 'Tuesday': '5:30-22:0'...        high  \n1296    {'Monday': '5:30-19:0', 'Tuesday': '5:30-19:0'...        high  \n2888    {'Monday': '6:0-17:0', 'Tuesday': '6:0-17:0', ...        high  \n3099    {'Monday': '5:0-20:0', 'Tuesday': '5:0-20:0', ...        high  \n...                                                   ...         ...  \n150123  {'Monday': '0:0-0:0', 'Tuesday': '7:0-23:0', '...        high  \n150127  {'Monday': '6:0-19:0', 'Tuesday': '6:0-19:0', ...        high  \n150233  {'Monday': '5:0-21:0', 'Tuesday': '5:0-21:0', ...        high  \n150288  {'Monday': '0:0-0:0', 'Tuesday': '0:0-0:0', 'W...        high  \n150321  {'Monday': '6:0-21:0', 'Tuesday': '6:0-21:0', ...        high  \n\n[380 rows x 15 columns]",
      "text/html": "<div>\n<style scoped>\n    .dataframe tbody tr th:only-of-type {\n        vertical-align: middle;\n    }\n\n    .dataframe tbody tr th {\n        vertical-align: top;\n    }\n\n    .dataframe thead th {\n        text-align: right;\n    }\n</style>\n<table border=\"1\" class=\"dataframe\">\n  <thead>\n    <tr style=\"text-align: right;\">\n      <th></th>\n      <th>business_id</th>\n      <th>name</th>\n      <th>address</th>\n      <th>city</th>\n      <th>state</th>\n      <th>postal_code</th>\n      <th>latitude</th>\n      <th>longitude</th>\n      <th>stars</th>\n      <th>review_count</th>\n      <th>is_open</th>\n      <th>attributes</th>\n      <th>categories</th>\n      <th>hours</th>\n      <th>competition</th>\n    </tr>\n  </thead>\n  <tbody>\n    <tr>\n      <th>590</th>\n      <td>6_Zf2QsRHCH1RhbzA9inyw</td>\n      <td>Starbucks</td>\n      <td>8602 Hillsborough Ave</td>\n      <td>Tampa</td>\n      <td>FL</td>\n      <td>33615</td>\n      <td>27.996370</td>\n      <td>-82.580954</td>\n      <td>3.0</td>\n      <td>56</td>\n      <td>1</td>\n      <td>{'BikeParking': 'True', 'BusinessAcceptsCredit...</td>\n      <td>Coffee &amp; Tea, Food</td>\n      <td>{'Monday': '5:30-21:0', 'Tuesday': '5:30-21:0'...</td>\n      <td>high</td>\n    </tr>\n    <tr>\n      <th>613</th>\n      <td>Iipfa9Kaac9XH5Vo8GQwvg</td>\n      <td>Starbucks</td>\n      <td>5956 153 Avenue</td>\n      <td>Edmonton</td>\n      <td>AB</td>\n      <td>T5Y 2W1</td>\n      <td>53.616147</td>\n      <td>-113.432424</td>\n      <td>3.5</td>\n      <td>10</td>\n      <td>1</td>\n      <td>{'BusinessParking': \"{'garage': False, 'street...</td>\n      <td>Coffee &amp; Tea, Food</td>\n      <td>{'Monday': '5:30-22:0', 'Tuesday': '5:30-22:0'...</td>\n      <td>high</td>\n    </tr>\n    <tr>\n      <th>1296</th>\n      <td>pxuMxh5oC7W-PDN9wwvozg</td>\n      <td>Starbucks</td>\n      <td>219 N Center St</td>\n      <td>Reno</td>\n      <td>NV</td>\n      <td>89501</td>\n      <td>39.527772</td>\n      <td>-119.812518</td>\n      <td>3.0</td>\n      <td>44</td>\n      <td>0</td>\n      <td>{'BikeParking': 'False', 'Caters': 'False', 'O...</td>\n      <td>Coffee &amp; Tea, Food</td>\n      <td>{'Monday': '5:30-19:0', 'Tuesday': '5:30-19:0'...</td>\n      <td>high</td>\n    </tr>\n    <tr>\n      <th>2888</th>\n      <td>sD2yBIzp0SNYRMD4QfH9Jw</td>\n      <td>Starbucks</td>\n      <td>1018 N 2nd St</td>\n      <td>Philadelphia</td>\n      <td>PA</td>\n      <td>19123</td>\n      <td>39.966510</td>\n      <td>-75.140377</td>\n      <td>2.5</td>\n      <td>13</td>\n      <td>1</td>\n      <td>{'WiFi': \"u'free'\", 'BusinessParking': \"{u'val...</td>\n      <td>Food, Coffee &amp; Tea</td>\n      <td>{'Monday': '6:0-17:0', 'Tuesday': '6:0-17:0', ...</td>\n      <td>high</td>\n    </tr>\n    <tr>\n      <th>3099</th>\n      <td>J7TZeIXaJFgrSIZzAjQMsw</td>\n      <td>Starbucks</td>\n      <td>65 W River Rd</td>\n      <td>Tucson</td>\n      <td>AZ</td>\n      <td>85704</td>\n      <td>32.296291</td>\n      <td>-110.973648</td>\n      <td>3.5</td>\n      <td>6</td>\n      <td>1</td>\n      <td>{'OutdoorSeating': 'True', 'WiFi': \"u'free'\"}</td>\n      <td>Coffee &amp; Tea, Food</td>\n      <td>{'Monday': '5:0-20:0', 'Tuesday': '5:0-20:0', ...</td>\n      <td>high</td>\n    </tr>\n    <tr>\n      <th>...</th>\n      <td>...</td>\n      <td>...</td>\n      <td>...</td>\n      <td>...</td>\n      <td>...</td>\n      <td>...</td>\n      <td>...</td>\n      <td>...</td>\n      <td>...</td>\n      <td>...</td>\n      <td>...</td>\n      <td>...</td>\n      <td>...</td>\n      <td>...</td>\n      <td>...</td>\n    </tr>\n    <tr>\n      <th>150123</th>\n      <td>pM1M2A14mNXz48KCcQtz2w</td>\n      <td>Starbucks</td>\n      <td>4140 Woodland Ave</td>\n      <td>Philadelphia</td>\n      <td>PA</td>\n      <td>19104</td>\n      <td>39.946809</td>\n      <td>-75.206722</td>\n      <td>3.0</td>\n      <td>17</td>\n      <td>1</td>\n      <td>{'BusinessAcceptsCreditCards': 'True', 'Restau...</td>\n      <td>Food, Coffee &amp; Tea</td>\n      <td>{'Monday': '0:0-0:0', 'Tuesday': '7:0-23:0', '...</td>\n      <td>high</td>\n    </tr>\n    <tr>\n      <th>150127</th>\n      <td>K_kRU8j8th6yBeLbI94pJQ</td>\n      <td>Starbucks</td>\n      <td>555 E Grant Rd</td>\n      <td>Tucson</td>\n      <td>AZ</td>\n      <td>85705</td>\n      <td>32.251672</td>\n      <td>-110.962574</td>\n      <td>3.5</td>\n      <td>9</td>\n      <td>1</td>\n      <td>{'RestaurantsTakeOut': 'True', 'BusinessParkin...</td>\n      <td>Coffee &amp; Tea, Food</td>\n      <td>{'Monday': '6:0-19:0', 'Tuesday': '6:0-19:0', ...</td>\n      <td>high</td>\n    </tr>\n    <tr>\n      <th>150233</th>\n      <td>2f1ZnZg7730yChhV24ARJw</td>\n      <td>Starbucks</td>\n      <td>5943 S East St</td>\n      <td>Indianapolis</td>\n      <td>IN</td>\n      <td>46227</td>\n      <td>39.679628</td>\n      <td>-86.148621</td>\n      <td>3.5</td>\n      <td>44</td>\n      <td>1</td>\n      <td>{'WiFi': \"'free'\", 'BusinessAcceptsCreditCards...</td>\n      <td>Coffee &amp; Tea, Food</td>\n      <td>{'Monday': '5:0-21:0', 'Tuesday': '5:0-21:0', ...</td>\n      <td>high</td>\n    </tr>\n    <tr>\n      <th>150288</th>\n      <td>_oJ5QA131I_XnyaXAa8nsA</td>\n      <td>Starbucks</td>\n      <td>7800 Colonel H Weir Cook Memorial Dr</td>\n      <td>Indianapolis</td>\n      <td>IN</td>\n      <td>46241</td>\n      <td>39.715112</td>\n      <td>-86.297335</td>\n      <td>2.5</td>\n      <td>7</td>\n      <td>0</td>\n      <td>{'BusinessParking': \"{'garage': False, 'street...</td>\n      <td>Food, Coffee &amp; Tea</td>\n      <td>{'Monday': '0:0-0:0', 'Tuesday': '0:0-0:0', 'W...</td>\n      <td>high</td>\n    </tr>\n    <tr>\n      <th>150321</th>\n      <td>AM7O0cwkxm6w_e0Q7-f9FQ</td>\n      <td>Starbucks</td>\n      <td>8817 S US-31</td>\n      <td>Indianapolis</td>\n      <td>IN</td>\n      <td>46227</td>\n      <td>39.638245</td>\n      <td>-86.128069</td>\n      <td>4.0</td>\n      <td>29</td>\n      <td>1</td>\n      <td>{'RestaurantsPriceRange2': '1', 'Caters': 'Fal...</td>\n      <td>Food, Coffee &amp; Tea</td>\n      <td>{'Monday': '6:0-21:0', 'Tuesday': '6:0-21:0', ...</td>\n      <td>high</td>\n    </tr>\n  </tbody>\n</table>\n<p>380 rows × 15 columns</p>\n</div>"
     },
     "execution_count": 8,
     "metadata": {},
     "output_type": "execute_result"
    }
   ],
   "source": [
    "# filter database to only stores in the cities with highest and lowest competition\n",
    "starbucks_coffees = starbucks_coffees[starbucks_coffees['city'].isin(cities_with_high_competition + cities_with_low_competition)]\n",
    "\n",
    "# label the stores as having high or low competition\n",
    "starbucks_coffees['competition'] = 'high'\n",
    "starbucks_coffees.loc[starbucks_coffees['city'].isin(cities_with_low_competition), ['competition']] = 'low'\n",
    "\n",
    "# create list for business_id's with high and low competition\n",
    "ids_with_low_competition = starbucks_coffees[starbucks_coffees['competition'] == 'low']['business_id'].tolist()\n",
    "ids_with_high_competition = starbucks_coffees[starbucks_coffees['competition'] == 'high']['business_id'].tolist()\n",
    "\n",
    "# check new dataframe\n",
    "starbucks_coffees"
   ],
   "metadata": {
    "collapsed": false,
    "pycharm": {
     "name": "#%%\n"
    }
   }
  },
  {
   "cell_type": "code",
   "execution_count": 9,
   "outputs": [
    {
     "data": {
      "text/plain": "             review_id  user_id  business_id  stars  useful  funny   cool  \\\ncompetition                                                                 \nhigh             10729    10729        10729  10729   10729  10729  10729   \nlow                509      509          509    509     509    509    509   \n\n              text   date  \ncompetition                \nhigh         10729  10729  \nlow            509    509  ",
      "text/html": "<div>\n<style scoped>\n    .dataframe tbody tr th:only-of-type {\n        vertical-align: middle;\n    }\n\n    .dataframe tbody tr th {\n        vertical-align: top;\n    }\n\n    .dataframe thead th {\n        text-align: right;\n    }\n</style>\n<table border=\"1\" class=\"dataframe\">\n  <thead>\n    <tr style=\"text-align: right;\">\n      <th></th>\n      <th>review_id</th>\n      <th>user_id</th>\n      <th>business_id</th>\n      <th>stars</th>\n      <th>useful</th>\n      <th>funny</th>\n      <th>cool</th>\n      <th>text</th>\n      <th>date</th>\n    </tr>\n    <tr>\n      <th>competition</th>\n      <th></th>\n      <th></th>\n      <th></th>\n      <th></th>\n      <th></th>\n      <th></th>\n      <th></th>\n      <th></th>\n      <th></th>\n    </tr>\n  </thead>\n  <tbody>\n    <tr>\n      <th>high</th>\n      <td>10729</td>\n      <td>10729</td>\n      <td>10729</td>\n      <td>10729</td>\n      <td>10729</td>\n      <td>10729</td>\n      <td>10729</td>\n      <td>10729</td>\n      <td>10729</td>\n    </tr>\n    <tr>\n      <th>low</th>\n      <td>509</td>\n      <td>509</td>\n      <td>509</td>\n      <td>509</td>\n      <td>509</td>\n      <td>509</td>\n      <td>509</td>\n      <td>509</td>\n      <td>509</td>\n    </tr>\n  </tbody>\n</table>\n</div>"
     },
     "execution_count": 9,
     "metadata": {},
     "output_type": "execute_result"
    }
   ],
   "source": [
    "# import reviews data\n",
    "reviews = pd.read_csv('csv_data/yelp_academic_dataset_review.csv')\n",
    "\n",
    "# filter reviews to the starbucks' under analysis\n",
    "reviews = reviews[reviews['business_id'].isin(ids_with_low_competition + ids_with_high_competition)]\n",
    "\n",
    "# label the reviews as having high and low competition\n",
    "reviews['competition'] = 'high'\n",
    "reviews.loc[reviews['business_id'].isin(ids_with_low_competition), ['competition']] = 'low'\n",
    "\n",
    "# check review count for each class\n",
    "reviews.groupby('competition').count()"
   ],
   "metadata": {
    "collapsed": false,
    "pycharm": {
     "name": "#%%\n"
    }
   }
  },
  {
   "cell_type": "code",
   "execution_count": 10,
   "outputs": [
    {
     "data": {
      "text/plain": "             review_id  user_id  business_id  stars  useful  funny  cool  \\\ncompetition                                                                \nhigh               500      500          500    500     500    500   500   \nlow                500      500          500    500     500    500   500   \n\n             text  date  \ncompetition              \nhigh          500   500  \nlow           500   500  ",
      "text/html": "<div>\n<style scoped>\n    .dataframe tbody tr th:only-of-type {\n        vertical-align: middle;\n    }\n\n    .dataframe tbody tr th {\n        vertical-align: top;\n    }\n\n    .dataframe thead th {\n        text-align: right;\n    }\n</style>\n<table border=\"1\" class=\"dataframe\">\n  <thead>\n    <tr style=\"text-align: right;\">\n      <th></th>\n      <th>review_id</th>\n      <th>user_id</th>\n      <th>business_id</th>\n      <th>stars</th>\n      <th>useful</th>\n      <th>funny</th>\n      <th>cool</th>\n      <th>text</th>\n      <th>date</th>\n    </tr>\n    <tr>\n      <th>competition</th>\n      <th></th>\n      <th></th>\n      <th></th>\n      <th></th>\n      <th></th>\n      <th></th>\n      <th></th>\n      <th></th>\n      <th></th>\n    </tr>\n  </thead>\n  <tbody>\n    <tr>\n      <th>high</th>\n      <td>500</td>\n      <td>500</td>\n      <td>500</td>\n      <td>500</td>\n      <td>500</td>\n      <td>500</td>\n      <td>500</td>\n      <td>500</td>\n      <td>500</td>\n    </tr>\n    <tr>\n      <th>low</th>\n      <td>500</td>\n      <td>500</td>\n      <td>500</td>\n      <td>500</td>\n      <td>500</td>\n      <td>500</td>\n      <td>500</td>\n      <td>500</td>\n      <td>500</td>\n    </tr>\n  </tbody>\n</table>\n</div>"
     },
     "execution_count": 10,
     "metadata": {},
     "output_type": "execute_result"
    }
   ],
   "source": [
    "from yelp_functions import balance_classes\n",
    "\n",
    "# sample 500 reviews for each class\n",
    "reviews = balance_classes(reviews, 'competition', 500)\n",
    "\n",
    "# check new review count for each class\n",
    "reviews.groupby('competition').count()"
   ],
   "metadata": {
    "collapsed": false,
    "pycharm": {
     "name": "#%%\n"
    }
   }
  },
  {
   "cell_type": "code",
   "execution_count": 11,
   "outputs": [],
   "source": [
    "from sklearn.model_selection import train_test_split\n",
    "import numpy as np\n",
    "\n",
    "# split the data into training and testing data\n",
    "competition_class = np.array(reviews['competition'].tolist())\n",
    "X_train, X_test, y_train, y_test = train_test_split(reviews[['text']], competition_class, test_size=0.25, random_state=0)"
   ],
   "metadata": {
    "collapsed": false,
    "pycharm": {
     "name": "#%%\n"
    }
   }
  },
  {
   "cell_type": "code",
   "execution_count": 12,
   "outputs": [],
   "source": [
    "from yelp_functions import get_processed_inputs, sum_to_one\n",
    "from sklearn.feature_extraction.text import CountVectorizer\n",
    "\n",
    "# pre-process the inputs\n",
    "bow_train = get_processed_inputs(X_train)\n",
    "\n",
    "# create the BoW representation for the set\n",
    "bow_vec = CountVectorizer(max_features=1024, ngram_range=(1,2))\n",
    "bow_train = sum_to_one(bow_vec.fit_transform(bow_train).toarray())\n",
    "\n",
    "# we now create vectors for testing and validation\n",
    "bow_test = sum_to_one(bow_vec.transform(get_processed_inputs(X_test)).toarray())"
   ],
   "metadata": {
    "collapsed": false,
    "pycharm": {
     "name": "#%%\n"
    }
   }
  },
  {
   "cell_type": "code",
   "execution_count": 15,
   "outputs": [
    {
     "name": "stdout",
     "output_type": "stream",
     "text": [
      "SVM test score: 0.596\n",
      "SVM train score: 0.8386666666666667\n",
      "RF test score: 0.592\n",
      "RF train score: 0.8786666666666667\n",
      "LR test score: 0.544\n",
      "LR train score: 0.6613333333333333\n",
      "NB test score: 0.576\n",
      "NB train score: 0.756\n"
     ]
    }
   ],
   "source": [
    "from sklearn.svm import SVC\n",
    "from sklearn.ensemble import RandomForestClassifier\n",
    "from sklearn.linear_model import LogisticRegression\n",
    "from sklearn.naive_bayes import MultinomialNB\n",
    "\n",
    "# using SVMs for classification\n",
    "svm = SVC(C=0.5).fit(bow_train, y_train)\n",
    "print(\"SVM test score:\", svm.score(bow_test, y_test))\n",
    "print(\"SVM train score:\", svm.score(bow_train, y_train))\n",
    "\n",
    "# using random forests for classification\n",
    "rfc = RandomForestClassifier(max_depth=5, random_state=0).fit(bow_train, y_train)\n",
    "print(\"RF test score:\", rfc.score(bow_test, y_test))\n",
    "print(\"RF train score:\", rfc.score(bow_train, y_train))\n",
    "\n",
    "# using logistic regression for classification\n",
    "lrc = LogisticRegression(random_state=0, max_iter=150, C=0.5).fit(bow_train, y_train)\n",
    "print(\"LR test score:\", lrc.score(bow_test, y_test))\n",
    "print(\"LR train score:\", lrc.score(bow_train, y_train))\n",
    "\n",
    "# using naive bayes for classification\n",
    "nbc = MultinomialNB().fit(bow_train, y_train)\n",
    "print(\"NB test score:\", nbc.score(bow_test, y_test))\n",
    "print(\"NB train score:\", nbc.score(bow_train, y_train))"
   ],
   "metadata": {
    "collapsed": false,
    "pycharm": {
     "name": "#%%\n"
    }
   }
  },
  {
   "cell_type": "code",
   "execution_count": 22,
   "outputs": [],
   "source": [
    "# get the coefficients for linear regression\n",
    "lr_coefficients = lrc.coef_.tolist()[0]\n",
    "\n",
    "# get 10 indexes for most and least import items\n",
    "max_indexes, min_indexes = [], []\n",
    "for i in range(20):\n",
    "    max_idx = np.argmax(lr_coefficients)\n",
    "    min_idx = np.argmin(lr_coefficients)\n",
    "    max_indexes.append(max_idx)\n",
    "    min_indexes.append(min_idx)\n",
    "    lr_coefficients[max_idx] = 0\n",
    "    lr_coefficients[min_idx] = 0"
   ],
   "metadata": {
    "collapsed": false,
    "pycharm": {
     "name": "#%%\n"
    }
   }
  },
  {
   "cell_type": "code",
   "execution_count": 23,
   "outputs": [
    {
     "data": {
      "text/plain": "(array(['work', 'line', 'staff', 'find', 'come', 'minutes', 'tables',\n        'location', 'outdoor', 'people', 'said', 'pretty', 'service',\n        'table', 'morning', 'worst', 'wrong', 'water', 'card', 'stars'],\n       dtype='<U8'),\n array(['drive', 'drinks', 'employees', 'newtown', 'want', 'place',\n        'great', 'target', 'store', 'best starbucks', 'need', 'best',\n        'starbucks', 'bad', 'new', '10', 'perfect', 'drink', 'ice',\n        'plenty'], dtype='<U14'))"
     },
     "execution_count": 23,
     "metadata": {},
     "output_type": "execute_result"
    }
   ],
   "source": [
    "# find words related to high competition\n",
    "high_competition_words = []\n",
    "for index in min_indexes:\n",
    "    test = np.zeros(1024)\n",
    "    test[index] = 1\n",
    "    high_competition_words.append(bow_vec.inverse_transform(test)[0][0])\n",
    "\n",
    "# find words with low expectation users\n",
    "low_competition_words = []\n",
    "for index in max_indexes:\n",
    "    test = np.zeros(1024)\n",
    "    test[index] = 1\n",
    "    low_competition_words.append(bow_vec.inverse_transform(test)[0][0])\n",
    "\n",
    "np.array(high_competition_words), np.array(low_competition_words)"
   ],
   "metadata": {
    "collapsed": false,
    "pycharm": {
     "name": "#%%\n"
    }
   }
  },
  {
   "cell_type": "code",
   "execution_count": null,
   "outputs": [],
   "source": [],
   "metadata": {
    "collapsed": false,
    "pycharm": {
     "name": "#%%\n"
    }
   }
  }
 ],
 "metadata": {
  "kernelspec": {
   "display_name": "Python 3",
   "language": "python",
   "name": "python3"
  },
  "language_info": {
   "codemirror_mode": {
    "name": "ipython",
    "version": 2
   },
   "file_extension": ".py",
   "mimetype": "text/x-python",
   "name": "python",
   "nbconvert_exporter": "python",
   "pygments_lexer": "ipython2",
   "version": "2.7.6"
  }
 },
 "nbformat": 4,
 "nbformat_minor": 0
}