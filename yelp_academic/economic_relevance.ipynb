{
 "cells": [
  {
   "cell_type": "code",
   "execution_count": 18,
   "metadata": {
    "collapsed": true,
    "pycharm": {
     "name": "#%%\n"
    }
   },
   "outputs": [
    {
     "data": {
      "text/plain": "                                                   text\n286   The great Volcker sweepstakes is over.</br></b...\n6696  Orders to U.S. factories for durable goods adv...\n6486  Volume -was 7.25 million shares compared with ...\n1145  Internet banks have run into all kinds of prob...\n6346  The upturn in the area economy has brought Fai...\n...                                                 ...\n4931  The board of directors of Manor Care Inc. has ...\n3264  Just before the stock market closed March 4, a...\n1653  The U.S. and West Germany, recently feuding ov...\n2607  WASHINGTON (AP) -- The gap between the nation'...\n2732  Uncertainty Abounds Around Rate Rise</br></br>...\n\n[6000 rows x 1 columns]",
      "text/html": "<div>\n<style scoped>\n    .dataframe tbody tr th:only-of-type {\n        vertical-align: middle;\n    }\n\n    .dataframe tbody tr th {\n        vertical-align: top;\n    }\n\n    .dataframe thead th {\n        text-align: right;\n    }\n</style>\n<table border=\"1\" class=\"dataframe\">\n  <thead>\n    <tr style=\"text-align: right;\">\n      <th></th>\n      <th>text</th>\n    </tr>\n  </thead>\n  <tbody>\n    <tr>\n      <th>286</th>\n      <td>The great Volcker sweepstakes is over.&lt;/br&gt;&lt;/b...</td>\n    </tr>\n    <tr>\n      <th>6696</th>\n      <td>Orders to U.S. factories for durable goods adv...</td>\n    </tr>\n    <tr>\n      <th>6486</th>\n      <td>Volume -was 7.25 million shares compared with ...</td>\n    </tr>\n    <tr>\n      <th>1145</th>\n      <td>Internet banks have run into all kinds of prob...</td>\n    </tr>\n    <tr>\n      <th>6346</th>\n      <td>The upturn in the area economy has brought Fai...</td>\n    </tr>\n    <tr>\n      <th>...</th>\n      <td>...</td>\n    </tr>\n    <tr>\n      <th>4931</th>\n      <td>The board of directors of Manor Care Inc. has ...</td>\n    </tr>\n    <tr>\n      <th>3264</th>\n      <td>Just before the stock market closed March 4, a...</td>\n    </tr>\n    <tr>\n      <th>1653</th>\n      <td>The U.S. and West Germany, recently feuding ov...</td>\n    </tr>\n    <tr>\n      <th>2607</th>\n      <td>WASHINGTON (AP) -- The gap between the nation'...</td>\n    </tr>\n    <tr>\n      <th>2732</th>\n      <td>Uncertainty Abounds Around Rate Rise&lt;/br&gt;&lt;/br&gt;...</td>\n    </tr>\n  </tbody>\n</table>\n<p>6000 rows × 1 columns</p>\n</div>"
     },
     "execution_count": 18,
     "metadata": {},
     "output_type": "execute_result"
    }
   ],
   "source": [
    "import pandas as pd\n",
    "import numpy as np\n",
    "from sklearn.model_selection import train_test_split\n",
    "\n",
    "# read data for news articles\n",
    "news = pd.read_csv('csv_data/economic_news.csv')\n",
    "X_train, X_test, y_train, y_test = train_test_split(news[['text']], news[['relevance']], test_size = 0.25, random_state=0)\n",
    "\n",
    "# check the text for the train set\n",
    "X_train"
   ]
  },
  {
   "cell_type": "code",
   "execution_count": 19,
   "outputs": [],
   "source": [
    "from yelp_functions import get_processed_inputs, sum_to_one\n",
    "from sklearn.feature_extraction.text import CountVectorizer\n",
    "\n",
    "# use BoW to create vectors\n",
    "bow_vectors = get_processed_inputs(X_train)\n",
    "\n",
    "# create the BoW representation for the set\n",
    "vectorizer = CountVectorizer(max_features=5000)\n",
    "bow_vectors = vectorizer.fit_transform(bow_vectors)\n",
    "\n",
    "# create the array with BoW and normalize it\n",
    "bow_vectors = bow_vectors.toarray()\n",
    "bow_vectors = sum_to_one(bow_vectors)"
   ],
   "metadata": {
    "collapsed": false,
    "pycharm": {
     "name": "#%%\n"
    }
   }
  },
  {
   "cell_type": "code",
   "execution_count": 20,
   "outputs": [
    {
     "name": "stdout",
     "output_type": "stream",
     "text": [
      "LR train score: 0.7038333333333333\n"
     ]
    }
   ],
   "source": [
    "from sklearn.linear_model import LogisticRegression\n",
    "\n",
    "y_train = np.array(y_train['relevance'].tolist())\n",
    "\n",
    "# using logistic regression for classification\n",
    "lrc = LogisticRegression(random_state=0, class_weight='balanced').fit(bow_vectors, y_train)\n",
    "print(\"LR train score:\", lrc.score(bow_vectors, y_train))"
   ],
   "metadata": {
    "collapsed": false,
    "pycharm": {
     "name": "#%%\n"
    }
   }
  },
  {
   "cell_type": "code",
   "execution_count": 21,
   "outputs": [
    {
     "name": "stdout",
     "output_type": "stream",
     "text": [
      "LR test score: 0.6935\n"
     ]
    }
   ],
   "source": [
    "# use BoW to create vectors for testing\n",
    "bow_vectors_test = get_processed_inputs(X_test)\n",
    "bow_vectors_test = vectorizer.transform(bow_vectors_test)\n",
    "\n",
    "# create the array with BoW and normalize it\n",
    "bow_vectors_test = bow_vectors_test.toarray()\n",
    "bow_vectors_test = sum_to_one(bow_vectors_test)\n",
    "\n",
    "# get test accuracy\n",
    "y_test = np.array(y_test['relevance'].tolist())\n",
    "print(\"LR test score:\", lrc.score(bow_vectors_test, y_test))"
   ],
   "metadata": {
    "collapsed": false,
    "pycharm": {
     "name": "#%%\n"
    }
   }
  }
 ],
 "metadata": {
  "kernelspec": {
   "display_name": "Python 3",
   "language": "python",
   "name": "python3"
  },
  "language_info": {
   "codemirror_mode": {
    "name": "ipython",
    "version": 2
   },
   "file_extension": ".py",
   "mimetype": "text/x-python",
   "name": "python",
   "nbconvert_exporter": "python",
   "pygments_lexer": "ipython2",
   "version": "2.7.6"
  }
 },
 "nbformat": 4,
 "nbformat_minor": 0
}