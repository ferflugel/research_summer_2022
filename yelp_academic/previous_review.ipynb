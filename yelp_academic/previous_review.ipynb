{
 "cells": [
  {
   "cell_type": "code",
   "execution_count": 1,
   "metadata": {
    "collapsed": true,
    "pycharm": {
     "name": "#%%\n"
    }
   },
   "outputs": [],
   "source": [
    "import pandas as pd\n",
    "\n",
    "# retrieve data for reviews\n",
    "reviews = pd.read_csv('csv_data/yelp_academic_dataset_review.csv').sort_values(by=['user_id', 'date'])"
   ]
  },
  {
   "cell_type": "code",
   "execution_count": 2,
   "outputs": [
    {
     "data": {
      "text/plain": "                                                 review_id  \\\n1094389                             rJ3CASyRfG-7ZviCBFCJQg   \n2228827                             f-M5V-LeQKIy3U6vQ_FfYQ   \n5798416                             hepOKRE2O5gXDWLKkAjn5w   \n1671443                             PtiOktOk5COHoNjc6K4gcw   \n3130128                             xSRDnEBpog6z0IwltFEDxg   \n...                                                    ...   \n857328                              67tpVRdPI-6OBQHDJl60kA   \n1979549                             GxXQHQzx2kMd01FD5mHgwA   \n2680312                             76BiRS2w9FBEUAnUC8EgZA   \n5972321                             m86ROmbVUDdTbcjkFWrrUQ   \n2923303  We were welcomed at the door. The staff here w...   \n\n                        user_id             business_id  stars  useful  funny  \\\n1094389  ---1lKK3aKOuomHnwAkAow  f19eLfhXqR47Ct8Hz2y_pA    5.0     0.0    0.0   \n2228827  ---2PmXbF47D870stH1jqA  pgO-fORYt4nb5Tj0x1F_aQ    5.0     0.0    0.0   \n5798416  ---2PmXbF47D870stH1jqA  1An4DxtMmvvSe0HX4viRCA    5.0     1.0    0.0   \n1671443  ---2PmXbF47D870stH1jqA  eR7ieJD12PUzsYrP8fw6rQ    5.0     0.0    0.0   \n3130128  ---2PmXbF47D870stH1jqA  HpWi2CRJlxVCYKd8kS0X-A    5.0     5.0    0.0   \n...                         ...                     ...    ...     ...    ...   \n857328   zzzCg-_lpyYE82TlJCdwdw  LttC5xNMFcgOg3bt_MlXTg    5.0     1.0    1.0   \n1979549  zzzGgfvrSJ4AQeKtcgocIw  XyYsl2OyoMi6OMvzsdcVoQ    3.0     0.0    0.0   \n2680312  zzzMBVS73g3ZJ7qL8JyhiA  3FKIev7ZB_KE6XHL9sUJCg    1.0     0.0    0.0   \n5972321  zzzUFM4HFe0SFG0bPjntQA  xe2L_RvBNgkrVburQrfW_Q    5.0     0.0    0.0   \n2923303                     NaN                     NaN    NaN     NaN    NaN   \n\n         cool                                               text  \\\n1094389   0.0  I hard think luxurious experience begins to de...   \n2228827   0.0  Dine there once a week....Great Food, Great Se...   \n5798416   1.0  Dinner here last night...Their 7\" personal pan...   \n1671443   0.0  Great lunch spot @ Citrus Park Mall. Had the 1...   \n3130128   2.0  Met Friends there that we hadn't seen in Years...   \n...       ...                                                ...   \n857328    1.0  McAlister's is a wonderful place.  The owner i...   \n1979549   0.0  We went last nite the hostess and our waitress...   \n2680312   0.0  I was scheduled to have a small wedding recept...   \n5972321   0.0  Go see Jack, at the Shack, in Frontenac!! No j...   \n2923303   NaN                                                NaN   \n\n                        date  previous_stars        previous_user_id  \n1094389  2018-12-19 22:26:22             NaN                     NaN  \n2228827  2012-10-24 13:33:39             5.0  ---1lKK3aKOuomHnwAkAow  \n5798416  2012-10-28 17:16:13             5.0  ---2PmXbF47D870stH1jqA  \n1671443  2012-11-02 00:30:24             5.0  ---2PmXbF47D870stH1jqA  \n3130128  2013-02-17 15:13:21             5.0  ---2PmXbF47D870stH1jqA  \n...                      ...             ...                     ...  \n857328   2014-02-13 05:11:06             1.0  zzz-M4QvkEpUWWPL9RTzLA  \n1979549  2021-03-13 13:42:23             5.0  zzzCg-_lpyYE82TlJCdwdw  \n2680312  2020-07-02 19:42:37             3.0  zzzGgfvrSJ4AQeKtcgocIw  \n5972321  2019-12-15 15:13:52             1.0  zzzMBVS73g3ZJ7qL8JyhiA  \n2923303                  NaN             5.0  zzzUFM4HFe0SFG0bPjntQA  \n\n[6990282 rows x 11 columns]",
      "text/html": "<div>\n<style scoped>\n    .dataframe tbody tr th:only-of-type {\n        vertical-align: middle;\n    }\n\n    .dataframe tbody tr th {\n        vertical-align: top;\n    }\n\n    .dataframe thead th {\n        text-align: right;\n    }\n</style>\n<table border=\"1\" class=\"dataframe\">\n  <thead>\n    <tr style=\"text-align: right;\">\n      <th></th>\n      <th>review_id</th>\n      <th>user_id</th>\n      <th>business_id</th>\n      <th>stars</th>\n      <th>useful</th>\n      <th>funny</th>\n      <th>cool</th>\n      <th>text</th>\n      <th>date</th>\n      <th>previous_stars</th>\n      <th>previous_user_id</th>\n    </tr>\n  </thead>\n  <tbody>\n    <tr>\n      <th>1094389</th>\n      <td>rJ3CASyRfG-7ZviCBFCJQg</td>\n      <td>---1lKK3aKOuomHnwAkAow</td>\n      <td>f19eLfhXqR47Ct8Hz2y_pA</td>\n      <td>5.0</td>\n      <td>0.0</td>\n      <td>0.0</td>\n      <td>0.0</td>\n      <td>I hard think luxurious experience begins to de...</td>\n      <td>2018-12-19 22:26:22</td>\n      <td>NaN</td>\n      <td>NaN</td>\n    </tr>\n    <tr>\n      <th>2228827</th>\n      <td>f-M5V-LeQKIy3U6vQ_FfYQ</td>\n      <td>---2PmXbF47D870stH1jqA</td>\n      <td>pgO-fORYt4nb5Tj0x1F_aQ</td>\n      <td>5.0</td>\n      <td>0.0</td>\n      <td>0.0</td>\n      <td>0.0</td>\n      <td>Dine there once a week....Great Food, Great Se...</td>\n      <td>2012-10-24 13:33:39</td>\n      <td>5.0</td>\n      <td>---1lKK3aKOuomHnwAkAow</td>\n    </tr>\n    <tr>\n      <th>5798416</th>\n      <td>hepOKRE2O5gXDWLKkAjn5w</td>\n      <td>---2PmXbF47D870stH1jqA</td>\n      <td>1An4DxtMmvvSe0HX4viRCA</td>\n      <td>5.0</td>\n      <td>1.0</td>\n      <td>0.0</td>\n      <td>1.0</td>\n      <td>Dinner here last night...Their 7\" personal pan...</td>\n      <td>2012-10-28 17:16:13</td>\n      <td>5.0</td>\n      <td>---2PmXbF47D870stH1jqA</td>\n    </tr>\n    <tr>\n      <th>1671443</th>\n      <td>PtiOktOk5COHoNjc6K4gcw</td>\n      <td>---2PmXbF47D870stH1jqA</td>\n      <td>eR7ieJD12PUzsYrP8fw6rQ</td>\n      <td>5.0</td>\n      <td>0.0</td>\n      <td>0.0</td>\n      <td>0.0</td>\n      <td>Great lunch spot @ Citrus Park Mall. Had the 1...</td>\n      <td>2012-11-02 00:30:24</td>\n      <td>5.0</td>\n      <td>---2PmXbF47D870stH1jqA</td>\n    </tr>\n    <tr>\n      <th>3130128</th>\n      <td>xSRDnEBpog6z0IwltFEDxg</td>\n      <td>---2PmXbF47D870stH1jqA</td>\n      <td>HpWi2CRJlxVCYKd8kS0X-A</td>\n      <td>5.0</td>\n      <td>5.0</td>\n      <td>0.0</td>\n      <td>2.0</td>\n      <td>Met Friends there that we hadn't seen in Years...</td>\n      <td>2013-02-17 15:13:21</td>\n      <td>5.0</td>\n      <td>---2PmXbF47D870stH1jqA</td>\n    </tr>\n    <tr>\n      <th>...</th>\n      <td>...</td>\n      <td>...</td>\n      <td>...</td>\n      <td>...</td>\n      <td>...</td>\n      <td>...</td>\n      <td>...</td>\n      <td>...</td>\n      <td>...</td>\n      <td>...</td>\n      <td>...</td>\n    </tr>\n    <tr>\n      <th>857328</th>\n      <td>67tpVRdPI-6OBQHDJl60kA</td>\n      <td>zzzCg-_lpyYE82TlJCdwdw</td>\n      <td>LttC5xNMFcgOg3bt_MlXTg</td>\n      <td>5.0</td>\n      <td>1.0</td>\n      <td>1.0</td>\n      <td>1.0</td>\n      <td>McAlister's is a wonderful place.  The owner i...</td>\n      <td>2014-02-13 05:11:06</td>\n      <td>1.0</td>\n      <td>zzz-M4QvkEpUWWPL9RTzLA</td>\n    </tr>\n    <tr>\n      <th>1979549</th>\n      <td>GxXQHQzx2kMd01FD5mHgwA</td>\n      <td>zzzGgfvrSJ4AQeKtcgocIw</td>\n      <td>XyYsl2OyoMi6OMvzsdcVoQ</td>\n      <td>3.0</td>\n      <td>0.0</td>\n      <td>0.0</td>\n      <td>0.0</td>\n      <td>We went last nite the hostess and our waitress...</td>\n      <td>2021-03-13 13:42:23</td>\n      <td>5.0</td>\n      <td>zzzCg-_lpyYE82TlJCdwdw</td>\n    </tr>\n    <tr>\n      <th>2680312</th>\n      <td>76BiRS2w9FBEUAnUC8EgZA</td>\n      <td>zzzMBVS73g3ZJ7qL8JyhiA</td>\n      <td>3FKIev7ZB_KE6XHL9sUJCg</td>\n      <td>1.0</td>\n      <td>0.0</td>\n      <td>0.0</td>\n      <td>0.0</td>\n      <td>I was scheduled to have a small wedding recept...</td>\n      <td>2020-07-02 19:42:37</td>\n      <td>3.0</td>\n      <td>zzzGgfvrSJ4AQeKtcgocIw</td>\n    </tr>\n    <tr>\n      <th>5972321</th>\n      <td>m86ROmbVUDdTbcjkFWrrUQ</td>\n      <td>zzzUFM4HFe0SFG0bPjntQA</td>\n      <td>xe2L_RvBNgkrVburQrfW_Q</td>\n      <td>5.0</td>\n      <td>0.0</td>\n      <td>0.0</td>\n      <td>0.0</td>\n      <td>Go see Jack, at the Shack, in Frontenac!! No j...</td>\n      <td>2019-12-15 15:13:52</td>\n      <td>1.0</td>\n      <td>zzzMBVS73g3ZJ7qL8JyhiA</td>\n    </tr>\n    <tr>\n      <th>2923303</th>\n      <td>We were welcomed at the door. The staff here w...</td>\n      <td>NaN</td>\n      <td>NaN</td>\n      <td>NaN</td>\n      <td>NaN</td>\n      <td>NaN</td>\n      <td>NaN</td>\n      <td>NaN</td>\n      <td>NaN</td>\n      <td>5.0</td>\n      <td>zzzUFM4HFe0SFG0bPjntQA</td>\n    </tr>\n  </tbody>\n</table>\n<p>6990282 rows × 11 columns</p>\n</div>"
     },
     "execution_count": 2,
     "metadata": {},
     "output_type": "execute_result"
    }
   ],
   "source": [
    "# update values for previous star and previous user id\n",
    "reviews['previous_stars'] = reviews.stars.shift(1)\n",
    "reviews['previous_user_id'] = reviews.user_id.shift(1)\n",
    "\n",
    "# check the result from data manipulation\n",
    "reviews"
   ],
   "metadata": {
    "collapsed": false,
    "pycharm": {
     "name": "#%%\n"
    }
   }
  },
  {
   "cell_type": "code",
   "execution_count": 3,
   "outputs": [],
   "source": [
    "# delete first reviews from each user\n",
    "reviews = reviews.loc[reviews['user_id'] == reviews['previous_user_id']]\n",
    "reviews = reviews.loc[reviews['stars'] == 3]\n",
    "\n",
    "# calculate the delta in the review rating\n",
    "reviews['delta_stars'] = reviews['stars'] - reviews['previous_stars']\n",
    "\n",
    "# add categories based on delta\n",
    "reviews['class'] = 'A'\n",
    "reviews.loc[reviews['delta_stars'] < 0, 'class'] = 'A'\n",
    "reviews.loc[reviews['delta_stars'] == 0, 'class'] = 'B'\n",
    "reviews.loc[reviews['delta_stars'] > 0, 'class'] = 'C'"
   ],
   "metadata": {
    "collapsed": false,
    "pycharm": {
     "name": "#%%\n"
    }
   }
  },
  {
   "cell_type": "code",
   "execution_count": 4,
   "outputs": [
    {
     "data": {
      "text/plain": "       review_id  user_id  business_id  stars  useful  funny  cool  text  \\\nclass                                                                      \nA           2000     2000         2000   2000    2000   2000  2000  2000   \nB           2000     2000         2000   2000    2000   2000  2000  2000   \nC           2000     2000         2000   2000    2000   2000  2000  2000   \n\n       date  previous_stars  previous_user_id  delta_stars  \nclass                                                       \nA      2000            2000              2000         2000  \nB      2000            2000              2000         2000  \nC      2000            2000              2000         2000  ",
      "text/html": "<div>\n<style scoped>\n    .dataframe tbody tr th:only-of-type {\n        vertical-align: middle;\n    }\n\n    .dataframe tbody tr th {\n        vertical-align: top;\n    }\n\n    .dataframe thead th {\n        text-align: right;\n    }\n</style>\n<table border=\"1\" class=\"dataframe\">\n  <thead>\n    <tr style=\"text-align: right;\">\n      <th></th>\n      <th>review_id</th>\n      <th>user_id</th>\n      <th>business_id</th>\n      <th>stars</th>\n      <th>useful</th>\n      <th>funny</th>\n      <th>cool</th>\n      <th>text</th>\n      <th>date</th>\n      <th>previous_stars</th>\n      <th>previous_user_id</th>\n      <th>delta_stars</th>\n    </tr>\n    <tr>\n      <th>class</th>\n      <th></th>\n      <th></th>\n      <th></th>\n      <th></th>\n      <th></th>\n      <th></th>\n      <th></th>\n      <th></th>\n      <th></th>\n      <th></th>\n      <th></th>\n      <th></th>\n    </tr>\n  </thead>\n  <tbody>\n    <tr>\n      <th>A</th>\n      <td>2000</td>\n      <td>2000</td>\n      <td>2000</td>\n      <td>2000</td>\n      <td>2000</td>\n      <td>2000</td>\n      <td>2000</td>\n      <td>2000</td>\n      <td>2000</td>\n      <td>2000</td>\n      <td>2000</td>\n      <td>2000</td>\n    </tr>\n    <tr>\n      <th>B</th>\n      <td>2000</td>\n      <td>2000</td>\n      <td>2000</td>\n      <td>2000</td>\n      <td>2000</td>\n      <td>2000</td>\n      <td>2000</td>\n      <td>2000</td>\n      <td>2000</td>\n      <td>2000</td>\n      <td>2000</td>\n      <td>2000</td>\n    </tr>\n    <tr>\n      <th>C</th>\n      <td>2000</td>\n      <td>2000</td>\n      <td>2000</td>\n      <td>2000</td>\n      <td>2000</td>\n      <td>2000</td>\n      <td>2000</td>\n      <td>2000</td>\n      <td>2000</td>\n      <td>2000</td>\n      <td>2000</td>\n      <td>2000</td>\n    </tr>\n  </tbody>\n</table>\n</div>"
     },
     "execution_count": 4,
     "metadata": {},
     "output_type": "execute_result"
    }
   ],
   "source": [
    "# reduce the dataset to 5000 reviews of each category\n",
    "sampled_reviews = reviews.groupby('class').apply(lambda x: x.sample(2000, random_state=0).reset_index(drop=True))\n",
    "sampled_reviews = sampled_reviews.droplevel(level=0)\n",
    "\n",
    "# check if the sampling went well\n",
    "sampled_reviews.groupby('class').count()"
   ],
   "metadata": {
    "collapsed": false,
    "pycharm": {
     "name": "#%%\n"
    }
   }
  },
  {
   "cell_type": "code",
   "execution_count": 5,
   "outputs": [],
   "source": [
    "from spacy.lang.en import English\n",
    "from spacy.lang.en.stop_words import STOP_WORDS\n",
    "import unidecode\n",
    "\n",
    "# strip accents and use lowercase for all the text\n",
    "sampled_reviews['text'] = [unidecode.unidecode(review_text).lower() for review_text in sampled_reviews['text']]\n",
    "\n",
    "# tokenize the reviews using spaCy\n",
    "spacy_tokenizer = English()\n",
    "sampled_reviews['spacy_token'] = [[token.text for token in spacy_tokenizer(review_text)] for review_text in sampled_reviews['text']]\n",
    "\n",
    "# remove stop words\n",
    "sampled_reviews['spacy_token'] = [list(filter(lambda word: word not in STOP_WORDS, list_of_tokens)) for list_of_tokens in sampled_reviews['spacy_token']]\n",
    "\n",
    "# create a list with inputs in the ideal format for BoW and TF-IDF\n",
    "pre_processed_inputs = [' '.join(review) for review in sampled_reviews['spacy_token'].tolist()]"
   ],
   "metadata": {
    "collapsed": false,
    "pycharm": {
     "name": "#%%\n"
    }
   }
  },
  {
   "cell_type": "code",
   "execution_count": 8,
   "outputs": [],
   "source": [
    "from sklearn.feature_extraction.text import CountVectorizer\n",
    "\n",
    "# create the BoW representation for the set\n",
    "count_vec = CountVectorizer(max_features=512, ngram_range=(1,2))\n",
    "bow_representation = count_vec.fit_transform(pre_processed_inputs)\n",
    "\n",
    "# create the array with BoW and normalize it\n",
    "bow_array = bow_representation.toarray()\n",
    "bow_normalized = [vector/sum(vector) if sum(vector) != 0 else vector for vector in bow_array]"
   ],
   "metadata": {
    "collapsed": false,
    "pycharm": {
     "name": "#%%\n"
    }
   }
  },
  {
   "cell_type": "code",
   "execution_count": 9,
   "outputs": [
    {
     "name": "stdout",
     "output_type": "stream",
     "text": [
      "KNN test score: 0.32866666666666666\n",
      "KNN train score: 0.45222222222222225\n",
      "SVM test score: 0.36466666666666664\n",
      "SVM train score: 0.8068888888888889\n",
      "RF test score: 0.36\n",
      "RF train score: 0.6662222222222223\n"
     ]
    }
   ],
   "source": [
    "import numpy as np\n",
    "from sklearn.model_selection import train_test_split\n",
    "from sklearn.neighbors import KNeighborsClassifier\n",
    "from sklearn.svm import SVC\n",
    "from sklearn.ensemble import RandomForestClassifier\n",
    "\n",
    "review_group = sampled_reviews['class'].tolist()\n",
    "X_train, X_test, y_train, y_test = train_test_split(np.array(bow_normalized), np.array(review_group), test_size = 0.25, random_state=0)\n",
    "\n",
    "# using KNNs for classification\n",
    "knn = KNeighborsClassifier(n_neighbors=20).fit(X_train, y_train)\n",
    "print(\"KNN test score:\", knn.score(X_test, y_test))\n",
    "print(\"KNN train score:\", knn.score(X_train, y_train))\n",
    "\n",
    "# using SVMs for classification\n",
    "svm = SVC().fit(X_train, y_train)\n",
    "print(\"SVM test score:\", svm.score(X_test, y_test))\n",
    "print(\"SVM train score:\", svm.score(X_train, y_train))\n",
    "\n",
    "# using random forests for classification\n",
    "rfc = RandomForestClassifier(max_depth=6, random_state=0).fit(X_train, y_train)\n",
    "print(\"RF test score:\", rfc.score(X_test, y_test))\n",
    "print(\"RF train score:\", rfc.score(X_train, y_train))"
   ],
   "metadata": {
    "collapsed": false,
    "pycharm": {
     "name": "#%%\n"
    }
   }
  },
  {
   "cell_type": "code",
   "execution_count": 7,
   "outputs": [],
   "source": [],
   "metadata": {
    "collapsed": false,
    "pycharm": {
     "name": "#%%\n"
    }
   }
  }
 ],
 "metadata": {
  "kernelspec": {
   "display_name": "Python 3",
   "language": "python",
   "name": "python3"
  },
  "language_info": {
   "codemirror_mode": {
    "name": "ipython",
    "version": 2
   },
   "file_extension": ".py",
   "mimetype": "text/x-python",
   "name": "python",
   "nbconvert_exporter": "python",
   "pygments_lexer": "ipython2",
   "version": "2.7.6"
  }
 },
 "nbformat": 4,
 "nbformat_minor": 0
}