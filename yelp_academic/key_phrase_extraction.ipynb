{
 "cells": [
  {
   "cell_type": "code",
   "execution_count": 1,
   "outputs": [
    {
     "data": {
      "text/plain": "['z3wkCACUTfarkwVS-A-yvA',\n 'Vb3yGDoHB4QrdZfHzEf6ig',\n 'T3cJe99-zCYgcxu2iwY1KA',\n 'ag0Ko4cAXf1fdKXD52gGeA',\n 'C9rP-btqLgDIBnYuNlKycg',\n 'Ta8vU1VCejBxxgo2cfokYQ',\n '53I1ryVkUben5pTSidKyuw',\n 'QjJChh0CPzGHaoyxszmYCA',\n 'YwE_VkhMPO7a4LXQi3FfRg',\n 'IOBbQDBPTk8bgc1fejdqyw']"
     },
     "execution_count": 1,
     "metadata": {},
     "output_type": "execute_result"
    }
   ],
   "source": [
    "import pandas as pd\n",
    "\n",
    "# import data for users already containing expectations\n",
    "users = pd.read_csv('processed_data/user_expectations.csv')\n",
    "\n",
    "# show data\n",
    "high_exp_users = users.sort_values(by='expectation')['user_id'].tolist()[0:1000]\n",
    "low_exp_users = users.sort_values(by='expectation', ascending=False)['user_id'].tolist()[0:1000]\n",
    "\n",
    "high_exp_users[:10]"
   ],
   "metadata": {
    "collapsed": false,
    "pycharm": {
     "name": "#%%\n"
    }
   }
  },
  {
   "cell_type": "code",
   "execution_count": 2,
   "outputs": [
    {
     "data": {
      "text/plain": "                      review_id                 user_id  \\\n24       lUUhg8ltDsUZ9h0xnwY4Dg  RreNy--tOmXMl1en0wiBOg   \n92       fC415u9adP0Xtamme7hcCw  mEOMAeEonZoUx2nPM3v6fg   \n154      bi6GaeWDGceGv62lXTIKQA  RgtbLaiU22zqaCk20HgbiQ   \n183      a5JHzBrWxRd_OmIvV7znDA  04JlTjJRbcv_kS9xVPhOdg   \n213      Oqh_qiy0kUEYY0IScSYTaQ  dCOonQ7Md1ooief37g1SHw   \n...                         ...                     ...   \n6990174  m_WyTXe6z6FlAzG7qjebEA  uw9cwb4qvH0EKvUh-X_W-w   \n6990210  FFNTjpmp4pR0h7c-rxifaQ  MTiEYQ_LHH3xdxOKoXetfw   \n6990235  kZiKvXxK7o5i7fa32u5Jgw  6jjHo9Lilv3kTy87pm2ycw   \n6990240  rtt1Ymczj-1Lb26JMsY2lA  M1cMsRL4L7IUr9RILDywEQ   \n6990280  i-I4ZOhoX70Nw5H0FwrQUA  YwAMC-jvZ1fvEUum6QkEkw   \n\n                    business_id  stars  useful  funny  cool  \\\n24       cPepkJeRMtHapc_b2Oe_dw    4.0     1.0    0.0   1.0   \n92       f-WhNOSwN1aB4nRFekf01g    4.0     0.0    0.0   0.0   \n154      bjhCtlYHrkgA5Ku8l-rB3g    1.0     1.0    0.0   0.0   \n183      WM3q-7scdPUei6fu4SJFYw    1.0     0.0    0.0   0.0   \n213      rrD5LY3nkyKMg1CYKKZomQ    5.0     0.0    0.0   0.0   \n...                         ...    ...     ...    ...   ...   \n6990174  necj933-7IiKCyMGj6ZWGQ    5.0     8.0    0.0   2.0   \n6990210  Ee5liydIi6qRkN64W3LRwg    5.0     4.0    0.0   1.0   \n6990235  pQAQwhBlSQdG1HuuLuCqXw    5.0    46.0   17.0  45.0   \n6990240  vt_esoDw6HG5ClM12OPkMg    4.0     4.0    3.0   4.0   \n6990280  Rr9kKArrMhSLVE9a53q-aA    5.0     1.0    0.0   0.0   \n\n                                                      text  \\\n24       I was really between 3 and 4 stars for this on...   \n92       Id you haven't been to the Smoothie King cente...   \n154      Very disappointed. We went to eat  at 2:15 on ...   \n183      Went here based on the high ratings and raves ...   \n213      Steve & his partner are the best! Love that he...   \n...                                                    ...   \n6990174  We all need to splurge a little sometimes.  To...   \n6990210  I really enjoyed my first experience floating,...   \n6990235  Just $5 every SUNDAY in October! Do it!\\n\\nOh,...   \n6990240  5 stars for the Bonte waffle, 3 stars for this...   \n6990280  For when I'm feeling like ignoring my calorie-...   \n\n                        date  \n24       2018-07-17 03:30:07  \n92       2015-03-19 00:30:09  \n154      2015-01-04 02:26:46  \n183      2014-11-12 12:41:29  \n213      2015-11-06 16:49:25  \n...                      ...  \n6990174  2016-03-09 16:59:45  \n6990210  2019-05-07 21:10:01  \n6990235  2020-10-11 00:09:30  \n6990240  2009-03-03 20:59:10  \n6990280  2022-01-19 18:59:27  \n\n[193216 rows x 9 columns]",
      "text/html": "<div>\n<style scoped>\n    .dataframe tbody tr th:only-of-type {\n        vertical-align: middle;\n    }\n\n    .dataframe tbody tr th {\n        vertical-align: top;\n    }\n\n    .dataframe thead th {\n        text-align: right;\n    }\n</style>\n<table border=\"1\" class=\"dataframe\">\n  <thead>\n    <tr style=\"text-align: right;\">\n      <th></th>\n      <th>review_id</th>\n      <th>user_id</th>\n      <th>business_id</th>\n      <th>stars</th>\n      <th>useful</th>\n      <th>funny</th>\n      <th>cool</th>\n      <th>text</th>\n      <th>date</th>\n    </tr>\n  </thead>\n  <tbody>\n    <tr>\n      <th>24</th>\n      <td>lUUhg8ltDsUZ9h0xnwY4Dg</td>\n      <td>RreNy--tOmXMl1en0wiBOg</td>\n      <td>cPepkJeRMtHapc_b2Oe_dw</td>\n      <td>4.0</td>\n      <td>1.0</td>\n      <td>0.0</td>\n      <td>1.0</td>\n      <td>I was really between 3 and 4 stars for this on...</td>\n      <td>2018-07-17 03:30:07</td>\n    </tr>\n    <tr>\n      <th>92</th>\n      <td>fC415u9adP0Xtamme7hcCw</td>\n      <td>mEOMAeEonZoUx2nPM3v6fg</td>\n      <td>f-WhNOSwN1aB4nRFekf01g</td>\n      <td>4.0</td>\n      <td>0.0</td>\n      <td>0.0</td>\n      <td>0.0</td>\n      <td>Id you haven't been to the Smoothie King cente...</td>\n      <td>2015-03-19 00:30:09</td>\n    </tr>\n    <tr>\n      <th>154</th>\n      <td>bi6GaeWDGceGv62lXTIKQA</td>\n      <td>RgtbLaiU22zqaCk20HgbiQ</td>\n      <td>bjhCtlYHrkgA5Ku8l-rB3g</td>\n      <td>1.0</td>\n      <td>1.0</td>\n      <td>0.0</td>\n      <td>0.0</td>\n      <td>Very disappointed. We went to eat  at 2:15 on ...</td>\n      <td>2015-01-04 02:26:46</td>\n    </tr>\n    <tr>\n      <th>183</th>\n      <td>a5JHzBrWxRd_OmIvV7znDA</td>\n      <td>04JlTjJRbcv_kS9xVPhOdg</td>\n      <td>WM3q-7scdPUei6fu4SJFYw</td>\n      <td>1.0</td>\n      <td>0.0</td>\n      <td>0.0</td>\n      <td>0.0</td>\n      <td>Went here based on the high ratings and raves ...</td>\n      <td>2014-11-12 12:41:29</td>\n    </tr>\n    <tr>\n      <th>213</th>\n      <td>Oqh_qiy0kUEYY0IScSYTaQ</td>\n      <td>dCOonQ7Md1ooief37g1SHw</td>\n      <td>rrD5LY3nkyKMg1CYKKZomQ</td>\n      <td>5.0</td>\n      <td>0.0</td>\n      <td>0.0</td>\n      <td>0.0</td>\n      <td>Steve &amp; his partner are the best! Love that he...</td>\n      <td>2015-11-06 16:49:25</td>\n    </tr>\n    <tr>\n      <th>...</th>\n      <td>...</td>\n      <td>...</td>\n      <td>...</td>\n      <td>...</td>\n      <td>...</td>\n      <td>...</td>\n      <td>...</td>\n      <td>...</td>\n      <td>...</td>\n    </tr>\n    <tr>\n      <th>6990174</th>\n      <td>m_WyTXe6z6FlAzG7qjebEA</td>\n      <td>uw9cwb4qvH0EKvUh-X_W-w</td>\n      <td>necj933-7IiKCyMGj6ZWGQ</td>\n      <td>5.0</td>\n      <td>8.0</td>\n      <td>0.0</td>\n      <td>2.0</td>\n      <td>We all need to splurge a little sometimes.  To...</td>\n      <td>2016-03-09 16:59:45</td>\n    </tr>\n    <tr>\n      <th>6990210</th>\n      <td>FFNTjpmp4pR0h7c-rxifaQ</td>\n      <td>MTiEYQ_LHH3xdxOKoXetfw</td>\n      <td>Ee5liydIi6qRkN64W3LRwg</td>\n      <td>5.0</td>\n      <td>4.0</td>\n      <td>0.0</td>\n      <td>1.0</td>\n      <td>I really enjoyed my first experience floating,...</td>\n      <td>2019-05-07 21:10:01</td>\n    </tr>\n    <tr>\n      <th>6990235</th>\n      <td>kZiKvXxK7o5i7fa32u5Jgw</td>\n      <td>6jjHo9Lilv3kTy87pm2ycw</td>\n      <td>pQAQwhBlSQdG1HuuLuCqXw</td>\n      <td>5.0</td>\n      <td>46.0</td>\n      <td>17.0</td>\n      <td>45.0</td>\n      <td>Just $5 every SUNDAY in October! Do it!\\n\\nOh,...</td>\n      <td>2020-10-11 00:09:30</td>\n    </tr>\n    <tr>\n      <th>6990240</th>\n      <td>rtt1Ymczj-1Lb26JMsY2lA</td>\n      <td>M1cMsRL4L7IUr9RILDywEQ</td>\n      <td>vt_esoDw6HG5ClM12OPkMg</td>\n      <td>4.0</td>\n      <td>4.0</td>\n      <td>3.0</td>\n      <td>4.0</td>\n      <td>5 stars for the Bonte waffle, 3 stars for this...</td>\n      <td>2009-03-03 20:59:10</td>\n    </tr>\n    <tr>\n      <th>6990280</th>\n      <td>i-I4ZOhoX70Nw5H0FwrQUA</td>\n      <td>YwAMC-jvZ1fvEUum6QkEkw</td>\n      <td>Rr9kKArrMhSLVE9a53q-aA</td>\n      <td>5.0</td>\n      <td>1.0</td>\n      <td>0.0</td>\n      <td>0.0</td>\n      <td>For when I'm feeling like ignoring my calorie-...</td>\n      <td>2022-01-19 18:59:27</td>\n    </tr>\n  </tbody>\n</table>\n<p>193216 rows × 9 columns</p>\n</div>"
     },
     "execution_count": 2,
     "metadata": {},
     "output_type": "execute_result"
    }
   ],
   "source": [
    "# import data for reviews and filter it\n",
    "reviews = pd.read_csv('csv_data/yelp_academic_dataset_review.csv')\n",
    "reviews = reviews[reviews['user_id'].isin(high_exp_users + low_exp_users)]\n",
    "\n",
    "# verify number of reviews\n",
    "reviews"
   ],
   "metadata": {
    "collapsed": false,
    "pycharm": {
     "name": "#%%\n"
    }
   }
  },
  {
   "cell_type": "code",
   "execution_count": 14,
   "outputs": [
    {
     "data": {
      "text/plain": "             review_id  user_id  business_id  stars  useful  funny  cool  \\\nexpectation                                                                \nhigh               500      500          500    500     500    500   500   \nlow                500      500          500    500     500    500   500   \n\n             text  date  \nexpectation              \nhigh          500   500  \nlow           500   500  ",
      "text/html": "<div>\n<style scoped>\n    .dataframe tbody tr th:only-of-type {\n        vertical-align: middle;\n    }\n\n    .dataframe tbody tr th {\n        vertical-align: top;\n    }\n\n    .dataframe thead th {\n        text-align: right;\n    }\n</style>\n<table border=\"1\" class=\"dataframe\">\n  <thead>\n    <tr style=\"text-align: right;\">\n      <th></th>\n      <th>review_id</th>\n      <th>user_id</th>\n      <th>business_id</th>\n      <th>stars</th>\n      <th>useful</th>\n      <th>funny</th>\n      <th>cool</th>\n      <th>text</th>\n      <th>date</th>\n    </tr>\n    <tr>\n      <th>expectation</th>\n      <th></th>\n      <th></th>\n      <th></th>\n      <th></th>\n      <th></th>\n      <th></th>\n      <th></th>\n      <th></th>\n      <th></th>\n    </tr>\n  </thead>\n  <tbody>\n    <tr>\n      <th>high</th>\n      <td>500</td>\n      <td>500</td>\n      <td>500</td>\n      <td>500</td>\n      <td>500</td>\n      <td>500</td>\n      <td>500</td>\n      <td>500</td>\n      <td>500</td>\n    </tr>\n    <tr>\n      <th>low</th>\n      <td>500</td>\n      <td>500</td>\n      <td>500</td>\n      <td>500</td>\n      <td>500</td>\n      <td>500</td>\n      <td>500</td>\n      <td>500</td>\n      <td>500</td>\n    </tr>\n  </tbody>\n</table>\n</div>"
     },
     "execution_count": 14,
     "metadata": {},
     "output_type": "execute_result"
    }
   ],
   "source": [
    "# set labels of high and low for the reviews based on the user who made it\n",
    "reviews['expectation'] = 'low'\n",
    "reviews.loc[reviews['user_id'].isin(high_exp_users), ['expectation']] = 'high'\n",
    "\n",
    "# reduce the dataset to 500 reviews of each category\n",
    "reviews = reviews.groupby('expectation').apply(lambda x: x.sample(500, random_state=0).reset_index(drop=True))\n",
    "reviews = reviews.droplevel(level=0)\n",
    "\n",
    "# check if it worked\n",
    "reviews.groupby('expectation').count()"
   ],
   "metadata": {
    "collapsed": false,
    "pycharm": {
     "name": "#%%\n"
    }
   }
  },
  {
   "cell_type": "code",
   "execution_count": 15,
   "outputs": [
    {
     "data": {
      "text/plain": "'Just around the corner of the Piazza comes this unique find! BARCADE! Came here on a Wednesday night, and street parking was easy to find. Atmosphere was industrial, casual, and dim. Pretty open layout with tables and stools for getting groups together. Large bar with an extensive beer menu. Definitely a place to try some brews that are not your typical \"lite\" beers. \\n\\nDid a walkthrough of some of the arcade games, and there were so many! Double Dragon, Punch Out, Paper Boy, Tetris, and Arkanoid'"
     },
     "execution_count": 15,
     "metadata": {},
     "output_type": "execute_result"
    }
   ],
   "source": [
    "high_expectation_reviews_text = ''\n",
    "for text in reviews[reviews['expectation'] == 'high']['text'].tolist():\n",
    "    high_expectation_reviews_text += text\n",
    "\n",
    "low_expectation_reviews_text = ''\n",
    "for text in reviews[reviews['expectation'] == 'low']['text'].tolist():\n",
    "    low_expectation_reviews_text += text\n",
    "\n",
    "high_expectation_reviews_text[:500]"
   ],
   "metadata": {
    "collapsed": false,
    "pycharm": {
     "name": "#%%\n"
    }
   }
  },
  {
   "cell_type": "code",
   "execution_count": 20,
   "outputs": [
    {
     "name": "stdout",
     "output_type": "stream",
     "text": [
      "done part 1\n",
      "done part 2\n"
     ]
    }
   ],
   "source": [
    "import textacy\n",
    "import textacy.extract.keyterms as ke\n",
    "\n",
    "# process the data before inputting it to textrank\n",
    "en = textacy.load_spacy_lang('en_core_web_sm', disable=('parser',))\n",
    "high_expectation_doc = textacy.make_spacy_doc(high_expectation_reviews_text, lang=en)\n",
    "low_expectation_doc = textacy.make_spacy_doc(low_expectation_reviews_text, lang=en)\n",
    "\n",
    "# get the key-phrases\n",
    "high_expectation_kp = [kp for kp, weight in ke.textrank(high_expectation_doc, normalize='lemma', topn=10)]\n",
    "print('done part 1')\n",
    "low_expectation_kp = [kp for kp, weight in ke.textrank(low_expectation_doc, normalize='lemma', topn=10)]\n",
    "print('done part 2')"
   ],
   "metadata": {
    "collapsed": false,
    "pycharm": {
     "name": "#%%\n"
    }
   }
  },
  {
   "cell_type": "code",
   "execution_count": 21,
   "outputs": [
    {
     "name": "stdout",
     "output_type": "stream",
     "text": [
      "High Expectation Key-Phrases: ['convenient plug in', 'good good', 'good french comfort food', 'great food option', 'good non greasy food', 'good solid comfort food', 'good mexican food', 'good indian food', 'good comfort food', 'good chinese food']\n",
      "Low Expectation Key-Phrases: ['walk in', 'good quality food', 'good breakfast place', 'good sushi place', 'good chinese food', 'great bar food', 'good southern comfort food', 'good food Seis', 'good cheesesteak place', 'great little chicken shop']\n"
     ]
    }
   ],
   "source": [
    "print(f'High Expectation Key-Phrases: {high_expectation_kp}')\n",
    "print(f'Low Expectation Key-Phrases: {low_expectation_kp}')"
   ],
   "metadata": {
    "collapsed": false,
    "pycharm": {
     "name": "#%%\n"
    }
   }
  },
  {
   "cell_type": "code",
   "execution_count": null,
   "outputs": [],
   "source": [],
   "metadata": {
    "collapsed": false,
    "pycharm": {
     "name": "#%%\n"
    }
   }
  }
 ],
 "metadata": {
  "kernelspec": {
   "display_name": "Python 3",
   "language": "python",
   "name": "python3"
  },
  "language_info": {
   "codemirror_mode": {
    "name": "ipython",
    "version": 2
   },
   "file_extension": ".py",
   "mimetype": "text/x-python",
   "name": "python",
   "nbconvert_exporter": "python",
   "pygments_lexer": "ipython2",
   "version": "2.7.6"
  }
 },
 "nbformat": 4,
 "nbformat_minor": 0
}