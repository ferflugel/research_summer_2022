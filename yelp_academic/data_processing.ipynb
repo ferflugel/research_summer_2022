{
 "cells": [
  {
   "cell_type": "code",
   "metadata": {
    "collapsed": true,
    "pycharm": {
     "name": "#%%\n"
    }
   },
   "source": [
    "import pandas as pd\n",
    "from spacy.lang.en import English\n",
    "from spacy.lang.en.stop_words import STOP_WORDS\n",
    "import twokenize\n",
    "import unidecode\n",
    "\n",
    "# We now use the data from Indianapolis and go through the NLP pipeline steps\n",
    "reviews = pd.read_csv('csv_data/santa_barbara_reviews.csv')"
   ],
   "execution_count": 23,
   "outputs": []
  },
  {
   "cell_type": "code",
   "execution_count": 24,
   "outputs": [
    {
     "data": {
      "text/plain": "                review_id                 user_id             business_id  \\\n0  ZKvDG2sBvHVdF5oBNUOpAQ  wSTuiTk-sKNdcFyprzZAjg  B5XSoSG3SfvQGtKEGQ1tSQ   \n1  pUycOfUwM8vqX7KjRRhUEA  59MxRhNVhU9MYndMkz0wtw  gebiRewfieSdtt17PTW6Zg   \n2  L0jv8c2FbpWSlfNC6bbUEA  bFPdtzu11Oi0f92EAcjqmg  IDtLPgUrqorrpqSLdfMhZQ   \n3  2u5Skti5mZam_-XTKPelvA  IMd3NQbclta91pFKk3AJZg  qO9dNNIvNbCBd8ZgjxMxgQ   \n4  4zopEEPqfwm-c_FNpeHZYw  JYYYKt6TdVA4ng9lLcXt_g  SZU9c8V2GuREDN5KgyHFJw   \n\n   stars  useful  funny  cool  \\\n0    3.0     1.0    1.0   0.0   \n1    3.0     0.0    0.0   0.0   \n2    5.0     0.0    0.0   0.0   \n3    5.0     0.0    0.0   0.0   \n4    5.0     0.0    0.0   0.0   \n\n                                                text                 date  \\\n0  this easter instead of going to lopez lake we ...  2016-03-30 22:46:33   \n1  had a party of 6 here for hibachi. our waitres...  2016-07-25 07:31:06   \n2  what a great addition to the funk zone!  grab ...  2016-10-13 22:50:47   \n3  farmhouse, rustic, chic.helpful staff with gre...  2017-04-08 00:33:11   \n4  we were a bit weary about trying the shellfish...  2016-05-31 02:14:54   \n\n                                         spacy_token  \\\n0  [this, easter, instead, of, going, to, lopez, ...   \n1  [had, a, party, of, 6, here, for, hibachi, ., ...   \n2  [what, a, great, addition, to, the, funk, zone...   \n3  [farmhouse, ,, rustic, ,, chic.helpful, staff,...   \n4  [we, were, a, bit, weary, about, trying, the, ...   \n\n                                     twokenize_token  \n0  [this, easter, instead, of, going, to, lopez, ...  \n1  [had, a, party, of, 6, here, for, hibachi, ., ...  \n2  [what, a, great, addition, to, the, funk, zone...  \n3  [farmhouse, ,, rustic, ,, chic, ., helpful, st...  \n4  [we, were, a, bit, weary, about, trying, the, ...  ",
      "text/html": "<div>\n<style scoped>\n    .dataframe tbody tr th:only-of-type {\n        vertical-align: middle;\n    }\n\n    .dataframe tbody tr th {\n        vertical-align: top;\n    }\n\n    .dataframe thead th {\n        text-align: right;\n    }\n</style>\n<table border=\"1\" class=\"dataframe\">\n  <thead>\n    <tr style=\"text-align: right;\">\n      <th></th>\n      <th>review_id</th>\n      <th>user_id</th>\n      <th>business_id</th>\n      <th>stars</th>\n      <th>useful</th>\n      <th>funny</th>\n      <th>cool</th>\n      <th>text</th>\n      <th>date</th>\n      <th>spacy_token</th>\n      <th>twokenize_token</th>\n    </tr>\n  </thead>\n  <tbody>\n    <tr>\n      <th>0</th>\n      <td>ZKvDG2sBvHVdF5oBNUOpAQ</td>\n      <td>wSTuiTk-sKNdcFyprzZAjg</td>\n      <td>B5XSoSG3SfvQGtKEGQ1tSQ</td>\n      <td>3.0</td>\n      <td>1.0</td>\n      <td>1.0</td>\n      <td>0.0</td>\n      <td>this easter instead of going to lopez lake we ...</td>\n      <td>2016-03-30 22:46:33</td>\n      <td>[this, easter, instead, of, going, to, lopez, ...</td>\n      <td>[this, easter, instead, of, going, to, lopez, ...</td>\n    </tr>\n    <tr>\n      <th>1</th>\n      <td>pUycOfUwM8vqX7KjRRhUEA</td>\n      <td>59MxRhNVhU9MYndMkz0wtw</td>\n      <td>gebiRewfieSdtt17PTW6Zg</td>\n      <td>3.0</td>\n      <td>0.0</td>\n      <td>0.0</td>\n      <td>0.0</td>\n      <td>had a party of 6 here for hibachi. our waitres...</td>\n      <td>2016-07-25 07:31:06</td>\n      <td>[had, a, party, of, 6, here, for, hibachi, ., ...</td>\n      <td>[had, a, party, of, 6, here, for, hibachi, ., ...</td>\n    </tr>\n    <tr>\n      <th>2</th>\n      <td>L0jv8c2FbpWSlfNC6bbUEA</td>\n      <td>bFPdtzu11Oi0f92EAcjqmg</td>\n      <td>IDtLPgUrqorrpqSLdfMhZQ</td>\n      <td>5.0</td>\n      <td>0.0</td>\n      <td>0.0</td>\n      <td>0.0</td>\n      <td>what a great addition to the funk zone!  grab ...</td>\n      <td>2016-10-13 22:50:47</td>\n      <td>[what, a, great, addition, to, the, funk, zone...</td>\n      <td>[what, a, great, addition, to, the, funk, zone...</td>\n    </tr>\n    <tr>\n      <th>3</th>\n      <td>2u5Skti5mZam_-XTKPelvA</td>\n      <td>IMd3NQbclta91pFKk3AJZg</td>\n      <td>qO9dNNIvNbCBd8ZgjxMxgQ</td>\n      <td>5.0</td>\n      <td>0.0</td>\n      <td>0.0</td>\n      <td>0.0</td>\n      <td>farmhouse, rustic, chic.helpful staff with gre...</td>\n      <td>2017-04-08 00:33:11</td>\n      <td>[farmhouse, ,, rustic, ,, chic.helpful, staff,...</td>\n      <td>[farmhouse, ,, rustic, ,, chic, ., helpful, st...</td>\n    </tr>\n    <tr>\n      <th>4</th>\n      <td>4zopEEPqfwm-c_FNpeHZYw</td>\n      <td>JYYYKt6TdVA4ng9lLcXt_g</td>\n      <td>SZU9c8V2GuREDN5KgyHFJw</td>\n      <td>5.0</td>\n      <td>0.0</td>\n      <td>0.0</td>\n      <td>0.0</td>\n      <td>we were a bit weary about trying the shellfish...</td>\n      <td>2016-05-31 02:14:54</td>\n      <td>[we, were, a, bit, weary, about, trying, the, ...</td>\n      <td>[we, were, a, bit, weary, about, trying, the, ...</td>\n    </tr>\n  </tbody>\n</table>\n</div>"
     },
     "execution_count": 24,
     "metadata": {},
     "output_type": "execute_result"
    }
   ],
   "source": [
    "# removing accents and making the text lowercase\n",
    "reviews['text'] = [unidecode.unidecode(review_text).lower() for review_text in reviews['text']]\n",
    "\n",
    "# tokenizing with spacy\n",
    "spacy_tokenizer = English()\n",
    "reviews['spacy_token'] = [[token.text for token in spacy_tokenizer(review_text)] for review_text in reviews['text']]\n",
    "\n",
    "# tokenizing with twokenize\n",
    "reviews['twokenize_token'] = [twokenize.tokenizeRawTweetText(review_text) for review_text in reviews['text']]\n",
    "\n",
    "reviews.head()  # check results"
   ],
   "metadata": {
    "collapsed": false,
    "pycharm": {
     "name": "#%%\n"
    }
   }
  },
  {
   "cell_type": "code",
   "execution_count": 25,
   "outputs": [
    {
     "data": {
      "text/plain": "                review_id                 user_id             business_id  \\\n0  ZKvDG2sBvHVdF5oBNUOpAQ  wSTuiTk-sKNdcFyprzZAjg  B5XSoSG3SfvQGtKEGQ1tSQ   \n1  pUycOfUwM8vqX7KjRRhUEA  59MxRhNVhU9MYndMkz0wtw  gebiRewfieSdtt17PTW6Zg   \n2  L0jv8c2FbpWSlfNC6bbUEA  bFPdtzu11Oi0f92EAcjqmg  IDtLPgUrqorrpqSLdfMhZQ   \n3  2u5Skti5mZam_-XTKPelvA  IMd3NQbclta91pFKk3AJZg  qO9dNNIvNbCBd8ZgjxMxgQ   \n4  4zopEEPqfwm-c_FNpeHZYw  JYYYKt6TdVA4ng9lLcXt_g  SZU9c8V2GuREDN5KgyHFJw   \n\n   stars  useful  funny  cool  \\\n0    3.0     1.0    1.0   0.0   \n1    3.0     0.0    0.0   0.0   \n2    5.0     0.0    0.0   0.0   \n3    5.0     0.0    0.0   0.0   \n4    5.0     0.0    0.0   0.0   \n\n                                                text                 date  \\\n0  this easter instead of going to lopez lake we ...  2016-03-30 22:46:33   \n1  had a party of 6 here for hibachi. our waitres...  2016-07-25 07:31:06   \n2  what a great addition to the funk zone!  grab ...  2016-10-13 22:50:47   \n3  farmhouse, rustic, chic.helpful staff with gre...  2017-04-08 00:33:11   \n4  we were a bit weary about trying the shellfish...  2016-05-31 02:14:54   \n\n                                         spacy_token  \\\n0  [easter, instead, going, lopez, lake, went, lo...   \n1  [party, 6, hibachi, ., waitress, brought, sepa...   \n2  [great, addition, funk, zone, !,  , grab, bite...   \n3  [farmhouse, ,, rustic, ,, chic.helpful, staff,...   \n4  [bit, weary, trying, shellfish, company, wharf...   \n\n                                     twokenize_token  \n0  [easter, instead, going, lopez, lake, went, lo...  \n1  [party, 6, hibachi, ., waitress, brought, sepa...  \n2  [great, addition, funk, zone, !, grab, bite, ,...  \n3  [farmhouse, ,, rustic, ,, chic, ., helpful, st...  \n4  [bit, weary, trying, shellfish, company, wharf...  ",
      "text/html": "<div>\n<style scoped>\n    .dataframe tbody tr th:only-of-type {\n        vertical-align: middle;\n    }\n\n    .dataframe tbody tr th {\n        vertical-align: top;\n    }\n\n    .dataframe thead th {\n        text-align: right;\n    }\n</style>\n<table border=\"1\" class=\"dataframe\">\n  <thead>\n    <tr style=\"text-align: right;\">\n      <th></th>\n      <th>review_id</th>\n      <th>user_id</th>\n      <th>business_id</th>\n      <th>stars</th>\n      <th>useful</th>\n      <th>funny</th>\n      <th>cool</th>\n      <th>text</th>\n      <th>date</th>\n      <th>spacy_token</th>\n      <th>twokenize_token</th>\n    </tr>\n  </thead>\n  <tbody>\n    <tr>\n      <th>0</th>\n      <td>ZKvDG2sBvHVdF5oBNUOpAQ</td>\n      <td>wSTuiTk-sKNdcFyprzZAjg</td>\n      <td>B5XSoSG3SfvQGtKEGQ1tSQ</td>\n      <td>3.0</td>\n      <td>1.0</td>\n      <td>1.0</td>\n      <td>0.0</td>\n      <td>this easter instead of going to lopez lake we ...</td>\n      <td>2016-03-30 22:46:33</td>\n      <td>[easter, instead, going, lopez, lake, went, lo...</td>\n      <td>[easter, instead, going, lopez, lake, went, lo...</td>\n    </tr>\n    <tr>\n      <th>1</th>\n      <td>pUycOfUwM8vqX7KjRRhUEA</td>\n      <td>59MxRhNVhU9MYndMkz0wtw</td>\n      <td>gebiRewfieSdtt17PTW6Zg</td>\n      <td>3.0</td>\n      <td>0.0</td>\n      <td>0.0</td>\n      <td>0.0</td>\n      <td>had a party of 6 here for hibachi. our waitres...</td>\n      <td>2016-07-25 07:31:06</td>\n      <td>[party, 6, hibachi, ., waitress, brought, sepa...</td>\n      <td>[party, 6, hibachi, ., waitress, brought, sepa...</td>\n    </tr>\n    <tr>\n      <th>2</th>\n      <td>L0jv8c2FbpWSlfNC6bbUEA</td>\n      <td>bFPdtzu11Oi0f92EAcjqmg</td>\n      <td>IDtLPgUrqorrpqSLdfMhZQ</td>\n      <td>5.0</td>\n      <td>0.0</td>\n      <td>0.0</td>\n      <td>0.0</td>\n      <td>what a great addition to the funk zone!  grab ...</td>\n      <td>2016-10-13 22:50:47</td>\n      <td>[great, addition, funk, zone, !,  , grab, bite...</td>\n      <td>[great, addition, funk, zone, !, grab, bite, ,...</td>\n    </tr>\n    <tr>\n      <th>3</th>\n      <td>2u5Skti5mZam_-XTKPelvA</td>\n      <td>IMd3NQbclta91pFKk3AJZg</td>\n      <td>qO9dNNIvNbCBd8ZgjxMxgQ</td>\n      <td>5.0</td>\n      <td>0.0</td>\n      <td>0.0</td>\n      <td>0.0</td>\n      <td>farmhouse, rustic, chic.helpful staff with gre...</td>\n      <td>2017-04-08 00:33:11</td>\n      <td>[farmhouse, ,, rustic, ,, chic.helpful, staff,...</td>\n      <td>[farmhouse, ,, rustic, ,, chic, ., helpful, st...</td>\n    </tr>\n    <tr>\n      <th>4</th>\n      <td>4zopEEPqfwm-c_FNpeHZYw</td>\n      <td>JYYYKt6TdVA4ng9lLcXt_g</td>\n      <td>SZU9c8V2GuREDN5KgyHFJw</td>\n      <td>5.0</td>\n      <td>0.0</td>\n      <td>0.0</td>\n      <td>0.0</td>\n      <td>we were a bit weary about trying the shellfish...</td>\n      <td>2016-05-31 02:14:54</td>\n      <td>[bit, weary, trying, shellfish, company, wharf...</td>\n      <td>[bit, weary, trying, shellfish, company, wharf...</td>\n    </tr>\n  </tbody>\n</table>\n</div>"
     },
     "execution_count": 25,
     "metadata": {},
     "output_type": "execute_result"
    }
   ],
   "source": [
    "# removing stop words\n",
    "reviews['spacy_token'] = [list(filter(lambda word: word not in STOP_WORDS, list_of_tokens)) for list_of_tokens in reviews['spacy_token']]\n",
    "reviews['twokenize_token'] = [list(filter(lambda word: word not in STOP_WORDS, list_of_tokens)) for list_of_tokens in reviews['twokenize_token']]\n",
    "reviews.head()"
   ],
   "metadata": {
    "collapsed": false,
    "pycharm": {
     "name": "#%%\n"
    }
   }
  }
 ],
 "metadata": {
  "kernelspec": {
   "display_name": "Python 3",
   "language": "python",
   "name": "python3"
  },
  "language_info": {
   "codemirror_mode": {
    "name": "ipython",
    "version": 2
   },
   "file_extension": ".py",
   "mimetype": "text/x-python",
   "name": "python",
   "nbconvert_exporter": "python",
   "pygments_lexer": "ipython2",
   "version": "2.7.6"
  }
 },
 "nbformat": 4,
 "nbformat_minor": 0
}