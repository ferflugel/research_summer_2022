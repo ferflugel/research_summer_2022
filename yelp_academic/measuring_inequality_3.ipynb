{
 "cells": [
  {
   "cell_type": "code",
   "execution_count": 3,
   "outputs": [
    {
     "data": {
      "text/plain": "                   business_id  \\\n0       ---kPU91CF4Lq2-WlRu9Lw   \n1       --0iUa4sNDFiZFrAdIWhZQ   \n2       --30_8IhuyMHbSOcNWd6DQ   \n3       --7PUidqRWpRSpXebiyxTg   \n4       --7jw19RH9JKXgFohspgQw   \n...                        ...   \n150341  zznZqH9CiAznbkV6fXyHWA   \n150342  zztOG2cKm87I6Iw_tleZsQ   \n150343  zzu6_r3DxBJuXcjnOYVdTw   \n150344  zzw66H6hVjXQEt0Js3Mo4A   \n150345  zzyx5x0Z7xXWWvWnZFuxlQ   \n\n                                                embedding  \n0       [0.0, 0.0012626262626262606, 0.0, 0.0, 0.00126...  \n1       [0.0, 0.0, 0.0, 0.0, 0.0, 0.0, 0.0, 0.0, 0.0, ...  \n2       [0.0, 0.0, 0.0, 0.0, 0.0, 0.0, 0.0, 0.0, 0.0, ...  \n3       [0.0, 0.0, 0.0, 0.0, 0.0, 0.0, 0.0, 0.0, 0.0, ...  \n4       [0.0, 0.0, 0.0, 0.0, 0.0, 0.0, 0.0, 0.0, 0.0, ...  \n...                                                   ...  \n150341  [0.0, 0.0018939393939393927, 0.0, 0.0, 0.0, 0....  \n150342  [0.0, 0.0, 0.0, 0.0, 0.0, 0.0, 0.0, 0.0, 0.0, ...  \n150343  [0.0, 0.0, 0.0, 0.0, 0.0, 0.0, 0.0, 0.0, 0.0, ...  \n150344  [0.0, 0.0, 0.0, 0.0, 0.0, 0.0, 0.0, 0.0, 0.0, ...  \n150345  [0.0, 0.0, 0.0, 0.0, 0.0, 0.0, 0.0, 0.0, 0.0, ...  \n\n[150346 rows x 2 columns]",
      "text/html": "<div>\n<style scoped>\n    .dataframe tbody tr th:only-of-type {\n        vertical-align: middle;\n    }\n\n    .dataframe tbody tr th {\n        vertical-align: top;\n    }\n\n    .dataframe thead th {\n        text-align: right;\n    }\n</style>\n<table border=\"1\" class=\"dataframe\">\n  <thead>\n    <tr style=\"text-align: right;\">\n      <th></th>\n      <th>business_id</th>\n      <th>embedding</th>\n    </tr>\n  </thead>\n  <tbody>\n    <tr>\n      <th>0</th>\n      <td>---kPU91CF4Lq2-WlRu9Lw</td>\n      <td>[0.0, 0.0012626262626262606, 0.0, 0.0, 0.00126...</td>\n    </tr>\n    <tr>\n      <th>1</th>\n      <td>--0iUa4sNDFiZFrAdIWhZQ</td>\n      <td>[0.0, 0.0, 0.0, 0.0, 0.0, 0.0, 0.0, 0.0, 0.0, ...</td>\n    </tr>\n    <tr>\n      <th>2</th>\n      <td>--30_8IhuyMHbSOcNWd6DQ</td>\n      <td>[0.0, 0.0, 0.0, 0.0, 0.0, 0.0, 0.0, 0.0, 0.0, ...</td>\n    </tr>\n    <tr>\n      <th>3</th>\n      <td>--7PUidqRWpRSpXebiyxTg</td>\n      <td>[0.0, 0.0, 0.0, 0.0, 0.0, 0.0, 0.0, 0.0, 0.0, ...</td>\n    </tr>\n    <tr>\n      <th>4</th>\n      <td>--7jw19RH9JKXgFohspgQw</td>\n      <td>[0.0, 0.0, 0.0, 0.0, 0.0, 0.0, 0.0, 0.0, 0.0, ...</td>\n    </tr>\n    <tr>\n      <th>...</th>\n      <td>...</td>\n      <td>...</td>\n    </tr>\n    <tr>\n      <th>150341</th>\n      <td>zznZqH9CiAznbkV6fXyHWA</td>\n      <td>[0.0, 0.0018939393939393927, 0.0, 0.0, 0.0, 0....</td>\n    </tr>\n    <tr>\n      <th>150342</th>\n      <td>zztOG2cKm87I6Iw_tleZsQ</td>\n      <td>[0.0, 0.0, 0.0, 0.0, 0.0, 0.0, 0.0, 0.0, 0.0, ...</td>\n    </tr>\n    <tr>\n      <th>150343</th>\n      <td>zzu6_r3DxBJuXcjnOYVdTw</td>\n      <td>[0.0, 0.0, 0.0, 0.0, 0.0, 0.0, 0.0, 0.0, 0.0, ...</td>\n    </tr>\n    <tr>\n      <th>150344</th>\n      <td>zzw66H6hVjXQEt0Js3Mo4A</td>\n      <td>[0.0, 0.0, 0.0, 0.0, 0.0, 0.0, 0.0, 0.0, 0.0, ...</td>\n    </tr>\n    <tr>\n      <th>150345</th>\n      <td>zzyx5x0Z7xXWWvWnZFuxlQ</td>\n      <td>[0.0, 0.0, 0.0, 0.0, 0.0, 0.0, 0.0, 0.0, 0.0, ...</td>\n    </tr>\n  </tbody>\n</table>\n<p>150346 rows × 2 columns</p>\n</div>"
     },
     "execution_count": 3,
     "metadata": {},
     "output_type": "execute_result"
    }
   ],
   "source": [
    "import pandas as pd\n",
    "import pickle\n",
    "\n",
    "embeddings = []\n",
    "\n",
    "# read the 3 separate files with information regarding embeddings\n",
    "for file in ['processed_data/all_restaurant_vectors_pt1',\n",
    "             'processed_data/all_restaurant_vectors_pt2',\n",
    "             'processed_data/all_restaurant_vectors_pt3']:\n",
    "\n",
    "    # read file and obtain data for ids and restaurants\n",
    "    with open(file, \"rb\") as pickle_file:\n",
    "        restaurant_vectors = pickle.load(pickle_file)\n",
    "\n",
    "        # add the data to our new lists with all information\n",
    "        ids = restaurant_vectors[0]\n",
    "        embeddings += restaurant_vectors[1]\n",
    "\n",
    "# create dataframe from lists\n",
    "restaurants = {'business_id': ids, 'embedding': embeddings}\n",
    "restaurants = pd.DataFrame(data=restaurants)\n",
    "\n",
    "# show results\n",
    "restaurants"
   ],
   "metadata": {
    "collapsed": false,
    "pycharm": {
     "name": "#%%\n"
    }
   }
  },
  {
   "cell_type": "code",
   "execution_count": 4,
   "outputs": [
    {
     "data": {
      "text/plain": "(150346, 64)"
     },
     "execution_count": 4,
     "metadata": {},
     "output_type": "execute_result"
    }
   ],
   "source": [
    "# import models\n",
    "pca = pickle.load(open('models/price_score_pca.sav', 'rb'))\n",
    "svm = pickle.load(open('models/price_score_model.sav', 'rb'))\n",
    "\n",
    "# reduce the dimensions of the embeddings\n",
    "pca_embedding = pca.transform(restaurants['embedding'].tolist())\n",
    "\n",
    "# check the new embeddings\n",
    "pca_embedding.shape"
   ],
   "metadata": {
    "collapsed": false,
    "pycharm": {
     "name": "#%%\n"
    }
   }
  },
  {
   "cell_type": "code",
   "execution_count": 6,
   "outputs": [
    {
     "data": {
      "text/plain": "(150346,)"
     },
     "execution_count": 6,
     "metadata": {},
     "output_type": "execute_result"
    }
   ],
   "source": [
    "# obtain the price score for every restaurant\n",
    "price_score = svm.predict(pca_embedding)\n",
    "\n",
    "# check the price scores\n",
    "price_score.shape"
   ],
   "metadata": {
    "collapsed": false,
    "pycharm": {
     "name": "#%%\n"
    }
   }
  },
  {
   "cell_type": "code",
   "execution_count": 8,
   "outputs": [
    {
     "data": {
      "text/plain": "<Figure size 432x288 with 1 Axes>",
      "image/png": "[encoded data removed]"
     },
     "metadata": {},
     "output_type": "display_data"
    }
   ],
   "source": [
    "import matplotlib.pyplot as plt\n",
    "import seaborn as sns\n",
    "\n",
    "# add price score to the dataframe\n",
    "restaurants['price_score'] = price_score\n",
    "\n",
    "# get a distribution of the price scores\n",
    "sns.set_style('white')\n",
    "sns.kdeplot(data=restaurants, x='price_score', color=[0.6, 0.6, 1.0], fill=True)\n",
    "plt.show()"
   ],
   "metadata": {
    "collapsed": false,
    "pycharm": {
     "name": "#%%\n"
    }
   }
  },
  {
   "cell_type": "code",
   "execution_count": 10,
   "outputs": [
    {
     "data": {
      "text/plain": "                      review_id                 user_id  \\\n0        KU_O5udG6zpxOg-VcAEodg  mh_-eMZ6K5RLWhZyISBhwA   \n1        BiTunyQ73aT9WBnpR9DZGw  OyoGAe7OKpv6SyGZT5g77Q   \n2        saUsX_uimxRlCVr67Z4Jig  8g_iMtfSiwikVnbP2etR0A   \n3        AqPFMleE6RsU23_auESxiA  _7bHUi9Uuf5__HHc_Q8guQ   \n4        Sx8TMOWLNuJBWer-0pcmoA  bcjbaE6dDog4jkNY91ncLQ   \n...                         ...                     ...   \n6990277  H0RIamZu0B0Ei0P4aeh3sQ  qskILQ3k0I_qcCMI-k6_QQ   \n6990278  shTPgbgdwTHSuU67mGCmZQ  Zo0th2m8Ez4gLSbHftiQvg   \n6990279  YNfNhgZlaaCO5Q_YJR4rEw  mm6E4FbCMwJmb7kPDZ5v2Q   \n6990280  i-I4ZOhoX70Nw5H0FwrQUA  YwAMC-jvZ1fvEUum6QkEkw   \n6990281  RwcKOdEuLRHNJe4M9-qpqg  6JehEvdoCvZPJ_XIxnzIIw   \n\n                    business_id  stars  useful  funny  cool  \\\n0        XQfwVwDr-v0ZS3_CbbE5Xw    3.0     0.0    0.0   0.0   \n1        7ATYjTIgM3jUlt4UM3IypQ    5.0     1.0    0.0   1.0   \n2        YjUWPpI6HXG530lwP-fb2A    3.0     0.0    0.0   0.0   \n3        kxX2SOes4o-D3ZQBkiMRfA    5.0     1.0    0.0   1.0   \n4        e4Vwtrqf-wpJfwesgvdgxQ    4.0     1.0    0.0   1.0   \n...                         ...    ...     ...    ...   ...   \n6990277  jals67o91gcrD4DC81Vk6w    5.0     1.0    2.0   1.0   \n6990278  2vLksaMmSEcGbjI5gywpZA    5.0     2.0    1.0   2.0   \n6990279  R1khUUxidqfaJmcpmGd4aw    4.0     1.0    0.0   0.0   \n6990280  Rr9kKArrMhSLVE9a53q-aA    5.0     1.0    0.0   0.0   \n6990281  VAeEXLbEcI9Emt9KGYq9aA    3.0    10.0    3.0   7.0   \n\n                                                      text  \\\n0        If you decide to eat here, just be aware it is...   \n1        I've taken a lot of spin classes over the year...   \n2        Family diner. Had the buffet. Eclectic assortm...   \n3        Wow!  Yummy, different,  delicious.   Our favo...   \n4        Cute interior and owner (?) gave us tour of up...   \n...                                                    ...   \n6990277  Latest addition to services from ICCU is Apple...   \n6990278  This spot offers a great, affordable east week...   \n6990279  This Home Depot won me over when I needed to g...   \n6990280  For when I'm feeling like ignoring my calorie-...   \n6990281  Located in the 'Walking District' in Nashville...   \n\n                        date  price_score  \n0        2018-07-07 22:09:11     2.063325  \n1        2012-01-03 15:28:18     2.695258  \n2        2014-02-05 20:30:30     1.959730  \n3        2015-01-04 00:01:03     2.165627  \n4        2017-01-14 20:54:15     1.263071  \n...                      ...          ...  \n6990277  2014-12-17 21:45:20     2.549610  \n6990278  2021-03-31 16:55:10     2.824653  \n6990279  2019-12-30 03:56:30     2.534315  \n6990280  2022-01-19 18:59:27     2.042872  \n6990281  2018-01-02 22:50:47     1.575570  \n\n[6990280 rows x 10 columns]",
      "text/html": "<div>\n<style scoped>\n    .dataframe tbody tr th:only-of-type {\n        vertical-align: middle;\n    }\n\n    .dataframe tbody tr th {\n        vertical-align: top;\n    }\n\n    .dataframe thead th {\n        text-align: right;\n    }\n</style>\n<table border=\"1\" class=\"dataframe\">\n  <thead>\n    <tr style=\"text-align: right;\">\n      <th></th>\n      <th>review_id</th>\n      <th>user_id</th>\n      <th>business_id</th>\n      <th>stars</th>\n      <th>useful</th>\n      <th>funny</th>\n      <th>cool</th>\n      <th>text</th>\n      <th>date</th>\n      <th>price_score</th>\n    </tr>\n  </thead>\n  <tbody>\n    <tr>\n      <th>0</th>\n      <td>KU_O5udG6zpxOg-VcAEodg</td>\n      <td>mh_-eMZ6K5RLWhZyISBhwA</td>\n      <td>XQfwVwDr-v0ZS3_CbbE5Xw</td>\n      <td>3.0</td>\n      <td>0.0</td>\n      <td>0.0</td>\n      <td>0.0</td>\n      <td>If you decide to eat here, just be aware it is...</td>\n      <td>2018-07-07 22:09:11</td>\n      <td>2.063325</td>\n    </tr>\n    <tr>\n      <th>1</th>\n      <td>BiTunyQ73aT9WBnpR9DZGw</td>\n      <td>OyoGAe7OKpv6SyGZT5g77Q</td>\n      <td>7ATYjTIgM3jUlt4UM3IypQ</td>\n      <td>5.0</td>\n      <td>1.0</td>\n      <td>0.0</td>\n      <td>1.0</td>\n      <td>I've taken a lot of spin classes over the year...</td>\n      <td>2012-01-03 15:28:18</td>\n      <td>2.695258</td>\n    </tr>\n    <tr>\n      <th>2</th>\n      <td>saUsX_uimxRlCVr67Z4Jig</td>\n      <td>8g_iMtfSiwikVnbP2etR0A</td>\n      <td>YjUWPpI6HXG530lwP-fb2A</td>\n      <td>3.0</td>\n      <td>0.0</td>\n      <td>0.0</td>\n      <td>0.0</td>\n      <td>Family diner. Had the buffet. Eclectic assortm...</td>\n      <td>2014-02-05 20:30:30</td>\n      <td>1.959730</td>\n    </tr>\n    <tr>\n      <th>3</th>\n      <td>AqPFMleE6RsU23_auESxiA</td>\n      <td>_7bHUi9Uuf5__HHc_Q8guQ</td>\n      <td>kxX2SOes4o-D3ZQBkiMRfA</td>\n      <td>5.0</td>\n      <td>1.0</td>\n      <td>0.0</td>\n      <td>1.0</td>\n      <td>Wow!  Yummy, different,  delicious.   Our favo...</td>\n      <td>2015-01-04 00:01:03</td>\n      <td>2.165627</td>\n    </tr>\n    <tr>\n      <th>4</th>\n      <td>Sx8TMOWLNuJBWer-0pcmoA</td>\n      <td>bcjbaE6dDog4jkNY91ncLQ</td>\n      <td>e4Vwtrqf-wpJfwesgvdgxQ</td>\n      <td>4.0</td>\n      <td>1.0</td>\n      <td>0.0</td>\n      <td>1.0</td>\n      <td>Cute interior and owner (?) gave us tour of up...</td>\n      <td>2017-01-14 20:54:15</td>\n      <td>1.263071</td>\n    </tr>\n    <tr>\n      <th>...</th>\n      <td>...</td>\n      <td>...</td>\n      <td>...</td>\n      <td>...</td>\n      <td>...</td>\n      <td>...</td>\n      <td>...</td>\n      <td>...</td>\n      <td>...</td>\n      <td>...</td>\n    </tr>\n    <tr>\n      <th>6990277</th>\n      <td>H0RIamZu0B0Ei0P4aeh3sQ</td>\n      <td>qskILQ3k0I_qcCMI-k6_QQ</td>\n      <td>jals67o91gcrD4DC81Vk6w</td>\n      <td>5.0</td>\n      <td>1.0</td>\n      <td>2.0</td>\n      <td>1.0</td>\n      <td>Latest addition to services from ICCU is Apple...</td>\n      <td>2014-12-17 21:45:20</td>\n      <td>2.549610</td>\n    </tr>\n    <tr>\n      <th>6990278</th>\n      <td>shTPgbgdwTHSuU67mGCmZQ</td>\n      <td>Zo0th2m8Ez4gLSbHftiQvg</td>\n      <td>2vLksaMmSEcGbjI5gywpZA</td>\n      <td>5.0</td>\n      <td>2.0</td>\n      <td>1.0</td>\n      <td>2.0</td>\n      <td>This spot offers a great, affordable east week...</td>\n      <td>2021-03-31 16:55:10</td>\n      <td>2.824653</td>\n    </tr>\n    <tr>\n      <th>6990279</th>\n      <td>YNfNhgZlaaCO5Q_YJR4rEw</td>\n      <td>mm6E4FbCMwJmb7kPDZ5v2Q</td>\n      <td>R1khUUxidqfaJmcpmGd4aw</td>\n      <td>4.0</td>\n      <td>1.0</td>\n      <td>0.0</td>\n      <td>0.0</td>\n      <td>This Home Depot won me over when I needed to g...</td>\n      <td>2019-12-30 03:56:30</td>\n      <td>2.534315</td>\n    </tr>\n    <tr>\n      <th>6990280</th>\n      <td>i-I4ZOhoX70Nw5H0FwrQUA</td>\n      <td>YwAMC-jvZ1fvEUum6QkEkw</td>\n      <td>Rr9kKArrMhSLVE9a53q-aA</td>\n      <td>5.0</td>\n      <td>1.0</td>\n      <td>0.0</td>\n      <td>0.0</td>\n      <td>For when I'm feeling like ignoring my calorie-...</td>\n      <td>2022-01-19 18:59:27</td>\n      <td>2.042872</td>\n    </tr>\n    <tr>\n      <th>6990281</th>\n      <td>RwcKOdEuLRHNJe4M9-qpqg</td>\n      <td>6JehEvdoCvZPJ_XIxnzIIw</td>\n      <td>VAeEXLbEcI9Emt9KGYq9aA</td>\n      <td>3.0</td>\n      <td>10.0</td>\n      <td>3.0</td>\n      <td>7.0</td>\n      <td>Located in the 'Walking District' in Nashville...</td>\n      <td>2018-01-02 22:50:47</td>\n      <td>1.575570</td>\n    </tr>\n  </tbody>\n</table>\n<p>6990280 rows × 10 columns</p>\n</div>"
     },
     "execution_count": 10,
     "metadata": {},
     "output_type": "execute_result"
    }
   ],
   "source": [
    "# import data for reviews\n",
    "reviews = pd.read_csv('csv_data/yelp_academic_dataset_review.csv')\n",
    "\n",
    "# filter the data to reviews of restaurants with a price score\n",
    "reviews = reviews[reviews['business_id'].isin(restaurants['business_id'].tolist())]\n",
    "\n",
    "# transfer information from price score to reviews\n",
    "price_information = dict(zip(restaurants['business_id'].tolist(), restaurants['price_score'].tolist()))\n",
    "reviews['price_score'] = reviews['business_id'].apply(lambda x: price_information.get(x))\n",
    "\n",
    "reviews"
   ],
   "metadata": {
    "collapsed": false,
    "pycharm": {
     "name": "#%%\n"
    }
   }
  },
  {
   "cell_type": "code",
   "execution_count": 11,
   "outputs": [
    {
     "data": {
      "text/plain": "                      review_id                 user_id  \\\n0        KU_O5udG6zpxOg-VcAEodg  mh_-eMZ6K5RLWhZyISBhwA   \n1        BiTunyQ73aT9WBnpR9DZGw  OyoGAe7OKpv6SyGZT5g77Q   \n2        saUsX_uimxRlCVr67Z4Jig  8g_iMtfSiwikVnbP2etR0A   \n3        AqPFMleE6RsU23_auESxiA  _7bHUi9Uuf5__HHc_Q8guQ   \n4        Sx8TMOWLNuJBWer-0pcmoA  bcjbaE6dDog4jkNY91ncLQ   \n...                         ...                     ...   \n6990277  H0RIamZu0B0Ei0P4aeh3sQ  qskILQ3k0I_qcCMI-k6_QQ   \n6990278  shTPgbgdwTHSuU67mGCmZQ  Zo0th2m8Ez4gLSbHftiQvg   \n6990279  YNfNhgZlaaCO5Q_YJR4rEw  mm6E4FbCMwJmb7kPDZ5v2Q   \n6990280  i-I4ZOhoX70Nw5H0FwrQUA  YwAMC-jvZ1fvEUum6QkEkw   \n6990281  RwcKOdEuLRHNJe4M9-qpqg  6JehEvdoCvZPJ_XIxnzIIw   \n\n                    business_id  stars  useful  funny  cool  \\\n0        XQfwVwDr-v0ZS3_CbbE5Xw    3.0     0.0    0.0   0.0   \n1        7ATYjTIgM3jUlt4UM3IypQ    5.0     1.0    0.0   1.0   \n2        YjUWPpI6HXG530lwP-fb2A    3.0     0.0    0.0   0.0   \n3        kxX2SOes4o-D3ZQBkiMRfA    5.0     1.0    0.0   1.0   \n4        e4Vwtrqf-wpJfwesgvdgxQ    4.0     1.0    0.0   1.0   \n...                         ...    ...     ...    ...   ...   \n6990277  jals67o91gcrD4DC81Vk6w    5.0     1.0    2.0   1.0   \n6990278  2vLksaMmSEcGbjI5gywpZA    5.0     2.0    1.0   2.0   \n6990279  R1khUUxidqfaJmcpmGd4aw    4.0     1.0    0.0   0.0   \n6990280  Rr9kKArrMhSLVE9a53q-aA    5.0     1.0    0.0   0.0   \n6990281  VAeEXLbEcI9Emt9KGYq9aA    3.0    10.0    3.0   7.0   \n\n                                                      text  \\\n0        If you decide to eat here, just be aware it is...   \n1        I've taken a lot of spin classes over the year...   \n2        Family diner. Had the buffet. Eclectic assortm...   \n3        Wow!  Yummy, different,  delicious.   Our favo...   \n4        Cute interior and owner (?) gave us tour of up...   \n...                                                    ...   \n6990277  Latest addition to services from ICCU is Apple...   \n6990278  This spot offers a great, affordable east week...   \n6990279  This Home Depot won me over when I needed to g...   \n6990280  For when I'm feeling like ignoring my calorie-...   \n6990281  Located in the 'Walking District' in Nashville...   \n\n                        date  price_score state  \n0        2018-07-07 22:09:11     2.063325    PA  \n1        2012-01-03 15:28:18     2.695258    PA  \n2        2014-02-05 20:30:30     1.959730    AZ  \n3        2015-01-04 00:01:03     2.165627    PA  \n4        2017-01-14 20:54:15     1.263071    LA  \n...                      ...          ...   ...  \n6990277  2014-12-17 21:45:20     2.549610    ID  \n6990278  2021-03-31 16:55:10     2.824653    FL  \n6990279  2019-12-30 03:56:30     2.534315    PA  \n6990280  2022-01-19 18:59:27     2.042872    IN  \n6990281  2018-01-02 22:50:47     1.575570    TN  \n\n[6990280 rows x 11 columns]",
      "text/html": "<div>\n<style scoped>\n    .dataframe tbody tr th:only-of-type {\n        vertical-align: middle;\n    }\n\n    .dataframe tbody tr th {\n        vertical-align: top;\n    }\n\n    .dataframe thead th {\n        text-align: right;\n    }\n</style>\n<table border=\"1\" class=\"dataframe\">\n  <thead>\n    <tr style=\"text-align: right;\">\n      <th></th>\n      <th>review_id</th>\n      <th>user_id</th>\n      <th>business_id</th>\n      <th>stars</th>\n      <th>useful</th>\n      <th>funny</th>\n      <th>cool</th>\n      <th>text</th>\n      <th>date</th>\n      <th>price_score</th>\n      <th>state</th>\n    </tr>\n  </thead>\n  <tbody>\n    <tr>\n      <th>0</th>\n      <td>KU_O5udG6zpxOg-VcAEodg</td>\n      <td>mh_-eMZ6K5RLWhZyISBhwA</td>\n      <td>XQfwVwDr-v0ZS3_CbbE5Xw</td>\n      <td>3.0</td>\n      <td>0.0</td>\n      <td>0.0</td>\n      <td>0.0</td>\n      <td>If you decide to eat here, just be aware it is...</td>\n      <td>2018-07-07 22:09:11</td>\n      <td>2.063325</td>\n      <td>PA</td>\n    </tr>\n    <tr>\n      <th>1</th>\n      <td>BiTunyQ73aT9WBnpR9DZGw</td>\n      <td>OyoGAe7OKpv6SyGZT5g77Q</td>\n      <td>7ATYjTIgM3jUlt4UM3IypQ</td>\n      <td>5.0</td>\n      <td>1.0</td>\n      <td>0.0</td>\n      <td>1.0</td>\n      <td>I've taken a lot of spin classes over the year...</td>\n      <td>2012-01-03 15:28:18</td>\n      <td>2.695258</td>\n      <td>PA</td>\n    </tr>\n    <tr>\n      <th>2</th>\n      <td>saUsX_uimxRlCVr67Z4Jig</td>\n      <td>8g_iMtfSiwikVnbP2etR0A</td>\n      <td>YjUWPpI6HXG530lwP-fb2A</td>\n      <td>3.0</td>\n      <td>0.0</td>\n      <td>0.0</td>\n      <td>0.0</td>\n      <td>Family diner. Had the buffet. Eclectic assortm...</td>\n      <td>2014-02-05 20:30:30</td>\n      <td>1.959730</td>\n      <td>AZ</td>\n    </tr>\n    <tr>\n      <th>3</th>\n      <td>AqPFMleE6RsU23_auESxiA</td>\n      <td>_7bHUi9Uuf5__HHc_Q8guQ</td>\n      <td>kxX2SOes4o-D3ZQBkiMRfA</td>\n      <td>5.0</td>\n      <td>1.0</td>\n      <td>0.0</td>\n      <td>1.0</td>\n      <td>Wow!  Yummy, different,  delicious.   Our favo...</td>\n      <td>2015-01-04 00:01:03</td>\n      <td>2.165627</td>\n      <td>PA</td>\n    </tr>\n    <tr>\n      <th>4</th>\n      <td>Sx8TMOWLNuJBWer-0pcmoA</td>\n      <td>bcjbaE6dDog4jkNY91ncLQ</td>\n      <td>e4Vwtrqf-wpJfwesgvdgxQ</td>\n      <td>4.0</td>\n      <td>1.0</td>\n      <td>0.0</td>\n      <td>1.0</td>\n      <td>Cute interior and owner (?) gave us tour of up...</td>\n      <td>2017-01-14 20:54:15</td>\n      <td>1.263071</td>\n      <td>LA</td>\n    </tr>\n    <tr>\n      <th>...</th>\n      <td>...</td>\n      <td>...</td>\n      <td>...</td>\n      <td>...</td>\n      <td>...</td>\n      <td>...</td>\n      <td>...</td>\n      <td>...</td>\n      <td>...</td>\n      <td>...</td>\n      <td>...</td>\n    </tr>\n    <tr>\n      <th>6990277</th>\n      <td>H0RIamZu0B0Ei0P4aeh3sQ</td>\n      <td>qskILQ3k0I_qcCMI-k6_QQ</td>\n      <td>jals67o91gcrD4DC81Vk6w</td>\n      <td>5.0</td>\n      <td>1.0</td>\n      <td>2.0</td>\n      <td>1.0</td>\n      <td>Latest addition to services from ICCU is Apple...</td>\n      <td>2014-12-17 21:45:20</td>\n      <td>2.549610</td>\n      <td>ID</td>\n    </tr>\n    <tr>\n      <th>6990278</th>\n      <td>shTPgbgdwTHSuU67mGCmZQ</td>\n      <td>Zo0th2m8Ez4gLSbHftiQvg</td>\n      <td>2vLksaMmSEcGbjI5gywpZA</td>\n      <td>5.0</td>\n      <td>2.0</td>\n      <td>1.0</td>\n      <td>2.0</td>\n      <td>This spot offers a great, affordable east week...</td>\n      <td>2021-03-31 16:55:10</td>\n      <td>2.824653</td>\n      <td>FL</td>\n    </tr>\n    <tr>\n      <th>6990279</th>\n      <td>YNfNhgZlaaCO5Q_YJR4rEw</td>\n      <td>mm6E4FbCMwJmb7kPDZ5v2Q</td>\n      <td>R1khUUxidqfaJmcpmGd4aw</td>\n      <td>4.0</td>\n      <td>1.0</td>\n      <td>0.0</td>\n      <td>0.0</td>\n      <td>This Home Depot won me over when I needed to g...</td>\n      <td>2019-12-30 03:56:30</td>\n      <td>2.534315</td>\n      <td>PA</td>\n    </tr>\n    <tr>\n      <th>6990280</th>\n      <td>i-I4ZOhoX70Nw5H0FwrQUA</td>\n      <td>YwAMC-jvZ1fvEUum6QkEkw</td>\n      <td>Rr9kKArrMhSLVE9a53q-aA</td>\n      <td>5.0</td>\n      <td>1.0</td>\n      <td>0.0</td>\n      <td>0.0</td>\n      <td>For when I'm feeling like ignoring my calorie-...</td>\n      <td>2022-01-19 18:59:27</td>\n      <td>2.042872</td>\n      <td>IN</td>\n    </tr>\n    <tr>\n      <th>6990281</th>\n      <td>RwcKOdEuLRHNJe4M9-qpqg</td>\n      <td>6JehEvdoCvZPJ_XIxnzIIw</td>\n      <td>VAeEXLbEcI9Emt9KGYq9aA</td>\n      <td>3.0</td>\n      <td>10.0</td>\n      <td>3.0</td>\n      <td>7.0</td>\n      <td>Located in the 'Walking District' in Nashville...</td>\n      <td>2018-01-02 22:50:47</td>\n      <td>1.575570</td>\n      <td>TN</td>\n    </tr>\n  </tbody>\n</table>\n<p>6990280 rows × 11 columns</p>\n</div>"
     },
     "execution_count": 11,
     "metadata": {},
     "output_type": "execute_result"
    }
   ],
   "source": [
    "# import dataset for businesses\n",
    "businesses = pd.read_csv('csv_data/yelp_academic_dataset_business.csv')\n",
    "\n",
    "# transfer information from states to reviews\n",
    "state_information = dict(zip(businesses['business_id'].tolist(), businesses['state'].tolist()))\n",
    "reviews['state'] = reviews['business_id'].apply(lambda x: state_information.get(x))\n",
    "\n",
    "reviews"
   ],
   "metadata": {
    "collapsed": false,
    "pycharm": {
     "name": "#%%\n"
    }
   }
  },
  {
   "cell_type": "code",
   "execution_count": 14,
   "outputs": [
    {
     "data": {
      "text/plain": "                      review_id                 user_id  \\\n0        KU_O5udG6zpxOg-VcAEodg  mh_-eMZ6K5RLWhZyISBhwA   \n1        BiTunyQ73aT9WBnpR9DZGw  OyoGAe7OKpv6SyGZT5g77Q   \n2        saUsX_uimxRlCVr67Z4Jig  8g_iMtfSiwikVnbP2etR0A   \n3        AqPFMleE6RsU23_auESxiA  _7bHUi9Uuf5__HHc_Q8guQ   \n4        Sx8TMOWLNuJBWer-0pcmoA  bcjbaE6dDog4jkNY91ncLQ   \n...                         ...                     ...   \n6990277  H0RIamZu0B0Ei0P4aeh3sQ  qskILQ3k0I_qcCMI-k6_QQ   \n6990278  shTPgbgdwTHSuU67mGCmZQ  Zo0th2m8Ez4gLSbHftiQvg   \n6990279  YNfNhgZlaaCO5Q_YJR4rEw  mm6E4FbCMwJmb7kPDZ5v2Q   \n6990280  i-I4ZOhoX70Nw5H0FwrQUA  YwAMC-jvZ1fvEUum6QkEkw   \n6990281  RwcKOdEuLRHNJe4M9-qpqg  6JehEvdoCvZPJ_XIxnzIIw   \n\n                    business_id  stars  useful  funny  cool  \\\n0        XQfwVwDr-v0ZS3_CbbE5Xw    3.0     0.0    0.0   0.0   \n1        7ATYjTIgM3jUlt4UM3IypQ    5.0     1.0    0.0   1.0   \n2        YjUWPpI6HXG530lwP-fb2A    3.0     0.0    0.0   0.0   \n3        kxX2SOes4o-D3ZQBkiMRfA    5.0     1.0    0.0   1.0   \n4        e4Vwtrqf-wpJfwesgvdgxQ    4.0     1.0    0.0   1.0   \n...                         ...    ...     ...    ...   ...   \n6990277  jals67o91gcrD4DC81Vk6w    5.0     1.0    2.0   1.0   \n6990278  2vLksaMmSEcGbjI5gywpZA    5.0     2.0    1.0   2.0   \n6990279  R1khUUxidqfaJmcpmGd4aw    4.0     1.0    0.0   0.0   \n6990280  Rr9kKArrMhSLVE9a53q-aA    5.0     1.0    0.0   0.0   \n6990281  VAeEXLbEcI9Emt9KGYq9aA    3.0    10.0    3.0   7.0   \n\n                                                      text  \\\n0        If you decide to eat here, just be aware it is...   \n1        I've taken a lot of spin classes over the year...   \n2        Family diner. Had the buffet. Eclectic assortm...   \n3        Wow!  Yummy, different,  delicious.   Our favo...   \n4        Cute interior and owner (?) gave us tour of up...   \n...                                                    ...   \n6990277  Latest addition to services from ICCU is Apple...   \n6990278  This spot offers a great, affordable east week...   \n6990279  This Home Depot won me over when I needed to g...   \n6990280  For when I'm feeling like ignoring my calorie-...   \n6990281  Located in the 'Walking District' in Nashville...   \n\n                        date  price_score state  \n0        2018-07-07 22:09:11     2.063325    PA  \n1        2012-01-03 15:28:18     2.695258    PA  \n2        2014-02-05 20:30:30     1.959730    AZ  \n3        2015-01-04 00:01:03     2.165627    PA  \n4        2017-01-14 20:54:15     1.263071    LA  \n...                      ...          ...   ...  \n6990277  2014-12-17 21:45:20     2.549610    ID  \n6990278  2021-03-31 16:55:10     2.824653    FL  \n6990279  2019-12-30 03:56:30     2.534315    PA  \n6990280  2022-01-19 18:59:27     2.042872    IN  \n6990281  2018-01-02 22:50:47     1.575570    TN  \n\n[6880548 rows x 11 columns]",
      "text/html": "<div>\n<style scoped>\n    .dataframe tbody tr th:only-of-type {\n        vertical-align: middle;\n    }\n\n    .dataframe tbody tr th {\n        vertical-align: top;\n    }\n\n    .dataframe thead th {\n        text-align: right;\n    }\n</style>\n<table border=\"1\" class=\"dataframe\">\n  <thead>\n    <tr style=\"text-align: right;\">\n      <th></th>\n      <th>review_id</th>\n      <th>user_id</th>\n      <th>business_id</th>\n      <th>stars</th>\n      <th>useful</th>\n      <th>funny</th>\n      <th>cool</th>\n      <th>text</th>\n      <th>date</th>\n      <th>price_score</th>\n      <th>state</th>\n    </tr>\n  </thead>\n  <tbody>\n    <tr>\n      <th>0</th>\n      <td>KU_O5udG6zpxOg-VcAEodg</td>\n      <td>mh_-eMZ6K5RLWhZyISBhwA</td>\n      <td>XQfwVwDr-v0ZS3_CbbE5Xw</td>\n      <td>3.0</td>\n      <td>0.0</td>\n      <td>0.0</td>\n      <td>0.0</td>\n      <td>If you decide to eat here, just be aware it is...</td>\n      <td>2018-07-07 22:09:11</td>\n      <td>2.063325</td>\n      <td>PA</td>\n    </tr>\n    <tr>\n      <th>1</th>\n      <td>BiTunyQ73aT9WBnpR9DZGw</td>\n      <td>OyoGAe7OKpv6SyGZT5g77Q</td>\n      <td>7ATYjTIgM3jUlt4UM3IypQ</td>\n      <td>5.0</td>\n      <td>1.0</td>\n      <td>0.0</td>\n      <td>1.0</td>\n      <td>I've taken a lot of spin classes over the year...</td>\n      <td>2012-01-03 15:28:18</td>\n      <td>2.695258</td>\n      <td>PA</td>\n    </tr>\n    <tr>\n      <th>2</th>\n      <td>saUsX_uimxRlCVr67Z4Jig</td>\n      <td>8g_iMtfSiwikVnbP2etR0A</td>\n      <td>YjUWPpI6HXG530lwP-fb2A</td>\n      <td>3.0</td>\n      <td>0.0</td>\n      <td>0.0</td>\n      <td>0.0</td>\n      <td>Family diner. Had the buffet. Eclectic assortm...</td>\n      <td>2014-02-05 20:30:30</td>\n      <td>1.959730</td>\n      <td>AZ</td>\n    </tr>\n    <tr>\n      <th>3</th>\n      <td>AqPFMleE6RsU23_auESxiA</td>\n      <td>_7bHUi9Uuf5__HHc_Q8guQ</td>\n      <td>kxX2SOes4o-D3ZQBkiMRfA</td>\n      <td>5.0</td>\n      <td>1.0</td>\n      <td>0.0</td>\n      <td>1.0</td>\n      <td>Wow!  Yummy, different,  delicious.   Our favo...</td>\n      <td>2015-01-04 00:01:03</td>\n      <td>2.165627</td>\n      <td>PA</td>\n    </tr>\n    <tr>\n      <th>4</th>\n      <td>Sx8TMOWLNuJBWer-0pcmoA</td>\n      <td>bcjbaE6dDog4jkNY91ncLQ</td>\n      <td>e4Vwtrqf-wpJfwesgvdgxQ</td>\n      <td>4.0</td>\n      <td>1.0</td>\n      <td>0.0</td>\n      <td>1.0</td>\n      <td>Cute interior and owner (?) gave us tour of up...</td>\n      <td>2017-01-14 20:54:15</td>\n      <td>1.263071</td>\n      <td>LA</td>\n    </tr>\n    <tr>\n      <th>...</th>\n      <td>...</td>\n      <td>...</td>\n      <td>...</td>\n      <td>...</td>\n      <td>...</td>\n      <td>...</td>\n      <td>...</td>\n      <td>...</td>\n      <td>...</td>\n      <td>...</td>\n      <td>...</td>\n    </tr>\n    <tr>\n      <th>6990277</th>\n      <td>H0RIamZu0B0Ei0P4aeh3sQ</td>\n      <td>qskILQ3k0I_qcCMI-k6_QQ</td>\n      <td>jals67o91gcrD4DC81Vk6w</td>\n      <td>5.0</td>\n      <td>1.0</td>\n      <td>2.0</td>\n      <td>1.0</td>\n      <td>Latest addition to services from ICCU is Apple...</td>\n      <td>2014-12-17 21:45:20</td>\n      <td>2.549610</td>\n      <td>ID</td>\n    </tr>\n    <tr>\n      <th>6990278</th>\n      <td>shTPgbgdwTHSuU67mGCmZQ</td>\n      <td>Zo0th2m8Ez4gLSbHftiQvg</td>\n      <td>2vLksaMmSEcGbjI5gywpZA</td>\n      <td>5.0</td>\n      <td>2.0</td>\n      <td>1.0</td>\n      <td>2.0</td>\n      <td>This spot offers a great, affordable east week...</td>\n      <td>2021-03-31 16:55:10</td>\n      <td>2.824653</td>\n      <td>FL</td>\n    </tr>\n    <tr>\n      <th>6990279</th>\n      <td>YNfNhgZlaaCO5Q_YJR4rEw</td>\n      <td>mm6E4FbCMwJmb7kPDZ5v2Q</td>\n      <td>R1khUUxidqfaJmcpmGd4aw</td>\n      <td>4.0</td>\n      <td>1.0</td>\n      <td>0.0</td>\n      <td>0.0</td>\n      <td>This Home Depot won me over when I needed to g...</td>\n      <td>2019-12-30 03:56:30</td>\n      <td>2.534315</td>\n      <td>PA</td>\n    </tr>\n    <tr>\n      <th>6990280</th>\n      <td>i-I4ZOhoX70Nw5H0FwrQUA</td>\n      <td>YwAMC-jvZ1fvEUum6QkEkw</td>\n      <td>Rr9kKArrMhSLVE9a53q-aA</td>\n      <td>5.0</td>\n      <td>1.0</td>\n      <td>0.0</td>\n      <td>0.0</td>\n      <td>For when I'm feeling like ignoring my calorie-...</td>\n      <td>2022-01-19 18:59:27</td>\n      <td>2.042872</td>\n      <td>IN</td>\n    </tr>\n    <tr>\n      <th>6990281</th>\n      <td>RwcKOdEuLRHNJe4M9-qpqg</td>\n      <td>6JehEvdoCvZPJ_XIxnzIIw</td>\n      <td>VAeEXLbEcI9Emt9KGYq9aA</td>\n      <td>3.0</td>\n      <td>10.0</td>\n      <td>3.0</td>\n      <td>7.0</td>\n      <td>Located in the 'Walking District' in Nashville...</td>\n      <td>2018-01-02 22:50:47</td>\n      <td>1.575570</td>\n      <td>TN</td>\n    </tr>\n  </tbody>\n</table>\n<p>6880548 rows × 11 columns</p>\n</div>"
     },
     "execution_count": 14,
     "metadata": {},
     "output_type": "execute_result"
    }
   ],
   "source": [
    "# states with many reviews\n",
    "states = ['AZ', 'CA', 'DE', 'FL', 'ID', 'IL', 'IN',\n",
    "          'LA', 'MO', 'NJ', 'NV', 'PA', 'TN']\n",
    "\n",
    "# keep only reviews in states with a good amount of reviews\n",
    "reviews = reviews[reviews['state'].isin(states)]\n",
    "\n",
    "reviews"
   ],
   "metadata": {
    "collapsed": false,
    "pycharm": {
     "name": "#%%\n"
    }
   }
  },
  {
   "cell_type": "code",
   "execution_count": 29,
   "outputs": [
    {
     "data": {
      "text/plain": "   state_x         G       state_y postal_code  gini_index_2019  gdppc_2021\n0       AZ  0.250827       Arizona          AZ           0.4591       56511\n1       CA  0.271771    California          CA           0.4866       85546\n2       DE  0.258079      Delaware          DE           0.4509       80446\n3       FL  0.243069       Florida          FL           0.4808       56301\n4       ID  0.250035         Idaho          ID           0.4337       49616\n5       IL  0.264469      Illinois          IL           0.4800       74052\n6       IN  0.257826       Indiana          IN           0.4584       61760\n7       LA  0.236812     Louisiana          LA           0.4978       55213\n8       MO  0.251658      Missouri          MO           0.4633       58356\n9       NJ  0.244926    New Jersey          NJ           0.4782       72524\n10      NV  0.256653        Nevada          NV           0.4710       61375\n11      PA  0.236137  Pennsylvania          PA           0.4745       64751\n12      TN  0.275650     Tennessee          TN           0.4749       59969",
      "text/html": "<div>\n<style scoped>\n    .dataframe tbody tr th:only-of-type {\n        vertical-align: middle;\n    }\n\n    .dataframe tbody tr th {\n        vertical-align: top;\n    }\n\n    .dataframe thead th {\n        text-align: right;\n    }\n</style>\n<table border=\"1\" class=\"dataframe\">\n  <thead>\n    <tr style=\"text-align: right;\">\n      <th></th>\n      <th>state_x</th>\n      <th>G</th>\n      <th>state_y</th>\n      <th>postal_code</th>\n      <th>gini_index_2019</th>\n      <th>gdppc_2021</th>\n    </tr>\n  </thead>\n  <tbody>\n    <tr>\n      <th>0</th>\n      <td>AZ</td>\n      <td>0.250827</td>\n      <td>Arizona</td>\n      <td>AZ</td>\n      <td>0.4591</td>\n      <td>56511</td>\n    </tr>\n    <tr>\n      <th>1</th>\n      <td>CA</td>\n      <td>0.271771</td>\n      <td>California</td>\n      <td>CA</td>\n      <td>0.4866</td>\n      <td>85546</td>\n    </tr>\n    <tr>\n      <th>2</th>\n      <td>DE</td>\n      <td>0.258079</td>\n      <td>Delaware</td>\n      <td>DE</td>\n      <td>0.4509</td>\n      <td>80446</td>\n    </tr>\n    <tr>\n      <th>3</th>\n      <td>FL</td>\n      <td>0.243069</td>\n      <td>Florida</td>\n      <td>FL</td>\n      <td>0.4808</td>\n      <td>56301</td>\n    </tr>\n    <tr>\n      <th>4</th>\n      <td>ID</td>\n      <td>0.250035</td>\n      <td>Idaho</td>\n      <td>ID</td>\n      <td>0.4337</td>\n      <td>49616</td>\n    </tr>\n    <tr>\n      <th>5</th>\n      <td>IL</td>\n      <td>0.264469</td>\n      <td>Illinois</td>\n      <td>IL</td>\n      <td>0.4800</td>\n      <td>74052</td>\n    </tr>\n    <tr>\n      <th>6</th>\n      <td>IN</td>\n      <td>0.257826</td>\n      <td>Indiana</td>\n      <td>IN</td>\n      <td>0.4584</td>\n      <td>61760</td>\n    </tr>\n    <tr>\n      <th>7</th>\n      <td>LA</td>\n      <td>0.236812</td>\n      <td>Louisiana</td>\n      <td>LA</td>\n      <td>0.4978</td>\n      <td>55213</td>\n    </tr>\n    <tr>\n      <th>8</th>\n      <td>MO</td>\n      <td>0.251658</td>\n      <td>Missouri</td>\n      <td>MO</td>\n      <td>0.4633</td>\n      <td>58356</td>\n    </tr>\n    <tr>\n      <th>9</th>\n      <td>NJ</td>\n      <td>0.244926</td>\n      <td>New Jersey</td>\n      <td>NJ</td>\n      <td>0.4782</td>\n      <td>72524</td>\n    </tr>\n    <tr>\n      <th>10</th>\n      <td>NV</td>\n      <td>0.256653</td>\n      <td>Nevada</td>\n      <td>NV</td>\n      <td>0.4710</td>\n      <td>61375</td>\n    </tr>\n    <tr>\n      <th>11</th>\n      <td>PA</td>\n      <td>0.236137</td>\n      <td>Pennsylvania</td>\n      <td>PA</td>\n      <td>0.4745</td>\n      <td>64751</td>\n    </tr>\n    <tr>\n      <th>12</th>\n      <td>TN</td>\n      <td>0.275650</td>\n      <td>Tennessee</td>\n      <td>TN</td>\n      <td>0.4749</td>\n      <td>59969</td>\n    </tr>\n  </tbody>\n</table>\n</div>"
     },
     "execution_count": 29,
     "metadata": {},
     "output_type": "execute_result"
    }
   ],
   "source": [
    "from yelp_functions import gini_index_sample\n",
    "\n",
    "# determine the gini index for each state\n",
    "G_values = dict()\n",
    "\n",
    "# correct the way we calculate the wage score\n",
    "reviews['price_score_power'] = reviews['price_score'] ** 2\n",
    "\n",
    "# fill the dictionary with the G values\n",
    "for state in states:\n",
    "    state_reviews = reviews.loc[reviews['state'] == state]\n",
    "    state_reviews = state_reviews.groupby('user_id').mean()\n",
    "    G_values[state] = gini_index_sample(state_reviews['price_score_power'].tolist())\n",
    "\n",
    "# create a dataframe for the data using G values\n",
    "inequality_data = pd.DataFrame.from_dict(G_values, orient='index').reset_index()\n",
    "inequality_data.rename(columns = {'index': 'state', 0: 'G'}, inplace = True)\n",
    "\n",
    "# merge data from gini index with the inequality dataframe\n",
    "states_data = pd.read_csv('processed_data/states_data.csv')\n",
    "inequality_data = inequality_data.merge(states_data, left_on='state', right_on='postal_code')\n",
    "\n",
    "inequality_data"
   ],
   "metadata": {
    "collapsed": false,
    "pycharm": {
     "name": "#%%\n"
    }
   }
  },
  {
   "cell_type": "code",
   "execution_count": 30,
   "outputs": [
    {
     "data": {
      "text/plain": "<Figure size 432x288 with 1 Axes>",
      "image/png": "[encoded data removed]"
     },
     "metadata": {},
     "output_type": "display_data"
    }
   ],
   "source": [
    "# Plot G data vs gini_index\n",
    "sns.scatterplot(data=inequality_data, x='gini_index_2019', y='G', color=[1.0, 0.6, 0.6])\n",
    "plt.ylabel('G_values')\n",
    "plt.xlim(0.415, 0.51)\n",
    "plt.savefig('figures/gini_index_vs_G_values_v3.png', dpi=250)\n",
    "plt.show()"
   ],
   "metadata": {
    "collapsed": false,
    "pycharm": {
     "name": "#%%\n"
    }
   }
  },
  {
   "cell_type": "code",
   "execution_count": null,
   "outputs": [],
   "source": [],
   "metadata": {
    "collapsed": false,
    "pycharm": {
     "name": "#%%\n"
    }
   }
  }
 ],
 "metadata": {
  "kernelspec": {
   "display_name": "Python 3",
   "language": "python",
   "name": "python3"
  },
  "language_info": {
   "codemirror_mode": {
    "name": "ipython",
    "version": 2
   },
   "file_extension": ".py",
   "mimetype": "text/x-python",
   "name": "python",
   "nbconvert_exporter": "python",
   "pygments_lexer": "ipython2",
   "version": "2.7.6"
  }
 },
 "nbformat": 4,
 "nbformat_minor": 0
}