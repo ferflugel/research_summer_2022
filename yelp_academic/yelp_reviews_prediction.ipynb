{
 "cells": [
  {
   "cell_type": "code",
   "execution_count": 1,
   "metadata": {
    "collapsed": true,
    "pycharm": {
     "name": "#%%\n"
    }
   },
   "outputs": [
    {
     "data": {
      "text/plain": "                      review_id                 user_id  \\\n3014718  EXt74EO6JhK-2dM44f8KiA  JapJQZIsWLn8MpsHOH6J-w   \n6473116  xQ0skqjmT1o4o_QqbVjzeg  Q0Y7P42DgCjCN4gOHpL91Q   \n5966131  2ov0mIOaYUCanSxXiemjJQ  ryBRMyty7d2lxO19q_oPjg   \n2066348  Bv8gCzzR3gdacxeQ8ZrHgw  W1GvlnCar_UjOK3Go3iVYQ   \n2625623  fNKn-QiJ_pZ_kSsWS9UtUQ  Jq_GTGcuw5jU5Izzh1w5Yg   \n...                         ...                     ...   \n6944129  KH1KO8E65II6Y9VhGjWScw  FR8UGOX13F0CAwpTwM2t1g   \n1078136  TNkZ8yawBb0nMPThgw2qcg  16RMPIx3diBsRCvgkshRkg   \n2434958  RFKHSI1_69GffhK-qSl8MA  OIoiAfpuBLvOaOh_GfYUzA   \n6602594  aP-tvUjlD0xNQ7-J5kpa7A  SgdS9i7RxMUxwuV22teaLA   \n2211290  jSUykm5qvsS3NIVQYtz2aw  fA17RgjSINwm1f3xpzyzdA   \n\n                    business_id  stars  useful  funny  cool  \\\n3014718  ySHS6i9RxGZOIkVPcj-ckQ    3.0     0.0    0.0   0.0   \n6473116  Cbktlvci_z4HwdqPUW-5cg    3.0     0.0    0.0   0.0   \n5966131  hJTwBhYBTkiHaDMml_v_sw    1.0     2.0    0.0   0.0   \n2066348  mFWFtD6bXdpLz8bDXe-LHw    5.0     0.0    0.0   0.0   \n2625623  16tjKOvMw_nOgNViq2LwOQ    5.0     0.0    0.0   0.0   \n...                         ...    ...     ...    ...   ...   \n6944129  RBnQoIRF3V-FMJSn_BHy0A    1.0     3.0    2.0   0.0   \n1078136  n5TNfoXg1i8wX5R3iY4WUA    2.0     2.0    0.0   0.0   \n2434958  yID8zq7b4YRcWn5Vcc-MuA    5.0     0.0    0.0   0.0   \n6602594  I_mCFePUG2MGuH-zuws7bA    5.0     0.0    0.0   0.0   \n2211290  gbcWVIt0cSJ2iDYXx9lEOQ    4.0     0.0    0.0   0.0   \n\n                                                      text  \\\n3014718  I had the 6 ounce Filet with the mixed vegetab...   \n6473116  Super friendly service. Fair price on drinks. ...   \n5966131  I swear you could order just a side baguette a...   \n2066348  Just WOW!  My friends know how much I'm a tea ...   \n2625623  I went while on vacation in September. The chi...   \n...                                                    ...   \n6944129  [Sigh]...it pains me to have to give PFC one s...   \n1078136  Everything, from the food to the drinks (great...   \n2434958  I love my neighborhood Vietnamese restaurant! ...   \n6602594  Had been disappointed the last couple of times...   \n2211290  For starters, Green street is beautiful so I a...   \n\n                        date  \n3014718  2014-04-08 00:37:08  \n6473116  2018-09-17 20:43:45  \n5966131  2018-11-06 19:47:46  \n2066348  2019-10-16 14:48:38  \n2625623  2020-01-21 09:25:12  \n...                      ...  \n6944129  2014-04-14 00:00:45  \n1078136  2016-12-15 02:20:47  \n2434958  2019-01-11 23:41:56  \n6602594  2018-10-04 23:44:15  \n2211290  2011-06-03 14:51:19  \n\n[135121 rows x 9 columns]",
      "text/html": "<div>\n<style scoped>\n    .dataframe tbody tr th:only-of-type {\n        vertical-align: middle;\n    }\n\n    .dataframe tbody tr th {\n        vertical-align: top;\n    }\n\n    .dataframe thead th {\n        text-align: right;\n    }\n</style>\n<table border=\"1\" class=\"dataframe\">\n  <thead>\n    <tr style=\"text-align: right;\">\n      <th></th>\n      <th>review_id</th>\n      <th>user_id</th>\n      <th>business_id</th>\n      <th>stars</th>\n      <th>useful</th>\n      <th>funny</th>\n      <th>cool</th>\n      <th>text</th>\n      <th>date</th>\n    </tr>\n  </thead>\n  <tbody>\n    <tr>\n      <th>3014718</th>\n      <td>EXt74EO6JhK-2dM44f8KiA</td>\n      <td>JapJQZIsWLn8MpsHOH6J-w</td>\n      <td>ySHS6i9RxGZOIkVPcj-ckQ</td>\n      <td>3.0</td>\n      <td>0.0</td>\n      <td>0.0</td>\n      <td>0.0</td>\n      <td>I had the 6 ounce Filet with the mixed vegetab...</td>\n      <td>2014-04-08 00:37:08</td>\n    </tr>\n    <tr>\n      <th>6473116</th>\n      <td>xQ0skqjmT1o4o_QqbVjzeg</td>\n      <td>Q0Y7P42DgCjCN4gOHpL91Q</td>\n      <td>Cbktlvci_z4HwdqPUW-5cg</td>\n      <td>3.0</td>\n      <td>0.0</td>\n      <td>0.0</td>\n      <td>0.0</td>\n      <td>Super friendly service. Fair price on drinks. ...</td>\n      <td>2018-09-17 20:43:45</td>\n    </tr>\n    <tr>\n      <th>5966131</th>\n      <td>2ov0mIOaYUCanSxXiemjJQ</td>\n      <td>ryBRMyty7d2lxO19q_oPjg</td>\n      <td>hJTwBhYBTkiHaDMml_v_sw</td>\n      <td>1.0</td>\n      <td>2.0</td>\n      <td>0.0</td>\n      <td>0.0</td>\n      <td>I swear you could order just a side baguette a...</td>\n      <td>2018-11-06 19:47:46</td>\n    </tr>\n    <tr>\n      <th>2066348</th>\n      <td>Bv8gCzzR3gdacxeQ8ZrHgw</td>\n      <td>W1GvlnCar_UjOK3Go3iVYQ</td>\n      <td>mFWFtD6bXdpLz8bDXe-LHw</td>\n      <td>5.0</td>\n      <td>0.0</td>\n      <td>0.0</td>\n      <td>0.0</td>\n      <td>Just WOW!  My friends know how much I'm a tea ...</td>\n      <td>2019-10-16 14:48:38</td>\n    </tr>\n    <tr>\n      <th>2625623</th>\n      <td>fNKn-QiJ_pZ_kSsWS9UtUQ</td>\n      <td>Jq_GTGcuw5jU5Izzh1w5Yg</td>\n      <td>16tjKOvMw_nOgNViq2LwOQ</td>\n      <td>5.0</td>\n      <td>0.0</td>\n      <td>0.0</td>\n      <td>0.0</td>\n      <td>I went while on vacation in September. The chi...</td>\n      <td>2020-01-21 09:25:12</td>\n    </tr>\n    <tr>\n      <th>...</th>\n      <td>...</td>\n      <td>...</td>\n      <td>...</td>\n      <td>...</td>\n      <td>...</td>\n      <td>...</td>\n      <td>...</td>\n      <td>...</td>\n      <td>...</td>\n    </tr>\n    <tr>\n      <th>6944129</th>\n      <td>KH1KO8E65II6Y9VhGjWScw</td>\n      <td>FR8UGOX13F0CAwpTwM2t1g</td>\n      <td>RBnQoIRF3V-FMJSn_BHy0A</td>\n      <td>1.0</td>\n      <td>3.0</td>\n      <td>2.0</td>\n      <td>0.0</td>\n      <td>[Sigh]...it pains me to have to give PFC one s...</td>\n      <td>2014-04-14 00:00:45</td>\n    </tr>\n    <tr>\n      <th>1078136</th>\n      <td>TNkZ8yawBb0nMPThgw2qcg</td>\n      <td>16RMPIx3diBsRCvgkshRkg</td>\n      <td>n5TNfoXg1i8wX5R3iY4WUA</td>\n      <td>2.0</td>\n      <td>2.0</td>\n      <td>0.0</td>\n      <td>0.0</td>\n      <td>Everything, from the food to the drinks (great...</td>\n      <td>2016-12-15 02:20:47</td>\n    </tr>\n    <tr>\n      <th>2434958</th>\n      <td>RFKHSI1_69GffhK-qSl8MA</td>\n      <td>OIoiAfpuBLvOaOh_GfYUzA</td>\n      <td>yID8zq7b4YRcWn5Vcc-MuA</td>\n      <td>5.0</td>\n      <td>0.0</td>\n      <td>0.0</td>\n      <td>0.0</td>\n      <td>I love my neighborhood Vietnamese restaurant! ...</td>\n      <td>2019-01-11 23:41:56</td>\n    </tr>\n    <tr>\n      <th>6602594</th>\n      <td>aP-tvUjlD0xNQ7-J5kpa7A</td>\n      <td>SgdS9i7RxMUxwuV22teaLA</td>\n      <td>I_mCFePUG2MGuH-zuws7bA</td>\n      <td>5.0</td>\n      <td>0.0</td>\n      <td>0.0</td>\n      <td>0.0</td>\n      <td>Had been disappointed the last couple of times...</td>\n      <td>2018-10-04 23:44:15</td>\n    </tr>\n    <tr>\n      <th>2211290</th>\n      <td>jSUykm5qvsS3NIVQYtz2aw</td>\n      <td>fA17RgjSINwm1f3xpzyzdA</td>\n      <td>gbcWVIt0cSJ2iDYXx9lEOQ</td>\n      <td>4.0</td>\n      <td>0.0</td>\n      <td>0.0</td>\n      <td>0.0</td>\n      <td>For starters, Green street is beautiful so I a...</td>\n      <td>2011-06-03 14:51:19</td>\n    </tr>\n  </tbody>\n</table>\n<p>135121 rows × 9 columns</p>\n</div>"
     },
     "execution_count": 1,
     "metadata": {},
     "output_type": "execute_result"
    }
   ],
   "source": [
    "import pandas as pd\n",
    "\n",
    "# get data for reviews\n",
    "reviews = pd.read_csv('csv_data/yelp_academic_dataset_review.csv').sample(n=200000, random_state=0)\n",
    "\n",
    "# get list of businesses which are restaurants\n",
    "businesses = pd.read_csv('csv_data/yelp_academic_dataset_business.csv')\n",
    "businesses = businesses[businesses['categories'].str.contains('Restaurants', na=False)]\n",
    "\n",
    "# filter only reviews for restaurants\n",
    "reviews = reviews[reviews['business_id'].isin(businesses['business_id'].tolist())]\n",
    "\n",
    "# check dataframe for reviews\n",
    "reviews"
   ]
  },
  {
   "cell_type": "code",
   "execution_count": 2,
   "outputs": [
    {
     "data": {
      "text/plain": "       review_id  user_id  business_id  useful  funny   cool   text   date\nstars                                                                     \n1.0        16151    16151        16151   16151  16151  16151  16151  16151\n2.0        11518    11518        11518   11518  11518  11518  11518  11518\n3.0        15379    15379        15379   15379  15379  15379  15379  15379\n4.0        32353    32353        32353   32353  32353  32353  32353  32353\n5.0        59720    59720        59720   59720  59720  59720  59720  59720",
      "text/html": "<div>\n<style scoped>\n    .dataframe tbody tr th:only-of-type {\n        vertical-align: middle;\n    }\n\n    .dataframe tbody tr th {\n        vertical-align: top;\n    }\n\n    .dataframe thead th {\n        text-align: right;\n    }\n</style>\n<table border=\"1\" class=\"dataframe\">\n  <thead>\n    <tr style=\"text-align: right;\">\n      <th></th>\n      <th>review_id</th>\n      <th>user_id</th>\n      <th>business_id</th>\n      <th>useful</th>\n      <th>funny</th>\n      <th>cool</th>\n      <th>text</th>\n      <th>date</th>\n    </tr>\n    <tr>\n      <th>stars</th>\n      <th></th>\n      <th></th>\n      <th></th>\n      <th></th>\n      <th></th>\n      <th></th>\n      <th></th>\n      <th></th>\n    </tr>\n  </thead>\n  <tbody>\n    <tr>\n      <th>1.0</th>\n      <td>16151</td>\n      <td>16151</td>\n      <td>16151</td>\n      <td>16151</td>\n      <td>16151</td>\n      <td>16151</td>\n      <td>16151</td>\n      <td>16151</td>\n    </tr>\n    <tr>\n      <th>2.0</th>\n      <td>11518</td>\n      <td>11518</td>\n      <td>11518</td>\n      <td>11518</td>\n      <td>11518</td>\n      <td>11518</td>\n      <td>11518</td>\n      <td>11518</td>\n    </tr>\n    <tr>\n      <th>3.0</th>\n      <td>15379</td>\n      <td>15379</td>\n      <td>15379</td>\n      <td>15379</td>\n      <td>15379</td>\n      <td>15379</td>\n      <td>15379</td>\n      <td>15379</td>\n    </tr>\n    <tr>\n      <th>4.0</th>\n      <td>32353</td>\n      <td>32353</td>\n      <td>32353</td>\n      <td>32353</td>\n      <td>32353</td>\n      <td>32353</td>\n      <td>32353</td>\n      <td>32353</td>\n    </tr>\n    <tr>\n      <th>5.0</th>\n      <td>59720</td>\n      <td>59720</td>\n      <td>59720</td>\n      <td>59720</td>\n      <td>59720</td>\n      <td>59720</td>\n      <td>59720</td>\n      <td>59720</td>\n    </tr>\n  </tbody>\n</table>\n</div>"
     },
     "execution_count": 2,
     "metadata": {},
     "output_type": "execute_result"
    }
   ],
   "source": [
    "# check amount of reviews per category of stars\n",
    "reviews.groupby('stars').count()"
   ],
   "metadata": {
    "collapsed": false,
    "pycharm": {
     "name": "#%%\n"
    }
   }
  },
  {
   "cell_type": "code",
   "execution_count": 3,
   "outputs": [],
   "source": [
    "from yelp_functions import get_processed_inputs\n",
    "\n",
    "# get processed inputs\n",
    "tfidf_inputs = get_processed_inputs(reviews)"
   ],
   "metadata": {
    "collapsed": false,
    "pycharm": {
     "name": "#%%\n"
    }
   }
  },
  {
   "cell_type": "code",
   "execution_count": 4,
   "outputs": [],
   "source": [
    "from sklearn.feature_extraction.text import TfidfVectorizer\n",
    "\n",
    "# create the TF-IDF representation for the set\n",
    "tfidf_vec = TfidfVectorizer(max_features=10000, ngram_range=(1,2))\n",
    "tfidf_representation = tfidf_vec.fit_transform(tfidf_inputs)\n",
    "\n",
    "# create the array with TF-IDF and normalize it\n",
    "tfidf_array = tfidf_representation.toarray()\n",
    "tfidf_normalized = [vector/sum(vector) if sum(vector) != 0 else vector for vector in tfidf_array]"
   ],
   "metadata": {
    "collapsed": false,
    "pycharm": {
     "name": "#%%\n"
    }
   }
  },
  {
   "cell_type": "code",
   "execution_count": 5,
   "outputs": [
    {
     "name": "stderr",
     "output_type": "stream",
     "text": [
      "/Users/fernandoassad/opt/anaconda3/lib/python3.8/site-packages/sklearn/linear_model/_logistic.py:763: ConvergenceWarning: lbfgs failed to converge (status=1):\n",
      "STOP: TOTAL NO. of ITERATIONS REACHED LIMIT.\n",
      "\n",
      "Increase the number of iterations (max_iter) or scale the data as shown in:\n",
      "    https://scikit-learn.org/stable/modules/preprocessing.html\n",
      "Please also refer to the documentation for alternative solver options:\n",
      "    https://scikit-learn.org/stable/modules/linear_model.html#logistic-regression\n",
      "  n_iter_i = _check_optimize_result(\n"
     ]
    },
    {
     "name": "stdout",
     "output_type": "stream",
     "text": [
      "LR test score: 0.5853882359906456\n",
      "LR train score: 0.5927373199131636\n"
     ]
    }
   ],
   "source": [
    "import numpy as np\n",
    "from sklearn.model_selection import train_test_split\n",
    "from sklearn.linear_model import LogisticRegression\n",
    "\n",
    "# split the data into train and test set\n",
    "ratings = reviews['stars'].tolist()\n",
    "X_train, X_test, y_train, y_test = train_test_split(np.array(tfidf_normalized), np.array(ratings), test_size = 0.25, random_state=0)\n",
    "\n",
    "# using logistic regression for classification\n",
    "lrc = LogisticRegression(random_state=0).fit(X_train, y_train)\n",
    "print(\"LR test score:\", lrc.score(X_test, y_test))\n",
    "print(\"LR train score:\", lrc.score(X_train, y_train))"
   ],
   "metadata": {
    "collapsed": false,
    "pycharm": {
     "name": "#%%\n"
    }
   }
  }
 ],
 "metadata": {
  "kernelspec": {
   "display_name": "Python 3",
   "language": "python",
   "name": "python3"
  },
  "language_info": {
   "codemirror_mode": {
    "name": "ipython",
    "version": 2
   },
   "file_extension": ".py",
   "mimetype": "text/x-python",
   "name": "python",
   "nbconvert_exporter": "python",
   "pygments_lexer": "ipython2",
   "version": "2.7.6"
  }
 },
 "nbformat": 4,
 "nbformat_minor": 0
}