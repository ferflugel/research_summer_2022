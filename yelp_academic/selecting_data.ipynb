{
 "cells": [
  {
   "cell_type": "code",
   "execution_count": 16,
   "metadata": {
    "collapsed": true,
    "pycharm": {
     "name": "#%%\n"
    }
   },
   "outputs": [
    {
     "name": "stdout",
     "output_type": "stream",
     "text": [
      "                  business_id   name  address  state  postal_code  latitude  \\\n",
      "city                                                                          \n",
      "Philadelphia            14569  14569    14043  14569        14561     14569   \n",
      "Tucson                   9250   9250     8799   9250         9246      9250   \n",
      "Tampa                    9050   9050     8726   9050         9047      9050   \n",
      "Indianapolis             7540   7540     7361   7540         7530      7540   \n",
      "Nashville                6971   6971     6686   6971         6967      6971   \n",
      "New Orleans              6209   6209     5948   6209         6204      6209   \n",
      "Reno                     5935   5935     5551   5935         5932      5935   \n",
      "Edmonton                 5054   5054     5002   5054         5037      5054   \n",
      "Saint Louis              4827   4827     4704   4827         4823      4827   \n",
      "Santa Barbara            3829   3829     3425   3829         3827      3829   \n",
      "Boise                    2937   2937     2795   2937         2937      2937   \n",
      "Clearwater               2221   2221     2165   2221         2219      2221   \n",
      "Saint Petersburg         1663   1663     1609   1663         1661      1663   \n",
      "Metairie                 1643   1643     1620   1643         1642      1643   \n",
      "Sparks                   1624   1624     1525   1624         1624      1624   \n",
      "Wilmington               1446   1446     1424   1446         1446      1446   \n",
      "Franklin                 1414   1414     1376   1414         1414      1414   \n",
      "St. Louis                1255   1255     1205   1255         1255      1255   \n",
      "St. Petersburg           1185   1185     1130   1185         1184      1185   \n",
      "Meridian                 1043   1043      996   1043         1043      1043   \n",
      "\n",
      "                  longitude  stars  review_count  is_open  attributes  \\\n",
      "city                                                                    \n",
      "Philadelphia          14569  14569         14569    14569       13399   \n",
      "Tucson                 9250   9250          9250     9250        8328   \n",
      "Tampa                  9050   9050          9050     9050        8171   \n",
      "Indianapolis           7540   7540          7540     7540        6917   \n",
      "Nashville              6971   6971          6971     6971        6379   \n",
      "New Orleans            6209   6209          6209     6209        5714   \n",
      "Reno                   5935   5935          5935     5935        5274   \n",
      "Edmonton               5054   5054          5054     5054        4506   \n",
      "Saint Louis            4827   4827          4827     4827        4403   \n",
      "Santa Barbara          3829   3829          3829     3829        3430   \n",
      "Boise                  2937   2937          2937     2937        2673   \n",
      "Clearwater             2221   2221          2221     2221        1989   \n",
      "Saint Petersburg       1663   1663          1663     1663        1495   \n",
      "Metairie               1643   1643          1643     1643        1530   \n",
      "Sparks                 1624   1624          1624     1624        1453   \n",
      "Wilmington             1446   1446          1446     1446        1315   \n",
      "Franklin               1414   1414          1414     1414        1283   \n",
      "St. Louis              1255   1255          1255     1255        1150   \n",
      "St. Petersburg         1185   1185          1185     1185        1074   \n",
      "Meridian               1043   1043          1043     1043         939   \n",
      "\n",
      "                  categories  hours  \n",
      "city                                 \n",
      "Philadelphia           14560  11785  \n",
      "Tucson                  9244   7916  \n",
      "Tampa                   9042   7907  \n",
      "Indianapolis            7537   6294  \n",
      "Nashville               6969   5936  \n",
      "New Orleans             6208   5051  \n",
      "Reno                    5929   4949  \n",
      "Edmonton                5053   4104  \n",
      "Saint Louis             4824   3938  \n",
      "Santa Barbara           3828   3171  \n",
      "Boise                   2934   2525  \n",
      "Clearwater              2221   1912  \n",
      "Saint Petersburg        1660   1391  \n",
      "Metairie                1639   1408  \n",
      "Sparks                  1621   1387  \n",
      "Wilmington              1444   1188  \n",
      "Franklin                1414   1242  \n",
      "St. Louis               1255   1190  \n",
      "St. Petersburg          1185   1019  \n",
      "Meridian                1043    932  \n"
     ]
    }
   ],
   "source": [
    "import pandas as pd\n",
    "\n",
    "# We first want to understand the geographical distribution of our data so we can filter it\n",
    "businesses = pd.read_csv('csv_data/yelp_academic_dataset_business.csv')\n",
    "print(businesses.groupby('city').count().sort_values(by='business_id', ascending=False).head(20))"
   ]
  },
  {
   "cell_type": "code",
   "execution_count": 17,
   "outputs": [],
   "source": [
    "# Because Santa Barbara has roughly 2.5% of the businesses, we will focus only on it\n",
    "business = businesses[businesses['city'] == 'Santa Barbara']\n",
    "santa_barbara_ids = list(business['business_id'])"
   ],
   "metadata": {
    "collapsed": false,
    "pycharm": {
     "name": "#%%\n"
    }
   }
  },
  {
   "cell_type": "code",
   "execution_count": 18,
   "outputs": [
    {
     "name": "stdout",
     "output_type": "stream",
     "text": [
      "(269630, 9)\n"
     ]
    }
   ],
   "source": [
    "# We now load the reviews and filter out the ones not in Santa Barbara\n",
    "reviews =  pd.read_csv('csv_data/yelp_academic_dataset_review.csv')\n",
    "reviews = reviews[reviews['business_id'].isin(santa_barbara_ids)]\n",
    "print(reviews.shape) # check the size of the data"
   ],
   "metadata": {
    "collapsed": false,
    "pycharm": {
     "name": "#%%\n"
    }
   }
  },
  {
   "cell_type": "code",
   "execution_count": 19,
   "outputs": [],
   "source": [
    "# Finally, we save the data in a separate csv file so it is easier to load it later\n",
    "reviews.to_csv('csv_data/santa_barbara_reviews.csv', encoding='utf-8', index=False)"
   ],
   "metadata": {
    "collapsed": false,
    "pycharm": {
     "name": "#%%\n"
    }
   }
  }
 ],
 "metadata": {
  "kernelspec": {
   "display_name": "Python 3",
   "language": "python",
   "name": "python3"
  },
  "language_info": {
   "codemirror_mode": {
    "name": "ipython",
    "version": 2
   },
   "file_extension": ".py",
   "mimetype": "text/x-python",
   "name": "python",
   "nbconvert_exporter": "python",
   "pygments_lexer": "ipython2",
   "version": "2.7.6"
  }
 },
 "nbformat": 4,
 "nbformat_minor": 0
}