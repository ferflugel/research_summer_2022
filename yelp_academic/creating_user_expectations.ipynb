{
 "cells": [
  {
   "cell_type": "code",
   "execution_count": 1,
   "outputs": [],
   "source": [
    "import pandas as pd\n",
    "\n",
    "# get data with reviews\n",
    "reviews = pd.read_csv('csv_data/yelp_academic_dataset_review.csv')\n",
    "\n",
    "# group by user_id and sort by most reviews\n",
    "users = reviews.groupby('user_id').count().sort_values(by='text', ascending=False)"
   ],
   "metadata": {
    "collapsed": false,
    "pycharm": {
     "name": "#%%\n"
    }
   }
  },
  {
   "cell_type": "code",
   "execution_count": 2,
   "outputs": [
    {
     "data": {
      "text/plain": "                        review_id  business_id  stars  useful  funny  cool  \\\nuser_id                                                                      \n--_r6E98SNIrGU7weyNxbw         61           61     61      61     61    61   \n--u09WAjW741FdfkJXxNmg         95           95     95      95     95    95   \n-1MF2tosrw2WcCxeVNk81Q         76           76     76      76     76    76   \n-1WbN1Qd-opw8u3uEqs2Kg         82           82     82      82     82    82   \n-1awBy86Qgr3aN30_Z3xGw         66           66     66      66     66    66   \n...                           ...          ...    ...     ...    ...   ...   \nzxyKewY6p0CjnFprEutaog         83           83     83      83     83    83   \nzy0el7c-IO4BvjxUgj-ZSw         88           88     88      88     88    88   \nzyNrXvJyYdC34tS6BcCykA        119          119    119     119    119   119   \nzyvxtbh5eJ86bVgk52Yflg        307          307    307     307    307   307   \nzziJLt25YU6dp01sewR-IQ         62           62     62      62     62    62   \n\n                        text  date  \nuser_id                             \n--_r6E98SNIrGU7weyNxbw    61    61  \n--u09WAjW741FdfkJXxNmg    95    95  \n-1MF2tosrw2WcCxeVNk81Q    76    76  \n-1WbN1Qd-opw8u3uEqs2Kg    82    82  \n-1awBy86Qgr3aN30_Z3xGw    66    66  \n...                      ...   ...  \nzxyKewY6p0CjnFprEutaog    83    83  \nzy0el7c-IO4BvjxUgj-ZSw    88    88  \nzyNrXvJyYdC34tS6BcCykA   119   119  \nzyvxtbh5eJ86bVgk52Yflg   307   307  \nzziJLt25YU6dp01sewR-IQ    62    62  \n\n[10000 rows x 8 columns]",
      "text/html": "<div>\n<style scoped>\n    .dataframe tbody tr th:only-of-type {\n        vertical-align: middle;\n    }\n\n    .dataframe tbody tr th {\n        vertical-align: top;\n    }\n\n    .dataframe thead th {\n        text-align: right;\n    }\n</style>\n<table border=\"1\" class=\"dataframe\">\n  <thead>\n    <tr style=\"text-align: right;\">\n      <th></th>\n      <th>review_id</th>\n      <th>business_id</th>\n      <th>stars</th>\n      <th>useful</th>\n      <th>funny</th>\n      <th>cool</th>\n      <th>text</th>\n      <th>date</th>\n    </tr>\n    <tr>\n      <th>user_id</th>\n      <th></th>\n      <th></th>\n      <th></th>\n      <th></th>\n      <th></th>\n      <th></th>\n      <th></th>\n      <th></th>\n    </tr>\n  </thead>\n  <tbody>\n    <tr>\n      <th>--_r6E98SNIrGU7weyNxbw</th>\n      <td>61</td>\n      <td>61</td>\n      <td>61</td>\n      <td>61</td>\n      <td>61</td>\n      <td>61</td>\n      <td>61</td>\n      <td>61</td>\n    </tr>\n    <tr>\n      <th>--u09WAjW741FdfkJXxNmg</th>\n      <td>95</td>\n      <td>95</td>\n      <td>95</td>\n      <td>95</td>\n      <td>95</td>\n      <td>95</td>\n      <td>95</td>\n      <td>95</td>\n    </tr>\n    <tr>\n      <th>-1MF2tosrw2WcCxeVNk81Q</th>\n      <td>76</td>\n      <td>76</td>\n      <td>76</td>\n      <td>76</td>\n      <td>76</td>\n      <td>76</td>\n      <td>76</td>\n      <td>76</td>\n    </tr>\n    <tr>\n      <th>-1WbN1Qd-opw8u3uEqs2Kg</th>\n      <td>82</td>\n      <td>82</td>\n      <td>82</td>\n      <td>82</td>\n      <td>82</td>\n      <td>82</td>\n      <td>82</td>\n      <td>82</td>\n    </tr>\n    <tr>\n      <th>-1awBy86Qgr3aN30_Z3xGw</th>\n      <td>66</td>\n      <td>66</td>\n      <td>66</td>\n      <td>66</td>\n      <td>66</td>\n      <td>66</td>\n      <td>66</td>\n      <td>66</td>\n    </tr>\n    <tr>\n      <th>...</th>\n      <td>...</td>\n      <td>...</td>\n      <td>...</td>\n      <td>...</td>\n      <td>...</td>\n      <td>...</td>\n      <td>...</td>\n      <td>...</td>\n    </tr>\n    <tr>\n      <th>zxyKewY6p0CjnFprEutaog</th>\n      <td>83</td>\n      <td>83</td>\n      <td>83</td>\n      <td>83</td>\n      <td>83</td>\n      <td>83</td>\n      <td>83</td>\n      <td>83</td>\n    </tr>\n    <tr>\n      <th>zy0el7c-IO4BvjxUgj-ZSw</th>\n      <td>88</td>\n      <td>88</td>\n      <td>88</td>\n      <td>88</td>\n      <td>88</td>\n      <td>88</td>\n      <td>88</td>\n      <td>88</td>\n    </tr>\n    <tr>\n      <th>zyNrXvJyYdC34tS6BcCykA</th>\n      <td>119</td>\n      <td>119</td>\n      <td>119</td>\n      <td>119</td>\n      <td>119</td>\n      <td>119</td>\n      <td>119</td>\n      <td>119</td>\n    </tr>\n    <tr>\n      <th>zyvxtbh5eJ86bVgk52Yflg</th>\n      <td>307</td>\n      <td>307</td>\n      <td>307</td>\n      <td>307</td>\n      <td>307</td>\n      <td>307</td>\n      <td>307</td>\n      <td>307</td>\n    </tr>\n    <tr>\n      <th>zziJLt25YU6dp01sewR-IQ</th>\n      <td>62</td>\n      <td>62</td>\n      <td>62</td>\n      <td>62</td>\n      <td>62</td>\n      <td>62</td>\n      <td>62</td>\n      <td>62</td>\n    </tr>\n  </tbody>\n</table>\n<p>10000 rows × 8 columns</p>\n</div>"
     },
     "execution_count": 2,
     "metadata": {},
     "output_type": "execute_result"
    }
   ],
   "source": [
    "# select the 10,000 most active users\n",
    "user_ids = users.reset_index()['user_id'].tolist()[:10000]\n",
    "\n",
    "# select only the reviews from these users\n",
    "reviews = reviews[reviews['user_id'].isin(user_ids)]\n",
    "\n",
    "reviews.groupby('user_id').count()"
   ],
   "metadata": {
    "collapsed": false,
    "pycharm": {
     "name": "#%%\n"
    }
   }
  },
  {
   "cell_type": "code",
   "execution_count": 3,
   "outputs": [
    {
     "data": {
      "text/plain": "                   business_id  \\\n0       ---kPU91CF4Lq2-WlRu9Lw   \n1       --0iUa4sNDFiZFrAdIWhZQ   \n2       --30_8IhuyMHbSOcNWd6DQ   \n3       --7PUidqRWpRSpXebiyxTg   \n4       --7jw19RH9JKXgFohspgQw   \n...                        ...   \n150341  zznZqH9CiAznbkV6fXyHWA   \n150342  zztOG2cKm87I6Iw_tleZsQ   \n150343  zzu6_r3DxBJuXcjnOYVdTw   \n150344  zzw66H6hVjXQEt0Js3Mo4A   \n150345  zzyx5x0Z7xXWWvWnZFuxlQ   \n\n                                                embedding  \n0       [0.0, 0.0012626262626262606, 0.0, 0.0, 0.00126...  \n1       [0.0, 0.0, 0.0, 0.0, 0.0, 0.0, 0.0, 0.0, 0.0, ...  \n2       [0.0, 0.0, 0.0, 0.0, 0.0, 0.0, 0.0, 0.0, 0.0, ...  \n3       [0.0, 0.0, 0.0, 0.0, 0.0, 0.0, 0.0, 0.0, 0.0, ...  \n4       [0.0, 0.0, 0.0, 0.0, 0.0, 0.0, 0.0, 0.0, 0.0, ...  \n...                                                   ...  \n150341  [0.0, 0.0018939393939393927, 0.0, 0.0, 0.0, 0....  \n150342  [0.0, 0.0, 0.0, 0.0, 0.0, 0.0, 0.0, 0.0, 0.0, ...  \n150343  [0.0, 0.0, 0.0, 0.0, 0.0, 0.0, 0.0, 0.0, 0.0, ...  \n150344  [0.0, 0.0, 0.0, 0.0, 0.0, 0.0, 0.0, 0.0, 0.0, ...  \n150345  [0.0, 0.0, 0.0, 0.0, 0.0, 0.0, 0.0, 0.0, 0.0, ...  \n\n[150346 rows x 2 columns]",
      "text/html": "<div>\n<style scoped>\n    .dataframe tbody tr th:only-of-type {\n        vertical-align: middle;\n    }\n\n    .dataframe tbody tr th {\n        vertical-align: top;\n    }\n\n    .dataframe thead th {\n        text-align: right;\n    }\n</style>\n<table border=\"1\" class=\"dataframe\">\n  <thead>\n    <tr style=\"text-align: right;\">\n      <th></th>\n      <th>business_id</th>\n      <th>embedding</th>\n    </tr>\n  </thead>\n  <tbody>\n    <tr>\n      <th>0</th>\n      <td>---kPU91CF4Lq2-WlRu9Lw</td>\n      <td>[0.0, 0.0012626262626262606, 0.0, 0.0, 0.00126...</td>\n    </tr>\n    <tr>\n      <th>1</th>\n      <td>--0iUa4sNDFiZFrAdIWhZQ</td>\n      <td>[0.0, 0.0, 0.0, 0.0, 0.0, 0.0, 0.0, 0.0, 0.0, ...</td>\n    </tr>\n    <tr>\n      <th>2</th>\n      <td>--30_8IhuyMHbSOcNWd6DQ</td>\n      <td>[0.0, 0.0, 0.0, 0.0, 0.0, 0.0, 0.0, 0.0, 0.0, ...</td>\n    </tr>\n    <tr>\n      <th>3</th>\n      <td>--7PUidqRWpRSpXebiyxTg</td>\n      <td>[0.0, 0.0, 0.0, 0.0, 0.0, 0.0, 0.0, 0.0, 0.0, ...</td>\n    </tr>\n    <tr>\n      <th>4</th>\n      <td>--7jw19RH9JKXgFohspgQw</td>\n      <td>[0.0, 0.0, 0.0, 0.0, 0.0, 0.0, 0.0, 0.0, 0.0, ...</td>\n    </tr>\n    <tr>\n      <th>...</th>\n      <td>...</td>\n      <td>...</td>\n    </tr>\n    <tr>\n      <th>150341</th>\n      <td>zznZqH9CiAznbkV6fXyHWA</td>\n      <td>[0.0, 0.0018939393939393927, 0.0, 0.0, 0.0, 0....</td>\n    </tr>\n    <tr>\n      <th>150342</th>\n      <td>zztOG2cKm87I6Iw_tleZsQ</td>\n      <td>[0.0, 0.0, 0.0, 0.0, 0.0, 0.0, 0.0, 0.0, 0.0, ...</td>\n    </tr>\n    <tr>\n      <th>150343</th>\n      <td>zzu6_r3DxBJuXcjnOYVdTw</td>\n      <td>[0.0, 0.0, 0.0, 0.0, 0.0, 0.0, 0.0, 0.0, 0.0, ...</td>\n    </tr>\n    <tr>\n      <th>150344</th>\n      <td>zzw66H6hVjXQEt0Js3Mo4A</td>\n      <td>[0.0, 0.0, 0.0, 0.0, 0.0, 0.0, 0.0, 0.0, 0.0, ...</td>\n    </tr>\n    <tr>\n      <th>150345</th>\n      <td>zzyx5x0Z7xXWWvWnZFuxlQ</td>\n      <td>[0.0, 0.0, 0.0, 0.0, 0.0, 0.0, 0.0, 0.0, 0.0, ...</td>\n    </tr>\n  </tbody>\n</table>\n<p>150346 rows × 2 columns</p>\n</div>"
     },
     "execution_count": 3,
     "metadata": {},
     "output_type": "execute_result"
    }
   ],
   "source": [
    "import pickle\n",
    "\n",
    "embeddings = []\n",
    "\n",
    "# read the 3 separate files with information regarding embeddings\n",
    "for file in ['processed_data/all_restaurant_vectors_pt1',\n",
    "             'processed_data/all_restaurant_vectors_pt2',\n",
    "             'processed_data/all_restaurant_vectors_pt3']:\n",
    "\n",
    "    # read file and obtain data for ids and restaurants\n",
    "    with open(file, \"rb\") as pickle_file:\n",
    "        restaurant_vectors = pickle.load(pickle_file)\n",
    "\n",
    "        # add the data to our new lists with all information\n",
    "        ids = restaurant_vectors[0]\n",
    "        embeddings += restaurant_vectors[1]\n",
    "\n",
    "# create dataframe from lists\n",
    "restaurants = {'business_id': ids, 'embedding': embeddings}\n",
    "restaurants = pd.DataFrame(data=restaurants)\n",
    "\n",
    "# show results\n",
    "restaurants"
   ],
   "metadata": {
    "collapsed": false,
    "pycharm": {
     "name": "#%%\n"
    }
   }
  },
  {
   "cell_type": "code",
   "execution_count": 4,
   "outputs": [
    {
     "data": {
      "text/plain": "                      review_id                 user_id  \\\n4        Sx8TMOWLNuJBWer-0pcmoA  bcjbaE6dDog4jkNY91ncLQ   \n13       8JFGBuHMoiNDyfcxuWNtrA  smOvOajNG0lS4Pq7d8g4JQ   \n17       LnGZB0fjfgeVDVz5IHuEVA  j2wlzrntrbKwyOcOiB3l3w   \n19       Xs8Z8lmKkosqW5mw_sVAoA  IQsF3Rc6IgCzjVV9DE8KXg   \n24       lUUhg8ltDsUZ9h0xnwY4Dg  RreNy--tOmXMl1en0wiBOg   \n...                         ...                     ...   \n6990276  YVX1Wsa4LYxjvFwuHBb_gA  RKPkxOYQlM0BjhM-H6_vAw   \n6990277  H0RIamZu0B0Ei0P4aeh3sQ  qskILQ3k0I_qcCMI-k6_QQ   \n6990279  YNfNhgZlaaCO5Q_YJR4rEw  mm6E4FbCMwJmb7kPDZ5v2Q   \n6990280  i-I4ZOhoX70Nw5H0FwrQUA  YwAMC-jvZ1fvEUum6QkEkw   \n6990281  RwcKOdEuLRHNJe4M9-qpqg  6JehEvdoCvZPJ_XIxnzIIw   \n\n                    business_id  stars  useful  funny  cool  \\\n4        e4Vwtrqf-wpJfwesgvdgxQ    4.0     1.0    0.0   1.0   \n13       RZtGWDLCAtuipwaZ-UfjmQ    4.0     0.0    0.0   0.0   \n17       rBdG_23USc7DletfZ11xGA    4.0     1.0    0.0   0.0   \n19       eFvzHawVJofxSnD7TgbZtg    5.0     0.0    0.0   0.0   \n24       cPepkJeRMtHapc_b2Oe_dw    4.0     1.0    0.0   1.0   \n...                         ...    ...     ...    ...   ...   \n6990276  X4mouE_cMiwbfyCPZ_K-FA    4.0     3.0    0.0   2.0   \n6990277  jals67o91gcrD4DC81Vk6w    5.0     1.0    2.0   1.0   \n6990279  R1khUUxidqfaJmcpmGd4aw    4.0     1.0    0.0   0.0   \n6990280  Rr9kKArrMhSLVE9a53q-aA    5.0     1.0    0.0   0.0   \n6990281  VAeEXLbEcI9Emt9KGYq9aA    3.0    10.0    3.0   7.0   \n\n                                                      text  \\\n4        Cute interior and owner (?) gave us tour of up...   \n13       Good food--loved the gnocchi with marinara\\nth...   \n17       The hubby and I have been here on multiple occ...   \n19       My absolute favorite cafe in the city. Their b...   \n24       I was really between 3 and 4 stars for this on...   \n...                                                    ...   \n6990276  Good, maybe very good.  I went for lunch, so t...   \n6990277  Latest addition to services from ICCU is Apple...   \n6990279  This Home Depot won me over when I needed to g...   \n6990280  For when I'm feeling like ignoring my calorie-...   \n6990281  Located in the 'Walking District' in Nashville...   \n\n                        date  price_score  \n4        2017-01-14 20:54:15     1.263071  \n13       2009-10-14 19:57:14     2.497299  \n17       2014-08-10 19:41:43     2.750729  \n19       2014-11-12 15:30:27     1.229286  \n24       2018-07-17 03:30:07     1.904357  \n...                      ...          ...  \n6990276  2015-01-23 23:52:03     2.093681  \n6990277  2014-12-17 21:45:20     2.549610  \n6990279  2019-12-30 03:56:30     2.534315  \n6990280  2022-01-19 18:59:27     2.042872  \n6990281  2018-01-02 22:50:47     1.575570  \n\n[1262038 rows x 10 columns]",
      "text/html": "<div>\n<style scoped>\n    .dataframe tbody tr th:only-of-type {\n        vertical-align: middle;\n    }\n\n    .dataframe tbody tr th {\n        vertical-align: top;\n    }\n\n    .dataframe thead th {\n        text-align: right;\n    }\n</style>\n<table border=\"1\" class=\"dataframe\">\n  <thead>\n    <tr style=\"text-align: right;\">\n      <th></th>\n      <th>review_id</th>\n      <th>user_id</th>\n      <th>business_id</th>\n      <th>stars</th>\n      <th>useful</th>\n      <th>funny</th>\n      <th>cool</th>\n      <th>text</th>\n      <th>date</th>\n      <th>price_score</th>\n    </tr>\n  </thead>\n  <tbody>\n    <tr>\n      <th>4</th>\n      <td>Sx8TMOWLNuJBWer-0pcmoA</td>\n      <td>bcjbaE6dDog4jkNY91ncLQ</td>\n      <td>e4Vwtrqf-wpJfwesgvdgxQ</td>\n      <td>4.0</td>\n      <td>1.0</td>\n      <td>0.0</td>\n      <td>1.0</td>\n      <td>Cute interior and owner (?) gave us tour of up...</td>\n      <td>2017-01-14 20:54:15</td>\n      <td>1.263071</td>\n    </tr>\n    <tr>\n      <th>13</th>\n      <td>8JFGBuHMoiNDyfcxuWNtrA</td>\n      <td>smOvOajNG0lS4Pq7d8g4JQ</td>\n      <td>RZtGWDLCAtuipwaZ-UfjmQ</td>\n      <td>4.0</td>\n      <td>0.0</td>\n      <td>0.0</td>\n      <td>0.0</td>\n      <td>Good food--loved the gnocchi with marinara\\nth...</td>\n      <td>2009-10-14 19:57:14</td>\n      <td>2.497299</td>\n    </tr>\n    <tr>\n      <th>17</th>\n      <td>LnGZB0fjfgeVDVz5IHuEVA</td>\n      <td>j2wlzrntrbKwyOcOiB3l3w</td>\n      <td>rBdG_23USc7DletfZ11xGA</td>\n      <td>4.0</td>\n      <td>1.0</td>\n      <td>0.0</td>\n      <td>0.0</td>\n      <td>The hubby and I have been here on multiple occ...</td>\n      <td>2014-08-10 19:41:43</td>\n      <td>2.750729</td>\n    </tr>\n    <tr>\n      <th>19</th>\n      <td>Xs8Z8lmKkosqW5mw_sVAoA</td>\n      <td>IQsF3Rc6IgCzjVV9DE8KXg</td>\n      <td>eFvzHawVJofxSnD7TgbZtg</td>\n      <td>5.0</td>\n      <td>0.0</td>\n      <td>0.0</td>\n      <td>0.0</td>\n      <td>My absolute favorite cafe in the city. Their b...</td>\n      <td>2014-11-12 15:30:27</td>\n      <td>1.229286</td>\n    </tr>\n    <tr>\n      <th>24</th>\n      <td>lUUhg8ltDsUZ9h0xnwY4Dg</td>\n      <td>RreNy--tOmXMl1en0wiBOg</td>\n      <td>cPepkJeRMtHapc_b2Oe_dw</td>\n      <td>4.0</td>\n      <td>1.0</td>\n      <td>0.0</td>\n      <td>1.0</td>\n      <td>I was really between 3 and 4 stars for this on...</td>\n      <td>2018-07-17 03:30:07</td>\n      <td>1.904357</td>\n    </tr>\n    <tr>\n      <th>...</th>\n      <td>...</td>\n      <td>...</td>\n      <td>...</td>\n      <td>...</td>\n      <td>...</td>\n      <td>...</td>\n      <td>...</td>\n      <td>...</td>\n      <td>...</td>\n      <td>...</td>\n    </tr>\n    <tr>\n      <th>6990276</th>\n      <td>YVX1Wsa4LYxjvFwuHBb_gA</td>\n      <td>RKPkxOYQlM0BjhM-H6_vAw</td>\n      <td>X4mouE_cMiwbfyCPZ_K-FA</td>\n      <td>4.0</td>\n      <td>3.0</td>\n      <td>0.0</td>\n      <td>2.0</td>\n      <td>Good, maybe very good.  I went for lunch, so t...</td>\n      <td>2015-01-23 23:52:03</td>\n      <td>2.093681</td>\n    </tr>\n    <tr>\n      <th>6990277</th>\n      <td>H0RIamZu0B0Ei0P4aeh3sQ</td>\n      <td>qskILQ3k0I_qcCMI-k6_QQ</td>\n      <td>jals67o91gcrD4DC81Vk6w</td>\n      <td>5.0</td>\n      <td>1.0</td>\n      <td>2.0</td>\n      <td>1.0</td>\n      <td>Latest addition to services from ICCU is Apple...</td>\n      <td>2014-12-17 21:45:20</td>\n      <td>2.549610</td>\n    </tr>\n    <tr>\n      <th>6990279</th>\n      <td>YNfNhgZlaaCO5Q_YJR4rEw</td>\n      <td>mm6E4FbCMwJmb7kPDZ5v2Q</td>\n      <td>R1khUUxidqfaJmcpmGd4aw</td>\n      <td>4.0</td>\n      <td>1.0</td>\n      <td>0.0</td>\n      <td>0.0</td>\n      <td>This Home Depot won me over when I needed to g...</td>\n      <td>2019-12-30 03:56:30</td>\n      <td>2.534315</td>\n    </tr>\n    <tr>\n      <th>6990280</th>\n      <td>i-I4ZOhoX70Nw5H0FwrQUA</td>\n      <td>YwAMC-jvZ1fvEUum6QkEkw</td>\n      <td>Rr9kKArrMhSLVE9a53q-aA</td>\n      <td>5.0</td>\n      <td>1.0</td>\n      <td>0.0</td>\n      <td>0.0</td>\n      <td>For when I'm feeling like ignoring my calorie-...</td>\n      <td>2022-01-19 18:59:27</td>\n      <td>2.042872</td>\n    </tr>\n    <tr>\n      <th>6990281</th>\n      <td>RwcKOdEuLRHNJe4M9-qpqg</td>\n      <td>6JehEvdoCvZPJ_XIxnzIIw</td>\n      <td>VAeEXLbEcI9Emt9KGYq9aA</td>\n      <td>3.0</td>\n      <td>10.0</td>\n      <td>3.0</td>\n      <td>7.0</td>\n      <td>Located in the 'Walking District' in Nashville...</td>\n      <td>2018-01-02 22:50:47</td>\n      <td>1.575570</td>\n    </tr>\n  </tbody>\n</table>\n<p>1262038 rows × 10 columns</p>\n</div>"
     },
     "execution_count": 4,
     "metadata": {},
     "output_type": "execute_result"
    }
   ],
   "source": [
    "# import models\n",
    "pca = pickle.load(open('models/price_score_pca.sav', 'rb'))\n",
    "svm = pickle.load(open('models/price_score_model.sav', 'rb'))\n",
    "\n",
    "# reduce the dimensions of the embeddings\n",
    "pca_embedding = pca.transform(restaurants['embedding'].tolist())\n",
    "\n",
    "# obtain the price score for every restaurant\n",
    "price_score = svm.predict(pca_embedding)\n",
    "\n",
    "# add price score to the dataframe\n",
    "restaurants['price_score'] = price_score\n",
    "\n",
    "# filter the data to reviews of restaurants with a price score\n",
    "reviews = reviews[reviews['business_id'].isin(restaurants['business_id'].tolist())]\n",
    "\n",
    "# transfer information from price score to reviews\n",
    "price_information = dict(zip(restaurants['business_id'].tolist(), restaurants['price_score'].tolist()))\n",
    "reviews['price_score'] = reviews['business_id'].apply(lambda x: price_information.get(x))\n",
    "\n",
    "reviews"
   ],
   "metadata": {
    "collapsed": false,
    "pycharm": {
     "name": "#%%\n"
    }
   }
  },
  {
   "cell_type": "code",
   "execution_count": 5,
   "outputs": [],
   "source": [
    "# save the dataframe of reviews with price score\n",
    "reviews.to_csv('processed_data/reviews_price_score.csv', index=False)"
   ],
   "metadata": {
    "collapsed": false,
    "pycharm": {
     "name": "#%%\n"
    }
   }
  },
  {
   "cell_type": "code",
   "execution_count": 6,
   "outputs": [
    {
     "data": {
      "text/plain": "  0%|          | 0/10000 [00:00<?, ?it/s]",
      "application/vnd.jupyter.widget-view+json": {
       "version_major": 2,
       "version_minor": 0,
       "model_id": "f01b87be3d8740d1a52960ff6dad03ae"
      }
     },
     "metadata": {},
     "output_type": "display_data"
    }
   ],
   "source": [
    "from tqdm.notebook import tqdm\n",
    "\n",
    "# create dictionaries to store the data\n",
    "user_expectation = {}\n",
    "\n",
    "# get the expectation coefficient for users and the mean price score\n",
    "for user in tqdm(user_ids):\n",
    "    user_reviews = reviews[reviews['user_id'] == user]\n",
    "    user_expectation[user] = user_reviews[['price_score', 'stars']].corr().iloc[0, 1]"
   ],
   "metadata": {
    "collapsed": false,
    "pycharm": {
     "name": "#%%\n"
    }
   }
  },
  {
   "cell_type": "code",
   "execution_count": 7,
   "outputs": [
    {
     "data": {
      "text/plain": "                     user_id  correlation  expectation\n0     _BcWyKQL16ndpBdggh2kNA     0.216456     0.391772\n1     Xw7ZjaGfr0WNVt6s_5KZfA     0.198974     0.400513\n2     0Igx-a1wAstiBDerGxXk2A     0.190772     0.404614\n3     -G7Zkl1wIWBBmD0KRy_sCw     0.219971     0.390015\n4     ET8n-r7glWYqZhuR6GcdNw     0.190922     0.404539\n...                      ...          ...          ...\n9995  yeGoG0ahKNeAXAvKEwnVOA    -0.199931     0.599966\n9996  9FOrsYpBwOIHvTzqBpe0Qw     0.012120     0.493940\n9997  o9Xqq_7wpRnckPUMG_C_cQ     0.289868     0.355066\n9998  Ll5l4WTKPH7zWQWA68Rhdw     0.146630     0.426685\n9999  klG0Ze9awTZ_BOu-mfyolA     0.410254     0.294873\n\n[10000 rows x 3 columns]",
      "text/html": "<div>\n<style scoped>\n    .dataframe tbody tr th:only-of-type {\n        vertical-align: middle;\n    }\n\n    .dataframe tbody tr th {\n        vertical-align: top;\n    }\n\n    .dataframe thead th {\n        text-align: right;\n    }\n</style>\n<table border=\"1\" class=\"dataframe\">\n  <thead>\n    <tr style=\"text-align: right;\">\n      <th></th>\n      <th>user_id</th>\n      <th>correlation</th>\n      <th>expectation</th>\n    </tr>\n  </thead>\n  <tbody>\n    <tr>\n      <th>0</th>\n      <td>_BcWyKQL16ndpBdggh2kNA</td>\n      <td>0.216456</td>\n      <td>0.391772</td>\n    </tr>\n    <tr>\n      <th>1</th>\n      <td>Xw7ZjaGfr0WNVt6s_5KZfA</td>\n      <td>0.198974</td>\n      <td>0.400513</td>\n    </tr>\n    <tr>\n      <th>2</th>\n      <td>0Igx-a1wAstiBDerGxXk2A</td>\n      <td>0.190772</td>\n      <td>0.404614</td>\n    </tr>\n    <tr>\n      <th>3</th>\n      <td>-G7Zkl1wIWBBmD0KRy_sCw</td>\n      <td>0.219971</td>\n      <td>0.390015</td>\n    </tr>\n    <tr>\n      <th>4</th>\n      <td>ET8n-r7glWYqZhuR6GcdNw</td>\n      <td>0.190922</td>\n      <td>0.404539</td>\n    </tr>\n    <tr>\n      <th>...</th>\n      <td>...</td>\n      <td>...</td>\n      <td>...</td>\n    </tr>\n    <tr>\n      <th>9995</th>\n      <td>yeGoG0ahKNeAXAvKEwnVOA</td>\n      <td>-0.199931</td>\n      <td>0.599966</td>\n    </tr>\n    <tr>\n      <th>9996</th>\n      <td>9FOrsYpBwOIHvTzqBpe0Qw</td>\n      <td>0.012120</td>\n      <td>0.493940</td>\n    </tr>\n    <tr>\n      <th>9997</th>\n      <td>o9Xqq_7wpRnckPUMG_C_cQ</td>\n      <td>0.289868</td>\n      <td>0.355066</td>\n    </tr>\n    <tr>\n      <th>9998</th>\n      <td>Ll5l4WTKPH7zWQWA68Rhdw</td>\n      <td>0.146630</td>\n      <td>0.426685</td>\n    </tr>\n    <tr>\n      <th>9999</th>\n      <td>klG0Ze9awTZ_BOu-mfyolA</td>\n      <td>0.410254</td>\n      <td>0.294873</td>\n    </tr>\n  </tbody>\n</table>\n<p>10000 rows × 3 columns</p>\n</div>"
     },
     "execution_count": 7,
     "metadata": {},
     "output_type": "execute_result"
    }
   ],
   "source": [
    "# create new dataframe for user expectations\n",
    "user_expectations = pd.DataFrame.from_dict(user_expectation, orient='index').reset_index()\n",
    "\n",
    "# rename columns\n",
    "user_expectations = user_expectations.rename(columns={\"index\": \"user_id\", 0: \"correlation\"})\n",
    "\n",
    "# create a column for expectation coefficient\n",
    "user_expectations['expectation'] = 0.5 * (1 - user_expectations['correlation'])\n",
    "\n",
    "# check new dataframe\n",
    "user_expectations"
   ],
   "metadata": {
    "collapsed": false,
    "pycharm": {
     "name": "#%%\n"
    }
   }
  },
  {
   "cell_type": "code",
   "execution_count": 8,
   "outputs": [
    {
     "data": {
      "text/plain": "<Figure size 432x288 with 1 Axes>",
      "image/png": "[encoded data removed]"
     },
     "metadata": {},
     "output_type": "display_data"
    }
   ],
   "source": [
    "import seaborn as sns\n",
    "import matplotlib.pyplot as plt\n",
    "\n",
    "sns.set_style('white')\n",
    "\n",
    "# check distribution of expectation values\n",
    "sns.histplot(data=user_expectations, x='expectation', color=[0.6, 0.6, 1.0], fill=True)\n",
    "plt.savefig('figures/expectations_distribution.png', dpi=200)\n",
    "plt.show()"
   ],
   "metadata": {
    "collapsed": false,
    "pycharm": {
     "name": "#%%\n"
    }
   }
  },
  {
   "cell_type": "code",
   "execution_count": 9,
   "outputs": [
    {
     "data": {
      "text/plain": "                     user_id      name  review_count        yelping_since  \\\n0     j14WgRoU_-2ZE1aw1dXrJg    Daniel          4333  2009-01-25 04:35:42   \n1     MGPQVLsODMm9ZtYQW-g_OA    Jelena          1807  2008-01-19 22:50:00   \n2     NIhcRW6DWvk1JQhDhXwgOQ       Lia          2288  2005-12-30 13:47:19   \n3     rppTTi-kfF8-qyiArNemag     Helen           460  2006-01-24 14:33:32   \n4     AkBtT43dYcttxQ3qOzPBAg    Sherri          1034  2007-02-20 18:21:07   \n...                      ...       ...           ...                  ...   \n9995  JX7mjMODvt96vQIj9ENzhw         R           221  2012-02-06 02:05:17   \n9996  mbvw-TCrr1GB0KKnhRm8Bw     Laura           141  2013-11-20 17:10:01   \n9997  KuApdo6_qx3K_wMqVDK3eA  Michelle           149  2018-08-21 14:32:38   \n9998  PVvxH6RF34ky9gvBrL6Zgg   Richard            85  2014-10-17 00:17:59   \n9999  I6x-ZBHeCNlMnmtfUVf5lg      Jeff            17  2017-06-08 03:54:34   \n\n      useful  funny   cool                                              elite  \\\n0      43091  13066  27281  2009,2010,2011,2012,2013,2014,2015,2016,2017,2...   \n1      17331  10461  13734  2008,2009,2010,2011,2012,2013,2014,2015,2016,2...   \n2      12773   4199   7971  2006,2007,2008,2009,2010,2011,2012,2013,2014,2...   \n3        700    149    425            2010,2012,2013,2014,2015,2016,2017,2018   \n4       3066   1485   2235  2007,2008,2009,2010,2011,2012,2013,2014,2015,2016   \n...      ...    ...    ...                                                ...   \n9995     536    195    226                     2016,2017,2018,2019,20,20,2021   \n9996     410     19    210                                    2019,20,20,2021   \n9997     129     12     52                                    2019,20,20,2021   \n9998      42      7     10                                                NaN   \n9999      92     13     95                                                NaN   \n\n                                                friends  fans  ...  \\\n0     ueRPE0CX75ePGMqOFVj6IQ, 52oH4DrRvzzl8wh5UXyU0A...  3138  ...   \n1     HpJzEFN1kyuH6VAF_usqKg, F_NG8ZaNVriV_hujoOejIA...   828  ...   \n2     T1upaPMzuW7pNj74fO1rjA, CP28puvAEimt4ziuGTDaHA...   345  ...   \n3     HzoQKKHDq9BI37dyJAAtGA, Inh7WS8hpmiUmNDhtLK-ZQ...    49  ...   \n4     Hg1EF9PjGfcKBSNMjvWBeQ, PcPminF0bIUsKjUh9e4DMQ...   114  ...   \n...                                                 ...   ...  ...   \n9995  QiciohgD8N6vCty4vGL3pQ, _aDK_NGbMmfGGE6sgDBqnA...    22  ...   \n9996  4IsGHKofyfefMEM6X-zP3A, US7juhqY2QYZ_SLW_53gqA...    11  ...   \n9997  G0Ex17NeMJUwqNIl8Z4ecw, IB2Zyn6ak7wt4YN-jBwP4w...     5  ...   \n9998                             qT1-N9hjbyjMW4Mvq4uU4w     2  ...   \n9999                             mPe-77ClRuIawuFsfR4tSg     1  ...   \n\n      compliment_cute  compliment_list  compliment_note  compliment_plain  \\\n0                 157              251             1847              7054   \n1                 395              130              915              3396   \n2                  47               21              518               773   \n3                   2                0               16                23   \n4                  83               23              229               570   \n...               ...              ...              ...               ...   \n9995                0                0               35                49   \n9996                0                0                7                11   \n9997                0                0                7                 7   \n9998                0                0                2                 0   \n9999                0                0                0                 2   \n\n      compliment_cool  compliment_funny  compliment_writer  compliment_photos  \\\n0                3131              3131               1521               1946   \n1                1915              1915                696                470   \n2                 867               867                310                231   \n3                  43                43                 20                 25   \n4                 528               528                118                 50   \n...               ...               ...                ...                ...   \n9995               27                27                  7                 16   \n9996               17                17                  4                  6   \n9997                6                 6                 12                  9   \n9998                0                 0                  1                  0   \n9999                0                 0                  1                  0   \n\n      correlation  expectation  \n0        0.112531     0.443735  \n1        0.147306     0.426347  \n2        0.230683     0.384659  \n3        0.085328     0.457336  \n4        0.207845     0.396078  \n...           ...          ...  \n9995    -0.018222     0.509111  \n9996     0.129754     0.435123  \n9997     0.148417     0.425791  \n9998     0.439042     0.280479  \n9999          NaN          NaN  \n\n[10000 rows x 24 columns]",
      "text/html": "<div>\n<style scoped>\n    .dataframe tbody tr th:only-of-type {\n        vertical-align: middle;\n    }\n\n    .dataframe tbody tr th {\n        vertical-align: top;\n    }\n\n    .dataframe thead th {\n        text-align: right;\n    }\n</style>\n<table border=\"1\" class=\"dataframe\">\n  <thead>\n    <tr style=\"text-align: right;\">\n      <th></th>\n      <th>user_id</th>\n      <th>name</th>\n      <th>review_count</th>\n      <th>yelping_since</th>\n      <th>useful</th>\n      <th>funny</th>\n      <th>cool</th>\n      <th>elite</th>\n      <th>friends</th>\n      <th>fans</th>\n      <th>...</th>\n      <th>compliment_cute</th>\n      <th>compliment_list</th>\n      <th>compliment_note</th>\n      <th>compliment_plain</th>\n      <th>compliment_cool</th>\n      <th>compliment_funny</th>\n      <th>compliment_writer</th>\n      <th>compliment_photos</th>\n      <th>correlation</th>\n      <th>expectation</th>\n    </tr>\n  </thead>\n  <tbody>\n    <tr>\n      <th>0</th>\n      <td>j14WgRoU_-2ZE1aw1dXrJg</td>\n      <td>Daniel</td>\n      <td>4333</td>\n      <td>2009-01-25 04:35:42</td>\n      <td>43091</td>\n      <td>13066</td>\n      <td>27281</td>\n      <td>2009,2010,2011,2012,2013,2014,2015,2016,2017,2...</td>\n      <td>ueRPE0CX75ePGMqOFVj6IQ, 52oH4DrRvzzl8wh5UXyU0A...</td>\n      <td>3138</td>\n      <td>...</td>\n      <td>157</td>\n      <td>251</td>\n      <td>1847</td>\n      <td>7054</td>\n      <td>3131</td>\n      <td>3131</td>\n      <td>1521</td>\n      <td>1946</td>\n      <td>0.112531</td>\n      <td>0.443735</td>\n    </tr>\n    <tr>\n      <th>1</th>\n      <td>MGPQVLsODMm9ZtYQW-g_OA</td>\n      <td>Jelena</td>\n      <td>1807</td>\n      <td>2008-01-19 22:50:00</td>\n      <td>17331</td>\n      <td>10461</td>\n      <td>13734</td>\n      <td>2008,2009,2010,2011,2012,2013,2014,2015,2016,2...</td>\n      <td>HpJzEFN1kyuH6VAF_usqKg, F_NG8ZaNVriV_hujoOejIA...</td>\n      <td>828</td>\n      <td>...</td>\n      <td>395</td>\n      <td>130</td>\n      <td>915</td>\n      <td>3396</td>\n      <td>1915</td>\n      <td>1915</td>\n      <td>696</td>\n      <td>470</td>\n      <td>0.147306</td>\n      <td>0.426347</td>\n    </tr>\n    <tr>\n      <th>2</th>\n      <td>NIhcRW6DWvk1JQhDhXwgOQ</td>\n      <td>Lia</td>\n      <td>2288</td>\n      <td>2005-12-30 13:47:19</td>\n      <td>12773</td>\n      <td>4199</td>\n      <td>7971</td>\n      <td>2006,2007,2008,2009,2010,2011,2012,2013,2014,2...</td>\n      <td>T1upaPMzuW7pNj74fO1rjA, CP28puvAEimt4ziuGTDaHA...</td>\n      <td>345</td>\n      <td>...</td>\n      <td>47</td>\n      <td>21</td>\n      <td>518</td>\n      <td>773</td>\n      <td>867</td>\n      <td>867</td>\n      <td>310</td>\n      <td>231</td>\n      <td>0.230683</td>\n      <td>0.384659</td>\n    </tr>\n    <tr>\n      <th>3</th>\n      <td>rppTTi-kfF8-qyiArNemag</td>\n      <td>Helen</td>\n      <td>460</td>\n      <td>2006-01-24 14:33:32</td>\n      <td>700</td>\n      <td>149</td>\n      <td>425</td>\n      <td>2010,2012,2013,2014,2015,2016,2017,2018</td>\n      <td>HzoQKKHDq9BI37dyJAAtGA, Inh7WS8hpmiUmNDhtLK-ZQ...</td>\n      <td>49</td>\n      <td>...</td>\n      <td>2</td>\n      <td>0</td>\n      <td>16</td>\n      <td>23</td>\n      <td>43</td>\n      <td>43</td>\n      <td>20</td>\n      <td>25</td>\n      <td>0.085328</td>\n      <td>0.457336</td>\n    </tr>\n    <tr>\n      <th>4</th>\n      <td>AkBtT43dYcttxQ3qOzPBAg</td>\n      <td>Sherri</td>\n      <td>1034</td>\n      <td>2007-02-20 18:21:07</td>\n      <td>3066</td>\n      <td>1485</td>\n      <td>2235</td>\n      <td>2007,2008,2009,2010,2011,2012,2013,2014,2015,2016</td>\n      <td>Hg1EF9PjGfcKBSNMjvWBeQ, PcPminF0bIUsKjUh9e4DMQ...</td>\n      <td>114</td>\n      <td>...</td>\n      <td>83</td>\n      <td>23</td>\n      <td>229</td>\n      <td>570</td>\n      <td>528</td>\n      <td>528</td>\n      <td>118</td>\n      <td>50</td>\n      <td>0.207845</td>\n      <td>0.396078</td>\n    </tr>\n    <tr>\n      <th>...</th>\n      <td>...</td>\n      <td>...</td>\n      <td>...</td>\n      <td>...</td>\n      <td>...</td>\n      <td>...</td>\n      <td>...</td>\n      <td>...</td>\n      <td>...</td>\n      <td>...</td>\n      <td>...</td>\n      <td>...</td>\n      <td>...</td>\n      <td>...</td>\n      <td>...</td>\n      <td>...</td>\n      <td>...</td>\n      <td>...</td>\n      <td>...</td>\n      <td>...</td>\n      <td>...</td>\n    </tr>\n    <tr>\n      <th>9995</th>\n      <td>JX7mjMODvt96vQIj9ENzhw</td>\n      <td>R</td>\n      <td>221</td>\n      <td>2012-02-06 02:05:17</td>\n      <td>536</td>\n      <td>195</td>\n      <td>226</td>\n      <td>2016,2017,2018,2019,20,20,2021</td>\n      <td>QiciohgD8N6vCty4vGL3pQ, _aDK_NGbMmfGGE6sgDBqnA...</td>\n      <td>22</td>\n      <td>...</td>\n      <td>0</td>\n      <td>0</td>\n      <td>35</td>\n      <td>49</td>\n      <td>27</td>\n      <td>27</td>\n      <td>7</td>\n      <td>16</td>\n      <td>-0.018222</td>\n      <td>0.509111</td>\n    </tr>\n    <tr>\n      <th>9996</th>\n      <td>mbvw-TCrr1GB0KKnhRm8Bw</td>\n      <td>Laura</td>\n      <td>141</td>\n      <td>2013-11-20 17:10:01</td>\n      <td>410</td>\n      <td>19</td>\n      <td>210</td>\n      <td>2019,20,20,2021</td>\n      <td>4IsGHKofyfefMEM6X-zP3A, US7juhqY2QYZ_SLW_53gqA...</td>\n      <td>11</td>\n      <td>...</td>\n      <td>0</td>\n      <td>0</td>\n      <td>7</td>\n      <td>11</td>\n      <td>17</td>\n      <td>17</td>\n      <td>4</td>\n      <td>6</td>\n      <td>0.129754</td>\n      <td>0.435123</td>\n    </tr>\n    <tr>\n      <th>9997</th>\n      <td>KuApdo6_qx3K_wMqVDK3eA</td>\n      <td>Michelle</td>\n      <td>149</td>\n      <td>2018-08-21 14:32:38</td>\n      <td>129</td>\n      <td>12</td>\n      <td>52</td>\n      <td>2019,20,20,2021</td>\n      <td>G0Ex17NeMJUwqNIl8Z4ecw, IB2Zyn6ak7wt4YN-jBwP4w...</td>\n      <td>5</td>\n      <td>...</td>\n      <td>0</td>\n      <td>0</td>\n      <td>7</td>\n      <td>7</td>\n      <td>6</td>\n      <td>6</td>\n      <td>12</td>\n      <td>9</td>\n      <td>0.148417</td>\n      <td>0.425791</td>\n    </tr>\n    <tr>\n      <th>9998</th>\n      <td>PVvxH6RF34ky9gvBrL6Zgg</td>\n      <td>Richard</td>\n      <td>85</td>\n      <td>2014-10-17 00:17:59</td>\n      <td>42</td>\n      <td>7</td>\n      <td>10</td>\n      <td>NaN</td>\n      <td>qT1-N9hjbyjMW4Mvq4uU4w</td>\n      <td>2</td>\n      <td>...</td>\n      <td>0</td>\n      <td>0</td>\n      <td>2</td>\n      <td>0</td>\n      <td>0</td>\n      <td>0</td>\n      <td>1</td>\n      <td>0</td>\n      <td>0.439042</td>\n      <td>0.280479</td>\n    </tr>\n    <tr>\n      <th>9999</th>\n      <td>I6x-ZBHeCNlMnmtfUVf5lg</td>\n      <td>Jeff</td>\n      <td>17</td>\n      <td>2017-06-08 03:54:34</td>\n      <td>92</td>\n      <td>13</td>\n      <td>95</td>\n      <td>NaN</td>\n      <td>mPe-77ClRuIawuFsfR4tSg</td>\n      <td>1</td>\n      <td>...</td>\n      <td>0</td>\n      <td>0</td>\n      <td>0</td>\n      <td>2</td>\n      <td>0</td>\n      <td>0</td>\n      <td>1</td>\n      <td>0</td>\n      <td>NaN</td>\n      <td>NaN</td>\n    </tr>\n  </tbody>\n</table>\n<p>10000 rows × 24 columns</p>\n</div>"
     },
     "execution_count": 9,
     "metadata": {},
     "output_type": "execute_result"
    }
   ],
   "source": [
    "# import data for users\n",
    "users = pd.read_csv('csv_data/yelp_academic_dataset_user.csv')\n",
    "\n",
    "# filter only the users we are interested on\n",
    "users = users[users['user_id'].isin(user_ids)]\n",
    "\n",
    "# merge dataframes\n",
    "users_with_expectations = users.merge(user_expectations, on='user_id')\n",
    "\n",
    "# check new dataframe\n",
    "users_with_expectations"
   ],
   "metadata": {
    "collapsed": false,
    "pycharm": {
     "name": "#%%\n"
    }
   }
  },
  {
   "cell_type": "code",
   "execution_count": 10,
   "outputs": [],
   "source": [
    "users_with_expectations.to_csv('processed_data/user_expectations.csv', index=False)"
   ],
   "metadata": {
    "collapsed": false,
    "pycharm": {
     "name": "#%%\n"
    }
   }
  },
  {
   "cell_type": "code",
   "execution_count": 10,
   "outputs": [],
   "source": [],
   "metadata": {
    "collapsed": false,
    "pycharm": {
     "name": "#%%\n"
    }
   }
  }
 ],
 "metadata": {
  "kernelspec": {
   "display_name": "Python 3",
   "language": "python",
   "name": "python3"
  },
  "language_info": {
   "codemirror_mode": {
    "name": "ipython",
    "version": 2
   },
   "file_extension": ".py",
   "mimetype": "text/x-python",
   "name": "python",
   "nbconvert_exporter": "python",
   "pygments_lexer": "ipython2",
   "version": "2.7.6"
  }
 },
 "nbformat": 4,
 "nbformat_minor": 0
}