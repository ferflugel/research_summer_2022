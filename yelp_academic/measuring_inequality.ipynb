{
 "cells": [
  {
   "cell_type": "code",
   "execution_count": 1,
   "metadata": {
    "collapsed": true,
    "pycharm": {
     "name": "#%%\n"
    }
   },
   "outputs": [
    {
     "data": {
      "text/plain": "                   business_id                           name  \\\n3       MTSW4McQd7CbVtyjqoe9mw             St Honore Pastries   \n5       CF33F8-E6oudUQ46HnavjQ                 Sonic Drive-In   \n8       k0hlBqXX-Bt0vf1op7Jr1w          Tsevi's Pub And Grill   \n9       bBDDEgkFA1Otx9Lfe7BZUQ                 Sonic Drive-In   \n12      il_Ro8jwPlHresjw9EGmBg                        Denny's   \n...                        ...                            ...   \n150325  l9eLGG9ZKpLJzboZq-9LRQ                           Wawa   \n150327  cM6V90ExQD6KMSU3rRB5ZA              Dutch Bros Coffee   \n150336  WnT9NIzQgLlILjPT0kEcsQ  Adelita Taqueria & Restaurant   \n150339  2O2K6SXPWv56amqxCECd4w                   The Plum Pit   \n150340  hn9Toz3s-Ei3uZPt7esExA          West Side Kebab House   \n\n                      address             city state postal_code   latitude  \\\n3                 935 Race St     Philadelphia    PA       19107  39.955505   \n5               615 S Main St     Ashland City    TN       37015  36.269593   \n8           8025 Mackenzie Rd           Affton    MO       63123  38.565165   \n9         2312 Dickerson Pike        Nashville    TN       37207  36.208102   \n12               8901 US 31 S     Indianapolis    IN       46227  39.637133   \n...                       ...              ...   ...         ...        ...   \n150325        19 N Bishop Ave  Clifton Heights    PA       19018  39.925656   \n150327    1181 N Milwaukee St            Boise    ID       83704  43.615401   \n150336          1108 S 9th St     Philadelphia    PA       19147  39.935982   \n150339        4405 Pennell Rd            Aston    DE       19014  39.856185   \n150340  2470 Guardian Road NW         Edmonton    AB     T5T 1K8  53.509649   \n\n         longitude  stars  review_count  is_open  \\\n3       -75.155564    4.0            80        1   \n5       -87.058943    2.0             6        1   \n8       -90.321087    3.0            19        0   \n9       -86.768170    1.5            10        1   \n12      -86.127217    2.5            28        1   \n...            ...    ...           ...      ...   \n150325  -75.310344    3.0            11        1   \n150327 -116.284689    4.0            33        1   \n150336  -75.158665    4.5            35        1   \n150339  -75.427725    4.5            14        1   \n150340 -113.675999    4.5            18        0   \n\n                                               attributes  \\\n3       {'RestaurantsDelivery': 'False', 'OutdoorSeati...   \n5       {'BusinessParking': 'None', 'BusinessAcceptsCr...   \n8       {'Caters': 'True', 'Alcohol': \"u'full_bar'\", '...   \n9       {'RestaurantsAttire': \"'casual'\", 'Restaurants...   \n12      {'RestaurantsReservations': 'False', 'Restaura...   \n...                                                   ...   \n150325  {'BikeParking': 'True', 'BusinessAcceptsCredit...   \n150327  {'WiFi': \"'free'\", 'RestaurantsGoodForGroups':...   \n150336  {'WheelchairAccessible': 'False', 'Restaurants...   \n150339  {'RestaurantsDelivery': 'False', 'BusinessAcce...   \n150340  {'Ambience': \"{'touristy': False, 'hipster': F...   \n\n                                               categories  \\\n3       Restaurants, Food, Bubble Tea, Coffee & Tea, B...   \n5       Burgers, Fast Food, Sandwiches, Food, Ice Crea...   \n8       Pubs, Restaurants, Italian, Bars, American (Tr...   \n9       Ice Cream & Frozen Yogurt, Fast Food, Burgers,...   \n12      American (Traditional), Restaurants, Diners, B...   \n...                                                   ...   \n150325  Restaurants, Sandwiches, Convenience Stores, C...   \n150327  Cafes, Juice Bars & Smoothies, Coffee & Tea, R...   \n150336                               Restaurants, Mexican   \n150339  Restaurants, Comfort Food, Food, Food Trucks, ...   \n150340                        Middle Eastern, Restaurants   \n\n                                                    hours  price  \n3       {'Monday': '7:0-20:0', 'Tuesday': '7:0-20:0', ...      1  \n5       {'Monday': '0:0-0:0', 'Tuesday': '6:0-22:0', '...      1  \n8                                                     NaN      1  \n9       {'Monday': '0:0-0:0', 'Tuesday': '6:0-21:0', '...      1  \n12      {'Monday': '6:0-22:0', 'Tuesday': '6:0-22:0', ...      1  \n...                                                   ...    ...  \n150325  {'Monday': '0:0-0:0', 'Tuesday': '0:0-0:0', 'W...      1  \n150327  {'Monday': '0:0-0:0', 'Tuesday': '0:0-17:0', '...      1  \n150336  {'Monday': '11:0-22:0', 'Tuesday': '11:0-22:0'...      2  \n150339  {'Monday': '0:0-0:0', 'Tuesday': '0:0-0:0', 'W...      1  \n150340  {'Monday': '11:0-22:0', 'Tuesday': '11:0-22:0'...      2  \n\n[44484 rows x 15 columns]",
      "text/html": "<div>\n<style scoped>\n    .dataframe tbody tr th:only-of-type {\n        vertical-align: middle;\n    }\n\n    .dataframe tbody tr th {\n        vertical-align: top;\n    }\n\n    .dataframe thead th {\n        text-align: right;\n    }\n</style>\n<table border=\"1\" class=\"dataframe\">\n  <thead>\n    <tr style=\"text-align: right;\">\n      <th></th>\n      <th>business_id</th>\n      <th>name</th>\n      <th>address</th>\n      <th>city</th>\n      <th>state</th>\n      <th>postal_code</th>\n      <th>latitude</th>\n      <th>longitude</th>\n      <th>stars</th>\n      <th>review_count</th>\n      <th>is_open</th>\n      <th>attributes</th>\n      <th>categories</th>\n      <th>hours</th>\n      <th>price</th>\n    </tr>\n  </thead>\n  <tbody>\n    <tr>\n      <th>3</th>\n      <td>MTSW4McQd7CbVtyjqoe9mw</td>\n      <td>St Honore Pastries</td>\n      <td>935 Race St</td>\n      <td>Philadelphia</td>\n      <td>PA</td>\n      <td>19107</td>\n      <td>39.955505</td>\n      <td>-75.155564</td>\n      <td>4.0</td>\n      <td>80</td>\n      <td>1</td>\n      <td>{'RestaurantsDelivery': 'False', 'OutdoorSeati...</td>\n      <td>Restaurants, Food, Bubble Tea, Coffee &amp; Tea, B...</td>\n      <td>{'Monday': '7:0-20:0', 'Tuesday': '7:0-20:0', ...</td>\n      <td>1</td>\n    </tr>\n    <tr>\n      <th>5</th>\n      <td>CF33F8-E6oudUQ46HnavjQ</td>\n      <td>Sonic Drive-In</td>\n      <td>615 S Main St</td>\n      <td>Ashland City</td>\n      <td>TN</td>\n      <td>37015</td>\n      <td>36.269593</td>\n      <td>-87.058943</td>\n      <td>2.0</td>\n      <td>6</td>\n      <td>1</td>\n      <td>{'BusinessParking': 'None', 'BusinessAcceptsCr...</td>\n      <td>Burgers, Fast Food, Sandwiches, Food, Ice Crea...</td>\n      <td>{'Monday': '0:0-0:0', 'Tuesday': '6:0-22:0', '...</td>\n      <td>1</td>\n    </tr>\n    <tr>\n      <th>8</th>\n      <td>k0hlBqXX-Bt0vf1op7Jr1w</td>\n      <td>Tsevi's Pub And Grill</td>\n      <td>8025 Mackenzie Rd</td>\n      <td>Affton</td>\n      <td>MO</td>\n      <td>63123</td>\n      <td>38.565165</td>\n      <td>-90.321087</td>\n      <td>3.0</td>\n      <td>19</td>\n      <td>0</td>\n      <td>{'Caters': 'True', 'Alcohol': \"u'full_bar'\", '...</td>\n      <td>Pubs, Restaurants, Italian, Bars, American (Tr...</td>\n      <td>NaN</td>\n      <td>1</td>\n    </tr>\n    <tr>\n      <th>9</th>\n      <td>bBDDEgkFA1Otx9Lfe7BZUQ</td>\n      <td>Sonic Drive-In</td>\n      <td>2312 Dickerson Pike</td>\n      <td>Nashville</td>\n      <td>TN</td>\n      <td>37207</td>\n      <td>36.208102</td>\n      <td>-86.768170</td>\n      <td>1.5</td>\n      <td>10</td>\n      <td>1</td>\n      <td>{'RestaurantsAttire': \"'casual'\", 'Restaurants...</td>\n      <td>Ice Cream &amp; Frozen Yogurt, Fast Food, Burgers,...</td>\n      <td>{'Monday': '0:0-0:0', 'Tuesday': '6:0-21:0', '...</td>\n      <td>1</td>\n    </tr>\n    <tr>\n      <th>12</th>\n      <td>il_Ro8jwPlHresjw9EGmBg</td>\n      <td>Denny's</td>\n      <td>8901 US 31 S</td>\n      <td>Indianapolis</td>\n      <td>IN</td>\n      <td>46227</td>\n      <td>39.637133</td>\n      <td>-86.127217</td>\n      <td>2.5</td>\n      <td>28</td>\n      <td>1</td>\n      <td>{'RestaurantsReservations': 'False', 'Restaura...</td>\n      <td>American (Traditional), Restaurants, Diners, B...</td>\n      <td>{'Monday': '6:0-22:0', 'Tuesday': '6:0-22:0', ...</td>\n      <td>1</td>\n    </tr>\n    <tr>\n      <th>...</th>\n      <td>...</td>\n      <td>...</td>\n      <td>...</td>\n      <td>...</td>\n      <td>...</td>\n      <td>...</td>\n      <td>...</td>\n      <td>...</td>\n      <td>...</td>\n      <td>...</td>\n      <td>...</td>\n      <td>...</td>\n      <td>...</td>\n      <td>...</td>\n      <td>...</td>\n    </tr>\n    <tr>\n      <th>150325</th>\n      <td>l9eLGG9ZKpLJzboZq-9LRQ</td>\n      <td>Wawa</td>\n      <td>19 N Bishop Ave</td>\n      <td>Clifton Heights</td>\n      <td>PA</td>\n      <td>19018</td>\n      <td>39.925656</td>\n      <td>-75.310344</td>\n      <td>3.0</td>\n      <td>11</td>\n      <td>1</td>\n      <td>{'BikeParking': 'True', 'BusinessAcceptsCredit...</td>\n      <td>Restaurants, Sandwiches, Convenience Stores, C...</td>\n      <td>{'Monday': '0:0-0:0', 'Tuesday': '0:0-0:0', 'W...</td>\n      <td>1</td>\n    </tr>\n    <tr>\n      <th>150327</th>\n      <td>cM6V90ExQD6KMSU3rRB5ZA</td>\n      <td>Dutch Bros Coffee</td>\n      <td>1181 N Milwaukee St</td>\n      <td>Boise</td>\n      <td>ID</td>\n      <td>83704</td>\n      <td>43.615401</td>\n      <td>-116.284689</td>\n      <td>4.0</td>\n      <td>33</td>\n      <td>1</td>\n      <td>{'WiFi': \"'free'\", 'RestaurantsGoodForGroups':...</td>\n      <td>Cafes, Juice Bars &amp; Smoothies, Coffee &amp; Tea, R...</td>\n      <td>{'Monday': '0:0-0:0', 'Tuesday': '0:0-17:0', '...</td>\n      <td>1</td>\n    </tr>\n    <tr>\n      <th>150336</th>\n      <td>WnT9NIzQgLlILjPT0kEcsQ</td>\n      <td>Adelita Taqueria &amp; Restaurant</td>\n      <td>1108 S 9th St</td>\n      <td>Philadelphia</td>\n      <td>PA</td>\n      <td>19147</td>\n      <td>39.935982</td>\n      <td>-75.158665</td>\n      <td>4.5</td>\n      <td>35</td>\n      <td>1</td>\n      <td>{'WheelchairAccessible': 'False', 'Restaurants...</td>\n      <td>Restaurants, Mexican</td>\n      <td>{'Monday': '11:0-22:0', 'Tuesday': '11:0-22:0'...</td>\n      <td>2</td>\n    </tr>\n    <tr>\n      <th>150339</th>\n      <td>2O2K6SXPWv56amqxCECd4w</td>\n      <td>The Plum Pit</td>\n      <td>4405 Pennell Rd</td>\n      <td>Aston</td>\n      <td>DE</td>\n      <td>19014</td>\n      <td>39.856185</td>\n      <td>-75.427725</td>\n      <td>4.5</td>\n      <td>14</td>\n      <td>1</td>\n      <td>{'RestaurantsDelivery': 'False', 'BusinessAcce...</td>\n      <td>Restaurants, Comfort Food, Food, Food Trucks, ...</td>\n      <td>{'Monday': '0:0-0:0', 'Tuesday': '0:0-0:0', 'W...</td>\n      <td>1</td>\n    </tr>\n    <tr>\n      <th>150340</th>\n      <td>hn9Toz3s-Ei3uZPt7esExA</td>\n      <td>West Side Kebab House</td>\n      <td>2470 Guardian Road NW</td>\n      <td>Edmonton</td>\n      <td>AB</td>\n      <td>T5T 1K8</td>\n      <td>53.509649</td>\n      <td>-113.675999</td>\n      <td>4.5</td>\n      <td>18</td>\n      <td>0</td>\n      <td>{'Ambience': \"{'touristy': False, 'hipster': F...</td>\n      <td>Middle Eastern, Restaurants</td>\n      <td>{'Monday': '11:0-22:0', 'Tuesday': '11:0-22:0'...</td>\n      <td>2</td>\n    </tr>\n  </tbody>\n</table>\n<p>44484 rows × 15 columns</p>\n</div>"
     },
     "execution_count": 1,
     "metadata": {},
     "output_type": "execute_result"
    }
   ],
   "source": [
    "import pandas as pd\n",
    "import ast\n",
    "\n",
    "# import dataset for businesses\n",
    "businesses = pd.read_csv('csv_data/yelp_academic_dataset_business.csv')\n",
    "\n",
    "# create a column for the price range\n",
    "businesses.dropna(subset=['attributes'])\n",
    "businesses = businesses[businesses['attributes'].str.contains('RestaurantsPriceRange2', na=False)]\n",
    "businesses = businesses[businesses['categories'].str.contains('Restaurants', na=False)]\n",
    "businesses['price'] = businesses['attributes'].apply(lambda x: ast.literal_eval(x).get('RestaurantsPriceRange2'))\n",
    "businesses.dropna(subset=['price'])\n",
    "\n",
    "# getting businesses without price range out\n",
    "businesses = businesses[businesses['price'].isin(['1', '2', '3', '4'])]\n",
    "businesses['price'] = businesses['price'].astype('int')\n",
    "\n",
    "# check results\n",
    "businesses"
   ]
  },
  {
   "cell_type": "code",
   "execution_count": 2,
   "outputs": [],
   "source": [
    "# import reviews data\n",
    "reviews = pd.read_csv('csv_data/yelp_academic_dataset_review.csv')\n",
    "\n",
    "# filter the reviews data to businesses with price range\n",
    "reviews = reviews[reviews['business_id'].isin(businesses['business_id'].tolist())]"
   ],
   "metadata": {
    "collapsed": false,
    "pycharm": {
     "name": "#%%\n"
    }
   }
  },
  {
   "cell_type": "code",
   "execution_count": 3,
   "outputs": [
    {
     "data": {
      "text/plain": "                      review_id                 user_id  \\\n0        KU_O5udG6zpxOg-VcAEodg  mh_-eMZ6K5RLWhZyISBhwA   \n2        saUsX_uimxRlCVr67Z4Jig  8g_iMtfSiwikVnbP2etR0A   \n3        AqPFMleE6RsU23_auESxiA  _7bHUi9Uuf5__HHc_Q8guQ   \n4        Sx8TMOWLNuJBWer-0pcmoA  bcjbaE6dDog4jkNY91ncLQ   \n5        JrIxlS1TzJ-iCu79ul40cQ  eUta8W_HdHMXPzLBBZhL1A   \n...                         ...                     ...   \n6990271  cACxcUY_AIsQKkpDRXuqnw  MCzlzlOw7IGbRAKVjJBPtg   \n6990272  7NgXAuTFiJHYbuepOPwU0w  x1QLCwZGFAjxRRw4EHc3-g   \n6990276  YVX1Wsa4LYxjvFwuHBb_gA  RKPkxOYQlM0BjhM-H6_vAw   \n6990280  i-I4ZOhoX70Nw5H0FwrQUA  YwAMC-jvZ1fvEUum6QkEkw   \n6990281  RwcKOdEuLRHNJe4M9-qpqg  6JehEvdoCvZPJ_XIxnzIIw   \n\n                    business_id  stars  useful  funny  cool  \\\n0        XQfwVwDr-v0ZS3_CbbE5Xw    3.0     0.0    0.0   0.0   \n2        YjUWPpI6HXG530lwP-fb2A    3.0     0.0    0.0   0.0   \n3        kxX2SOes4o-D3ZQBkiMRfA    5.0     1.0    0.0   1.0   \n4        e4Vwtrqf-wpJfwesgvdgxQ    4.0     1.0    0.0   1.0   \n5        04UD14gamNjLY0IDYVhHJg    1.0     1.0    2.0   1.0   \n...                         ...    ...     ...    ...   ...   \n6990271  fcGexL5VH5G2Xw0tRj9uOQ    3.0     1.0    1.0   0.0   \n6990272  1_BVWDzi5cVqWxNe9bOMMQ    5.0     1.0    0.0   1.0   \n6990276  X4mouE_cMiwbfyCPZ_K-FA    4.0     3.0    0.0   2.0   \n6990280  Rr9kKArrMhSLVE9a53q-aA    5.0     1.0    0.0   0.0   \n6990281  VAeEXLbEcI9Emt9KGYq9aA    3.0    10.0    3.0   7.0   \n\n                                                      text  \\\n0        If you decide to eat here, just be aware it is...   \n2        Family diner. Had the buffet. Eclectic assortm...   \n3        Wow!  Yummy, different,  delicious.   Our favo...   \n4        Cute interior and owner (?) gave us tour of up...   \n5        I am a long term frequent customer of this est...   \n...                                                    ...   \n6990271  This is a good pizza option - they deliver thr...   \n6990272  Don't misinterpret my 5-star review....I don't...   \n6990276  Good, maybe very good.  I went for lunch, so t...   \n6990280  For when I'm feeling like ignoring my calorie-...   \n6990281  Located in the 'Walking District' in Nashville...   \n\n                        date  price_range state  \n0        2018-07-07 22:09:11            2    PA  \n2        2014-02-05 20:30:30            1    AZ  \n3        2015-01-04 00:01:03            2    PA  \n4        2017-01-14 20:54:15            2    LA  \n5        2015-09-23 23:10:31            2    PA  \n...                      ...          ...   ...  \n6990271  2018-03-13 13:54:48            2    PA  \n6990272  2016-04-30 01:02:34            1    MO  \n6990276  2015-01-23 23:52:03            2    NJ  \n6990280  2022-01-19 18:59:27            2    IN  \n6990281  2018-01-02 22:50:47            2    TN  \n\n[4548086 rows x 11 columns]",
      "text/html": "<div>\n<style scoped>\n    .dataframe tbody tr th:only-of-type {\n        vertical-align: middle;\n    }\n\n    .dataframe tbody tr th {\n        vertical-align: top;\n    }\n\n    .dataframe thead th {\n        text-align: right;\n    }\n</style>\n<table border=\"1\" class=\"dataframe\">\n  <thead>\n    <tr style=\"text-align: right;\">\n      <th></th>\n      <th>review_id</th>\n      <th>user_id</th>\n      <th>business_id</th>\n      <th>stars</th>\n      <th>useful</th>\n      <th>funny</th>\n      <th>cool</th>\n      <th>text</th>\n      <th>date</th>\n      <th>price_range</th>\n      <th>state</th>\n    </tr>\n  </thead>\n  <tbody>\n    <tr>\n      <th>0</th>\n      <td>KU_O5udG6zpxOg-VcAEodg</td>\n      <td>mh_-eMZ6K5RLWhZyISBhwA</td>\n      <td>XQfwVwDr-v0ZS3_CbbE5Xw</td>\n      <td>3.0</td>\n      <td>0.0</td>\n      <td>0.0</td>\n      <td>0.0</td>\n      <td>If you decide to eat here, just be aware it is...</td>\n      <td>2018-07-07 22:09:11</td>\n      <td>2</td>\n      <td>PA</td>\n    </tr>\n    <tr>\n      <th>2</th>\n      <td>saUsX_uimxRlCVr67Z4Jig</td>\n      <td>8g_iMtfSiwikVnbP2etR0A</td>\n      <td>YjUWPpI6HXG530lwP-fb2A</td>\n      <td>3.0</td>\n      <td>0.0</td>\n      <td>0.0</td>\n      <td>0.0</td>\n      <td>Family diner. Had the buffet. Eclectic assortm...</td>\n      <td>2014-02-05 20:30:30</td>\n      <td>1</td>\n      <td>AZ</td>\n    </tr>\n    <tr>\n      <th>3</th>\n      <td>AqPFMleE6RsU23_auESxiA</td>\n      <td>_7bHUi9Uuf5__HHc_Q8guQ</td>\n      <td>kxX2SOes4o-D3ZQBkiMRfA</td>\n      <td>5.0</td>\n      <td>1.0</td>\n      <td>0.0</td>\n      <td>1.0</td>\n      <td>Wow!  Yummy, different,  delicious.   Our favo...</td>\n      <td>2015-01-04 00:01:03</td>\n      <td>2</td>\n      <td>PA</td>\n    </tr>\n    <tr>\n      <th>4</th>\n      <td>Sx8TMOWLNuJBWer-0pcmoA</td>\n      <td>bcjbaE6dDog4jkNY91ncLQ</td>\n      <td>e4Vwtrqf-wpJfwesgvdgxQ</td>\n      <td>4.0</td>\n      <td>1.0</td>\n      <td>0.0</td>\n      <td>1.0</td>\n      <td>Cute interior and owner (?) gave us tour of up...</td>\n      <td>2017-01-14 20:54:15</td>\n      <td>2</td>\n      <td>LA</td>\n    </tr>\n    <tr>\n      <th>5</th>\n      <td>JrIxlS1TzJ-iCu79ul40cQ</td>\n      <td>eUta8W_HdHMXPzLBBZhL1A</td>\n      <td>04UD14gamNjLY0IDYVhHJg</td>\n      <td>1.0</td>\n      <td>1.0</td>\n      <td>2.0</td>\n      <td>1.0</td>\n      <td>I am a long term frequent customer of this est...</td>\n      <td>2015-09-23 23:10:31</td>\n      <td>2</td>\n      <td>PA</td>\n    </tr>\n    <tr>\n      <th>...</th>\n      <td>...</td>\n      <td>...</td>\n      <td>...</td>\n      <td>...</td>\n      <td>...</td>\n      <td>...</td>\n      <td>...</td>\n      <td>...</td>\n      <td>...</td>\n      <td>...</td>\n      <td>...</td>\n    </tr>\n    <tr>\n      <th>6990271</th>\n      <td>cACxcUY_AIsQKkpDRXuqnw</td>\n      <td>MCzlzlOw7IGbRAKVjJBPtg</td>\n      <td>fcGexL5VH5G2Xw0tRj9uOQ</td>\n      <td>3.0</td>\n      <td>1.0</td>\n      <td>1.0</td>\n      <td>0.0</td>\n      <td>This is a good pizza option - they deliver thr...</td>\n      <td>2018-03-13 13:54:48</td>\n      <td>2</td>\n      <td>PA</td>\n    </tr>\n    <tr>\n      <th>6990272</th>\n      <td>7NgXAuTFiJHYbuepOPwU0w</td>\n      <td>x1QLCwZGFAjxRRw4EHc3-g</td>\n      <td>1_BVWDzi5cVqWxNe9bOMMQ</td>\n      <td>5.0</td>\n      <td>1.0</td>\n      <td>0.0</td>\n      <td>1.0</td>\n      <td>Don't misinterpret my 5-star review....I don't...</td>\n      <td>2016-04-30 01:02:34</td>\n      <td>1</td>\n      <td>MO</td>\n    </tr>\n    <tr>\n      <th>6990276</th>\n      <td>YVX1Wsa4LYxjvFwuHBb_gA</td>\n      <td>RKPkxOYQlM0BjhM-H6_vAw</td>\n      <td>X4mouE_cMiwbfyCPZ_K-FA</td>\n      <td>4.0</td>\n      <td>3.0</td>\n      <td>0.0</td>\n      <td>2.0</td>\n      <td>Good, maybe very good.  I went for lunch, so t...</td>\n      <td>2015-01-23 23:52:03</td>\n      <td>2</td>\n      <td>NJ</td>\n    </tr>\n    <tr>\n      <th>6990280</th>\n      <td>i-I4ZOhoX70Nw5H0FwrQUA</td>\n      <td>YwAMC-jvZ1fvEUum6QkEkw</td>\n      <td>Rr9kKArrMhSLVE9a53q-aA</td>\n      <td>5.0</td>\n      <td>1.0</td>\n      <td>0.0</td>\n      <td>0.0</td>\n      <td>For when I'm feeling like ignoring my calorie-...</td>\n      <td>2022-01-19 18:59:27</td>\n      <td>2</td>\n      <td>IN</td>\n    </tr>\n    <tr>\n      <th>6990281</th>\n      <td>RwcKOdEuLRHNJe4M9-qpqg</td>\n      <td>6JehEvdoCvZPJ_XIxnzIIw</td>\n      <td>VAeEXLbEcI9Emt9KGYq9aA</td>\n      <td>3.0</td>\n      <td>10.0</td>\n      <td>3.0</td>\n      <td>7.0</td>\n      <td>Located in the 'Walking District' in Nashville...</td>\n      <td>2018-01-02 22:50:47</td>\n      <td>2</td>\n      <td>TN</td>\n    </tr>\n  </tbody>\n</table>\n<p>4548086 rows × 11 columns</p>\n</div>"
     },
     "execution_count": 3,
     "metadata": {},
     "output_type": "execute_result"
    }
   ],
   "source": [
    "# transfer information from price range to reviews\n",
    "price_information = dict(zip(businesses['business_id'].tolist(), businesses['price'].tolist()))\n",
    "reviews['price_range'] = reviews['business_id'].apply(lambda x: price_information.get(x))\n",
    "\n",
    "# transfer information from states to reviews\n",
    "state_information = dict(zip(businesses['business_id'].tolist(), businesses['state'].tolist()))\n",
    "reviews['state'] = reviews['business_id'].apply(lambda x: state_information.get(x))\n",
    "\n",
    "# check results\n",
    "reviews"
   ],
   "metadata": {
    "collapsed": false,
    "pycharm": {
     "name": "#%%\n"
    }
   }
  },
  {
   "cell_type": "code",
   "execution_count": 4,
   "outputs": [
    {
     "data": {
      "text/plain": "{'AZ': 0.12756296541084433,\n 'NJ': 0.12277865017973133,\n 'TN': 0.12100098701960504,\n 'CA': 0.11874571158729619,\n 'DE': 0.11194492424670366,\n 'ID': 0.11683807058562934,\n 'FL': 0.11893082191877902,\n 'NV': 0.09998388910762346,\n 'IN': 0.12679131132291865,\n 'IL': 0.13238512588628704,\n 'PA': 0.12798271826968544,\n 'MO': 0.11335908442498521,\n 'LA': 0.09815819495101852}"
     },
     "execution_count": 4,
     "metadata": {},
     "output_type": "execute_result"
    }
   ],
   "source": [
    "from yelp_functions import gini_index_sample\n",
    "\n",
    "# create a set with all the states and a dictionary to store the values of G\n",
    "states = set(businesses['state'].tolist())\n",
    "G_values = dict()\n",
    "\n",
    "# fill the dictionary with the G values\n",
    "for state in states:\n",
    "    if state in ['AB', 'CO', 'NC', 'XMS']:\n",
    "        pass\n",
    "    else:\n",
    "        state_reviews = reviews.loc[reviews['state'] == state]\n",
    "        state_reviews = state_reviews.groupby('user_id').mean()\n",
    "        G_values[state] = gini_index_sample(state_reviews['price_range'].tolist())\n",
    "\n",
    "G_values"
   ],
   "metadata": {
    "collapsed": false,
    "pycharm": {
     "name": "#%%\n"
    }
   }
  },
  {
   "cell_type": "code",
   "execution_count": 5,
   "outputs": [
    {
     "data": {
      "text/plain": "   state         G\n0     AZ  0.127563\n1     NJ  0.122779\n2     TN  0.121001\n3     CA  0.118746\n4     DE  0.111945\n5     ID  0.116838\n6     FL  0.118931\n7     NV  0.099984\n8     IN  0.126791\n9     IL  0.132385\n10    PA  0.127983\n11    MO  0.113359\n12    LA  0.098158",
      "text/html": "<div>\n<style scoped>\n    .dataframe tbody tr th:only-of-type {\n        vertical-align: middle;\n    }\n\n    .dataframe tbody tr th {\n        vertical-align: top;\n    }\n\n    .dataframe thead th {\n        text-align: right;\n    }\n</style>\n<table border=\"1\" class=\"dataframe\">\n  <thead>\n    <tr style=\"text-align: right;\">\n      <th></th>\n      <th>state</th>\n      <th>G</th>\n    </tr>\n  </thead>\n  <tbody>\n    <tr>\n      <th>0</th>\n      <td>AZ</td>\n      <td>0.127563</td>\n    </tr>\n    <tr>\n      <th>1</th>\n      <td>NJ</td>\n      <td>0.122779</td>\n    </tr>\n    <tr>\n      <th>2</th>\n      <td>TN</td>\n      <td>0.121001</td>\n    </tr>\n    <tr>\n      <th>3</th>\n      <td>CA</td>\n      <td>0.118746</td>\n    </tr>\n    <tr>\n      <th>4</th>\n      <td>DE</td>\n      <td>0.111945</td>\n    </tr>\n    <tr>\n      <th>5</th>\n      <td>ID</td>\n      <td>0.116838</td>\n    </tr>\n    <tr>\n      <th>6</th>\n      <td>FL</td>\n      <td>0.118931</td>\n    </tr>\n    <tr>\n      <th>7</th>\n      <td>NV</td>\n      <td>0.099984</td>\n    </tr>\n    <tr>\n      <th>8</th>\n      <td>IN</td>\n      <td>0.126791</td>\n    </tr>\n    <tr>\n      <th>9</th>\n      <td>IL</td>\n      <td>0.132385</td>\n    </tr>\n    <tr>\n      <th>10</th>\n      <td>PA</td>\n      <td>0.127983</td>\n    </tr>\n    <tr>\n      <th>11</th>\n      <td>MO</td>\n      <td>0.113359</td>\n    </tr>\n    <tr>\n      <th>12</th>\n      <td>LA</td>\n      <td>0.098158</td>\n    </tr>\n  </tbody>\n</table>\n</div>"
     },
     "execution_count": 5,
     "metadata": {},
     "output_type": "execute_result"
    }
   ],
   "source": [
    "# create a dataframe for the data using G values\n",
    "inequality_data = pd.DataFrame.from_dict(G_values, orient='index').reset_index()\n",
    "inequality_data.rename(columns = {'index': 'state', 0: 'G'}, inplace = True)\n",
    "\n",
    "inequality_data"
   ],
   "metadata": {
    "collapsed": false,
    "pycharm": {
     "name": "#%%\n"
    }
   }
  },
  {
   "cell_type": "code",
   "execution_count": 6,
   "outputs": [
    {
     "data": {
      "text/plain": "   state_x         G       state_y postal_code  gini_index_2019  gdppc_2021\n0       AZ  0.127563       Arizona          AZ           0.4591       56511\n1       NJ  0.122779    New Jersey          NJ           0.4782       72524\n2       TN  0.121001     Tennessee          TN           0.4749       59969\n3       CA  0.118746    California          CA           0.4866       85546\n4       DE  0.111945      Delaware          DE           0.4509       80446\n5       ID  0.116838         Idaho          ID           0.4337       49616\n6       FL  0.118931       Florida          FL           0.4808       56301\n7       NV  0.099984        Nevada          NV           0.4710       61375\n8       IN  0.126791       Indiana          IN           0.4584       61760\n9       IL  0.132385      Illinois          IL           0.4800       74052\n10      PA  0.127983  Pennsylvania          PA           0.4745       64751\n11      MO  0.113359      Missouri          MO           0.4633       58356\n12      LA  0.098158     Louisiana          LA           0.4978       55213",
      "text/html": "<div>\n<style scoped>\n    .dataframe tbody tr th:only-of-type {\n        vertical-align: middle;\n    }\n\n    .dataframe tbody tr th {\n        vertical-align: top;\n    }\n\n    .dataframe thead th {\n        text-align: right;\n    }\n</style>\n<table border=\"1\" class=\"dataframe\">\n  <thead>\n    <tr style=\"text-align: right;\">\n      <th></th>\n      <th>state_x</th>\n      <th>G</th>\n      <th>state_y</th>\n      <th>postal_code</th>\n      <th>gini_index_2019</th>\n      <th>gdppc_2021</th>\n    </tr>\n  </thead>\n  <tbody>\n    <tr>\n      <th>0</th>\n      <td>AZ</td>\n      <td>0.127563</td>\n      <td>Arizona</td>\n      <td>AZ</td>\n      <td>0.4591</td>\n      <td>56511</td>\n    </tr>\n    <tr>\n      <th>1</th>\n      <td>NJ</td>\n      <td>0.122779</td>\n      <td>New Jersey</td>\n      <td>NJ</td>\n      <td>0.4782</td>\n      <td>72524</td>\n    </tr>\n    <tr>\n      <th>2</th>\n      <td>TN</td>\n      <td>0.121001</td>\n      <td>Tennessee</td>\n      <td>TN</td>\n      <td>0.4749</td>\n      <td>59969</td>\n    </tr>\n    <tr>\n      <th>3</th>\n      <td>CA</td>\n      <td>0.118746</td>\n      <td>California</td>\n      <td>CA</td>\n      <td>0.4866</td>\n      <td>85546</td>\n    </tr>\n    <tr>\n      <th>4</th>\n      <td>DE</td>\n      <td>0.111945</td>\n      <td>Delaware</td>\n      <td>DE</td>\n      <td>0.4509</td>\n      <td>80446</td>\n    </tr>\n    <tr>\n      <th>5</th>\n      <td>ID</td>\n      <td>0.116838</td>\n      <td>Idaho</td>\n      <td>ID</td>\n      <td>0.4337</td>\n      <td>49616</td>\n    </tr>\n    <tr>\n      <th>6</th>\n      <td>FL</td>\n      <td>0.118931</td>\n      <td>Florida</td>\n      <td>FL</td>\n      <td>0.4808</td>\n      <td>56301</td>\n    </tr>\n    <tr>\n      <th>7</th>\n      <td>NV</td>\n      <td>0.099984</td>\n      <td>Nevada</td>\n      <td>NV</td>\n      <td>0.4710</td>\n      <td>61375</td>\n    </tr>\n    <tr>\n      <th>8</th>\n      <td>IN</td>\n      <td>0.126791</td>\n      <td>Indiana</td>\n      <td>IN</td>\n      <td>0.4584</td>\n      <td>61760</td>\n    </tr>\n    <tr>\n      <th>9</th>\n      <td>IL</td>\n      <td>0.132385</td>\n      <td>Illinois</td>\n      <td>IL</td>\n      <td>0.4800</td>\n      <td>74052</td>\n    </tr>\n    <tr>\n      <th>10</th>\n      <td>PA</td>\n      <td>0.127983</td>\n      <td>Pennsylvania</td>\n      <td>PA</td>\n      <td>0.4745</td>\n      <td>64751</td>\n    </tr>\n    <tr>\n      <th>11</th>\n      <td>MO</td>\n      <td>0.113359</td>\n      <td>Missouri</td>\n      <td>MO</td>\n      <td>0.4633</td>\n      <td>58356</td>\n    </tr>\n    <tr>\n      <th>12</th>\n      <td>LA</td>\n      <td>0.098158</td>\n      <td>Louisiana</td>\n      <td>LA</td>\n      <td>0.4978</td>\n      <td>55213</td>\n    </tr>\n  </tbody>\n</table>\n</div>"
     },
     "execution_count": 6,
     "metadata": {},
     "output_type": "execute_result"
    }
   ],
   "source": [
    "# merge data from gini index with the inequality dataframe\n",
    "states_data = pd.read_csv('processed_data/states_data.csv')\n",
    "inequality_data = inequality_data.merge(states_data, left_on='state', right_on='postal_code')\n",
    "\n",
    "inequality_data"
   ],
   "metadata": {
    "collapsed": false,
    "pycharm": {
     "name": "#%%\n"
    }
   }
  },
  {
   "cell_type": "code",
   "execution_count": 9,
   "outputs": [
    {
     "name": "stdout",
     "output_type": "stream",
     "text": [
      "regression score 0.023958810403961972\n",
      "regression coefficients [-0.25013644]\n",
      "y_intercept 0.4995019422109342\n"
     ]
    }
   ],
   "source": [
    "from sklearn.linear_model import LinearRegression\n",
    "\n",
    "# create a linear model to map G to gini index\n",
    "X = inequality_data[['G']]\n",
    "y = inequality_data['gini_index_2019']\n",
    "\n",
    "# fit the regression model\n",
    "reg = LinearRegression().fit(X, y)\n",
    "\n",
    "# get regression score and\n",
    "print('regression score', reg.score(X, y))\n",
    "\n",
    "# see coefficients\n",
    "print('regression coefficients', reg.coef_)\n",
    "print('y_intercept', reg.intercept_)"
   ],
   "metadata": {
    "collapsed": false,
    "pycharm": {
     "name": "#%%\n"
    }
   }
  },
  {
   "cell_type": "code",
   "execution_count": 22,
   "outputs": [
    {
     "data": {
      "text/plain": "<Figure size 432x288 with 1 Axes>",
      "image/png": "[encoded data removed]"
     },
     "metadata": {
      "needs_background": "light"
     },
     "output_type": "display_data"
    }
   ],
   "source": [
    "import seaborn as sns\n",
    "import matplotlib.pyplot as plt\n",
    "\n",
    "# create a column for predictions\n",
    "inequality_data['I'] = reg.predict(X)\n",
    "\n",
    "# Plot G data vs gini_index\n",
    "sns.scatterplot(data=inequality_data, x='gini_index_2019', y='G', color='blue', alpha=0.4)\n",
    "plt.ylabel('G_values')\n",
    "plt.xlim(0.415, 0.51)\n",
    "plt.savefig('figures/gini_index_vs_G.png', dpi=100)\n",
    "plt.show()"
   ],
   "metadata": {
    "collapsed": false,
    "pycharm": {
     "name": "#%%\n"
    }
   }
  },
  {
   "cell_type": "code",
   "execution_count": 23,
   "outputs": [
    {
     "data": {
      "text/plain": "<Figure size 432x288 with 1 Axes>",
      "image/png": "[encoded data removed]"
     },
     "metadata": {
      "needs_background": "light"
     },
     "output_type": "display_data"
    }
   ],
   "source": [
    "# Plot I data vs gini_index\n",
    "sns.scatterplot(data=inequality_data, x='gini_index_2019', y='I', color='blue', alpha=0.4)\n",
    "plt.ylabel('I_values')\n",
    "plt.xlim(0.415, 0.51)\n",
    "plt.ylim(0.415, 0.51)\n",
    "plt.savefig('figures/gini_index_vs_I.png', dpi=100)\n",
    "plt.show()"
   ],
   "metadata": {
    "collapsed": false,
    "pycharm": {
     "name": "#%%\n"
    }
   }
  }
 ],
 "metadata": {
  "kernelspec": {
   "display_name": "Python 3",
   "language": "python",
   "name": "python3"
  },
  "language_info": {
   "codemirror_mode": {
    "name": "ipython",
    "version": 2
   },
   "file_extension": ".py",
   "mimetype": "text/x-python",
   "name": "python",
   "nbconvert_exporter": "python",
   "pygments_lexer": "ipython2",
   "version": "2.7.6"
  }
 },
 "nbformat": 4,
 "nbformat_minor": 0
}