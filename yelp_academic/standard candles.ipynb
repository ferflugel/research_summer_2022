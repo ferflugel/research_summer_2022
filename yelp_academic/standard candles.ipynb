{
 "cells": [
  {
   "cell_type": "code",
   "execution_count": 59,
   "metadata": {
    "collapsed": true
   },
   "outputs": [
    {
     "name": "stdout",
     "output_type": "stream",
     "text": [
      "(479, 14)\n"
     ]
    }
   ],
   "source": [
    "import pandas as pd\n",
    "\n",
    "# retrieve data for businesses\n",
    "businesses = pd.read_csv('csv_data/yelp_academic_dataset_business.csv')\n",
    "\n",
    "# filter only subways\n",
    "subways = businesses[businesses['name'].str[0:6] == 'Subway']\n",
    "print(subways.shape)"
   ]
  },
  {
   "cell_type": "code",
   "execution_count": 60,
   "outputs": [
    {
     "data": {
      "text/plain": "<Figure size 432x288 with 1 Axes>",
      "image/png": "[encoded data removed]"
     },
     "metadata": {
      "needs_background": "light"
     },
     "output_type": "display_data"
    }
   ],
   "source": [
    "import matplotlib.pyplot as plt\n",
    "import seaborn as sns\n",
    "\n",
    "# let's visualize the distribution of stars to check how skewed is the data\n",
    "sns.countplot(data=subways, x='stars')\n",
    "plt.show()"
   ],
   "metadata": {
    "collapsed": false,
    "pycharm": {
     "name": "#%%\n"
    }
   }
  },
  {
   "cell_type": "code",
   "execution_count": 61,
   "outputs": [
    {
     "name": "stdout",
     "output_type": "stream",
     "text": [
      "(14, 5)\n"
     ]
    },
    {
     "data": {
      "text/plain": "<Figure size 432x288 with 1 Axes>",
      "image/png": "[encoded data removed]"
     },
     "metadata": {
      "needs_background": "light"
     },
     "output_type": "display_data"
    }
   ],
   "source": [
    "# we now group the subways by city\n",
    "subways_by_state = subways.groupby('state').mean()\n",
    "print(subways_by_state.shape)\n",
    "\n",
    "# let's visualize the distribution of stars to check how skewed is the data\n",
    "sns.histplot(data=subways_by_state, x='stars')\n",
    "plt.savefig('figures/subways_stars_distribution.png', dpi=80)\n",
    "plt.show()"
   ],
   "metadata": {
    "collapsed": false,
    "pycharm": {
     "name": "#%%\n"
    }
   }
  },
  {
   "cell_type": "code",
   "execution_count": 62,
   "outputs": [
    {
     "data": {
      "text/plain": "<Figure size 432x288 with 1 Axes>",
      "image/png": "[encoded data removed]"
     },
     "metadata": {
      "needs_background": "light"
     },
     "output_type": "display_data"
    }
   ],
   "source": [
    "# getting the mean rating per city\n",
    "restaurants = businesses.fillna('dummy')\n",
    "restaurants = restaurants[restaurants['categories'].str.contains('Restaurants')]\n",
    "restaurants_by_state = restaurants.groupby('state').mean()\n",
    "\n",
    "# let's visualize the distribution of stars to check how skewed is the data\n",
    "sns.histplot(data=restaurants_by_state, x='stars')\n",
    "plt.show()"
   ],
   "metadata": {
    "collapsed": false,
    "pycharm": {
     "name": "#%%\n"
    }
   }
  },
  {
   "cell_type": "code",
   "execution_count": 64,
   "outputs": [
    {
     "data": {
      "text/plain": "<Figure size 432x288 with 1 Axes>",
      "image/png": "[encoded data removed]"
     },
     "metadata": {
      "needs_background": "light"
     },
     "output_type": "display_data"
    },
    {
     "name": "stdout",
     "output_type": "stream",
     "text": [
      "        latitude   longitude     stars  review_count   is_open  state_mean  \\\n",
      "state                                                                        \n",
      "AB     53.536643 -113.501557  2.733333      5.866667  0.933333    3.495021   \n",
      "AZ     32.240349 -110.938737  3.096154      9.865385  0.903846    3.453201   \n",
      "CA     34.423724 -119.744470  2.550000     15.000000  0.600000    3.762705   \n",
      "DE     39.755357  -75.581567  2.000000      6.333333  0.333333    3.426639   \n",
      "FL     27.997499  -82.545453  2.558824      8.294118  0.858824    3.578342   \n",
      "ID     43.618186 -116.293065  2.333333      7.500000  1.000000    3.544931   \n",
      "IL     38.655141  -89.965115  2.200000      6.866667  0.933333    3.304171   \n",
      "IN     39.794806  -86.145442  2.686441      7.661017  0.898305    3.464699   \n",
      "LA     29.972253  -90.119592  2.244186     10.651163  0.813953    3.595192   \n",
      "MO     38.612973  -90.363701  2.550000      9.260000  0.940000    3.445844   \n",
      "NJ     39.891982  -74.968782  2.437500      5.000000  0.250000    3.484136   \n",
      "NV     39.527952 -119.789958  2.400000     17.800000  0.633333    3.537956   \n",
      "PA     40.045786  -75.207007  2.583333      7.770833  0.541667    3.521557   \n",
      "TN     36.113910  -86.766436  2.530612      8.387755  0.836735    3.475184   \n",
      "\n",
      "       relative_rating  \n",
      "state                   \n",
      "AB            0.782065  \n",
      "AZ            0.896604  \n",
      "CA            0.677704  \n",
      "DE            0.583662  \n",
      "FL            0.715086  \n",
      "ID            0.658217  \n",
      "IL            0.665825  \n",
      "IN            0.775375  \n",
      "LA            0.624219  \n",
      "MO            0.740022  \n",
      "NJ            0.699599  \n",
      "NV            0.678358  \n",
      "PA            0.733577  \n",
      "TN            0.728195  \n"
     ]
    }
   ],
   "source": [
    "# add mean to subway_by_city and find relative rating\n",
    "subways_by_state['state_mean'] = 0\n",
    "for state in subways_by_state.index:\n",
    "    subways_by_state.loc[state, 'state_mean'] = restaurants_by_state.loc[state, 'stars']\n",
    "subways_by_state['relative_rating'] = subways_by_state['stars'] / subways_by_state['state_mean']\n",
    "\n",
    "# let's visualize the distribution of relative ratings\n",
    "sns.histplot(data=subways_by_state, x='relative_rating')\n",
    "plt.show()\n",
    "\n",
    "print(subways_by_state)"
   ],
   "metadata": {
    "collapsed": false,
    "pycharm": {
     "name": "#%%\n"
    }
   }
  },
  {
   "cell_type": "code",
   "execution_count": 65,
   "outputs": [
    {
     "name": "stdout",
     "output_type": "stream",
     "text": [
      "              state postal   GDPPC\n",
      "0           Alabama     AL   49027\n",
      "1            Alaska     AK   75027\n",
      "2           Arizona     AZ   56511\n",
      "3          Arkansas     AR   47770\n",
      "4        California     CA   85546\n",
      "5          Colorado     CO   72597\n",
      "6       Connecticut     CT   82233\n",
      "7          Delaware     DE   80446\n",
      "8           Florida     FL   56301\n",
      "9           Georgia     GA   63271\n",
      "10           Hawaii     HI   62474\n",
      "11            Idaho     ID   49616\n",
      "12         Illinois     IL   74052\n",
      "13          Indiana     IN   61760\n",
      "14             Iowa     IA   68849\n",
      "15           Kansas     KS   65530\n",
      "16         Kentucky     KY   52002\n",
      "17        Louisiana     LA   55213\n",
      "18            Maine     ME   55425\n",
      "19         Maryland     MD   71083\n",
      "20    Massachusetts     MA   91129\n",
      "21         Michigan     MI   56554\n",
      "22        Minnesota     MN   72187\n",
      "23      Mississippi     MS   42411\n",
      "24         Missouri     MO   58356\n",
      "25          Montana     MT   53703\n",
      "26         Nebraska     NE   76584\n",
      "27           Nevada     NV   61375\n",
      "28    New Hampshire     NH   70729\n",
      "29       New Jersey     NJ   72524\n",
      "30       New Mexico     NM   51481\n",
      "31         New York     NY   93463\n",
      "32   North Carolina     NC   62077\n",
      "33     North Dakota     ND   81795\n",
      "34             Ohio     OH   62517\n",
      "35         Oklahoma     OK   51861\n",
      "36           Oregon     OR   62867\n",
      "37     Pennsylvania     PA   64751\n",
      "38     Rhode Island     RI   60185\n",
      "39   South Carolina     SC   52031\n",
      "40     South Dakota     SD   68357\n",
      "41        Tennessee     TN   59969\n",
      "42            Texas     TX   67235\n",
      "43             Utah     UT   66011\n",
      "44          Vermont     VT   56028\n",
      "45         Virginia     VA   68483\n",
      "46       Washington     WA   86265\n",
      "47       Washington     WA  226861\n",
      "48    West Virginia     WV   49017\n",
      "49        Wisconsin     WI   62065\n",
      "50          Wyoming     WY   71911\n"
     ]
    }
   ],
   "source": [
    "# create a dataframe with info for states\n",
    "states, postal = pd.read_csv('csv_data/states_gdp.csv', sep=\"\\t\"), pd.read_csv('csv_data/postal.csv', sep=\"\\t\")\n",
    "states_info = states.merge(postal, left_on=' A', right_on=' state')[[' state', 'postal', 'GDPPC']]\n",
    "states_info['GDPPC'] = (states_info['GDPPC'].str[1:-4] + states_info['GDPPC'].str[-3:-1] + states_info['GDPPC'].str[-1]).astype(int)\n",
    "print(states_info)"
   ],
   "metadata": {
    "collapsed": false,
    "pycharm": {
     "name": "#%%\n"
    }
   }
  },
  {
   "cell_type": "code",
   "execution_count": 71,
   "outputs": [
    {
     "name": "stdout",
     "output_type": "stream",
     "text": [
      "     latitude   longitude     stars  review_count   is_open  state_mean  \\\n",
      "0   32.240349 -110.938737  3.096154      9.865385  0.903846    3.453201   \n",
      "1   34.423724 -119.744470  2.550000     15.000000  0.600000    3.762705   \n",
      "2   39.755357  -75.581567  2.000000      6.333333  0.333333    3.426639   \n",
      "3   27.997499  -82.545453  2.558824      8.294118  0.858824    3.578342   \n",
      "4   43.618186 -116.293065  2.333333      7.500000  1.000000    3.544931   \n",
      "5   38.655141  -89.965115  2.200000      6.866667  0.933333    3.304171   \n",
      "6   39.794806  -86.145442  2.686441      7.661017  0.898305    3.464699   \n",
      "7   29.972253  -90.119592  2.244186     10.651163  0.813953    3.595192   \n",
      "8   38.612973  -90.363701  2.550000      9.260000  0.940000    3.445844   \n",
      "9   39.891982  -74.968782  2.437500      5.000000  0.250000    3.484136   \n",
      "10  39.527952 -119.789958  2.400000     17.800000  0.633333    3.537956   \n",
      "11  40.045786  -75.207007  2.583333      7.770833  0.541667    3.521557   \n",
      "12  36.113910  -86.766436  2.530612      8.387755  0.836735    3.475184   \n",
      "\n",
      "    relative_rating          state postal  GDPPC  \n",
      "0          0.896604        Arizona     AZ  56511  \n",
      "1          0.677704     California     CA  85546  \n",
      "2          0.583662       Delaware     DE  80446  \n",
      "3          0.715086        Florida     FL  56301  \n",
      "4          0.658217          Idaho     ID  49616  \n",
      "5          0.665825       Illinois     IL  74052  \n",
      "6          0.775375        Indiana     IN  61760  \n",
      "7          0.624219      Louisiana     LA  55213  \n",
      "8          0.740022       Missouri     MO  58356  \n",
      "9          0.699599     New Jersey     NJ  72524  \n",
      "10         0.678358         Nevada     NV  61375  \n",
      "11         0.733577   Pennsylvania     PA  64751  \n",
      "12         0.728195      Tennessee     TN  59969  \n"
     ]
    }
   ],
   "source": [
    "subways_info = subways_by_state.merge(states_info, left_on='state', right_on='postal')\n",
    "print(subways_info)"
   ],
   "metadata": {
    "collapsed": false,
    "pycharm": {
     "name": "#%%\n"
    }
   }
  },
  {
   "cell_type": "code",
   "execution_count": 73,
   "outputs": [
    {
     "data": {
      "text/plain": "<Figure size 432x288 with 1 Axes>",
      "image/png": "[encoded data removed]"
     },
     "metadata": {
      "needs_background": "light"
     },
     "output_type": "display_data"
    }
   ],
   "source": [
    "sns.scatterplot(data=subways_info, x='GDPPC', y='relative_rating', color='blue', alpha=0.4)\n",
    "plt.savefig('figures/state_gdppc_vs_mean_rating.png', dpi=100)\n",
    "plt.show()"
   ],
   "metadata": {
    "collapsed": false,
    "pycharm": {
     "name": "#%%\n"
    }
   }
  },
  {
   "cell_type": "code",
   "execution_count": null,
   "outputs": [],
   "source": [],
   "metadata": {
    "collapsed": false,
    "pycharm": {
     "name": "#%%\n"
    }
   }
  }
 ],
 "metadata": {
  "kernelspec": {
   "display_name": "Python 3",
   "language": "python",
   "name": "python3"
  },
  "language_info": {
   "codemirror_mode": {
    "name": "ipython",
    "version": 2
   },
   "file_extension": ".py",
   "mimetype": "text/x-python",
   "name": "python",
   "nbconvert_exporter": "python",
   "pygments_lexer": "ipython2",
   "version": "2.7.6"
  }
 },
 "nbformat": 4,
 "nbformat_minor": 0
}