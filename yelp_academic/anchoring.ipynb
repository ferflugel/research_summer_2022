{
 "cells": [
  {
   "cell_type": "code",
   "execution_count": 33,
   "metadata": {
    "collapsed": true,
    "pycharm": {
     "name": "#%%\n"
    }
   },
   "outputs": [
    {
     "name": "stdout",
     "output_type": "stream",
     "text": [
      "(730, 14)\n"
     ]
    }
   ],
   "source": [
    "import pandas as pd\n",
    "\n",
    "# retrieve data for businesses\n",
    "businesses = pd.read_csv('csv_data/yelp_academic_dataset_business.csv')\n",
    "\n",
    "# filter only subways\n",
    "starbucks = businesses[businesses['name'].str[0:9] == \"Starbucks\"]\n",
    "print(starbucks.shape)"
   ]
  },
  {
   "cell_type": "code",
   "execution_count": 34,
   "outputs": [
    {
     "name": "stdout",
     "output_type": "stream",
     "text": [
      "                business_id  name  address  state  postal_code  latitude  \\\n",
      "city                                                                       \n",
      "Philadelphia             57    57       57     57           57        57   \n",
      "Tucson                   54    54       54     54           54        54   \n",
      "Indianapolis             50    50       50     50           50        50   \n",
      "Tampa                    47    47       47     47           47        47   \n",
      "Edmonton                 41    41       41     41           41        41   \n",
      "...                     ...   ...      ...    ...          ...       ...   \n",
      "Isla Vista                1     1        1      1            1         1   \n",
      "Jenkintown                1     1        1      1            1         1   \n",
      "Kennett Square            1     1        1      1            1         1   \n",
      "Kirkwood                  1     1        1      1            1         1   \n",
      "Malvern                   1     1        1      1            1         1   \n",
      "\n",
      "                longitude  stars  review_count  is_open  attributes  \\\n",
      "city                                                                  \n",
      "Philadelphia           57     57            57       57          57   \n",
      "Tucson                 54     54            54       54          54   \n",
      "Indianapolis           50     50            50       50          49   \n",
      "Tampa                  47     47            47       47          47   \n",
      "Edmonton               41     41            41       41          41   \n",
      "...                   ...    ...           ...      ...         ...   \n",
      "Isla Vista              1      1             1        1           1   \n",
      "Jenkintown              1      1             1        1           1   \n",
      "Kennett Square          1      1             1        1           1   \n",
      "Kirkwood                1      1             1        1           1   \n",
      "Malvern                 1      1             1        1           1   \n",
      "\n",
      "                categories  hours  \n",
      "city                               \n",
      "Philadelphia            57     56  \n",
      "Tucson                  54     52  \n",
      "Indianapolis            50     49  \n",
      "Tampa                   47     47  \n",
      "Edmonton                41     25  \n",
      "...                    ...    ...  \n",
      "Isla Vista               1      1  \n",
      "Jenkintown               1      1  \n",
      "Kennett Square           1      1  \n",
      "Kirkwood                 1      1  \n",
      "Malvern                  1      1  \n",
      "\n",
      "[198 rows x 13 columns]\n"
     ]
    }
   ],
   "source": [
    "# check cities with most starbucks\n",
    "print(starbucks.groupby('city').count().sort_values('business_id', ascending=False))\n",
    "\n",
    "# get list for business id's for starbucks' in philadelphia\n",
    "list_of_ids = starbucks[starbucks['city'] == 'Philadelphia']['business_id'].tolist()"
   ],
   "metadata": {
    "collapsed": false,
    "pycharm": {
     "name": "#%%\n"
    }
   }
  },
  {
   "cell_type": "code",
   "execution_count": 35,
   "outputs": [],
   "source": [
    "# retrieve data for reviews\n",
    "reviews = pd.read_csv('csv_data/yelp_academic_dataset_review.csv')\n",
    "\n",
    "# filter only reviews for the starbucks in philadelphia\n",
    "starbucks_reviews = reviews[reviews['business_id'].isin(list_of_ids)]"
   ],
   "metadata": {
    "collapsed": false,
    "pycharm": {
     "name": "#%%\n"
    }
   }
  },
  {
   "cell_type": "code",
   "execution_count": 36,
   "outputs": [
    {
     "name": "stdout",
     "output_type": "stream",
     "text": [
      "                        review_id  user_id  stars  useful  funny  cool  text  \\\n",
      "business_id                                                                    \n",
      "EFci0tbSrb7wko6tpVDnbA        126      126    126     126    126   126   126   \n",
      "lgSO-bzx0USaPe34zdLyCw         73       73     73      73     73    73    73   \n",
      "9c1p8TTOG_F55i3yEiVVDQ         71       71     71      71     71    71    71   \n",
      "mBcvp7NarEQEviJyRiX23Q         70       70     70      70     70    70    70   \n",
      "90LsqLbaoQpz_xNbSQsCFA         63       63     63      63     63    63    63   \n",
      "7Klk8UuK1sdJt5_44eUtDg         61       61     61      61     61    61    61   \n",
      "f22prjTaNUWwqvVsI4HWxQ         60       60     60      60     60    60    60   \n",
      "s6nOfGZJpkZ3JplCO9lGiA         58       58     58      58     58    58    58   \n",
      "PTn0hZz7BiP5T2muyoxrjQ         58       58     58      58     58    58    58   \n",
      "UrYj-HI2I61BK_nsPEa_QQ         58       58     58      58     58    58    58   \n",
      "HxdaEwpoXKll0Ze4nhS0XA         57       57     57      57     57    57    57   \n",
      "ExfSwwCB1zQ6ZGd_UQ4wYQ         55       55     55      55     55    55    55   \n",
      "29ThPh6IA69V-SfcwfV9Dg         51       51     51      51     51    51    51   \n",
      "a-dPw0ISYHoxMmWgd4mK-g         51       51     51      51     51    51    51   \n",
      "Ag_GeZwOrT0nmyhnKQiVBA         49       49     49      49     49    49    49   \n",
      "b66R96v0N-Mmu0jb4cVhiQ         48       48     48      48     48    48    48   \n",
      "ItgkjSjo5rXmnBH3Vww_Xg         47       47     47      47     47    47    47   \n",
      "yjXSQDwuI49poc3MA7AGdw         41       41     41      41     41    41    41   \n",
      "OTBWyXkNsBYHqIlXJXnEDA         40       40     40      40     40    40    40   \n",
      "AEgaEEWNGuXWBHUkf_fN3A         39       39     39      39     39    39    39   \n",
      "FwvK-Xyi11yDeYmqmL6uSw         39       39     39      39     39    39    39   \n",
      "DTyeAYLV9YCc4mG5XTorTA         38       38     38      38     38    38    38   \n",
      "k4WBufHPsiz4HgmT_gwK3g         38       38     38      38     38    38    38   \n",
      "wVgo5MaohDWNuudZWWwfJg         37       37     37      37     37    37    37   \n",
      "p5pQ5PKXiEc4yLxsL4TsFA         33       33     33      33     33    33    33   \n",
      "Af7NWqfoTszSyyuMRU6few         33       33     33      33     33    33    33   \n",
      "48hwr-F1xEFfHdTD1ueE2A         32       32     32      32     32    32    32   \n",
      "OeO23GTZxF5tRnOXsYxCNA         26       26     26      26     26    26    26   \n",
      "w5fyVRnGWXl_ldGt0Hu5uQ         26       26     26      26     26    26    26   \n",
      "jF5XeCVL6MrA2IcLIHy1JQ         24       24     24      24     24    24    24   \n",
      "2cfEAFZZee8fq3Xx6yZ87w         22       22     22      22     22    22    22   \n",
      "pM1M2A14mNXz48KCcQtz2w         20       20     20      20     20    20    20   \n",
      "AXRSeJZfr9pi1wJQ61D4UQ         20       20     20      20     20    20    20   \n",
      "6i2h2hYPEEG13A6mamsq9g         19       19     19      19     19    19    19   \n",
      "n8KfQqY4U2j8iZ4cjq8dPQ         18       18     18      18     18    18    18   \n",
      "KOXS3nJm-e5E5MwQ6Pfrlg         15       15     15      15     15    15    15   \n",
      "sD2yBIzp0SNYRMD4QfH9Jw         13       13     13      13     13    13    13   \n",
      "u2THoMNjQJU8eIv8AAQKTw         13       13     13      13     13    13    13   \n",
      "gJLJgXz_1pjnDuHfuni1jA         13       13     13      13     13    13    13   \n",
      "aTOCTSi1GwigOEcqOKRwFg         11       11     11      11     11    11    11   \n",
      "DzAiKgi0HH1wDzAt4aEd7g         11       11     11      11     11    11    11   \n",
      "dmyPzMRNgTIOBRT11NFcvg         11       11     11      11     11    11    11   \n",
      "C9C-JQOdb5iywv7MzBiUVw         10       10     10      10     10    10    10   \n",
      "-ilTnXu41RrxQITuolQhmQ         10       10     10      10     10    10    10   \n",
      "-FSNRWP_3twzsH-qliHcZQ          9        9      9       9      9     9     9   \n",
      "-QG6KSRQKTQ80--wqrnLTg          9        9      9       9      9     9     9   \n",
      "0FzbiQyBnFnH1OkMol_mgQ          9        9      9       9      9     9     9   \n",
      "IefEo5kZdwR647j8WBUozg          9        9      9       9      9     9     9   \n",
      "YklJC4Lt2rMGfV8JfrTtuw          7        7      7       7      7     7     7   \n",
      "LnnWq5-4pTnBn96E3lQygw          7        7      7       7      7     7     7   \n",
      "GEtK2S6zALXgsjKjK3abJw          7        7      7       7      7     7     7   \n",
      "chktpCblpN5Kd_yskQXreg          6        6      6       6      6     6     6   \n",
      "66Eb7k-oL3m3GGhyQRuFTQ          6        6      6       6      6     6     6   \n",
      "Gk6EoDA3Bd9LDnYhJe1WKw          5        5      5       5      5     5     5   \n",
      "6tgrhfz8XsTH2ItEShoohA          5        5      5       5      5     5     5   \n",
      "36rXK3hy6OR0k-tMBf1Ltw          5        5      5       5      5     5     5   \n",
      "0xmV6WSKyq0SFUa_uZKocw          5        5      5       5      5     5     5   \n",
      "\n",
      "                        date  \n",
      "business_id                   \n",
      "EFci0tbSrb7wko6tpVDnbA   126  \n",
      "lgSO-bzx0USaPe34zdLyCw    73  \n",
      "9c1p8TTOG_F55i3yEiVVDQ    71  \n",
      "mBcvp7NarEQEviJyRiX23Q    70  \n",
      "90LsqLbaoQpz_xNbSQsCFA    63  \n",
      "7Klk8UuK1sdJt5_44eUtDg    61  \n",
      "f22prjTaNUWwqvVsI4HWxQ    60  \n",
      "s6nOfGZJpkZ3JplCO9lGiA    58  \n",
      "PTn0hZz7BiP5T2muyoxrjQ    58  \n",
      "UrYj-HI2I61BK_nsPEa_QQ    58  \n",
      "HxdaEwpoXKll0Ze4nhS0XA    57  \n",
      "ExfSwwCB1zQ6ZGd_UQ4wYQ    55  \n",
      "29ThPh6IA69V-SfcwfV9Dg    51  \n",
      "a-dPw0ISYHoxMmWgd4mK-g    51  \n",
      "Ag_GeZwOrT0nmyhnKQiVBA    49  \n",
      "b66R96v0N-Mmu0jb4cVhiQ    48  \n",
      "ItgkjSjo5rXmnBH3Vww_Xg    47  \n",
      "yjXSQDwuI49poc3MA7AGdw    41  \n",
      "OTBWyXkNsBYHqIlXJXnEDA    40  \n",
      "AEgaEEWNGuXWBHUkf_fN3A    39  \n",
      "FwvK-Xyi11yDeYmqmL6uSw    39  \n",
      "DTyeAYLV9YCc4mG5XTorTA    38  \n",
      "k4WBufHPsiz4HgmT_gwK3g    38  \n",
      "wVgo5MaohDWNuudZWWwfJg    37  \n",
      "p5pQ5PKXiEc4yLxsL4TsFA    33  \n",
      "Af7NWqfoTszSyyuMRU6few    33  \n",
      "48hwr-F1xEFfHdTD1ueE2A    32  \n",
      "OeO23GTZxF5tRnOXsYxCNA    26  \n",
      "w5fyVRnGWXl_ldGt0Hu5uQ    26  \n",
      "jF5XeCVL6MrA2IcLIHy1JQ    24  \n",
      "2cfEAFZZee8fq3Xx6yZ87w    22  \n",
      "pM1M2A14mNXz48KCcQtz2w    20  \n",
      "AXRSeJZfr9pi1wJQ61D4UQ    20  \n",
      "6i2h2hYPEEG13A6mamsq9g    19  \n",
      "n8KfQqY4U2j8iZ4cjq8dPQ    18  \n",
      "KOXS3nJm-e5E5MwQ6Pfrlg    15  \n",
      "sD2yBIzp0SNYRMD4QfH9Jw    13  \n",
      "u2THoMNjQJU8eIv8AAQKTw    13  \n",
      "gJLJgXz_1pjnDuHfuni1jA    13  \n",
      "aTOCTSi1GwigOEcqOKRwFg    11  \n",
      "DzAiKgi0HH1wDzAt4aEd7g    11  \n",
      "dmyPzMRNgTIOBRT11NFcvg    11  \n",
      "C9C-JQOdb5iywv7MzBiUVw    10  \n",
      "-ilTnXu41RrxQITuolQhmQ    10  \n",
      "-FSNRWP_3twzsH-qliHcZQ     9  \n",
      "-QG6KSRQKTQ80--wqrnLTg     9  \n",
      "0FzbiQyBnFnH1OkMol_mgQ     9  \n",
      "IefEo5kZdwR647j8WBUozg     9  \n",
      "YklJC4Lt2rMGfV8JfrTtuw     7  \n",
      "LnnWq5-4pTnBn96E3lQygw     7  \n",
      "GEtK2S6zALXgsjKjK3abJw     7  \n",
      "chktpCblpN5Kd_yskQXreg     6  \n",
      "66Eb7k-oL3m3GGhyQRuFTQ     6  \n",
      "Gk6EoDA3Bd9LDnYhJe1WKw     5  \n",
      "6tgrhfz8XsTH2ItEShoohA     5  \n",
      "36rXK3hy6OR0k-tMBf1Ltw     5  \n",
      "0xmV6WSKyq0SFUa_uZKocw     5  \n"
     ]
    }
   ],
   "source": [
    "# check individual starbucks with most reviews\n",
    "print(starbucks_reviews.groupby('business_id').count().sort_values('review_id', ascending=False))\n",
    "\n",
    "# filter only the five starbucks with most reviews\n",
    "top_5_ids = starbucks_reviews.groupby('business_id').count().sort_values('review_id', ascending=False).reset_index()['business_id'][0:5]\n",
    "starbucks_reviews = starbucks_reviews.loc[starbucks_reviews['business_id'].isin(top_5_ids)]"
   ],
   "metadata": {
    "collapsed": false,
    "pycharm": {
     "name": "#%%\n"
    }
   }
  },
  {
   "cell_type": "code",
   "execution_count": 37,
   "outputs": [
    {
     "name": "stdout",
     "output_type": "stream",
     "text": [
      "                                                    text  \\\n",
      "37897  i got my coffee right away like after i placed...   \n",
      "38525  have waited 25 minutes for my order on numerou...   \n",
      "41073  always a pleasure to stop in while waiting for...   \n",
      "55469  the lady forgot to write vanilla on my latte. ...   \n",
      "61244  pretty fast service (even during a very busy d...   \n",
      "\n",
      "                                             spacy_token  \n",
      "37897  [got, coffee, right, away, like, placed, order...  \n",
      "38525  [waited, 25, minutes, order, numerous, occasio...  \n",
      "41073  [pleasure, stop, waiting, bus, simply, walking...  \n",
      "55469  [lady, forgot, write, vanilla, latte, ., left,...  \n",
      "61244  [pretty, fast, service, (, busy, day, ), decen...  \n"
     ]
    }
   ],
   "source": [
    "from spacy.lang.en import English\n",
    "from spacy.lang.en.stop_words import STOP_WORDS\n",
    "import unidecode\n",
    "\n",
    "# strip accents and use lowercase for all the text\n",
    "starbucks_reviews['text'] = [unidecode.unidecode(review_text).lower() for review_text in starbucks_reviews['text']]\n",
    "\n",
    "# tokenize the reviews using spaCy\n",
    "spacy_tokenizer = English()\n",
    "starbucks_reviews['spacy_token'] = [[token.text for token in spacy_tokenizer(review_text)] for review_text in starbucks_reviews['text']]\n",
    "\n",
    "# remove stop words\n",
    "starbucks_reviews['spacy_token'] = [list(filter(lambda word: word not in STOP_WORDS, list_of_tokens)) for list_of_tokens in starbucks_reviews['spacy_token']]\n",
    "\n",
    "# check the results from pre-processing\n",
    "print(starbucks_reviews[['text', 'spacy_token']].head())\n",
    "\n",
    "# create a list with inputs in the ideal format for BoW and TF-IDF\n",
    "pre_processed_inputs = [' '.join(review) for review in starbucks_reviews['spacy_token'].tolist()]"
   ],
   "metadata": {
    "collapsed": false,
    "pycharm": {
     "name": "#%%\n"
    }
   }
  },
  {
   "cell_type": "code",
   "execution_count": 59,
   "outputs": [],
   "source": [
    "from sklearn.feature_extraction.text import CountVectorizer\n",
    "\n",
    "# create the BoW representation for the set\n",
    "count_vec = CountVectorizer(max_features=1024, ngram_range=(1,2))\n",
    "bow_representation = count_vec.fit_transform(pre_processed_inputs)\n",
    "\n",
    "# create the array with BoW and normalize it\n",
    "bow_array = bow_representation.toarray()\n",
    "bow_normalized = [vector/sum(vector) if sum(vector) != 0 else vector for vector in bow_array]"
   ],
   "metadata": {
    "collapsed": false,
    "pycharm": {
     "name": "#%%\n"
    }
   }
  },
  {
   "cell_type": "code",
   "execution_count": 87,
   "outputs": [
    {
     "name": "stdout",
     "output_type": "stream",
     "text": [
      "KNN test score: 0.36633663366336633\n",
      "KNN train score: 0.46357615894039733\n",
      "SVM test score: 0.36633663366336633\n",
      "SVM train score: 0.8807947019867549\n",
      "RF test score: 0.4158415841584158\n",
      "RF train score: 0.5860927152317881\n"
     ]
    }
   ],
   "source": [
    "import numpy as np\n",
    "from sklearn.model_selection import train_test_split\n",
    "from sklearn.neighbors import KNeighborsClassifier\n",
    "from sklearn.svm import SVC\n",
    "from sklearn.ensemble import RandomForestClassifier\n",
    "\n",
    "starbucks_ids = starbucks_reviews['business_id'].tolist()\n",
    "X_train, X_test, y_train, y_test = train_test_split(np.array(bow_normalized), np.array(starbucks_ids), test_size = 0.25, random_state=0)\n",
    "\n",
    "# using KNNs for classification\n",
    "knn = KNeighborsClassifier(n_neighbors=20).fit(X_train, y_train)\n",
    "print(\"KNN test score:\", knn.score(X_test, y_test))\n",
    "print(\"KNN train score:\", knn.score(X_train, y_train))\n",
    "\n",
    "# using SVMs for classification\n",
    "svm = SVC().fit(X_train, y_train)\n",
    "print(\"SVM test score:\", svm.score(X_test, y_test))\n",
    "print(\"SVM train score:\", svm.score(X_train, y_train))\n",
    "\n",
    "# using random forests for classification\n",
    "rfc = RandomForestClassifier(max_depth=6, random_state=0).fit(X_train, y_train)\n",
    "print(\"RF test score:\", rfc.score(X_test, y_test))\n",
    "print(\"RF train score:\", rfc.score(X_train, y_train))"
   ],
   "metadata": {
    "collapsed": false,
    "pycharm": {
     "name": "#%%\n"
    }
   }
  },
  {
   "cell_type": "code",
   "execution_count": 78,
   "outputs": [
    {
     "data": {
      "text/plain": "                           stars    useful     funny      cool\nbusiness_id                                                   \n90LsqLbaoQpz_xNbSQsCFA  2.936508  0.825397  0.507937  0.412698\n9c1p8TTOG_F55i3yEiVVDQ  2.070423  0.957746  0.295775  0.380282\nEFci0tbSrb7wko6tpVDnbA  3.095238  1.317460  0.436508  0.277778\nlgSO-bzx0USaPe34zdLyCw  2.671233  0.438356  0.232877  0.178082\nmBcvp7NarEQEviJyRiX23Q  3.228571  0.757143  0.600000  0.514286",
      "text/html": "<div>\n<style scoped>\n    .dataframe tbody tr th:only-of-type {\n        vertical-align: middle;\n    }\n\n    .dataframe tbody tr th {\n        vertical-align: top;\n    }\n\n    .dataframe thead th {\n        text-align: right;\n    }\n</style>\n<table border=\"1\" class=\"dataframe\">\n  <thead>\n    <tr style=\"text-align: right;\">\n      <th></th>\n      <th>stars</th>\n      <th>useful</th>\n      <th>funny</th>\n      <th>cool</th>\n    </tr>\n    <tr>\n      <th>business_id</th>\n      <th></th>\n      <th></th>\n      <th></th>\n      <th></th>\n    </tr>\n  </thead>\n  <tbody>\n    <tr>\n      <th>90LsqLbaoQpz_xNbSQsCFA</th>\n      <td>2.936508</td>\n      <td>0.825397</td>\n      <td>0.507937</td>\n      <td>0.412698</td>\n    </tr>\n    <tr>\n      <th>9c1p8TTOG_F55i3yEiVVDQ</th>\n      <td>2.070423</td>\n      <td>0.957746</td>\n      <td>0.295775</td>\n      <td>0.380282</td>\n    </tr>\n    <tr>\n      <th>EFci0tbSrb7wko6tpVDnbA</th>\n      <td>3.095238</td>\n      <td>1.317460</td>\n      <td>0.436508</td>\n      <td>0.277778</td>\n    </tr>\n    <tr>\n      <th>lgSO-bzx0USaPe34zdLyCw</th>\n      <td>2.671233</td>\n      <td>0.438356</td>\n      <td>0.232877</td>\n      <td>0.178082</td>\n    </tr>\n    <tr>\n      <th>mBcvp7NarEQEviJyRiX23Q</th>\n      <td>3.228571</td>\n      <td>0.757143</td>\n      <td>0.600000</td>\n      <td>0.514286</td>\n    </tr>\n  </tbody>\n</table>\n</div>"
     },
     "execution_count": 78,
     "metadata": {},
     "output_type": "execute_result"
    }
   ],
   "source": [
    "starbucks_reviews.groupby('business_id').mean()"
   ],
   "metadata": {
    "collapsed": false,
    "pycharm": {
     "name": "#%%\n"
    }
   }
  }
 ],
 "metadata": {
  "kernelspec": {
   "display_name": "Python 3",
   "language": "python",
   "name": "python3"
  },
  "language_info": {
   "codemirror_mode": {
    "name": "ipython",
    "version": 2
   },
   "file_extension": ".py",
   "mimetype": "text/x-python",
   "name": "python",
   "nbconvert_exporter": "python",
   "pygments_lexer": "ipython2",
   "version": "2.7.6"
  }
 },
 "nbformat": 4,
 "nbformat_minor": 0
}