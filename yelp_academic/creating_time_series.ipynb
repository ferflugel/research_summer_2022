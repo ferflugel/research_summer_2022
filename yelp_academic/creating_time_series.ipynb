{
 "cells": [
  {
   "cell_type": "code",
   "execution_count": 1,
   "metadata": {
    "collapsed": true
   },
   "outputs": [],
   "source": [
    "import pandas as pd\n",
    "\n",
    "# import all the data to a single dataframe\n",
    "reviews = pd.read_csv('csv_data/yelp_academic_dataset_review.csv')\n",
    "\n",
    "# create a column with the month (and year) the review was made\n",
    "reviews['date'] = reviews['date'].str[0:7]\n",
    "\n",
    "# group the reviews by month and take the mean\n",
    "monthly_reviews = reviews.groupby('date').mean()"
   ]
  },
  {
   "cell_type": "code",
   "execution_count": 2,
   "outputs": [],
   "source": [
    "# import data for gdp and adjust the date format\n",
    "us_gdp = pd.read_csv('csv_data/us_gdp.csv')\n",
    "us_gdp['date'] = us_gdp['date'].str[0:7]\n",
    "\n",
    "# import data for price level and adjust date\n",
    "price_level = pd.read_csv('csv_data/us_cpi.csv')\n",
    "price_level['date'] = price_level['date'].str[0:7]\n",
    "\n",
    "# find the monthly inflation rate (in percentage) from cpi\n",
    "price_level['previous_cpi'] = price_level.cpi.shift(1)\n",
    "price_level = price_level.fillna(203.1)\n",
    "price_level['inflation'] = 100 * (price_level['cpi'] - price_level['previous_cpi']) / price_level['cpi']\n",
    "\n",
    "# import data for disposable income\n",
    "disposable_income = pd.read_csv('csv_data/us_disposable_income.csv')\n",
    "disposable_income['date'] = disposable_income['date'].str[0:7]"
   ],
   "metadata": {
    "collapsed": false,
    "pycharm": {
     "name": "#%%\n"
    }
   }
  },
  {
   "cell_type": "code",
   "execution_count": 3,
   "outputs": [],
   "source": [
    "time_series = monthly_reviews.loc[:].reset_index()\n",
    "for dataframe in [us_gdp, price_level, disposable_income]:\n",
    "    time_series = time_series.merge(dataframe, on='date')"
   ],
   "metadata": {
    "collapsed": false,
    "pycharm": {
     "name": "#%%\n"
    }
   }
  },
  {
   "cell_type": "code",
   "execution_count": 4,
   "outputs": [
    {
     "data": {
      "text/plain": "       date  mean_rating        gdp      cpi  inflation  disposable_income\n0   2007-01     3.889027  15478.956  203.437   0.165653            11403.7\n1   2007-04     3.929793  15577.779  205.904   0.299169            11490.1\n2   2007-07     3.893976  15671.605  207.603   0.177743            11500.4\n3   2007-10     3.822253  15767.146  209.190   0.307376            11523.6\n4   2008-01     3.861677  15702.906  212.174   0.343586            11553.4\n..      ...          ...        ...      ...        ...                ...\n56  2021-01     3.854847  19055.655  262.200   0.242563            16988.6\n57  2021-04     3.714769  19368.310  266.727   0.636981            16146.9\n58  2021-07     3.687040  19478.893  272.184   0.451533            15735.2\n59  2021-10     3.654734  19806.290  276.590   0.859033            15444.5\n60  2022-01     3.704500  19735.895  281.933   0.640932            15343.6\n\n[61 rows x 6 columns]",
      "text/html": "<div>\n<style scoped>\n    .dataframe tbody tr th:only-of-type {\n        vertical-align: middle;\n    }\n\n    .dataframe tbody tr th {\n        vertical-align: top;\n    }\n\n    .dataframe thead th {\n        text-align: right;\n    }\n</style>\n<table border=\"1\" class=\"dataframe\">\n  <thead>\n    <tr style=\"text-align: right;\">\n      <th></th>\n      <th>date</th>\n      <th>mean_rating</th>\n      <th>gdp</th>\n      <th>cpi</th>\n      <th>inflation</th>\n      <th>disposable_income</th>\n    </tr>\n  </thead>\n  <tbody>\n    <tr>\n      <th>0</th>\n      <td>2007-01</td>\n      <td>3.889027</td>\n      <td>15478.956</td>\n      <td>203.437</td>\n      <td>0.165653</td>\n      <td>11403.7</td>\n    </tr>\n    <tr>\n      <th>1</th>\n      <td>2007-04</td>\n      <td>3.929793</td>\n      <td>15577.779</td>\n      <td>205.904</td>\n      <td>0.299169</td>\n      <td>11490.1</td>\n    </tr>\n    <tr>\n      <th>2</th>\n      <td>2007-07</td>\n      <td>3.893976</td>\n      <td>15671.605</td>\n      <td>207.603</td>\n      <td>0.177743</td>\n      <td>11500.4</td>\n    </tr>\n    <tr>\n      <th>3</th>\n      <td>2007-10</td>\n      <td>3.822253</td>\n      <td>15767.146</td>\n      <td>209.190</td>\n      <td>0.307376</td>\n      <td>11523.6</td>\n    </tr>\n    <tr>\n      <th>4</th>\n      <td>2008-01</td>\n      <td>3.861677</td>\n      <td>15702.906</td>\n      <td>212.174</td>\n      <td>0.343586</td>\n      <td>11553.4</td>\n    </tr>\n    <tr>\n      <th>...</th>\n      <td>...</td>\n      <td>...</td>\n      <td>...</td>\n      <td>...</td>\n      <td>...</td>\n      <td>...</td>\n    </tr>\n    <tr>\n      <th>56</th>\n      <td>2021-01</td>\n      <td>3.854847</td>\n      <td>19055.655</td>\n      <td>262.200</td>\n      <td>0.242563</td>\n      <td>16988.6</td>\n    </tr>\n    <tr>\n      <th>57</th>\n      <td>2021-04</td>\n      <td>3.714769</td>\n      <td>19368.310</td>\n      <td>266.727</td>\n      <td>0.636981</td>\n      <td>16146.9</td>\n    </tr>\n    <tr>\n      <th>58</th>\n      <td>2021-07</td>\n      <td>3.687040</td>\n      <td>19478.893</td>\n      <td>272.184</td>\n      <td>0.451533</td>\n      <td>15735.2</td>\n    </tr>\n    <tr>\n      <th>59</th>\n      <td>2021-10</td>\n      <td>3.654734</td>\n      <td>19806.290</td>\n      <td>276.590</td>\n      <td>0.859033</td>\n      <td>15444.5</td>\n    </tr>\n    <tr>\n      <th>60</th>\n      <td>2022-01</td>\n      <td>3.704500</td>\n      <td>19735.895</td>\n      <td>281.933</td>\n      <td>0.640932</td>\n      <td>15343.6</td>\n    </tr>\n  </tbody>\n</table>\n<p>61 rows × 6 columns</p>\n</div>"
     },
     "execution_count": 4,
     "metadata": {},
     "output_type": "execute_result"
    }
   ],
   "source": [
    "time_series = time_series.rename(columns={\"stars\": \"mean_rating\"})\n",
    "time_series = time_series[['date', 'mean_rating', 'gdp', 'cpi', 'inflation', 'disposable_income']]\n",
    "\n",
    "time_series"
   ],
   "metadata": {
    "collapsed": false,
    "pycharm": {
     "name": "#%%\n"
    }
   }
  },
  {
   "cell_type": "code",
   "execution_count": 5,
   "outputs": [],
   "source": [
    "# save the file\n",
    "time_series.to_csv('processed_data/time_series.csv', index=False)"
   ],
   "metadata": {
    "collapsed": false,
    "pycharm": {
     "name": "#%%\n"
    }
   }
  }
 ],
 "metadata": {
  "kernelspec": {
   "display_name": "Python 3",
   "language": "python",
   "name": "python3"
  },
  "language_info": {
   "codemirror_mode": {
    "name": "ipython",
    "version": 2
   },
   "file_extension": ".py",
   "mimetype": "text/x-python",
   "name": "python",
   "nbconvert_exporter": "python",
   "pygments_lexer": "ipython2",
   "version": "2.7.6"
  }
 },
 "nbformat": 4,
 "nbformat_minor": 0
}