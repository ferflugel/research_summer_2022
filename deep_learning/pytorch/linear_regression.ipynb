{
 "cells": [
  {
   "cell_type": "code",
   "execution_count": 1,
   "outputs": [
    {
     "data": {
      "text/plain": "<Figure size 432x288 with 1 Axes>",
      "image/png": "[encoded data removed]"
     },
     "metadata": {},
     "output_type": "display_data"
    }
   ],
   "source": [
    "import torch\n",
    "import numpy as np\n",
    "import matplotlib.pyplot as plt\n",
    "import seaborn as sns\n",
    "from sklearn.model_selection import train_test_split\n",
    "\n",
    "np.random.seed(0)\n",
    "\n",
    "# produce a synthetic linear dataset with gaussian noise\n",
    "x = torch.tensor([0.8, 2.2, 3.1, 4.4, 5.0, 3.6, 8.3, 7.6, 9.1, 1.2, 3.2,\n",
    "                  4.3, 5.3, 6.7, 7.3, 2.8, 9.0, 7.1, 6.4, 5.4, 3.3, 5.5]).reshape(-1, 1)\n",
    "noise = np.random.normal(0, 2, x.shape)\n",
    "slope, intercept = 3, 5\n",
    "y = slope * x + intercept + noise\n",
    "y = y.float()\n",
    "\n",
    "# plot the data\n",
    "sns.set_style('white')\n",
    "sns.scatterplot(x=x.reshape(-1), y=y.reshape(-1))\n",
    "plt.title('Raw Data')\n",
    "plt.show()\n",
    "\n",
    "# split the data into training and validation set\n",
    "data_train, data_val, labels_train, labels_val = train_test_split(x, y, test_size=0.25, random_state=0)"
   ],
   "metadata": {
    "collapsed": false,
    "pycharm": {
     "name": "#%%\n"
    }
   }
  },
  {
   "cell_type": "code",
   "execution_count": 2,
   "outputs": [],
   "source": [
    "# defines the training loop for our model\n",
    "def training_loop(n_epochs, optimizer, model, loss_fn, x_train, x_val,\n",
    "                  y_train, y_val):\n",
    "\n",
    "    for epoch in range(1, n_epochs + 1):\n",
    "\n",
    "        # forward pass\n",
    "        output_train = model(x_train)\n",
    "        loss_train = loss_fn(output_train, y_train)\n",
    "        output_val = model(x_val)\n",
    "        loss_val = loss_fn(output_val.float(), y_val)\n",
    "\n",
    "        # backward pass\n",
    "        optimizer.zero_grad()\n",
    "        loss_train.backward()\n",
    "        optimizer.step()\n",
    "\n",
    "        # printing the output\n",
    "        if epoch == 1 or epoch % 500 == 0:\n",
    "            print(f'Epoch {epoch}, Training loss {loss_train.item():.3f}, '\n",
    "                  f'Validation loss {loss_val.item():.3f}')"
   ],
   "metadata": {
    "collapsed": false,
    "pycharm": {
     "name": "#%%\n"
    }
   }
  },
  {
   "cell_type": "code",
   "execution_count": 3,
   "outputs": [
    {
     "name": "stdout",
     "output_type": "stream",
     "text": [
      "Epoch 1, Training loss 544.314, Validation loss 406.522\n",
      "Epoch 500, Training loss 11.586, Validation loss 6.534\n",
      "Epoch 1000, Training loss 4.877, Validation loss 5.076\n",
      "Epoch 1500, Training loss 4.502, Validation loss 5.356\n",
      "Epoch 2000, Training loss 4.134, Validation loss 5.672\n",
      "Weight: tensor(3.1910) Bias: tensor(4.9626)\n"
     ]
    }
   ],
   "source": [
    "import torch.nn as nn\n",
    "import torch.optim as optim\n",
    "\n",
    "# use a single neuron for linear regression (bias is true by default)\n",
    "linear_model = nn.Linear(1, 1, bias=True)\n",
    "\n",
    "# define the optimizer and its learning rate\n",
    "learning_rate = 1e-2\n",
    "adam_optimizer = optim.Adam(linear_model.parameters(), lr=learning_rate)\n",
    "\n",
    "# define the loss function\n",
    "mse_loss = nn.MSELoss()\n",
    "\n",
    "# calls the training loop\n",
    "training_loop(n_epochs=2000,\n",
    "              optimizer=adam_optimizer,\n",
    "              model=linear_model,\n",
    "              loss_fn=mse_loss,\n",
    "              x_train=data_train,\n",
    "              x_val=data_val,\n",
    "              y_train=labels_train,\n",
    "              y_val=labels_val)\n",
    "\n",
    "print('Weight:', linear_model.weight.data[0][0], 'Bias:', linear_model.bias.data[0])"
   ],
   "metadata": {
    "collapsed": false,
    "pycharm": {
     "name": "#%%\n"
    }
   }
  },
  {
   "cell_type": "code",
   "execution_count": 4,
   "outputs": [
    {
     "data": {
      "text/plain": "<Figure size 432x288 with 1 Axes>",
      "image/png": "[encoded data removed]"
     },
     "metadata": {},
     "output_type": "display_data"
    }
   ],
   "source": [
    "# create a line from the weight and bias\n",
    "weight = float(linear_model.weight.data[0][0])\n",
    "bias = float(linear_model.bias.data[0])\n",
    "x_line = np.linspace(0, 10, 5)\n",
    "y_line = weight * x_line + bias\n",
    "\n",
    "# plot the data\n",
    "sns.scatterplot(x=x.reshape(-1), y=y.reshape(-1))\n",
    "sns.lineplot(x=x_line, y=y_line)\n",
    "plt.title('Raw Data')\n",
    "plt.show()"
   ],
   "metadata": {
    "collapsed": false,
    "pycharm": {
     "name": "#%%\n"
    }
   }
  },
  {
   "cell_type": "code",
   "execution_count": 5,
   "outputs": [
    {
     "data": {
      "text/plain": "Sequential(\n  (0): Linear(in_features=1, out_features=10, bias=True)\n  (1): Sigmoid()\n  (2): Linear(in_features=10, out_features=1, bias=True)\n)"
     },
     "execution_count": 5,
     "metadata": {},
     "output_type": "execute_result"
    }
   ],
   "source": [
    "deep_model = nn.Sequential(\n",
    "    nn.Linear(1, 10),\n",
    "    nn.Sigmoid(),\n",
    "    nn.Linear(10, 1)\n",
    ")\n",
    "\n",
    "deep_model"
   ],
   "metadata": {
    "collapsed": false,
    "pycharm": {
     "name": "#%%\n"
    }
   }
  },
  {
   "cell_type": "code",
   "execution_count": 8,
   "outputs": [
    {
     "name": "stdout",
     "output_type": "stream",
     "text": [
      "Epoch 1, Training loss 4.541, Validation loss 8.455\n",
      "Epoch 500, Training loss 4.113, Validation loss 7.681\n",
      "Epoch 1000, Training loss 3.926, Validation loss 7.375\n",
      "Epoch 1500, Training loss 3.824, Validation loss 7.253\n",
      "Epoch 2000, Training loss 3.759, Validation loss 7.203\n",
      "Epoch 2500, Training loss 3.713, Validation loss 7.183\n",
      "Epoch 3000, Training loss 3.678, Validation loss 7.175\n"
     ]
    }
   ],
   "source": [
    "# define the optimizer and its learning rate\n",
    "learning_rate = 1e-3\n",
    "sgd_optimizer = optim.SGD(deep_model.parameters(), lr=learning_rate)\n",
    "\n",
    "# calls the training loop\n",
    "training_loop(n_epochs=3000,\n",
    "              optimizer=sgd_optimizer,\n",
    "              model=deep_model,\n",
    "              loss_fn=mse_loss,\n",
    "              x_train=data_train,\n",
    "              x_val=data_val,\n",
    "              y_train=labels_train,\n",
    "              y_val=labels_val)"
   ],
   "metadata": {
    "collapsed": false,
    "pycharm": {
     "name": "#%%\n"
    }
   }
  },
  {
   "cell_type": "code",
   "execution_count": 9,
   "outputs": [
    {
     "data": {
      "text/plain": "<Figure size 432x288 with 1 Axes>",
      "image/png": "[encoded data removed]"
     },
     "metadata": {},
     "output_type": "display_data"
    }
   ],
   "source": [
    "x_line = torch.arange(0, 10, 0.1).unsqueeze(1)\n",
    "y_line = deep_model(x_line)\n",
    "\n",
    "# plot the data\n",
    "sns.scatterplot(x=x.reshape(-1), y=y.reshape(-1))\n",
    "sns.lineplot(x=x_line.flatten().detach().numpy(), y=y_line.flatten().detach().numpy())\n",
    "plt.title('Raw Data')\n",
    "plt.show()"
   ],
   "metadata": {
    "collapsed": false,
    "pycharm": {
     "name": "#%%\n"
    }
   }
  }
 ],
 "metadata": {
  "kernelspec": {
   "display_name": "Python 3",
   "language": "python",
   "name": "python3"
  },
  "language_info": {
   "codemirror_mode": {
    "name": "ipython",
    "version": 2
   },
   "file_extension": ".py",
   "mimetype": "text/x-python",
   "name": "python",
   "nbconvert_exporter": "python",
   "pygments_lexer": "ipython2",
   "version": "2.7.6"
  }
 },
 "nbformat": 4,
 "nbformat_minor": 0
}