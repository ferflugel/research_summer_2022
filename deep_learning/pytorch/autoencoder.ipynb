{
 "cells": [
  {
   "cell_type": "code",
   "execution_count": 1,
   "outputs": [],
   "source": [
    "import torch\n",
    "from torchvision import datasets\n",
    "from torchvision import transforms\n",
    "\n",
    "# download the CIFAR dataset\n",
    "data_path = '../datasets/'\n",
    "cifar_10 = datasets.MNIST(data_path, train=True, download=True,\n",
    "                          transform=transforms.ToTensor())\n",
    "cifar_10_val = datasets.MNIST(data_path, train=False, download=True,\n",
    "                              transform=transforms.ToTensor())"
   ],
   "metadata": {
    "collapsed": false,
    "pycharm": {
     "name": "#%%\n"
    }
   }
  },
  {
   "cell_type": "code",
   "execution_count": 2,
   "outputs": [
    {
     "name": "stdout",
     "output_type": "stream",
     "text": [
      "Label: 1\n"
     ]
    },
    {
     "data": {
      "text/plain": "<Figure size 432x288 with 1 Axes>",
      "image/png": "[encoded data removed]"
     },
     "metadata": {},
     "output_type": "display_data"
    }
   ],
   "source": [
    "import matplotlib.pyplot as plt\n",
    "\n",
    "# view a sample image\n",
    "img, label = cifar_10[99]\n",
    "print(f'Label: {label}')\n",
    "plt.imshow(img.permute(1, 2, 0))\n",
    "plt.show()"
   ],
   "metadata": {
    "collapsed": false,
    "pycharm": {
     "name": "#%%\n"
    }
   }
  },
  {
   "cell_type": "code",
   "execution_count": 3,
   "outputs": [],
   "source": [
    "import torch.utils.data as utils\n",
    "\n",
    "train_loader = utils.DataLoader(cifar_10, batch_size=64, shuffle=True)\n",
    "val_loader = utils.DataLoader(cifar_10, batch_size=64, shuffle=True)"
   ],
   "metadata": {
    "collapsed": false,
    "pycharm": {
     "name": "#%%\n"
    }
   }
  },
  {
   "cell_type": "code",
   "execution_count": 4,
   "outputs": [],
   "source": [
    "# defines the training loop for our model\n",
    "def training_loop(n_epochs, optimizer, model, loss_fn,\n",
    "                  dataloader, dataloader_val):\n",
    "\n",
    "    loss_train, loss_val = 0, 0\n",
    "\n",
    "    for epoch in range(1, n_epochs + 1):\n",
    "\n",
    "        for imgs, _ in dataloader:\n",
    "\n",
    "            # forward pass\n",
    "            batch_size = imgs.shape[0]\n",
    "            output_train = model(imgs.view(batch_size, -1))\n",
    "            loss_train = loss_fn(output_train, imgs.view(batch_size, -1))\n",
    "\n",
    "            # backward pass\n",
    "            optimizer.zero_grad()\n",
    "            loss_train.backward()\n",
    "            optimizer.step()\n",
    "\n",
    "        # get the validation loss\n",
    "        with torch.no_grad():\n",
    "            for imgs, _ in dataloader_val:\n",
    "                batch_size = imgs.shape[0]\n",
    "                output_val = model(imgs.view(batch_size, -1))\n",
    "                loss_val = loss_fn(output_val, imgs.view(batch_size, -1))\n",
    "\n",
    "        print(f'Epoch {epoch}, Training loss {loss_train.item():.3f}, '\n",
    "              f'Validation loss {loss_val.item():.3f}')"
   ],
   "metadata": {
    "collapsed": false,
    "pycharm": {
     "name": "#%%\n"
    }
   }
  },
  {
   "cell_type": "code",
   "execution_count": 5,
   "outputs": [
    {
     "name": "stdout",
     "output_type": "stream",
     "text": [
      "Epoch 1, Training loss 0.055, Validation loss 0.054\n",
      "Epoch 2, Training loss 0.036, Validation loss 0.036\n",
      "Epoch 3, Training loss 0.033, Validation loss 0.036\n",
      "Epoch 4, Training loss 0.025, Validation loss 0.025\n",
      "Epoch 5, Training loss 0.026, Validation loss 0.025\n",
      "Epoch 6, Training loss 0.021, Validation loss 0.021\n",
      "Epoch 7, Training loss 0.022, Validation loss 0.021\n",
      "Epoch 8, Training loss 0.022, Validation loss 0.021\n",
      "Epoch 9, Training loss 0.019, Validation loss 0.018\n",
      "Epoch 10, Training loss 0.019, Validation loss 0.017\n",
      "Epoch 11, Training loss 0.018, Validation loss 0.015\n",
      "Epoch 12, Training loss 0.016, Validation loss 0.014\n",
      "Epoch 13, Training loss 0.012, Validation loss 0.013\n",
      "Epoch 14, Training loss 0.010, Validation loss 0.011\n",
      "Epoch 15, Training loss 0.009, Validation loss 0.010\n",
      "Epoch 16, Training loss 0.011, Validation loss 0.010\n",
      "Epoch 17, Training loss 0.007, Validation loss 0.010\n",
      "Epoch 18, Training loss 0.008, Validation loss 0.009\n",
      "Epoch 19, Training loss 0.007, Validation loss 0.008\n",
      "Epoch 20, Training loss 0.008, Validation loss 0.008\n"
     ]
    }
   ],
   "source": [
    "import torch.nn as nn\n",
    "import torch.optim as optim\n",
    "\n",
    "autoencoder = nn.Sequential(nn.Linear(784, 49),\n",
    "                            nn.Sigmoid(),\n",
    "                            nn.Linear(49, 784),\n",
    "                            nn.Sigmoid()\n",
    ")\n",
    "\n",
    "# define the optimizer and its learning rate\n",
    "learning_rate = 1e-3\n",
    "adam_optimizer = optim.Adam(autoencoder.parameters(), lr=learning_rate)\n",
    "\n",
    "# define the loss function\n",
    "mse_loss = nn.MSELoss()\n",
    "\n",
    "# calls the training loop\n",
    "training_loop(n_epochs=20,\n",
    "              optimizer=adam_optimizer,\n",
    "              model=autoencoder,\n",
    "              loss_fn=mse_loss,\n",
    "              dataloader=train_loader,\n",
    "              dataloader_val=val_loader)"
   ],
   "metadata": {
    "collapsed": false,
    "pycharm": {
     "name": "#%%\n"
    }
   }
  },
  {
   "cell_type": "code",
   "execution_count": 8,
   "outputs": [
    {
     "name": "stdout",
     "output_type": "stream",
     "text": [
      "Label: 9\n",
      "Original\n"
     ]
    },
    {
     "data": {
      "text/plain": "<Figure size 432x288 with 1 Axes>",
      "image/png": "[encoded data removed]"
     },
     "metadata": {},
     "output_type": "display_data"
    },
    {
     "name": "stdout",
     "output_type": "stream",
     "text": [
      "Reconstruction\n"
     ]
    },
    {
     "data": {
      "text/plain": "<Figure size 432x288 with 1 Axes>",
      "image/png": "[encoded data removed]"
     },
     "metadata": {},
     "output_type": "display_data"
    }
   ],
   "source": [
    "# view a sample image\n",
    "img, label = cifar_10_val[99]\n",
    "print(f'Label: {label}')\n",
    "print('Original')\n",
    "plt.imshow(img.permute(1, 2, 0))\n",
    "plt.show()\n",
    "\n",
    "# view reconstruction\n",
    "out = autoencoder(img.view(-1).unsqueeze(0))\n",
    "out = out.reshape(1, 28, 28)\n",
    "print('Reconstruction')\n",
    "plt.imshow(out.permute(1, 2, 0).detach().numpy())\n",
    "plt.show()"
   ],
   "metadata": {
    "collapsed": false,
    "pycharm": {
     "name": "#%%\n"
    }
   }
  },
  {
   "cell_type": "code",
   "execution_count": 6,
   "outputs": [],
   "source": [],
   "metadata": {
    "collapsed": false,
    "pycharm": {
     "name": "#%%\n"
    }
   }
  }
 ],
 "metadata": {
  "kernelspec": {
   "display_name": "Python 3",
   "language": "python",
   "name": "python3"
  },
  "language_info": {
   "codemirror_mode": {
    "name": "ipython",
    "version": 2
   },
   "file_extension": ".py",
   "mimetype": "text/x-python",
   "name": "python",
   "nbconvert_exporter": "python",
   "pygments_lexer": "ipython2",
   "version": "2.7.6"
  }
 },
 "nbformat": 4,
 "nbformat_minor": 0
}