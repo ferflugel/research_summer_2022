{
 "cells": [
  {
   "cell_type": "code",
   "execution_count": 1,
   "outputs": [
    {
     "data": {
      "text/plain": "(750, 4)"
     },
     "execution_count": 1,
     "metadata": {},
     "output_type": "execute_result"
    }
   ],
   "source": [
    "import numpy as np\n",
    "from sklearn.model_selection import train_test_split\n",
    "import pandas as pd\n",
    "\n",
    "# Generate random data and related columns\n",
    "np.random.seed(0)\n",
    "x = pd.DataFrame(np.random.normal(size=(1000, 2)), columns=['A', 'B'])\n",
    "x['C'] = x['A'] ** 2 - np.tanh(x['B'])\n",
    "x['D'] = 0.5 * np.exp(x['B']) - x['A']\n",
    "\n",
    "# Store the mean and covariance values for the inputs\n",
    "mean_x = x.mean()\n",
    "covariance_x = x.cov()\n",
    "\n",
    "# Split data into train and test\n",
    "x_train, x_test = train_test_split(x, test_size=0.25, random_state=0)\n",
    "\n",
    "# Check shape of train data\n",
    "x_train.shape"
   ],
   "metadata": {
    "collapsed": false,
    "pycharm": {
     "name": "#%%\n"
    }
   }
  },
  {
   "cell_type": "code",
   "execution_count": 2,
   "outputs": [
    {
     "data": {
      "text/plain": "<Figure size 432x288 with 1 Axes>",
      "image/png": "[encoded data removed]"
     },
     "metadata": {},
     "output_type": "display_data"
    }
   ],
   "source": [
    "from keras import layers\n",
    "from keras.models import Sequential\n",
    "from keras.losses import MeanSquaredError\n",
    "from keras.models import Model\n",
    "import tensorflow as tf\n",
    "import matplotlib.pyplot as plt\n",
    "\n",
    "# Set seeds for reproducibility\n",
    "seed = 0\n",
    "np.random.seed(seed)\n",
    "tf.random.set_seed(seed)\n",
    "\n",
    "# Our model is an autoencoder with non-linear encoder and linear decoder\n",
    "non_linear_autoencoder = Sequential(\n",
    "    [\n",
    "        layers.Input(4),\n",
    "        layers.Dense(2, activation='sigmoid', name='hidden'),\n",
    "        layers.Dense(4, activation=None, use_bias=False, name='output')\n",
    "    ]\n",
    ")\n",
    "\n",
    "# Compile the model with the optimizer and loss\n",
    "non_linear_autoencoder.compile(optimizer='adam', loss=MeanSquaredError())\n",
    "\n",
    "# Train the autoencoder for N epochs\n",
    "train_history = non_linear_autoencoder.fit(x_train, x_train,\n",
    "                                           epochs=1000,\n",
    "                                           batch_size=32,\n",
    "                                           shuffle=True,\n",
    "                                           validation_data=(x_test, x_test),\n",
    "                                           verbose=0)\n",
    "\n",
    "# We now define the linear encoder that will be used to obtain the latent space\n",
    "non_linear_encoder = Model(\n",
    "    inputs=non_linear_autoencoder.inputs,\n",
    "    outputs=non_linear_autoencoder.get_layer(name='hidden').output,\n",
    ")\n",
    "\n",
    "# Plot the test and train loss over time\n",
    "plt.plot(train_history.history['loss'])\n",
    "plt.plot(train_history.history['val_loss'])\n",
    "plt.title('model loss')\n",
    "plt.ylabel('loss')\n",
    "plt.xlabel('epoch')\n",
    "plt.legend(['train', 'val'], loc=1)\n",
    "plt.show()"
   ],
   "metadata": {
    "collapsed": false,
    "pycharm": {
     "name": "#%%\n"
    }
   }
  },
  {
   "cell_type": "code",
   "execution_count": 3,
   "outputs": [
    {
     "data": {
      "text/plain": "array([[ 0.0000000e+00,  0.0000000e+00,  0.0000000e+00,  0.0000000e+00],\n       [ 0.0000000e+00,  0.0000000e+00,  0.0000000e+00,  0.0000000e+00],\n       [ 0.0000000e+00,  0.0000000e+00,  0.0000000e+00,  0.0000000e+00],\n       [ 7.4505806e-09,  0.0000000e+00,  0.0000000e+00,  1.4901161e-08],\n       [ 0.0000000e+00, -1.4901161e-08,  0.0000000e+00, -5.9604645e-08]],\n      dtype=float32)"
     },
     "execution_count": 3,
     "metadata": {},
     "output_type": "execute_result"
    }
   ],
   "source": [
    "# Obtain the hidden latent representation\n",
    "h = non_linear_encoder.predict(x)\n",
    "\n",
    "# Obtain the reconstruction\n",
    "r = non_linear_autoencoder.predict(x)\n",
    "\n",
    "# Get the weight matrix\n",
    "A = non_linear_autoencoder.get_weights()[2].T\n",
    "\n",
    "# Show that r = Ah\n",
    "difference = (r - (A @ h.T).T)\n",
    "difference[:5]"
   ],
   "metadata": {
    "collapsed": false,
    "pycharm": {
     "name": "#%%\n"
    }
   }
  },
  {
   "cell_type": "code",
   "execution_count": 4,
   "outputs": [
    {
     "data": {
      "text/plain": "array([-0.27785885, -0.01942696,  1.1092345 ,  0.8298072 ], dtype=float32)"
     },
     "execution_count": 4,
     "metadata": {},
     "output_type": "execute_result"
    }
   ],
   "source": [
    "def estimate_x_mean(latent, decoder_matrix):\n",
    "    \"\"\"\n",
    "    Estimate the mean of x from h and the decoder matrix.\n",
    "    \"\"\"\n",
    "    mean_h = np.mean(latent, axis=0)\n",
    "    return (decoder_matrix @ mean_h.T).T\n",
    "\n",
    "# Calculate the mean of r empirically\n",
    "mean_r = np.mean(r, axis=0)\n",
    "\n",
    "# Use our formula to calculate the mean of r\n",
    "estimate_x_mean(h, A)"
   ],
   "metadata": {
    "collapsed": false,
    "pycharm": {
     "name": "#%%\n"
    }
   }
  },
  {
   "cell_type": "code",
   "execution_count": 5,
   "outputs": [
    {
     "data": {
      "text/plain": "array([[ 0.30006022, -0.33558023,  0.27304715, -0.72497824],\n       [-0.33558023,  0.45327657, -0.62702495,  0.77337574],\n       [ 0.27304715, -0.62702495,  1.57538805, -0.50533209],\n       [-0.72497824,  0.77337574, -0.50533209,  1.76958766]])"
     },
     "execution_count": 5,
     "metadata": {},
     "output_type": "execute_result"
    }
   ],
   "source": [
    "import itertools\n",
    "\n",
    "def estimate_x_covariance(cov_h, decoder_matrix):\n",
    "    \"\"\"\n",
    "    Estimate the covariance matrix of x from h and the decoder matrix.\n",
    "    \"\"\"\n",
    "    dimension = decoder_matrix.shape[0]\n",
    "    indexes = list(range(dimension))\n",
    "    covariance_matrix = np.zeros((dimension, dimension))\n",
    "    for i, j in itertools.product(indexes, indexes):\n",
    "        covariance_matrix[i, j] = estimate_x_covariance_ij(i, j, cov_h, decoder_matrix)\n",
    "    return covariance_matrix\n",
    "\n",
    "def estimate_x_covariance_ij(i, j, cov_h, decoder_matrix):\n",
    "    \"\"\"\n",
    "    Estimate the covariance between x_i and x_j.\n",
    "    \"\"\"\n",
    "    indexes = list(range(cov_h.shape[0]))\n",
    "    summation = [decoder_matrix[i, k] * decoder_matrix[j, l] * cov_h[k, l]\n",
    "                 for k, l in itertools.product(indexes, indexes)]\n",
    "    return np.sum(summation)\n",
    "\n",
    "# Estimate the covariance matrix of x\n",
    "estimate_x_covariance(np.cov(h.T), A)"
   ],
   "metadata": {
    "collapsed": false,
    "pycharm": {
     "name": "#%%\n"
    }
   }
  },
  {
   "cell_type": "code",
   "execution_count": null,
   "outputs": [],
   "source": [],
   "metadata": {
    "collapsed": false,
    "pycharm": {
     "name": "#%%\n"
    }
   }
  }
 ],
 "metadata": {
  "kernelspec": {
   "display_name": "Python 3",
   "language": "python",
   "name": "python3"
  },
  "language_info": {
   "codemirror_mode": {
    "name": "ipython",
    "version": 2
   },
   "file_extension": ".py",
   "mimetype": "text/x-python",
   "name": "python",
   "nbconvert_exporter": "python",
   "pygments_lexer": "ipython2",
   "version": "2.7.6"
  }
 },
 "nbformat": 4,
 "nbformat_minor": 0
}