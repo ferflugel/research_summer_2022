{
 "cells": [
  {
   "cell_type": "code",
   "execution_count": null,
   "outputs": [],
   "source": [
    "from keras import layers\n",
    "from keras.models import Sequential\n",
    "\n",
    "autoencoder = Sequential(\n",
    "    [\n",
    "        layers.Input(784),\n",
    "        layers.Dense(128, activation='relu'),\n",
    "        layers.Dense(64, activation='relu'),\n",
    "        layers.Dense(32, activation='relu', name='hidden'),\n",
    "        layers.Dense(64, activation='relu'),\n",
    "        layers.Dense(128, activation='relu'),\n",
    "        layers.Dense(784, activation='sigmoid', name='output')\n",
    "    ]\n",
    ")\n",
    "\n",
    "autoencoder.summary()"
   ],
   "metadata": {
    "collapsed": false,
    "pycharm": {
     "name": "#%%\n"
    }
   }
  },
  {
   "cell_type": "code",
   "execution_count": 16,
   "outputs": [],
   "source": [
    "# now we compile the model with the optimizer and loss\n",
    "autoencoder.compile(optimizer='adam', loss='binary_crossentropy')"
   ],
   "metadata": {
    "collapsed": false,
    "pycharm": {
     "name": "#%%\n"
    }
   }
  },
  {
   "cell_type": "code",
   "execution_count": 17,
   "outputs": [],
   "source": [
    "from keras.datasets import mnist\n",
    "import numpy as np\n",
    "\n",
    "# load mnist data\n",
    "(x_train, _), (x_test, _) = mnist.load_data()\n",
    "\n",
    "# we now normalize the data and flatten the images from 28x28 to 784\n",
    "x_train = x_train.astype('float32') / 255.\n",
    "x_test = x_test.astype('float32') / 255.\n",
    "x_train = x_train.reshape((len(x_train), np.prod(x_train.shape[1:])))\n",
    "x_test = x_test.reshape((len(x_test), np.prod(x_test.shape[1:])))"
   ],
   "metadata": {
    "collapsed": false,
    "pycharm": {
     "name": "#%%\n"
    }
   }
  },
  {
   "cell_type": "code",
   "execution_count": 18,
   "outputs": [
    {
     "name": "stdout",
     "output_type": "stream",
     "text": [
      "Epoch 1/100\n",
      "235/235 [==============================] - 4s 13ms/step - loss: 0.2463 - val_loss: 0.1628\n",
      "Epoch 2/100\n",
      "235/235 [==============================] - 3s 12ms/step - loss: 0.1488 - val_loss: 0.1355\n",
      "Epoch 3/100\n",
      "235/235 [==============================] - 2s 10ms/step - loss: 0.1313 - val_loss: 0.1251\n",
      "Epoch 4/100\n",
      "235/235 [==============================] - 3s 13ms/step - loss: 0.1228 - val_loss: 0.1173\n",
      "Epoch 5/100\n",
      "235/235 [==============================] - 2s 11ms/step - loss: 0.1163 - val_loss: 0.1119\n",
      "Epoch 6/100\n",
      "235/235 [==============================] - 2s 10ms/step - loss: 0.1117 - val_loss: 0.1083\n",
      "Epoch 7/100\n",
      "235/235 [==============================] - 3s 12ms/step - loss: 0.1086 - val_loss: 0.1060\n",
      "Epoch 8/100\n",
      "235/235 [==============================] - 3s 12ms/step - loss: 0.1062 - val_loss: 0.1037\n",
      "Epoch 9/100\n",
      "235/235 [==============================] - 2s 10ms/step - loss: 0.1041 - val_loss: 0.1018\n",
      "Epoch 10/100\n",
      "235/235 [==============================] - 3s 14ms/step - loss: 0.1024 - val_loss: 0.1006\n",
      "Epoch 11/100\n",
      "235/235 [==============================] - 2s 9ms/step - loss: 0.1010 - val_loss: 0.0991\n",
      "Epoch 12/100\n",
      "235/235 [==============================] - 2s 10ms/step - loss: 0.0996 - val_loss: 0.0982\n",
      "Epoch 13/100\n",
      "235/235 [==============================] - 3s 12ms/step - loss: 0.0984 - val_loss: 0.0973\n",
      "Epoch 14/100\n",
      "235/235 [==============================] - 3s 14ms/step - loss: 0.0973 - val_loss: 0.0956\n",
      "Epoch 15/100\n",
      "235/235 [==============================] - 4s 15ms/step - loss: 0.0964 - val_loss: 0.0948\n",
      "Epoch 16/100\n",
      "235/235 [==============================] - 3s 12ms/step - loss: 0.0955 - val_loss: 0.0942\n",
      "Epoch 17/100\n",
      "235/235 [==============================] - 3s 15ms/step - loss: 0.0947 - val_loss: 0.0935\n",
      "Epoch 18/100\n",
      "235/235 [==============================] - 3s 14ms/step - loss: 0.0940 - val_loss: 0.0930\n",
      "Epoch 19/100\n",
      "235/235 [==============================] - 2s 7ms/step - loss: 0.0933 - val_loss: 0.0922\n",
      "Epoch 20/100\n",
      "235/235 [==============================] - 3s 12ms/step - loss: 0.0926 - val_loss: 0.0918\n",
      "Epoch 21/100\n",
      "235/235 [==============================] - 4s 15ms/step - loss: 0.0920 - val_loss: 0.0908\n",
      "Epoch 22/100\n",
      "235/235 [==============================] - 3s 13ms/step - loss: 0.0913 - val_loss: 0.0902\n",
      "Epoch 23/100\n",
      "235/235 [==============================] - 2s 10ms/step - loss: 0.0907 - val_loss: 0.0896\n",
      "Epoch 24/100\n",
      "235/235 [==============================] - 2s 10ms/step - loss: 0.0902 - val_loss: 0.0893\n",
      "Epoch 25/100\n",
      "235/235 [==============================] - 2s 11ms/step - loss: 0.0897 - val_loss: 0.0888\n",
      "Epoch 26/100\n",
      "235/235 [==============================] - 2s 10ms/step - loss: 0.0893 - val_loss: 0.0884\n",
      "Epoch 27/100\n",
      "235/235 [==============================] - 2s 10ms/step - loss: 0.0889 - val_loss: 0.0879\n",
      "Epoch 28/100\n",
      "235/235 [==============================] - 3s 11ms/step - loss: 0.0886 - val_loss: 0.0879\n",
      "Epoch 29/100\n",
      "235/235 [==============================] - 3s 11ms/step - loss: 0.0884 - val_loss: 0.0876\n",
      "Epoch 30/100\n",
      "235/235 [==============================] - 2s 10ms/step - loss: 0.0880 - val_loss: 0.0873\n",
      "Epoch 31/100\n",
      "235/235 [==============================] - 2s 10ms/step - loss: 0.0877 - val_loss: 0.0869\n",
      "Epoch 32/100\n",
      "235/235 [==============================] - 3s 11ms/step - loss: 0.0875 - val_loss: 0.0867\n",
      "Epoch 33/100\n",
      "235/235 [==============================] - 2s 11ms/step - loss: 0.0873 - val_loss: 0.0869\n",
      "Epoch 34/100\n",
      "235/235 [==============================] - 2s 10ms/step - loss: 0.0871 - val_loss: 0.0865\n",
      "Epoch 35/100\n",
      "235/235 [==============================] - 2s 10ms/step - loss: 0.0869 - val_loss: 0.0862\n",
      "Epoch 36/100\n",
      "235/235 [==============================] - 3s 12ms/step - loss: 0.0866 - val_loss: 0.0864\n",
      "Epoch 37/100\n",
      "235/235 [==============================] - 2s 10ms/step - loss: 0.0865 - val_loss: 0.0860\n",
      "Epoch 38/100\n",
      "235/235 [==============================] - 2s 10ms/step - loss: 0.0862 - val_loss: 0.0856\n",
      "Epoch 39/100\n",
      "235/235 [==============================] - 3s 13ms/step - loss: 0.0861 - val_loss: 0.0854\n",
      "Epoch 40/100\n",
      "235/235 [==============================] - 3s 13ms/step - loss: 0.0859 - val_loss: 0.0853\n",
      "Epoch 41/100\n",
      "235/235 [==============================] - 3s 12ms/step - loss: 0.0857 - val_loss: 0.0850\n",
      "Epoch 42/100\n",
      "235/235 [==============================] - 3s 13ms/step - loss: 0.0856 - val_loss: 0.0853\n",
      "Epoch 43/100\n",
      "235/235 [==============================] - 3s 12ms/step - loss: 0.0854 - val_loss: 0.0849\n",
      "Epoch 44/100\n",
      "235/235 [==============================] - 3s 11ms/step - loss: 0.0853 - val_loss: 0.0846\n",
      "Epoch 45/100\n",
      "235/235 [==============================] - 2s 9ms/step - loss: 0.0851 - val_loss: 0.0843\n",
      "Epoch 46/100\n",
      "235/235 [==============================] - 2s 10ms/step - loss: 0.0850 - val_loss: 0.0845\n",
      "Epoch 47/100\n",
      "235/235 [==============================] - 2s 9ms/step - loss: 0.0849 - val_loss: 0.0842\n",
      "Epoch 48/100\n",
      "235/235 [==============================] - 2s 11ms/step - loss: 0.0847 - val_loss: 0.0842\n",
      "Epoch 49/100\n",
      "235/235 [==============================] - 3s 14ms/step - loss: 0.0846 - val_loss: 0.0842\n",
      "Epoch 50/100\n",
      "235/235 [==============================] - 3s 14ms/step - loss: 0.0845 - val_loss: 0.0839\n",
      "Epoch 51/100\n",
      "235/235 [==============================] - 3s 13ms/step - loss: 0.0843 - val_loss: 0.0838\n",
      "Epoch 52/100\n",
      "235/235 [==============================] - 2s 9ms/step - loss: 0.0841 - val_loss: 0.0838\n",
      "Epoch 53/100\n",
      "235/235 [==============================] - 3s 11ms/step - loss: 0.0840 - val_loss: 0.0834\n",
      "Epoch 54/100\n",
      "235/235 [==============================] - 2s 10ms/step - loss: 0.0839 - val_loss: 0.0837\n",
      "Epoch 55/100\n",
      "235/235 [==============================] - 2s 10ms/step - loss: 0.0838 - val_loss: 0.0831\n",
      "Epoch 56/100\n",
      "235/235 [==============================] - 2s 10ms/step - loss: 0.0836 - val_loss: 0.0831\n",
      "Epoch 57/100\n",
      "235/235 [==============================] - 3s 12ms/step - loss: 0.0836 - val_loss: 0.0830\n",
      "Epoch 58/100\n",
      "235/235 [==============================] - 2s 10ms/step - loss: 0.0834 - val_loss: 0.0830\n",
      "Epoch 59/100\n",
      "235/235 [==============================] - 2s 10ms/step - loss: 0.0833 - val_loss: 0.0829\n",
      "Epoch 60/100\n",
      "235/235 [==============================] - 3s 11ms/step - loss: 0.0832 - val_loss: 0.0827\n",
      "Epoch 61/100\n",
      "235/235 [==============================] - 2s 10ms/step - loss: 0.0832 - val_loss: 0.0827\n",
      "Epoch 62/100\n",
      "235/235 [==============================] - 2s 10ms/step - loss: 0.0831 - val_loss: 0.0827\n",
      "Epoch 63/100\n",
      "235/235 [==============================] - 2s 11ms/step - loss: 0.0830 - val_loss: 0.0827\n",
      "Epoch 64/100\n",
      "235/235 [==============================] - 3s 11ms/step - loss: 0.0829 - val_loss: 0.0827\n",
      "Epoch 65/100\n",
      "235/235 [==============================] - 2s 10ms/step - loss: 0.0828 - val_loss: 0.0825\n",
      "Epoch 66/100\n",
      "235/235 [==============================] - 3s 11ms/step - loss: 0.0827 - val_loss: 0.0823\n",
      "Epoch 67/100\n",
      "235/235 [==============================] - 2s 10ms/step - loss: 0.0827 - val_loss: 0.0824\n",
      "Epoch 68/100\n",
      "235/235 [==============================] - 2s 10ms/step - loss: 0.0827 - val_loss: 0.0822\n",
      "Epoch 69/100\n",
      "235/235 [==============================] - 2s 10ms/step - loss: 0.0826 - val_loss: 0.0823\n",
      "Epoch 70/100\n",
      "235/235 [==============================] - 3s 11ms/step - loss: 0.0825 - val_loss: 0.0821\n",
      "Epoch 71/100\n",
      "235/235 [==============================] - 3s 14ms/step - loss: 0.0825 - val_loss: 0.0821\n",
      "Epoch 72/100\n",
      "235/235 [==============================] - 3s 13ms/step - loss: 0.0824 - val_loss: 0.0820\n",
      "Epoch 73/100\n",
      "235/235 [==============================] - 3s 13ms/step - loss: 0.0823 - val_loss: 0.0819\n",
      "Epoch 74/100\n",
      "235/235 [==============================] - 3s 11ms/step - loss: 0.0823 - val_loss: 0.0818\n",
      "Epoch 75/100\n",
      "235/235 [==============================] - 2s 10ms/step - loss: 0.0822 - val_loss: 0.0819\n",
      "Epoch 76/100\n",
      "235/235 [==============================] - 2s 10ms/step - loss: 0.0822 - val_loss: 0.0820\n",
      "Epoch 77/100\n",
      "235/235 [==============================] - 2s 10ms/step - loss: 0.0822 - val_loss: 0.0819\n",
      "Epoch 78/100\n",
      "235/235 [==============================] - 3s 11ms/step - loss: 0.0821 - val_loss: 0.0816\n",
      "Epoch 79/100\n",
      "235/235 [==============================] - 2s 10ms/step - loss: 0.0821 - val_loss: 0.0819\n",
      "Epoch 80/100\n",
      "235/235 [==============================] - 2s 10ms/step - loss: 0.0820 - val_loss: 0.0819\n",
      "Epoch 81/100\n",
      "235/235 [==============================] - 2s 11ms/step - loss: 0.0820 - val_loss: 0.0817\n",
      "Epoch 82/100\n",
      "235/235 [==============================] - 2s 10ms/step - loss: 0.0819 - val_loss: 0.0817\n",
      "Epoch 83/100\n",
      "235/235 [==============================] - 2s 10ms/step - loss: 0.0819 - val_loss: 0.0816\n",
      "Epoch 84/100\n",
      "235/235 [==============================] - 2s 11ms/step - loss: 0.0818 - val_loss: 0.0814\n",
      "Epoch 85/100\n",
      "235/235 [==============================] - 2s 11ms/step - loss: 0.0818 - val_loss: 0.0815\n",
      "Epoch 86/100\n",
      "235/235 [==============================] - 3s 13ms/step - loss: 0.0818 - val_loss: 0.0816\n",
      "Epoch 87/100\n",
      "235/235 [==============================] - 3s 14ms/step - loss: 0.0817 - val_loss: 0.0818\n",
      "Epoch 88/100\n",
      "235/235 [==============================] - 3s 14ms/step - loss: 0.0817 - val_loss: 0.0816\n",
      "Epoch 89/100\n",
      "235/235 [==============================] - 3s 13ms/step - loss: 0.0817 - val_loss: 0.0813\n",
      "Epoch 90/100\n",
      "235/235 [==============================] - 3s 14ms/step - loss: 0.0816 - val_loss: 0.0816\n",
      "Epoch 91/100\n",
      "235/235 [==============================] - 3s 14ms/step - loss: 0.0816 - val_loss: 0.0814\n",
      "Epoch 92/100\n",
      "235/235 [==============================] - 3s 13ms/step - loss: 0.0815 - val_loss: 0.0815\n",
      "Epoch 93/100\n",
      "235/235 [==============================] - 3s 11ms/step - loss: 0.0815 - val_loss: 0.0816\n",
      "Epoch 94/100\n",
      "235/235 [==============================] - 3s 11ms/step - loss: 0.0815 - val_loss: 0.0815\n",
      "Epoch 95/100\n",
      "235/235 [==============================] - 3s 12ms/step - loss: 0.0815 - val_loss: 0.0811\n",
      "Epoch 96/100\n",
      "235/235 [==============================] - 3s 11ms/step - loss: 0.0814 - val_loss: 0.0813\n",
      "Epoch 97/100\n",
      "235/235 [==============================] - 3s 12ms/step - loss: 0.0814 - val_loss: 0.0811\n",
      "Epoch 98/100\n",
      "235/235 [==============================] - 3s 12ms/step - loss: 0.0814 - val_loss: 0.0813\n",
      "Epoch 99/100\n",
      "235/235 [==============================] - 3s 11ms/step - loss: 0.0813 - val_loss: 0.0810\n",
      "Epoch 100/100\n",
      "235/235 [==============================] - 2s 11ms/step - loss: 0.0813 - val_loss: 0.0811\n"
     ]
    },
    {
     "data": {
      "text/plain": "<keras.callbacks.History at 0x7f8cb26e7ee0>"
     },
     "execution_count": 18,
     "metadata": {},
     "output_type": "execute_result"
    }
   ],
   "source": [
    "# and now we train the autoencoder\n",
    "autoencoder.fit(x_train, x_train,\n",
    "                epochs=100,\n",
    "                batch_size=256,\n",
    "                shuffle=True,\n",
    "                validation_data=(x_test, x_test))"
   ],
   "metadata": {
    "collapsed": false,
    "pycharm": {
     "name": "#%%\n"
    }
   }
  },
  {
   "cell_type": "code",
   "execution_count": 19,
   "outputs": [],
   "source": [
    "from keras.models import Model\n",
    "\n",
    "encoder = Model(\n",
    "    inputs=autoencoder.inputs,\n",
    "    outputs=autoencoder.get_layer(name='hidden').output,\n",
    ")\n",
    "\n",
    "decoder = Model(\n",
    "    inputs=autoencoder.get_layer(name='hidden').output,\n",
    "    outputs=autoencoder.get_layer(name='output').output,\n",
    ")"
   ],
   "metadata": {
    "collapsed": false,
    "pycharm": {
     "name": "#%%\n"
    }
   }
  },
  {
   "cell_type": "code",
   "execution_count": 20,
   "outputs": [
    {
     "data": {
      "text/plain": "<Figure size 1440x288 with 20 Axes>",
      "image/png": "[encoded data removed]"
     },
     "metadata": {},
     "output_type": "display_data"
    }
   ],
   "source": [
    "import matplotlib.pyplot as plt\n",
    "\n",
    "# for the test set, we now encode and decode some images\n",
    "encoded_imgs = encoder.predict(x_test)\n",
    "decoded_imgs = decoder.predict(encoded_imgs)\n",
    "\n",
    "n = 10  # How many digits we will display\n",
    "plt.figure(figsize=(20, 4))\n",
    "for i in range(n):\n",
    "    # Display original\n",
    "    ax = plt.subplot(2, n, i + 1)\n",
    "    plt.imshow(x_test[i].reshape(28, 28))\n",
    "    plt.gray()\n",
    "    ax.get_xaxis().set_visible(False)\n",
    "    ax.get_yaxis().set_visible(False)\n",
    "\n",
    "    # Display reconstruction\n",
    "    ax = plt.subplot(2, n, i + 1 + n)\n",
    "    plt.imshow(decoded_imgs[i].reshape(28, 28))\n",
    "    plt.gray()\n",
    "    ax.get_xaxis().set_visible(False)\n",
    "    ax.get_yaxis().set_visible(False)\n",
    "\n",
    "plt.show()"
   ],
   "metadata": {
    "collapsed": false,
    "pycharm": {
     "name": "#%%\n"
    }
   }
  },
  {
   "cell_type": "code",
   "execution_count": null,
   "outputs": [],
   "source": [],
   "metadata": {
    "collapsed": false,
    "pycharm": {
     "name": "#%%\n"
    }
   }
  }
 ],
 "metadata": {
  "kernelspec": {
   "display_name": "Python 3",
   "language": "python",
   "name": "python3"
  },
  "language_info": {
   "codemirror_mode": {
    "name": "ipython",
    "version": 2
   },
   "file_extension": ".py",
   "mimetype": "text/x-python",
   "name": "python",
   "nbconvert_exporter": "python",
   "pygments_lexer": "ipython2",
   "version": "2.7.6"
  }
 },
 "nbformat": 4,
 "nbformat_minor": 0
}