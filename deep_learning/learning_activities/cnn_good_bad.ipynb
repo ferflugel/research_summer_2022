{
 "cells": [
  {
   "cell_type": "code",
   "execution_count": 9,
   "outputs": [
    {
     "data": {
      "text/plain": "         review_id  user_id  business_id  stars  useful  funny   cool   text  \\\nquality                                                                        \n0            10000    10000        10000  10000   10000  10000  10000  10000   \n1            10000    10000        10000  10000   10000  10000  10000  10000   \n\n          date  price_range  state  \nquality                             \n0        10000        10000  10000  \n1        10000        10000  10000  ",
      "text/html": "<div>\n<style scoped>\n    .dataframe tbody tr th:only-of-type {\n        vertical-align: middle;\n    }\n\n    .dataframe tbody tr th {\n        vertical-align: top;\n    }\n\n    .dataframe thead th {\n        text-align: right;\n    }\n</style>\n<table border=\"1\" class=\"dataframe\">\n  <thead>\n    <tr style=\"text-align: right;\">\n      <th></th>\n      <th>review_id</th>\n      <th>user_id</th>\n      <th>business_id</th>\n      <th>stars</th>\n      <th>useful</th>\n      <th>funny</th>\n      <th>cool</th>\n      <th>text</th>\n      <th>date</th>\n      <th>price_range</th>\n      <th>state</th>\n    </tr>\n    <tr>\n      <th>quality</th>\n      <th></th>\n      <th></th>\n      <th></th>\n      <th></th>\n      <th></th>\n      <th></th>\n      <th></th>\n      <th></th>\n      <th></th>\n      <th></th>\n      <th></th>\n    </tr>\n  </thead>\n  <tbody>\n    <tr>\n      <th>0</th>\n      <td>10000</td>\n      <td>10000</td>\n      <td>10000</td>\n      <td>10000</td>\n      <td>10000</td>\n      <td>10000</td>\n      <td>10000</td>\n      <td>10000</td>\n      <td>10000</td>\n      <td>10000</td>\n      <td>10000</td>\n    </tr>\n    <tr>\n      <th>1</th>\n      <td>10000</td>\n      <td>10000</td>\n      <td>10000</td>\n      <td>10000</td>\n      <td>10000</td>\n      <td>10000</td>\n      <td>10000</td>\n      <td>10000</td>\n      <td>10000</td>\n      <td>10000</td>\n      <td>10000</td>\n    </tr>\n  </tbody>\n</table>\n</div>"
     },
     "execution_count": 9,
     "metadata": {},
     "output_type": "execute_result"
    }
   ],
   "source": [
    "import pandas as pd\n",
    "\n",
    "# read file with reviews data for restaurants\n",
    "reviews = pd.read_csv('../datasets/reviews_restaurants.csv')\n",
    "\n",
    "# filter out restaurants with price range of 2\n",
    "reviews = reviews[reviews['stars'] != 3]\n",
    "\n",
    "# add categories based on price\n",
    "reviews['quality'] = ''\n",
    "reviews.loc[reviews['stars'] <= 2, 'quality'] = 0\n",
    "reviews.loc[reviews['stars'] >= 4, 'quality'] = 1\n",
    "\n",
    "# reduce the dataset to 10000 reviews of each category\n",
    "reviews = reviews.groupby('quality').apply(lambda x: x.sample(10000, random_state=0).reset_index(drop=True))\n",
    "reviews = reviews.droplevel(level=0)\n",
    "\n",
    "# check if the sampling went well\n",
    "reviews.groupby('quality').count()"
   ],
   "metadata": {
    "collapsed": false,
    "pycharm": {
     "name": "#%%\n"
    }
   }
  },
  {
   "cell_type": "code",
   "execution_count": 10,
   "outputs": [
    {
     "data": {
      "text/plain": "(20000, 300, 300)"
     },
     "execution_count": 10,
     "metadata": {},
     "output_type": "execute_result"
    }
   ],
   "source": [
    "from deep_learning.text_representation import word2vec\n",
    "import numpy as np\n",
    "\n",
    "# get the matrix representation of each review\n",
    "matrix_inputs = word2vec(reviews, mode='matrix')\n",
    "\n",
    "# convert our inputs to an array\n",
    "matrix_inputs = np.array(matrix_inputs)\n",
    "\n",
    "# check results\n",
    "matrix_inputs.shape"
   ],
   "metadata": {
    "collapsed": false,
    "pycharm": {
     "name": "#%%\n"
    }
   }
  },
  {
   "cell_type": "code",
   "execution_count": 11,
   "outputs": [
    {
     "data": {
      "text/plain": "(15000, 300, 300)"
     },
     "execution_count": 11,
     "metadata": {},
     "output_type": "execute_result"
    }
   ],
   "source": [
    "from sklearn.model_selection import train_test_split\n",
    "\n",
    "# produce the X and y for training and testing\n",
    "quality = np.array(reviews['quality'].tolist())\n",
    "X_train, X_test, y_train, y_test = train_test_split(matrix_inputs, quality, test_size = 0.25, random_state=0)\n",
    "\n",
    "# check shape of the test set\n",
    "X_train.shape"
   ],
   "metadata": {
    "collapsed": false,
    "pycharm": {
     "name": "#%%\n"
    }
   }
  },
  {
   "cell_type": "code",
   "execution_count": 14,
   "outputs": [
    {
     "name": "stdout",
     "output_type": "stream",
     "text": [
      "Model: \"sequential_5\"\n",
      "_________________________________________________________________\n",
      " Layer (type)                Output Shape              Param #   \n",
      "=================================================================\n",
      " conv2d_15 (Conv2D)          (None, 298, 298, 32)      320       \n",
      "                                                                 \n",
      " max_pooling2d_10 (MaxPoolin  (None, 149, 149, 32)     0         \n",
      " g2D)                                                            \n",
      "                                                                 \n",
      " conv2d_16 (Conv2D)          (None, 147, 147, 64)      18496     \n",
      "                                                                 \n",
      " max_pooling2d_11 (MaxPoolin  (None, 73, 73, 64)       0         \n",
      " g2D)                                                            \n",
      "                                                                 \n",
      " conv2d_17 (Conv2D)          (None, 71, 71, 64)        36928     \n",
      "                                                                 \n",
      " flatten_5 (Flatten)         (None, 322624)            0         \n",
      "                                                                 \n",
      " dense_10 (Dense)            (None, 64)                20648000  \n",
      "                                                                 \n",
      " dense_11 (Dense)            (None, 2)                 130       \n",
      "                                                                 \n",
      "=================================================================\n",
      "Total params: 20,703,874\n",
      "Trainable params: 20,703,874\n",
      "Non-trainable params: 0\n",
      "_________________________________________________________________\n"
     ]
    }
   ],
   "source": [
    "from keras import layers\n",
    "from keras.models import Sequential\n",
    "\n",
    "cnn = Sequential(\n",
    "    [\n",
    "        # convolutional part of the network\n",
    "        layers.Conv2D(32, (3, 3), activation='relu', input_shape=(300, 300, 1)),\n",
    "        layers.MaxPooling2D((2, 2)),\n",
    "        layers.Conv2D(64, (3, 3), activation='relu'),\n",
    "        layers.MaxPooling2D((2, 2)),\n",
    "        layers.Conv2D(64, (3, 3), activation='relu'),\n",
    "\n",
    "        # flatten part of the network\n",
    "        layers.Flatten(),\n",
    "        layers.Dense(64, activation='sigmoid'),\n",
    "        layers.Dense(2)\n",
    "    ]\n",
    ")\n",
    "\n",
    "cnn.summary()"
   ],
   "metadata": {
    "collapsed": false,
    "pycharm": {
     "name": "#%%\n"
    }
   }
  },
  {
   "cell_type": "code",
   "execution_count": 15,
   "outputs": [
    {
     "name": "stdout",
     "output_type": "stream",
     "text": [
      "Epoch 1/2\n",
      "469/469 [==============================] - 717s 2s/step - loss: 0.4467 - accuracy: 0.7733 - val_loss: 0.3111 - val_accuracy: 0.8702\n",
      "Epoch 2/2\n",
      "469/469 [==============================] - 747s 2s/step - loss: 0.2758 - accuracy: 0.8853 - val_loss: 0.2980 - val_accuracy: 0.8792\n"
     ]
    }
   ],
   "source": [
    "from keras.losses import SparseCategoricalCrossentropy\n",
    "\n",
    "cnn.compile(optimizer='adam',\n",
    "            loss=SparseCategoricalCrossentropy(from_logits=True),\n",
    "            metrics=['accuracy'])\n",
    "\n",
    "history = cnn.fit(X_train, y_train, epochs=2,\n",
    "                  validation_data=(X_test, y_test))"
   ],
   "metadata": {
    "collapsed": false,
    "pycharm": {
     "name": "#%%\n"
    }
   }
  },
  {
   "cell_type": "code",
   "execution_count": null,
   "outputs": [],
   "source": [],
   "metadata": {
    "collapsed": false,
    "pycharm": {
     "name": "#%%\n"
    }
   }
  }
 ],
 "metadata": {
  "kernelspec": {
   "display_name": "Python 3",
   "language": "python",
   "name": "python3"
  },
  "language_info": {
   "codemirror_mode": {
    "name": "ipython",
    "version": 2
   },
   "file_extension": ".py",
   "mimetype": "text/x-python",
   "name": "python",
   "nbconvert_exporter": "python",
   "pygments_lexer": "ipython2",
   "version": "2.7.6"
  }
 },
 "nbformat": 4,
 "nbformat_minor": 0
}