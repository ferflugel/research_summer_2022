{
 "cells": [
  {
   "cell_type": "code",
   "execution_count": 52,
   "outputs": [
    {
     "name": "stdout",
     "output_type": "stream",
     "text": [
      "Model: \"sequential_13\"\n",
      "_________________________________________________________________\n",
      " Layer (type)                Output Shape              Param #   \n",
      "=================================================================\n",
      " hidden (Dense)              (None, 700)               549500    \n",
      "                                                                 \n",
      " output (Dense)              (None, 784)               549584    \n",
      "                                                                 \n",
      "=================================================================\n",
      "Total params: 1,099,084\n",
      "Trainable params: 1,099,084\n",
      "Non-trainable params: 0\n",
      "_________________________________________________________________\n"
     ]
    }
   ],
   "source": [
    "from keras import layers\n",
    "from keras.models import Sequential\n",
    "\n",
    "autoencoder = Sequential(\n",
    "    [\n",
    "        layers.Input(784),\n",
    "        layers.Dense(700, activation='sigmoid', name='hidden'),\n",
    "        layers.Dense(784, activation='sigmoid', name='output')\n",
    "    ]\n",
    ")\n",
    "\n",
    "autoencoder.summary()"
   ],
   "metadata": {
    "collapsed": false,
    "pycharm": {
     "name": "#%%\n"
    }
   }
  },
  {
   "cell_type": "code",
   "execution_count": 53,
   "outputs": [],
   "source": [
    "# now we compile the model with the optimizer and loss\n",
    "autoencoder.compile(optimizer='adam', loss='binary_crossentropy')"
   ],
   "metadata": {
    "collapsed": false,
    "pycharm": {
     "name": "#%%\n"
    }
   }
  },
  {
   "cell_type": "code",
   "execution_count": 54,
   "outputs": [],
   "source": [
    "from keras.datasets import mnist\n",
    "import numpy as np\n",
    "\n",
    "# load mnist data\n",
    "(x_train, _), (x_test, _) = mnist.load_data()\n",
    "\n",
    "# we now normalize the data and flatten the images from 28x28 to 784\n",
    "x_train = x_train.astype('float32') / 255.\n",
    "x_test = x_test.astype('float32') / 255.\n",
    "x_train = x_train.reshape((len(x_train), np.prod(x_train.shape[1:])))\n",
    "x_test = x_test.reshape((len(x_test), np.prod(x_test.shape[1:])))"
   ],
   "metadata": {
    "collapsed": false,
    "pycharm": {
     "name": "#%%\n"
    }
   }
  },
  {
   "cell_type": "code",
   "execution_count": 55,
   "outputs": [
    {
     "name": "stdout",
     "output_type": "stream",
     "text": [
      "Epoch 1/30\n",
      "235/235 [==============================] - 4s 15ms/step - loss: 0.1921 - val_loss: 0.1303\n",
      "Epoch 2/30\n",
      "235/235 [==============================] - 3s 14ms/step - loss: 0.1124 - val_loss: 0.0974\n",
      "Epoch 3/30\n",
      "235/235 [==============================] - 4s 15ms/step - loss: 0.0914 - val_loss: 0.0846\n",
      "Epoch 4/30\n",
      "235/235 [==============================] - 3s 15ms/step - loss: 0.0820 - val_loss: 0.0782\n",
      "Epoch 5/30\n",
      "235/235 [==============================] - 3s 14ms/step - loss: 0.0770 - val_loss: 0.0746\n",
      "Epoch 6/30\n",
      "235/235 [==============================] - 4s 15ms/step - loss: 0.0739 - val_loss: 0.0722\n",
      "Epoch 7/30\n",
      "235/235 [==============================] - 3s 14ms/step - loss: 0.0719 - val_loss: 0.0706\n",
      "Epoch 8/30\n",
      "235/235 [==============================] - 3s 13ms/step - loss: 0.0704 - val_loss: 0.0694\n",
      "Epoch 9/30\n",
      "235/235 [==============================] - 2s 9ms/step - loss: 0.0693 - val_loss: 0.0685\n",
      "Epoch 10/30\n",
      "235/235 [==============================] - 2s 9ms/step - loss: 0.0685 - val_loss: 0.0679\n",
      "Epoch 11/30\n",
      "235/235 [==============================] - 2s 9ms/step - loss: 0.0678 - val_loss: 0.0673\n",
      "Epoch 12/30\n",
      "235/235 [==============================] - 2s 9ms/step - loss: 0.0673 - val_loss: 0.0668\n",
      "Epoch 13/30\n",
      "235/235 [==============================] - 2s 8ms/step - loss: 0.0669 - val_loss: 0.0665\n",
      "Epoch 14/30\n",
      "235/235 [==============================] - 2s 9ms/step - loss: 0.0665 - val_loss: 0.0662\n",
      "Epoch 15/30\n",
      "235/235 [==============================] - 2s 9ms/step - loss: 0.0662 - val_loss: 0.0659\n",
      "Epoch 16/30\n",
      "235/235 [==============================] - 2s 8ms/step - loss: 0.0659 - val_loss: 0.0657\n",
      "Epoch 17/30\n",
      "235/235 [==============================] - 2s 8ms/step - loss: 0.0657 - val_loss: 0.0655\n",
      "Epoch 18/30\n",
      "235/235 [==============================] - 2s 8ms/step - loss: 0.0655 - val_loss: 0.0653\n",
      "Epoch 19/30\n",
      "235/235 [==============================] - 2s 9ms/step - loss: 0.0653 - val_loss: 0.0651\n",
      "Epoch 20/30\n",
      "235/235 [==============================] - 2s 8ms/step - loss: 0.0652 - val_loss: 0.0650\n",
      "Epoch 21/30\n",
      "235/235 [==============================] - 2s 8ms/step - loss: 0.0650 - val_loss: 0.0649\n",
      "Epoch 22/30\n",
      "235/235 [==============================] - 2s 8ms/step - loss: 0.0649 - val_loss: 0.0648\n",
      "Epoch 23/30\n",
      "235/235 [==============================] - 2s 8ms/step - loss: 0.0648 - val_loss: 0.0647\n",
      "Epoch 24/30\n",
      "235/235 [==============================] - 2s 8ms/step - loss: 0.0647 - val_loss: 0.0646\n",
      "Epoch 25/30\n",
      "235/235 [==============================] - 2s 8ms/step - loss: 0.0646 - val_loss: 0.0645\n",
      "Epoch 26/30\n",
      "235/235 [==============================] - 2s 8ms/step - loss: 0.0645 - val_loss: 0.0644\n",
      "Epoch 27/30\n",
      "235/235 [==============================] - 2s 9ms/step - loss: 0.0644 - val_loss: 0.0644\n",
      "Epoch 28/30\n",
      "235/235 [==============================] - 2s 8ms/step - loss: 0.0643 - val_loss: 0.0643\n",
      "Epoch 29/30\n",
      "235/235 [==============================] - 2s 9ms/step - loss: 0.0642 - val_loss: 0.0642\n",
      "Epoch 30/30\n",
      "235/235 [==============================] - 4s 18ms/step - loss: 0.0642 - val_loss: 0.0642\n"
     ]
    },
    {
     "data": {
      "text/plain": "<keras.callbacks.History at 0x7f9043634430>"
     },
     "execution_count": 55,
     "metadata": {},
     "output_type": "execute_result"
    }
   ],
   "source": [
    "# and now we train the autoencoder\n",
    "autoencoder.fit(x_train, x_train,\n",
    "                epochs=30,\n",
    "                batch_size=256,\n",
    "                shuffle=True,\n",
    "                validation_data=(x_test, x_test))"
   ],
   "metadata": {
    "collapsed": false,
    "pycharm": {
     "name": "#%%\n"
    }
   }
  },
  {
   "cell_type": "code",
   "execution_count": 56,
   "outputs": [],
   "source": [
    "from keras.models import Model\n",
    "\n",
    "encoder = Model(\n",
    "    inputs=autoencoder.inputs,\n",
    "    outputs=autoencoder.get_layer(name='hidden').output,\n",
    ")\n",
    "\n",
    "decoder = Model(\n",
    "    inputs=autoencoder.get_layer(name='hidden').output,\n",
    "    outputs=autoencoder.get_layer(name='output').output,\n",
    ")"
   ],
   "metadata": {
    "collapsed": false,
    "pycharm": {
     "name": "#%%\n"
    }
   }
  },
  {
   "cell_type": "code",
   "execution_count": 57,
   "outputs": [
    {
     "data": {
      "text/plain": "<Figure size 1440x288 with 20 Axes>",
      "image/png": "[encoded data removed]"
     },
     "metadata": {},
     "output_type": "display_data"
    }
   ],
   "source": [
    "import matplotlib.pyplot as plt\n",
    "\n",
    "# for the test set, we now encode and decode some images\n",
    "encoded_imgs = encoder.predict(x_test)\n",
    "decoded_imgs = decoder.predict(encoded_imgs)\n",
    "\n",
    "n = 10  # How many digits we will display\n",
    "plt.figure(figsize=(20, 4))\n",
    "for i in range(n):\n",
    "    # Display original\n",
    "    ax = plt.subplot(2, n, i + 1)\n",
    "    plt.imshow(x_test[i].reshape(28, 28))\n",
    "    plt.gray()\n",
    "    ax.get_xaxis().set_visible(False)\n",
    "    ax.get_yaxis().set_visible(False)\n",
    "\n",
    "    # Display reconstruction\n",
    "    ax = plt.subplot(2, n, i + 1 + n)\n",
    "    plt.imshow(decoded_imgs[i].reshape(28, 28))\n",
    "    plt.gray()\n",
    "    ax.get_xaxis().set_visible(False)\n",
    "    ax.get_yaxis().set_visible(False)\n",
    "\n",
    "plt.show()"
   ],
   "metadata": {
    "collapsed": false,
    "pycharm": {
     "name": "#%%\n"
    }
   }
  },
  {
   "cell_type": "code",
   "execution_count": null,
   "outputs": [],
   "source": [],
   "metadata": {
    "collapsed": false,
    "pycharm": {
     "name": "#%%\n"
    }
   }
  }
 ],
 "metadata": {
  "kernelspec": {
   "display_name": "Python 3",
   "language": "python",
   "name": "python3"
  },
  "language_info": {
   "codemirror_mode": {
    "name": "ipython",
    "version": 2
   },
   "file_extension": ".py",
   "mimetype": "text/x-python",
   "name": "python",
   "nbconvert_exporter": "python",
   "pygments_lexer": "ipython2",
   "version": "2.7.6"
  }
 },
 "nbformat": 4,
 "nbformat_minor": 0
}