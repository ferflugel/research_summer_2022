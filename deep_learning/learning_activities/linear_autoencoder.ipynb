{
 "cells": [
  {
   "cell_type": "code",
   "execution_count": 7,
   "outputs": [
    {
     "name": "stdout",
     "output_type": "stream",
     "text": [
      "Model: \"sequential_1\"\n",
      "_________________________________________________________________\n",
      " Layer (type)                Output Shape              Param #   \n",
      "=================================================================\n",
      " hidden (Dense)              (None, 392)               307720    \n",
      "                                                                 \n",
      " output (Dense)              (None, 784)               308112    \n",
      "                                                                 \n",
      "=================================================================\n",
      "Total params: 615,832\n",
      "Trainable params: 615,832\n",
      "Non-trainable params: 0\n",
      "_________________________________________________________________\n"
     ]
    }
   ],
   "source": [
    "from keras import layers\n",
    "from keras.models import Sequential\n",
    "from keras.losses import MeanSquaredError\n",
    "\n",
    "autoencoder = Sequential(\n",
    "    [\n",
    "        layers.Input(784),\n",
    "        layers.Dense(392, activation='sigmoid', name='hidden'),\n",
    "        layers.Dense(784, activation=None, name='output')\n",
    "    ]\n",
    ")\n",
    "\n",
    "autoencoder.summary()"
   ],
   "metadata": {
    "collapsed": false,
    "pycharm": {
     "name": "#%%\n"
    }
   }
  },
  {
   "cell_type": "code",
   "execution_count": 8,
   "outputs": [],
   "source": [
    "# now we compile the model with the optimizer and loss\n",
    "autoencoder.compile(optimizer='adam', loss=MeanSquaredError())"
   ],
   "metadata": {
    "collapsed": false,
    "pycharm": {
     "name": "#%%\n"
    }
   }
  },
  {
   "cell_type": "code",
   "execution_count": 9,
   "outputs": [],
   "source": [
    "from keras.datasets import mnist\n",
    "import numpy as np\n",
    "\n",
    "# load mnist data\n",
    "(x_train, _), (x_test, _) = mnist.load_data()\n",
    "\n",
    "# we now normalize the data and flatten the images from 28x28 to 784\n",
    "x_train = x_train.astype('float32') / 255.\n",
    "x_test = x_test.astype('float32') / 255.\n",
    "x_train = x_train.reshape((len(x_train), np.prod(x_train.shape[1:])))\n",
    "x_test = x_test.reshape((len(x_test), np.prod(x_test.shape[1:])))"
   ],
   "metadata": {
    "collapsed": false,
    "pycharm": {
     "name": "#%%\n"
    }
   }
  },
  {
   "cell_type": "code",
   "execution_count": 10,
   "outputs": [
    {
     "name": "stdout",
     "output_type": "stream",
     "text": [
      "Epoch 1/50\n",
      "235/235 [==============================] - 3s 12ms/step - loss: 0.0388 - val_loss: 0.0173\n",
      "Epoch 2/50\n",
      "235/235 [==============================] - 2s 7ms/step - loss: 0.0128 - val_loss: 0.0094\n",
      "Epoch 3/50\n",
      "235/235 [==============================] - 2s 9ms/step - loss: 0.0079 - val_loss: 0.0065\n",
      "Epoch 4/50\n",
      "235/235 [==============================] - 2s 8ms/step - loss: 0.0058 - val_loss: 0.0050\n",
      "Epoch 5/50\n",
      "235/235 [==============================] - 2s 9ms/step - loss: 0.0046 - val_loss: 0.0041\n",
      "Epoch 6/50\n",
      "235/235 [==============================] - 2s 9ms/step - loss: 0.0038 - val_loss: 0.0034\n",
      "Epoch 7/50\n",
      "235/235 [==============================] - 2s 9ms/step - loss: 0.0032 - val_loss: 0.0030\n",
      "Epoch 8/50\n",
      "235/235 [==============================] - 2s 9ms/step - loss: 0.0028 - val_loss: 0.0026\n",
      "Epoch 9/50\n",
      "235/235 [==============================] - 2s 10ms/step - loss: 0.0024 - val_loss: 0.0023\n",
      "Epoch 10/50\n",
      "235/235 [==============================] - 3s 11ms/step - loss: 0.0022 - val_loss: 0.0021\n",
      "Epoch 11/50\n",
      "235/235 [==============================] - 3s 12ms/step - loss: 0.0020 - val_loss: 0.0019\n",
      "Epoch 12/50\n",
      "235/235 [==============================] - 3s 11ms/step - loss: 0.0018 - val_loss: 0.0017\n",
      "Epoch 13/50\n",
      "235/235 [==============================] - 3s 11ms/step - loss: 0.0016 - val_loss: 0.0016\n",
      "Epoch 14/50\n",
      "235/235 [==============================] - 3s 12ms/step - loss: 0.0015 - val_loss: 0.0014\n",
      "Epoch 15/50\n",
      "235/235 [==============================] - 3s 12ms/step - loss: 0.0014 - val_loss: 0.0013\n",
      "Epoch 16/50\n",
      "235/235 [==============================] - 2s 11ms/step - loss: 0.0013 - val_loss: 0.0014\n",
      "Epoch 17/50\n",
      "235/235 [==============================] - 3s 11ms/step - loss: 0.0012 - val_loss: 0.0012\n",
      "Epoch 18/50\n",
      "235/235 [==============================] - 3s 11ms/step - loss: 0.0011 - val_loss: 0.0011\n",
      "Epoch 19/50\n",
      "235/235 [==============================] - 3s 11ms/step - loss: 0.0011 - val_loss: 0.0011\n",
      "Epoch 20/50\n",
      "235/235 [==============================] - 2s 10ms/step - loss: 0.0010 - val_loss: 9.8310e-04\n",
      "Epoch 21/50\n",
      "235/235 [==============================] - 3s 11ms/step - loss: 9.4999e-04 - val_loss: 9.5043e-04\n",
      "Epoch 22/50\n",
      "235/235 [==============================] - 3s 12ms/step - loss: 9.1238e-04 - val_loss: 9.1593e-04\n",
      "Epoch 23/50\n",
      "235/235 [==============================] - 3s 12ms/step - loss: 8.7500e-04 - val_loss: 8.5584e-04\n",
      "Epoch 24/50\n",
      "235/235 [==============================] - 3s 12ms/step - loss: 8.4357e-04 - val_loss: 8.5065e-04\n",
      "Epoch 25/50\n",
      "235/235 [==============================] - 3s 11ms/step - loss: 8.0842e-04 - val_loss: 8.3061e-04\n",
      "Epoch 26/50\n",
      "235/235 [==============================] - 3s 12ms/step - loss: 7.8015e-04 - val_loss: 7.9207e-04\n",
      "Epoch 27/50\n",
      "235/235 [==============================] - 3s 12ms/step - loss: 7.5547e-04 - val_loss: 7.4872e-04\n",
      "Epoch 28/50\n",
      "235/235 [==============================] - 3s 12ms/step - loss: 7.3632e-04 - val_loss: 7.2423e-04\n",
      "Epoch 29/50\n",
      "235/235 [==============================] - 2s 11ms/step - loss: 7.1733e-04 - val_loss: 7.4460e-04\n",
      "Epoch 30/50\n",
      "235/235 [==============================] - 3s 11ms/step - loss: 6.9687e-04 - val_loss: 6.9534e-04\n",
      "Epoch 31/50\n",
      "235/235 [==============================] - 3s 12ms/step - loss: 6.7903e-04 - val_loss: 6.9908e-04\n",
      "Epoch 32/50\n",
      "235/235 [==============================] - 3s 12ms/step - loss: 6.6948e-04 - val_loss: 6.7343e-04\n",
      "Epoch 33/50\n",
      "235/235 [==============================] - 3s 11ms/step - loss: 6.4371e-04 - val_loss: 6.5633e-04\n",
      "Epoch 34/50\n",
      "235/235 [==============================] - 3s 12ms/step - loss: 6.4182e-04 - val_loss: 6.3926e-04\n",
      "Epoch 35/50\n",
      "235/235 [==============================] - 3s 12ms/step - loss: 6.2521e-04 - val_loss: 6.4332e-04\n",
      "Epoch 36/50\n",
      "235/235 [==============================] - 3s 12ms/step - loss: 6.2439e-04 - val_loss: 6.3651e-04\n",
      "Epoch 37/50\n",
      "235/235 [==============================] - 3s 11ms/step - loss: 6.0906e-04 - val_loss: 5.8886e-04\n",
      "Epoch 38/50\n",
      "235/235 [==============================] - 3s 11ms/step - loss: 5.9722e-04 - val_loss: 6.0232e-04\n",
      "Epoch 39/50\n",
      "235/235 [==============================] - 3s 11ms/step - loss: 5.9500e-04 - val_loss: 5.9243e-04\n",
      "Epoch 40/50\n",
      "235/235 [==============================] - 3s 11ms/step - loss: 5.8229e-04 - val_loss: 5.9854e-04\n",
      "Epoch 41/50\n",
      "235/235 [==============================] - 3s 11ms/step - loss: 5.7539e-04 - val_loss: 5.7659e-04\n",
      "Epoch 42/50\n",
      "235/235 [==============================] - 3s 11ms/step - loss: 5.7102e-04 - val_loss: 5.7089e-04\n",
      "Epoch 43/50\n",
      "235/235 [==============================] - 3s 11ms/step - loss: 5.6612e-04 - val_loss: 5.7689e-04\n",
      "Epoch 44/50\n",
      "235/235 [==============================] - 3s 12ms/step - loss: 5.5921e-04 - val_loss: 5.7900e-04\n",
      "Epoch 45/50\n",
      "235/235 [==============================] - 3s 11ms/step - loss: 5.5344e-04 - val_loss: 5.5114e-04\n",
      "Epoch 46/50\n",
      "235/235 [==============================] - 3s 11ms/step - loss: 5.5373e-04 - val_loss: 5.4328e-04\n",
      "Epoch 47/50\n",
      "235/235 [==============================] - 3s 12ms/step - loss: 5.3927e-04 - val_loss: 5.6072e-04\n",
      "Epoch 48/50\n",
      "235/235 [==============================] - 3s 11ms/step - loss: 5.3942e-04 - val_loss: 5.3657e-04\n",
      "Epoch 49/50\n",
      "235/235 [==============================] - 2s 11ms/step - loss: 5.3806e-04 - val_loss: 5.4201e-04\n",
      "Epoch 50/50\n",
      "235/235 [==============================] - 3s 12ms/step - loss: 5.3644e-04 - val_loss: 5.3228e-04\n"
     ]
    },
    {
     "data": {
      "text/plain": "<keras.callbacks.History at 0x7f99f0f92b80>"
     },
     "execution_count": 10,
     "metadata": {},
     "output_type": "execute_result"
    }
   ],
   "source": [
    "# and now we train the autoencoder\n",
    "autoencoder.fit(x_train, x_train,\n",
    "                epochs=50,\n",
    "                batch_size=256,\n",
    "                shuffle=True,\n",
    "                validation_data=(x_test, x_test))"
   ],
   "metadata": {
    "collapsed": false,
    "pycharm": {
     "name": "#%%\n"
    }
   }
  },
  {
   "cell_type": "code",
   "execution_count": 11,
   "outputs": [],
   "source": [
    "from keras.models import Model\n",
    "\n",
    "encoder = Model(\n",
    "    inputs=autoencoder.inputs,\n",
    "    outputs=autoencoder.get_layer(name='hidden').output,\n",
    ")\n",
    "\n",
    "decoder = Model(\n",
    "    inputs=autoencoder.get_layer(name='hidden').output,\n",
    "    outputs=autoencoder.get_layer(name='output').output,\n",
    ")"
   ],
   "metadata": {
    "collapsed": false,
    "pycharm": {
     "name": "#%%\n"
    }
   }
  },
  {
   "cell_type": "code",
   "execution_count": 12,
   "outputs": [
    {
     "data": {
      "text/plain": "<Figure size 1440x288 with 20 Axes>",
      "image/png": "[encoded data removed]"
     },
     "metadata": {},
     "output_type": "display_data"
    }
   ],
   "source": [
    "import matplotlib.pyplot as plt\n",
    "\n",
    "# for the test set, we now encode and decode some images\n",
    "encoded_imgs = encoder.predict(x_test)\n",
    "decoded_imgs = decoder.predict(encoded_imgs)\n",
    "\n",
    "n = 10  # How many digits we will display\n",
    "plt.figure(figsize=(20, 4))\n",
    "for i in range(n):\n",
    "    # Display original\n",
    "    ax = plt.subplot(2, n, i + 1)\n",
    "    plt.imshow(x_test[i].reshape(28, 28))\n",
    "    plt.gray()\n",
    "    ax.get_xaxis().set_visible(False)\n",
    "    ax.get_yaxis().set_visible(False)\n",
    "\n",
    "    # Display reconstruction\n",
    "    ax = plt.subplot(2, n, i + 1 + n)\n",
    "    plt.imshow(decoded_imgs[i].reshape(28, 28))\n",
    "    plt.gray()\n",
    "    ax.get_xaxis().set_visible(False)\n",
    "    ax.get_yaxis().set_visible(False)\n",
    "\n",
    "plt.show()"
   ],
   "metadata": {
    "collapsed": false,
    "pycharm": {
     "name": "#%%\n"
    }
   }
  },
  {
   "cell_type": "code",
   "execution_count": 12,
   "outputs": [],
   "source": [],
   "metadata": {
    "collapsed": false,
    "pycharm": {
     "name": "#%%\n"
    }
   }
  }
 ],
 "metadata": {
  "kernelspec": {
   "display_name": "Python 3",
   "language": "python",
   "name": "python3"
  },
  "language_info": {
   "codemirror_mode": {
    "name": "ipython",
    "version": 2
   },
   "file_extension": ".py",
   "mimetype": "text/x-python",
   "name": "python",
   "nbconvert_exporter": "python",
   "pygments_lexer": "ipython2",
   "version": "2.7.6"
  }
 },
 "nbformat": 4,
 "nbformat_minor": 0
}