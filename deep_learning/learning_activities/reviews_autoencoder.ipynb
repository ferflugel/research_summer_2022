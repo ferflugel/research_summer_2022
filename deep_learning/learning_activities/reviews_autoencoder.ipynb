{
 "cells": [
  {
   "cell_type": "code",
   "execution_count": 1,
   "outputs": [
    {
     "name": "stdout",
     "output_type": "stream",
     "text": [
      "Model: \"model\"\n",
      "_________________________________________________________________\n",
      " Layer (type)                Output Shape              Param #   \n",
      "=================================================================\n",
      " input_1 (InputLayer)        [(None, 1024)]            0         \n",
      "                                                                 \n",
      " dense (Dense)               (None, 64)                65600     \n",
      "                                                                 \n",
      " dense_1 (Dense)             (None, 1024)              66560     \n",
      "                                                                 \n",
      "=================================================================\n",
      "Total params: 132,160\n",
      "Trainable params: 132,160\n",
      "Non-trainable params: 0\n",
      "_________________________________________________________________\n"
     ]
    }
   ],
   "source": [
    "import keras\n",
    "from keras import layers\n",
    "\n",
    "original_dimension = 1024\n",
    "encoded_dimension = 64\n",
    "\n",
    "# create the layers of the model\n",
    "input_vector = keras.Input(shape=(original_dimension,))\n",
    "encoded = layers.Dense(encoded_dimension, activation='relu')(input_vector)\n",
    "decoded = layers.Dense(original_dimension, activation='sigmoid')(encoded)\n",
    "\n",
    "# create the model mapping the input and its reconstruction\n",
    "autoencoder = keras.Model(input_vector, decoded)\n",
    "autoencoder.summary()"
   ],
   "metadata": {
    "collapsed": false,
    "pycharm": {
     "name": "#%%\n"
    }
   }
  },
  {
   "cell_type": "code",
   "execution_count": 2,
   "outputs": [],
   "source": [
    "# create a model for the encoder\n",
    "encoder = keras.Model(input_vector, encoded)\n",
    "\n",
    "# and one for the decoder\n",
    "encoded_input = keras.Input(shape=(encoded_dimension,))\n",
    "decoder_layer = autoencoder.layers[-1]\n",
    "decoder = keras.Model(encoded_input, decoder_layer(encoded_input))\n",
    "\n",
    "# now we compile the model with the optimizer and loss\n",
    "autoencoder.compile(optimizer='adam', loss='binary_crossentropy')"
   ],
   "metadata": {
    "collapsed": false,
    "pycharm": {
     "name": "#%%\n"
    }
   }
  },
  {
   "cell_type": "code",
   "execution_count": 3,
   "outputs": [
    {
     "data": {
      "text/plain": "         review_id  user_id  business_id  stars  useful  funny   cool   text  \\\nquality                                                                        \nbad          10000    10000        10000  10000   10000  10000  10000  10000   \ngood         10000    10000        10000  10000   10000  10000  10000  10000   \n\n          date  price_range  state  \nquality                             \nbad      10000        10000  10000  \ngood     10000        10000  10000  ",
      "text/html": "<div>\n<style scoped>\n    .dataframe tbody tr th:only-of-type {\n        vertical-align: middle;\n    }\n\n    .dataframe tbody tr th {\n        vertical-align: top;\n    }\n\n    .dataframe thead th {\n        text-align: right;\n    }\n</style>\n<table border=\"1\" class=\"dataframe\">\n  <thead>\n    <tr style=\"text-align: right;\">\n      <th></th>\n      <th>review_id</th>\n      <th>user_id</th>\n      <th>business_id</th>\n      <th>stars</th>\n      <th>useful</th>\n      <th>funny</th>\n      <th>cool</th>\n      <th>text</th>\n      <th>date</th>\n      <th>price_range</th>\n      <th>state</th>\n    </tr>\n    <tr>\n      <th>quality</th>\n      <th></th>\n      <th></th>\n      <th></th>\n      <th></th>\n      <th></th>\n      <th></th>\n      <th></th>\n      <th></th>\n      <th></th>\n      <th></th>\n      <th></th>\n    </tr>\n  </thead>\n  <tbody>\n    <tr>\n      <th>bad</th>\n      <td>10000</td>\n      <td>10000</td>\n      <td>10000</td>\n      <td>10000</td>\n      <td>10000</td>\n      <td>10000</td>\n      <td>10000</td>\n      <td>10000</td>\n      <td>10000</td>\n      <td>10000</td>\n      <td>10000</td>\n    </tr>\n    <tr>\n      <th>good</th>\n      <td>10000</td>\n      <td>10000</td>\n      <td>10000</td>\n      <td>10000</td>\n      <td>10000</td>\n      <td>10000</td>\n      <td>10000</td>\n      <td>10000</td>\n      <td>10000</td>\n      <td>10000</td>\n      <td>10000</td>\n    </tr>\n  </tbody>\n</table>\n</div>"
     },
     "execution_count": 3,
     "metadata": {},
     "output_type": "execute_result"
    }
   ],
   "source": [
    "import pandas as pd\n",
    "\n",
    "# read file with reviews data for restaurants\n",
    "reviews = pd.read_csv('../datasets/reviews_restaurants.csv')\n",
    "\n",
    "# filter out restaurants with price range of 2\n",
    "reviews = reviews[reviews['stars'] != 3]\n",
    "\n",
    "# add categories based on price\n",
    "reviews['quality'] = ''\n",
    "reviews.loc[reviews['stars'] <= 2, 'quality'] = 'bad'\n",
    "reviews.loc[reviews['stars'] >= 4, 'quality'] = 'good'\n",
    "\n",
    "# reduce the dataset to 10000 reviews of each category\n",
    "reviews = reviews.groupby('quality').apply(lambda x: x.sample(10000, random_state=0).reset_index(drop=True))\n",
    "reviews = reviews.droplevel(level=0)\n",
    "\n",
    "# check if the sampling went well\n",
    "reviews.groupby('quality').count()"
   ],
   "metadata": {
    "collapsed": false,
    "pycharm": {
     "name": "#%%\n"
    }
   }
  },
  {
   "cell_type": "code",
   "execution_count": 4,
   "outputs": [],
   "source": [
    "from sklearn.model_selection import train_test_split\n",
    "import numpy as np\n",
    "from deep_learning.text_representation import get_processed_inputs, sum_to_one\n",
    "from sklearn.feature_extraction.text import CountVectorizer\n",
    "\n",
    "review_group = reviews['quality'].tolist()\n",
    "X_train, X_test, y_train, y_test = train_test_split(reviews[['text']], np.array(review_group), test_size=0.25, random_state=0)\n",
    "\n",
    "# pre-process the inputs\n",
    "bow_train = get_processed_inputs(X_train)\n",
    "\n",
    "# create the BoW representation for the set\n",
    "bow_vec = CountVectorizer(max_features=1024, ngram_range=(1,2))\n",
    "bow_train = np.array(sum_to_one(bow_vec.fit_transform(bow_train).toarray()))\n",
    "bow_test = np.array(sum_to_one(bow_vec.transform(get_processed_inputs(X_test)).toarray()))"
   ],
   "metadata": {
    "collapsed": false,
    "pycharm": {
     "name": "#%%\n"
    }
   }
  },
  {
   "cell_type": "code",
   "execution_count": 5,
   "outputs": [
    {
     "name": "stdout",
     "output_type": "stream",
     "text": [
      "Epoch 1/50\n",
      "59/59 [==============================] - 2s 24ms/step - loss: 0.6209 - val_loss: 0.4509\n",
      "Epoch 2/50\n",
      "59/59 [==============================] - 1s 21ms/step - loss: 0.2405 - val_loss: 0.0936\n",
      "Epoch 3/50\n",
      "59/59 [==============================] - 1s 22ms/step - loss: 0.0542 - val_loss: 0.0315\n",
      "Epoch 4/50\n",
      "59/59 [==============================] - 1s 25ms/step - loss: 0.0237 - val_loss: 0.0182\n",
      "Epoch 5/50\n",
      "59/59 [==============================] - 1s 19ms/step - loss: 0.0154 - val_loss: 0.0132\n",
      "Epoch 6/50\n",
      "59/59 [==============================] - 1s 21ms/step - loss: 0.0120 - val_loss: 0.0109\n",
      "Epoch 7/50\n",
      "59/59 [==============================] - 1s 19ms/step - loss: 0.0102 - val_loss: 0.0096\n",
      "Epoch 8/50\n",
      "59/59 [==============================] - 1s 19ms/step - loss: 0.0092 - val_loss: 0.0089\n",
      "Epoch 9/50\n",
      "59/59 [==============================] - 1s 17ms/step - loss: 0.0086 - val_loss: 0.0084\n",
      "Epoch 10/50\n",
      "59/59 [==============================] - 1s 21ms/step - loss: 0.0082 - val_loss: 0.0081\n",
      "Epoch 11/50\n",
      "59/59 [==============================] - 1s 16ms/step - loss: 0.0080 - val_loss: 0.0079\n",
      "Epoch 12/50\n",
      "59/59 [==============================] - 1s 18ms/step - loss: 0.0078 - val_loss: 0.0077\n",
      "Epoch 13/50\n",
      "59/59 [==============================] - 1s 16ms/step - loss: 0.0076 - val_loss: 0.0076\n",
      "Epoch 14/50\n",
      "59/59 [==============================] - 1s 13ms/step - loss: 0.0075 - val_loss: 0.0075\n",
      "Epoch 15/50\n",
      "59/59 [==============================] - 1s 19ms/step - loss: 0.0075 - val_loss: 0.0074\n",
      "Epoch 16/50\n",
      "59/59 [==============================] - 1s 12ms/step - loss: 0.0074 - val_loss: 0.0074\n",
      "Epoch 17/50\n",
      "59/59 [==============================] - 1s 12ms/step - loss: 0.0074 - val_loss: 0.0073\n",
      "Epoch 18/50\n",
      "59/59 [==============================] - 1s 13ms/step - loss: 0.0073 - val_loss: 0.0073\n",
      "Epoch 19/50\n",
      "59/59 [==============================] - 1s 19ms/step - loss: 0.0073 - val_loss: 0.0073\n",
      "Epoch 20/50\n",
      "59/59 [==============================] - 1s 15ms/step - loss: 0.0073 - val_loss: 0.0073\n",
      "Epoch 21/50\n",
      "59/59 [==============================] - 1s 19ms/step - loss: 0.0073 - val_loss: 0.0073\n",
      "Epoch 22/50\n",
      "59/59 [==============================] - 1s 22ms/step - loss: 0.0073 - val_loss: 0.0072\n",
      "Epoch 23/50\n",
      "59/59 [==============================] - 1s 12ms/step - loss: 0.0072 - val_loss: 0.0072\n",
      "Epoch 24/50\n",
      "59/59 [==============================] - 1s 11ms/step - loss: 0.0072 - val_loss: 0.0072\n",
      "Epoch 25/50\n",
      "59/59 [==============================] - 1s 11ms/step - loss: 0.0072 - val_loss: 0.0072\n",
      "Epoch 26/50\n",
      "59/59 [==============================] - 1s 21ms/step - loss: 0.0072 - val_loss: 0.0072\n",
      "Epoch 27/50\n",
      "59/59 [==============================] - 1s 13ms/step - loss: 0.0072 - val_loss: 0.0072\n",
      "Epoch 28/50\n",
      "59/59 [==============================] - 1s 14ms/step - loss: 0.0072 - val_loss: 0.0072\n",
      "Epoch 29/50\n",
      "59/59 [==============================] - 1s 19ms/step - loss: 0.0072 - val_loss: 0.0072\n",
      "Epoch 30/50\n",
      "59/59 [==============================] - 1s 19ms/step - loss: 0.0072 - val_loss: 0.0072\n",
      "Epoch 31/50\n",
      "59/59 [==============================] - 1s 20ms/step - loss: 0.0072 - val_loss: 0.0072\n",
      "Epoch 32/50\n",
      "59/59 [==============================] - 1s 16ms/step - loss: 0.0072 - val_loss: 0.0072\n",
      "Epoch 33/50\n",
      "59/59 [==============================] - 1s 17ms/step - loss: 0.0072 - val_loss: 0.0072\n",
      "Epoch 34/50\n",
      "59/59 [==============================] - 1s 12ms/step - loss: 0.0072 - val_loss: 0.0072\n",
      "Epoch 35/50\n",
      "59/59 [==============================] - 1s 13ms/step - loss: 0.0072 - val_loss: 0.0072\n",
      "Epoch 36/50\n",
      "59/59 [==============================] - 1s 13ms/step - loss: 0.0072 - val_loss: 0.0072\n",
      "Epoch 37/50\n",
      "59/59 [==============================] - 1s 16ms/step - loss: 0.0072 - val_loss: 0.0072\n",
      "Epoch 38/50\n",
      "59/59 [==============================] - 1s 16ms/step - loss: 0.0072 - val_loss: 0.0072\n",
      "Epoch 39/50\n",
      "59/59 [==============================] - 1s 13ms/step - loss: 0.0072 - val_loss: 0.0072\n",
      "Epoch 40/50\n",
      "59/59 [==============================] - 1s 12ms/step - loss: 0.0072 - val_loss: 0.0072\n",
      "Epoch 41/50\n",
      "59/59 [==============================] - 1s 23ms/step - loss: 0.0072 - val_loss: 0.0072\n",
      "Epoch 42/50\n",
      "59/59 [==============================] - 1s 21ms/step - loss: 0.0072 - val_loss: 0.0072\n",
      "Epoch 43/50\n",
      "59/59 [==============================] - 1s 23ms/step - loss: 0.0072 - val_loss: 0.0072\n",
      "Epoch 44/50\n",
      "59/59 [==============================] - 1s 17ms/step - loss: 0.0072 - val_loss: 0.0072\n",
      "Epoch 45/50\n",
      "59/59 [==============================] - 1s 22ms/step - loss: 0.0072 - val_loss: 0.0072\n",
      "Epoch 46/50\n",
      "59/59 [==============================] - 1s 17ms/step - loss: 0.0072 - val_loss: 0.0072\n",
      "Epoch 47/50\n",
      "59/59 [==============================] - 1s 17ms/step - loss: 0.0072 - val_loss: 0.0072\n",
      "Epoch 48/50\n",
      "59/59 [==============================] - 1s 18ms/step - loss: 0.0072 - val_loss: 0.0072\n",
      "Epoch 49/50\n",
      "59/59 [==============================] - 1s 20ms/step - loss: 0.0072 - val_loss: 0.0072\n",
      "Epoch 50/50\n",
      "59/59 [==============================] - 1s 22ms/step - loss: 0.0072 - val_loss: 0.0072\n"
     ]
    },
    {
     "data": {
      "text/plain": "<keras.callbacks.History at 0x7ff36d04cca0>"
     },
     "execution_count": 5,
     "metadata": {},
     "output_type": "execute_result"
    }
   ],
   "source": [
    "# and now we train the autoencoder\n",
    "autoencoder.fit(bow_train, bow_train,\n",
    "                epochs=50,\n",
    "                batch_size=256,\n",
    "                shuffle=True,\n",
    "                validation_data=(bow_test, bow_test))"
   ],
   "metadata": {
    "collapsed": false,
    "pycharm": {
     "name": "#%%\n"
    }
   }
  },
  {
   "cell_type": "code",
   "execution_count": 6,
   "outputs": [],
   "source": [
    "# we now obtain the encoded vectors\n",
    "encoded_train = encoder.predict(bow_train)\n",
    "encoded_test = encoder.predict(bow_test)"
   ],
   "metadata": {
    "collapsed": false,
    "pycharm": {
     "name": "#%%\n"
    }
   }
  },
  {
   "cell_type": "code",
   "execution_count": 7,
   "outputs": [
    {
     "name": "stdout",
     "output_type": "stream",
     "text": [
      "RF test score: 0.8754\n",
      "RF train score: 0.8818666666666667\n",
      "LR test score: 0.8806\n",
      "LR train score: 0.8773333333333333\n"
     ]
    }
   ],
   "source": [
    "from sklearn.svm import SVC\n",
    "from sklearn.ensemble import RandomForestClassifier\n",
    "from sklearn.linear_model import LogisticRegression\n",
    "\n",
    "# # using SVMs for classification\n",
    "# svm = SVC(C=0.5).fit(bow_train, y_train)\n",
    "# print(\"SVM test score:\", svm.score(bow_test, y_test))\n",
    "# print(\"SVM train score:\", svm.score(bow_train, y_train))\n",
    "\n",
    "# using random forests for classification\n",
    "rfc = RandomForestClassifier(max_depth=5, random_state=0).fit(bow_train, y_train)\n",
    "print(\"RF test score:\", rfc.score(bow_test, y_test))\n",
    "print(\"RF train score:\", rfc.score(bow_train, y_train))\n",
    "\n",
    "# using logistic regression for classification\n",
    "lrc = LogisticRegression(random_state=0, max_iter=125, C=0.5).fit(bow_train, y_train)\n",
    "print(\"LR test score:\", lrc.score(bow_test, y_test))\n",
    "print(\"LR train score:\", lrc.score(bow_train, y_train))"
   ],
   "metadata": {
    "collapsed": false,
    "pycharm": {
     "name": "#%%\n"
    }
   }
  },
  {
   "cell_type": "code",
   "execution_count": 8,
   "outputs": [
    {
     "name": "stdout",
     "output_type": "stream",
     "text": [
      "SVM test score: 0.7774\n",
      "SVM train score: 0.8095333333333333\n",
      "RF test score: 0.6942\n",
      "RF train score: 0.7269333333333333\n",
      "LR test score: 0.7162\n",
      "LR train score: 0.7248666666666667\n"
     ]
    }
   ],
   "source": [
    "# using SVMs for classification\n",
    "svm = SVC(C=0.5).fit(encoded_train, y_train)\n",
    "print(\"SVM test score:\", svm.score(encoded_test, y_test))\n",
    "print(\"SVM train score:\", svm.score(encoded_train, y_train))\n",
    "\n",
    "# using random forests for classification\n",
    "rfc = RandomForestClassifier(max_depth=5, random_state=0).fit(encoded_train, y_train)\n",
    "print(\"RF test score:\", rfc.score(encoded_test, y_test))\n",
    "print(\"RF train score:\", rfc.score(encoded_train, y_train))\n",
    "\n",
    "# using logistic regression for classification\n",
    "lrc = LogisticRegression(random_state=0, max_iter=125, C=0.5).fit(encoded_train, y_train)\n",
    "print(\"LR test score:\", lrc.score(encoded_test, y_test))\n",
    "print(\"LR train score:\", lrc.score(encoded_train, y_train))"
   ],
   "metadata": {
    "collapsed": false,
    "pycharm": {
     "name": "#%%\n"
    }
   }
  },
  {
   "cell_type": "code",
   "execution_count": 9,
   "outputs": [
    {
     "name": "stdout",
     "output_type": "stream",
     "text": [
      "Model: \"sequential\"\n",
      "_________________________________________________________________\n",
      " Layer (type)                Output Shape              Param #   \n",
      "=================================================================\n",
      " dense_2 (Dense)             (None, 256)               262400    \n",
      "                                                                 \n",
      " dense_3 (Dense)             (None, 128)               32896     \n",
      "                                                                 \n",
      " hidden (Dense)              (None, 64)                8256      \n",
      "                                                                 \n",
      " dense_4 (Dense)             (None, 128)               8320      \n",
      "                                                                 \n",
      " dense_5 (Dense)             (None, 256)               33024     \n",
      "                                                                 \n",
      " output (Dense)              (None, 1024)              263168    \n",
      "                                                                 \n",
      "=================================================================\n",
      "Total params: 608,064\n",
      "Trainable params: 608,064\n",
      "Non-trainable params: 0\n",
      "_________________________________________________________________\n"
     ]
    }
   ],
   "source": [
    "from keras.models import Sequential\n",
    "\n",
    "autoencoder = Sequential(\n",
    "    [\n",
    "        layers.Input(1024),\n",
    "        layers.Dense(256, activation='relu'),\n",
    "        layers.Dense(128, activation='relu'),\n",
    "        layers.Dense(64, activation='relu', name='hidden'),\n",
    "        layers.Dense(128, activation='relu'),\n",
    "        layers.Dense(256, activation='relu'),\n",
    "        layers.Dense(1024, activation='sigmoid', name='output')\n",
    "    ]\n",
    ")\n",
    "\n",
    "autoencoder.summary()"
   ],
   "metadata": {
    "collapsed": false,
    "pycharm": {
     "name": "#%%\n"
    }
   }
  },
  {
   "cell_type": "code",
   "execution_count": 10,
   "outputs": [],
   "source": [
    "# now we compile the model with the optimizer and loss\n",
    "autoencoder.compile(optimizer='adam', loss='binary_crossentropy')"
   ],
   "metadata": {
    "collapsed": false,
    "pycharm": {
     "name": "#%%\n"
    }
   }
  },
  {
   "cell_type": "code",
   "execution_count": 15,
   "outputs": [
    {
     "name": "stdout",
     "output_type": "stream",
     "text": [
      "Epoch 1/150\n",
      "59/59 [==============================] - 1s 21ms/step - loss: 0.0067 - val_loss: 0.0067\n",
      "Epoch 2/150\n",
      "59/59 [==============================] - 1s 20ms/step - loss: 0.0067 - val_loss: 0.0067\n",
      "Epoch 3/150\n",
      "59/59 [==============================] - 1s 24ms/step - loss: 0.0067 - val_loss: 0.0067\n",
      "Epoch 4/150\n",
      "59/59 [==============================] - 1s 26ms/step - loss: 0.0067 - val_loss: 0.0067\n",
      "Epoch 5/150\n",
      "59/59 [==============================] - 1s 24ms/step - loss: 0.0067 - val_loss: 0.0067\n",
      "Epoch 6/150\n",
      "59/59 [==============================] - 1s 22ms/step - loss: 0.0066 - val_loss: 0.0067\n",
      "Epoch 7/150\n",
      "59/59 [==============================] - 1s 23ms/step - loss: 0.0066 - val_loss: 0.0067\n",
      "Epoch 8/150\n",
      "59/59 [==============================] - 1s 22ms/step - loss: 0.0066 - val_loss: 0.0067\n",
      "Epoch 9/150\n",
      "59/59 [==============================] - 1s 23ms/step - loss: 0.0066 - val_loss: 0.0066\n",
      "Epoch 10/150\n",
      "59/59 [==============================] - 1s 24ms/step - loss: 0.0066 - val_loss: 0.0066\n",
      "Epoch 11/150\n",
      "59/59 [==============================] - 1s 23ms/step - loss: 0.0066 - val_loss: 0.0066\n",
      "Epoch 12/150\n",
      "59/59 [==============================] - 1s 24ms/step - loss: 0.0066 - val_loss: 0.0066\n",
      "Epoch 13/150\n",
      "59/59 [==============================] - 1s 25ms/step - loss: 0.0065 - val_loss: 0.0066\n",
      "Epoch 14/150\n",
      "59/59 [==============================] - 1s 24ms/step - loss: 0.0065 - val_loss: 0.0066\n",
      "Epoch 15/150\n",
      "59/59 [==============================] - 1s 23ms/step - loss: 0.0065 - val_loss: 0.0066\n",
      "Epoch 16/150\n",
      "59/59 [==============================] - 1s 22ms/step - loss: 0.0065 - val_loss: 0.0066\n",
      "Epoch 17/150\n",
      "59/59 [==============================] - 1s 23ms/step - loss: 0.0065 - val_loss: 0.0066\n",
      "Epoch 18/150\n",
      "59/59 [==============================] - 2s 26ms/step - loss: 0.0065 - val_loss: 0.0065\n",
      "Epoch 19/150\n",
      "59/59 [==============================] - 1s 25ms/step - loss: 0.0064 - val_loss: 0.0065\n",
      "Epoch 20/150\n",
      "59/59 [==============================] - 1s 24ms/step - loss: 0.0064 - val_loss: 0.0065\n",
      "Epoch 21/150\n",
      "59/59 [==============================] - 1s 24ms/step - loss: 0.0064 - val_loss: 0.0065\n",
      "Epoch 22/150\n",
      "59/59 [==============================] - 1s 23ms/step - loss: 0.0064 - val_loss: 0.0065\n",
      "Epoch 23/150\n",
      "59/59 [==============================] - 1s 22ms/step - loss: 0.0064 - val_loss: 0.0065\n",
      "Epoch 24/150\n",
      "59/59 [==============================] - 1s 23ms/step - loss: 0.0064 - val_loss: 0.0065\n",
      "Epoch 25/150\n",
      "59/59 [==============================] - 1s 19ms/step - loss: 0.0064 - val_loss: 0.0065\n",
      "Epoch 26/150\n",
      "59/59 [==============================] - 1s 22ms/step - loss: 0.0063 - val_loss: 0.0065\n",
      "Epoch 27/150\n",
      "59/59 [==============================] - 1s 24ms/step - loss: 0.0063 - val_loss: 0.0065\n",
      "Epoch 28/150\n",
      "59/59 [==============================] - 1s 23ms/step - loss: 0.0063 - val_loss: 0.0065\n",
      "Epoch 29/150\n",
      "59/59 [==============================] - 1s 24ms/step - loss: 0.0063 - val_loss: 0.0064\n",
      "Epoch 30/150\n",
      "59/59 [==============================] - 1s 23ms/step - loss: 0.0063 - val_loss: 0.0064\n",
      "Epoch 31/150\n",
      "59/59 [==============================] - 1s 22ms/step - loss: 0.0063 - val_loss: 0.0064\n",
      "Epoch 32/150\n",
      "59/59 [==============================] - 1s 21ms/step - loss: 0.0063 - val_loss: 0.0064\n",
      "Epoch 33/150\n",
      "59/59 [==============================] - 1s 24ms/step - loss: 0.0063 - val_loss: 0.0064\n",
      "Epoch 34/150\n",
      "59/59 [==============================] - 1s 23ms/step - loss: 0.0063 - val_loss: 0.0064\n",
      "Epoch 35/150\n",
      "59/59 [==============================] - 1s 24ms/step - loss: 0.0063 - val_loss: 0.0064\n",
      "Epoch 36/150\n",
      "59/59 [==============================] - 1s 24ms/step - loss: 0.0062 - val_loss: 0.0064\n",
      "Epoch 37/150\n",
      "59/59 [==============================] - 1s 21ms/step - loss: 0.0062 - val_loss: 0.0064\n",
      "Epoch 38/150\n",
      "59/59 [==============================] - 1s 21ms/step - loss: 0.0062 - val_loss: 0.0064\n",
      "Epoch 39/150\n",
      "59/59 [==============================] - 1s 23ms/step - loss: 0.0062 - val_loss: 0.0064\n",
      "Epoch 40/150\n",
      "59/59 [==============================] - 1s 22ms/step - loss: 0.0062 - val_loss: 0.0064\n",
      "Epoch 41/150\n",
      "59/59 [==============================] - 1s 20ms/step - loss: 0.0062 - val_loss: 0.0064\n",
      "Epoch 42/150\n",
      "59/59 [==============================] - 1s 21ms/step - loss: 0.0062 - val_loss: 0.0064\n",
      "Epoch 43/150\n",
      "59/59 [==============================] - 1s 23ms/step - loss: 0.0062 - val_loss: 0.0064\n",
      "Epoch 44/150\n",
      "59/59 [==============================] - 1s 21ms/step - loss: 0.0061 - val_loss: 0.0064\n",
      "Epoch 45/150\n",
      "59/59 [==============================] - 1s 21ms/step - loss: 0.0061 - val_loss: 0.0064\n",
      "Epoch 46/150\n",
      "59/59 [==============================] - 1s 20ms/step - loss: 0.0061 - val_loss: 0.0064\n",
      "Epoch 47/150\n",
      "59/59 [==============================] - 1s 23ms/step - loss: 0.0061 - val_loss: 0.0064\n",
      "Epoch 48/150\n",
      "59/59 [==============================] - 1s 22ms/step - loss: 0.0061 - val_loss: 0.0064\n",
      "Epoch 49/150\n",
      "59/59 [==============================] - 1s 24ms/step - loss: 0.0061 - val_loss: 0.0063\n",
      "Epoch 50/150\n",
      "59/59 [==============================] - 1s 24ms/step - loss: 0.0061 - val_loss: 0.0063\n",
      "Epoch 51/150\n",
      "59/59 [==============================] - 1s 22ms/step - loss: 0.0061 - val_loss: 0.0063\n",
      "Epoch 52/150\n",
      "59/59 [==============================] - 1s 24ms/step - loss: 0.0060 - val_loss: 0.0063\n",
      "Epoch 53/150\n",
      "59/59 [==============================] - 1s 22ms/step - loss: 0.0060 - val_loss: 0.0063\n",
      "Epoch 54/150\n",
      "59/59 [==============================] - 1s 23ms/step - loss: 0.0060 - val_loss: 0.0063\n",
      "Epoch 55/150\n",
      "59/59 [==============================] - 1s 25ms/step - loss: 0.0060 - val_loss: 0.0063\n",
      "Epoch 56/150\n",
      "59/59 [==============================] - 1s 24ms/step - loss: 0.0060 - val_loss: 0.0063\n",
      "Epoch 57/150\n",
      "59/59 [==============================] - 1s 21ms/step - loss: 0.0060 - val_loss: 0.0063\n",
      "Epoch 58/150\n",
      "59/59 [==============================] - 1s 20ms/step - loss: 0.0060 - val_loss: 0.0063\n",
      "Epoch 59/150\n",
      "59/59 [==============================] - 1s 24ms/step - loss: 0.0060 - val_loss: 0.0063\n",
      "Epoch 60/150\n",
      "59/59 [==============================] - 1s 25ms/step - loss: 0.0060 - val_loss: 0.0063\n",
      "Epoch 61/150\n",
      "59/59 [==============================] - 1s 24ms/step - loss: 0.0060 - val_loss: 0.0063\n",
      "Epoch 62/150\n",
      "59/59 [==============================] - 1s 22ms/step - loss: 0.0059 - val_loss: 0.0063\n",
      "Epoch 63/150\n",
      "59/59 [==============================] - 1s 22ms/step - loss: 0.0059 - val_loss: 0.0063\n",
      "Epoch 64/150\n",
      "59/59 [==============================] - 1s 24ms/step - loss: 0.0059 - val_loss: 0.0063\n",
      "Epoch 65/150\n",
      "59/59 [==============================] - 1s 23ms/step - loss: 0.0059 - val_loss: 0.0063\n",
      "Epoch 66/150\n",
      "59/59 [==============================] - 1s 24ms/step - loss: 0.0059 - val_loss: 0.0063\n",
      "Epoch 67/150\n",
      "59/59 [==============================] - 1s 25ms/step - loss: 0.0059 - val_loss: 0.0063\n",
      "Epoch 68/150\n",
      "59/59 [==============================] - 2s 26ms/step - loss: 0.0059 - val_loss: 0.0063\n",
      "Epoch 69/150\n",
      "59/59 [==============================] - 1s 20ms/step - loss: 0.0059 - val_loss: 0.0063\n",
      "Epoch 70/150\n",
      "59/59 [==============================] - 1s 23ms/step - loss: 0.0059 - val_loss: 0.0063\n",
      "Epoch 71/150\n",
      "59/59 [==============================] - 2s 26ms/step - loss: 0.0059 - val_loss: 0.0063\n",
      "Epoch 72/150\n",
      "59/59 [==============================] - 1s 24ms/step - loss: 0.0059 - val_loss: 0.0063\n",
      "Epoch 73/150\n",
      "59/59 [==============================] - 1s 22ms/step - loss: 0.0058 - val_loss: 0.0063\n",
      "Epoch 74/150\n",
      "59/59 [==============================] - 1s 24ms/step - loss: 0.0058 - val_loss: 0.0063\n",
      "Epoch 75/150\n",
      "59/59 [==============================] - 1s 24ms/step - loss: 0.0058 - val_loss: 0.0063\n",
      "Epoch 76/150\n",
      "59/59 [==============================] - 1s 25ms/step - loss: 0.0058 - val_loss: 0.0063\n",
      "Epoch 77/150\n",
      "59/59 [==============================] - 1s 23ms/step - loss: 0.0058 - val_loss: 0.0063\n",
      "Epoch 78/150\n",
      "59/59 [==============================] - 1s 23ms/step - loss: 0.0058 - val_loss: 0.0063\n",
      "Epoch 79/150\n",
      "59/59 [==============================] - 1s 24ms/step - loss: 0.0058 - val_loss: 0.0063\n",
      "Epoch 80/150\n",
      "59/59 [==============================] - 1s 22ms/step - loss: 0.0058 - val_loss: 0.0063\n",
      "Epoch 81/150\n",
      "59/59 [==============================] - 1s 23ms/step - loss: 0.0058 - val_loss: 0.0063\n",
      "Epoch 82/150\n",
      "59/59 [==============================] - 1s 24ms/step - loss: 0.0058 - val_loss: 0.0063\n",
      "Epoch 83/150\n",
      "59/59 [==============================] - 1s 23ms/step - loss: 0.0058 - val_loss: 0.0063\n",
      "Epoch 84/150\n",
      "59/59 [==============================] - 1s 24ms/step - loss: 0.0058 - val_loss: 0.0063\n",
      "Epoch 85/150\n",
      "59/59 [==============================] - 1s 24ms/step - loss: 0.0058 - val_loss: 0.0063\n",
      "Epoch 86/150\n",
      "59/59 [==============================] - 1s 21ms/step - loss: 0.0058 - val_loss: 0.0063\n",
      "Epoch 87/150\n",
      "59/59 [==============================] - 1s 24ms/step - loss: 0.0057 - val_loss: 0.0063\n",
      "Epoch 88/150\n",
      "59/59 [==============================] - 1s 22ms/step - loss: 0.0057 - val_loss: 0.0063\n",
      "Epoch 89/150\n",
      "59/59 [==============================] - 1s 22ms/step - loss: 0.0057 - val_loss: 0.0063\n",
      "Epoch 90/150\n",
      "59/59 [==============================] - 1s 23ms/step - loss: 0.0057 - val_loss: 0.0063\n",
      "Epoch 91/150\n",
      "59/59 [==============================] - 1s 22ms/step - loss: 0.0057 - val_loss: 0.0063\n",
      "Epoch 92/150\n",
      "59/59 [==============================] - 1s 24ms/step - loss: 0.0057 - val_loss: 0.0063\n",
      "Epoch 93/150\n",
      "59/59 [==============================] - 1s 24ms/step - loss: 0.0057 - val_loss: 0.0063\n",
      "Epoch 94/150\n",
      "59/59 [==============================] - 1s 22ms/step - loss: 0.0057 - val_loss: 0.0063\n",
      "Epoch 95/150\n",
      "59/59 [==============================] - 1s 22ms/step - loss: 0.0057 - val_loss: 0.0063\n",
      "Epoch 96/150\n",
      "59/59 [==============================] - 1s 22ms/step - loss: 0.0057 - val_loss: 0.0063\n",
      "Epoch 97/150\n",
      "59/59 [==============================] - 1s 22ms/step - loss: 0.0057 - val_loss: 0.0063\n",
      "Epoch 98/150\n",
      "59/59 [==============================] - 1s 23ms/step - loss: 0.0057 - val_loss: 0.0063\n",
      "Epoch 99/150\n",
      "59/59 [==============================] - 1s 22ms/step - loss: 0.0057 - val_loss: 0.0063\n",
      "Epoch 100/150\n",
      "59/59 [==============================] - 1s 23ms/step - loss: 0.0057 - val_loss: 0.0063\n",
      "Epoch 101/150\n",
      "59/59 [==============================] - 1s 22ms/step - loss: 0.0057 - val_loss: 0.0063\n",
      "Epoch 102/150\n",
      "59/59 [==============================] - 1s 21ms/step - loss: 0.0056 - val_loss: 0.0063\n",
      "Epoch 103/150\n",
      "59/59 [==============================] - 1s 22ms/step - loss: 0.0056 - val_loss: 0.0063\n",
      "Epoch 104/150\n",
      "59/59 [==============================] - 1s 23ms/step - loss: 0.0056 - val_loss: 0.0063\n",
      "Epoch 105/150\n",
      "59/59 [==============================] - 1s 23ms/step - loss: 0.0056 - val_loss: 0.0063\n",
      "Epoch 106/150\n",
      "59/59 [==============================] - 1s 23ms/step - loss: 0.0056 - val_loss: 0.0063\n",
      "Epoch 107/150\n",
      "59/59 [==============================] - 1s 23ms/step - loss: 0.0056 - val_loss: 0.0063\n",
      "Epoch 108/150\n",
      "59/59 [==============================] - 1s 23ms/step - loss: 0.0056 - val_loss: 0.0063\n",
      "Epoch 109/150\n",
      "59/59 [==============================] - 1s 23ms/step - loss: 0.0056 - val_loss: 0.0063\n",
      "Epoch 110/150\n",
      "59/59 [==============================] - 1s 23ms/step - loss: 0.0056 - val_loss: 0.0063\n",
      "Epoch 111/150\n",
      "59/59 [==============================] - 1s 23ms/step - loss: 0.0056 - val_loss: 0.0063\n",
      "Epoch 112/150\n",
      "59/59 [==============================] - 1s 24ms/step - loss: 0.0056 - val_loss: 0.0063\n",
      "Epoch 113/150\n",
      "59/59 [==============================] - 1s 23ms/step - loss: 0.0056 - val_loss: 0.0063\n",
      "Epoch 114/150\n",
      "59/59 [==============================] - 1s 24ms/step - loss: 0.0056 - val_loss: 0.0063\n",
      "Epoch 115/150\n",
      "59/59 [==============================] - 1s 24ms/step - loss: 0.0056 - val_loss: 0.0063\n",
      "Epoch 116/150\n",
      "59/59 [==============================] - 1s 24ms/step - loss: 0.0056 - val_loss: 0.0063\n",
      "Epoch 117/150\n",
      "59/59 [==============================] - 1s 23ms/step - loss: 0.0056 - val_loss: 0.0063\n",
      "Epoch 118/150\n",
      "59/59 [==============================] - 1s 21ms/step - loss: 0.0056 - val_loss: 0.0063\n",
      "Epoch 119/150\n",
      "59/59 [==============================] - 1s 22ms/step - loss: 0.0056 - val_loss: 0.0063\n",
      "Epoch 120/150\n",
      "59/59 [==============================] - 1s 23ms/step - loss: 0.0056 - val_loss: 0.0063\n",
      "Epoch 121/150\n",
      "59/59 [==============================] - 1s 24ms/step - loss: 0.0055 - val_loss: 0.0063\n",
      "Epoch 122/150\n",
      "59/59 [==============================] - 1s 24ms/step - loss: 0.0055 - val_loss: 0.0063\n",
      "Epoch 123/150\n",
      "59/59 [==============================] - 1s 22ms/step - loss: 0.0055 - val_loss: 0.0063\n",
      "Epoch 124/150\n",
      "59/59 [==============================] - 1s 22ms/step - loss: 0.0055 - val_loss: 0.0063\n",
      "Epoch 125/150\n",
      "59/59 [==============================] - 1s 22ms/step - loss: 0.0055 - val_loss: 0.0063\n",
      "Epoch 126/150\n",
      "59/59 [==============================] - 1s 21ms/step - loss: 0.0055 - val_loss: 0.0063\n",
      "Epoch 127/150\n",
      "59/59 [==============================] - 1s 19ms/step - loss: 0.0055 - val_loss: 0.0063\n",
      "Epoch 128/150\n",
      "59/59 [==============================] - 1s 21ms/step - loss: 0.0055 - val_loss: 0.0063\n",
      "Epoch 129/150\n",
      "59/59 [==============================] - 1s 19ms/step - loss: 0.0055 - val_loss: 0.0063\n",
      "Epoch 130/150\n",
      "59/59 [==============================] - 1s 21ms/step - loss: 0.0055 - val_loss: 0.0063\n",
      "Epoch 131/150\n",
      "59/59 [==============================] - 1s 20ms/step - loss: 0.0055 - val_loss: 0.0063\n",
      "Epoch 132/150\n",
      "59/59 [==============================] - 1s 22ms/step - loss: 0.0055 - val_loss: 0.0063\n",
      "Epoch 133/150\n",
      "59/59 [==============================] - 1s 21ms/step - loss: 0.0055 - val_loss: 0.0063\n",
      "Epoch 134/150\n",
      "59/59 [==============================] - 1s 19ms/step - loss: 0.0055 - val_loss: 0.0063\n",
      "Epoch 135/150\n",
      "59/59 [==============================] - 1s 19ms/step - loss: 0.0055 - val_loss: 0.0063\n",
      "Epoch 136/150\n",
      "59/59 [==============================] - 1s 19ms/step - loss: 0.0055 - val_loss: 0.0063\n",
      "Epoch 137/150\n",
      "59/59 [==============================] - 1s 20ms/step - loss: 0.0055 - val_loss: 0.0063\n",
      "Epoch 138/150\n",
      "59/59 [==============================] - 1s 22ms/step - loss: 0.0055 - val_loss: 0.0063\n",
      "Epoch 139/150\n",
      "59/59 [==============================] - 1s 21ms/step - loss: 0.0055 - val_loss: 0.0063\n",
      "Epoch 140/150\n",
      "59/59 [==============================] - 1s 22ms/step - loss: 0.0055 - val_loss: 0.0063\n",
      "Epoch 141/150\n",
      "59/59 [==============================] - 1s 23ms/step - loss: 0.0055 - val_loss: 0.0063\n",
      "Epoch 142/150\n",
      "59/59 [==============================] - 1s 21ms/step - loss: 0.0054 - val_loss: 0.0063\n",
      "Epoch 143/150\n",
      "59/59 [==============================] - 1s 21ms/step - loss: 0.0054 - val_loss: 0.0063\n",
      "Epoch 144/150\n",
      "59/59 [==============================] - 1s 21ms/step - loss: 0.0054 - val_loss: 0.0063\n",
      "Epoch 145/150\n",
      "59/59 [==============================] - 1s 22ms/step - loss: 0.0054 - val_loss: 0.0063\n",
      "Epoch 146/150\n",
      "59/59 [==============================] - 1s 22ms/step - loss: 0.0054 - val_loss: 0.0063\n",
      "Epoch 147/150\n",
      "59/59 [==============================] - 1s 22ms/step - loss: 0.0054 - val_loss: 0.0063\n",
      "Epoch 148/150\n",
      "59/59 [==============================] - 1s 23ms/step - loss: 0.0054 - val_loss: 0.0063\n",
      "Epoch 149/150\n",
      "59/59 [==============================] - 1s 23ms/step - loss: 0.0054 - val_loss: 0.0063\n",
      "Epoch 150/150\n",
      "59/59 [==============================] - 1s 23ms/step - loss: 0.0054 - val_loss: 0.0063\n"
     ]
    },
    {
     "data": {
      "text/plain": "<keras.callbacks.History at 0x7ff350d119a0>"
     },
     "execution_count": 15,
     "metadata": {},
     "output_type": "execute_result"
    }
   ],
   "source": [
    "# and now we train the autoencoder\n",
    "autoencoder.fit(bow_train, bow_train,\n",
    "                epochs=150,\n",
    "                batch_size=256,\n",
    "                shuffle=True,\n",
    "                validation_data=(bow_test, bow_test))"
   ],
   "metadata": {
    "collapsed": false,
    "pycharm": {
     "name": "#%%\n"
    }
   }
  },
  {
   "cell_type": "code",
   "execution_count": 16,
   "outputs": [],
   "source": [
    "from keras.models import Model\n",
    "\n",
    "encoder_2 = Model(\n",
    "    inputs=autoencoder.inputs,\n",
    "    outputs=autoencoder.get_layer(name='hidden').output,\n",
    ")\n",
    "\n",
    "decoder_2 = Model(\n",
    "    inputs=autoencoder.get_layer(name='hidden').output,\n",
    "    outputs=autoencoder.get_layer(name='output').output,\n",
    ")"
   ],
   "metadata": {
    "collapsed": false,
    "pycharm": {
     "name": "#%%\n"
    }
   }
  },
  {
   "cell_type": "code",
   "execution_count": 17,
   "outputs": [],
   "source": [
    "# we now obtain the encoded vectors\n",
    "encoded_train = encoder_2.predict(bow_train)\n",
    "encoded_test = encoder_2.predict(bow_test)"
   ],
   "metadata": {
    "collapsed": false,
    "pycharm": {
     "name": "#%%\n"
    }
   }
  },
  {
   "cell_type": "code",
   "execution_count": 18,
   "outputs": [
    {
     "name": "stdout",
     "output_type": "stream",
     "text": [
      "SVM test score: 0.9146\n",
      "SVM train score: 0.9227333333333333\n",
      "RF test score: 0.8788\n",
      "RF train score: 0.8883333333333333\n",
      "LR test score: 0.9118\n",
      "LR train score: 0.9171333333333334\n"
     ]
    },
    {
     "name": "stderr",
     "output_type": "stream",
     "text": [
      "/Users/fernandoassad/opt/anaconda3/lib/python3.8/site-packages/sklearn/linear_model/_logistic.py:763: ConvergenceWarning: lbfgs failed to converge (status=1):\n",
      "STOP: TOTAL NO. of ITERATIONS REACHED LIMIT.\n",
      "\n",
      "Increase the number of iterations (max_iter) or scale the data as shown in:\n",
      "    https://scikit-learn.org/stable/modules/preprocessing.html\n",
      "Please also refer to the documentation for alternative solver options:\n",
      "    https://scikit-learn.org/stable/modules/linear_model.html#logistic-regression\n",
      "  n_iter_i = _check_optimize_result(\n"
     ]
    }
   ],
   "source": [
    "# using SVMs for classification\n",
    "svm = SVC(C=0.5).fit(encoded_train, y_train)\n",
    "print(\"SVM test score:\", svm.score(encoded_test, y_test))\n",
    "print(\"SVM train score:\", svm.score(encoded_train, y_train))\n",
    "\n",
    "# using random forests for classification\n",
    "rfc = RandomForestClassifier(max_depth=5, random_state=0).fit(encoded_train, y_train)\n",
    "print(\"RF test score:\", rfc.score(encoded_test, y_test))\n",
    "print(\"RF train score:\", rfc.score(encoded_train, y_train))\n",
    "\n",
    "# using logistic regression for classification\n",
    "lrc = LogisticRegression(random_state=0, max_iter=125, C=0.5).fit(encoded_train, y_train)\n",
    "print(\"LR test score:\", lrc.score(encoded_test, y_test))\n",
    "print(\"LR train score:\", lrc.score(encoded_train, y_train))"
   ],
   "metadata": {
    "collapsed": false,
    "pycharm": {
     "name": "#%%\n"
    }
   }
  }
 ],
 "metadata": {
  "kernelspec": {
   "display_name": "Python 3",
   "language": "python",
   "name": "python3"
  },
  "language_info": {
   "codemirror_mode": {
    "name": "ipython",
    "version": 2
   },
   "file_extension": ".py",
   "mimetype": "text/x-python",
   "name": "python",
   "nbconvert_exporter": "python",
   "pygments_lexer": "ipython2",
   "version": "2.7.6"
  }
 },
 "nbformat": 4,
 "nbformat_minor": 0
}