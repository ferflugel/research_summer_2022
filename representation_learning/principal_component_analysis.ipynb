{
 "cells": [
  {
   "cell_type": "code",
   "execution_count": 1,
   "outputs": [
    {
     "data": {
      "text/plain": "     SepalLengthCm  SepalWidthCm  PetalLengthCm  PetalWidthCm\n112            6.8           3.0            5.5           2.1\n97             6.2           2.9            4.3           1.3\n86             6.7           3.1            4.7           1.5\n67             5.8           2.7            4.1           1.0\n126            6.2           2.8            4.8           1.8\n..             ...           ...            ...           ...\n148            6.2           3.4            5.4           2.3\n149            5.9           3.0            5.1           1.8\n68             6.2           2.2            4.5           1.5\n35             5.0           3.2            1.2           0.2\n129            7.2           3.0            5.8           1.6\n\n[112 rows x 4 columns]",
      "text/html": "<div>\n<style scoped>\n    .dataframe tbody tr th:only-of-type {\n        vertical-align: middle;\n    }\n\n    .dataframe tbody tr th {\n        vertical-align: top;\n    }\n\n    .dataframe thead th {\n        text-align: right;\n    }\n</style>\n<table border=\"1\" class=\"dataframe\">\n  <thead>\n    <tr style=\"text-align: right;\">\n      <th></th>\n      <th>SepalLengthCm</th>\n      <th>SepalWidthCm</th>\n      <th>PetalLengthCm</th>\n      <th>PetalWidthCm</th>\n    </tr>\n  </thead>\n  <tbody>\n    <tr>\n      <th>112</th>\n      <td>6.8</td>\n      <td>3.0</td>\n      <td>5.5</td>\n      <td>2.1</td>\n    </tr>\n    <tr>\n      <th>97</th>\n      <td>6.2</td>\n      <td>2.9</td>\n      <td>4.3</td>\n      <td>1.3</td>\n    </tr>\n    <tr>\n      <th>86</th>\n      <td>6.7</td>\n      <td>3.1</td>\n      <td>4.7</td>\n      <td>1.5</td>\n    </tr>\n    <tr>\n      <th>67</th>\n      <td>5.8</td>\n      <td>2.7</td>\n      <td>4.1</td>\n      <td>1.0</td>\n    </tr>\n    <tr>\n      <th>126</th>\n      <td>6.2</td>\n      <td>2.8</td>\n      <td>4.8</td>\n      <td>1.8</td>\n    </tr>\n    <tr>\n      <th>...</th>\n      <td>...</td>\n      <td>...</td>\n      <td>...</td>\n      <td>...</td>\n    </tr>\n    <tr>\n      <th>148</th>\n      <td>6.2</td>\n      <td>3.4</td>\n      <td>5.4</td>\n      <td>2.3</td>\n    </tr>\n    <tr>\n      <th>149</th>\n      <td>5.9</td>\n      <td>3.0</td>\n      <td>5.1</td>\n      <td>1.8</td>\n    </tr>\n    <tr>\n      <th>68</th>\n      <td>6.2</td>\n      <td>2.2</td>\n      <td>4.5</td>\n      <td>1.5</td>\n    </tr>\n    <tr>\n      <th>35</th>\n      <td>5.0</td>\n      <td>3.2</td>\n      <td>1.2</td>\n      <td>0.2</td>\n    </tr>\n    <tr>\n      <th>129</th>\n      <td>7.2</td>\n      <td>3.0</td>\n      <td>5.8</td>\n      <td>1.6</td>\n    </tr>\n  </tbody>\n</table>\n<p>112 rows × 4 columns</p>\n</div>"
     },
     "execution_count": 1,
     "metadata": {},
     "output_type": "execute_result"
    }
   ],
   "source": [
    "import pandas as pd\n",
    "from sklearn.model_selection import train_test_split\n",
    "\n",
    "# import the iris dataset\n",
    "iris = pd.read_csv('datasets/iris.csv')\n",
    "\n",
    "# select columns for training and testing\n",
    "X = iris[['SepalLengthCm', 'SepalWidthCm', 'PetalLengthCm', 'PetalWidthCm',]]\n",
    "y = iris['Species']\n",
    "\n",
    "# split data into train and test\n",
    "X_train, X_test, y_train, y_test = train_test_split(X, y, test_size=0.25, random_state=99)\n",
    "\n",
    "X_train"
   ],
   "metadata": {
    "collapsed": false,
    "pycharm": {
     "name": "#%%\n"
    }
   }
  },
  {
   "cell_type": "code",
   "execution_count": 2,
   "outputs": [
    {
     "name": "stdout",
     "output_type": "stream",
     "text": [
      "Train accuracy: 0.9821428571428571\n",
      "Test accuracy 0.9473684210526315\n"
     ]
    }
   ],
   "source": [
    "from sklearn.linear_model import LogisticRegression\n",
    "\n",
    "# classify the data using logistic regression\n",
    "logistic_regression = LogisticRegression(random_state=0).fit(X_train, y_train)\n",
    "print('Train accuracy:', logistic_regression.score(X_train, y_train))\n",
    "print('Test accuracy:', logistic_regression.score(X_test, y_test))"
   ],
   "metadata": {
    "collapsed": false,
    "pycharm": {
     "name": "#%%\n"
    }
   }
  },
  {
   "cell_type": "code",
   "execution_count": 3,
   "outputs": [
    {
     "data": {
      "text/plain": "array([[ 2.19622396,  0.23146295],\n       [ 0.67205534,  0.03098777],\n       [ 1.24772949,  0.42395007],\n       [ 0.2669811 , -0.31949498],\n       [ 1.2913774 , -0.16930847],\n       [ 2.64097743,  0.58639599],\n       [ 0.16785524, -0.30438491],\n       [-2.47906876,  0.63909537],\n       [-2.47672418, -0.14896524],\n       [-3.18852067, -0.52335592]])"
     },
     "execution_count": 3,
     "metadata": {},
     "output_type": "execute_result"
    }
   ],
   "source": [
    "from sklearn.decomposition import PCA\n",
    "\n",
    "# fit the data into a principal component analysis\n",
    "pca = PCA(n_components=2).fit(X_train)\n",
    "X_train_reduced = pca.transform(X_train)\n",
    "X_test_reduced = pca.transform(X_test)\n",
    "\n",
    "X_train_reduced[:10]"
   ],
   "metadata": {
    "collapsed": false,
    "pycharm": {
     "name": "#%%\n"
    }
   }
  },
  {
   "cell_type": "code",
   "execution_count": 4,
   "outputs": [
    {
     "name": "stdout",
     "output_type": "stream",
     "text": [
      "Train accuracy: 0.9732142857142857\n",
      "Test accuracy 0.9473684210526315\n"
     ]
    }
   ],
   "source": [
    "# train a new classifier\n",
    "logistic_regression = LogisticRegression(random_state=0).fit(X_train_reduced, y_train)\n",
    "print('Train accuracy:', logistic_regression.score(X_train_reduced, y_train))\n",
    "print('Test accuracy:', logistic_regression.score(X_test_reduced, y_test))"
   ],
   "metadata": {
    "collapsed": false,
    "pycharm": {
     "name": "#%%\n"
    }
   }
  },
  {
   "cell_type": "code",
   "execution_count": 5,
   "outputs": [
    {
     "data": {
      "text/plain": "array([92.53592093,  5.18796309])"
     },
     "execution_count": 5,
     "metadata": {},
     "output_type": "execute_result"
    }
   ],
   "source": [
    "# check the percentage of the variation explained by each component\n",
    "pca.explained_variance_ratio_ * 100"
   ],
   "metadata": {
    "collapsed": false,
    "pycharm": {
     "name": "#%%\n"
    }
   }
  }
 ],
 "metadata": {
  "kernelspec": {
   "display_name": "Python 3",
   "language": "python",
   "name": "python3"
  },
  "language_info": {
   "codemirror_mode": {
    "name": "ipython",
    "version": 2
   },
   "file_extension": ".py",
   "mimetype": "text/x-python",
   "name": "python",
   "nbconvert_exporter": "python",
   "pygments_lexer": "ipython2",
   "version": "2.7.6"
  }
 },
 "nbformat": 4,
 "nbformat_minor": 0
}