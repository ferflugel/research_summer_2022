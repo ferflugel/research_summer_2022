{
 "cells": [
  {
   "cell_type": "code",
   "execution_count": 1,
   "outputs": [
    {
     "data": {
      "text/plain": "     SepalLengthCm  SepalWidthCm  PetalLengthCm  PetalWidthCm\n112            6.8           3.0            5.5           2.1\n97             6.2           2.9            4.3           1.3\n86             6.7           3.1            4.7           1.5\n67             5.8           2.7            4.1           1.0\n126            6.2           2.8            4.8           1.8\n..             ...           ...            ...           ...\n148            6.2           3.4            5.4           2.3\n149            5.9           3.0            5.1           1.8\n68             6.2           2.2            4.5           1.5\n35             5.0           3.2            1.2           0.2\n129            7.2           3.0            5.8           1.6\n\n[112 rows x 4 columns]",
      "text/html": "<div>\n<style scoped>\n    .dataframe tbody tr th:only-of-type {\n        vertical-align: middle;\n    }\n\n    .dataframe tbody tr th {\n        vertical-align: top;\n    }\n\n    .dataframe thead th {\n        text-align: right;\n    }\n</style>\n<table border=\"1\" class=\"dataframe\">\n  <thead>\n    <tr style=\"text-align: right;\">\n      <th></th>\n      <th>SepalLengthCm</th>\n      <th>SepalWidthCm</th>\n      <th>PetalLengthCm</th>\n      <th>PetalWidthCm</th>\n    </tr>\n  </thead>\n  <tbody>\n    <tr>\n      <th>112</th>\n      <td>6.8</td>\n      <td>3.0</td>\n      <td>5.5</td>\n      <td>2.1</td>\n    </tr>\n    <tr>\n      <th>97</th>\n      <td>6.2</td>\n      <td>2.9</td>\n      <td>4.3</td>\n      <td>1.3</td>\n    </tr>\n    <tr>\n      <th>86</th>\n      <td>6.7</td>\n      <td>3.1</td>\n      <td>4.7</td>\n      <td>1.5</td>\n    </tr>\n    <tr>\n      <th>67</th>\n      <td>5.8</td>\n      <td>2.7</td>\n      <td>4.1</td>\n      <td>1.0</td>\n    </tr>\n    <tr>\n      <th>126</th>\n      <td>6.2</td>\n      <td>2.8</td>\n      <td>4.8</td>\n      <td>1.8</td>\n    </tr>\n    <tr>\n      <th>...</th>\n      <td>...</td>\n      <td>...</td>\n      <td>...</td>\n      <td>...</td>\n    </tr>\n    <tr>\n      <th>148</th>\n      <td>6.2</td>\n      <td>3.4</td>\n      <td>5.4</td>\n      <td>2.3</td>\n    </tr>\n    <tr>\n      <th>149</th>\n      <td>5.9</td>\n      <td>3.0</td>\n      <td>5.1</td>\n      <td>1.8</td>\n    </tr>\n    <tr>\n      <th>68</th>\n      <td>6.2</td>\n      <td>2.2</td>\n      <td>4.5</td>\n      <td>1.5</td>\n    </tr>\n    <tr>\n      <th>35</th>\n      <td>5.0</td>\n      <td>3.2</td>\n      <td>1.2</td>\n      <td>0.2</td>\n    </tr>\n    <tr>\n      <th>129</th>\n      <td>7.2</td>\n      <td>3.0</td>\n      <td>5.8</td>\n      <td>1.6</td>\n    </tr>\n  </tbody>\n</table>\n<p>112 rows × 4 columns</p>\n</div>"
     },
     "execution_count": 1,
     "metadata": {},
     "output_type": "execute_result"
    }
   ],
   "source": [
    "import pandas as pd\n",
    "from sklearn.model_selection import train_test_split\n",
    "\n",
    "# import the iris dataset\n",
    "iris = pd.read_csv('datasets/iris.csv')\n",
    "\n",
    "# select columns for training and testing\n",
    "X = iris[['SepalLengthCm', 'SepalWidthCm', 'PetalLengthCm', 'PetalWidthCm',]]\n",
    "y = iris['Species']\n",
    "\n",
    "# split data into train and test\n",
    "X_train, X_test, y_train, y_test = train_test_split(X, y, test_size=0.25, random_state=99)\n",
    "\n",
    "X_train"
   ],
   "metadata": {
    "collapsed": false,
    "pycharm": {
     "name": "#%%\n"
    }
   }
  },
  {
   "cell_type": "code",
   "execution_count": 2,
   "outputs": [
    {
     "name": "stdout",
     "output_type": "stream",
     "text": [
      "Train accuracy: 0.9821428571428571\n",
      "Test accuracy 0.9473684210526315\n"
     ]
    }
   ],
   "source": [
    "from sklearn.linear_model import LogisticRegression\n",
    "\n",
    "# classify the data using logistic regression\n",
    "logistic_regression = LogisticRegression(random_state=0).fit(X_train, y_train)\n",
    "print('Train accuracy:', logistic_regression.score(X_train, y_train))\n",
    "print('Test accuracy', logistic_regression.score(X_test, y_test))"
   ],
   "metadata": {
    "collapsed": false,
    "pycharm": {
     "name": "#%%\n"
    }
   }
  },
  {
   "cell_type": "code",
   "execution_count": 3,
   "outputs": [
    {
     "data": {
      "text/plain": "array([[ 2.19622396,  0.23146295],\n       [ 0.67205534,  0.03098777],\n       [ 1.24772949,  0.42395007],\n       [ 0.2669811 , -0.31949498],\n       [ 1.2913774 , -0.16930847],\n       [ 2.64097743,  0.58639599],\n       [ 0.16785524, -0.30438491],\n       [-2.47906876,  0.63909537],\n       [-2.47672418, -0.14896524],\n       [-3.18852067, -0.52335592],\n       [ 3.25435793,  1.40116004],\n       [ 0.95369461,  0.48276905],\n       [-2.59944578,  0.59463769],\n       [-0.71202576, -1.00280897],\n       [ 2.18287663,  0.14315914],\n       [ 3.42221818,  0.58195916],\n       [ 1.45300434, -0.56677622],\n       [ 3.82029583,  0.29218426],\n       [-2.73879691,  0.25245875],\n       [ 2.00556838, -0.16329202],\n       [ 1.48980346,  0.52401926],\n       [ 0.5000821 , -0.6593731 ],\n       [-2.64223986, -0.11782498],\n       [-2.62064354,  1.17179743],\n       [-2.51420629,  0.57246727],\n       [-0.14006601, -0.25262627],\n       [ 1.12723154,  0.29267201],\n       [ 2.4538049 ,  0.31190316],\n       [ 1.9385221 ,  0.06420236],\n       [ 0.07752801, -0.57287541],\n       [ 1.45300434, -0.56677622],\n       [ 0.84187787,  0.19811112],\n       [-2.61081674,  0.30602351],\n       [-2.59519234,  0.15617382],\n       [-2.71131593, -0.32674773],\n       [-2.61824904,  0.80342321],\n       [-2.64223986, -0.11782498],\n       [-2.96153207, -0.35468052],\n       [ 2.57095315, -0.00438973],\n       [ 1.83562842, -0.20019466],\n       [ 1.11598151,  0.09087822],\n       [ 1.69459268,  0.25126393],\n       [-0.87125472, -0.75667435],\n       [ 1.94026363,  0.12433343],\n       [-2.38196918,  0.40460927],\n       [ 2.19419417, -0.20495418],\n       [ 1.01685215, -0.11105281],\n       [-2.68246163, -0.25807289],\n       [ 2.94866383,  0.79507878],\n       [ 1.55907689, -0.36131502],\n       [-2.59842112, -0.20457675],\n       [ 1.33274474, -0.74145461],\n       [ 1.97606111,  0.19653844],\n       [ 1.81437377, -0.47680352],\n       [-0.47252061, -1.25791345],\n       [-2.17366292,  0.86889057],\n       [ 1.41426983, -0.40640463],\n       [ 1.42055656, -0.19141027],\n       [ 0.69755994, -0.34790835],\n       [-2.94524772, -0.4989533 ],\n       [ 2.64523436,  0.36497322],\n       [ 0.54527417, -0.09824355],\n       [-2.27110416,  0.09036312],\n       [-2.65409645,  0.31153181],\n       [ 1.38458824, -0.77012205],\n       [ 1.95229454,  0.41852452],\n       [ 0.28128908, -0.2634574 ],\n       [ 2.15785765, -0.19591571],\n       [ 1.35685648,  0.26661396],\n       [ 1.58624307,  0.28395624],\n       [ 1.23912472, -0.60374747],\n       [-2.57054157,  1.08299892],\n       [-2.81677843, -0.9463184 ],\n       [ 0.36598954, -0.20438434],\n       [-0.66874605, -1.00831727],\n       [-2.57956795,  0.00632413],\n       [ 1.62654478, -0.53983215],\n       [ 0.92669925,  0.34400457],\n       [-2.17635266,  0.42689653],\n       [-2.68366062, -0.18240633],\n       [ 0.92281052, -0.02232291],\n       [ 0.21724734, -0.81844672],\n       [ 0.41046824, -0.2855592 ],\n       [-2.75513467, -0.23999596],\n       [-2.25088116,  0.73210421],\n       [ 1.20481799, -0.15829188],\n       [ 1.30866338,  0.70500921],\n       [-2.43661984,  0.12150339],\n       [-3.18152408,  0.11690174],\n       [-2.556287  ,  0.50230901],\n       [ 0.33271097, -0.34110209],\n       [-2.5118083 ,  0.42113415],\n       [ 0.95232128, -0.16511227],\n       [-2.61775992,  0.30249334],\n       [ 1.47520372, -0.12534549],\n       [ 0.29206759, -0.53032724],\n       [-2.53305946,  0.3615664 ],\n       [-2.80535756, -0.23801783],\n       [-0.27541097, -0.35869844],\n       [-2.56005481,  0.22280192],\n       [ 2.59621047,  0.29128479],\n       [-2.28284332,  0.38949919],\n       [ 2.34785327,  0.19326235],\n       [ 2.86605717,  0.40547465],\n       [ 2.95823985,  0.3868344 ],\n       [ 0.02970311, -0.72223041],\n       [ 0.67630878, -0.4074761 ],\n       [ 1.93960367,  0.11875652],\n       [ 1.42737882, -0.27470049],\n       [ 0.97352253, -0.5252309 ],\n       [-2.83660635,  0.06168155],\n       [ 2.41278983,  0.49338715]])"
     },
     "execution_count": 3,
     "metadata": {},
     "output_type": "execute_result"
    }
   ],
   "source": [
    "from sklearn.decomposition import PCA\n",
    "\n",
    "# fit the data into a principal component analysis\n",
    "pca = PCA(n_components=2).fit(X_train)\n",
    "X_train_reduced = pca.transform(X_train)\n",
    "X_test_reduced = pca.transform(X_test)\n",
    "\n",
    "X_train_reduced"
   ],
   "metadata": {
    "collapsed": false,
    "pycharm": {
     "name": "#%%\n"
    }
   }
  },
  {
   "cell_type": "code",
   "execution_count": 4,
   "outputs": [
    {
     "name": "stdout",
     "output_type": "stream",
     "text": [
      "Train accuracy: 0.9732142857142857\n",
      "Test accuracy 0.9473684210526315\n"
     ]
    }
   ],
   "source": [
    "# train a new classifier\n",
    "logistic_regression = LogisticRegression(random_state=0).fit(X_train_reduced, y_train)\n",
    "print('Train accuracy:', logistic_regression.score(X_train_reduced, y_train))\n",
    "print('Test accuracy', logistic_regression.score(X_test_reduced, y_test))"
   ],
   "metadata": {
    "collapsed": false,
    "pycharm": {
     "name": "#%%\n"
    }
   }
  },
  {
   "cell_type": "code",
   "execution_count": 5,
   "outputs": [
    {
     "data": {
      "text/plain": "array([92.53592093,  5.18796309])"
     },
     "execution_count": 5,
     "metadata": {},
     "output_type": "execute_result"
    }
   ],
   "source": [
    "# check the percentage of the variation explained by each component\n",
    "pca.explained_variance_ratio_ * 100"
   ],
   "metadata": {
    "collapsed": false,
    "pycharm": {
     "name": "#%%\n"
    }
   }
  }
 ],
 "metadata": {
  "kernelspec": {
   "display_name": "Python 3",
   "language": "python",
   "name": "python3"
  },
  "language_info": {
   "codemirror_mode": {
    "name": "ipython",
    "version": 2
   },
   "file_extension": ".py",
   "mimetype": "text/x-python",
   "name": "python",
   "nbconvert_exporter": "python",
   "pygments_lexer": "ipython2",
   "version": "2.7.6"
  }
 },
 "nbformat": 4,
 "nbformat_minor": 0
}