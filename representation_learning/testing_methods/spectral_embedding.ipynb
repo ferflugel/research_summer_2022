{
 "cells": [
  {
   "cell_type": "code",
   "execution_count": 21,
   "outputs": [
    {
     "data": {
      "text/plain": "     fixed acidity  volatile acidity  citric acid  residual sugar  chlorides  \\\n29            15.6             0.685         0.76             3.7      0.100   \n20             7.4             0.530         0.12             1.9      0.165   \n109            8.7             0.480         0.30             2.8      0.066   \n137           10.9             0.320         0.52             1.8      0.132   \n14             7.5             0.410         0.15             3.7      0.104   \n..             ...               ...          ...             ...        ...   \n23             7.4             0.360         0.34             1.8      0.075   \n42             8.2             0.640         0.27             2.0      0.095   \n117            9.0             0.580         0.25             2.8      0.075   \n47             7.9             0.660         0.00             1.4      0.096   \n22             5.0             0.380         0.01             1.6      0.048   \n\n     free sulfur dioxide  total sulfur dioxide  density    pH  sulphates  \\\n29                   6.0                  43.0  1.00320  2.95       0.68   \n20                   4.0                  12.0  0.99702  3.26       0.86   \n109                 10.0                  28.0  0.99640  3.33       0.67   \n137                 17.0                  44.0  0.99734  3.28       0.77   \n14                  29.0                  94.0  0.99786  3.14       0.58   \n..                   ...                   ...      ...   ...        ...   \n23                  18.0                  38.0  0.99330  3.38       0.88   \n42                   5.0                  77.0  0.99747  3.13       0.62   \n117                  9.0                 104.0  0.99779  3.23       0.57   \n47                   6.0                  13.0  0.99569  3.43       0.58   \n22                  26.0                  60.0  0.99084  3.70       0.75   \n\n     alcohol  \n29      11.2  \n20       9.2  \n109     11.2  \n137     11.5  \n14       9.1  \n..       ...  \n23      13.6  \n42       9.1  \n117      9.7  \n47       9.5  \n22      14.0  \n\n[337 rows x 11 columns]",
      "text/html": "<div>\n<style scoped>\n    .dataframe tbody tr th:only-of-type {\n        vertical-align: middle;\n    }\n\n    .dataframe tbody tr th {\n        vertical-align: top;\n    }\n\n    .dataframe thead th {\n        text-align: right;\n    }\n</style>\n<table border=\"1\" class=\"dataframe\">\n  <thead>\n    <tr style=\"text-align: right;\">\n      <th></th>\n      <th>fixed acidity</th>\n      <th>volatile acidity</th>\n      <th>citric acid</th>\n      <th>residual sugar</th>\n      <th>chlorides</th>\n      <th>free sulfur dioxide</th>\n      <th>total sulfur dioxide</th>\n      <th>density</th>\n      <th>pH</th>\n      <th>sulphates</th>\n      <th>alcohol</th>\n    </tr>\n  </thead>\n  <tbody>\n    <tr>\n      <th>29</th>\n      <td>15.6</td>\n      <td>0.685</td>\n      <td>0.76</td>\n      <td>3.7</td>\n      <td>0.100</td>\n      <td>6.0</td>\n      <td>43.0</td>\n      <td>1.00320</td>\n      <td>2.95</td>\n      <td>0.68</td>\n      <td>11.2</td>\n    </tr>\n    <tr>\n      <th>20</th>\n      <td>7.4</td>\n      <td>0.530</td>\n      <td>0.12</td>\n      <td>1.9</td>\n      <td>0.165</td>\n      <td>4.0</td>\n      <td>12.0</td>\n      <td>0.99702</td>\n      <td>3.26</td>\n      <td>0.86</td>\n      <td>9.2</td>\n    </tr>\n    <tr>\n      <th>109</th>\n      <td>8.7</td>\n      <td>0.480</td>\n      <td>0.30</td>\n      <td>2.8</td>\n      <td>0.066</td>\n      <td>10.0</td>\n      <td>28.0</td>\n      <td>0.99640</td>\n      <td>3.33</td>\n      <td>0.67</td>\n      <td>11.2</td>\n    </tr>\n    <tr>\n      <th>137</th>\n      <td>10.9</td>\n      <td>0.320</td>\n      <td>0.52</td>\n      <td>1.8</td>\n      <td>0.132</td>\n      <td>17.0</td>\n      <td>44.0</td>\n      <td>0.99734</td>\n      <td>3.28</td>\n      <td>0.77</td>\n      <td>11.5</td>\n    </tr>\n    <tr>\n      <th>14</th>\n      <td>7.5</td>\n      <td>0.410</td>\n      <td>0.15</td>\n      <td>3.7</td>\n      <td>0.104</td>\n      <td>29.0</td>\n      <td>94.0</td>\n      <td>0.99786</td>\n      <td>3.14</td>\n      <td>0.58</td>\n      <td>9.1</td>\n    </tr>\n    <tr>\n      <th>...</th>\n      <td>...</td>\n      <td>...</td>\n      <td>...</td>\n      <td>...</td>\n      <td>...</td>\n      <td>...</td>\n      <td>...</td>\n      <td>...</td>\n      <td>...</td>\n      <td>...</td>\n      <td>...</td>\n    </tr>\n    <tr>\n      <th>23</th>\n      <td>7.4</td>\n      <td>0.360</td>\n      <td>0.34</td>\n      <td>1.8</td>\n      <td>0.075</td>\n      <td>18.0</td>\n      <td>38.0</td>\n      <td>0.99330</td>\n      <td>3.38</td>\n      <td>0.88</td>\n      <td>13.6</td>\n    </tr>\n    <tr>\n      <th>42</th>\n      <td>8.2</td>\n      <td>0.640</td>\n      <td>0.27</td>\n      <td>2.0</td>\n      <td>0.095</td>\n      <td>5.0</td>\n      <td>77.0</td>\n      <td>0.99747</td>\n      <td>3.13</td>\n      <td>0.62</td>\n      <td>9.1</td>\n    </tr>\n    <tr>\n      <th>117</th>\n      <td>9.0</td>\n      <td>0.580</td>\n      <td>0.25</td>\n      <td>2.8</td>\n      <td>0.075</td>\n      <td>9.0</td>\n      <td>104.0</td>\n      <td>0.99779</td>\n      <td>3.23</td>\n      <td>0.57</td>\n      <td>9.7</td>\n    </tr>\n    <tr>\n      <th>47</th>\n      <td>7.9</td>\n      <td>0.660</td>\n      <td>0.00</td>\n      <td>1.4</td>\n      <td>0.096</td>\n      <td>6.0</td>\n      <td>13.0</td>\n      <td>0.99569</td>\n      <td>3.43</td>\n      <td>0.58</td>\n      <td>9.5</td>\n    </tr>\n    <tr>\n      <th>22</th>\n      <td>5.0</td>\n      <td>0.380</td>\n      <td>0.01</td>\n      <td>1.6</td>\n      <td>0.048</td>\n      <td>26.0</td>\n      <td>60.0</td>\n      <td>0.99084</td>\n      <td>3.70</td>\n      <td>0.75</td>\n      <td>14.0</td>\n    </tr>\n  </tbody>\n</table>\n<p>337 rows × 11 columns</p>\n</div>"
     },
     "execution_count": 21,
     "metadata": {},
     "output_type": "execute_result"
    }
   ],
   "source": [
    "import pandas as pd\n",
    "from sklearn.model_selection import train_test_split\n",
    "\n",
    "# import the wine quality dataset (https://www.kaggle.com/datasets/uciml/red-wine-quality-cortez-et-al-2009)\n",
    "wine = pd.read_csv('datasets/wine_quality.csv')\n",
    "wine = wine[wine['quality'].isin([5, 6, 7])]\n",
    "\n",
    "# sample 150 wines of each of the selected classes\n",
    "wine = wine.groupby('quality').apply(lambda x: x.sample(150, random_state=0).reset_index(drop=True))\n",
    "wine = wine.droplevel(level=0)\n",
    "\n",
    "# select columns for training and testing\n",
    "X = wine[wine.columns[:11]]\n",
    "y = wine['quality']\n",
    "\n",
    "# split data into train and test\n",
    "X_train, X_test, y_train, y_test = train_test_split(X, y, test_size=0.25, random_state=0)\n",
    "\n",
    "X_train"
   ],
   "metadata": {
    "collapsed": false,
    "pycharm": {
     "name": "#%%\n"
    }
   }
  },
  {
   "cell_type": "code",
   "execution_count": 35,
   "outputs": [
    {
     "name": "stdout",
     "output_type": "stream",
     "text": [
      "Train accuracy: 0.63\n",
      "Test accuracy: 0.62\n",
      "\n",
      "Support Vector Machine\n",
      "Train accuracy: 0.48\n",
      "Test accuracy: 0.46\n"
     ]
    }
   ],
   "source": [
    "from sklearn.linear_model import LogisticRegression\n",
    "from sklearn.svm import SVC\n",
    "\n",
    "# classify the data using logistic regression\n",
    "logistic_regression = LogisticRegression(max_iter=10000, random_state=0).fit(X_train, y_train)\n",
    "print('Train accuracy:', '{:.2f}'.format(logistic_regression.score(X_train, y_train)))\n",
    "print('Test accuracy:', '{:.2f}'.format(logistic_regression.score(X_test, y_test)))\n",
    "\n",
    "# classify the data with svm\n",
    "svm_classifier = SVC().fit(X_train, y_train)\n",
    "print('\\nSupport Vector Machine')\n",
    "print('Train accuracy:', '{:.2f}'.format(svm_classifier.score(X_train, y_train)))\n",
    "print('Test accuracy:', '{:.2f}'.format(svm_classifier.score(X_test, y_test)))"
   ],
   "metadata": {
    "collapsed": false,
    "pycharm": {
     "name": "#%%\n"
    }
   }
  },
  {
   "cell_type": "code",
   "execution_count": 36,
   "outputs": [
    {
     "name": "stdout",
     "output_type": "stream",
     "text": [
      "Logistic Regression\n",
      "Train accuracy: 0.46\n",
      "Test accuracy: 0.46\n",
      "\n",
      "Support Vector Machine\n",
      "Train accuracy: 0.48\n",
      "Test accuracy: 0.48\n"
     ]
    }
   ],
   "source": [
    "from sklearn.decomposition import PCA\n",
    "\n",
    "# reduce dimensions with PCA\n",
    "pca = PCA(n_components=2).fit(X_train)\n",
    "X_train_pca = pca.transform(X_train)\n",
    "X_test_pca = pca.transform(X_test)\n",
    "\n",
    "# train a new classifier for the PCA-reduced data\n",
    "logistic_regression = LogisticRegression(random_state=0).fit(X_train_pca, y_train)\n",
    "print('Logistic Regression')\n",
    "print('Train accuracy:', '{:.2f}'.format(logistic_regression.score(X_train_pca, y_train)))\n",
    "print('Test accuracy:', '{:.2f}'.format(logistic_regression.score(X_test_pca, y_test)))\n",
    "\n",
    "# train a new classifier for the PCA-reduced data\n",
    "svm_classifier = SVC().fit(X_train_pca, y_train)\n",
    "print('\\nSupport Vector Machine')\n",
    "print('Train accuracy:', '{:.2f}'.format(svm_classifier.score(X_train_pca, y_train)))\n",
    "print('Test accuracy:', '{:.2f}'.format(svm_classifier.score(X_test_pca, y_test)))"
   ],
   "metadata": {
    "collapsed": false,
    "pycharm": {
     "name": "#%%\n"
    }
   }
  },
  {
   "cell_type": "code",
   "execution_count": 37,
   "outputs": [
    {
     "name": "stdout",
     "output_type": "stream",
     "text": [
      "Logistic Regression\n",
      "Train accuracy: 0.34\n",
      "\n",
      "Support Vector Machine\n",
      "Train accuracy: 0.48\n"
     ]
    }
   ],
   "source": [
    "from sklearn.manifold import SpectralEmbedding\n",
    "\n",
    "# reduce dimensions with SE\n",
    "X_train_se = SpectralEmbedding(n_components=2).fit_transform(X_train)\n",
    "\n",
    "# train a new classifier for the SE-reduced data\n",
    "logistic_regression = LogisticRegression(random_state=0).fit(X_train_se, y_train)\n",
    "print('Logistic Regression')\n",
    "print('Train accuracy:', '{:.2f}'.format(logistic_regression.score(X_train_se, y_train)))\n",
    "\n",
    "# train a new classifier for the SE-reduced data\n",
    "svm_classifier = SVC().fit(X_train_se, y_train)\n",
    "print('\\nSupport Vector Machine')\n",
    "print('Train accuracy:', '{:.2f}'.format(svm_classifier.score(X_train_se, y_train)))"
   ],
   "metadata": {
    "collapsed": false,
    "pycharm": {
     "name": "#%%\n"
    }
   }
  },
  {
   "cell_type": "code",
   "execution_count": null,
   "outputs": [],
   "source": [],
   "metadata": {
    "collapsed": false,
    "pycharm": {
     "name": "#%%\n"
    }
   }
  }
 ],
 "metadata": {
  "kernelspec": {
   "display_name": "Python 3",
   "language": "python",
   "name": "python3"
  },
  "language_info": {
   "codemirror_mode": {
    "name": "ipython",
    "version": 2
   },
   "file_extension": ".py",
   "mimetype": "text/x-python",
   "name": "python",
   "nbconvert_exporter": "python",
   "pygments_lexer": "ipython2",
   "version": "2.7.6"
  }
 },
 "nbformat": 4,
 "nbformat_minor": 0
}