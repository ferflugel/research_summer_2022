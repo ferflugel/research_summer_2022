{
 "cells": [
  {
   "cell_type": "code",
   "execution_count": 3,
   "outputs": [
    {
     "data": {
      "text/plain": "(0.2578530815801866, 0.596332514280776)"
     },
     "execution_count": 3,
     "metadata": {},
     "output_type": "execute_result"
    }
   ],
   "source": [
    "import pandas as pd\n",
    "from representation_learning.metrics import separated_attribute_predictability, mutual_information_gap\n",
    "\n",
    "# Import the iris dataset\n",
    "iris = pd.read_csv('datasets/iris.csv')\n",
    "\n",
    "# Select columns for training and testing\n",
    "h_list = ['PetalWidthCm']\n",
    "z_list = ['SepalLengthCm', 'SepalWidthCm', 'PetalLengthCm']\n",
    "\n",
    "# Get values for disentanglement\n",
    "separated_attribute_predictability(iris, h_list, z_list), \\\n",
    "mutual_information_gap(iris, h_list, z_list)"
   ],
   "metadata": {
    "collapsed": false,
    "pycharm": {
     "name": "#%%\n"
    }
   }
  },
  {
   "cell_type": "code",
   "execution_count": 2,
   "outputs": [],
   "source": [],
   "metadata": {
    "collapsed": false,
    "pycharm": {
     "name": "#%%\n"
    }
   }
  }
 ],
 "metadata": {
  "kernelspec": {
   "display_name": "Python 3",
   "language": "python",
   "name": "python3"
  },
  "language_info": {
   "codemirror_mode": {
    "name": "ipython",
    "version": 2
   },
   "file_extension": ".py",
   "mimetype": "text/x-python",
   "name": "python",
   "nbconvert_exporter": "python",
   "pygments_lexer": "ipython2",
   "version": "2.7.6"
  }
 },
 "nbformat": 4,
 "nbformat_minor": 0
}