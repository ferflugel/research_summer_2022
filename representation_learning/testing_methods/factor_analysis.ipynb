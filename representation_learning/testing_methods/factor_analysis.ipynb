{
 "cells": [
  {
   "cell_type": "code",
   "execution_count": 1,
   "outputs": [
    {
     "data": {
      "text/plain": "    factor_1  factor_2\n0        0.0       7.0\n1        1.0       4.0\n2        0.0       2.0\n3        1.0       2.0\n4        1.0       7.0\n..       ...       ...\n95       1.0       7.0\n96       0.0       2.0\n97       1.0       2.0\n98       1.0       4.0\n99       0.0       2.0\n\n[100 rows x 2 columns]",
      "text/html": "<div>\n<style scoped>\n    .dataframe tbody tr th:only-of-type {\n        vertical-align: middle;\n    }\n\n    .dataframe tbody tr th {\n        vertical-align: top;\n    }\n\n    .dataframe thead th {\n        text-align: right;\n    }\n</style>\n<table border=\"1\" class=\"dataframe\">\n  <thead>\n    <tr style=\"text-align: right;\">\n      <th></th>\n      <th>factor_1</th>\n      <th>factor_2</th>\n    </tr>\n  </thead>\n  <tbody>\n    <tr>\n      <th>0</th>\n      <td>0.0</td>\n      <td>7.0</td>\n    </tr>\n    <tr>\n      <th>1</th>\n      <td>1.0</td>\n      <td>4.0</td>\n    </tr>\n    <tr>\n      <th>2</th>\n      <td>0.0</td>\n      <td>2.0</td>\n    </tr>\n    <tr>\n      <th>3</th>\n      <td>1.0</td>\n      <td>2.0</td>\n    </tr>\n    <tr>\n      <th>4</th>\n      <td>1.0</td>\n      <td>7.0</td>\n    </tr>\n    <tr>\n      <th>...</th>\n      <td>...</td>\n      <td>...</td>\n    </tr>\n    <tr>\n      <th>95</th>\n      <td>1.0</td>\n      <td>7.0</td>\n    </tr>\n    <tr>\n      <th>96</th>\n      <td>0.0</td>\n      <td>2.0</td>\n    </tr>\n    <tr>\n      <th>97</th>\n      <td>1.0</td>\n      <td>2.0</td>\n    </tr>\n    <tr>\n      <th>98</th>\n      <td>1.0</td>\n      <td>4.0</td>\n    </tr>\n    <tr>\n      <th>99</th>\n      <td>0.0</td>\n      <td>2.0</td>\n    </tr>\n  </tbody>\n</table>\n<p>100 rows × 2 columns</p>\n</div>"
     },
     "execution_count": 1,
     "metadata": {},
     "output_type": "execute_result"
    }
   ],
   "source": [
    "import random\n",
    "import pandas as pd\n",
    "import numpy as np\n",
    "\n",
    "random.seed(99)\n",
    "\n",
    "# we first craft a set of synthetic factors\n",
    "factor_1 = np.concatenate((np.ones(50), 0 * np.ones(50)), axis=None)\n",
    "factor_2 = np.concatenate((2 * np.ones(30), 4 * np.ones(30), 7 * np.ones(40)), axis=None)\n",
    "\n",
    "# randomly shuffle them\n",
    "random.shuffle(factor_1)\n",
    "random.shuffle(factor_2)\n",
    "\n",
    "# add factors into a dataframe\n",
    "factors = pd.DataFrame({'factor_1': factor_1, 'factor_2': factor_2})\n",
    "\n",
    "factors"
   ],
   "metadata": {
    "collapsed": false,
    "pycharm": {
     "name": "#%%\n"
    }
   }
  },
  {
   "cell_type": "code",
   "execution_count": 2,
   "outputs": [
    {
     "data": {
      "text/plain": "    variable_1  variable_2  variable_3  variable_4  variable_5\n0     1.857641    5.913115    6.265634    7.577789    8.798739\n1     5.057222    8.821163    0.619181    1.685170    0.780196\n2     2.283262    1.212051   -0.176520   -1.223520    0.948517\n3     4.329812    7.593812    0.585510    2.301480   -1.205349\n4     2.845378   12.405904    4.504327    9.571892    7.343937\n..         ...         ...         ...         ...         ...\n95    3.933959   10.050342    6.088059    9.612718    8.159540\n96    3.552634    2.517564   -0.606062   -0.167863    0.399166\n97    3.093623    7.293981   -0.877345    2.696739    1.670456\n98    3.294826    8.760001    2.620386    2.702047    2.736106\n99    3.485431    2.436447   -1.501419    0.158451    2.851996\n\n[100 rows x 5 columns]",
      "text/html": "<div>\n<style scoped>\n    .dataframe tbody tr th:only-of-type {\n        vertical-align: middle;\n    }\n\n    .dataframe tbody tr th {\n        vertical-align: top;\n    }\n\n    .dataframe thead th {\n        text-align: right;\n    }\n</style>\n<table border=\"1\" class=\"dataframe\">\n  <thead>\n    <tr style=\"text-align: right;\">\n      <th></th>\n      <th>variable_1</th>\n      <th>variable_2</th>\n      <th>variable_3</th>\n      <th>variable_4</th>\n      <th>variable_5</th>\n    </tr>\n  </thead>\n  <tbody>\n    <tr>\n      <th>0</th>\n      <td>1.857641</td>\n      <td>5.913115</td>\n      <td>6.265634</td>\n      <td>7.577789</td>\n      <td>8.798739</td>\n    </tr>\n    <tr>\n      <th>1</th>\n      <td>5.057222</td>\n      <td>8.821163</td>\n      <td>0.619181</td>\n      <td>1.685170</td>\n      <td>0.780196</td>\n    </tr>\n    <tr>\n      <th>2</th>\n      <td>2.283262</td>\n      <td>1.212051</td>\n      <td>-0.176520</td>\n      <td>-1.223520</td>\n      <td>0.948517</td>\n    </tr>\n    <tr>\n      <th>3</th>\n      <td>4.329812</td>\n      <td>7.593812</td>\n      <td>0.585510</td>\n      <td>2.301480</td>\n      <td>-1.205349</td>\n    </tr>\n    <tr>\n      <th>4</th>\n      <td>2.845378</td>\n      <td>12.405904</td>\n      <td>4.504327</td>\n      <td>9.571892</td>\n      <td>7.343937</td>\n    </tr>\n    <tr>\n      <th>...</th>\n      <td>...</td>\n      <td>...</td>\n      <td>...</td>\n      <td>...</td>\n      <td>...</td>\n    </tr>\n    <tr>\n      <th>95</th>\n      <td>3.933959</td>\n      <td>10.050342</td>\n      <td>6.088059</td>\n      <td>9.612718</td>\n      <td>8.159540</td>\n    </tr>\n    <tr>\n      <th>96</th>\n      <td>3.552634</td>\n      <td>2.517564</td>\n      <td>-0.606062</td>\n      <td>-0.167863</td>\n      <td>0.399166</td>\n    </tr>\n    <tr>\n      <th>97</th>\n      <td>3.093623</td>\n      <td>7.293981</td>\n      <td>-0.877345</td>\n      <td>2.696739</td>\n      <td>1.670456</td>\n    </tr>\n    <tr>\n      <th>98</th>\n      <td>3.294826</td>\n      <td>8.760001</td>\n      <td>2.620386</td>\n      <td>2.702047</td>\n      <td>2.736106</td>\n    </tr>\n    <tr>\n      <th>99</th>\n      <td>3.485431</td>\n      <td>2.436447</td>\n      <td>-1.501419</td>\n      <td>0.158451</td>\n      <td>2.851996</td>\n    </tr>\n  </tbody>\n</table>\n<p>100 rows × 5 columns</p>\n</div>"
     },
     "execution_count": 2,
     "metadata": {},
     "output_type": "execute_result"
    }
   ],
   "source": [
    "np.random.seed(99)\n",
    "\n",
    "# now we craft the variables\n",
    "variable_1 = factor_1 + 2\n",
    "variable_2 = 4 * factor_1 + factor_2\n",
    "variable_3 = factor_2 ** 2 / 10\n",
    "variable_4 = factor_1 * 2 + factor_2 ** 3 / 50\n",
    "variable_5 = (factor_2 - factor_1) ** 2 / 5\n",
    "\n",
    "# matrix with all variables\n",
    "variables = np.array([variable_1, variable_2, variable_3, variable_4, variable_5])\n",
    "\n",
    "# generate some noise\n",
    "mu, sigma = 0, 1\n",
    "noise = np.array([np.random.normal(mu, sigma, 100) for i in range(5)])\n",
    "variables += noise\n",
    "\n",
    "# create dataframe with the generated data\n",
    "variables = pd.DataFrame(variables.T, columns=['variable_1', 'variable_2', 'variable_3', 'variable_4', 'variable_5'])\n",
    "\n",
    "variables"
   ],
   "metadata": {
    "collapsed": false,
    "pycharm": {
     "name": "#%%\n"
    }
   }
  },
  {
   "cell_type": "code",
   "execution_count": 3,
   "outputs": [
    {
     "data": {
      "text/plain": "    extracted_1  extracted_2\n0      0.811316    -1.399923\n1     -0.384761     1.674665\n2     -1.508278    -0.751931\n3     -0.682483     1.761205\n4      1.474493     0.982128\n..          ...          ...\n95     1.374104     0.116531\n96    -1.349820    -0.130894\n97    -0.472519     0.971207\n98    -0.024983     1.019687\n99    -1.130296    -0.705953\n\n[100 rows x 2 columns]",
      "text/html": "<div>\n<style scoped>\n    .dataframe tbody tr th:only-of-type {\n        vertical-align: middle;\n    }\n\n    .dataframe tbody tr th {\n        vertical-align: top;\n    }\n\n    .dataframe thead th {\n        text-align: right;\n    }\n</style>\n<table border=\"1\" class=\"dataframe\">\n  <thead>\n    <tr style=\"text-align: right;\">\n      <th></th>\n      <th>extracted_1</th>\n      <th>extracted_2</th>\n    </tr>\n  </thead>\n  <tbody>\n    <tr>\n      <th>0</th>\n      <td>0.811316</td>\n      <td>-1.399923</td>\n    </tr>\n    <tr>\n      <th>1</th>\n      <td>-0.384761</td>\n      <td>1.674665</td>\n    </tr>\n    <tr>\n      <th>2</th>\n      <td>-1.508278</td>\n      <td>-0.751931</td>\n    </tr>\n    <tr>\n      <th>3</th>\n      <td>-0.682483</td>\n      <td>1.761205</td>\n    </tr>\n    <tr>\n      <th>4</th>\n      <td>1.474493</td>\n      <td>0.982128</td>\n    </tr>\n    <tr>\n      <th>...</th>\n      <td>...</td>\n      <td>...</td>\n    </tr>\n    <tr>\n      <th>95</th>\n      <td>1.374104</td>\n      <td>0.116531</td>\n    </tr>\n    <tr>\n      <th>96</th>\n      <td>-1.349820</td>\n      <td>-0.130894</td>\n    </tr>\n    <tr>\n      <th>97</th>\n      <td>-0.472519</td>\n      <td>0.971207</td>\n    </tr>\n    <tr>\n      <th>98</th>\n      <td>-0.024983</td>\n      <td>1.019687</td>\n    </tr>\n    <tr>\n      <th>99</th>\n      <td>-1.130296</td>\n      <td>-0.705953</td>\n    </tr>\n  </tbody>\n</table>\n<p>100 rows × 2 columns</p>\n</div>"
     },
     "execution_count": 3,
     "metadata": {},
     "output_type": "execute_result"
    }
   ],
   "source": [
    "from sklearn.decomposition import FactorAnalysis\n",
    "\n",
    "# use FA to extract features from the variables\n",
    "extracted_factors = FactorAnalysis(n_components=2, random_state=0).fit_transform(variables)\n",
    "\n",
    "# convert np array into a dataframe\n",
    "extracted_factors = pd.DataFrame(extracted_factors, columns=['extracted_1', 'extracted_2'])\n",
    "\n",
    "extracted_factors"
   ],
   "metadata": {
    "collapsed": false,
    "pycharm": {
     "name": "#%%\n"
    }
   }
  },
  {
   "cell_type": "code",
   "execution_count": 4,
   "outputs": [
    {
     "data": {
      "text/plain": "    factor_1  factor_2  extracted_1  extracted_2\n0        0.0       7.0     0.811316    -1.399923\n1        1.0       4.0    -0.384761     1.674665\n2        0.0       2.0    -1.508278    -0.751931\n3        1.0       2.0    -0.682483     1.761205\n4        1.0       7.0     1.474493     0.982128\n..       ...       ...          ...          ...\n95       1.0       7.0     1.374104     0.116531\n96       0.0       2.0    -1.349820    -0.130894\n97       1.0       2.0    -0.472519     0.971207\n98       1.0       4.0    -0.024983     1.019687\n99       0.0       2.0    -1.130296    -0.705953\n\n[100 rows x 4 columns]",
      "text/html": "<div>\n<style scoped>\n    .dataframe tbody tr th:only-of-type {\n        vertical-align: middle;\n    }\n\n    .dataframe tbody tr th {\n        vertical-align: top;\n    }\n\n    .dataframe thead th {\n        text-align: right;\n    }\n</style>\n<table border=\"1\" class=\"dataframe\">\n  <thead>\n    <tr style=\"text-align: right;\">\n      <th></th>\n      <th>factor_1</th>\n      <th>factor_2</th>\n      <th>extracted_1</th>\n      <th>extracted_2</th>\n    </tr>\n  </thead>\n  <tbody>\n    <tr>\n      <th>0</th>\n      <td>0.0</td>\n      <td>7.0</td>\n      <td>0.811316</td>\n      <td>-1.399923</td>\n    </tr>\n    <tr>\n      <th>1</th>\n      <td>1.0</td>\n      <td>4.0</td>\n      <td>-0.384761</td>\n      <td>1.674665</td>\n    </tr>\n    <tr>\n      <th>2</th>\n      <td>0.0</td>\n      <td>2.0</td>\n      <td>-1.508278</td>\n      <td>-0.751931</td>\n    </tr>\n    <tr>\n      <th>3</th>\n      <td>1.0</td>\n      <td>2.0</td>\n      <td>-0.682483</td>\n      <td>1.761205</td>\n    </tr>\n    <tr>\n      <th>4</th>\n      <td>1.0</td>\n      <td>7.0</td>\n      <td>1.474493</td>\n      <td>0.982128</td>\n    </tr>\n    <tr>\n      <th>...</th>\n      <td>...</td>\n      <td>...</td>\n      <td>...</td>\n      <td>...</td>\n    </tr>\n    <tr>\n      <th>95</th>\n      <td>1.0</td>\n      <td>7.0</td>\n      <td>1.374104</td>\n      <td>0.116531</td>\n    </tr>\n    <tr>\n      <th>96</th>\n      <td>0.0</td>\n      <td>2.0</td>\n      <td>-1.349820</td>\n      <td>-0.130894</td>\n    </tr>\n    <tr>\n      <th>97</th>\n      <td>1.0</td>\n      <td>2.0</td>\n      <td>-0.472519</td>\n      <td>0.971207</td>\n    </tr>\n    <tr>\n      <th>98</th>\n      <td>1.0</td>\n      <td>4.0</td>\n      <td>-0.024983</td>\n      <td>1.019687</td>\n    </tr>\n    <tr>\n      <th>99</th>\n      <td>0.0</td>\n      <td>2.0</td>\n      <td>-1.130296</td>\n      <td>-0.705953</td>\n    </tr>\n  </tbody>\n</table>\n<p>100 rows × 4 columns</p>\n</div>"
     },
     "execution_count": 4,
     "metadata": {},
     "output_type": "execute_result"
    }
   ],
   "source": [
    "# concatenate the extracted factors with the original factors\n",
    "factors = pd.concat([factors, extracted_factors], axis=1)\n",
    "\n",
    "factors"
   ],
   "metadata": {
    "collapsed": false,
    "pycharm": {
     "name": "#%%\n"
    }
   }
  },
  {
   "cell_type": "code",
   "execution_count": 5,
   "outputs": [
    {
     "data": {
      "text/plain": "             factor_1  factor_2   extracted_1   extracted_2\nfactor_1     1.000000  0.123391  3.024857e-01  8.514946e-01\nfactor_2     0.123391  1.000000  9.593489e-01 -1.728431e-01\nextracted_1  0.302486  0.959349  1.000000e+00  1.439787e-14\nextracted_2  0.851495 -0.172843  1.439787e-14  1.000000e+00",
      "text/html": "<div>\n<style scoped>\n    .dataframe tbody tr th:only-of-type {\n        vertical-align: middle;\n    }\n\n    .dataframe tbody tr th {\n        vertical-align: top;\n    }\n\n    .dataframe thead th {\n        text-align: right;\n    }\n</style>\n<table border=\"1\" class=\"dataframe\">\n  <thead>\n    <tr style=\"text-align: right;\">\n      <th></th>\n      <th>factor_1</th>\n      <th>factor_2</th>\n      <th>extracted_1</th>\n      <th>extracted_2</th>\n    </tr>\n  </thead>\n  <tbody>\n    <tr>\n      <th>factor_1</th>\n      <td>1.000000</td>\n      <td>0.123391</td>\n      <td>3.024857e-01</td>\n      <td>8.514946e-01</td>\n    </tr>\n    <tr>\n      <th>factor_2</th>\n      <td>0.123391</td>\n      <td>1.000000</td>\n      <td>9.593489e-01</td>\n      <td>-1.728431e-01</td>\n    </tr>\n    <tr>\n      <th>extracted_1</th>\n      <td>0.302486</td>\n      <td>0.959349</td>\n      <td>1.000000e+00</td>\n      <td>1.439787e-14</td>\n    </tr>\n    <tr>\n      <th>extracted_2</th>\n      <td>0.851495</td>\n      <td>-0.172843</td>\n      <td>1.439787e-14</td>\n      <td>1.000000e+00</td>\n    </tr>\n  </tbody>\n</table>\n</div>"
     },
     "execution_count": 5,
     "metadata": {},
     "output_type": "execute_result"
    }
   ],
   "source": [
    "# check the correlation matrix between original and extracted factors\n",
    "factors.corr()"
   ],
   "metadata": {
    "collapsed": false,
    "pycharm": {
     "name": "#%%\n"
    }
   }
  }
 ],
 "metadata": {
  "kernelspec": {
   "display_name": "Python 3",
   "language": "python",
   "name": "python3"
  },
  "language_info": {
   "codemirror_mode": {
    "name": "ipython",
    "version": 2
   },
   "file_extension": ".py",
   "mimetype": "text/x-python",
   "name": "python",
   "nbconvert_exporter": "python",
   "pygments_lexer": "ipython2",
   "version": "2.7.6"
  }
 },
 "nbformat": 4,
 "nbformat_minor": 0
}