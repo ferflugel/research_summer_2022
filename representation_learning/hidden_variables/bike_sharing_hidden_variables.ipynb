{
 "cells": [
  {
   "cell_type": "code",
   "execution_count": 1,
   "outputs": [
    {
     "data": {
      "text/plain": "     instant      dteday  season  yr  mnth  holiday  weekday  workingday  \\\n0          1  2011-01-01       1   0     1        0        6           0   \n1          2  2011-01-02       1   0     1        0        0           0   \n2          3  2011-01-03       1   0     1        0        1           1   \n3          4  2011-01-04       1   0     1        0        2           1   \n4          5  2011-01-05       1   0     1        0        3           1   \n..       ...         ...     ...  ..   ...      ...      ...         ...   \n726      727  2012-12-27       1   1    12        0        4           1   \n727      728  2012-12-28       1   1    12        0        5           1   \n728      729  2012-12-29       1   1    12        0        6           0   \n729      730  2012-12-30       1   1    12        0        0           0   \n730      731  2012-12-31       1   1    12        0        1           1   \n\n     weathersit      temp     atemp       hum  windspeed  casual  registered  \\\n0             2  0.344167  0.363625  0.805833   0.160446     331         654   \n1             2  0.363478  0.353739  0.696087   0.248539     131         670   \n2             1  0.196364  0.189405  0.437273   0.248309     120        1229   \n3             1  0.200000  0.212122  0.590435   0.160296     108        1454   \n4             1  0.226957  0.229270  0.436957   0.186900      82        1518   \n..          ...       ...       ...       ...        ...     ...         ...   \n726           2  0.254167  0.226642  0.652917   0.350133     247        1867   \n727           2  0.253333  0.255046  0.590000   0.155471     644        2451   \n728           2  0.253333  0.242400  0.752917   0.124383     159        1182   \n729           1  0.255833  0.231700  0.483333   0.350754     364        1432   \n730           2  0.215833  0.223487  0.577500   0.154846     439        2290   \n\n      cnt  \n0     985  \n1     801  \n2    1349  \n3    1562  \n4    1600  \n..    ...  \n726  2114  \n727  3095  \n728  1341  \n729  1796  \n730  2729  \n\n[731 rows x 16 columns]",
      "text/html": "<div>\n<style scoped>\n    .dataframe tbody tr th:only-of-type {\n        vertical-align: middle;\n    }\n\n    .dataframe tbody tr th {\n        vertical-align: top;\n    }\n\n    .dataframe thead th {\n        text-align: right;\n    }\n</style>\n<table border=\"1\" class=\"dataframe\">\n  <thead>\n    <tr style=\"text-align: right;\">\n      <th></th>\n      <th>instant</th>\n      <th>dteday</th>\n      <th>season</th>\n      <th>yr</th>\n      <th>mnth</th>\n      <th>holiday</th>\n      <th>weekday</th>\n      <th>workingday</th>\n      <th>weathersit</th>\n      <th>temp</th>\n      <th>atemp</th>\n      <th>hum</th>\n      <th>windspeed</th>\n      <th>casual</th>\n      <th>registered</th>\n      <th>cnt</th>\n    </tr>\n  </thead>\n  <tbody>\n    <tr>\n      <th>0</th>\n      <td>1</td>\n      <td>2011-01-01</td>\n      <td>1</td>\n      <td>0</td>\n      <td>1</td>\n      <td>0</td>\n      <td>6</td>\n      <td>0</td>\n      <td>2</td>\n      <td>0.344167</td>\n      <td>0.363625</td>\n      <td>0.805833</td>\n      <td>0.160446</td>\n      <td>331</td>\n      <td>654</td>\n      <td>985</td>\n    </tr>\n    <tr>\n      <th>1</th>\n      <td>2</td>\n      <td>2011-01-02</td>\n      <td>1</td>\n      <td>0</td>\n      <td>1</td>\n      <td>0</td>\n      <td>0</td>\n      <td>0</td>\n      <td>2</td>\n      <td>0.363478</td>\n      <td>0.353739</td>\n      <td>0.696087</td>\n      <td>0.248539</td>\n      <td>131</td>\n      <td>670</td>\n      <td>801</td>\n    </tr>\n    <tr>\n      <th>2</th>\n      <td>3</td>\n      <td>2011-01-03</td>\n      <td>1</td>\n      <td>0</td>\n      <td>1</td>\n      <td>0</td>\n      <td>1</td>\n      <td>1</td>\n      <td>1</td>\n      <td>0.196364</td>\n      <td>0.189405</td>\n      <td>0.437273</td>\n      <td>0.248309</td>\n      <td>120</td>\n      <td>1229</td>\n      <td>1349</td>\n    </tr>\n    <tr>\n      <th>3</th>\n      <td>4</td>\n      <td>2011-01-04</td>\n      <td>1</td>\n      <td>0</td>\n      <td>1</td>\n      <td>0</td>\n      <td>2</td>\n      <td>1</td>\n      <td>1</td>\n      <td>0.200000</td>\n      <td>0.212122</td>\n      <td>0.590435</td>\n      <td>0.160296</td>\n      <td>108</td>\n      <td>1454</td>\n      <td>1562</td>\n    </tr>\n    <tr>\n      <th>4</th>\n      <td>5</td>\n      <td>2011-01-05</td>\n      <td>1</td>\n      <td>0</td>\n      <td>1</td>\n      <td>0</td>\n      <td>3</td>\n      <td>1</td>\n      <td>1</td>\n      <td>0.226957</td>\n      <td>0.229270</td>\n      <td>0.436957</td>\n      <td>0.186900</td>\n      <td>82</td>\n      <td>1518</td>\n      <td>1600</td>\n    </tr>\n    <tr>\n      <th>...</th>\n      <td>...</td>\n      <td>...</td>\n      <td>...</td>\n      <td>...</td>\n      <td>...</td>\n      <td>...</td>\n      <td>...</td>\n      <td>...</td>\n      <td>...</td>\n      <td>...</td>\n      <td>...</td>\n      <td>...</td>\n      <td>...</td>\n      <td>...</td>\n      <td>...</td>\n      <td>...</td>\n    </tr>\n    <tr>\n      <th>726</th>\n      <td>727</td>\n      <td>2012-12-27</td>\n      <td>1</td>\n      <td>1</td>\n      <td>12</td>\n      <td>0</td>\n      <td>4</td>\n      <td>1</td>\n      <td>2</td>\n      <td>0.254167</td>\n      <td>0.226642</td>\n      <td>0.652917</td>\n      <td>0.350133</td>\n      <td>247</td>\n      <td>1867</td>\n      <td>2114</td>\n    </tr>\n    <tr>\n      <th>727</th>\n      <td>728</td>\n      <td>2012-12-28</td>\n      <td>1</td>\n      <td>1</td>\n      <td>12</td>\n      <td>0</td>\n      <td>5</td>\n      <td>1</td>\n      <td>2</td>\n      <td>0.253333</td>\n      <td>0.255046</td>\n      <td>0.590000</td>\n      <td>0.155471</td>\n      <td>644</td>\n      <td>2451</td>\n      <td>3095</td>\n    </tr>\n    <tr>\n      <th>728</th>\n      <td>729</td>\n      <td>2012-12-29</td>\n      <td>1</td>\n      <td>1</td>\n      <td>12</td>\n      <td>0</td>\n      <td>6</td>\n      <td>0</td>\n      <td>2</td>\n      <td>0.253333</td>\n      <td>0.242400</td>\n      <td>0.752917</td>\n      <td>0.124383</td>\n      <td>159</td>\n      <td>1182</td>\n      <td>1341</td>\n    </tr>\n    <tr>\n      <th>729</th>\n      <td>730</td>\n      <td>2012-12-30</td>\n      <td>1</td>\n      <td>1</td>\n      <td>12</td>\n      <td>0</td>\n      <td>0</td>\n      <td>0</td>\n      <td>1</td>\n      <td>0.255833</td>\n      <td>0.231700</td>\n      <td>0.483333</td>\n      <td>0.350754</td>\n      <td>364</td>\n      <td>1432</td>\n      <td>1796</td>\n    </tr>\n    <tr>\n      <th>730</th>\n      <td>731</td>\n      <td>2012-12-31</td>\n      <td>1</td>\n      <td>1</td>\n      <td>12</td>\n      <td>0</td>\n      <td>1</td>\n      <td>1</td>\n      <td>2</td>\n      <td>0.215833</td>\n      <td>0.223487</td>\n      <td>0.577500</td>\n      <td>0.154846</td>\n      <td>439</td>\n      <td>2290</td>\n      <td>2729</td>\n    </tr>\n  </tbody>\n</table>\n<p>731 rows × 16 columns</p>\n</div>"
     },
     "execution_count": 1,
     "metadata": {},
     "output_type": "execute_result"
    }
   ],
   "source": [
    "import pandas as pd\n",
    "\n",
    "# import data for bike rentals\n",
    "rentals = pd.read_csv('../testing_methods/datasets/bike_sharing/day.csv')\n",
    "\n",
    "# check dataframe\n",
    "rentals"
   ],
   "metadata": {
    "collapsed": false,
    "pycharm": {
     "name": "#%%\n"
    }
   }
  },
  {
   "cell_type": "code",
   "execution_count": 2,
   "outputs": [
    {
     "name": "stdout",
     "output_type": "stream",
     "text": [
      "Train accuracy: 0.801094890510949\n",
      "Test accuracy: 0.7540983606557377\n"
     ]
    }
   ],
   "source": [
    "from sklearn.linear_model import LogisticRegression\n",
    "from sklearn.model_selection import train_test_split\n",
    "\n",
    "# check if we have a good set of hidden variables\n",
    "X = rentals[['temp', 'hum', 'windspeed', 'mnth']]\n",
    "X = pd.get_dummies(X, columns=['mnth'])\n",
    "y = rentals['weathersit']\n",
    "X_train, X_test, y_train, y_test = train_test_split(X, y, test_size=0.25, random_state=99)\n",
    "\n",
    "# classify the data using logistic regression\n",
    "logistic_regression = LogisticRegression(random_state=0).fit(X_train, y_train)\n",
    "print('Train accuracy:', logistic_regression.score(X_train, y_train))\n",
    "print('Test accuracy:', logistic_regression.score(X_test, y_test))"
   ],
   "metadata": {
    "collapsed": false,
    "pycharm": {
     "name": "#%%\n"
    }
   }
  },
  {
   "cell_type": "code",
   "execution_count": 3,
   "outputs": [
    {
     "name": "stdout",
     "output_type": "stream",
     "text": [
      "Train accuracy: 0.6229175819001236\n",
      "Test accuracy: 0.6022196183234219\n"
     ]
    }
   ],
   "source": [
    "from data_generation import get_bikes_data\n",
    "from sklearn.svm import SVR\n",
    "\n",
    "# now that we have data generating functions we can see how our data is structures\n",
    "h, x, y  = get_bikes_data()\n",
    "\n",
    "# see how well can we predict the rentals with the current vectors\n",
    "labels = y['casual']\n",
    "x_train, x_test, y_train, y_test = train_test_split(x, labels, test_size=0.25, random_state=99)\n",
    "svm = SVR().fit(x_train, y_train)\n",
    "print('Train accuracy:', svm.score(x_train, y_train))\n",
    "print('Test accuracy:', svm.score(x_test, y_test))"
   ],
   "metadata": {
    "collapsed": false,
    "pycharm": {
     "name": "#%%\n"
    }
   }
  },
  {
   "cell_type": "code",
   "execution_count": 4,
   "outputs": [
    {
     "data": {
      "text/plain": "<Figure size 432x288 with 1 Axes>",
      "image/png": "[encoded data removed]"
     },
     "metadata": {},
     "output_type": "display_data"
    }
   ],
   "source": [
    "import matplotlib.pyplot as plt\n",
    "import seaborn as sns\n",
    "\n",
    "predicted = svm.predict(x_test).tolist()\n",
    "ground_truth = y_test.tolist()\n",
    "\n",
    "sns.set_style('white')\n",
    "sns.scatterplot(x=ground_truth, y=predicted)\n",
    "\n",
    "plt.show()"
   ],
   "metadata": {
    "collapsed": false,
    "pycharm": {
     "name": "#%%\n"
    }
   }
  }
 ],
 "metadata": {
  "kernelspec": {
   "display_name": "Python 3",
   "language": "python",
   "name": "python3"
  },
  "language_info": {
   "codemirror_mode": {
    "name": "ipython",
    "version": 2
   },
   "file_extension": ".py",
   "mimetype": "text/x-python",
   "name": "python",
   "nbconvert_exporter": "python",
   "pygments_lexer": "ipython2",
   "version": "2.7.6"
  }
 },
 "nbformat": 4,
 "nbformat_minor": 0
}