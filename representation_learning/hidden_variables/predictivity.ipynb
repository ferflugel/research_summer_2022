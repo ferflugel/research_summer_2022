{
 "cells": [
  {
   "cell_type": "code",
   "execution_count": 1,
   "outputs": [
    {
     "data": {
      "text/plain": "        h_1       h_2       x_1       x_2       x_3  y\n0 -0.507907 -0.426783 -0.348796 -0.156770 -0.197266  0\n1  0.208406  0.579240 -0.049915 -0.135873 -0.057563  1\n2 -0.408581  0.486722 -0.734377 -0.359439 -0.515557  1\n3 -0.686362  0.810403 -0.127156  0.049691 -0.722663  1\n4 -0.270678  0.418167 -0.747838 -0.360587 -0.447434  1",
      "text/html": "<div>\n<style scoped>\n    .dataframe tbody tr th:only-of-type {\n        vertical-align: middle;\n    }\n\n    .dataframe tbody tr th {\n        vertical-align: top;\n    }\n\n    .dataframe thead th {\n        text-align: right;\n    }\n</style>\n<table border=\"1\" class=\"dataframe\">\n  <thead>\n    <tr style=\"text-align: right;\">\n      <th></th>\n      <th>h_1</th>\n      <th>h_2</th>\n      <th>x_1</th>\n      <th>x_2</th>\n      <th>x_3</th>\n      <th>y</th>\n    </tr>\n  </thead>\n  <tbody>\n    <tr>\n      <th>0</th>\n      <td>-0.507907</td>\n      <td>-0.426783</td>\n      <td>-0.348796</td>\n      <td>-0.156770</td>\n      <td>-0.197266</td>\n      <td>0</td>\n    </tr>\n    <tr>\n      <th>1</th>\n      <td>0.208406</td>\n      <td>0.579240</td>\n      <td>-0.049915</td>\n      <td>-0.135873</td>\n      <td>-0.057563</td>\n      <td>1</td>\n    </tr>\n    <tr>\n      <th>2</th>\n      <td>-0.408581</td>\n      <td>0.486722</td>\n      <td>-0.734377</td>\n      <td>-0.359439</td>\n      <td>-0.515557</td>\n      <td>1</td>\n    </tr>\n    <tr>\n      <th>3</th>\n      <td>-0.686362</td>\n      <td>0.810403</td>\n      <td>-0.127156</td>\n      <td>0.049691</td>\n      <td>-0.722663</td>\n      <td>1</td>\n    </tr>\n    <tr>\n      <th>4</th>\n      <td>-0.270678</td>\n      <td>0.418167</td>\n      <td>-0.747838</td>\n      <td>-0.360587</td>\n      <td>-0.447434</td>\n      <td>1</td>\n    </tr>\n  </tbody>\n</table>\n</div>"
     },
     "execution_count": 1,
     "metadata": {},
     "output_type": "execute_result"
    }
   ],
   "source": [
    "import pandas as pd\n",
    "\n",
    "# read synthetic data\n",
    "data = pd.read_csv('datasets/real_life_regressor.csv')\n",
    "data.head()"
   ],
   "metadata": {
    "collapsed": false,
    "pycharm": {
     "name": "#%%\n"
    }
   }
  },
  {
   "cell_type": "code",
   "execution_count": 2,
   "outputs": [
    {
     "data": {
      "text/plain": "        h_1       h_2       x_1       x_2       x_3  y        z_1       z_2\n0 -0.507907 -0.426783 -0.348796 -0.156770 -0.197266  0  12.530251  0.000000\n1  0.208406  0.579240 -0.049915 -0.135873 -0.057563  1   9.211573  0.470352\n2 -0.408581  0.486722 -0.734377 -0.359439 -0.515557  1  19.174109  0.000000\n3 -0.686362  0.810403 -0.127156  0.049691 -0.722663  1  14.096041  0.000000\n4 -0.270678  0.418167 -0.747838 -0.360587 -0.447434  1  18.695078  0.000000",
      "text/html": "<div>\n<style scoped>\n    .dataframe tbody tr th:only-of-type {\n        vertical-align: middle;\n    }\n\n    .dataframe tbody tr th {\n        vertical-align: top;\n    }\n\n    .dataframe thead th {\n        text-align: right;\n    }\n</style>\n<table border=\"1\" class=\"dataframe\">\n  <thead>\n    <tr style=\"text-align: right;\">\n      <th></th>\n      <th>h_1</th>\n      <th>h_2</th>\n      <th>x_1</th>\n      <th>x_2</th>\n      <th>x_3</th>\n      <th>y</th>\n      <th>z_1</th>\n      <th>z_2</th>\n    </tr>\n  </thead>\n  <tbody>\n    <tr>\n      <th>0</th>\n      <td>-0.507907</td>\n      <td>-0.426783</td>\n      <td>-0.348796</td>\n      <td>-0.156770</td>\n      <td>-0.197266</td>\n      <td>0</td>\n      <td>12.530251</td>\n      <td>0.000000</td>\n    </tr>\n    <tr>\n      <th>1</th>\n      <td>0.208406</td>\n      <td>0.579240</td>\n      <td>-0.049915</td>\n      <td>-0.135873</td>\n      <td>-0.057563</td>\n      <td>1</td>\n      <td>9.211573</td>\n      <td>0.470352</td>\n    </tr>\n    <tr>\n      <th>2</th>\n      <td>-0.408581</td>\n      <td>0.486722</td>\n      <td>-0.734377</td>\n      <td>-0.359439</td>\n      <td>-0.515557</td>\n      <td>1</td>\n      <td>19.174109</td>\n      <td>0.000000</td>\n    </tr>\n    <tr>\n      <th>3</th>\n      <td>-0.686362</td>\n      <td>0.810403</td>\n      <td>-0.127156</td>\n      <td>0.049691</td>\n      <td>-0.722663</td>\n      <td>1</td>\n      <td>14.096041</td>\n      <td>0.000000</td>\n    </tr>\n    <tr>\n      <th>4</th>\n      <td>-0.270678</td>\n      <td>0.418167</td>\n      <td>-0.747838</td>\n      <td>-0.360587</td>\n      <td>-0.447434</td>\n      <td>1</td>\n      <td>18.695078</td>\n      <td>0.000000</td>\n    </tr>\n  </tbody>\n</table>\n</div>"
     },
     "execution_count": 2,
     "metadata": {},
     "output_type": "execute_result"
    }
   ],
   "source": [
    "from sklearn.decomposition import FactorAnalysis, PCA, FastICA\n",
    "from sklearn.manifold import LocallyLinearEmbedding\n",
    "\n",
    "# use FA to extract features from the variables and create a dataframe for it\n",
    "fa_latent = FactorAnalysis(n_components=2, random_state=0).fit_transform(data[['x_1', 'x_2', 'x_3']])\n",
    "fa_latent = pd.DataFrame(fa_latent, columns=['z_1', 'z_2'])\n",
    "fa_latent = pd.concat([data, fa_latent], axis=1)\n",
    "\n",
    "# use PCA to extract features from the variables and create a dataframe for it\n",
    "pca_latent = PCA(n_components=2, random_state=0).fit_transform(data[['x_1', 'x_2', 'x_3']])\n",
    "pca_latent = pd.DataFrame(pca_latent, columns=['z_1', 'z_2'])\n",
    "pca_latent = pd.concat([data, pca_latent], axis=1)\n",
    "\n",
    "# use ICA to extract features from the variables and create a dataframe for it\n",
    "ica_latent = FastICA(n_components=2, random_state=0).fit_transform(data[['x_1', 'x_2', 'x_3']])\n",
    "ica_latent = pd.DataFrame(ica_latent, columns=['z_1', 'z_2'])\n",
    "ica_latent = pd.concat([data, ica_latent], axis=1)\n",
    "\n",
    "# use LLE to extract features from the variables and create a dataframe for it\n",
    "lle_latent = LocallyLinearEmbedding(n_components=2, random_state=0).fit_transform(data[['x_1', 'x_2', 'x_3']])\n",
    "lle_latent = pd.DataFrame(lle_latent, columns=['z_1', 'z_2'])\n",
    "lle_latent = pd.concat([data, lle_latent], axis=1)\n",
    "\n",
    "# import the latent space created with autoencoder\n",
    "ae_latent = pd.read_csv('datasets/encoded_latent.csv')\n",
    "\n",
    "ae_latent.head()"
   ],
   "metadata": {
    "collapsed": false,
    "pycharm": {
     "name": "#%%\n"
    }
   }
  },
  {
   "cell_type": "code",
   "execution_count": 3,
   "outputs": [],
   "source": [
    "import numpy as np\n",
    "from sklearn.model_selection import train_test_split\n",
    "from sklearn.linear_model import LogisticRegression\n",
    "from sklearn.neighbors import KNeighborsClassifier\n",
    "from sklearn.svm import SVC\n",
    "from sklearn.ensemble import RandomForestClassifier\n",
    "\n",
    "def apply_classifiers(latent):\n",
    "\n",
    "    # create training and testing sets\n",
    "    X, y = np.array(latent[['z_1', 'z_2']]), np.array(latent['y'].tolist())\n",
    "    X_train, X_test, y_train, y_test = train_test_split(X, y, test_size = 0.25, random_state=0)\n",
    "\n",
    "    # using KNNs for classification\n",
    "    knn = KNeighborsClassifier(n_neighbors=20).fit(X_train, y_train)\n",
    "    print(\"KNN test score:\", knn.score(X_test, y_test))\n",
    "    print(\"KNN train score:\", knn.score(X_train, y_train))\n",
    "\n",
    "    # using SVMs for classification\n",
    "    svm = SVC().fit(X_train, y_train)\n",
    "    print(\"SVM test score:\", svm.score(X_test, y_test))\n",
    "    print(\"SVM train score:\", svm.score(X_train, y_train))\n",
    "\n",
    "    # using random forests for classification\n",
    "    rfc = RandomForestClassifier(max_depth=5, random_state=0).fit(X_train, y_train)\n",
    "    print(\"RF test score:\", rfc.score(X_test, y_test))\n",
    "    print(\"RF train score:\", rfc.score(X_train, y_train))\n",
    "\n",
    "    # using logistic regression for classification\n",
    "    lrc = LogisticRegression(random_state=0).fit(X_train, y_train)\n",
    "    print(\"LR test score:\", lrc.score(X_test, y_test))\n",
    "    print(\"LR train score:\", lrc.score(X_train, y_train))"
   ],
   "metadata": {
    "collapsed": false,
    "pycharm": {
     "name": "#%%\n"
    }
   }
  },
  {
   "cell_type": "code",
   "execution_count": 4,
   "outputs": [
    {
     "name": "stdout",
     "output_type": "stream",
     "text": [
      "\n",
      "PCA\n",
      "KNN test score: 0.9\n",
      "KNN train score: 0.9053333333333333\n",
      "SVM test score: 0.868\n",
      "SVM train score: 0.896\n",
      "RF test score: 0.892\n",
      "RF train score: 0.94\n",
      "LR test score: 0.668\n",
      "LR train score: 0.688\n",
      "\n",
      "FA\n",
      "KNN test score: 0.828\n",
      "KNN train score: 0.8893333333333333\n",
      "SVM test score: 0.828\n",
      "SVM train score: 0.8786666666666667\n",
      "RF test score: 0.848\n",
      "RF train score: 0.9066666666666666\n",
      "LR test score: 0.628\n",
      "LR train score: 0.68\n",
      "\n",
      "ICA\n",
      "KNN test score: 0.916\n",
      "KNN train score: 0.936\n",
      "SVM test score: 0.876\n",
      "SVM train score: 0.9\n",
      "RF test score: 0.872\n",
      "RF train score: 0.924\n",
      "LR test score: 0.748\n",
      "LR train score: 0.7813333333333333\n",
      "\n",
      "LLE\n",
      "KNN test score: 0.88\n",
      "KNN train score: 0.9266666666666666\n",
      "SVM test score: 0.852\n",
      "SVM train score: 0.8906666666666667\n",
      "RF test score: 0.912\n",
      "RF train score: 0.9533333333333334\n",
      "LR test score: 0.464\n",
      "LR train score: 0.5106666666666667\n",
      "\n",
      "AE\n",
      "KNN test score: 0.832\n",
      "KNN train score: 0.8653333333333333\n",
      "SVM test score: 0.8\n",
      "SVM train score: 0.8306666666666667\n",
      "RF test score: 0.872\n",
      "RF train score: 0.9053333333333333\n",
      "LR test score: 0.852\n",
      "LR train score: 0.832\n"
     ]
    }
   ],
   "source": [
    "for latent_space, name in zip([pca_latent, fa_latent, ica_latent, lle_latent, ae_latent],\n",
    "                              ['PCA', 'FA', 'ICA', 'LLE', 'AE']):\n",
    "    print(f'\\n{name}')\n",
    "    apply_classifiers(latent_space)"
   ],
   "metadata": {
    "collapsed": false,
    "pycharm": {
     "name": "#%%\n"
    }
   }
  },
  {
   "cell_type": "code",
   "execution_count": 4,
   "outputs": [],
   "source": [],
   "metadata": {
    "collapsed": false,
    "pycharm": {
     "name": "#%%\n"
    }
   }
  }
 ],
 "metadata": {
  "kernelspec": {
   "display_name": "Python 3",
   "language": "python",
   "name": "python3"
  },
  "language_info": {
   "codemirror_mode": {
    "name": "ipython",
    "version": 2
   },
   "file_extension": ".py",
   "mimetype": "text/x-python",
   "name": "python",
   "nbconvert_exporter": "python",
   "pygments_lexer": "ipython2",
   "version": "2.7.6"
  }
 },
 "nbformat": 4,
 "nbformat_minor": 0
}