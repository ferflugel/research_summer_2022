{
 "cells": [
  {
   "cell_type": "code",
   "execution_count": 11,
   "outputs": [
    {
     "data": {
      "text/plain": "(50000, 784)"
     },
     "execution_count": 11,
     "metadata": {},
     "output_type": "execute_result"
    }
   ],
   "source": [
    "import cv2\n",
    "import matplotlib.pyplot as plt\n",
    "import numpy as np\n",
    "import os\n",
    "from sklearn.model_selection import train_test_split\n",
    "\n",
    "# create a dataset of images and flatten them\n",
    "directory = 'generated_data'\n",
    "dataset = np.array([cv2.cvtColor(cv2.imread(f'{directory}/{file}'), cv2.COLOR_BGR2GRAY)\n",
    "                    for file in os.listdir(directory)])\n",
    "dataset = np.reshape(dataset, (dataset.shape[0], 28 * 28))\n",
    "\n",
    "# split our dataset into training and testing\n",
    "train, test = train_test_split(dataset, test_size=0.25, random_state=0)\n",
    "\n",
    "dataset.shape"
   ],
   "metadata": {
    "collapsed": false,
    "pycharm": {
     "name": "#%%\n"
    }
   }
  },
  {
   "cell_type": "code",
   "execution_count": 15,
   "outputs": [
    {
     "data": {
      "text/plain": "<Figure size 1080x432 with 10 Axes>",
      "image/png": "[encoded data removed]"
     },
     "metadata": {},
     "output_type": "display_data"
    }
   ],
   "source": [
    "from sklearn.decomposition import PCA\n",
    "\n",
    "# train a PCA algorithm and apply it to the test data\n",
    "pca = PCA(n_components=50).fit(train)\n",
    "reconstruction = pca.inverse_transform(pca.transform(test))\n",
    "reconstruction = np.reshape(reconstruction, (test.shape[0], 28, 28))\n",
    "original = np.reshape(test, (test.shape[0], 28, 28))\n",
    "\n",
    "# show comparison between reconstruction and originals\n",
    "plt.figure(figsize=(15,6))\n",
    "for i in range(5):\n",
    "    plt.subplot(2,5,i+1)\n",
    "    plt.xticks([])\n",
    "    plt.yticks([])\n",
    "    plt.grid(False)\n",
    "    plt.imshow(original[i], cmap=\"gray\")\n",
    "    plt.xlabel('Original')\n",
    "    plt.subplot(2,5,i+6)\n",
    "    plt.xticks([])\n",
    "    plt.yticks([])\n",
    "    plt.grid(False)\n",
    "    plt.imshow(reconstruction[i], cmap=\"gray\")\n",
    "    plt.xlabel('Reconstruction')\n",
    "\n",
    "plt.savefig('results/pca_reconstruction.png')\n",
    "plt.show()"
   ],
   "metadata": {
    "collapsed": false,
    "pycharm": {
     "name": "#%%\n"
    }
   }
  },
  {
   "cell_type": "code",
   "execution_count": 12,
   "outputs": [],
   "source": [],
   "metadata": {
    "collapsed": false,
    "pycharm": {
     "name": "#%%\n"
    }
   }
  }
 ],
 "metadata": {
  "kernelspec": {
   "display_name": "Python 3",
   "language": "python",
   "name": "python3"
  },
  "language_info": {
   "codemirror_mode": {
    "name": "ipython",
    "version": 2
   },
   "file_extension": ".py",
   "mimetype": "text/x-python",
   "name": "python",
   "nbconvert_exporter": "python",
   "pygments_lexer": "ipython2",
   "version": "2.7.6"
  }
 },
 "nbformat": 4,
 "nbformat_minor": 0
}