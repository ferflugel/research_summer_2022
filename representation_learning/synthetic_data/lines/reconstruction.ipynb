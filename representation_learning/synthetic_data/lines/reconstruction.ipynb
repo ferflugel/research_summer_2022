{
 "cells": [
  {
   "cell_type": "code",
   "execution_count": 1,
   "outputs": [],
   "source": [
    "import cv2\n",
    "import matplotlib.pyplot as plt\n",
    "import numpy as np\n",
    "import os\n",
    "from sklearn.model_selection import train_test_split\n",
    "\n",
    "# create a dataset of images and flatten them\n",
    "directory = 'generated_data'\n",
    "dataset = np.array([cv2.cvtColor(cv2.imread(f'{directory}/{file}'), cv2.COLOR_BGR2GRAY)\n",
    "                    for file in os.listdir(directory)])\n",
    "dataset = np.reshape(dataset, (dataset.shape[0], 28 * 28))\n",
    "\n",
    "# split our dataset into training and testing\n",
    "train, test = train_test_split(dataset, test_size=10000, random_state=0)"
   ],
   "metadata": {
    "collapsed": false,
    "pycharm": {
     "name": "#%%\n"
    }
   }
  },
  {
   "cell_type": "code",
   "execution_count": 2,
   "outputs": [
    {
     "data": {
      "text/plain": "<Figure size 1080x432 with 10 Axes>",
      "image/png": "[encoded data removed]"
     },
     "metadata": {},
     "output_type": "display_data"
    }
   ],
   "source": [
    "from sklearn.decomposition import PCA\n",
    "\n",
    "# train a PCA algorithm and apply it to the test data\n",
    "pca = PCA(n_components=6, svd_solver='full').fit(train/255)\n",
    "reconstruction = pca.inverse_transform(pca.transform(test/255))\n",
    "reconstruction = 255 * np.reshape(reconstruction, (test.shape[0], 28, 28))\n",
    "original = np.reshape(test, (test.shape[0], 28, 28))\n",
    "\n",
    "# show comparison between reconstruction and originals\n",
    "plt.figure(figsize=(15,6))\n",
    "for i in range(5):\n",
    "    plt.subplot(2,5,i+1)\n",
    "    plt.xticks([])\n",
    "    plt.yticks([])\n",
    "    plt.grid(False)\n",
    "    plt.imshow(original[i], cmap=\"gray\")\n",
    "    plt.xlabel('Original')\n",
    "    plt.subplot(2,5,i+6)\n",
    "    plt.xticks([])\n",
    "    plt.yticks([])\n",
    "    plt.grid(False)\n",
    "    plt.imshow(reconstruction[i], cmap=\"gray\")\n",
    "    plt.xlabel('Reconstruction')\n",
    "\n",
    "plt.savefig('results/pca_reconstruction.png')\n",
    "plt.show()"
   ],
   "metadata": {
    "collapsed": false,
    "pycharm": {
     "name": "#%%\n"
    }
   }
  },
  {
   "cell_type": "code",
   "execution_count": 3,
   "outputs": [],
   "source": [
    "from keras import layers\n",
    "from keras.models import Sequential\n",
    "import tensorflow as tf\n",
    "\n",
    "seed = 0\n",
    "np.random.seed(seed)\n",
    "tf.random.set_seed(seed)\n",
    "\n",
    "autoencoder = Sequential(\n",
    "    [\n",
    "        layers.Input(784),\n",
    "        layers.Dense(400, activation='relu'),\n",
    "        layers.Dense(200, activation='relu'),\n",
    "        layers.Dense(100, activation='relu'),\n",
    "        layers.Dense(50, activation='relu'),\n",
    "        layers.Dense(25, activation='relu'),\n",
    "        layers.Dense(6, activation='relu', name='hidden'),\n",
    "        layers.Dense(25, activation='relu'),\n",
    "        layers.Dense(50, activation='relu'),\n",
    "        layers.Dense(100, activation='relu'),\n",
    "        layers.Dense(200, activation='relu'),\n",
    "        layers.Dense(400, activation='relu'),\n",
    "        layers.Dense(784, activation='sigmoid', name='output')\n",
    "    ]\n",
    ")\n",
    "\n",
    "# now we compile the model with the optimizer and loss\n",
    "autoencoder.compile(optimizer='adam', loss='binary_crossentropy')"
   ],
   "metadata": {
    "collapsed": false,
    "pycharm": {
     "name": "#%%\n"
    }
   }
  },
  {
   "cell_type": "code",
   "execution_count": 4,
   "outputs": [
    {
     "data": {
      "text/plain": "<keras.callbacks.History at 0x7faac181fe80>"
     },
     "execution_count": 4,
     "metadata": {},
     "output_type": "execute_result"
    }
   ],
   "source": [
    "# and now we train the autoencoder\n",
    "autoencoder.fit(train/255, train/255,\n",
    "                epochs=75,\n",
    "                batch_size=256,\n",
    "                shuffle=True,\n",
    "                validation_data=(test/255, test/255),\n",
    "                verbose=0)"
   ],
   "metadata": {
    "collapsed": false,
    "pycharm": {
     "name": "#%%\n"
    }
   }
  },
  {
   "cell_type": "code",
   "execution_count": 5,
   "outputs": [
    {
     "data": {
      "text/plain": "<Figure size 1080x432 with 10 Axes>",
      "image/png": "[encoded data removed]"
     },
     "metadata": {},
     "output_type": "display_data"
    }
   ],
   "source": [
    "from keras.models import Model\n",
    "\n",
    "encoder = Model(\n",
    "    inputs=autoencoder.inputs,\n",
    "    outputs=autoencoder.get_layer(name='hidden').output,\n",
    ")\n",
    "\n",
    "decoder = Model(\n",
    "    inputs=autoencoder.get_layer(name='hidden').output,\n",
    "    outputs=autoencoder.get_layer(name='output').output,\n",
    ")\n",
    "\n",
    "\n",
    "# for the test set, we now encode and decode some images\n",
    "encoded_imgs = encoder.predict(test/255)\n",
    "decoded_imgs = 255 * np.reshape(decoder.predict(encoded_imgs), (test.shape[0], 28, 28))\n",
    "\n",
    "# show comparison between reconstruction and originals\n",
    "plt.figure(figsize=(15,6))\n",
    "for i in range(5):\n",
    "    plt.subplot(2,5,i+1)\n",
    "    plt.xticks([])\n",
    "    plt.yticks([])\n",
    "    plt.grid(False)\n",
    "    plt.imshow(original[i], cmap=\"gray\")\n",
    "    plt.xlabel('Original')\n",
    "    plt.subplot(2,5,i+6)\n",
    "    plt.xticks([])\n",
    "    plt.yticks([])\n",
    "    plt.grid(False)\n",
    "    plt.imshow(decoded_imgs[i], cmap=\"gray\")\n",
    "    plt.xlabel('Reconstruction')\n",
    "\n",
    "plt.savefig('results/autoencoder_reconstruction.png')\n",
    "plt.show()"
   ],
   "metadata": {
    "collapsed": false,
    "pycharm": {
     "name": "#%%\n"
    }
   }
  },
  {
   "cell_type": "code",
   "execution_count": 5,
   "outputs": [],
   "source": [],
   "metadata": {
    "collapsed": false,
    "pycharm": {
     "name": "#%%\n"
    }
   }
  }
 ],
 "metadata": {
  "kernelspec": {
   "display_name": "Python 3",
   "language": "python",
   "name": "python3"
  },
  "language_info": {
   "codemirror_mode": {
    "name": "ipython",
    "version": 2
   },
   "file_extension": ".py",
   "mimetype": "text/x-python",
   "name": "python",
   "nbconvert_exporter": "python",
   "pygments_lexer": "ipython2",
   "version": "2.7.6"
  }
 },
 "nbformat": 4,
 "nbformat_minor": 0
}