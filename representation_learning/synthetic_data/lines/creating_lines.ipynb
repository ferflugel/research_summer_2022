{
 "cells": [
  {
   "cell_type": "code",
   "execution_count": 2,
   "outputs": [],
   "source": [
    "from PIL import Image\n",
    "import cv2\n",
    "import numpy as np\n",
    "from matplotlib import pyplot as plt\n",
    "import os\n",
    "\n",
    "allowed_range = range(2, 27)    # allowed range for coordinates\n",
    "images_count = 50000            # number of images being generated\n",
    "\n",
    "def clean_directory():\n",
    "    directory = 'generated_data'\n",
    "    for file in os.listdir(directory):\n",
    "        os.remove(os.path.join(directory, file))\n",
    "\n",
    "def create_empty_image(file_name):\n",
    "    img = Image.new('RGB', (28, 28), color='black')\n",
    "    img.save(file_name)\n",
    "\n",
    "def draw_curve(x, y, file_name):\n",
    "    points = np.array([[x_coord, y_coord] for x_coord, y_coord in zip(x, y)], dtype='int32')\n",
    "    image = cv2.imread(file_name)\n",
    "    cv2.polylines(image, [points], False, (255,255,255), thickness=2)\n",
    "    plt.imsave(file_name, image)\n",
    "\n",
    "clean_directory()\n",
    "\n",
    "for i in range(images_count):\n",
    "    np.random.seed(i)\n",
    "    x_values, y_values = np.random.choice(allowed_range, 3), \\\n",
    "                         np.random.choice(allowed_range, 3)\n",
    "    file_path = f'generated_data/test_image_{i}.png'\n",
    "    create_empty_image(file_path)\n",
    "    draw_curve(x_values, y_values, file_path)"
   ],
   "metadata": {
    "collapsed": false,
    "pycharm": {
     "name": "#%%\n"
    }
   }
  }
 ],
 "metadata": {
  "kernelspec": {
   "display_name": "Python 3",
   "language": "python",
   "name": "python3"
  },
  "language_info": {
   "codemirror_mode": {
    "name": "ipython",
    "version": 2
   },
   "file_extension": ".py",
   "mimetype": "text/x-python",
   "name": "python",
   "nbconvert_exporter": "python",
   "pygments_lexer": "ipython2",
   "version": "2.7.6"
  }
 },
 "nbformat": 4,
 "nbformat_minor": 0
}